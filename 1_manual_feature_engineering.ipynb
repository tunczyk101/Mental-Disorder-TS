{
 "cells": [
  {
   "cell_type": "markdown",
   "id": "dcce144dfe08150a",
   "metadata": {},
   "source": [
    "# Manual feature extraction"
   ]
  },
  {
   "cell_type": "markdown",
   "id": "320837f7",
   "metadata": {},
   "source": [
    "# Imports"
   ]
  },
  {
   "cell_type": "code",
   "execution_count": 1,
   "id": "18e18bae",
   "metadata": {
    "ExecuteTime": {
     "end_time": "2025-01-16T22:33:15.411224Z",
     "start_time": "2025-01-16T22:33:09.723463Z"
    }
   },
   "outputs": [],
   "source": [
    "import os\n",
    "import warnings\n",
    "\n",
    "from attr.validators import instance_of\n",
    "from lightgbm import LGBMClassifier\n",
    "warnings.filterwarnings('ignore')\n",
    "import numpy as np\n",
    "import pandas as pd\n",
    "from sklearn.ensemble import RandomForestClassifier\n",
    "from sklearn.linear_model import LogisticRegression\n",
    "from sklearn.model_selection import GridSearchCV, LeaveOneOut, StratifiedKFold\n",
    "from sklearn.svm import SVC\n",
    "import lightgbm as lgb\n",
    "from utils import variance_thresholding, standardize, calculate_metrics, calculate_metrics_statistics"
   ]
  },
  {
   "cell_type": "code",
   "execution_count": 2,
   "id": "504fa4ab5ac21811",
   "metadata": {
    "ExecuteTime": {
     "end_time": "2025-01-16T22:33:15.736651Z",
     "start_time": "2025-01-16T22:33:15.417994Z"
    }
   },
   "outputs": [],
   "source": [
    "import optuna\n",
    "\n",
    "optuna.logging.set_verbosity(optuna.logging.WARNING)"
   ]
  },
  {
   "cell_type": "code",
   "execution_count": 12,
   "id": "b84c8514",
   "metadata": {
    "ExecuteTime": {
     "end_time": "2025-01-16T22:33:16.437172Z",
     "start_time": "2025-01-16T22:33:16.345516Z"
    }
   },
   "outputs": [],
   "source": [
    "# parameters for Welch's method for estimating power spectrum\n",
    "\n",
    "NPERSEG = 60                    # length of segment\n",
    "NOVERLAP = int(0.75 * NPERSEG)  # overlap of segments\n",
    "NFFT = NPERSEG                  # length of FFT\n",
    "WINDOW = \"hann\"                 # window function type\n",
    "\n",
    "# parameters for saving data\n",
    "PROCESSED_DATA_DIR = \"processed_data\"\n",
    "DEPRESJON_PREFIX = \"manual_depresjon\"\n",
    "PSYKOSE_PREFIX = \"manual_psykose\"\n",
    "HYPERAKTIV_PREFIX = \"manual_hyperaktiv\"\n",
    "MAIN_RESULTS_DIR = \"results\"\n",
    "\n",
    "DAY_NIGHT_HOURS = (6, 22) # (6, 22) / (8, 21)\n",
    "day_night_format = f'{DAY_NIGHT_HOURS[0]}_{DAY_NIGHT_HOURS[1]}' # \"6, 22\" / \"8, 21\""
   ]
  },
  {
   "cell_type": "markdown",
   "id": "44ef0d95",
   "metadata": {},
   "source": []
  },
  {
   "cell_type": "markdown",
   "id": "e195102c",
   "metadata": {},
   "source": [
    "# Classification"
   ]
  },
  {
   "cell_type": "markdown",
   "id": "43ff79d6",
   "metadata": {},
   "source": [
    "## Classifiers, parameters, constants"
   ]
  },
  {
   "cell_type": "code",
   "execution_count": 13,
   "id": "00c0242a",
   "metadata": {
    "ExecuteTime": {
     "end_time": "2025-01-16T22:33:16.561623Z",
     "start_time": "2025-01-16T22:33:16.529733Z"
    }
   },
   "outputs": [],
   "source": [
    "classifiers = {\n",
    "    \"GBM\": LGBMClassifier(\n",
    "    objective='binary',\n",
    "    metric=['auc', 'binary_logloss'],\n",
    "    force_col_wise=True,\n",
    "    verbosity=-1\n",
    "    ),\n",
    "    \"LR\": LogisticRegression(\n",
    "        penalty=\"elasticnet\",\n",
    "        random_state=0,\n",
    "        solver=\"saga\",\n",
    "        max_iter=5000\n",
    "    ),\n",
    "    \"SVM\": SVC(\n",
    "        kernel=\"poly\",\n",
    "        cache_size=512,\n",
    "        max_iter=5000\n",
    "    ),\n",
    "    \"RF\": RandomForestClassifier(\n",
    "        n_estimators=500,\n",
    "        criterion=\"entropy\"\n",
    "    )\n",
    "}\n",
    "\n",
    "\n",
    "param_grids = {\n",
    "    \"GBM\":{\n",
    "    'num_leaves': [25, 50, 100, 250, 500],\n",
    "    'max_depth': [5, 10, 15, 20, 25],\n",
    "    'learning_rate': [0.01, 0.05, 0.1, 0.15, 0.2, 0.25],\n",
    "    'reg_alpha': [0, 0.1, 0.2, 0.3],\n",
    "    },\n",
    "    \"LR\": {\n",
    "        \"C\": [0.001, 0.01, 0.1, 0.5, 1, 2, 5, 10, 25, 50, 100, 500, 1000],\n",
    "        \"class_weight\": [None, \"balanced\"],\n",
    "        \"l1_ratio\": [0, 0.05, 0.1, 0.15, 0.2, 0.25, 0.3, 0.35, 0.4, 0.45, 0.5,\n",
    "                     0.55, 0.6, 0.65, 0.7, 0.75, 0.8, 0.85, 0.9, 0.95, 1]\n",
    "    },\n",
    "    \"SVM\": {\n",
    "        \"C\": np.logspace(10e-3, 10e3, num=50),\n",
    "        \"gamma\": np.logspace(10e-3, 10e3, num=50),\n",
    "        \"class_weight\": [None, \"balanced\"]\n",
    "    },\n",
    "    \"RF\": {\n",
    "        \"class_weight\": [None, \"balanced\", \"balanced_subsample\"]\n",
    "    }\n",
    "}"
   ]
  },
  {
   "cell_type": "markdown",
   "id": "44383487",
   "metadata": {},
   "source": [
    "## Hyperaktiv Classification"
   ]
  },
  {
   "cell_type": "code",
   "execution_count": 14,
   "id": "299853bc",
   "metadata": {
    "ExecuteTime": {
     "end_time": "2025-01-16T22:33:17.725259Z",
     "start_time": "2025-01-16T22:33:17.712498Z"
    }
   },
   "outputs": [],
   "source": [
    "dataset = HYPERAKTIV_PREFIX\n",
    "y_filename = f\"hyperaktiv_{day_night_format}_y.csv\""
   ]
  },
  {
   "cell_type": "code",
   "execution_count": 15,
   "id": "518e18e7",
   "metadata": {
    "ExecuteTime": {
     "end_time": "2025-01-16T22:33:20.345172Z",
     "start_time": "2025-01-16T22:33:20.303913Z"
    }
   },
   "outputs": [],
   "source": [
    "datasets = {}\n",
    "\n",
    "for part in [\"full_24h\", \"night\", \"day\"]:\n",
    "    filename = f\"{dataset}_{day_night_format}_{part}.csv\"\n",
    "    filepath = os.path.join(PROCESSED_DATA_DIR, filename)\n",
    "    datasets[part] = pd.read_csv(filepath, header=0).values\n",
    "\n",
    "y = pd.read_csv(os.path.join(PROCESSED_DATA_DIR, y_filename), header=None, dtype=int)\n",
    "y = y.values.ravel()"
   ]
  },
  {
   "cell_type": "code",
   "execution_count": 16,
   "id": "eb6e1ec0",
   "metadata": {
    "ExecuteTime": {
     "start_time": "2025-01-16T22:33:41.913508Z"
    },
    "jupyter": {
     "is_executing": true
    }
   },
   "outputs": [
    {
     "name": "stdout",
     "output_type": "stream",
     "text": [
      "PART: full_24h\n",
      "  GBM\n"
     ]
    },
    {
     "name": "stderr",
     "output_type": "stream",
     "text": [
      "feature_fraction, val_score: inf:   0%|          | 0/7 [00:00<?, ?it/s]"
     ]
    },
    {
     "name": "stdout",
     "output_type": "stream",
     "text": [
      "Training until validation scores don't improve for 100 rounds\n",
      "[100]\tcv_agg's valid binary_logloss: 0.933634 + 0.358021\n",
      "Early stopping, best iteration is:\n",
      "[1]\tcv_agg's valid binary_logloss: 0.933634 + 0.358021\n"
     ]
    },
    {
     "name": "stderr",
     "output_type": "stream",
     "text": [
      "feature_fraction, val_score: 0.933634:  29%|##8       | 2/7 [00:00<00:00,  8.56it/s]"
     ]
    },
    {
     "name": "stdout",
     "output_type": "stream",
     "text": [
      "Training until validation scores don't improve for 100 rounds\n",
      "[100]\tcv_agg's valid binary_logloss: 0.933634 + 0.358021\n",
      "Early stopping, best iteration is:\n",
      "[1]\tcv_agg's valid binary_logloss: 0.933634 + 0.358021\n",
      "Training until validation scores don't improve for 100 rounds\n",
      "[100]\tcv_agg's valid binary_logloss: 0.933634 + 0.358021\n",
      "Early stopping, best iteration is:\n",
      "[1]\tcv_agg's valid binary_logloss: 0.933634 + 0.358021\n"
     ]
    },
    {
     "name": "stderr",
     "output_type": "stream",
     "text": [
      "feature_fraction, val_score: 0.933634:  57%|#####7    | 4/7 [00:00<00:00, 11.99it/s]"
     ]
    },
    {
     "name": "stdout",
     "output_type": "stream",
     "text": [
      "Training until validation scores don't improve for 100 rounds\n",
      "[100]\tcv_agg's valid binary_logloss: 0.933634 + 0.358021\n",
      "Early stopping, best iteration is:\n",
      "[1]\tcv_agg's valid binary_logloss: 0.933634 + 0.358021\n",
      "Training until validation scores don't improve for 100 rounds\n",
      "[100]\tcv_agg's valid binary_logloss: 0.933634 + 0.358021\n",
      "Early stopping, best iteration is:\n",
      "[1]\tcv_agg's valid binary_logloss: 0.933634 + 0.358021\n"
     ]
    },
    {
     "name": "stderr",
     "output_type": "stream",
     "text": [
      "feature_fraction, val_score: 0.933634: 100%|##########| 7/7 [00:00<00:00, 15.25it/s]"
     ]
    },
    {
     "name": "stdout",
     "output_type": "stream",
     "text": [
      "Training until validation scores don't improve for 100 rounds\n",
      "[100]\tcv_agg's valid binary_logloss: 0.933634 + 0.358021\n",
      "Early stopping, best iteration is:\n",
      "[1]\tcv_agg's valid binary_logloss: 0.933634 + 0.358021\n",
      "Training until validation scores don't improve for 100 rounds\n",
      "[100]\tcv_agg's valid binary_logloss: 0.933634 + 0.358021\n",
      "Early stopping, best iteration is:\n",
      "[1]\tcv_agg's valid binary_logloss: 0.933634 + 0.358021\n"
     ]
    },
    {
     "name": "stderr",
     "output_type": "stream",
     "text": [
      "\n",
      "num_leaves, val_score: 0.933634:   5%|5         | 1/20 [00:00<00:01, 13.56it/s]"
     ]
    },
    {
     "name": "stdout",
     "output_type": "stream",
     "text": [
      "Training until validation scores don't improve for 100 rounds\n",
      "[100]\tcv_agg's valid binary_logloss: 0.933634 + 0.358021\n",
      "Early stopping, best iteration is:\n",
      "[1]\tcv_agg's valid binary_logloss: 0.933634 + 0.358021\n",
      "Training until validation scores don't improve for 100 rounds\n"
     ]
    },
    {
     "name": "stderr",
     "output_type": "stream",
     "text": [
      "num_leaves, val_score: 0.933634:  15%|#5        | 3/20 [00:00<00:01, 14.54it/s]"
     ]
    },
    {
     "name": "stdout",
     "output_type": "stream",
     "text": [
      "[100]\tcv_agg's valid binary_logloss: 0.933634 + 0.358021\n",
      "Early stopping, best iteration is:\n",
      "[1]\tcv_agg's valid binary_logloss: 0.933634 + 0.358021\n",
      "Training until validation scores don't improve for 100 rounds\n",
      "[100]\tcv_agg's valid binary_logloss: 0.933634 + 0.358021\n",
      "Early stopping, best iteration is:\n",
      "[1]\tcv_agg's valid binary_logloss: 0.933634 + 0.358021\n",
      "Training until validation scores don't improve for 100 rounds\n"
     ]
    },
    {
     "name": "stderr",
     "output_type": "stream",
     "text": [
      "num_leaves, val_score: 0.933634:  20%|##        | 4/20 [00:00<00:01, 14.73it/s]"
     ]
    },
    {
     "name": "stdout",
     "output_type": "stream",
     "text": [
      "[100]\tcv_agg's valid binary_logloss: 0.933634 + 0.358021\n",
      "Early stopping, best iteration is:\n",
      "[1]\tcv_agg's valid binary_logloss: 0.933634 + 0.358021\n",
      "Training until validation scores don't improve for 100 rounds\n"
     ]
    },
    {
     "name": "stderr",
     "output_type": "stream",
     "text": [
      "num_leaves, val_score: 0.933634:  30%|###       | 6/20 [00:00<00:00, 14.45it/s]"
     ]
    },
    {
     "name": "stdout",
     "output_type": "stream",
     "text": [
      "[100]\tcv_agg's valid binary_logloss: 0.933634 + 0.358021\n",
      "Early stopping, best iteration is:\n",
      "[1]\tcv_agg's valid binary_logloss: 0.933634 + 0.358021\n",
      "Training until validation scores don't improve for 100 rounds\n",
      "[100]\tcv_agg's valid binary_logloss: 0.933634 + 0.358021\n",
      "Early stopping, best iteration is:\n",
      "[1]\tcv_agg's valid binary_logloss: 0.933634 + 0.358021\n",
      "Training until validation scores don't improve for 100 rounds\n"
     ]
    },
    {
     "name": "stderr",
     "output_type": "stream",
     "text": [
      "num_leaves, val_score: 0.933634:  35%|###5      | 7/20 [00:00<00:00, 14.45it/s]"
     ]
    },
    {
     "name": "stdout",
     "output_type": "stream",
     "text": [
      "[100]\tcv_agg's valid binary_logloss: 0.933634 + 0.358021\n",
      "Early stopping, best iteration is:\n",
      "[1]\tcv_agg's valid binary_logloss: 0.933634 + 0.358021\n",
      "Training until validation scores don't improve for 100 rounds\n",
      "[100]\tcv_agg's valid binary_logloss: 0.933634 + 0.358021\n",
      "Early stopping, best iteration is:\n",
      "[1]\tcv_agg's valid binary_logloss: 0.933634 + 0.358021\n"
     ]
    },
    {
     "name": "stderr",
     "output_type": "stream",
     "text": [
      "num_leaves, val_score: 0.933634:  45%|####5     | 9/20 [00:00<00:00, 14.51it/s]"
     ]
    },
    {
     "name": "stdout",
     "output_type": "stream",
     "text": [
      "Training until validation scores don't improve for 100 rounds\n",
      "[100]\tcv_agg's valid binary_logloss: 0.933634 + 0.358021\n",
      "Early stopping, best iteration is:\n",
      "[1]\tcv_agg's valid binary_logloss: 0.933634 + 0.358021\n",
      "Training until validation scores don't improve for 100 rounds\n",
      "[100]\tcv_agg's valid binary_logloss: 0.933634 + 0.358021\n",
      "Early stopping, best iteration is:\n",
      "[1]\tcv_agg's valid binary_logloss: 0.933634 + 0.358021\n"
     ]
    },
    {
     "name": "stderr",
     "output_type": "stream",
     "text": [
      "num_leaves, val_score: 0.933634:  55%|#####5    | 11/20 [00:00<00:00, 15.38it/s]"
     ]
    },
    {
     "name": "stdout",
     "output_type": "stream",
     "text": [
      "Training until validation scores don't improve for 100 rounds\n",
      "[100]\tcv_agg's valid binary_logloss: 0.933634 + 0.358021\n",
      "Early stopping, best iteration is:\n",
      "[1]\tcv_agg's valid binary_logloss: 0.933634 + 0.358021\n",
      "Training until validation scores don't improve for 100 rounds\n"
     ]
    },
    {
     "name": "stderr",
     "output_type": "stream",
     "text": [
      "num_leaves, val_score: 0.933634:  60%|######    | 12/20 [00:00<00:00, 14.21it/s]"
     ]
    },
    {
     "name": "stdout",
     "output_type": "stream",
     "text": [
      "[100]\tcv_agg's valid binary_logloss: 0.933634 + 0.358021\n",
      "Early stopping, best iteration is:\n",
      "[1]\tcv_agg's valid binary_logloss: 0.933634 + 0.358021\n",
      "Training until validation scores don't improve for 100 rounds\n"
     ]
    },
    {
     "name": "stderr",
     "output_type": "stream",
     "text": [
      "num_leaves, val_score: 0.933634:  70%|#######   | 14/20 [00:01<00:00, 14.44it/s]"
     ]
    },
    {
     "name": "stdout",
     "output_type": "stream",
     "text": [
      "[100]\tcv_agg's valid binary_logloss: 0.933634 + 0.358021\n",
      "Early stopping, best iteration is:\n",
      "[1]\tcv_agg's valid binary_logloss: 0.933634 + 0.358021\n",
      "Training until validation scores don't improve for 100 rounds\n",
      "[100]\tcv_agg's valid binary_logloss: 0.933634 + 0.358021\n",
      "Early stopping, best iteration is:\n",
      "[1]\tcv_agg's valid binary_logloss: 0.933634 + 0.358021\n",
      "Training until validation scores don't improve for 100 rounds\n",
      "[100]\tcv_agg's valid binary_logloss: 0.933634 + 0.358021\n",
      "Early stopping, best iteration is:\n",
      "[1]\tcv_agg's valid binary_logloss: 0.933634 + 0.358021\n"
     ]
    },
    {
     "name": "stderr",
     "output_type": "stream",
     "text": [
      "num_leaves, val_score: 0.933634:  75%|#######5  | 15/20 [00:01<00:00, 14.44it/s]"
     ]
    },
    {
     "name": "stdout",
     "output_type": "stream",
     "text": [
      "Training until validation scores don't improve for 100 rounds\n"
     ]
    },
    {
     "name": "stderr",
     "output_type": "stream",
     "text": [
      "num_leaves, val_score: 0.933634:  85%|########5 | 17/20 [00:01<00:00, 13.94it/s]"
     ]
    },
    {
     "name": "stdout",
     "output_type": "stream",
     "text": [
      "[100]\tcv_agg's valid binary_logloss: 0.933634 + 0.358021\n",
      "Early stopping, best iteration is:\n",
      "[1]\tcv_agg's valid binary_logloss: 0.933634 + 0.358021\n",
      "Training until validation scores don't improve for 100 rounds\n",
      "[100]\tcv_agg's valid binary_logloss: 0.933634 + 0.358021\n",
      "Early stopping, best iteration is:\n",
      "[1]\tcv_agg's valid binary_logloss: 0.933634 + 0.358021\n",
      "Training until validation scores don't improve for 100 rounds\n",
      "[100]\tcv_agg's valid binary_logloss: 0.933634 + 0.358021\n",
      "Early stopping, best iteration is:\n",
      "[1]\tcv_agg's valid binary_logloss: 0.933634 + 0.358021\n"
     ]
    },
    {
     "name": "stderr",
     "output_type": "stream",
     "text": [
      "num_leaves, val_score: 0.933634:  95%|#########5| 19/20 [00:01<00:00, 14.89it/s]"
     ]
    },
    {
     "name": "stdout",
     "output_type": "stream",
     "text": [
      "Training until validation scores don't improve for 100 rounds\n",
      "[100]\tcv_agg's valid binary_logloss: 0.933634 + 0.358021\n",
      "Early stopping, best iteration is:\n",
      "[1]\tcv_agg's valid binary_logloss: 0.933634 + 0.358021\n",
      "Training until validation scores don't improve for 100 rounds\n"
     ]
    },
    {
     "name": "stderr",
     "output_type": "stream",
     "text": [
      "num_leaves, val_score: 0.933634: 100%|##########| 20/20 [00:01<00:00, 14.85it/s]\n"
     ]
    },
    {
     "name": "stdout",
     "output_type": "stream",
     "text": [
      "[100]\tcv_agg's valid binary_logloss: 0.933634 + 0.358021\n",
      "Early stopping, best iteration is:\n",
      "[1]\tcv_agg's valid binary_logloss: 0.933634 + 0.358021\n"
     ]
    },
    {
     "name": "stderr",
     "output_type": "stream",
     "text": [
      "bagging, val_score: 0.933634:  10%|#         | 1/10 [00:00<00:00, 13.47it/s]"
     ]
    },
    {
     "name": "stdout",
     "output_type": "stream",
     "text": [
      "Training until validation scores don't improve for 100 rounds\n",
      "[100]\tcv_agg's valid binary_logloss: 0.933634 + 0.358021\n",
      "Early stopping, best iteration is:\n",
      "[1]\tcv_agg's valid binary_logloss: 0.933634 + 0.358021\n"
     ]
    },
    {
     "name": "stderr",
     "output_type": "stream",
     "text": [
      "bagging, val_score: 0.933634:  20%|##        | 2/10 [00:00<00:00, 13.91it/s]"
     ]
    },
    {
     "name": "stdout",
     "output_type": "stream",
     "text": [
      "Training until validation scores don't improve for 100 rounds\n",
      "[100]\tcv_agg's valid binary_logloss: 0.933634 + 0.358021\n",
      "Early stopping, best iteration is:\n",
      "[1]\tcv_agg's valid binary_logloss: 0.933634 + 0.358021\n",
      "Training until validation scores don't improve for 100 rounds\n",
      "[100]\tcv_agg's valid binary_logloss: 0.933634 + 0.358021\n",
      "Early stopping, best iteration is:\n",
      "[1]\tcv_agg's valid binary_logloss: 0.933634 + 0.358021\n"
     ]
    },
    {
     "name": "stderr",
     "output_type": "stream",
     "text": [
      "bagging, val_score: 0.933634:  30%|###       | 3/10 [00:00<00:00, 13.91it/s]"
     ]
    },
    {
     "name": "stdout",
     "output_type": "stream",
     "text": [
      "Training until validation scores don't improve for 100 rounds\n",
      "[100]\tcv_agg's valid binary_logloss: 0.933634 + 0.358021\n",
      "Early stopping, best iteration is:\n",
      "[1]\tcv_agg's valid binary_logloss: 0.933634 + 0.358021\n"
     ]
    },
    {
     "name": "stderr",
     "output_type": "stream",
     "text": [
      "bagging, val_score: 0.933634:  60%|######    | 6/10 [00:00<00:00, 14.93it/s]"
     ]
    },
    {
     "name": "stdout",
     "output_type": "stream",
     "text": [
      "Training until validation scores don't improve for 100 rounds\n",
      "[100]\tcv_agg's valid binary_logloss: 0.933634 + 0.358021\n",
      "Early stopping, best iteration is:\n",
      "[1]\tcv_agg's valid binary_logloss: 0.933634 + 0.358021\n",
      "Training until validation scores don't improve for 100 rounds\n",
      "[100]\tcv_agg's valid binary_logloss: 0.933634 + 0.358021\n",
      "Early stopping, best iteration is:\n",
      "[1]\tcv_agg's valid binary_logloss: 0.933634 + 0.358021\n"
     ]
    },
    {
     "name": "stderr",
     "output_type": "stream",
     "text": [
      "bagging, val_score: 0.933634:  70%|#######   | 7/10 [00:00<00:00, 14.93it/s]"
     ]
    },
    {
     "name": "stdout",
     "output_type": "stream",
     "text": [
      "Training until validation scores don't improve for 100 rounds\n",
      "[100]\tcv_agg's valid binary_logloss: 0.933634 + 0.358021\n",
      "Early stopping, best iteration is:\n",
      "[1]\tcv_agg's valid binary_logloss: 0.933634 + 0.358021\n",
      "Training until validation scores don't improve for 100 rounds\n"
     ]
    },
    {
     "name": "stderr",
     "output_type": "stream",
     "text": [
      "bagging, val_score: 0.933634:  80%|########  | 8/10 [00:00<00:00, 14.65it/s]"
     ]
    },
    {
     "name": "stdout",
     "output_type": "stream",
     "text": [
      "[100]\tcv_agg's valid binary_logloss: 0.933634 + 0.358021\n",
      "Early stopping, best iteration is:\n",
      "[1]\tcv_agg's valid binary_logloss: 0.933634 + 0.358021\n",
      "Training until validation scores don't improve for 100 rounds\n",
      "[100]\tcv_agg's valid binary_logloss: 0.933634 + 0.358021\n",
      "Early stopping, best iteration is:\n",
      "[1]\tcv_agg's valid binary_logloss: 0.933634 + 0.358021\n"
     ]
    },
    {
     "name": "stderr",
     "output_type": "stream",
     "text": [
      "bagging, val_score: 0.933634: 100%|##########| 10/10 [00:00<00:00, 14.41it/s]\n"
     ]
    },
    {
     "name": "stdout",
     "output_type": "stream",
     "text": [
      "Training until validation scores don't improve for 100 rounds\n",
      "[100]\tcv_agg's valid binary_logloss: 0.933634 + 0.358021\n",
      "Early stopping, best iteration is:\n",
      "[1]\tcv_agg's valid binary_logloss: 0.933634 + 0.358021\n"
     ]
    },
    {
     "name": "stderr",
     "output_type": "stream",
     "text": [
      "feature_fraction_stage2, val_score: 0.933634:   0%|          | 0/3 [00:00<?, ?it/s]"
     ]
    },
    {
     "name": "stdout",
     "output_type": "stream",
     "text": [
      "Training until validation scores don't improve for 100 rounds\n",
      "[100]\tcv_agg's valid binary_logloss: 0.933634 + 0.358021\n",
      "Early stopping, best iteration is:\n",
      "[1]\tcv_agg's valid binary_logloss: 0.933634 + 0.358021\n"
     ]
    },
    {
     "name": "stderr",
     "output_type": "stream",
     "text": [
      "feature_fraction_stage2, val_score: 0.933634:  67%|######6   | 2/3 [00:00<00:00, 19.89it/s]"
     ]
    },
    {
     "name": "stdout",
     "output_type": "stream",
     "text": [
      "Training until validation scores don't improve for 100 rounds\n",
      "[100]\tcv_agg's valid binary_logloss: 0.933634 + 0.358021\n",
      "Early stopping, best iteration is:\n",
      "[1]\tcv_agg's valid binary_logloss: 0.933634 + 0.358021\n",
      "Training until validation scores don't improve for 100 rounds\n",
      "[100]\tcv_agg's valid binary_logloss: 0.933634 + 0.358021\n",
      "Early stopping, best iteration is:\n",
      "[1]\tcv_agg's valid binary_logloss: 0.933634 + 0.358021\n"
     ]
    },
    {
     "name": "stderr",
     "output_type": "stream",
     "text": [
      "feature_fraction_stage2, val_score: 0.933634: 100%|##########| 3/3 [00:00<00:00, 20.11it/s]\n",
      "regularization_factors, val_score: 0.933634:   0%|          | 0/20 [00:00<?, ?it/s]"
     ]
    },
    {
     "name": "stdout",
     "output_type": "stream",
     "text": [
      "Training until validation scores don't improve for 100 rounds\n",
      "[100]\tcv_agg's valid binary_logloss: 0.933634 + 0.358021\n",
      "Early stopping, best iteration is:\n",
      "[1]\tcv_agg's valid binary_logloss: 0.933634 + 0.358021\n"
     ]
    },
    {
     "name": "stderr",
     "output_type": "stream",
     "text": [
      "regularization_factors, val_score: 0.933634:   5%|5         | 1/20 [00:00<00:01, 15.31it/s]"
     ]
    },
    {
     "name": "stdout",
     "output_type": "stream",
     "text": [
      "Training until validation scores don't improve for 100 rounds\n",
      "[100]\tcv_agg's valid binary_logloss: 0.933634 + 0.358021\n",
      "Early stopping, best iteration is:\n",
      "[1]\tcv_agg's valid binary_logloss: 0.933634 + 0.358021\n"
     ]
    },
    {
     "name": "stderr",
     "output_type": "stream",
     "text": [
      "regularization_factors, val_score: 0.933634:  15%|#5        | 3/20 [00:00<00:01, 16.70it/s]"
     ]
    },
    {
     "name": "stdout",
     "output_type": "stream",
     "text": [
      "Training until validation scores don't improve for 100 rounds\n",
      "[100]\tcv_agg's valid binary_logloss: 0.933634 + 0.358021\n",
      "Early stopping, best iteration is:\n",
      "[1]\tcv_agg's valid binary_logloss: 0.933634 + 0.358021\n",
      "Training until validation scores don't improve for 100 rounds\n"
     ]
    },
    {
     "name": "stderr",
     "output_type": "stream",
     "text": [
      "regularization_factors, val_score: 0.933634:  20%|##        | 4/20 [00:00<00:00, 16.94it/s]"
     ]
    },
    {
     "name": "stdout",
     "output_type": "stream",
     "text": [
      "[100]\tcv_agg's valid binary_logloss: 0.933634 + 0.358021\n",
      "Early stopping, best iteration is:\n",
      "[1]\tcv_agg's valid binary_logloss: 0.933634 + 0.358021\n",
      "Training until validation scores don't improve for 100 rounds\n"
     ]
    },
    {
     "name": "stderr",
     "output_type": "stream",
     "text": [
      "regularization_factors, val_score: 0.933634:  25%|##5       | 5/20 [00:00<00:00, 16.94it/s]"
     ]
    },
    {
     "name": "stdout",
     "output_type": "stream",
     "text": [
      "[100]\tcv_agg's valid binary_logloss: 0.933634 + 0.358021\n",
      "Early stopping, best iteration is:\n",
      "[1]\tcv_agg's valid binary_logloss: 0.933634 + 0.358021\n",
      "Training until validation scores don't improve for 100 rounds\n"
     ]
    },
    {
     "name": "stderr",
     "output_type": "stream",
     "text": [
      "regularization_factors, val_score: 0.933634:  30%|###       | 6/20 [00:00<00:00, 16.45it/s]"
     ]
    },
    {
     "name": "stdout",
     "output_type": "stream",
     "text": [
      "[100]\tcv_agg's valid binary_logloss: 0.933634 + 0.358021\n",
      "Early stopping, best iteration is:\n",
      "[1]\tcv_agg's valid binary_logloss: 0.933634 + 0.358021\n",
      "Training until validation scores don't improve for 100 rounds\n",
      "[100]\tcv_agg's valid binary_logloss: 0.933634 + 0.358021\n",
      "Early stopping, best iteration is:\n",
      "[1]\tcv_agg's valid binary_logloss: 0.933634 + 0.358021\n"
     ]
    },
    {
     "name": "stderr",
     "output_type": "stream",
     "text": [
      "regularization_factors, val_score: 0.933634:  35%|###5      | 7/20 [00:00<00:00, 16.45it/s]"
     ]
    },
    {
     "name": "stdout",
     "output_type": "stream",
     "text": [
      "Training until validation scores don't improve for 100 rounds\n",
      "[100]\tcv_agg's valid binary_logloss: 0.933634 + 0.358021\n",
      "Early stopping, best iteration is:\n",
      "[1]\tcv_agg's valid binary_logloss: 0.933634 + 0.358021\n"
     ]
    },
    {
     "name": "stderr",
     "output_type": "stream",
     "text": [
      "regularization_factors, val_score: 0.933634:  40%|####      | 8/20 [00:00<00:00, 16.24it/s]"
     ]
    },
    {
     "name": "stdout",
     "output_type": "stream",
     "text": [
      "Training until validation scores don't improve for 100 rounds\n",
      "[100]\tcv_agg's valid binary_logloss: 0.933634 + 0.358021\n",
      "Early stopping, best iteration is:\n",
      "[1]\tcv_agg's valid binary_logloss: 0.933634 + 0.358021\n"
     ]
    },
    {
     "name": "stderr",
     "output_type": "stream",
     "text": [
      "regularization_factors, val_score: 0.933634:  50%|#####     | 10/20 [00:00<00:00, 15.84it/s]"
     ]
    },
    {
     "name": "stdout",
     "output_type": "stream",
     "text": [
      "Training until validation scores don't improve for 100 rounds\n",
      "[100]\tcv_agg's valid binary_logloss: 0.933634 + 0.358021\n",
      "Early stopping, best iteration is:\n",
      "[1]\tcv_agg's valid binary_logloss: 0.933634 + 0.358021\n"
     ]
    },
    {
     "name": "stderr",
     "output_type": "stream",
     "text": [
      "regularization_factors, val_score: 0.933634:  55%|#####5    | 11/20 [00:00<00:00, 15.84it/s]"
     ]
    },
    {
     "name": "stdout",
     "output_type": "stream",
     "text": [
      "Training until validation scores don't improve for 100 rounds\n",
      "[100]\tcv_agg's valid binary_logloss: 0.933634 + 0.358021\n",
      "Early stopping, best iteration is:\n",
      "[1]\tcv_agg's valid binary_logloss: 0.933634 + 0.358021\n",
      "Training until validation scores don't improve for 100 rounds\n"
     ]
    },
    {
     "name": "stderr",
     "output_type": "stream",
     "text": [
      "regularization_factors, val_score: 0.933634:  60%|######    | 12/20 [00:00<00:00, 15.27it/s]"
     ]
    },
    {
     "name": "stdout",
     "output_type": "stream",
     "text": [
      "[100]\tcv_agg's valid binary_logloss: 0.933634 + 0.358021\n",
      "Early stopping, best iteration is:\n",
      "[1]\tcv_agg's valid binary_logloss: 0.933634 + 0.358021\n",
      "Training until validation scores don't improve for 100 rounds\n",
      "[100]\tcv_agg's valid binary_logloss: 0.933634 + 0.358021\n",
      "Early stopping, best iteration is:\n",
      "[1]\tcv_agg's valid binary_logloss: 0.933634 + 0.358021\n"
     ]
    },
    {
     "name": "stderr",
     "output_type": "stream",
     "text": [
      "regularization_factors, val_score: 0.933634:  70%|#######   | 14/20 [00:00<00:00, 15.35it/s]"
     ]
    },
    {
     "name": "stdout",
     "output_type": "stream",
     "text": [
      "Training until validation scores don't improve for 100 rounds\n",
      "[100]\tcv_agg's valid binary_logloss: 0.933634 + 0.358021\n",
      "Early stopping, best iteration is:\n",
      "[1]\tcv_agg's valid binary_logloss: 0.933634 + 0.358021\n",
      "Training until validation scores don't improve for 100 rounds\n"
     ]
    },
    {
     "name": "stderr",
     "output_type": "stream",
     "text": [
      "regularization_factors, val_score: 0.933634:  75%|#######5  | 15/20 [00:00<00:00, 15.35it/s]"
     ]
    },
    {
     "name": "stdout",
     "output_type": "stream",
     "text": [
      "[100]\tcv_agg's valid binary_logloss: 0.933634 + 0.358021\n",
      "Early stopping, best iteration is:\n",
      "[1]\tcv_agg's valid binary_logloss: 0.933634 + 0.358021\n",
      "Training until validation scores don't improve for 100 rounds\n"
     ]
    },
    {
     "name": "stderr",
     "output_type": "stream",
     "text": [
      "regularization_factors, val_score: 0.933634:  85%|########5 | 17/20 [00:01<00:00, 14.57it/s]"
     ]
    },
    {
     "name": "stdout",
     "output_type": "stream",
     "text": [
      "[100]\tcv_agg's valid binary_logloss: 0.933634 + 0.358021\n",
      "Early stopping, best iteration is:\n",
      "[1]\tcv_agg's valid binary_logloss: 0.933634 + 0.358021\n",
      "Training until validation scores don't improve for 100 rounds\n",
      "[100]\tcv_agg's valid binary_logloss: 0.933634 + 0.358021\n",
      "Early stopping, best iteration is:\n",
      "[1]\tcv_agg's valid binary_logloss: 0.933634 + 0.358021\n",
      "Training until validation scores don't improve for 100 rounds\n"
     ]
    },
    {
     "name": "stderr",
     "output_type": "stream",
     "text": [
      "regularization_factors, val_score: 0.933634:  90%|######### | 18/20 [00:01<00:00, 13.86it/s]"
     ]
    },
    {
     "name": "stdout",
     "output_type": "stream",
     "text": [
      "[100]\tcv_agg's valid binary_logloss: 0.933634 + 0.358021\n",
      "Early stopping, best iteration is:\n",
      "[1]\tcv_agg's valid binary_logloss: 0.933634 + 0.358021\n"
     ]
    },
    {
     "name": "stderr",
     "output_type": "stream",
     "text": [
      "regularization_factors, val_score: 0.933634: 100%|##########| 20/20 [00:01<00:00, 15.11it/s]\n"
     ]
    },
    {
     "name": "stdout",
     "output_type": "stream",
     "text": [
      "Training until validation scores don't improve for 100 rounds\n",
      "[100]\tcv_agg's valid binary_logloss: 0.933634 + 0.358021\n",
      "Early stopping, best iteration is:\n",
      "[1]\tcv_agg's valid binary_logloss: 0.933634 + 0.358021\n",
      "Training until validation scores don't improve for 100 rounds\n",
      "[100]\tcv_agg's valid binary_logloss: 0.933634 + 0.358021\n",
      "Early stopping, best iteration is:\n",
      "[1]\tcv_agg's valid binary_logloss: 0.933634 + 0.358021\n"
     ]
    },
    {
     "name": "stderr",
     "output_type": "stream",
     "text": [
      "min_child_samples, val_score: 0.933634:   0%|          | 0/5 [00:00<?, ?it/s]"
     ]
    },
    {
     "name": "stdout",
     "output_type": "stream",
     "text": [
      "Training until validation scores don't improve for 100 rounds\n",
      "[100]\tcv_agg's valid binary_logloss: 0.933634 + 0.358021\n",
      "Early stopping, best iteration is:\n",
      "[1]\tcv_agg's valid binary_logloss: 0.933634 + 0.358021\n"
     ]
    },
    {
     "name": "stderr",
     "output_type": "stream",
     "text": [
      "min_child_samples, val_score: 0.933634:  20%|##        | 1/5 [00:00<00:00, 20.01it/s]"
     ]
    },
    {
     "name": "stdout",
     "output_type": "stream",
     "text": [
      "Training until validation scores don't improve for 100 rounds\n"
     ]
    },
    {
     "name": "stderr",
     "output_type": "stream",
     "text": [
      "min_child_samples, val_score: 0.933634:  40%|####      | 2/5 [00:00<00:00, 21.01it/s]"
     ]
    },
    {
     "name": "stdout",
     "output_type": "stream",
     "text": [
      "[100]\tcv_agg's valid binary_logloss: 0.933634 + 0.358021\n",
      "Early stopping, best iteration is:\n",
      "[1]\tcv_agg's valid binary_logloss: 0.933634 + 0.358021\n",
      "Training until validation scores don't improve for 100 rounds\n",
      "[100]\tcv_agg's valid binary_logloss: 2.00669 + 1.63051\n",
      "Early stopping, best iteration is:\n",
      "[22]\tcv_agg's valid binary_logloss: 0.730243 + 0.315544\n"
     ]
    },
    {
     "name": "stderr",
     "output_type": "stream",
     "text": [
      "min_child_samples, val_score: 0.730243:  60%|######    | 3/5 [00:00<00:00, 14.11it/s]"
     ]
    },
    {
     "name": "stdout",
     "output_type": "stream",
     "text": [
      "Training until validation scores don't improve for 100 rounds\n",
      "[100]\tcv_agg's valid binary_logloss: 1.05543 + 0.419184"
     ]
    },
    {
     "name": "stderr",
     "output_type": "stream",
     "text": [
      "min_child_samples, val_score: 0.730243: 100%|##########| 5/5 [00:00<00:00, 13.39it/s]\n"
     ]
    },
    {
     "name": "stdout",
     "output_type": "stream",
     "text": [
      "\n",
      "Early stopping, best iteration is:\n",
      "[23]\tcv_agg's valid binary_logloss: 0.80346 + 0.271713\n",
      "Training until validation scores don't improve for 100 rounds\n",
      "[100]\tcv_agg's valid binary_logloss: 0.933634 + 0.358021\n",
      "Early stopping, best iteration is:\n",
      "[1]\tcv_agg's valid binary_logloss: 0.933634 + 0.358021\n",
      "{'accuracy': 0.7777777777777778, 'balanced_accuracy': np.float64(0.775), 'f1': np.float64(0.75), 'precision': np.float64(0.75), 'recall': np.float64(0.75), 'specificity': np.float64(0.8), 'ROC_AUC': np.float64(0.7750000000000001), 'MCC': np.float64(0.55)}\n"
     ]
    },
    {
     "name": "stderr",
     "output_type": "stream",
     "text": [
      "feature_fraction, val_score: 0.971773:  43%|####2     | 3/7 [00:00<00:00, 17.88it/s]"
     ]
    },
    {
     "name": "stdout",
     "output_type": "stream",
     "text": [
      "Training until validation scores don't improve for 100 rounds\n",
      "[100]\tcv_agg's valid binary_logloss: 0.971773 + 0.299887\n",
      "Early stopping, best iteration is:\n",
      "[1]\tcv_agg's valid binary_logloss: 0.971773 + 0.299887\n",
      "Training until validation scores don't improve for 100 rounds\n",
      "[100]\tcv_agg's valid binary_logloss: 0.971773 + 0.299887\n",
      "Early stopping, best iteration is:\n",
      "[1]\tcv_agg's valid binary_logloss: 0.971773 + 0.299887\n",
      "Training until validation scores don't improve for 100 rounds\n",
      "[100]\tcv_agg's valid binary_logloss: 0.971773 + 0.299887\n",
      "Early stopping, best iteration is:\n",
      "[1]\tcv_agg's valid binary_logloss: 0.971773 + 0.299887\n",
      "Training until validation scores don't improve for 100 rounds\n"
     ]
    },
    {
     "name": "stderr",
     "output_type": "stream",
     "text": [
      "feature_fraction, val_score: 0.971773: 100%|##########| 7/7 [00:00<00:00, 19.51it/s]\n"
     ]
    },
    {
     "name": "stdout",
     "output_type": "stream",
     "text": [
      "[100]\tcv_agg's valid binary_logloss: 0.971773 + 0.299887\n",
      "Early stopping, best iteration is:\n",
      "[1]\tcv_agg's valid binary_logloss: 0.971773 + 0.299887\n",
      "Training until validation scores don't improve for 100 rounds\n",
      "[100]\tcv_agg's valid binary_logloss: 0.971773 + 0.299887\n",
      "Early stopping, best iteration is:\n",
      "[1]\tcv_agg's valid binary_logloss: 0.971773 + 0.299887\n",
      "Training until validation scores don't improve for 100 rounds\n",
      "[100]\tcv_agg's valid binary_logloss: 0.971773 + 0.299887\n",
      "Early stopping, best iteration is:\n",
      "[1]\tcv_agg's valid binary_logloss: 0.971773 + 0.299887\n",
      "Training until validation scores don't improve for 100 rounds\n",
      "[100]\tcv_agg's valid binary_logloss: 0.971773 + 0.299887\n",
      "Early stopping, best iteration is:\n",
      "[1]\tcv_agg's valid binary_logloss: 0.971773 + 0.299887\n"
     ]
    },
    {
     "name": "stderr",
     "output_type": "stream",
     "text": [
      "num_leaves, val_score: 0.971773:   0%|          | 0/20 [00:00<?, ?it/s]"
     ]
    },
    {
     "name": "stdout",
     "output_type": "stream",
     "text": [
      "Training until validation scores don't improve for 100 rounds\n"
     ]
    },
    {
     "name": "stderr",
     "output_type": "stream",
     "text": [
      "num_leaves, val_score: 0.971773:  10%|#         | 2/20 [00:00<00:01, 14.79it/s]"
     ]
    },
    {
     "name": "stdout",
     "output_type": "stream",
     "text": [
      "[100]\tcv_agg's valid binary_logloss: 0.971773 + 0.299887\n",
      "Early stopping, best iteration is:\n",
      "[1]\tcv_agg's valid binary_logloss: 0.971773 + 0.299887\n",
      "Training until validation scores don't improve for 100 rounds\n",
      "[100]\tcv_agg's valid binary_logloss: 0.971773 + 0.299887\n",
      "Early stopping, best iteration is:\n",
      "[1]\tcv_agg's valid binary_logloss: 0.971773 + 0.299887\n",
      "Training until validation scores don't improve for 100 rounds\n",
      "[100]\tcv_agg's valid binary_logloss: 0.971773 + 0.299887\n",
      "Early stopping, best iteration is:\n",
      "[1]\tcv_agg's valid binary_logloss: 0.971773 + 0.299887\n"
     ]
    },
    {
     "name": "stderr",
     "output_type": "stream",
     "text": [
      "num_leaves, val_score: 0.971773:  20%|##        | 4/20 [00:00<00:00, 16.36it/s]"
     ]
    },
    {
     "name": "stdout",
     "output_type": "stream",
     "text": [
      "Training until validation scores don't improve for 100 rounds\n",
      "[100]\tcv_agg's valid binary_logloss: 0.971773 + 0.299887\n",
      "Early stopping, best iteration is:\n",
      "[1]\tcv_agg's valid binary_logloss: 0.971773 + 0.299887\n"
     ]
    },
    {
     "name": "stderr",
     "output_type": "stream",
     "text": [
      "num_leaves, val_score: 0.971773:  30%|###       | 6/20 [00:00<00:00, 17.33it/s]"
     ]
    },
    {
     "name": "stdout",
     "output_type": "stream",
     "text": [
      "Training until validation scores don't improve for 100 rounds\n",
      "[100]\tcv_agg's valid binary_logloss: 0.971773 + 0.299887\n",
      "Early stopping, best iteration is:\n",
      "[1]\tcv_agg's valid binary_logloss: 0.971773 + 0.299887\n",
      "Training until validation scores don't improve for 100 rounds\n",
      "[100]\tcv_agg's valid binary_logloss: 0.971773 + 0.299887\n",
      "Early stopping, best iteration is:\n",
      "[1]\tcv_agg's valid binary_logloss: 0.971773 + 0.299887\n",
      "Training until validation scores don't improve for 100 rounds\n"
     ]
    },
    {
     "name": "stderr",
     "output_type": "stream",
     "text": [
      "num_leaves, val_score: 0.971773:  35%|###5      | 7/20 [00:00<00:00, 17.33it/s]"
     ]
    },
    {
     "name": "stdout",
     "output_type": "stream",
     "text": [
      "[100]\tcv_agg's valid binary_logloss: 0.971773 + 0.299887\n",
      "Early stopping, best iteration is:\n",
      "[1]\tcv_agg's valid binary_logloss: 0.971773 + 0.299887\n",
      "Training until validation scores don't improve for 100 rounds\n"
     ]
    },
    {
     "name": "stderr",
     "output_type": "stream",
     "text": [
      "num_leaves, val_score: 0.971773:  55%|#####5    | 11/20 [00:00<00:00, 12.97it/s]"
     ]
    },
    {
     "name": "stdout",
     "output_type": "stream",
     "text": [
      "[100]\tcv_agg's valid binary_logloss: 0.971773 + 0.299887\n",
      "Early stopping, best iteration is:\n",
      "[1]\tcv_agg's valid binary_logloss: 0.971773 + 0.299887\n",
      "Training until validation scores don't improve for 100 rounds\n",
      "[100]\tcv_agg's valid binary_logloss: 0.971773 + 0.299887\n",
      "Early stopping, best iteration is:\n",
      "[1]\tcv_agg's valid binary_logloss: 0.971773 + 0.299887\n",
      "Training until validation scores don't improve for 100 rounds\n",
      "[100]\tcv_agg's valid binary_logloss: 0.971773 + 0.299887\n",
      "Early stopping, best iteration is:\n",
      "[1]\tcv_agg's valid binary_logloss: 0.971773 + 0.299887\n",
      "Training until validation scores don't improve for 100 rounds\n",
      "[100]\tcv_agg's valid binary_logloss: 0.971773 + 0.299887\n",
      "Early stopping, best iteration is:\n",
      "[1]\tcv_agg's valid binary_logloss: 0.971773 + 0.299887\n"
     ]
    },
    {
     "name": "stderr",
     "output_type": "stream",
     "text": [
      "num_leaves, val_score: 0.971773:  70%|#######   | 14/20 [00:00<00:00, 14.99it/s]"
     ]
    },
    {
     "name": "stdout",
     "output_type": "stream",
     "text": [
      "Training until validation scores don't improve for 100 rounds\n",
      "[100]\tcv_agg's valid binary_logloss: 0.971773 + 0.299887\n",
      "Early stopping, best iteration is:\n",
      "[1]\tcv_agg's valid binary_logloss: 0.971773 + 0.299887\n",
      "Training until validation scores don't improve for 100 rounds\n",
      "[100]\tcv_agg's valid binary_logloss: 0.971773 + 0.299887\n",
      "Early stopping, best iteration is:\n",
      "[1]\tcv_agg's valid binary_logloss: 0.971773 + 0.299887\n",
      "Training until validation scores don't improve for 100 rounds\n",
      "[100]\tcv_agg's valid binary_logloss: 0.971773 + 0.299887\n",
      "Early stopping, best iteration is:\n",
      "[1]\tcv_agg's valid binary_logloss: 0.971773 + 0.299887\n",
      "Training until validation scores don't improve for 100 rounds\n"
     ]
    },
    {
     "name": "stderr",
     "output_type": "stream",
     "text": [
      "num_leaves, val_score: 0.971773:  85%|########5 | 17/20 [00:01<00:00, 15.32it/s]"
     ]
    },
    {
     "name": "stdout",
     "output_type": "stream",
     "text": [
      "[100]\tcv_agg's valid binary_logloss: 0.971773 + 0.299887\n",
      "Early stopping, best iteration is:\n",
      "[1]\tcv_agg's valid binary_logloss: 0.971773 + 0.299887\n",
      "Training until validation scores don't improve for 100 rounds\n",
      "[100]\tcv_agg's valid binary_logloss: 0.971773 + 0.299887\n",
      "Early stopping, best iteration is:\n",
      "[1]\tcv_agg's valid binary_logloss: 0.971773 + 0.299887\n",
      "Training until validation scores don't improve for 100 rounds\n",
      "[100]\tcv_agg's valid binary_logloss: 0.971773 + 0.299887\n",
      "Early stopping, best iteration is:\n",
      "[1]\tcv_agg's valid binary_logloss: 0.971773 + 0.299887\n",
      "Training until validation scores don't improve for 100 rounds\n",
      "[100]\tcv_agg's valid binary_logloss: 0.971773 + 0.299887\n",
      "Early stopping, best iteration is:\n",
      "[1]\tcv_agg's valid binary_logloss: 0.971773 + 0.299887\n"
     ]
    },
    {
     "name": "stderr",
     "output_type": "stream",
     "text": [
      "num_leaves, val_score: 0.971773: 100%|##########| 20/20 [00:01<00:00, 14.99it/s]\n"
     ]
    },
    {
     "name": "stdout",
     "output_type": "stream",
     "text": [
      "Training until validation scores don't improve for 100 rounds\n",
      "[100]\tcv_agg's valid binary_logloss: 0.971773 + 0.299887\n",
      "Early stopping, best iteration is:\n",
      "[1]\tcv_agg's valid binary_logloss: 0.971773 + 0.299887\n",
      "Training until validation scores don't improve for 100 rounds\n",
      "[100]\tcv_agg's valid binary_logloss: 0.971773 + 0.299887\n",
      "Early stopping, best iteration is:\n",
      "[1]\tcv_agg's valid binary_logloss: 0.971773 + 0.299887\n"
     ]
    },
    {
     "name": "stderr",
     "output_type": "stream",
     "text": [
      "bagging, val_score: 0.971773:  10%|#         | 1/10 [00:00<00:00, 14.12it/s]"
     ]
    },
    {
     "name": "stdout",
     "output_type": "stream",
     "text": [
      "Training until validation scores don't improve for 100 rounds\n",
      "[100]\tcv_agg's valid binary_logloss: 0.971773 + 0.299887\n",
      "Early stopping, best iteration is:\n",
      "[1]\tcv_agg's valid binary_logloss: 0.971773 + 0.299887\n"
     ]
    },
    {
     "name": "stderr",
     "output_type": "stream",
     "text": [
      "bagging, val_score: 0.971773:  20%|##        | 2/10 [00:00<00:00, 15.15it/s]"
     ]
    },
    {
     "name": "stdout",
     "output_type": "stream",
     "text": [
      "Training until validation scores don't improve for 100 rounds\n",
      "[100]\tcv_agg's valid binary_logloss: 0.971773 + 0.299887\n",
      "Early stopping, best iteration is:\n",
      "[1]\tcv_agg's valid binary_logloss: 0.971773 + 0.299887\n",
      "Training until validation scores don't improve for 100 rounds\n",
      "[100]\tcv_agg's valid binary_logloss: 0.971773 + 0.299887\n",
      "Early stopping, best iteration is:\n",
      "[1]\tcv_agg's valid binary_logloss: 0.971773 + 0.299887\n"
     ]
    },
    {
     "name": "stderr",
     "output_type": "stream",
     "text": [
      "bagging, val_score: 0.971773:  40%|####      | 4/10 [00:00<00:00, 15.66it/s]"
     ]
    },
    {
     "name": "stdout",
     "output_type": "stream",
     "text": [
      "Training until validation scores don't improve for 100 rounds\n",
      "[100]\tcv_agg's valid binary_logloss: 0.971773 + 0.299887\n",
      "Early stopping, best iteration is:\n",
      "[1]\tcv_agg's valid binary_logloss: 0.971773 + 0.299887\n",
      "Training until validation scores don't improve for 100 rounds\n"
     ]
    },
    {
     "name": "stderr",
     "output_type": "stream",
     "text": [
      "bagging, val_score: 0.971773:  50%|#####     | 5/10 [00:00<00:00, 15.66it/s]"
     ]
    },
    {
     "name": "stdout",
     "output_type": "stream",
     "text": [
      "[100]\tcv_agg's valid binary_logloss: 0.971773 + 0.299887\n",
      "Early stopping, best iteration is:\n",
      "[1]\tcv_agg's valid binary_logloss: 0.971773 + 0.299887\n",
      "Training until validation scores don't improve for 100 rounds\n",
      "[100]\tcv_agg's valid binary_logloss: 0.971773 + 0.299887\n",
      "Early stopping, best iteration is:\n",
      "[1]\tcv_agg's valid binary_logloss: 0.971773 + 0.299887\n"
     ]
    },
    {
     "name": "stderr",
     "output_type": "stream",
     "text": [
      "bagging, val_score: 0.971773:  70%|#######   | 7/10 [00:00<00:00, 14.61it/s]"
     ]
    },
    {
     "name": "stdout",
     "output_type": "stream",
     "text": [
      "Training until validation scores don't improve for 100 rounds\n",
      "[100]\tcv_agg's valid binary_logloss: 0.971773 + 0.299887\n",
      "Early stopping, best iteration is:\n",
      "[1]\tcv_agg's valid binary_logloss: 0.971773 + 0.299887\n",
      "Training until validation scores don't improve for 100 rounds\n"
     ]
    },
    {
     "name": "stderr",
     "output_type": "stream",
     "text": [
      "bagging, val_score: 0.971773:  80%|########  | 8/10 [00:00<00:00, 14.21it/s]"
     ]
    },
    {
     "name": "stdout",
     "output_type": "stream",
     "text": [
      "[100]\tcv_agg's valid binary_logloss: 0.971773 + 0.299887\n",
      "Early stopping, best iteration is:\n",
      "[1]\tcv_agg's valid binary_logloss: 0.971773 + 0.299887\n",
      "Training until validation scores don't improve for 100 rounds\n"
     ]
    },
    {
     "name": "stderr",
     "output_type": "stream",
     "text": [
      "bagging, val_score: 0.971773: 100%|##########| 10/10 [00:00<00:00, 14.48it/s]\n"
     ]
    },
    {
     "name": "stdout",
     "output_type": "stream",
     "text": [
      "[100]\tcv_agg's valid binary_logloss: 0.971773 + 0.299887\n",
      "Early stopping, best iteration is:\n",
      "[1]\tcv_agg's valid binary_logloss: 0.971773 + 0.299887\n",
      "Training until validation scores don't improve for 100 rounds\n",
      "[100]\tcv_agg's valid binary_logloss: 0.971773 + 0.299887\n",
      "Early stopping, best iteration is:\n",
      "[1]\tcv_agg's valid binary_logloss: 0.971773 + 0.299887\n"
     ]
    },
    {
     "name": "stderr",
     "output_type": "stream",
     "text": [
      "feature_fraction_stage2, val_score: 0.971773:   0%|          | 0/3 [00:00<?, ?it/s]"
     ]
    },
    {
     "name": "stdout",
     "output_type": "stream",
     "text": [
      "Training until validation scores don't improve for 100 rounds\n",
      "[100]\tcv_agg's valid binary_logloss: 0.971773 + 0.299887\n",
      "Early stopping, best iteration is:\n",
      "[1]\tcv_agg's valid binary_logloss: 0.971773 + 0.299887\n"
     ]
    },
    {
     "name": "stderr",
     "output_type": "stream",
     "text": [
      "feature_fraction_stage2, val_score: 0.971773:  33%|###3      | 1/3 [00:00<00:00, 18.16it/s]"
     ]
    },
    {
     "name": "stdout",
     "output_type": "stream",
     "text": [
      "Training until validation scores don't improve for 100 rounds\n",
      "[100]\tcv_agg's valid binary_logloss: 0.971773 + 0.299887\n",
      "Early stopping, best iteration is:\n",
      "[1]\tcv_agg's valid binary_logloss: 0.971773 + 0.299887\n"
     ]
    },
    {
     "name": "stderr",
     "output_type": "stream",
     "text": [
      "feature_fraction_stage2, val_score: 0.971773: 100%|##########| 3/3 [00:00<00:00, 20.78it/s]\n"
     ]
    },
    {
     "name": "stdout",
     "output_type": "stream",
     "text": [
      "Training until validation scores don't improve for 100 rounds\n",
      "[100]\tcv_agg's valid binary_logloss: 0.971773 + 0.299887\n",
      "Early stopping, best iteration is:\n",
      "[1]\tcv_agg's valid binary_logloss: 0.971773 + 0.299887\n"
     ]
    },
    {
     "name": "stderr",
     "output_type": "stream",
     "text": [
      "regularization_factors, val_score: 0.971773:   0%|          | 0/20 [00:00<?, ?it/s]"
     ]
    },
    {
     "name": "stdout",
     "output_type": "stream",
     "text": [
      "Training until validation scores don't improve for 100 rounds\n",
      "[100]\tcv_agg's valid binary_logloss: 0.971773 + 0.299887\n",
      "Early stopping, best iteration is:\n",
      "[1]\tcv_agg's valid binary_logloss: 0.971773 + 0.299887\n"
     ]
    },
    {
     "name": "stderr",
     "output_type": "stream",
     "text": [
      "regularization_factors, val_score: 0.971773:   5%|5         | 1/20 [00:00<00:01, 17.11it/s]"
     ]
    },
    {
     "name": "stdout",
     "output_type": "stream",
     "text": [
      "Training until validation scores don't improve for 100 rounds\n"
     ]
    },
    {
     "name": "stderr",
     "output_type": "stream",
     "text": [
      "regularization_factors, val_score: 0.971773:  10%|#         | 2/20 [00:00<00:01, 17.42it/s]"
     ]
    },
    {
     "name": "stdout",
     "output_type": "stream",
     "text": [
      "[100]\tcv_agg's valid binary_logloss: 0.971773 + 0.299887\n",
      "Early stopping, best iteration is:\n",
      "[1]\tcv_agg's valid binary_logloss: 0.971773 + 0.299887\n",
      "Training until validation scores don't improve for 100 rounds\n"
     ]
    },
    {
     "name": "stderr",
     "output_type": "stream",
     "text": [
      "regularization_factors, val_score: 0.971773:  15%|#5        | 3/20 [00:00<00:00, 17.42it/s]"
     ]
    },
    {
     "name": "stdout",
     "output_type": "stream",
     "text": [
      "[100]\tcv_agg's valid binary_logloss: 0.971773 + 0.299887\n",
      "Early stopping, best iteration is:\n",
      "[1]\tcv_agg's valid binary_logloss: 0.971773 + 0.299887\n",
      "Training until validation scores don't improve for 100 rounds\n"
     ]
    },
    {
     "name": "stderr",
     "output_type": "stream",
     "text": [
      "regularization_factors, val_score: 0.971773:  20%|##        | 4/20 [00:00<00:00, 16.22it/s]"
     ]
    },
    {
     "name": "stdout",
     "output_type": "stream",
     "text": [
      "[100]\tcv_agg's valid binary_logloss: 0.971773 + 0.299887\n",
      "Early stopping, best iteration is:\n",
      "[1]\tcv_agg's valid binary_logloss: 0.971773 + 0.299887\n",
      "Training until validation scores don't improve for 100 rounds\n"
     ]
    },
    {
     "name": "stderr",
     "output_type": "stream",
     "text": [
      "regularization_factors, val_score: 0.971773:  25%|##5       | 5/20 [00:00<00:00, 16.22it/s]"
     ]
    },
    {
     "name": "stdout",
     "output_type": "stream",
     "text": [
      "[100]\tcv_agg's valid binary_logloss: 0.971773 + 0.299887\n",
      "Early stopping, best iteration is:\n",
      "[1]\tcv_agg's valid binary_logloss: 0.971773 + 0.299887\n",
      "Training until validation scores don't improve for 100 rounds\n"
     ]
    },
    {
     "name": "stderr",
     "output_type": "stream",
     "text": [
      "regularization_factors, val_score: 0.971773:  30%|###       | 6/20 [00:00<00:00, 15.03it/s]"
     ]
    },
    {
     "name": "stdout",
     "output_type": "stream",
     "text": [
      "[100]\tcv_agg's valid binary_logloss: 0.971773 + 0.299887\n",
      "Early stopping, best iteration is:\n",
      "[1]\tcv_agg's valid binary_logloss: 0.971773 + 0.299887\n",
      "Training until validation scores don't improve for 100 rounds\n"
     ]
    },
    {
     "name": "stderr",
     "output_type": "stream",
     "text": [
      "regularization_factors, val_score: 0.971773:  35%|###5      | 7/20 [00:00<00:00, 15.03it/s]"
     ]
    },
    {
     "name": "stdout",
     "output_type": "stream",
     "text": [
      "[100]\tcv_agg's valid binary_logloss: 0.971773 + 0.299887\n",
      "Early stopping, best iteration is:\n",
      "[1]\tcv_agg's valid binary_logloss: 0.971773 + 0.299887\n",
      "Training until validation scores don't improve for 100 rounds\n",
      "[100]\tcv_agg's valid binary_logloss: 0.971773 + 0.299887\n",
      "Early stopping, best iteration is:\n",
      "[1]\tcv_agg's valid binary_logloss: 0.971773 + 0.299887\n"
     ]
    },
    {
     "name": "stderr",
     "output_type": "stream",
     "text": [
      "regularization_factors, val_score: 0.971773:  40%|####      | 8/20 [00:00<00:00, 15.41it/s]"
     ]
    },
    {
     "name": "stdout",
     "output_type": "stream",
     "text": [
      "Training until validation scores don't improve for 100 rounds\n",
      "[100]\tcv_agg's valid binary_logloss: 0.971773 + 0.299887\n",
      "Early stopping, best iteration is:\n",
      "[1]\tcv_agg's valid binary_logloss: 0.971773 + 0.299887\n"
     ]
    },
    {
     "name": "stderr",
     "output_type": "stream",
     "text": [
      "regularization_factors, val_score: 0.971773:  50%|#####     | 10/20 [00:00<00:00, 15.85it/s]"
     ]
    },
    {
     "name": "stdout",
     "output_type": "stream",
     "text": [
      "Training until validation scores don't improve for 100 rounds\n",
      "[100]\tcv_agg's valid binary_logloss: 0.971773 + 0.299887\n",
      "Early stopping, best iteration is:\n",
      "[1]\tcv_agg's valid binary_logloss: 0.971773 + 0.299887\n"
     ]
    },
    {
     "name": "stderr",
     "output_type": "stream",
     "text": [
      "regularization_factors, val_score: 0.971773:  55%|#####5    | 11/20 [00:00<00:00, 15.85it/s]"
     ]
    },
    {
     "name": "stdout",
     "output_type": "stream",
     "text": [
      "Training until validation scores don't improve for 100 rounds\n",
      "[100]\tcv_agg's valid binary_logloss: 0.971773 + 0.299887\n",
      "Early stopping, best iteration is:\n",
      "[1]\tcv_agg's valid binary_logloss: 0.971773 + 0.299887\n",
      "Training until validation scores don't improve for 100 rounds\n"
     ]
    },
    {
     "name": "stderr",
     "output_type": "stream",
     "text": [
      "regularization_factors, val_score: 0.971773:  60%|######    | 12/20 [00:00<00:00, 15.59it/s]"
     ]
    },
    {
     "name": "stdout",
     "output_type": "stream",
     "text": [
      "[100]\tcv_agg's valid binary_logloss: 0.971773 + 0.299887\n",
      "Early stopping, best iteration is:\n",
      "[1]\tcv_agg's valid binary_logloss: 0.971773 + 0.299887\n"
     ]
    },
    {
     "name": "stderr",
     "output_type": "stream",
     "text": [
      "regularization_factors, val_score: 0.971773:  65%|######5   | 13/20 [00:00<00:00, 15.59it/s]"
     ]
    },
    {
     "name": "stdout",
     "output_type": "stream",
     "text": [
      "Training until validation scores don't improve for 100 rounds\n",
      "[100]\tcv_agg's valid binary_logloss: 0.971773 + 0.299887\n",
      "Early stopping, best iteration is:\n",
      "[1]\tcv_agg's valid binary_logloss: 0.971773 + 0.299887\n"
     ]
    },
    {
     "name": "stderr",
     "output_type": "stream",
     "text": [
      "regularization_factors, val_score: 0.971773:  75%|#######5  | 15/20 [00:00<00:00, 16.03it/s]"
     ]
    },
    {
     "name": "stdout",
     "output_type": "stream",
     "text": [
      "Training until validation scores don't improve for 100 rounds\n",
      "[100]\tcv_agg's valid binary_logloss: 0.971773 + 0.299887\n",
      "Early stopping, best iteration is:\n",
      "[1]\tcv_agg's valid binary_logloss: 0.971773 + 0.299887\n",
      "Training until validation scores don't improve for 100 rounds\n",
      "[100]\tcv_agg's valid binary_logloss: 0.971773 + 0.299887\n",
      "Early stopping, best iteration is:\n",
      "[1]\tcv_agg's valid binary_logloss: 0.971773 + 0.299887\n",
      "Training until validation scores don't improve for 100 rounds\n"
     ]
    },
    {
     "name": "stderr",
     "output_type": "stream",
     "text": [
      "regularization_factors, val_score: 0.971773:  80%|########  | 16/20 [00:01<00:00, 16.33it/s]"
     ]
    },
    {
     "name": "stdout",
     "output_type": "stream",
     "text": [
      "[100]\tcv_agg's valid binary_logloss: 0.971773 + 0.299887\n",
      "Early stopping, best iteration is:\n",
      "[1]\tcv_agg's valid binary_logloss: 0.971773 + 0.299887\n",
      "Training until validation scores don't improve for 100 rounds\n"
     ]
    },
    {
     "name": "stderr",
     "output_type": "stream",
     "text": [
      "regularization_factors, val_score: 0.971773:  90%|######### | 18/20 [00:01<00:00, 16.46it/s]"
     ]
    },
    {
     "name": "stdout",
     "output_type": "stream",
     "text": [
      "[100]\tcv_agg's valid binary_logloss: 0.971773 + 0.299887\n",
      "Early stopping, best iteration is:\n",
      "[1]\tcv_agg's valid binary_logloss: 0.971773 + 0.299887\n",
      "Training until validation scores don't improve for 100 rounds\n",
      "[100]\tcv_agg's valid binary_logloss: 0.971773 + 0.299887\n",
      "Early stopping, best iteration is:\n",
      "[1]\tcv_agg's valid binary_logloss: 0.971773 + 0.299887\n",
      "Training until validation scores don't improve for 100 rounds\n",
      "[100]\tcv_agg's valid binary_logloss: 0.971773 + 0.299887\n",
      "Early stopping, best iteration is:\n",
      "[1]\tcv_agg's valid binary_logloss: 0.971773 + 0.299887\n"
     ]
    },
    {
     "name": "stderr",
     "output_type": "stream",
     "text": [
      "regularization_factors, val_score: 0.971773:  95%|#########5| 19/20 [00:01<00:00, 16.46it/s]"
     ]
    },
    {
     "name": "stdout",
     "output_type": "stream",
     "text": [
      "Training until validation scores don't improve for 100 rounds\n",
      "[100]\tcv_agg's valid binary_logloss: 0.971773 + 0.299887\n",
      "Early stopping, best iteration is:\n",
      "[1]\tcv_agg's valid binary_logloss: 0.971773 + 0.299887\n"
     ]
    },
    {
     "name": "stderr",
     "output_type": "stream",
     "text": [
      "regularization_factors, val_score: 0.971773: 100%|##########| 20/20 [00:01<00:00, 15.97it/s]\n",
      "min_child_samples, val_score: 0.971773:  40%|####      | 2/5 [00:00<00:00, 16.89it/s]"
     ]
    },
    {
     "name": "stdout",
     "output_type": "stream",
     "text": [
      "Training until validation scores don't improve for 100 rounds\n",
      "[100]\tcv_agg's valid binary_logloss: 0.971773 + 0.299887\n",
      "Early stopping, best iteration is:\n",
      "[1]\tcv_agg's valid binary_logloss: 0.971773 + 0.299887\n",
      "Training until validation scores don't improve for 100 rounds\n",
      "[100]\tcv_agg's valid binary_logloss: 0.971773 + 0.299887\n",
      "Early stopping, best iteration is:\n",
      "[1]\tcv_agg's valid binary_logloss: 0.971773 + 0.299887\n",
      "Training until validation scores don't improve for 100 rounds\n"
     ]
    },
    {
     "name": "stderr",
     "output_type": "stream",
     "text": [
      "min_child_samples, val_score: 0.151809:  80%|########  | 4/5 [00:00<00:00,  9.76it/s]"
     ]
    },
    {
     "name": "stdout",
     "output_type": "stream",
     "text": [
      "[100]\tcv_agg's valid binary_logloss: 0.272743 + 0.545001\n",
      "Early stopping, best iteration is:\n",
      "[35]\tcv_agg's valid binary_logloss: 0.151809 + 0.242123\n",
      "Training until validation scores don't improve for 100 rounds\n",
      "[100]\tcv_agg's valid binary_logloss: 0.590528 + 0.37616\n",
      "[200]\tcv_agg's valid binary_logloss: 0.604527 + 0.390247\n",
      "Early stopping, best iteration is:\n",
      "[114]\tcv_agg's valid binary_logloss: 0.565542 + 0.36773\n",
      "Training until validation scores don't improve for 100 rounds\n"
     ]
    },
    {
     "name": "stderr",
     "output_type": "stream",
     "text": [
      "min_child_samples, val_score: 0.151809: 100%|##########| 5/5 [00:00<00:00, 11.28it/s]\n"
     ]
    },
    {
     "name": "stdout",
     "output_type": "stream",
     "text": [
      "[100]\tcv_agg's valid binary_logloss: 0.971773 + 0.299887\n",
      "Early stopping, best iteration is:\n",
      "[1]\tcv_agg's valid binary_logloss: 0.971773 + 0.299887\n",
      "{'accuracy': 0.6111111111111112, 'balanced_accuracy': np.float64(0.6038961038961039), 'f1': np.float64(0.5333333333333333), 'precision': np.float64(0.5), 'recall': np.float64(0.5714285714285714), 'specificity': np.float64(0.6363636363636364), 'ROC_AUC': np.float64(0.6038961038961039), 'MCC': np.float64(0.20385887657505022)}\n"
     ]
    },
    {
     "name": "stderr",
     "output_type": "stream",
     "text": [
      "feature_fraction, val_score: 0.971773:  29%|##8       | 2/7 [00:00<00:00, 16.39it/s]"
     ]
    },
    {
     "name": "stdout",
     "output_type": "stream",
     "text": [
      "Training until validation scores don't improve for 100 rounds\n",
      "[100]\tcv_agg's valid binary_logloss: 0.971773 + 0.299887\n",
      "Early stopping, best iteration is:\n",
      "[1]\tcv_agg's valid binary_logloss: 0.971773 + 0.299887\n",
      "Training until validation scores don't improve for 100 rounds\n",
      "[100]\tcv_agg's valid binary_logloss: 0.971773 + 0.299887\n",
      "Early stopping, best iteration is:\n",
      "[1]\tcv_agg's valid binary_logloss: 0.971773 + 0.299887\n",
      "Training until validation scores don't improve for 100 rounds\n",
      "[100]\tcv_agg's valid binary_logloss: 0.971773 + 0.299887\n",
      "Early stopping, best iteration is:\n",
      "[1]\tcv_agg's valid binary_logloss: 0.971773 + 0.299887\n"
     ]
    },
    {
     "name": "stderr",
     "output_type": "stream",
     "text": [
      "feature_fraction, val_score: 0.971773:  43%|####2     | 3/7 [00:00<00:00, 16.39it/s]"
     ]
    },
    {
     "name": "stdout",
     "output_type": "stream",
     "text": [
      "Training until validation scores don't improve for 100 rounds\n"
     ]
    },
    {
     "name": "stderr",
     "output_type": "stream",
     "text": [
      "feature_fraction, val_score: 0.971773:  71%|#######1  | 5/7 [00:00<00:00, 15.15it/s]"
     ]
    },
    {
     "name": "stdout",
     "output_type": "stream",
     "text": [
      "[100]\tcv_agg's valid binary_logloss: 0.971773 + 0.299887\n",
      "Early stopping, best iteration is:\n",
      "[1]\tcv_agg's valid binary_logloss: 0.971773 + 0.299887\n",
      "Training until validation scores don't improve for 100 rounds\n",
      "[100]\tcv_agg's valid binary_logloss: 0.971773 + 0.299887\n",
      "Early stopping, best iteration is:\n",
      "[1]\tcv_agg's valid binary_logloss: 0.971773 + 0.299887\n",
      "Training until validation scores don't improve for 100 rounds\n",
      "[100]\tcv_agg's valid binary_logloss: 0.971773 + 0.299887\n",
      "Early stopping, best iteration is:\n",
      "[1]\tcv_agg's valid binary_logloss: 0.971773 + 0.299887\n"
     ]
    },
    {
     "name": "stderr",
     "output_type": "stream",
     "text": [
      "feature_fraction, val_score: 0.971773:  86%|########5 | 6/7 [00:00<00:00, 15.11it/s]"
     ]
    },
    {
     "name": "stdout",
     "output_type": "stream",
     "text": [
      "Training until validation scores don't improve for 100 rounds\n",
      "[100]\tcv_agg's valid binary_logloss: 0.971773 + 0.299887\n",
      "Early stopping, best iteration is:\n",
      "[1]\tcv_agg's valid binary_logloss: 0.971773 + 0.299887\n"
     ]
    },
    {
     "name": "stderr",
     "output_type": "stream",
     "text": [
      "feature_fraction, val_score: 0.971773: 100%|##########| 7/7 [00:00<00:00, 15.62it/s]\n",
      "num_leaves, val_score: 0.971773:  10%|#         | 2/20 [00:00<00:01, 16.20it/s]"
     ]
    },
    {
     "name": "stdout",
     "output_type": "stream",
     "text": [
      "Training until validation scores don't improve for 100 rounds\n",
      "[100]\tcv_agg's valid binary_logloss: 0.971773 + 0.299887\n",
      "Early stopping, best iteration is:\n",
      "[1]\tcv_agg's valid binary_logloss: 0.971773 + 0.299887\n",
      "Training until validation scores don't improve for 100 rounds\n",
      "[100]\tcv_agg's valid binary_logloss: 0.971773 + 0.299887\n",
      "Early stopping, best iteration is:\n",
      "[1]\tcv_agg's valid binary_logloss: 0.971773 + 0.299887\n",
      "Training until validation scores don't improve for 100 rounds\n"
     ]
    },
    {
     "name": "stderr",
     "output_type": "stream",
     "text": [
      "num_leaves, val_score: 0.971773:  15%|#5        | 3/20 [00:00<00:01, 16.20it/s]"
     ]
    },
    {
     "name": "stdout",
     "output_type": "stream",
     "text": [
      "[100]\tcv_agg's valid binary_logloss: 0.971773 + 0.299887\n",
      "Early stopping, best iteration is:\n",
      "[1]\tcv_agg's valid binary_logloss: 0.971773 + 0.299887\n",
      "Training until validation scores don't improve for 100 rounds\n"
     ]
    },
    {
     "name": "stderr",
     "output_type": "stream",
     "text": [
      "num_leaves, val_score: 0.971773:  25%|##5       | 5/20 [00:00<00:01, 14.85it/s]"
     ]
    },
    {
     "name": "stdout",
     "output_type": "stream",
     "text": [
      "[100]\tcv_agg's valid binary_logloss: 0.971773 + 0.299887\n",
      "Early stopping, best iteration is:\n",
      "[1]\tcv_agg's valid binary_logloss: 0.971773 + 0.299887\n",
      "Training until validation scores don't improve for 100 rounds\n",
      "[100]\tcv_agg's valid binary_logloss: 0.971773 + 0.299887\n",
      "Early stopping, best iteration is:\n",
      "[1]\tcv_agg's valid binary_logloss: 0.971773 + 0.299887\n",
      "Training until validation scores don't improve for 100 rounds\n",
      "[100]\tcv_agg's valid binary_logloss: 0.971773 + 0.299887\n",
      "Early stopping, best iteration is:\n",
      "[1]\tcv_agg's valid binary_logloss: 0.971773 + 0.299887\n"
     ]
    },
    {
     "name": "stderr",
     "output_type": "stream",
     "text": [
      "num_leaves, val_score: 0.971773:  35%|###5      | 7/20 [00:00<00:00, 15.97it/s]"
     ]
    },
    {
     "name": "stdout",
     "output_type": "stream",
     "text": [
      "Training until validation scores don't improve for 100 rounds\n",
      "[100]\tcv_agg's valid binary_logloss: 0.971773 + 0.299887\n",
      "Early stopping, best iteration is:\n",
      "[1]\tcv_agg's valid binary_logloss: 0.971773 + 0.299887\n",
      "Training until validation scores don't improve for 100 rounds\n"
     ]
    },
    {
     "name": "stderr",
     "output_type": "stream",
     "text": [
      "num_leaves, val_score: 0.971773:  45%|####5     | 9/20 [00:00<00:00, 16.50it/s]"
     ]
    },
    {
     "name": "stdout",
     "output_type": "stream",
     "text": [
      "[100]\tcv_agg's valid binary_logloss: 0.971773 + 0.299887\n",
      "Early stopping, best iteration is:\n",
      "[1]\tcv_agg's valid binary_logloss: 0.971773 + 0.299887\n",
      "Training until validation scores don't improve for 100 rounds\n",
      "[100]\tcv_agg's valid binary_logloss: 0.971773 + 0.299887\n",
      "Early stopping, best iteration is:\n",
      "[1]\tcv_agg's valid binary_logloss: 0.971773 + 0.299887\n",
      "Training until validation scores don't improve for 100 rounds\n"
     ]
    },
    {
     "name": "stderr",
     "output_type": "stream",
     "text": [
      "num_leaves, val_score: 0.971773:  50%|#####     | 10/20 [00:00<00:00, 16.77it/s]"
     ]
    },
    {
     "name": "stdout",
     "output_type": "stream",
     "text": [
      "[100]\tcv_agg's valid binary_logloss: 0.971773 + 0.299887\n",
      "Early stopping, best iteration is:\n",
      "[1]\tcv_agg's valid binary_logloss: 0.971773 + 0.299887\n",
      "Training until validation scores don't improve for 100 rounds\n",
      "[100]\tcv_agg's valid binary_logloss: 0.971773 + 0.299887\n",
      "Early stopping, best iteration is:\n",
      "[1]\tcv_agg's valid binary_logloss: 0.971773 + 0.299887\n"
     ]
    },
    {
     "name": "stderr",
     "output_type": "stream",
     "text": [
      "num_leaves, val_score: 0.971773:  60%|######    | 12/20 [00:00<00:00, 15.80it/s]"
     ]
    },
    {
     "name": "stdout",
     "output_type": "stream",
     "text": [
      "Training until validation scores don't improve for 100 rounds\n",
      "[100]\tcv_agg's valid binary_logloss: 0.971773 + 0.299887\n",
      "Early stopping, best iteration is:\n",
      "[1]\tcv_agg's valid binary_logloss: 0.971773 + 0.299887\n",
      "Training until validation scores don't improve for 100 rounds\n"
     ]
    },
    {
     "name": "stderr",
     "output_type": "stream",
     "text": [
      "num_leaves, val_score: 0.971773:  70%|#######   | 14/20 [00:00<00:00, 16.11it/s]"
     ]
    },
    {
     "name": "stdout",
     "output_type": "stream",
     "text": [
      "[100]\tcv_agg's valid binary_logloss: 0.971773 + 0.299887\n",
      "Early stopping, best iteration is:\n",
      "[1]\tcv_agg's valid binary_logloss: 0.971773 + 0.299887\n",
      "Training until validation scores don't improve for 100 rounds\n",
      "[100]\tcv_agg's valid binary_logloss: 0.971773 + 0.299887\n",
      "Early stopping, best iteration is:\n",
      "[1]\tcv_agg's valid binary_logloss: 0.971773 + 0.299887\n"
     ]
    },
    {
     "name": "stderr",
     "output_type": "stream",
     "text": [
      "num_leaves, val_score: 0.971773:  75%|#######5  | 15/20 [00:00<00:00, 16.11it/s]"
     ]
    },
    {
     "name": "stdout",
     "output_type": "stream",
     "text": [
      "Training until validation scores don't improve for 100 rounds\n",
      "[100]\tcv_agg's valid binary_logloss: 0.971773 + 0.299887\n",
      "Early stopping, best iteration is:\n",
      "[1]\tcv_agg's valid binary_logloss: 0.971773 + 0.299887\n",
      "Training until validation scores don't improve for 100 rounds\n",
      "[100]\tcv_agg's valid binary_logloss: 0.971773 + 0.299887\n",
      "Early stopping, best iteration is:\n",
      "[1]\tcv_agg's valid binary_logloss: 0.971773 + 0.299887\n"
     ]
    },
    {
     "name": "stderr",
     "output_type": "stream",
     "text": [
      "num_leaves, val_score: 0.971773:  80%|########  | 16/20 [00:01<00:00, 15.37it/s]"
     ]
    },
    {
     "name": "stdout",
     "output_type": "stream",
     "text": [
      "Training until validation scores don't improve for 100 rounds\n",
      "[100]\tcv_agg's valid binary_logloss: 0.971773 + 0.299887\n",
      "Early stopping, best iteration is:\n",
      "[1]\tcv_agg's valid binary_logloss: 0.971773 + 0.299887\n"
     ]
    },
    {
     "name": "stderr",
     "output_type": "stream",
     "text": [
      "num_leaves, val_score: 0.971773:  90%|######### | 18/20 [00:01<00:00, 15.36it/s]"
     ]
    },
    {
     "name": "stdout",
     "output_type": "stream",
     "text": [
      "Training until validation scores don't improve for 100 rounds\n",
      "[100]\tcv_agg's valid binary_logloss: 0.971773 + 0.299887\n",
      "Early stopping, best iteration is:\n",
      "[1]\tcv_agg's valid binary_logloss: 0.971773 + 0.299887\n",
      "Training until validation scores don't improve for 100 rounds\n",
      "[100]\tcv_agg's valid binary_logloss: 0.971773 + 0.299887\n",
      "Early stopping, best iteration is:\n",
      "[1]\tcv_agg's valid binary_logloss: 0.971773 + 0.299887\n"
     ]
    },
    {
     "name": "stderr",
     "output_type": "stream",
     "text": [
      "num_leaves, val_score: 0.971773: 100%|##########| 20/20 [00:01<00:00, 15.41it/s]"
     ]
    },
    {
     "name": "stdout",
     "output_type": "stream",
     "text": [
      "Training until validation scores don't improve for 100 rounds\n",
      "[100]\tcv_agg's valid binary_logloss: 0.971773 + 0.299887\n",
      "Early stopping, best iteration is:\n",
      "[1]\tcv_agg's valid binary_logloss: 0.971773 + 0.299887\n"
     ]
    },
    {
     "name": "stderr",
     "output_type": "stream",
     "text": [
      "num_leaves, val_score: 0.971773: 100%|##########| 20/20 [00:01<00:00, 15.67it/s]\n",
      "bagging, val_score: 0.971773:  10%|#         | 1/10 [00:00<00:01,  7.33it/s]"
     ]
    },
    {
     "name": "stdout",
     "output_type": "stream",
     "text": [
      "Training until validation scores don't improve for 100 rounds\n",
      "[100]\tcv_agg's valid binary_logloss: 0.971773 + 0.299887\n",
      "Early stopping, best iteration is:\n",
      "[1]\tcv_agg's valid binary_logloss: 0.971773 + 0.299887\n",
      "Training until validation scores don't improve for 100 rounds\n",
      "[100]\tcv_agg's valid binary_logloss: 0.971773 + 0.299887\n",
      "Early stopping, best iteration is:\n",
      "[1]\tcv_agg's valid binary_logloss: 0.971773 + 0.299887\n"
     ]
    },
    {
     "name": "stderr",
     "output_type": "stream",
     "text": [
      "bagging, val_score: 0.971773:  20%|##        | 2/10 [00:00<00:00, 14.44it/s]"
     ]
    },
    {
     "name": "stdout",
     "output_type": "stream",
     "text": [
      "Training until validation scores don't improve for 100 rounds\n",
      "[100]\tcv_agg's valid binary_logloss: 0.971773 + 0.299887\n",
      "Early stopping, best iteration is:\n",
      "[1]\tcv_agg's valid binary_logloss: 0.971773 + 0.299887\n"
     ]
    },
    {
     "name": "stderr",
     "output_type": "stream",
     "text": [
      "bagging, val_score: 0.971773:  40%|####      | 4/10 [00:00<00:00, 13.75it/s]"
     ]
    },
    {
     "name": "stdout",
     "output_type": "stream",
     "text": [
      "Training until validation scores don't improve for 100 rounds\n",
      "[100]\tcv_agg's valid binary_logloss: 0.971773 + 0.299887\n",
      "Early stopping, best iteration is:\n",
      "[1]\tcv_agg's valid binary_logloss: 0.971773 + 0.299887\n",
      "Training until validation scores don't improve for 100 rounds\n"
     ]
    },
    {
     "name": "stderr",
     "output_type": "stream",
     "text": [
      "bagging, val_score: 0.971773:  50%|#####     | 5/10 [00:00<00:00, 13.75it/s]"
     ]
    },
    {
     "name": "stdout",
     "output_type": "stream",
     "text": [
      "[100]\tcv_agg's valid binary_logloss: 0.971773 + 0.299887\n",
      "Early stopping, best iteration is:\n",
      "[1]\tcv_agg's valid binary_logloss: 0.971773 + 0.299887\n",
      "Training until validation scores don't improve for 100 rounds\n"
     ]
    },
    {
     "name": "stderr",
     "output_type": "stream",
     "text": [
      "bagging, val_score: 0.971773:  60%|######    | 6/10 [00:00<00:00, 13.06it/s]"
     ]
    },
    {
     "name": "stdout",
     "output_type": "stream",
     "text": [
      "[100]\tcv_agg's valid binary_logloss: 0.971773 + 0.299887\n",
      "Early stopping, best iteration is:\n",
      "[1]\tcv_agg's valid binary_logloss: 0.971773 + 0.299887\n",
      "Training until validation scores don't improve for 100 rounds\n",
      "[100]\tcv_agg's valid binary_logloss: 0.971773 + 0.299887\n",
      "Early stopping, best iteration is:\n",
      "[1]\tcv_agg's valid binary_logloss: 0.971773 + 0.299887\n"
     ]
    },
    {
     "name": "stderr",
     "output_type": "stream",
     "text": [
      "bagging, val_score: 0.971773:  80%|########  | 8/10 [00:00<00:00, 12.20it/s]"
     ]
    },
    {
     "name": "stdout",
     "output_type": "stream",
     "text": [
      "Training until validation scores don't improve for 100 rounds\n",
      "[100]\tcv_agg's valid binary_logloss: 0.971773 + 0.299887\n",
      "Early stopping, best iteration is:\n",
      "[1]\tcv_agg's valid binary_logloss: 0.971773 + 0.299887\n"
     ]
    },
    {
     "name": "stderr",
     "output_type": "stream",
     "text": [
      "bagging, val_score: 0.971773:  90%|######### | 9/10 [00:00<00:00, 12.20it/s]"
     ]
    },
    {
     "name": "stdout",
     "output_type": "stream",
     "text": [
      "Training until validation scores don't improve for 100 rounds\n",
      "[100]\tcv_agg's valid binary_logloss: 0.971773 + 0.299887\n",
      "Early stopping, best iteration is:\n",
      "[1]\tcv_agg's valid binary_logloss: 0.971773 + 0.299887\n",
      "Training until validation scores don't improve for 100 rounds\n"
     ]
    },
    {
     "name": "stderr",
     "output_type": "stream",
     "text": [
      "bagging, val_score: 0.971773: 100%|##########| 10/10 [00:00<00:00, 12.63it/s]\n"
     ]
    },
    {
     "name": "stdout",
     "output_type": "stream",
     "text": [
      "[100]\tcv_agg's valid binary_logloss: 0.971773 + 0.299887\n",
      "Early stopping, best iteration is:\n",
      "[1]\tcv_agg's valid binary_logloss: 0.971773 + 0.299887\n"
     ]
    },
    {
     "name": "stderr",
     "output_type": "stream",
     "text": [
      "feature_fraction_stage2, val_score: 0.971773:   0%|          | 0/3 [00:00<?, ?it/s]"
     ]
    },
    {
     "name": "stdout",
     "output_type": "stream",
     "text": [
      "Training until validation scores don't improve for 100 rounds\n"
     ]
    },
    {
     "name": "stderr",
     "output_type": "stream",
     "text": [
      "feature_fraction_stage2, val_score: 0.971773:  67%|######6   | 2/3 [00:00<00:00, 15.49it/s]"
     ]
    },
    {
     "name": "stdout",
     "output_type": "stream",
     "text": [
      "[100]\tcv_agg's valid binary_logloss: 0.971773 + 0.299887\n",
      "Early stopping, best iteration is:\n",
      "[1]\tcv_agg's valid binary_logloss: 0.971773 + 0.299887\n",
      "Training until validation scores don't improve for 100 rounds\n",
      "[100]\tcv_agg's valid binary_logloss: 0.971773 + 0.299887\n",
      "Early stopping, best iteration is:\n",
      "[1]\tcv_agg's valid binary_logloss: 0.971773 + 0.299887\n",
      "Training until validation scores don't improve for 100 rounds\n",
      "[100]\tcv_agg's valid binary_logloss: 0.971773 + 0.299887\n",
      "Early stopping, best iteration is:\n",
      "[1]\tcv_agg's valid binary_logloss: 0.971773 + 0.299887\n"
     ]
    },
    {
     "name": "stderr",
     "output_type": "stream",
     "text": [
      "feature_fraction_stage2, val_score: 0.971773: 100%|##########| 3/3 [00:00<00:00, 16.39it/s]\n",
      "regularization_factors, val_score: 0.971773:   0%|          | 0/20 [00:00<?, ?it/s]"
     ]
    },
    {
     "name": "stdout",
     "output_type": "stream",
     "text": [
      "Training until validation scores don't improve for 100 rounds\n",
      "[100]\tcv_agg's valid binary_logloss: 0.971773 + 0.299887\n",
      "Early stopping, best iteration is:\n",
      "[1]\tcv_agg's valid binary_logloss: 0.971773 + 0.299887\n"
     ]
    },
    {
     "name": "stderr",
     "output_type": "stream",
     "text": [
      "regularization_factors, val_score: 0.971773:  10%|#         | 2/20 [00:00<00:01, 13.78it/s]"
     ]
    },
    {
     "name": "stdout",
     "output_type": "stream",
     "text": [
      "Training until validation scores don't improve for 100 rounds\n",
      "[100]\tcv_agg's valid binary_logloss: 0.971773 + 0.299887\n",
      "Early stopping, best iteration is:\n",
      "[1]\tcv_agg's valid binary_logloss: 0.971773 + 0.299887\n",
      "Training until validation scores don't improve for 100 rounds\n",
      "[100]\tcv_agg's valid binary_logloss: 0.971773 + 0.299887\n",
      "Early stopping, best iteration is:\n",
      "[1]\tcv_agg's valid binary_logloss: 0.971773 + 0.299887\n"
     ]
    },
    {
     "name": "stderr",
     "output_type": "stream",
     "text": [
      "regularization_factors, val_score: 0.971773:  15%|#5        | 3/20 [00:00<00:01, 13.78it/s]"
     ]
    },
    {
     "name": "stdout",
     "output_type": "stream",
     "text": [
      "Training until validation scores don't improve for 100 rounds\n"
     ]
    },
    {
     "name": "stderr",
     "output_type": "stream",
     "text": [
      "regularization_factors, val_score: 0.971773:  30%|###       | 6/20 [00:00<00:00, 14.87it/s]"
     ]
    },
    {
     "name": "stdout",
     "output_type": "stream",
     "text": [
      "[100]\tcv_agg's valid binary_logloss: 0.971773 + 0.299887\n",
      "Early stopping, best iteration is:\n",
      "[1]\tcv_agg's valid binary_logloss: 0.971773 + 0.299887\n",
      "Training until validation scores don't improve for 100 rounds\n",
      "[100]\tcv_agg's valid binary_logloss: 0.971773 + 0.299887\n",
      "Early stopping, best iteration is:\n",
      "[1]\tcv_agg's valid binary_logloss: 0.971773 + 0.299887\n",
      "Training until validation scores don't improve for 100 rounds\n",
      "[100]\tcv_agg's valid binary_logloss: 0.971773 + 0.299887\n",
      "Early stopping, best iteration is:\n",
      "[1]\tcv_agg's valid binary_logloss: 0.971773 + 0.299887\n",
      "Training until validation scores don't improve for 100 rounds\n",
      "[100]\tcv_agg's valid binary_logloss: 0.971773 + 0.299887"
     ]
    },
    {
     "name": "stderr",
     "output_type": "stream",
     "text": [
      "regularization_factors, val_score: 0.971773:  45%|####5     | 9/20 [00:00<00:00, 15.28it/s]"
     ]
    },
    {
     "name": "stdout",
     "output_type": "stream",
     "text": [
      "\n",
      "Early stopping, best iteration is:\n",
      "[1]\tcv_agg's valid binary_logloss: 0.971773 + 0.299887\n",
      "Training until validation scores don't improve for 100 rounds\n",
      "[100]\tcv_agg's valid binary_logloss: 0.971773 + 0.299887\n",
      "Early stopping, best iteration is:\n",
      "[1]\tcv_agg's valid binary_logloss: 0.971773 + 0.299887\n",
      "Training until validation scores don't improve for 100 rounds\n",
      "[100]\tcv_agg's valid binary_logloss: 0.971773 + 0.299887\n",
      "Early stopping, best iteration is:\n",
      "[1]\tcv_agg's valid binary_logloss: 0.971773 + 0.299887\n",
      "Training until validation scores don't improve for 100 rounds\n",
      "[100]\tcv_agg's valid binary_logloss: 0.971773 + 0.299887\n",
      "Early stopping, best iteration is:\n",
      "[1]\tcv_agg's valid binary_logloss: 0.971773 + 0.299887\n"
     ]
    },
    {
     "name": "stderr",
     "output_type": "stream",
     "text": [
      "regularization_factors, val_score: 0.971773:  60%|######    | 12/20 [00:00<00:00, 15.28it/s]"
     ]
    },
    {
     "name": "stdout",
     "output_type": "stream",
     "text": [
      "Training until validation scores don't improve for 100 rounds\n",
      "[100]\tcv_agg's valid binary_logloss: 0.971773 + 0.299887\n",
      "Early stopping, best iteration is:\n",
      "[1]\tcv_agg's valid binary_logloss: 0.971773 + 0.299887\n",
      "Training until validation scores don't improve for 100 rounds\n",
      "[100]\tcv_agg's valid binary_logloss: 0.971773 + 0.299887\n",
      "Early stopping, best iteration is:\n",
      "[1]\tcv_agg's valid binary_logloss: 0.971773 + 0.299887\n",
      "Training until validation scores don't improve for 100 rounds\n"
     ]
    },
    {
     "name": "stderr",
     "output_type": "stream",
     "text": [
      "regularization_factors, val_score: 0.971773:  75%|#######5  | 15/20 [00:01<00:00, 14.79it/s]"
     ]
    },
    {
     "name": "stdout",
     "output_type": "stream",
     "text": [
      "[100]\tcv_agg's valid binary_logloss: 0.971773 + 0.299887\n",
      "Early stopping, best iteration is:\n",
      "[1]\tcv_agg's valid binary_logloss: 0.971773 + 0.299887\n",
      "Training until validation scores don't improve for 100 rounds\n",
      "[100]\tcv_agg's valid binary_logloss: 0.971773 + 0.299887\n",
      "Early stopping, best iteration is:\n",
      "[1]\tcv_agg's valid binary_logloss: 0.971773 + 0.299887\n",
      "Training until validation scores don't improve for 100 rounds\n",
      "[100]\tcv_agg's valid binary_logloss: 0.971773 + 0.299887\n",
      "Early stopping, best iteration is:\n",
      "[1]\tcv_agg's valid binary_logloss: 0.971773 + 0.299887\n",
      "Training until validation scores don't improve for 100 rounds\n",
      "[100]\tcv_agg's valid binary_logloss: 0.971773 + 0.299887\n",
      "Early stopping, best iteration is:\n",
      "[1]\tcv_agg's valid binary_logloss: 0.971773 + 0.299887\n"
     ]
    },
    {
     "name": "stderr",
     "output_type": "stream",
     "text": [
      "regularization_factors, val_score: 0.971773:  90%|######### | 18/20 [00:01<00:00, 14.91it/s]"
     ]
    },
    {
     "name": "stdout",
     "output_type": "stream",
     "text": [
      "Training until validation scores don't improve for 100 rounds\n",
      "[100]\tcv_agg's valid binary_logloss: 0.971773 + 0.299887\n",
      "Early stopping, best iteration is:\n",
      "[1]\tcv_agg's valid binary_logloss: 0.971773 + 0.299887\n",
      "Training until validation scores don't improve for 100 rounds\n",
      "[100]\tcv_agg's valid binary_logloss: 0.971773 + 0.299887\n",
      "Early stopping, best iteration is:\n",
      "[1]\tcv_agg's valid binary_logloss: 0.971773 + 0.299887\n",
      "Training until validation scores don't improve for 100 rounds\n",
      "[100]\tcv_agg's valid binary_logloss: 0.971773 + 0.299887\n",
      "Early stopping, best iteration is:\n",
      "[1]\tcv_agg's valid binary_logloss: 0.971773 + 0.299887\n"
     ]
    },
    {
     "name": "stderr",
     "output_type": "stream",
     "text": [
      "regularization_factors, val_score: 0.971773: 100%|##########| 20/20 [00:01<00:00, 14.71it/s]\n"
     ]
    },
    {
     "name": "stdout",
     "output_type": "stream",
     "text": [
      "Training until validation scores don't improve for 100 rounds\n",
      "[100]\tcv_agg's valid binary_logloss: 0.971773 + 0.299887\n",
      "Early stopping, best iteration is:\n",
      "[1]\tcv_agg's valid binary_logloss: 0.971773 + 0.299887\n"
     ]
    },
    {
     "name": "stderr",
     "output_type": "stream",
     "text": [
      "min_child_samples, val_score: 0.971773:  40%|####      | 2/5 [00:00<00:00, 17.52it/s]"
     ]
    },
    {
     "name": "stdout",
     "output_type": "stream",
     "text": [
      "Training until validation scores don't improve for 100 rounds\n",
      "[100]\tcv_agg's valid binary_logloss: 0.971773 + 0.299887\n",
      "Early stopping, best iteration is:\n",
      "[1]\tcv_agg's valid binary_logloss: 0.971773 + 0.299887\n",
      "Training until validation scores don't improve for 100 rounds\n",
      "[100]\tcv_agg's valid binary_logloss: 0.971773 + 0.299887\n",
      "Early stopping, best iteration is:\n",
      "[1]\tcv_agg's valid binary_logloss: 0.971773 + 0.299887\n",
      "Training until validation scores don't improve for 100 rounds\n"
     ]
    },
    {
     "name": "stderr",
     "output_type": "stream",
     "text": [
      "min_child_samples, val_score: 0.555076: 100%|##########| 5/5 [00:00<00:00, 12.38it/s]"
     ]
    },
    {
     "name": "stdout",
     "output_type": "stream",
     "text": [
      "[100]\tcv_agg's valid binary_logloss: 1.84959 + 0.635005\n",
      "Early stopping, best iteration is:\n",
      "[15]\tcv_agg's valid binary_logloss: 0.565475 + 0.134604\n",
      "Training until validation scores don't improve for 100 rounds\n",
      "[100]\tcv_agg's valid binary_logloss: 0.848839 + 0.365578\n",
      "Early stopping, best iteration is:\n",
      "[16]\tcv_agg's valid binary_logloss: 0.555076 + 0.229282\n",
      "Training until validation scores don't improve for 100 rounds\n",
      "[100]\tcv_agg's valid binary_logloss: 0.971773 + 0.299887\n",
      "Early stopping, best iteration is:\n",
      "[1]\tcv_agg's valid binary_logloss: 0.971773 + 0.299887\n"
     ]
    },
    {
     "name": "stderr",
     "output_type": "stream",
     "text": [
      "\n"
     ]
    },
    {
     "name": "stdout",
     "output_type": "stream",
     "text": [
      "{'accuracy': 0.7777777777777778, 'balanced_accuracy': np.float64(0.7662337662337663), 'f1': np.float64(0.7142857142857143), 'precision': np.float64(0.7142857142857143), 'recall': np.float64(0.7142857142857143), 'specificity': np.float64(0.8181818181818182), 'ROC_AUC': np.float64(0.7662337662337663), 'MCC': np.float64(0.5324675324675324)}\n",
      "    accuracy: 0.7222 +- 0.0786\n",
      "    balanced_accuracy: 0.7150 +- 0.0787\n",
      "    f1: 0.6659 +- 0.0948\n",
      "    precision: 0.6548 +- 0.1104\n",
      "    recall: 0.6786 +- 0.0772\n",
      "    specificity: 0.7515 +- 0.0818\n",
      "    ROC_AUC: 0.7150 +- 0.0787\n",
      "    MCC: 0.4288 +- 0.1592\n",
      "\n",
      "PART: night\n",
      "  GBM\n"
     ]
    },
    {
     "name": "stderr",
     "output_type": "stream",
     "text": [
      "feature_fraction, val_score: 0.933634:  29%|##8       | 2/7 [00:00<00:00, 15.97it/s]"
     ]
    },
    {
     "name": "stdout",
     "output_type": "stream",
     "text": [
      "Training until validation scores don't improve for 100 rounds\n",
      "[100]\tcv_agg's valid binary_logloss: 0.933634 + 0.358021\n",
      "Early stopping, best iteration is:\n",
      "[1]\tcv_agg's valid binary_logloss: 0.933634 + 0.358021\n",
      "Training until validation scores don't improve for 100 rounds\n",
      "[100]\tcv_agg's valid binary_logloss: 0.933634 + 0.358021\n",
      "Early stopping, best iteration is:\n",
      "[1]\tcv_agg's valid binary_logloss: 0.933634 + 0.358021\n",
      "Training until validation scores don't improve for 100 rounds\n"
     ]
    },
    {
     "name": "stderr",
     "output_type": "stream",
     "text": [
      "feature_fraction, val_score: 0.933634:  43%|####2     | 3/7 [00:00<00:00, 15.97it/s]"
     ]
    },
    {
     "name": "stdout",
     "output_type": "stream",
     "text": [
      "[100]\tcv_agg's valid binary_logloss: 0.933634 + 0.358021\n",
      "Early stopping, best iteration is:\n",
      "[1]\tcv_agg's valid binary_logloss: 0.933634 + 0.358021\n",
      "Training until validation scores don't improve for 100 rounds\n"
     ]
    },
    {
     "name": "stderr",
     "output_type": "stream",
     "text": [
      "feature_fraction, val_score: 0.933634:  86%|########5 | 6/7 [00:00<00:00, 18.32it/s]"
     ]
    },
    {
     "name": "stdout",
     "output_type": "stream",
     "text": [
      "[100]\tcv_agg's valid binary_logloss: 0.933634 + 0.358021\n",
      "Early stopping, best iteration is:\n",
      "[1]\tcv_agg's valid binary_logloss: 0.933634 + 0.358021\n",
      "Training until validation scores don't improve for 100 rounds\n",
      "[100]\tcv_agg's valid binary_logloss: 0.933634 + 0.358021\n",
      "Early stopping, best iteration is:\n",
      "[1]\tcv_agg's valid binary_logloss: 0.933634 + 0.358021\n",
      "Training until validation scores don't improve for 100 rounds\n",
      "[100]\tcv_agg's valid binary_logloss: 0.933634 + 0.358021\n",
      "Early stopping, best iteration is:\n",
      "[1]\tcv_agg's valid binary_logloss: 0.933634 + 0.358021\n",
      "Training until validation scores don't improve for 100 rounds\n"
     ]
    },
    {
     "name": "stderr",
     "output_type": "stream",
     "text": [
      "feature_fraction, val_score: 0.933634: 100%|##########| 7/7 [00:00<00:00, 17.94it/s]\n"
     ]
    },
    {
     "name": "stdout",
     "output_type": "stream",
     "text": [
      "[100]\tcv_agg's valid binary_logloss: 0.933634 + 0.358021\n",
      "Early stopping, best iteration is:\n",
      "[1]\tcv_agg's valid binary_logloss: 0.933634 + 0.358021\n"
     ]
    },
    {
     "name": "stderr",
     "output_type": "stream",
     "text": [
      "num_leaves, val_score: 0.933634:   0%|          | 0/20 [00:00<?, ?it/s]"
     ]
    },
    {
     "name": "stdout",
     "output_type": "stream",
     "text": [
      "Training until validation scores don't improve for 100 rounds"
     ]
    },
    {
     "name": "stderr",
     "output_type": "stream",
     "text": [
      "num_leaves, val_score: 0.933634:  10%|#         | 2/20 [00:00<00:01, 16.14it/s]"
     ]
    },
    {
     "name": "stdout",
     "output_type": "stream",
     "text": [
      "\n",
      "[100]\tcv_agg's valid binary_logloss: 0.933634 + 0.358021\n",
      "Early stopping, best iteration is:\n",
      "[1]\tcv_agg's valid binary_logloss: 0.933634 + 0.358021\n",
      "Training until validation scores don't improve for 100 rounds\n",
      "[100]\tcv_agg's valid binary_logloss: 0.933634 + 0.358021\n",
      "Early stopping, best iteration is:\n",
      "[1]\tcv_agg's valid binary_logloss: 0.933634 + 0.358021\n",
      "Training until validation scores don't improve for 100 rounds\n",
      "[100]\tcv_agg's valid binary_logloss: 0.933634 + 0.358021\n",
      "Early stopping, best iteration is:\n",
      "[1]\tcv_agg's valid binary_logloss: 0.933634 + 0.358021\n"
     ]
    },
    {
     "name": "stderr",
     "output_type": "stream",
     "text": [
      "num_leaves, val_score: 0.933634:  30%|###       | 6/20 [00:00<00:00, 16.03it/s]"
     ]
    },
    {
     "name": "stdout",
     "output_type": "stream",
     "text": [
      "Training until validation scores don't improve for 100 rounds\n",
      "[100]\tcv_agg's valid binary_logloss: 0.933634 + 0.358021\n",
      "Early stopping, best iteration is:\n",
      "[1]\tcv_agg's valid binary_logloss: 0.933634 + 0.358021\n",
      "Training until validation scores don't improve for 100 rounds\n",
      "[100]\tcv_agg's valid binary_logloss: 0.933634 + 0.358021\n",
      "Early stopping, best iteration is:\n",
      "[1]\tcv_agg's valid binary_logloss: 0.933634 + 0.358021\n",
      "Training until validation scores don't improve for 100 rounds\n",
      "[100]\tcv_agg's valid binary_logloss: 0.933634 + 0.358021\n",
      "Early stopping, best iteration is:\n",
      "[1]\tcv_agg's valid binary_logloss: 0.933634 + 0.358021\n",
      "Training until validation scores don't improve for 100 rounds\n"
     ]
    },
    {
     "name": "stderr",
     "output_type": "stream",
     "text": [
      "num_leaves, val_score: 0.933634:  45%|####5     | 9/20 [00:00<00:00, 16.05it/s]"
     ]
    },
    {
     "name": "stdout",
     "output_type": "stream",
     "text": [
      "[100]\tcv_agg's valid binary_logloss: 0.933634 + 0.358021\n",
      "Early stopping, best iteration is:\n",
      "[1]\tcv_agg's valid binary_logloss: 0.933634 + 0.358021\n",
      "Training until validation scores don't improve for 100 rounds\n",
      "[100]\tcv_agg's valid binary_logloss: 0.933634 + 0.358021\n",
      "Early stopping, best iteration is:\n",
      "[1]\tcv_agg's valid binary_logloss: 0.933634 + 0.358021\n",
      "Training until validation scores don't improve for 100 rounds\n",
      "[100]\tcv_agg's valid binary_logloss: 0.933634 + 0.358021\n",
      "Early stopping, best iteration is:\n",
      "[1]\tcv_agg's valid binary_logloss: 0.933634 + 0.358021\n",
      "Training until validation scores don't improve for 100 rounds\n",
      "[100]\tcv_agg's valid binary_logloss: 0.933634 + 0.358021\n",
      "Early stopping, best iteration is:\n",
      "[1]\tcv_agg's valid binary_logloss: 0.933634 + 0.358021\n"
     ]
    },
    {
     "name": "stderr",
     "output_type": "stream",
     "text": [
      "num_leaves, val_score: 0.933634:  60%|######    | 12/20 [00:00<00:00, 14.88it/s]"
     ]
    },
    {
     "name": "stdout",
     "output_type": "stream",
     "text": [
      "Training until validation scores don't improve for 100 rounds\n",
      "[100]\tcv_agg's valid binary_logloss: 0.933634 + 0.358021\n",
      "Early stopping, best iteration is:\n",
      "[1]\tcv_agg's valid binary_logloss: 0.933634 + 0.358021\n",
      "Training until validation scores don't improve for 100 rounds\n",
      "[100]\tcv_agg's valid binary_logloss: 0.933634 + 0.358021\n",
      "Early stopping, best iteration is:\n",
      "[1]\tcv_agg's valid binary_logloss: 0.933634 + 0.358021\n",
      "Training until validation scores don't improve for 100 rounds\n",
      "[100]\tcv_agg's valid binary_logloss: 0.933634 + 0.358021\n",
      "Early stopping, best iteration is:\n",
      "[1]\tcv_agg's valid binary_logloss: 0.933634 + 0.358021\n"
     ]
    },
    {
     "name": "stderr",
     "output_type": "stream",
     "text": [
      "num_leaves, val_score: 0.933634:  75%|#######5  | 15/20 [00:01<00:00, 15.20it/s]"
     ]
    },
    {
     "name": "stdout",
     "output_type": "stream",
     "text": [
      "Training until validation scores don't improve for 100 rounds\n",
      "[100]\tcv_agg's valid binary_logloss: 0.933634 + 0.358021\n",
      "Early stopping, best iteration is:\n",
      "[1]\tcv_agg's valid binary_logloss: 0.933634 + 0.358021\n",
      "Training until validation scores don't improve for 100 rounds\n",
      "[100]\tcv_agg's valid binary_logloss: 0.933634 + 0.358021\n",
      "Early stopping, best iteration is:\n",
      "[1]\tcv_agg's valid binary_logloss: 0.933634 + 0.358021\n",
      "Training until validation scores don't improve for 100 rounds\n",
      "[100]\tcv_agg's valid binary_logloss: 0.933634 + 0.358021\n",
      "Early stopping, best iteration is:\n",
      "[1]\tcv_agg's valid binary_logloss: 0.933634 + 0.358021\n"
     ]
    },
    {
     "name": "stderr",
     "output_type": "stream",
     "text": [
      "num_leaves, val_score: 0.933634:  90%|######### | 18/20 [00:01<00:00, 14.26it/s]"
     ]
    },
    {
     "name": "stdout",
     "output_type": "stream",
     "text": [
      "Training until validation scores don't improve for 100 rounds\n",
      "[100]\tcv_agg's valid binary_logloss: 0.933634 + 0.358021\n",
      "Early stopping, best iteration is:\n",
      "[1]\tcv_agg's valid binary_logloss: 0.933634 + 0.358021\n",
      "Training until validation scores don't improve for 100 rounds\n",
      "[100]\tcv_agg's valid binary_logloss: 0.933634 + 0.358021\n",
      "Early stopping, best iteration is:\n",
      "[1]\tcv_agg's valid binary_logloss: 0.933634 + 0.358021\n",
      "Training until validation scores don't improve for 100 rounds\n"
     ]
    },
    {
     "name": "stderr",
     "output_type": "stream",
     "text": [
      "num_leaves, val_score: 0.933634: 100%|##########| 20/20 [00:01<00:00, 14.41it/s]\n"
     ]
    },
    {
     "name": "stdout",
     "output_type": "stream",
     "text": [
      "[100]\tcv_agg's valid binary_logloss: 0.933634 + 0.358021\n",
      "Early stopping, best iteration is:\n",
      "[1]\tcv_agg's valid binary_logloss: 0.933634 + 0.358021\n",
      "Training until validation scores don't improve for 100 rounds\n",
      "[100]\tcv_agg's valid binary_logloss: 0.933634 + 0.358021\n",
      "Early stopping, best iteration is:\n",
      "[1]\tcv_agg's valid binary_logloss: 0.933634 + 0.358021\n"
     ]
    },
    {
     "name": "stderr",
     "output_type": "stream",
     "text": [
      "bagging, val_score: 0.933634:  10%|#         | 1/10 [00:00<00:00, 10.34it/s]"
     ]
    },
    {
     "name": "stdout",
     "output_type": "stream",
     "text": [
      "Training until validation scores don't improve for 100 rounds\n",
      "[100]\tcv_agg's valid binary_logloss: 0.933634 + 0.358021\n",
      "Early stopping, best iteration is:\n",
      "[1]\tcv_agg's valid binary_logloss: 0.933634 + 0.358021\n"
     ]
    },
    {
     "name": "stderr",
     "output_type": "stream",
     "text": [
      "bagging, val_score: 0.933634:  20%|##        | 2/10 [00:00<00:00, 11.51it/s]"
     ]
    },
    {
     "name": "stdout",
     "output_type": "stream",
     "text": [
      "Training until validation scores don't improve for 100 rounds\n",
      "[100]\tcv_agg's valid binary_logloss: 0.933634 + 0.358021\n",
      "Early stopping, best iteration is:\n",
      "[1]\tcv_agg's valid binary_logloss: 0.933634 + 0.358021\n",
      "Training until validation scores don't improve for 100 rounds\n"
     ]
    },
    {
     "name": "stderr",
     "output_type": "stream",
     "text": [
      "bagging, val_score: 0.933634:  30%|###       | 3/10 [00:00<00:00, 11.51it/s]"
     ]
    },
    {
     "name": "stdout",
     "output_type": "stream",
     "text": [
      "[100]\tcv_agg's valid binary_logloss: 0.933634 + 0.358021\n",
      "Early stopping, best iteration is:\n",
      "[1]\tcv_agg's valid binary_logloss: 0.933634 + 0.358021\n",
      "Training until validation scores don't improve for 100 rounds\n",
      "[100]\tcv_agg's valid binary_logloss: 0.933634 + 0.358021\n",
      "Early stopping, best iteration is:\n",
      "[1]\tcv_agg's valid binary_logloss: 0.933634 + 0.358021\n"
     ]
    },
    {
     "name": "stderr",
     "output_type": "stream",
     "text": [
      "bagging, val_score: 0.933634:  40%|####      | 4/10 [00:00<00:00, 12.81it/s]"
     ]
    },
    {
     "name": "stdout",
     "output_type": "stream",
     "text": [
      "Training until validation scores don't improve for 100 rounds\n",
      "[100]\tcv_agg's valid binary_logloss: 0.933634 + 0.358021\n",
      "Early stopping, best iteration is:\n",
      "[1]\tcv_agg's valid binary_logloss: 0.933634 + 0.358021\n"
     ]
    },
    {
     "name": "stderr",
     "output_type": "stream",
     "text": [
      "bagging, val_score: 0.933634:  60%|######    | 6/10 [00:00<00:00, 11.52it/s]"
     ]
    },
    {
     "name": "stdout",
     "output_type": "stream",
     "text": [
      "Training until validation scores don't improve for 100 rounds\n",
      "[100]\tcv_agg's valid binary_logloss: 0.933634 + 0.358021\n",
      "Early stopping, best iteration is:\n",
      "[1]\tcv_agg's valid binary_logloss: 0.933634 + 0.358021\n"
     ]
    },
    {
     "name": "stderr",
     "output_type": "stream",
     "text": [
      "bagging, val_score: 0.933634:  70%|#######   | 7/10 [00:00<00:00, 11.52it/s]"
     ]
    },
    {
     "name": "stdout",
     "output_type": "stream",
     "text": [
      "Training until validation scores don't improve for 100 rounds\n",
      "[100]\tcv_agg's valid binary_logloss: 0.933634 + 0.358021\n",
      "Early stopping, best iteration is:\n",
      "[1]\tcv_agg's valid binary_logloss: 0.933634 + 0.358021\n",
      "Training until validation scores don't improve for 100 rounds\n"
     ]
    },
    {
     "name": "stderr",
     "output_type": "stream",
     "text": [
      "bagging, val_score: 0.933634:  80%|########  | 8/10 [00:00<00:00, 11.80it/s]"
     ]
    },
    {
     "name": "stdout",
     "output_type": "stream",
     "text": [
      "[100]\tcv_agg's valid binary_logloss: 0.933634 + 0.358021\n",
      "Early stopping, best iteration is:\n",
      "[1]\tcv_agg's valid binary_logloss: 0.933634 + 0.358021\n",
      "Training until validation scores don't improve for 100 rounds\n"
     ]
    },
    {
     "name": "stderr",
     "output_type": "stream",
     "text": [
      "bagging, val_score: 0.933634: 100%|##########| 10/10 [00:00<00:00, 11.89it/s]\n"
     ]
    },
    {
     "name": "stdout",
     "output_type": "stream",
     "text": [
      "[100]\tcv_agg's valid binary_logloss: 0.933634 + 0.358021\n",
      "Early stopping, best iteration is:\n",
      "[1]\tcv_agg's valid binary_logloss: 0.933634 + 0.358021\n",
      "Training until validation scores don't improve for 100 rounds\n",
      "[100]\tcv_agg's valid binary_logloss: 0.933634 + 0.358021\n",
      "Early stopping, best iteration is:\n",
      "[1]\tcv_agg's valid binary_logloss: 0.933634 + 0.358021\n"
     ]
    },
    {
     "name": "stderr",
     "output_type": "stream",
     "text": [
      "feature_fraction_stage2, val_score: 0.933634:  33%|###3      | 1/3 [00:00<00:00,  8.79it/s]"
     ]
    },
    {
     "name": "stdout",
     "output_type": "stream",
     "text": [
      "Training until validation scores don't improve for 100 rounds\n",
      "[100]\tcv_agg's valid binary_logloss: 0.933634 + 0.358021\n",
      "Early stopping, best iteration is:\n",
      "[1]\tcv_agg's valid binary_logloss: 0.933634 + 0.358021\n",
      "Training until validation scores don't improve for 100 rounds\n",
      "[100]\tcv_agg's valid binary_logloss: 0.933634 + 0.358021\n",
      "Early stopping, best iteration is:\n",
      "[1]\tcv_agg's valid binary_logloss: 0.933634 + 0.358021\n"
     ]
    },
    {
     "name": "stderr",
     "output_type": "stream",
     "text": [
      "feature_fraction_stage2, val_score: 0.933634: 100%|##########| 3/3 [00:00<00:00, 16.61it/s]\n"
     ]
    },
    {
     "name": "stdout",
     "output_type": "stream",
     "text": [
      "Training until validation scores don't improve for 100 rounds\n",
      "[100]\tcv_agg's valid binary_logloss: 0.933634 + 0.358021\n",
      "Early stopping, best iteration is:\n",
      "[1]\tcv_agg's valid binary_logloss: 0.933634 + 0.358021\n"
     ]
    },
    {
     "name": "stderr",
     "output_type": "stream",
     "text": [
      "regularization_factors, val_score: 0.933634:   5%|5         | 1/20 [00:00<00:02,  7.73it/s]"
     ]
    },
    {
     "name": "stdout",
     "output_type": "stream",
     "text": [
      "Training until validation scores don't improve for 100 rounds\n",
      "[100]\tcv_agg's valid binary_logloss: 0.933634 + 0.358021\n",
      "Early stopping, best iteration is:\n",
      "[1]\tcv_agg's valid binary_logloss: 0.933634 + 0.358021\n",
      "Training until validation scores don't improve for 100 rounds\n",
      "[100]\tcv_agg's valid binary_logloss: 0.933634 + 0.358021\n",
      "Early stopping, best iteration is:\n",
      "[1]\tcv_agg's valid binary_logloss: 0.933634 + 0.358021\n"
     ]
    },
    {
     "name": "stderr",
     "output_type": "stream",
     "text": [
      "regularization_factors, val_score: 0.933634:  10%|#         | 2/20 [00:00<00:01, 15.19it/s]"
     ]
    },
    {
     "name": "stdout",
     "output_type": "stream",
     "text": [
      "Training until validation scores don't improve for 100 rounds\n",
      "[100]\tcv_agg's valid binary_logloss: 0.933634 + 0.358021\n",
      "Early stopping, best iteration is:\n",
      "[1]\tcv_agg's valid binary_logloss: 0.933634 + 0.358021\n"
     ]
    },
    {
     "name": "stderr",
     "output_type": "stream",
     "text": [
      "regularization_factors, val_score: 0.933634:  20%|##        | 4/20 [00:00<00:01, 14.34it/s]"
     ]
    },
    {
     "name": "stdout",
     "output_type": "stream",
     "text": [
      "Training until validation scores don't improve for 100 rounds\n",
      "[100]\tcv_agg's valid binary_logloss: 0.933634 + 0.358021\n",
      "Early stopping, best iteration is:\n",
      "[1]\tcv_agg's valid binary_logloss: 0.933634 + 0.358021\n",
      "Training until validation scores don't improve for 100 rounds\n",
      "[100]\tcv_agg's valid binary_logloss: 0.933634 + 0.358021\n",
      "Early stopping, best iteration is:\n",
      "[1]\tcv_agg's valid binary_logloss: 0.933634 + 0.358021\n"
     ]
    },
    {
     "name": "stderr",
     "output_type": "stream",
     "text": [
      "regularization_factors, val_score: 0.933634:  30%|###       | 6/20 [00:00<00:00, 14.96it/s]"
     ]
    },
    {
     "name": "stdout",
     "output_type": "stream",
     "text": [
      "Training until validation scores don't improve for 100 rounds\n",
      "[100]\tcv_agg's valid binary_logloss: 0.933634 + 0.358021\n",
      "Early stopping, best iteration is:\n",
      "[1]\tcv_agg's valid binary_logloss: 0.933634 + 0.358021\n"
     ]
    },
    {
     "name": "stderr",
     "output_type": "stream",
     "text": [
      "regularization_factors, val_score: 0.933634:  40%|####      | 8/20 [00:00<00:00, 15.37it/s]"
     ]
    },
    {
     "name": "stdout",
     "output_type": "stream",
     "text": [
      "Training until validation scores don't improve for 100 rounds\n",
      "[100]\tcv_agg's valid binary_logloss: 0.933634 + 0.358021\n",
      "Early stopping, best iteration is:\n",
      "[1]\tcv_agg's valid binary_logloss: 0.933634 + 0.358021\n",
      "Training until validation scores don't improve for 100 rounds\n",
      "[100]\tcv_agg's valid binary_logloss: 0.933634 + 0.358021\n",
      "Early stopping, best iteration is:\n",
      "[1]\tcv_agg's valid binary_logloss: 0.933634 + 0.358021\n",
      "Training until validation scores don't improve for 100 rounds\n"
     ]
    },
    {
     "name": "stderr",
     "output_type": "stream",
     "text": [
      "regularization_factors, val_score: 0.933634:  45%|####5     | 9/20 [00:00<00:00, 15.37it/s]"
     ]
    },
    {
     "name": "stdout",
     "output_type": "stream",
     "text": [
      "[100]\tcv_agg's valid binary_logloss: 0.933634 + 0.358021\n",
      "Early stopping, best iteration is:\n",
      "[1]\tcv_agg's valid binary_logloss: 0.933634 + 0.358021\n",
      "Training until validation scores don't improve for 100 rounds\n",
      "[100]\tcv_agg's valid binary_logloss: 0.933634 + 0.358021\n",
      "Early stopping, best iteration is:\n",
      "[1]\tcv_agg's valid binary_logloss: 0.933634 + 0.358021\n"
     ]
    },
    {
     "name": "stderr",
     "output_type": "stream",
     "text": [
      "regularization_factors, val_score: 0.933634:  55%|#####5    | 11/20 [00:00<00:00, 15.73it/s]"
     ]
    },
    {
     "name": "stdout",
     "output_type": "stream",
     "text": [
      "Training until validation scores don't improve for 100 rounds\n",
      "[100]\tcv_agg's valid binary_logloss: 0.933634 + 0.358021\n",
      "Early stopping, best iteration is:\n",
      "[1]\tcv_agg's valid binary_logloss: 0.933634 + 0.358021\n",
      "Training until validation scores don't improve for 100 rounds\n",
      "[100]\tcv_agg's valid binary_logloss: 0.933634 + 0.358021\n",
      "Early stopping, best iteration is:\n",
      "[1]\tcv_agg's valid binary_logloss: 0.933634 + 0.358021\n"
     ]
    },
    {
     "name": "stderr",
     "output_type": "stream",
     "text": [
      "regularization_factors, val_score: 0.933634:  65%|######5   | 13/20 [00:00<00:00, 15.80it/s]"
     ]
    },
    {
     "name": "stdout",
     "output_type": "stream",
     "text": [
      "Training until validation scores don't improve for 100 rounds\n",
      "[100]\tcv_agg's valid binary_logloss: 0.933634 + 0.358021\n",
      "Early stopping, best iteration is:\n",
      "[1]\tcv_agg's valid binary_logloss: 0.933634 + 0.358021\n"
     ]
    },
    {
     "name": "stderr",
     "output_type": "stream",
     "text": [
      "regularization_factors, val_score: 0.933634:  70%|#######   | 14/20 [00:00<00:00, 15.28it/s]"
     ]
    },
    {
     "name": "stdout",
     "output_type": "stream",
     "text": [
      "Training until validation scores don't improve for 100 rounds\n",
      "[100]\tcv_agg's valid binary_logloss: 0.933634 + 0.358021\n",
      "Early stopping, best iteration is:\n",
      "[1]\tcv_agg's valid binary_logloss: 0.933634 + 0.358021\n",
      "Training until validation scores don't improve for 100 rounds\n",
      "[100]\tcv_agg's valid binary_logloss: 0.933634 + 0.358021\n",
      "Early stopping, best iteration is:\n",
      "[1]\tcv_agg's valid binary_logloss: 0.933634 + 0.358021\n"
     ]
    },
    {
     "name": "stderr",
     "output_type": "stream",
     "text": [
      "regularization_factors, val_score: 0.933634:  75%|#######5  | 15/20 [00:00<00:00, 15.28it/s]"
     ]
    },
    {
     "name": "stdout",
     "output_type": "stream",
     "text": [
      "Training until validation scores don't improve for 100 rounds\n"
     ]
    },
    {
     "name": "stderr",
     "output_type": "stream",
     "text": [
      "regularization_factors, val_score: 0.933634:  85%|########5 | 17/20 [00:01<00:00, 14.94it/s]"
     ]
    },
    {
     "name": "stdout",
     "output_type": "stream",
     "text": [
      "[100]\tcv_agg's valid binary_logloss: 0.933634 + 0.358021\n",
      "Early stopping, best iteration is:\n",
      "[1]\tcv_agg's valid binary_logloss: 0.933634 + 0.358021\n",
      "Training until validation scores don't improve for 100 rounds\n",
      "[100]\tcv_agg's valid binary_logloss: 0.933634 + 0.358021\n",
      "Early stopping, best iteration is:\n",
      "[1]\tcv_agg's valid binary_logloss: 0.933634 + 0.358021\n",
      "Training until validation scores don't improve for 100 rounds\n",
      "[100]\tcv_agg's valid binary_logloss: 0.933634 + 0.358021\n",
      "Early stopping, best iteration is:\n",
      "[1]\tcv_agg's valid binary_logloss: 0.933634 + 0.358021\n"
     ]
    },
    {
     "name": "stderr",
     "output_type": "stream",
     "text": [
      "regularization_factors, val_score: 0.933634:  90%|######### | 18/20 [00:01<00:00, 14.76it/s]"
     ]
    },
    {
     "name": "stdout",
     "output_type": "stream",
     "text": [
      "Training until validation scores don't improve for 100 rounds\n",
      "[100]\tcv_agg's valid binary_logloss: 0.933634 + 0.358021\n",
      "Early stopping, best iteration is:\n",
      "[1]\tcv_agg's valid binary_logloss: 0.933634 + 0.358021\n"
     ]
    },
    {
     "name": "stderr",
     "output_type": "stream",
     "text": [
      "regularization_factors, val_score: 0.933634: 100%|##########| 20/20 [00:01<00:00, 15.03it/s]\n"
     ]
    },
    {
     "name": "stdout",
     "output_type": "stream",
     "text": [
      "Training until validation scores don't improve for 100 rounds\n",
      "[100]\tcv_agg's valid binary_logloss: 0.933634 + 0.358021\n",
      "Early stopping, best iteration is:\n",
      "[1]\tcv_agg's valid binary_logloss: 0.933634 + 0.358021\n"
     ]
    },
    {
     "name": "stderr",
     "output_type": "stream",
     "text": [
      "min_child_samples, val_score: 0.933634:  20%|##        | 1/5 [00:00<00:00, 19.41it/s]"
     ]
    },
    {
     "name": "stdout",
     "output_type": "stream",
     "text": [
      "Training until validation scores don't improve for 100 rounds\n",
      "[100]\tcv_agg's valid binary_logloss: 0.933634 + 0.358021\n",
      "Early stopping, best iteration is:\n",
      "[1]\tcv_agg's valid binary_logloss: 0.933634 + 0.358021\n",
      "Training until validation scores don't improve for 100 rounds\n"
     ]
    },
    {
     "name": "stderr",
     "output_type": "stream",
     "text": [
      "min_child_samples, val_score: 0.933634:  40%|####      | 2/5 [00:00<00:00, 18.64it/s]"
     ]
    },
    {
     "name": "stdout",
     "output_type": "stream",
     "text": [
      "[100]\tcv_agg's valid binary_logloss: 0.933634 + 0.358021\n",
      "Early stopping, best iteration is:\n",
      "[1]\tcv_agg's valid binary_logloss: 0.933634 + 0.358021\n",
      "Training until validation scores don't improve for 100 rounds\n",
      "[100]\tcv_agg's valid binary_logloss: 1.5338 + 1.0308"
     ]
    },
    {
     "name": "stderr",
     "output_type": "stream",
     "text": [
      "min_child_samples, val_score: 0.724939:  60%|######    | 3/5 [00:00<00:00, 18.64it/s]"
     ]
    },
    {
     "name": "stdout",
     "output_type": "stream",
     "text": [
      "\n",
      "Early stopping, best iteration is:\n",
      "[12]\tcv_agg's valid binary_logloss: 0.724939 + 0.320195\n",
      "Training until validation scores don't improve for 100 rounds\n"
     ]
    },
    {
     "name": "stderr",
     "output_type": "stream",
     "text": [
      "min_child_samples, val_score: 0.724939: 100%|##########| 5/5 [00:00<00:00, 13.39it/s]"
     ]
    },
    {
     "name": "stdout",
     "output_type": "stream",
     "text": [
      "[100]\tcv_agg's valid binary_logloss: 0.907525 + 0.512597\n",
      "Early stopping, best iteration is:\n",
      "[15]\tcv_agg's valid binary_logloss: 0.726715 + 0.337743\n",
      "Training until validation scores don't improve for 100 rounds\n",
      "[100]\tcv_agg's valid binary_logloss: 0.933634 + 0.358021\n",
      "Early stopping, best iteration is:\n",
      "[1]\tcv_agg's valid binary_logloss: 0.933634 + 0.358021\n"
     ]
    },
    {
     "name": "stderr",
     "output_type": "stream",
     "text": [
      "\n"
     ]
    },
    {
     "name": "stdout",
     "output_type": "stream",
     "text": [
      "{'accuracy': 0.7222222222222222, 'balanced_accuracy': np.float64(0.7125), 'f1': np.float64(0.6666666666666666), 'precision': np.float64(0.7142857142857143), 'recall': np.float64(0.625), 'specificity': np.float64(0.8), 'ROC_AUC': np.float64(0.7125), 'MCC': np.float64(0.4332001127219817)}\n"
     ]
    },
    {
     "name": "stderr",
     "output_type": "stream",
     "text": [
      "feature_fraction, val_score: 0.971773:  29%|##8       | 2/7 [00:00<00:00, 15.80it/s]"
     ]
    },
    {
     "name": "stdout",
     "output_type": "stream",
     "text": [
      "Training until validation scores don't improve for 100 rounds\n",
      "[100]\tcv_agg's valid binary_logloss: 0.971773 + 0.299887\n",
      "Early stopping, best iteration is:\n",
      "[1]\tcv_agg's valid binary_logloss: 0.971773 + 0.299887\n",
      "Training until validation scores don't improve for 100 rounds\n",
      "[100]\tcv_agg's valid binary_logloss: 0.971773 + 0.299887\n",
      "Early stopping, best iteration is:\n",
      "[1]\tcv_agg's valid binary_logloss: 0.971773 + 0.299887\n",
      "Training until validation scores don't improve for 100 rounds\n",
      "[100]\tcv_agg's valid binary_logloss: 0.971773 + 0.299887\n",
      "Early stopping, best iteration is:\n",
      "[1]\tcv_agg's valid binary_logloss: 0.971773 + 0.299887\n"
     ]
    },
    {
     "name": "stderr",
     "output_type": "stream",
     "text": [
      "feature_fraction, val_score: 0.971773:  43%|####2     | 3/7 [00:00<00:00, 15.80it/s]"
     ]
    },
    {
     "name": "stdout",
     "output_type": "stream",
     "text": [
      "Training until validation scores don't improve for 100 rounds\n"
     ]
    },
    {
     "name": "stderr",
     "output_type": "stream",
     "text": [
      "feature_fraction, val_score: 0.971773:  71%|#######1  | 5/7 [00:00<00:00, 16.00it/s]"
     ]
    },
    {
     "name": "stdout",
     "output_type": "stream",
     "text": [
      "[100]\tcv_agg's valid binary_logloss: 0.971773 + 0.299887\n",
      "Early stopping, best iteration is:\n",
      "[1]\tcv_agg's valid binary_logloss: 0.971773 + 0.299887\n",
      "Training until validation scores don't improve for 100 rounds\n",
      "[100]\tcv_agg's valid binary_logloss: 0.971773 + 0.299887\n",
      "Early stopping, best iteration is:\n",
      "[1]\tcv_agg's valid binary_logloss: 0.971773 + 0.299887\n",
      "Training until validation scores don't improve for 100 rounds\n",
      "[100]\tcv_agg's valid binary_logloss: 0.971773 + 0.299887\n",
      "Early stopping, best iteration is:\n",
      "[1]\tcv_agg's valid binary_logloss: 0.971773 + 0.299887\n"
     ]
    },
    {
     "name": "stderr",
     "output_type": "stream",
     "text": [
      "feature_fraction, val_score: 0.971773:  86%|########5 | 6/7 [00:00<00:00, 15.28it/s]"
     ]
    },
    {
     "name": "stdout",
     "output_type": "stream",
     "text": [
      "Training until validation scores don't improve for 100 rounds\n"
     ]
    },
    {
     "name": "stderr",
     "output_type": "stream",
     "text": [
      "feature_fraction, val_score: 0.971773: 100%|##########| 7/7 [00:00<00:00, 14.11it/s]\n"
     ]
    },
    {
     "name": "stdout",
     "output_type": "stream",
     "text": [
      "[100]\tcv_agg's valid binary_logloss: 0.971773 + 0.299887\n",
      "Early stopping, best iteration is:\n",
      "[1]\tcv_agg's valid binary_logloss: 0.971773 + 0.299887\n"
     ]
    },
    {
     "name": "stderr",
     "output_type": "stream",
     "text": [
      "num_leaves, val_score: 0.971773:   5%|5         | 1/20 [00:00<00:01, 13.93it/s]"
     ]
    },
    {
     "name": "stdout",
     "output_type": "stream",
     "text": [
      "Training until validation scores don't improve for 100 rounds\n",
      "[100]\tcv_agg's valid binary_logloss: 0.971773 + 0.299887\n",
      "Early stopping, best iteration is:\n",
      "[1]\tcv_agg's valid binary_logloss: 0.971773 + 0.299887\n",
      "Training until validation scores don't improve for 100 rounds\n"
     ]
    },
    {
     "name": "stderr",
     "output_type": "stream",
     "text": [
      "num_leaves, val_score: 0.971773:  10%|#         | 2/20 [00:00<00:01, 10.24it/s]"
     ]
    },
    {
     "name": "stdout",
     "output_type": "stream",
     "text": [
      "[100]\tcv_agg's valid binary_logloss: 0.971773 + 0.299887\n",
      "Early stopping, best iteration is:\n",
      "[1]\tcv_agg's valid binary_logloss: 0.971773 + 0.299887\n"
     ]
    },
    {
     "name": "stderr",
     "output_type": "stream",
     "text": [
      "num_leaves, val_score: 0.971773:  20%|##        | 4/20 [00:00<00:01, 11.30it/s]"
     ]
    },
    {
     "name": "stdout",
     "output_type": "stream",
     "text": [
      "Training until validation scores don't improve for 100 rounds\n",
      "[100]\tcv_agg's valid binary_logloss: 0.971773 + 0.299887\n",
      "Early stopping, best iteration is:\n",
      "[1]\tcv_agg's valid binary_logloss: 0.971773 + 0.299887\n",
      "Training until validation scores don't improve for 100 rounds\n",
      "[100]\tcv_agg's valid binary_logloss: 0.971773 + 0.299887\n",
      "Early stopping, best iteration is:\n",
      "[1]\tcv_agg's valid binary_logloss: 0.971773 + 0.299887\n",
      "Training until validation scores don't improve for 100 rounds\n",
      "[100]\tcv_agg's valid binary_logloss: 0.971773 + 0.299887\n",
      "Early stopping, best iteration is:\n",
      "[1]\tcv_agg's valid binary_logloss: 0.971773 + 0.299887\n"
     ]
    },
    {
     "name": "stderr",
     "output_type": "stream",
     "text": [
      "num_leaves, val_score: 0.971773:  30%|###       | 6/20 [00:00<00:01, 11.99it/s]"
     ]
    },
    {
     "name": "stdout",
     "output_type": "stream",
     "text": [
      "Training until validation scores don't improve for 100 rounds\n",
      "[100]\tcv_agg's valid binary_logloss: 0.971773 + 0.299887\n",
      "Early stopping, best iteration is:\n",
      "[1]\tcv_agg's valid binary_logloss: 0.971773 + 0.299887\n",
      "Training until validation scores don't improve for 100 rounds\n"
     ]
    },
    {
     "name": "stderr",
     "output_type": "stream",
     "text": [
      "num_leaves, val_score: 0.971773:  35%|###5      | 7/20 [00:00<00:01, 11.99it/s]"
     ]
    },
    {
     "name": "stdout",
     "output_type": "stream",
     "text": [
      "[100]\tcv_agg's valid binary_logloss: 0.971773 + 0.299887\n",
      "Early stopping, best iteration is:\n",
      "[1]\tcv_agg's valid binary_logloss: 0.971773 + 0.299887\n",
      "Training until validation scores don't improve for 100 rounds\n",
      "[100]\tcv_agg's valid binary_logloss: 0.971773 + 0.299887\n",
      "Early stopping, best iteration is:\n",
      "[1]\tcv_agg's valid binary_logloss: 0.971773 + 0.299887\n"
     ]
    },
    {
     "name": "stderr",
     "output_type": "stream",
     "text": [
      "num_leaves, val_score: 0.971773:  40%|####      | 8/20 [00:00<00:00, 12.41it/s]"
     ]
    },
    {
     "name": "stdout",
     "output_type": "stream",
     "text": [
      "Training until validation scores don't improve for 100 rounds\n",
      "[100]\tcv_agg's valid binary_logloss: 0.971773 + 0.299887\n",
      "Early stopping, best iteration is:\n",
      "[1]\tcv_agg's valid binary_logloss: 0.971773 + 0.299887\n"
     ]
    },
    {
     "name": "stderr",
     "output_type": "stream",
     "text": [
      "num_leaves, val_score: 0.971773:  50%|#####     | 10/20 [00:00<00:00, 11.73it/s]"
     ]
    },
    {
     "name": "stdout",
     "output_type": "stream",
     "text": [
      "Training until validation scores don't improve for 100 rounds\n",
      "[100]\tcv_agg's valid binary_logloss: 0.971773 + 0.299887\n",
      "Early stopping, best iteration is:\n",
      "[1]\tcv_agg's valid binary_logloss: 0.971773 + 0.299887\n",
      "Training until validation scores don't improve for 100 rounds\n"
     ]
    },
    {
     "name": "stderr",
     "output_type": "stream",
     "text": [
      "num_leaves, val_score: 0.971773:  55%|#####5    | 11/20 [00:00<00:00, 11.73it/s]"
     ]
    },
    {
     "name": "stdout",
     "output_type": "stream",
     "text": [
      "[100]\tcv_agg's valid binary_logloss: 0.971773 + 0.299887\n",
      "Early stopping, best iteration is:\n",
      "[1]\tcv_agg's valid binary_logloss: 0.971773 + 0.299887\n",
      "Training until validation scores don't improve for 100 rounds\n"
     ]
    },
    {
     "name": "stderr",
     "output_type": "stream",
     "text": [
      "num_leaves, val_score: 0.971773:  65%|######5   | 13/20 [00:01<00:00, 12.07it/s]"
     ]
    },
    {
     "name": "stdout",
     "output_type": "stream",
     "text": [
      "[100]\tcv_agg's valid binary_logloss: 0.971773 + 0.299887\n",
      "Early stopping, best iteration is:\n",
      "[1]\tcv_agg's valid binary_logloss: 0.971773 + 0.299887\n",
      "Training until validation scores don't improve for 100 rounds\n",
      "[100]\tcv_agg's valid binary_logloss: 0.971773 + 0.299887\n",
      "Early stopping, best iteration is:\n",
      "[1]\tcv_agg's valid binary_logloss: 0.971773 + 0.299887\n",
      "Training until validation scores don't improve for 100 rounds\n"
     ]
    },
    {
     "name": "stderr",
     "output_type": "stream",
     "text": [
      "num_leaves, val_score: 0.971773:  70%|#######   | 14/20 [00:01<00:00, 12.32it/s]"
     ]
    },
    {
     "name": "stdout",
     "output_type": "stream",
     "text": [
      "[100]\tcv_agg's valid binary_logloss: 0.971773 + 0.299887\n",
      "Early stopping, best iteration is:\n",
      "[1]\tcv_agg's valid binary_logloss: 0.971773 + 0.299887\n",
      "Training until validation scores don't improve for 100 rounds\n"
     ]
    },
    {
     "name": "stderr",
     "output_type": "stream",
     "text": [
      "num_leaves, val_score: 0.971773:  80%|########  | 16/20 [00:01<00:00, 12.16it/s]"
     ]
    },
    {
     "name": "stdout",
     "output_type": "stream",
     "text": [
      "[100]\tcv_agg's valid binary_logloss: 0.971773 + 0.299887\n",
      "Early stopping, best iteration is:\n",
      "[1]\tcv_agg's valid binary_logloss: 0.971773 + 0.299887\n",
      "Training until validation scores don't improve for 100 rounds\n",
      "[100]\tcv_agg's valid binary_logloss: 0.971773 + 0.299887\n",
      "Early stopping, best iteration is:\n",
      "[1]\tcv_agg's valid binary_logloss: 0.971773 + 0.299887\n",
      "Training until validation scores don't improve for 100 rounds\n"
     ]
    },
    {
     "name": "stderr",
     "output_type": "stream",
     "text": [
      "num_leaves, val_score: 0.971773:  90%|######### | 18/20 [00:01<00:00, 11.77it/s]"
     ]
    },
    {
     "name": "stdout",
     "output_type": "stream",
     "text": [
      "[100]\tcv_agg's valid binary_logloss: 0.971773 + 0.299887\n",
      "Early stopping, best iteration is:\n",
      "[1]\tcv_agg's valid binary_logloss: 0.971773 + 0.299887\n",
      "Training until validation scores don't improve for 100 rounds\n",
      "[100]\tcv_agg's valid binary_logloss: 0.971773 + 0.299887\n",
      "Early stopping, best iteration is:\n",
      "[1]\tcv_agg's valid binary_logloss: 0.971773 + 0.299887\n",
      "Training until validation scores don't improve for 100 rounds\n"
     ]
    },
    {
     "name": "stderr",
     "output_type": "stream",
     "text": [
      "num_leaves, val_score: 0.971773:  95%|#########5| 19/20 [00:01<00:00, 11.77it/s]"
     ]
    },
    {
     "name": "stdout",
     "output_type": "stream",
     "text": [
      "[100]\tcv_agg's valid binary_logloss: 0.971773 + 0.299887\n",
      "Early stopping, best iteration is:\n",
      "[1]\tcv_agg's valid binary_logloss: 0.971773 + 0.299887\n",
      "Training until validation scores don't improve for 100 rounds\n"
     ]
    },
    {
     "name": "stderr",
     "output_type": "stream",
     "text": [
      "num_leaves, val_score: 0.971773: 100%|##########| 20/20 [00:01<00:00, 11.89it/s]\n"
     ]
    },
    {
     "name": "stdout",
     "output_type": "stream",
     "text": [
      "[100]\tcv_agg's valid binary_logloss: 0.971773 + 0.299887\n",
      "Early stopping, best iteration is:\n",
      "[1]\tcv_agg's valid binary_logloss: 0.971773 + 0.299887\n"
     ]
    },
    {
     "name": "stderr",
     "output_type": "stream",
     "text": [
      "bagging, val_score: 0.971773:   0%|          | 0/10 [00:00<?, ?it/s]"
     ]
    },
    {
     "name": "stdout",
     "output_type": "stream",
     "text": [
      "Training until validation scores don't improve for 100 rounds\n",
      "[100]\tcv_agg's valid binary_logloss: 0.971773 + 0.299887\n",
      "Early stopping, best iteration is:\n",
      "[1]\tcv_agg's valid binary_logloss: 0.971773 + 0.299887\n"
     ]
    },
    {
     "name": "stderr",
     "output_type": "stream",
     "text": [
      "bagging, val_score: 0.971773:  10%|#         | 1/10 [00:00<00:01,  5.52it/s]"
     ]
    },
    {
     "name": "stdout",
     "output_type": "stream",
     "text": [
      "Training until validation scores don't improve for 100 rounds\n",
      "[100]\tcv_agg's valid binary_logloss: 0.971773 + 0.299887\n",
      "Early stopping, best iteration is:\n",
      "[1]\tcv_agg's valid binary_logloss: 0.971773 + 0.299887\n"
     ]
    },
    {
     "name": "stderr",
     "output_type": "stream",
     "text": [
      "bagging, val_score: 0.971773:  20%|##        | 2/10 [00:00<00:00, 10.94it/s]"
     ]
    },
    {
     "name": "stdout",
     "output_type": "stream",
     "text": [
      "Training until validation scores don't improve for 100 rounds\n"
     ]
    },
    {
     "name": "stderr",
     "output_type": "stream",
     "text": [
      "bagging, val_score: 0.971773:  30%|###       | 3/10 [00:00<00:00, 10.94it/s]"
     ]
    },
    {
     "name": "stdout",
     "output_type": "stream",
     "text": [
      "[100]\tcv_agg's valid binary_logloss: 0.971773 + 0.299887\n",
      "Early stopping, best iteration is:\n",
      "[1]\tcv_agg's valid binary_logloss: 0.971773 + 0.299887\n",
      "Training until validation scores don't improve for 100 rounds\n"
     ]
    },
    {
     "name": "stderr",
     "output_type": "stream",
     "text": [
      "bagging, val_score: 0.971773:  40%|####      | 4/10 [00:00<00:00, 10.47it/s]"
     ]
    },
    {
     "name": "stdout",
     "output_type": "stream",
     "text": [
      "[100]\tcv_agg's valid binary_logloss: 0.971773 + 0.299887\n",
      "Early stopping, best iteration is:\n",
      "[1]\tcv_agg's valid binary_logloss: 0.971773 + 0.299887\n",
      "Training until validation scores don't improve for 100 rounds\n",
      "[100]\tcv_agg's valid binary_logloss: 0.971773 + 0.299887\n",
      "Early stopping, best iteration is:\n",
      "[1]\tcv_agg's valid binary_logloss: 0.971773 + 0.299887\n"
     ]
    },
    {
     "name": "stderr",
     "output_type": "stream",
     "text": [
      "bagging, val_score: 0.971773:  50%|#####     | 5/10 [00:00<00:00, 10.47it/s]"
     ]
    },
    {
     "name": "stdout",
     "output_type": "stream",
     "text": [
      "Training until validation scores don't improve for 100 rounds\n"
     ]
    },
    {
     "name": "stderr",
     "output_type": "stream",
     "text": [
      "bagging, val_score: 0.971773:  60%|######    | 6/10 [00:00<00:00, 10.07it/s]"
     ]
    },
    {
     "name": "stdout",
     "output_type": "stream",
     "text": [
      "[100]\tcv_agg's valid binary_logloss: 0.971773 + 0.299887\n",
      "Early stopping, best iteration is:\n",
      "[1]\tcv_agg's valid binary_logloss: 0.971773 + 0.299887\n"
     ]
    },
    {
     "name": "stderr",
     "output_type": "stream",
     "text": [
      "bagging, val_score: 0.971773:  60%|######    | 6/10 [00:00<00:00, 10.07it/s]"
     ]
    },
    {
     "name": "stdout",
     "output_type": "stream",
     "text": [
      "Training until validation scores don't improve for 100 rounds\n"
     ]
    },
    {
     "name": "stderr",
     "output_type": "stream",
     "text": [
      "bagging, val_score: 0.971773:  70%|#######   | 7/10 [00:00<00:00, 10.07it/s]"
     ]
    },
    {
     "name": "stdout",
     "output_type": "stream",
     "text": [
      "[100]\tcv_agg's valid binary_logloss: 0.971773 + 0.299887\n",
      "Early stopping, best iteration is:\n",
      "[1]\tcv_agg's valid binary_logloss: 0.971773 + 0.299887\n",
      "Training until validation scores don't improve for 100 rounds\n"
     ]
    },
    {
     "name": "stderr",
     "output_type": "stream",
     "text": [
      "bagging, val_score: 0.971773:  80%|########  | 8/10 [00:00<00:00,  9.21it/s]"
     ]
    },
    {
     "name": "stdout",
     "output_type": "stream",
     "text": [
      "[100]\tcv_agg's valid binary_logloss: 0.971773 + 0.299887\n",
      "Early stopping, best iteration is:\n",
      "[1]\tcv_agg's valid binary_logloss: 0.971773 + 0.299887\n",
      "Training until validation scores don't improve for 100 rounds\n"
     ]
    },
    {
     "name": "stderr",
     "output_type": "stream",
     "text": [
      "bagging, val_score: 0.971773:  90%|######### | 9/10 [00:00<00:00,  9.21it/s]"
     ]
    },
    {
     "name": "stdout",
     "output_type": "stream",
     "text": [
      "[100]\tcv_agg's valid binary_logloss: 0.971773 + 0.299887\n",
      "Early stopping, best iteration is:\n",
      "[1]\tcv_agg's valid binary_logloss: 0.971773 + 0.299887\n",
      "Training until validation scores don't improve for 100 rounds\n"
     ]
    },
    {
     "name": "stderr",
     "output_type": "stream",
     "text": [
      "bagging, val_score: 0.971773: 100%|##########| 10/10 [00:01<00:00,  8.17it/s]\n"
     ]
    },
    {
     "name": "stdout",
     "output_type": "stream",
     "text": [
      "[100]\tcv_agg's valid binary_logloss: 0.971773 + 0.299887\n",
      "Early stopping, best iteration is:\n",
      "[1]\tcv_agg's valid binary_logloss: 0.971773 + 0.299887\n"
     ]
    },
    {
     "name": "stderr",
     "output_type": "stream",
     "text": [
      "feature_fraction_stage2, val_score: 0.971773:  67%|######6   | 2/3 [00:00<00:00, 14.12it/s]"
     ]
    },
    {
     "name": "stdout",
     "output_type": "stream",
     "text": [
      "Training until validation scores don't improve for 100 rounds\n",
      "[100]\tcv_agg's valid binary_logloss: 0.971773 + 0.299887\n",
      "Early stopping, best iteration is:\n",
      "[1]\tcv_agg's valid binary_logloss: 0.971773 + 0.299887\n",
      "Training until validation scores don't improve for 100 rounds\n",
      "[100]\tcv_agg's valid binary_logloss: 0.971773 + 0.299887\n",
      "Early stopping, best iteration is:\n",
      "[1]\tcv_agg's valid binary_logloss: 0.971773 + 0.299887\n",
      "Training until validation scores don't improve for 100 rounds\n",
      "[100]\tcv_agg's valid binary_logloss: 0.971773 + 0.299887"
     ]
    },
    {
     "name": "stderr",
     "output_type": "stream",
     "text": [
      "feature_fraction_stage2, val_score: 0.971773: 100%|##########| 3/3 [00:00<00:00, 13.91it/s]\n"
     ]
    },
    {
     "name": "stdout",
     "output_type": "stream",
     "text": [
      "\n",
      "Early stopping, best iteration is:\n",
      "[1]\tcv_agg's valid binary_logloss: 0.971773 + 0.299887\n"
     ]
    },
    {
     "name": "stderr",
     "output_type": "stream",
     "text": [
      "regularization_factors, val_score: 0.971773:  10%|#         | 2/20 [00:00<00:01, 12.48it/s]"
     ]
    },
    {
     "name": "stdout",
     "output_type": "stream",
     "text": [
      "Training until validation scores don't improve for 100 rounds\n",
      "[100]\tcv_agg's valid binary_logloss: 0.971773 + 0.299887\n",
      "Early stopping, best iteration is:\n",
      "[1]\tcv_agg's valid binary_logloss: 0.971773 + 0.299887\n",
      "Training until validation scores don't improve for 100 rounds\n",
      "[100]\tcv_agg's valid binary_logloss: 0.971773 + 0.299887\n",
      "Early stopping, best iteration is:\n",
      "[1]\tcv_agg's valid binary_logloss: 0.971773 + 0.299887\n",
      "Training until validation scores don't improve for 100 rounds\n",
      "[100]\tcv_agg's valid binary_logloss: 0.971773 + 0.299887\n",
      "Early stopping, best iteration is:\n",
      "[1]\tcv_agg's valid binary_logloss: 0.971773 + 0.299887\n"
     ]
    },
    {
     "name": "stderr",
     "output_type": "stream",
     "text": [
      "regularization_factors, val_score: 0.971773:  20%|##        | 4/20 [00:00<00:01, 13.10it/s]"
     ]
    },
    {
     "name": "stdout",
     "output_type": "stream",
     "text": [
      "Training until validation scores don't improve for 100 rounds\n",
      "[100]\tcv_agg's valid binary_logloss: 0.971773 + 0.299887\n",
      "Early stopping, best iteration is:\n",
      "[1]\tcv_agg's valid binary_logloss: 0.971773 + 0.299887\n",
      "Training until validation scores don't improve for 100 rounds\n",
      "[100]\tcv_agg's valid binary_logloss: 0.971773 + 0.299887\n",
      "Early stopping, best iteration is:\n",
      "[1]\tcv_agg's valid binary_logloss: 0.971773 + 0.299887\n"
     ]
    },
    {
     "name": "stderr",
     "output_type": "stream",
     "text": [
      "regularization_factors, val_score: 0.971773:  25%|##5       | 5/20 [00:00<00:01, 13.10it/s]"
     ]
    },
    {
     "name": "stdout",
     "output_type": "stream",
     "text": [
      "Training until validation scores don't improve for 100 rounds\n",
      "[100]\tcv_agg's valid binary_logloss: 0.971773 + 0.299887\n",
      "Early stopping, best iteration is:\n",
      "[1]\tcv_agg's valid binary_logloss: 0.971773 + 0.299887\n"
     ]
    },
    {
     "name": "stderr",
     "output_type": "stream",
     "text": [
      "regularization_factors, val_score: 0.971773:  35%|###5      | 7/20 [00:00<00:00, 13.33it/s]"
     ]
    },
    {
     "name": "stdout",
     "output_type": "stream",
     "text": [
      "Training until validation scores don't improve for 100 rounds\n",
      "[100]\tcv_agg's valid binary_logloss: 0.971773 + 0.299887\n",
      "Early stopping, best iteration is:\n",
      "[1]\tcv_agg's valid binary_logloss: 0.971773 + 0.299887\n",
      "Training until validation scores don't improve for 100 rounds\n",
      "[100]\tcv_agg's valid binary_logloss: 0.971773 + 0.299887\n",
      "Early stopping, best iteration is:\n",
      "[1]\tcv_agg's valid binary_logloss: 0.971773 + 0.299887\n"
     ]
    },
    {
     "name": "stderr",
     "output_type": "stream",
     "text": [
      "regularization_factors, val_score: 0.971773:  40%|####      | 8/20 [00:00<00:00, 13.37it/s]"
     ]
    },
    {
     "name": "stdout",
     "output_type": "stream",
     "text": [
      "Training until validation scores don't improve for 100 rounds\n",
      "[100]\tcv_agg's valid binary_logloss: 0.971773 + 0.299887\n"
     ]
    },
    {
     "name": "stderr",
     "output_type": "stream",
     "text": [
      "regularization_factors, val_score: 0.971773:  50%|#####     | 10/20 [00:00<00:00, 13.05it/s]"
     ]
    },
    {
     "name": "stdout",
     "output_type": "stream",
     "text": [
      "Early stopping, best iteration is:\n",
      "[1]\tcv_agg's valid binary_logloss: 0.971773 + 0.299887\n",
      "Training until validation scores don't improve for 100 rounds\n",
      "[100]\tcv_agg's valid binary_logloss: 0.971773 + 0.299887\n",
      "Early stopping, best iteration is:\n",
      "[1]\tcv_agg's valid binary_logloss: 0.971773 + 0.299887\n",
      "Training until validation scores don't improve for 100 rounds\n"
     ]
    },
    {
     "name": "stderr",
     "output_type": "stream",
     "text": [
      "regularization_factors, val_score: 0.971773:  55%|#####5    | 11/20 [00:00<00:00, 13.05it/s]"
     ]
    },
    {
     "name": "stdout",
     "output_type": "stream",
     "text": [
      "[100]\tcv_agg's valid binary_logloss: 0.971773 + 0.299887\n",
      "Early stopping, best iteration is:\n",
      "[1]\tcv_agg's valid binary_logloss: 0.971773 + 0.299887\n"
     ]
    },
    {
     "name": "stderr",
     "output_type": "stream",
     "text": [
      "regularization_factors, val_score: 0.971773:  65%|######5   | 13/20 [00:01<00:00, 13.02it/s]"
     ]
    },
    {
     "name": "stdout",
     "output_type": "stream",
     "text": [
      "Training until validation scores don't improve for 100 rounds\n",
      "[100]\tcv_agg's valid binary_logloss: 0.971773 + 0.299887\n",
      "Early stopping, best iteration is:\n",
      "[1]\tcv_agg's valid binary_logloss: 0.971773 + 0.299887\n",
      "Training until validation scores don't improve for 100 rounds\n",
      "[100]\tcv_agg's valid binary_logloss: 0.971773 + 0.299887\n",
      "Early stopping, best iteration is:\n",
      "[1]\tcv_agg's valid binary_logloss: 0.971773 + 0.299887\n",
      "Training until validation scores don't improve for 100 rounds\n"
     ]
    },
    {
     "name": "stderr",
     "output_type": "stream",
     "text": [
      "regularization_factors, val_score: 0.971773:  80%|########  | 16/20 [00:01<00:00, 13.13it/s]"
     ]
    },
    {
     "name": "stdout",
     "output_type": "stream",
     "text": [
      "[100]\tcv_agg's valid binary_logloss: 0.971773 + 0.299887\n",
      "Early stopping, best iteration is:\n",
      "[1]\tcv_agg's valid binary_logloss: 0.971773 + 0.299887\n",
      "Training until validation scores don't improve for 100 rounds\n",
      "[100]\tcv_agg's valid binary_logloss: 0.971773 + 0.299887\n",
      "Early stopping, best iteration is:\n",
      "[1]\tcv_agg's valid binary_logloss: 0.971773 + 0.299887\n",
      "Training until validation scores don't improve for 100 rounds\n",
      "[100]\tcv_agg's valid binary_logloss: 0.971773 + 0.299887\n",
      "Early stopping, best iteration is:\n",
      "[1]\tcv_agg's valid binary_logloss: 0.971773 + 0.299887\n",
      "Training until validation scores don't improve for 100 rounds\n"
     ]
    },
    {
     "name": "stderr",
     "output_type": "stream",
     "text": [
      "regularization_factors, val_score: 0.971773:  95%|#########5| 19/20 [00:01<00:00, 13.10it/s]"
     ]
    },
    {
     "name": "stdout",
     "output_type": "stream",
     "text": [
      "[100]\tcv_agg's valid binary_logloss: 0.971773 + 0.299887\n",
      "Early stopping, best iteration is:\n",
      "[1]\tcv_agg's valid binary_logloss: 0.971773 + 0.299887\n",
      "Training until validation scores don't improve for 100 rounds\n",
      "[100]\tcv_agg's valid binary_logloss: 0.971773 + 0.299887\n",
      "Early stopping, best iteration is:\n",
      "[1]\tcv_agg's valid binary_logloss: 0.971773 + 0.299887\n",
      "Training until validation scores don't improve for 100 rounds\n",
      "[100]\tcv_agg's valid binary_logloss: 0.971773 + 0.299887\n",
      "Early stopping, best iteration is:\n",
      "[1]\tcv_agg's valid binary_logloss: 0.971773 + 0.299887\n",
      "Training until validation scores don't improve for 100 rounds\n"
     ]
    },
    {
     "name": "stderr",
     "output_type": "stream",
     "text": [
      "regularization_factors, val_score: 0.971773: 100%|##########| 20/20 [00:01<00:00, 12.86it/s]\n"
     ]
    },
    {
     "name": "stdout",
     "output_type": "stream",
     "text": [
      "[100]\tcv_agg's valid binary_logloss: 0.971773 + 0.299887\n",
      "Early stopping, best iteration is:\n",
      "[1]\tcv_agg's valid binary_logloss: 0.971773 + 0.299887\n"
     ]
    },
    {
     "name": "stderr",
     "output_type": "stream",
     "text": [
      "min_child_samples, val_score: 0.971773:  20%|##        | 1/5 [00:00<00:00, 12.91it/s]"
     ]
    },
    {
     "name": "stdout",
     "output_type": "stream",
     "text": [
      "Training until validation scores don't improve for 100 rounds\n",
      "[100]\tcv_agg's valid binary_logloss: 0.971773 + 0.299887\n",
      "Early stopping, best iteration is:\n",
      "[1]\tcv_agg's valid binary_logloss: 0.971773 + 0.299887\n",
      "Training until validation scores don't improve for 100 rounds\n",
      "[100]\tcv_agg's valid binary_logloss: 0.971773 + 0.299887\n",
      "Early stopping, best iteration is:\n",
      "[1]\tcv_agg's valid binary_logloss: 0.971773 + 0.299887\n"
     ]
    },
    {
     "name": "stderr",
     "output_type": "stream",
     "text": [
      "min_child_samples, val_score: 0.971773:  40%|####      | 2/5 [00:00<00:00, 10.94it/s]"
     ]
    },
    {
     "name": "stdout",
     "output_type": "stream",
     "text": [
      "Training until validation scores don't improve for 100 rounds"
     ]
    },
    {
     "name": "stderr",
     "output_type": "stream",
     "text": [
      "min_child_samples, val_score: 0.810402:  60%|######    | 3/5 [00:00<00:00, 10.94it/s]"
     ]
    },
    {
     "name": "stdout",
     "output_type": "stream",
     "text": [
      "\n",
      "[100]\tcv_agg's valid binary_logloss: 3.46633 + 1.908\n",
      "Early stopping, best iteration is:\n",
      "[9]\tcv_agg's valid binary_logloss: 0.810402 + 0.2423\n",
      "Training until validation scores don't improve for 100 rounds\n"
     ]
    },
    {
     "name": "stderr",
     "output_type": "stream",
     "text": [
      "min_child_samples, val_score: 0.744159: 100%|##########| 5/5 [00:00<00:00,  9.51it/s]\n"
     ]
    },
    {
     "name": "stdout",
     "output_type": "stream",
     "text": [
      "[100]\tcv_agg's valid binary_logloss: 0.936565 + 0.436953\n",
      "Early stopping, best iteration is:\n",
      "[16]\tcv_agg's valid binary_logloss: 0.744159 + 0.272409\n",
      "Training until validation scores don't improve for 100 rounds\n",
      "[100]\tcv_agg's valid binary_logloss: 0.971773 + 0.299887\n",
      "Early stopping, best iteration is:\n",
      "[1]\tcv_agg's valid binary_logloss: 0.971773 + 0.299887\n",
      "{'accuracy': 0.8333333333333334, 'balanced_accuracy': np.float64(0.8116883116883117), 'f1': np.float64(0.7692307692307693), 'precision': np.float64(0.8333333333333334), 'recall': np.float64(0.7142857142857143), 'specificity': np.float64(0.9090909090909091), 'ROC_AUC': np.float64(0.8116883116883117), 'MCC': np.float64(0.6446583712203042)}\n"
     ]
    },
    {
     "name": "stderr",
     "output_type": "stream",
     "text": [
      "feature_fraction, val_score: 0.971773:  29%|##8       | 2/7 [00:00<00:00, 15.20it/s]"
     ]
    },
    {
     "name": "stdout",
     "output_type": "stream",
     "text": [
      "Training until validation scores don't improve for 100 rounds\n",
      "[100]\tcv_agg's valid binary_logloss: 0.971773 + 0.299887\n",
      "Early stopping, best iteration is:\n",
      "[1]\tcv_agg's valid binary_logloss: 0.971773 + 0.299887\n",
      "Training until validation scores don't improve for 100 rounds\n",
      "[100]\tcv_agg's valid binary_logloss: 0.971773 + 0.299887\n",
      "Early stopping, best iteration is:\n",
      "[1]\tcv_agg's valid binary_logloss: 0.971773 + 0.299887\n",
      "Training until validation scores don't improve for 100 rounds\n",
      "[100]\tcv_agg's valid binary_logloss: 0.971773 + 0.299887\n",
      "Early stopping, best iteration is:\n",
      "[1]\tcv_agg's valid binary_logloss: 0.971773 + 0.299887\n"
     ]
    },
    {
     "name": "stderr",
     "output_type": "stream",
     "text": [
      "feature_fraction, val_score: 0.971773:  43%|####2     | 3/7 [00:00<00:00, 15.20it/s]"
     ]
    },
    {
     "name": "stdout",
     "output_type": "stream",
     "text": [
      "Training until validation scores don't improve for 100 rounds"
     ]
    },
    {
     "name": "stderr",
     "output_type": "stream",
     "text": [
      "feature_fraction, val_score: 0.971773:  86%|########5 | 6/7 [00:00<00:00, 15.90it/s]"
     ]
    },
    {
     "name": "stdout",
     "output_type": "stream",
     "text": [
      "\n",
      "[100]\tcv_agg's valid binary_logloss: 0.971773 + 0.299887\n",
      "Early stopping, best iteration is:\n",
      "[1]\tcv_agg's valid binary_logloss: 0.971773 + 0.299887\n",
      "Training until validation scores don't improve for 100 rounds\n",
      "[100]\tcv_agg's valid binary_logloss: 0.971773 + 0.299887\n",
      "Early stopping, best iteration is:\n",
      "[1]\tcv_agg's valid binary_logloss: 0.971773 + 0.299887\n",
      "Training until validation scores don't improve for 100 rounds\n",
      "[100]\tcv_agg's valid binary_logloss: 0.971773 + 0.299887\n",
      "Early stopping, best iteration is:\n",
      "[1]\tcv_agg's valid binary_logloss: 0.971773 + 0.299887\n",
      "Training until validation scores don't improve for 100 rounds\n"
     ]
    },
    {
     "name": "stderr",
     "output_type": "stream",
     "text": [
      "feature_fraction, val_score: 0.971773: 100%|##########| 7/7 [00:00<00:00, 15.59it/s]\n"
     ]
    },
    {
     "name": "stdout",
     "output_type": "stream",
     "text": [
      "[100]\tcv_agg's valid binary_logloss: 0.971773 + 0.299887\n",
      "Early stopping, best iteration is:\n",
      "[1]\tcv_agg's valid binary_logloss: 0.971773 + 0.299887\n"
     ]
    },
    {
     "name": "stderr",
     "output_type": "stream",
     "text": [
      "num_leaves, val_score: 0.971773:  10%|#         | 2/20 [00:00<00:01, 12.98it/s]"
     ]
    },
    {
     "name": "stdout",
     "output_type": "stream",
     "text": [
      "Training until validation scores don't improve for 100 rounds\n",
      "[100]\tcv_agg's valid binary_logloss: 0.971773 + 0.299887\n",
      "Early stopping, best iteration is:\n",
      "[1]\tcv_agg's valid binary_logloss: 0.971773 + 0.299887\n",
      "Training until validation scores don't improve for 100 rounds\n",
      "[100]\tcv_agg's valid binary_logloss: 0.971773 + 0.299887\n",
      "Early stopping, best iteration is:\n",
      "[1]\tcv_agg's valid binary_logloss: 0.971773 + 0.299887\n",
      "Training until validation scores don't improve for 100 rounds\n"
     ]
    },
    {
     "name": "stderr",
     "output_type": "stream",
     "text": [
      "num_leaves, val_score: 0.971773:  25%|##5       | 5/20 [00:00<00:01, 12.75it/s]"
     ]
    },
    {
     "name": "stdout",
     "output_type": "stream",
     "text": [
      "[100]\tcv_agg's valid binary_logloss: 0.971773 + 0.299887\n",
      "Early stopping, best iteration is:\n",
      "[1]\tcv_agg's valid binary_logloss: 0.971773 + 0.299887\n",
      "Training until validation scores don't improve for 100 rounds\n",
      "[100]\tcv_agg's valid binary_logloss: 0.971773 + 0.299887\n",
      "Early stopping, best iteration is:\n",
      "[1]\tcv_agg's valid binary_logloss: 0.971773 + 0.299887\n",
      "Training until validation scores don't improve for 100 rounds\n",
      "[100]\tcv_agg's valid binary_logloss: 0.971773 + 0.299887\n",
      "Early stopping, best iteration is:\n",
      "[1]\tcv_agg's valid binary_logloss: 0.971773 + 0.299887\n",
      "Training until validation scores don't improve for 100 rounds\n"
     ]
    },
    {
     "name": "stderr",
     "output_type": "stream",
     "text": [
      "num_leaves, val_score: 0.971773:  40%|####      | 8/20 [00:00<00:00, 13.11it/s]"
     ]
    },
    {
     "name": "stdout",
     "output_type": "stream",
     "text": [
      "[100]\tcv_agg's valid binary_logloss: 0.971773 + 0.299887\n",
      "Early stopping, best iteration is:\n",
      "[1]\tcv_agg's valid binary_logloss: 0.971773 + 0.299887\n",
      "Training until validation scores don't improve for 100 rounds\n",
      "[100]\tcv_agg's valid binary_logloss: 0.971773 + 0.299887\n",
      "Early stopping, best iteration is:\n",
      "[1]\tcv_agg's valid binary_logloss: 0.971773 + 0.299887\n",
      "Training until validation scores don't improve for 100 rounds\n",
      "[100]\tcv_agg's valid binary_logloss: 0.971773 + 0.299887\n",
      "Early stopping, best iteration is:\n",
      "[1]\tcv_agg's valid binary_logloss: 0.971773 + 0.299887\n",
      "Training until validation scores don't improve for 100 rounds\n"
     ]
    },
    {
     "name": "stderr",
     "output_type": "stream",
     "text": [
      "num_leaves, val_score: 0.971773:  55%|#####5    | 11/20 [00:00<00:00, 12.73it/s]"
     ]
    },
    {
     "name": "stdout",
     "output_type": "stream",
     "text": [
      "[100]\tcv_agg's valid binary_logloss: 0.971773 + 0.299887\n",
      "Early stopping, best iteration is:\n",
      "[1]\tcv_agg's valid binary_logloss: 0.971773 + 0.299887\n",
      "Training until validation scores don't improve for 100 rounds\n",
      "[100]\tcv_agg's valid binary_logloss: 0.971773 + 0.299887\n",
      "Early stopping, best iteration is:\n",
      "[1]\tcv_agg's valid binary_logloss: 0.971773 + 0.299887\n",
      "Training until validation scores don't improve for 100 rounds\n",
      "[100]\tcv_agg's valid binary_logloss: 0.971773 + 0.299887\n",
      "Early stopping, best iteration is:\n",
      "[1]\tcv_agg's valid binary_logloss: 0.971773 + 0.299887\n",
      "Training until validation scores don't improve for 100 rounds\n"
     ]
    },
    {
     "name": "stderr",
     "output_type": "stream",
     "text": [
      "num_leaves, val_score: 0.971773:  70%|#######   | 14/20 [00:01<00:00, 12.79it/s]"
     ]
    },
    {
     "name": "stdout",
     "output_type": "stream",
     "text": [
      "[100]\tcv_agg's valid binary_logloss: 0.971773 + 0.299887\n",
      "Early stopping, best iteration is:\n",
      "[1]\tcv_agg's valid binary_logloss: 0.971773 + 0.299887\n",
      "Training until validation scores don't improve for 100 rounds\n",
      "[100]\tcv_agg's valid binary_logloss: 0.971773 + 0.299887\n",
      "Early stopping, best iteration is:\n",
      "[1]\tcv_agg's valid binary_logloss: 0.971773 + 0.299887\n",
      "Training until validation scores don't improve for 100 rounds\n",
      "[100]\tcv_agg's valid binary_logloss: 0.971773 + 0.299887\n",
      "Early stopping, best iteration is:\n",
      "[1]\tcv_agg's valid binary_logloss: 0.971773 + 0.299887\n",
      "Training until validation scores don't improve for 100 rounds\n"
     ]
    },
    {
     "name": "stderr",
     "output_type": "stream",
     "text": [
      "num_leaves, val_score: 0.971773:  80%|########  | 16/20 [00:01<00:00, 11.57it/s]"
     ]
    },
    {
     "name": "stdout",
     "output_type": "stream",
     "text": [
      "[100]\tcv_agg's valid binary_logloss: 0.971773 + 0.299887\n",
      "Early stopping, best iteration is:\n",
      "[1]\tcv_agg's valid binary_logloss: 0.971773 + 0.299887\n",
      "Training until validation scores don't improve for 100 rounds\n",
      "[100]\tcv_agg's valid binary_logloss: 0.971773 + 0.299887\n",
      "Early stopping, best iteration is:\n",
      "[1]\tcv_agg's valid binary_logloss: 0.971773 + 0.299887\n",
      "Training until validation scores don't improve for 100 rounds\n"
     ]
    },
    {
     "name": "stderr",
     "output_type": "stream",
     "text": [
      "num_leaves, val_score: 0.971773:  90%|######### | 18/20 [00:01<00:00,  9.94it/s]"
     ]
    },
    {
     "name": "stdout",
     "output_type": "stream",
     "text": [
      "[100]\tcv_agg's valid binary_logloss: 0.971773 + 0.299887\n",
      "Early stopping, best iteration is:\n",
      "[1]\tcv_agg's valid binary_logloss: 0.971773 + 0.299887\n",
      "Training until validation scores don't improve for 100 rounds\n",
      "[100]\tcv_agg's valid binary_logloss: 0.971773 + 0.299887\n",
      "Early stopping, best iteration is:\n",
      "[1]\tcv_agg's valid binary_logloss: 0.971773 + 0.299887\n"
     ]
    },
    {
     "name": "stderr",
     "output_type": "stream",
     "text": [
      "num_leaves, val_score: 0.971773:  95%|#########5| 19/20 [00:01<00:00,  9.94it/s]"
     ]
    },
    {
     "name": "stdout",
     "output_type": "stream",
     "text": [
      "Training until validation scores don't improve for 100 rounds\n",
      "[100]\tcv_agg's valid binary_logloss: 0.971773 + 0.299887\n",
      "Early stopping, best iteration is:\n",
      "[1]\tcv_agg's valid binary_logloss: 0.971773 + 0.299887\n"
     ]
    },
    {
     "name": "stderr",
     "output_type": "stream",
     "text": [
      "num_leaves, val_score: 0.971773: 100%|##########| 20/20 [00:01<00:00, 10.30it/s]\n"
     ]
    },
    {
     "name": "stdout",
     "output_type": "stream",
     "text": [
      "Training until validation scores don't improve for 100 rounds\n",
      "[100]\tcv_agg's valid binary_logloss: 0.971773 + 0.299887\n",
      "Early stopping, best iteration is:\n",
      "[1]\tcv_agg's valid binary_logloss: 0.971773 + 0.299887\n"
     ]
    },
    {
     "name": "stderr",
     "output_type": "stream",
     "text": [
      "bagging, val_score: 0.971773:   0%|          | 0/10 [00:00<?, ?it/s]"
     ]
    },
    {
     "name": "stdout",
     "output_type": "stream",
     "text": [
      "Training until validation scores don't improve for 100 rounds\n"
     ]
    },
    {
     "name": "stderr",
     "output_type": "stream",
     "text": [
      "bagging, val_score: 0.971773:  10%|#         | 1/10 [00:00<00:01,  8.63it/s]"
     ]
    },
    {
     "name": "stdout",
     "output_type": "stream",
     "text": [
      "[100]\tcv_agg's valid binary_logloss: 0.971773 + 0.299887\n",
      "Early stopping, best iteration is:\n",
      "[1]\tcv_agg's valid binary_logloss: 0.971773 + 0.299887\n",
      "Training until validation scores don't improve for 100 rounds\n"
     ]
    },
    {
     "name": "stderr",
     "output_type": "stream",
     "text": [
      "bagging, val_score: 0.971773:  20%|##        | 2/10 [00:00<00:01,  7.59it/s]"
     ]
    },
    {
     "name": "stdout",
     "output_type": "stream",
     "text": [
      "[100]\tcv_agg's valid binary_logloss: 0.971773 + 0.299887\n",
      "Early stopping, best iteration is:\n",
      "[1]\tcv_agg's valid binary_logloss: 0.971773 + 0.299887\n",
      "Training until validation scores don't improve for 100 rounds\n"
     ]
    },
    {
     "name": "stderr",
     "output_type": "stream",
     "text": [
      "bagging, val_score: 0.971773:  30%|###       | 3/10 [00:00<00:00,  8.53it/s]"
     ]
    },
    {
     "name": "stdout",
     "output_type": "stream",
     "text": [
      "[100]\tcv_agg's valid binary_logloss: 0.971773 + 0.299887\n",
      "Early stopping, best iteration is:\n",
      "[1]\tcv_agg's valid binary_logloss: 0.971773 + 0.299887\n",
      "Training until validation scores don't improve for 100 rounds\n"
     ]
    },
    {
     "name": "stderr",
     "output_type": "stream",
     "text": [
      "bagging, val_score: 0.971773:  40%|####      | 4/10 [00:00<00:00,  9.05it/s]"
     ]
    },
    {
     "name": "stdout",
     "output_type": "stream",
     "text": [
      "[100]\tcv_agg's valid binary_logloss: 0.971773 + 0.299887\n",
      "Early stopping, best iteration is:\n",
      "[1]\tcv_agg's valid binary_logloss: 0.971773 + 0.299887\n",
      "Training until validation scores don't improve for 100 rounds\n"
     ]
    },
    {
     "name": "stderr",
     "output_type": "stream",
     "text": [
      "bagging, val_score: 0.971773:  50%|#####     | 5/10 [00:00<00:00,  9.20it/s]"
     ]
    },
    {
     "name": "stdout",
     "output_type": "stream",
     "text": [
      "[100]\tcv_agg's valid binary_logloss: 0.971773 + 0.299887\n",
      "Early stopping, best iteration is:\n",
      "[1]\tcv_agg's valid binary_logloss: 0.971773 + 0.299887\n",
      "Training until validation scores don't improve for 100 rounds\n"
     ]
    },
    {
     "name": "stderr",
     "output_type": "stream",
     "text": [
      "bagging, val_score: 0.971773:  60%|######    | 6/10 [00:00<00:00,  8.70it/s]"
     ]
    },
    {
     "name": "stdout",
     "output_type": "stream",
     "text": [
      "[100]\tcv_agg's valid binary_logloss: 0.971773 + 0.299887\n",
      "Early stopping, best iteration is:\n",
      "[1]\tcv_agg's valid binary_logloss: 0.971773 + 0.299887\n",
      "Training until validation scores don't improve for 100 rounds\n"
     ]
    },
    {
     "name": "stderr",
     "output_type": "stream",
     "text": [
      "bagging, val_score: 0.971773:  70%|#######   | 7/10 [00:00<00:00,  8.48it/s]"
     ]
    },
    {
     "name": "stdout",
     "output_type": "stream",
     "text": [
      "[100]\tcv_agg's valid binary_logloss: 0.971773 + 0.299887\n",
      "Early stopping, best iteration is:\n",
      "[1]\tcv_agg's valid binary_logloss: 0.971773 + 0.299887\n",
      "Training until validation scores don't improve for 100 rounds\n"
     ]
    },
    {
     "name": "stderr",
     "output_type": "stream",
     "text": [
      "bagging, val_score: 0.971773:  80%|########  | 8/10 [00:00<00:00,  8.70it/s]"
     ]
    },
    {
     "name": "stdout",
     "output_type": "stream",
     "text": [
      "[100]\tcv_agg's valid binary_logloss: 0.971773 + 0.299887\n",
      "Early stopping, best iteration is:\n",
      "[1]\tcv_agg's valid binary_logloss: 0.971773 + 0.299887\n",
      "Training until validation scores don't improve for 100 rounds\n",
      "[100]\tcv_agg's valid binary_logloss: 0.971773 + 0.299887\n",
      "Early stopping, best iteration is:\n",
      "[1]\tcv_agg's valid binary_logloss: 0.971773 + 0.299887\n"
     ]
    },
    {
     "name": "stderr",
     "output_type": "stream",
     "text": [
      "bagging, val_score: 0.971773:  90%|######### | 9/10 [00:01<00:00,  8.70it/s]"
     ]
    },
    {
     "name": "stdout",
     "output_type": "stream",
     "text": [
      "Training until validation scores don't improve for 100 rounds\n",
      "[100]\tcv_agg's valid binary_logloss: 0.971773 + 0.299887\n",
      "Early stopping, best iteration is:\n",
      "[1]\tcv_agg's valid binary_logloss: 0.971773 + 0.299887\n"
     ]
    },
    {
     "name": "stderr",
     "output_type": "stream",
     "text": [
      "bagging, val_score: 0.971773: 100%|##########| 10/10 [00:01<00:00,  8.93it/s]\n",
      "feature_fraction_stage2, val_score: 0.971773:  33%|###3      | 1/3 [00:00<00:00, 13.91it/s]"
     ]
    },
    {
     "name": "stdout",
     "output_type": "stream",
     "text": [
      "Training until validation scores don't improve for 100 rounds\n",
      "[100]\tcv_agg's valid binary_logloss: 0.971773 + 0.299887\n",
      "Early stopping, best iteration is:\n",
      "[1]\tcv_agg's valid binary_logloss: 0.971773 + 0.299887\n",
      "Training until validation scores don't improve for 100 rounds\n"
     ]
    },
    {
     "name": "stderr",
     "output_type": "stream",
     "text": [
      "feature_fraction_stage2, val_score: 0.971773:  67%|######6   | 2/3 [00:00<00:00, 13.35it/s]"
     ]
    },
    {
     "name": "stdout",
     "output_type": "stream",
     "text": [
      "[100]\tcv_agg's valid binary_logloss: 0.971773 + 0.299887\n",
      "Early stopping, best iteration is:\n",
      "[1]\tcv_agg's valid binary_logloss: 0.971773 + 0.299887\n",
      "Training until validation scores don't improve for 100 rounds\n"
     ]
    },
    {
     "name": "stderr",
     "output_type": "stream",
     "text": [
      "feature_fraction_stage2, val_score: 0.971773: 100%|##########| 3/3 [00:00<00:00, 13.00it/s]\n"
     ]
    },
    {
     "name": "stdout",
     "output_type": "stream",
     "text": [
      "[100]\tcv_agg's valid binary_logloss: 0.971773 + 0.299887\n",
      "Early stopping, best iteration is:\n",
      "[1]\tcv_agg's valid binary_logloss: 0.971773 + 0.299887\n"
     ]
    },
    {
     "name": "stderr",
     "output_type": "stream",
     "text": [
      "regularization_factors, val_score: 0.971773:   0%|          | 0/20 [00:00<?, ?it/s]"
     ]
    },
    {
     "name": "stdout",
     "output_type": "stream",
     "text": [
      "Training until validation scores don't improve for 100 rounds\n",
      "[100]\tcv_agg's valid binary_logloss: 0.971773 + 0.299887\n",
      "Early stopping, best iteration is:\n",
      "[1]\tcv_agg's valid binary_logloss: 0.971773 + 0.299887\n"
     ]
    },
    {
     "name": "stderr",
     "output_type": "stream",
     "text": [
      "regularization_factors, val_score: 0.971773:   5%|5         | 1/20 [00:00<00:03,  5.38it/s]"
     ]
    },
    {
     "name": "stdout",
     "output_type": "stream",
     "text": [
      "Training until validation scores don't improve for 100 rounds\n",
      "[100]\tcv_agg's valid binary_logloss: 0.971773 + 0.299887\n",
      "Early stopping, best iteration is:\n",
      "[1]\tcv_agg's valid binary_logloss: 0.971773 + 0.299887\n"
     ]
    },
    {
     "name": "stderr",
     "output_type": "stream",
     "text": [
      "regularization_factors, val_score: 0.971773:  10%|#         | 2/20 [00:00<00:01, 10.59it/s]"
     ]
    },
    {
     "name": "stdout",
     "output_type": "stream",
     "text": [
      "Training until validation scores don't improve for 100 rounds\n"
     ]
    },
    {
     "name": "stderr",
     "output_type": "stream",
     "text": [
      "regularization_factors, val_score: 0.971773:  15%|#5        | 3/20 [00:00<00:01, 10.59it/s]"
     ]
    },
    {
     "name": "stdout",
     "output_type": "stream",
     "text": [
      "[100]\tcv_agg's valid binary_logloss: 0.971773 + 0.299887\n",
      "Early stopping, best iteration is:\n",
      "[1]\tcv_agg's valid binary_logloss: 0.971773 + 0.299887\n",
      "Training until validation scores don't improve for 100 rounds\n"
     ]
    },
    {
     "name": "stderr",
     "output_type": "stream",
     "text": [
      "regularization_factors, val_score: 0.971773:  20%|##        | 4/20 [00:00<00:01, 11.62it/s]"
     ]
    },
    {
     "name": "stdout",
     "output_type": "stream",
     "text": [
      "[100]\tcv_agg's valid binary_logloss: 0.971773 + 0.299887\n",
      "Early stopping, best iteration is:\n",
      "[1]\tcv_agg's valid binary_logloss: 0.971773 + 0.299887\n",
      "Training until validation scores don't improve for 100 rounds\n",
      "[100]\tcv_agg's valid binary_logloss: 0.971773 + 0.299887\n",
      "Early stopping, best iteration is:\n",
      "[1]\tcv_agg's valid binary_logloss: 0.971773 + 0.299887\n"
     ]
    },
    {
     "name": "stderr",
     "output_type": "stream",
     "text": [
      "regularization_factors, val_score: 0.971773:  25%|##5       | 5/20 [00:00<00:01, 11.62it/s]"
     ]
    },
    {
     "name": "stdout",
     "output_type": "stream",
     "text": [
      "Training until validation scores don't improve for 100 rounds"
     ]
    },
    {
     "name": "stderr",
     "output_type": "stream",
     "text": [
      "regularization_factors, val_score: 0.971773:  30%|###       | 6/20 [00:00<00:01, 12.00it/s]"
     ]
    },
    {
     "name": "stdout",
     "output_type": "stream",
     "text": [
      "\n",
      "[100]\tcv_agg's valid binary_logloss: 0.971773 + 0.299887\n",
      "Early stopping, best iteration is:\n",
      "[1]\tcv_agg's valid binary_logloss: 0.971773 + 0.299887\n"
     ]
    },
    {
     "name": "stderr",
     "output_type": "stream",
     "text": [
      "regularization_factors, val_score: 0.971773:  35%|###5      | 7/20 [00:00<00:01, 12.00it/s]"
     ]
    },
    {
     "name": "stdout",
     "output_type": "stream",
     "text": [
      "Training until validation scores don't improve for 100 rounds\n",
      "[100]\tcv_agg's valid binary_logloss: 0.971773 + 0.299887\n",
      "Early stopping, best iteration is:\n",
      "[1]\tcv_agg's valid binary_logloss: 0.971773 + 0.299887\n",
      "Training until validation scores don't improve for 100 rounds\n"
     ]
    },
    {
     "name": "stderr",
     "output_type": "stream",
     "text": [
      "regularization_factors, val_score: 0.971773:  40%|####      | 8/20 [00:00<00:00, 12.31it/s]"
     ]
    },
    {
     "name": "stdout",
     "output_type": "stream",
     "text": [
      "[100]\tcv_agg's valid binary_logloss: 0.971773 + 0.299887\n",
      "Early stopping, best iteration is:\n",
      "[1]\tcv_agg's valid binary_logloss: 0.971773 + 0.299887\n",
      "Training until validation scores don't improve for 100 rounds\n"
     ]
    },
    {
     "name": "stderr",
     "output_type": "stream",
     "text": [
      "regularization_factors, val_score: 0.971773:  50%|#####     | 10/20 [00:00<00:00, 12.09it/s]"
     ]
    },
    {
     "name": "stdout",
     "output_type": "stream",
     "text": [
      "[100]\tcv_agg's valid binary_logloss: 0.971773 + 0.299887\n",
      "Early stopping, best iteration is:\n",
      "[1]\tcv_agg's valid binary_logloss: 0.971773 + 0.299887\n",
      "Training until validation scores don't improve for 100 rounds\n",
      "[100]\tcv_agg's valid binary_logloss: 0.971773 + 0.299887\n",
      "Early stopping, best iteration is:\n",
      "[1]\tcv_agg's valid binary_logloss: 0.971773 + 0.299887\n"
     ]
    },
    {
     "name": "stderr",
     "output_type": "stream",
     "text": [
      "regularization_factors, val_score: 0.971773:  55%|#####5    | 11/20 [00:00<00:00, 12.09it/s]"
     ]
    },
    {
     "name": "stdout",
     "output_type": "stream",
     "text": [
      "Training until validation scores don't improve for 100 rounds\n",
      "[100]\tcv_agg's valid binary_logloss: 0.971773 + 0.299887\n",
      "Early stopping, best iteration is:\n",
      "[1]\tcv_agg's valid binary_logloss: 0.971773 + 0.299887\n",
      "Training until validation scores don't improve for 100 rounds\n"
     ]
    },
    {
     "name": "stderr",
     "output_type": "stream",
     "text": [
      "regularization_factors, val_score: 0.971773:  60%|######    | 12/20 [00:00<00:00, 12.40it/s]"
     ]
    },
    {
     "name": "stdout",
     "output_type": "stream",
     "text": [
      "[100]\tcv_agg's valid binary_logloss: 0.971773 + 0.299887\n",
      "Early stopping, best iteration is:\n",
      "[1]\tcv_agg's valid binary_logloss: 0.971773 + 0.299887\n",
      "Training until validation scores don't improve for 100 rounds\n"
     ]
    },
    {
     "name": "stderr",
     "output_type": "stream",
     "text": [
      "regularization_factors, val_score: 0.971773:  70%|#######   | 14/20 [00:01<00:00, 12.47it/s]"
     ]
    },
    {
     "name": "stdout",
     "output_type": "stream",
     "text": [
      "[100]\tcv_agg's valid binary_logloss: 0.971773 + 0.299887\n",
      "Early stopping, best iteration is:\n",
      "[1]\tcv_agg's valid binary_logloss: 0.971773 + 0.299887\n",
      "Training until validation scores don't improve for 100 rounds\n",
      "[100]\tcv_agg's valid binary_logloss: 0.971773 + 0.299887\n",
      "Early stopping, best iteration is:\n",
      "[1]\tcv_agg's valid binary_logloss: 0.971773 + 0.299887\n",
      "Training until validation scores don't improve for 100 rounds\n"
     ]
    },
    {
     "name": "stderr",
     "output_type": "stream",
     "text": [
      "regularization_factors, val_score: 0.971773:  75%|#######5  | 15/20 [00:01<00:00, 12.47it/s]"
     ]
    },
    {
     "name": "stdout",
     "output_type": "stream",
     "text": [
      "[100]\tcv_agg's valid binary_logloss: 0.971773 + 0.299887\n",
      "Early stopping, best iteration is:\n",
      "[1]\tcv_agg's valid binary_logloss: 0.971773 + 0.299887\n",
      "Training until validation scores don't improve for 100 rounds\n"
     ]
    },
    {
     "name": "stderr",
     "output_type": "stream",
     "text": [
      "regularization_factors, val_score: 0.971773:  85%|########5 | 17/20 [00:01<00:00, 12.36it/s]"
     ]
    },
    {
     "name": "stdout",
     "output_type": "stream",
     "text": [
      "[100]\tcv_agg's valid binary_logloss: 0.971773 + 0.299887\n",
      "Early stopping, best iteration is:\n",
      "[1]\tcv_agg's valid binary_logloss: 0.971773 + 0.299887\n",
      "Training until validation scores don't improve for 100 rounds\n",
      "[100]\tcv_agg's valid binary_logloss: 0.971773 + 0.299887\n",
      "Early stopping, best iteration is:\n",
      "[1]\tcv_agg's valid binary_logloss: 0.971773 + 0.299887\n",
      "Training until validation scores don't improve for 100 rounds\n"
     ]
    },
    {
     "name": "stderr",
     "output_type": "stream",
     "text": [
      "regularization_factors, val_score: 0.971773: 100%|##########| 20/20 [00:01<00:00, 11.88it/s]\n"
     ]
    },
    {
     "name": "stdout",
     "output_type": "stream",
     "text": [
      "[100]\tcv_agg's valid binary_logloss: 0.971773 + 0.299887\n",
      "Early stopping, best iteration is:\n",
      "[1]\tcv_agg's valid binary_logloss: 0.971773 + 0.299887\n",
      "Training until validation scores don't improve for 100 rounds\n",
      "[100]\tcv_agg's valid binary_logloss: 0.971773 + 0.299887\n",
      "Early stopping, best iteration is:\n",
      "[1]\tcv_agg's valid binary_logloss: 0.971773 + 0.299887\n",
      "Training until validation scores don't improve for 100 rounds\n",
      "[100]\tcv_agg's valid binary_logloss: 0.971773 + 0.299887\n",
      "Early stopping, best iteration is:\n",
      "[1]\tcv_agg's valid binary_logloss: 0.971773 + 0.299887\n"
     ]
    },
    {
     "name": "stderr",
     "output_type": "stream",
     "text": [
      "min_child_samples, val_score: 0.971773:  40%|####      | 2/5 [00:00<00:00, 13.91it/s]"
     ]
    },
    {
     "name": "stdout",
     "output_type": "stream",
     "text": [
      "Training until validation scores don't improve for 100 rounds\n",
      "[100]\tcv_agg's valid binary_logloss: 0.971773 + 0.299887\n",
      "Early stopping, best iteration is:\n",
      "[1]\tcv_agg's valid binary_logloss: 0.971773 + 0.299887\n",
      "Training until validation scores don't improve for 100 rounds\n",
      "[100]\tcv_agg's valid binary_logloss: 0.971773 + 0.299887\n",
      "Early stopping, best iteration is:\n",
      "[1]\tcv_agg's valid binary_logloss: 0.971773 + 0.299887\n",
      "Training until validation scores don't improve for 100 rounds\n"
     ]
    },
    {
     "name": "stderr",
     "output_type": "stream",
     "text": [
      "min_child_samples, val_score: 0.511036:  80%|########  | 4/5 [00:00<00:00,  9.24it/s]"
     ]
    },
    {
     "name": "stdout",
     "output_type": "stream",
     "text": [
      "[100]\tcv_agg's valid binary_logloss: 1.66889 + 1.52745\n",
      "Early stopping, best iteration is:\n",
      "[12]\tcv_agg's valid binary_logloss: 0.608048 + 0.321097\n",
      "Training until validation scores don't improve for 100 rounds\n",
      "[100]\tcv_agg's valid binary_logloss: 0.651557 + 0.419748\n",
      "Early stopping, best iteration is:\n",
      "[41]\tcv_agg's valid binary_logloss: 0.511036 + 0.247165\n",
      "Training until validation scores don't improve for 100 rounds\n",
      "[100]\tcv_agg's valid binary_logloss: 0.971773 + 0.299887\n",
      "Early stopping, best iteration is:\n",
      "[1]\tcv_agg's valid binary_logloss: 0.971773 + 0.299887\n"
     ]
    },
    {
     "name": "stderr",
     "output_type": "stream",
     "text": [
      "min_child_samples, val_score: 0.511036: 100%|##########| 5/5 [00:00<00:00, 10.51it/s]\n"
     ]
    },
    {
     "name": "stdout",
     "output_type": "stream",
     "text": [
      "{'accuracy': 0.7777777777777778, 'balanced_accuracy': np.float64(0.7922077922077921), 'f1': np.float64(0.75), 'precision': np.float64(0.6666666666666666), 'recall': np.float64(0.8571428571428571), 'specificity': np.float64(0.7272727272727273), 'ROC_AUC': np.float64(0.7922077922077921), 'MCC': np.float64(0.5698028822981898)}\n",
      "    accuracy: 0.7778 +- 0.0454\n",
      "    balanced_accuracy: 0.7721 +- 0.0429\n",
      "    f1: 0.7286 +- 0.0445\n",
      "    precision: 0.7381 +- 0.0701\n",
      "    recall: 0.7321 +- 0.0956\n",
      "    specificity: 0.8121 +- 0.0747\n",
      "    ROC_AUC: 0.7721 +- 0.0429\n",
      "    MCC: 0.5492 +- 0.0875\n",
      "\n",
      "PART: day\n",
      "  GBM\n"
     ]
    },
    {
     "name": "stderr",
     "output_type": "stream",
     "text": [
      "feature_fraction, val_score: 0.933634:  14%|#4        | 1/7 [00:00<00:00,  7.30it/s]"
     ]
    },
    {
     "name": "stdout",
     "output_type": "stream",
     "text": [
      "Training until validation scores don't improve for 100 rounds\n",
      "[100]\tcv_agg's valid binary_logloss: 0.933634 + 0.358021\n",
      "Early stopping, best iteration is:\n",
      "[1]\tcv_agg's valid binary_logloss: 0.933634 + 0.358021\n",
      "Training until validation scores don't improve for 100 rounds\n"
     ]
    },
    {
     "name": "stderr",
     "output_type": "stream",
     "text": [
      "feature_fraction, val_score: 0.933634:  43%|####2     | 3/7 [00:00<00:00,  6.75it/s]"
     ]
    },
    {
     "name": "stdout",
     "output_type": "stream",
     "text": [
      "[100]\tcv_agg's valid binary_logloss: 0.933634 + 0.358021\n",
      "Early stopping, best iteration is:\n",
      "[1]\tcv_agg's valid binary_logloss: 0.933634 + 0.358021\n",
      "Training until validation scores don't improve for 100 rounds\n",
      "[100]\tcv_agg's valid binary_logloss: 0.933634 + 0.358021\n",
      "Early stopping, best iteration is:\n",
      "[1]\tcv_agg's valid binary_logloss: 0.933634 + 0.358021\n",
      "Training until validation scores don't improve for 100 rounds\n"
     ]
    },
    {
     "name": "stderr",
     "output_type": "stream",
     "text": [
      "feature_fraction, val_score: 0.933634:  86%|########5 | 6/7 [00:00<00:00,  8.71it/s]"
     ]
    },
    {
     "name": "stdout",
     "output_type": "stream",
     "text": [
      "[100]\tcv_agg's valid binary_logloss: 0.933634 + 0.358021\n",
      "Early stopping, best iteration is:\n",
      "[1]\tcv_agg's valid binary_logloss: 0.933634 + 0.358021\n",
      "Training until validation scores don't improve for 100 rounds\n",
      "[100]\tcv_agg's valid binary_logloss: 0.933634 + 0.358021\n",
      "Early stopping, best iteration is:\n",
      "[1]\tcv_agg's valid binary_logloss: 0.933634 + 0.358021\n",
      "Training until validation scores don't improve for 100 rounds\n",
      "[100]\tcv_agg's valid binary_logloss: 0.933634 + 0.358021\n",
      "Early stopping, best iteration is:\n",
      "[1]\tcv_agg's valid binary_logloss: 0.933634 + 0.358021\n"
     ]
    },
    {
     "name": "stderr",
     "output_type": "stream",
     "text": [
      "feature_fraction, val_score: 0.933634: 100%|##########| 7/7 [00:00<00:00,  8.94it/s]\n"
     ]
    },
    {
     "name": "stdout",
     "output_type": "stream",
     "text": [
      "Training until validation scores don't improve for 100 rounds\n",
      "[100]\tcv_agg's valid binary_logloss: 0.933634 + 0.358021\n",
      "Early stopping, best iteration is:\n",
      "[1]\tcv_agg's valid binary_logloss: 0.933634 + 0.358021\n"
     ]
    },
    {
     "name": "stderr",
     "output_type": "stream",
     "text": [
      "num_leaves, val_score: 0.933634:   5%|5         | 1/20 [00:00<00:01, 13.14it/s]"
     ]
    },
    {
     "name": "stdout",
     "output_type": "stream",
     "text": [
      "Training until validation scores don't improve for 100 rounds\n",
      "[100]\tcv_agg's valid binary_logloss: 0.933634 + 0.358021\n",
      "Early stopping, best iteration is:\n",
      "[1]\tcv_agg's valid binary_logloss: 0.933634 + 0.358021\n",
      "Training until validation scores don't improve for 100 rounds\n"
     ]
    },
    {
     "name": "stderr",
     "output_type": "stream",
     "text": [
      "num_leaves, val_score: 0.933634:  10%|#         | 2/20 [00:00<00:01, 13.16it/s]"
     ]
    },
    {
     "name": "stdout",
     "output_type": "stream",
     "text": [
      "[100]\tcv_agg's valid binary_logloss: 0.933634 + 0.358021\n",
      "Early stopping, best iteration is:\n",
      "[1]\tcv_agg's valid binary_logloss: 0.933634 + 0.358021\n",
      "Training until validation scores don't improve for 100 rounds\n"
     ]
    },
    {
     "name": "stderr",
     "output_type": "stream",
     "text": [
      "num_leaves, val_score: 0.933634:  20%|##        | 4/20 [00:00<00:01, 13.15it/s]"
     ]
    },
    {
     "name": "stdout",
     "output_type": "stream",
     "text": [
      "[100]\tcv_agg's valid binary_logloss: 0.933634 + 0.358021\n",
      "Early stopping, best iteration is:\n",
      "[1]\tcv_agg's valid binary_logloss: 0.933634 + 0.358021\n",
      "Training until validation scores don't improve for 100 rounds\n",
      "[100]\tcv_agg's valid binary_logloss: 0.933634 + 0.358021\n",
      "Early stopping, best iteration is:\n",
      "[1]\tcv_agg's valid binary_logloss: 0.933634 + 0.358021\n",
      "Training until validation scores don't improve for 100 rounds\n"
     ]
    },
    {
     "name": "stderr",
     "output_type": "stream",
     "text": [
      "num_leaves, val_score: 0.933634:  25%|##5       | 5/20 [00:00<00:01, 13.15it/s]"
     ]
    },
    {
     "name": "stdout",
     "output_type": "stream",
     "text": [
      "[100]\tcv_agg's valid binary_logloss: 0.933634 + 0.358021\n",
      "Early stopping, best iteration is:\n",
      "[1]\tcv_agg's valid binary_logloss: 0.933634 + 0.358021\n",
      "Training until validation scores don't improve for 100 rounds\n"
     ]
    },
    {
     "name": "stderr",
     "output_type": "stream",
     "text": [
      "num_leaves, val_score: 0.933634:  35%|###5      | 7/20 [00:00<00:00, 13.07it/s]"
     ]
    },
    {
     "name": "stdout",
     "output_type": "stream",
     "text": [
      "[100]\tcv_agg's valid binary_logloss: 0.933634 + 0.358021\n",
      "Early stopping, best iteration is:\n",
      "[1]\tcv_agg's valid binary_logloss: 0.933634 + 0.358021\n",
      "Training until validation scores don't improve for 100 rounds\n",
      "[100]\tcv_agg's valid binary_logloss: 0.933634 + 0.358021\n",
      "Early stopping, best iteration is:\n",
      "[1]\tcv_agg's valid binary_logloss: 0.933634 + 0.358021\n",
      "Training until validation scores don't improve for 100 rounds\n"
     ]
    },
    {
     "name": "stderr",
     "output_type": "stream",
     "text": [
      "num_leaves, val_score: 0.933634:  40%|####      | 8/20 [00:00<00:00, 13.15it/s]"
     ]
    },
    {
     "name": "stdout",
     "output_type": "stream",
     "text": [
      "[100]\tcv_agg's valid binary_logloss: 0.933634 + 0.358021\n",
      "Early stopping, best iteration is:\n",
      "[1]\tcv_agg's valid binary_logloss: 0.933634 + 0.358021\n",
      "Training until validation scores don't improve for 100 rounds\n"
     ]
    },
    {
     "name": "stderr",
     "output_type": "stream",
     "text": [
      "num_leaves, val_score: 0.933634:  45%|####5     | 9/20 [00:00<00:00, 13.15it/s]"
     ]
    },
    {
     "name": "stdout",
     "output_type": "stream",
     "text": [
      "[100]\tcv_agg's valid binary_logloss: 0.933634 + 0.358021\n",
      "Early stopping, best iteration is:\n",
      "[1]\tcv_agg's valid binary_logloss: 0.933634 + 0.358021\n",
      "Training until validation scores don't improve for 100 rounds\n",
      "[100]\tcv_agg's valid binary_logloss: 0.933634 + 0.358021\n",
      "Early stopping, best iteration is:\n",
      "[1]\tcv_agg's valid binary_logloss: 0.933634 + 0.358021\n"
     ]
    },
    {
     "name": "stderr",
     "output_type": "stream",
     "text": [
      "num_leaves, val_score: 0.933634:  50%|#####     | 10/20 [00:00<00:00, 12.43it/s]"
     ]
    },
    {
     "name": "stdout",
     "output_type": "stream",
     "text": [
      "Training until validation scores don't improve for 100 rounds\n",
      "[100]\tcv_agg's valid binary_logloss: 0.933634 + 0.358021\n",
      "Early stopping, best iteration is:\n",
      "[1]\tcv_agg's valid binary_logloss: 0.933634 + 0.358021\n"
     ]
    },
    {
     "name": "stderr",
     "output_type": "stream",
     "text": [
      "num_leaves, val_score: 0.933634:  60%|######    | 12/20 [00:00<00:00, 11.28it/s]"
     ]
    },
    {
     "name": "stdout",
     "output_type": "stream",
     "text": [
      "Training until validation scores don't improve for 100 rounds\n",
      "[100]\tcv_agg's valid binary_logloss: 0.933634 + 0.358021\n",
      "Early stopping, best iteration is:\n",
      "[1]\tcv_agg's valid binary_logloss: 0.933634 + 0.358021\n"
     ]
    },
    {
     "name": "stderr",
     "output_type": "stream",
     "text": [
      "num_leaves, val_score: 0.933634:  65%|######5   | 13/20 [00:01<00:00, 11.28it/s]"
     ]
    },
    {
     "name": "stdout",
     "output_type": "stream",
     "text": [
      "Training until validation scores don't improve for 100 rounds\n",
      "[100]\tcv_agg's valid binary_logloss: 0.933634 + 0.358021\n",
      "Early stopping, best iteration is:\n",
      "[1]\tcv_agg's valid binary_logloss: 0.933634 + 0.358021\n",
      "Training until validation scores don't improve for 100 rounds\n"
     ]
    },
    {
     "name": "stderr",
     "output_type": "stream",
     "text": [
      "num_leaves, val_score: 0.933634:  70%|#######   | 14/20 [00:01<00:00, 11.86it/s]"
     ]
    },
    {
     "name": "stdout",
     "output_type": "stream",
     "text": [
      "[100]\tcv_agg's valid binary_logloss: 0.933634 + 0.358021\n",
      "Early stopping, best iteration is:\n",
      "[1]\tcv_agg's valid binary_logloss: 0.933634 + 0.358021\n",
      "Training until validation scores don't improve for 100 rounds\n",
      "[100]\tcv_agg's valid binary_logloss: 0.933634 + 0.358021\n",
      "Early stopping, best iteration is:\n",
      "[1]\tcv_agg's valid binary_logloss: 0.933634 + 0.358021\n"
     ]
    },
    {
     "name": "stderr",
     "output_type": "stream",
     "text": [
      "num_leaves, val_score: 0.933634:  80%|########  | 16/20 [00:01<00:00, 12.20it/s]"
     ]
    },
    {
     "name": "stdout",
     "output_type": "stream",
     "text": [
      "Training until validation scores don't improve for 100 rounds\n",
      "[100]\tcv_agg's valid binary_logloss: 0.933634 + 0.358021\n",
      "Early stopping, best iteration is:\n",
      "[1]\tcv_agg's valid binary_logloss: 0.933634 + 0.358021\n",
      "Training until validation scores don't improve for 100 rounds\n"
     ]
    },
    {
     "name": "stderr",
     "output_type": "stream",
     "text": [
      "num_leaves, val_score: 0.933634:  85%|########5 | 17/20 [00:01<00:00, 12.20it/s]"
     ]
    },
    {
     "name": "stdout",
     "output_type": "stream",
     "text": [
      "[100]\tcv_agg's valid binary_logloss: 0.933634 + 0.358021\n",
      "Early stopping, best iteration is:\n",
      "[1]\tcv_agg's valid binary_logloss: 0.933634 + 0.358021\n",
      "Training until validation scores don't improve for 100 rounds\n"
     ]
    },
    {
     "name": "stderr",
     "output_type": "stream",
     "text": [
      "num_leaves, val_score: 0.933634:  95%|#########5| 19/20 [00:01<00:00, 12.12it/s]"
     ]
    },
    {
     "name": "stdout",
     "output_type": "stream",
     "text": [
      "[100]\tcv_agg's valid binary_logloss: 0.933634 + 0.358021\n",
      "Early stopping, best iteration is:\n",
      "[1]\tcv_agg's valid binary_logloss: 0.933634 + 0.358021\n",
      "Training until validation scores don't improve for 100 rounds\n",
      "[100]\tcv_agg's valid binary_logloss: 0.933634 + 0.358021\n",
      "Early stopping, best iteration is:\n",
      "[1]\tcv_agg's valid binary_logloss: 0.933634 + 0.358021\n",
      "Training until validation scores don't improve for 100 rounds\n",
      "[100]\tcv_agg's valid binary_logloss: 0.933634 + 0.358021"
     ]
    },
    {
     "name": "stderr",
     "output_type": "stream",
     "text": [
      "num_leaves, val_score: 0.933634: 100%|##########| 20/20 [00:01<00:00, 12.13it/s]\n"
     ]
    },
    {
     "name": "stdout",
     "output_type": "stream",
     "text": [
      "\n",
      "Early stopping, best iteration is:\n",
      "[1]\tcv_agg's valid binary_logloss: 0.933634 + 0.358021\n"
     ]
    },
    {
     "name": "stderr",
     "output_type": "stream",
     "text": [
      "bagging, val_score: 0.933634:  10%|#         | 1/10 [00:00<00:00, 11.39it/s]"
     ]
    },
    {
     "name": "stdout",
     "output_type": "stream",
     "text": [
      "Training until validation scores don't improve for 100 rounds\n",
      "[100]\tcv_agg's valid binary_logloss: 0.933634 + 0.358021\n",
      "Early stopping, best iteration is:\n",
      "[1]\tcv_agg's valid binary_logloss: 0.933634 + 0.358021\n",
      "Training until validation scores don't improve for 100 rounds\n",
      "[100]\tcv_agg's valid binary_logloss: 0.933634 + 0.358021\n",
      "Early stopping, best iteration is:\n",
      "[1]\tcv_agg's valid binary_logloss: 0.933634 + 0.358021\n"
     ]
    },
    {
     "name": "stderr",
     "output_type": "stream",
     "text": [
      "bagging, val_score: 0.933634:  20%|##        | 2/10 [00:00<00:00, 10.37it/s]"
     ]
    },
    {
     "name": "stdout",
     "output_type": "stream",
     "text": [
      "Training until validation scores don't improve for 100 rounds"
     ]
    },
    {
     "name": "stderr",
     "output_type": "stream",
     "text": [
      "bagging, val_score: 0.933634:  40%|####      | 4/10 [00:00<00:00, 11.37it/s]"
     ]
    },
    {
     "name": "stdout",
     "output_type": "stream",
     "text": [
      "\n",
      "[100]\tcv_agg's valid binary_logloss: 0.933634 + 0.358021\n",
      "Early stopping, best iteration is:\n",
      "[1]\tcv_agg's valid binary_logloss: 0.933634 + 0.358021\n",
      "Training until validation scores don't improve for 100 rounds\n",
      "[100]\tcv_agg's valid binary_logloss: 0.933634 + 0.358021\n",
      "Early stopping, best iteration is:\n",
      "[1]\tcv_agg's valid binary_logloss: 0.933634 + 0.358021\n",
      "Training until validation scores don't improve for 100 rounds\n"
     ]
    },
    {
     "name": "stderr",
     "output_type": "stream",
     "text": [
      "bagging, val_score: 0.933634:  60%|######    | 6/10 [00:00<00:00, 10.72it/s]"
     ]
    },
    {
     "name": "stdout",
     "output_type": "stream",
     "text": [
      "[100]\tcv_agg's valid binary_logloss: 0.933634 + 0.358021\n",
      "Early stopping, best iteration is:\n",
      "[1]\tcv_agg's valid binary_logloss: 0.933634 + 0.358021\n",
      "Training until validation scores don't improve for 100 rounds\n",
      "[100]\tcv_agg's valid binary_logloss: 0.933634 + 0.358021\n",
      "Early stopping, best iteration is:\n",
      "[1]\tcv_agg's valid binary_logloss: 0.933634 + 0.358021\n",
      "Training until validation scores don't improve for 100 rounds\n",
      "[100]\tcv_agg's valid binary_logloss: 0.933634 + 0.358021\n",
      "Early stopping, best iteration is:\n",
      "[1]\tcv_agg's valid binary_logloss: 0.933634 + 0.358021\n"
     ]
    },
    {
     "name": "stderr",
     "output_type": "stream",
     "text": [
      "bagging, val_score: 0.933634:  90%|######### | 9/10 [00:00<00:00, 10.38it/s]"
     ]
    },
    {
     "name": "stdout",
     "output_type": "stream",
     "text": [
      "Training until validation scores don't improve for 100 rounds\n",
      "[100]\tcv_agg's valid binary_logloss: 0.933634 + 0.358021\n",
      "Early stopping, best iteration is:\n",
      "[1]\tcv_agg's valid binary_logloss: 0.933634 + 0.358021\n",
      "Training until validation scores don't improve for 100 rounds\n",
      "[100]\tcv_agg's valid binary_logloss: 0.933634 + 0.358021\n",
      "Early stopping, best iteration is:\n",
      "[1]\tcv_agg's valid binary_logloss: 0.933634 + 0.358021\n",
      "Training until validation scores don't improve for 100 rounds\n"
     ]
    },
    {
     "name": "stderr",
     "output_type": "stream",
     "text": [
      "bagging, val_score: 0.933634: 100%|##########| 10/10 [00:00<00:00, 10.67it/s]\n"
     ]
    },
    {
     "name": "stdout",
     "output_type": "stream",
     "text": [
      "[100]\tcv_agg's valid binary_logloss: 0.933634 + 0.358021\n",
      "Early stopping, best iteration is:\n",
      "[1]\tcv_agg's valid binary_logloss: 0.933634 + 0.358021\n"
     ]
    },
    {
     "name": "stderr",
     "output_type": "stream",
     "text": [
      "feature_fraction_stage2, val_score: 0.933634:  67%|######6   | 2/3 [00:00<00:00, 15.51it/s]"
     ]
    },
    {
     "name": "stdout",
     "output_type": "stream",
     "text": [
      "Training until validation scores don't improve for 100 rounds\n",
      "[100]\tcv_agg's valid binary_logloss: 0.933634 + 0.358021\n",
      "Early stopping, best iteration is:\n",
      "[1]\tcv_agg's valid binary_logloss: 0.933634 + 0.358021\n",
      "Training until validation scores don't improve for 100 rounds\n",
      "[100]\tcv_agg's valid binary_logloss: 0.933634 + 0.358021\n",
      "Early stopping, best iteration is:\n",
      "[1]\tcv_agg's valid binary_logloss: 0.933634 + 0.358021\n",
      "Training until validation scores don't improve for 100 rounds\n",
      "[100]\tcv_agg's valid binary_logloss: 0.933634 + 0.358021"
     ]
    },
    {
     "name": "stderr",
     "output_type": "stream",
     "text": [
      "feature_fraction_stage2, val_score: 0.933634: 100%|##########| 3/3 [00:00<00:00, 14.33it/s]\n"
     ]
    },
    {
     "name": "stdout",
     "output_type": "stream",
     "text": [
      "\n",
      "Early stopping, best iteration is:\n",
      "[1]\tcv_agg's valid binary_logloss: 0.933634 + 0.358021\n"
     ]
    },
    {
     "name": "stderr",
     "output_type": "stream",
     "text": [
      "regularization_factors, val_score: 0.933634:  10%|#         | 2/20 [00:00<00:01, 13.53it/s]"
     ]
    },
    {
     "name": "stdout",
     "output_type": "stream",
     "text": [
      "Training until validation scores don't improve for 100 rounds\n",
      "[100]\tcv_agg's valid binary_logloss: 0.933634 + 0.358021\n",
      "Early stopping, best iteration is:\n",
      "[1]\tcv_agg's valid binary_logloss: 0.933634 + 0.358021\n",
      "Training until validation scores don't improve for 100 rounds\n",
      "[100]\tcv_agg's valid binary_logloss: 0.933634 + 0.358021\n",
      "Early stopping, best iteration is:\n",
      "[1]\tcv_agg's valid binary_logloss: 0.933634 + 0.358021\n",
      "Training until validation scores don't improve for 100 rounds\n",
      "[100]\tcv_agg's valid binary_logloss: 0.933634 + 0.358021"
     ]
    },
    {
     "name": "stderr",
     "output_type": "stream",
     "text": [
      "regularization_factors, val_score: 0.933634:  25%|##5       | 5/20 [00:00<00:01, 13.58it/s]"
     ]
    },
    {
     "name": "stdout",
     "output_type": "stream",
     "text": [
      "\n",
      "Early stopping, best iteration is:\n",
      "[1]\tcv_agg's valid binary_logloss: 0.933634 + 0.358021\n",
      "Training until validation scores don't improve for 100 rounds\n",
      "[100]\tcv_agg's valid binary_logloss: 0.933634 + 0.358021\n",
      "Early stopping, best iteration is:\n",
      "[1]\tcv_agg's valid binary_logloss: 0.933634 + 0.358021\n",
      "Training until validation scores don't improve for 100 rounds\n",
      "[100]\tcv_agg's valid binary_logloss: 0.933634 + 0.358021\n",
      "Early stopping, best iteration is:\n",
      "[1]\tcv_agg's valid binary_logloss: 0.933634 + 0.358021\n",
      "Training until validation scores don't improve for 100 rounds\n"
     ]
    },
    {
     "name": "stderr",
     "output_type": "stream",
     "text": [
      "regularization_factors, val_score: 0.933634:  40%|####      | 8/20 [00:00<00:00, 12.74it/s]"
     ]
    },
    {
     "name": "stdout",
     "output_type": "stream",
     "text": [
      "[100]\tcv_agg's valid binary_logloss: 0.933634 + 0.358021\n",
      "Early stopping, best iteration is:\n",
      "[1]\tcv_agg's valid binary_logloss: 0.933634 + 0.358021\n",
      "Training until validation scores don't improve for 100 rounds\n",
      "[100]\tcv_agg's valid binary_logloss: 0.933634 + 0.358021\n",
      "Early stopping, best iteration is:\n",
      "[1]\tcv_agg's valid binary_logloss: 0.933634 + 0.358021\n",
      "Training until validation scores don't improve for 100 rounds\n",
      "[100]\tcv_agg's valid binary_logloss: 0.933634 + 0.358021\n",
      "Early stopping, best iteration is:\n",
      "[1]\tcv_agg's valid binary_logloss: 0.933634 + 0.358021\n",
      "Training until validation scores don't improve for 100 rounds\n"
     ]
    },
    {
     "name": "stderr",
     "output_type": "stream",
     "text": [
      "regularization_factors, val_score: 0.933634:  55%|#####5    | 11/20 [00:00<00:00, 12.85it/s]"
     ]
    },
    {
     "name": "stdout",
     "output_type": "stream",
     "text": [
      "[100]\tcv_agg's valid binary_logloss: 0.933634 + 0.358021\n",
      "Early stopping, best iteration is:\n",
      "[1]\tcv_agg's valid binary_logloss: 0.933634 + 0.358021\n",
      "Training until validation scores don't improve for 100 rounds\n",
      "[100]\tcv_agg's valid binary_logloss: 0.933634 + 0.358021\n",
      "Early stopping, best iteration is:\n",
      "[1]\tcv_agg's valid binary_logloss: 0.933634 + 0.358021\n",
      "Training until validation scores don't improve for 100 rounds\n",
      "[100]\tcv_agg's valid binary_logloss: 0.933634 + 0.358021\n",
      "Early stopping, best iteration is:\n",
      "[1]\tcv_agg's valid binary_logloss: 0.933634 + 0.358021\n",
      "Training until validation scores don't improve for 100 rounds\n"
     ]
    },
    {
     "name": "stderr",
     "output_type": "stream",
     "text": [
      "regularization_factors, val_score: 0.933634:  70%|#######   | 14/20 [00:01<00:00, 12.84it/s]"
     ]
    },
    {
     "name": "stdout",
     "output_type": "stream",
     "text": [
      "[100]\tcv_agg's valid binary_logloss: 0.933634 + 0.358021\n",
      "Early stopping, best iteration is:\n",
      "[1]\tcv_agg's valid binary_logloss: 0.933634 + 0.358021\n",
      "Training until validation scores don't improve for 100 rounds\n",
      "[100]\tcv_agg's valid binary_logloss: 0.933634 + 0.358021\n",
      "Early stopping, best iteration is:\n",
      "[1]\tcv_agg's valid binary_logloss: 0.933634 + 0.358021\n",
      "Training until validation scores don't improve for 100 rounds\n",
      "[100]\tcv_agg's valid binary_logloss: 0.933634 + 0.358021\n",
      "Early stopping, best iteration is:\n",
      "[1]\tcv_agg's valid binary_logloss: 0.933634 + 0.358021\n"
     ]
    },
    {
     "name": "stderr",
     "output_type": "stream",
     "text": [
      "regularization_factors, val_score: 0.933634:  80%|########  | 16/20 [00:01<00:00, 12.18it/s]"
     ]
    },
    {
     "name": "stdout",
     "output_type": "stream",
     "text": [
      "Training until validation scores don't improve for 100 rounds\n",
      "[100]\tcv_agg's valid binary_logloss: 0.933634 + 0.358021\n",
      "Early stopping, best iteration is:\n",
      "[1]\tcv_agg's valid binary_logloss: 0.933634 + 0.358021\n",
      "Training until validation scores don't improve for 100 rounds\n",
      "[100]\tcv_agg's valid binary_logloss: 0.933634 + 0.358021\n",
      "Early stopping, best iteration is:\n",
      "[1]\tcv_agg's valid binary_logloss: 0.933634 + 0.358021\n",
      "Training until validation scores don't improve for 100 rounds\n"
     ]
    },
    {
     "name": "stderr",
     "output_type": "stream",
     "text": [
      "regularization_factors, val_score: 0.933634:  90%|######### | 18/20 [00:01<00:00, 11.23it/s]"
     ]
    },
    {
     "name": "stdout",
     "output_type": "stream",
     "text": [
      "[100]\tcv_agg's valid binary_logloss: 0.933634 + 0.358021\n",
      "Early stopping, best iteration is:\n",
      "[1]\tcv_agg's valid binary_logloss: 0.933634 + 0.358021\n",
      "Training until validation scores don't improve for 100 rounds\n",
      "[100]\tcv_agg's valid binary_logloss: 0.933634 + 0.358021\n",
      "Early stopping, best iteration is:\n",
      "[1]\tcv_agg's valid binary_logloss: 0.933634 + 0.358021\n",
      "Training until validation scores don't improve for 100 rounds\n",
      "[100]\tcv_agg's valid binary_logloss: 0.933634 + 0.358021\n",
      "Early stopping, best iteration is:\n",
      "[1]\tcv_agg's valid binary_logloss: 0.933634 + 0.358021\n"
     ]
    },
    {
     "name": "stderr",
     "output_type": "stream",
     "text": [
      "regularization_factors, val_score: 0.933634: 100%|##########| 20/20 [00:01<00:00, 12.24it/s]\n"
     ]
    },
    {
     "name": "stdout",
     "output_type": "stream",
     "text": [
      "Training until validation scores don't improve for 100 rounds\n",
      "[100]\tcv_agg's valid binary_logloss: 0.933634 + 0.358021\n",
      "Early stopping, best iteration is:\n",
      "[1]\tcv_agg's valid binary_logloss: 0.933634 + 0.358021\n"
     ]
    },
    {
     "name": "stderr",
     "output_type": "stream",
     "text": [
      "min_child_samples, val_score: 0.933634:  40%|####      | 2/5 [00:00<00:00, 16.79it/s]"
     ]
    },
    {
     "name": "stdout",
     "output_type": "stream",
     "text": [
      "Training until validation scores don't improve for 100 rounds\n",
      "[100]\tcv_agg's valid binary_logloss: 0.933634 + 0.358021\n",
      "Early stopping, best iteration is:\n",
      "[1]\tcv_agg's valid binary_logloss: 0.933634 + 0.358021\n",
      "Training until validation scores don't improve for 100 rounds\n",
      "[100]\tcv_agg's valid binary_logloss: 0.933634 + 0.358021\n",
      "Early stopping, best iteration is:\n",
      "[1]\tcv_agg's valid binary_logloss: 0.933634 + 0.358021\n",
      "Training until validation scores don't improve for 100 rounds\n"
     ]
    },
    {
     "name": "stderr",
     "output_type": "stream",
     "text": [
      "min_child_samples, val_score: 0.901136:  60%|######    | 3/5 [00:00<00:00, 16.79it/s]"
     ]
    },
    {
     "name": "stdout",
     "output_type": "stream",
     "text": [
      "[100]\tcv_agg's valid binary_logloss: 2.11055 + 1.63606\n",
      "Early stopping, best iteration is:\n",
      "[5]\tcv_agg's valid binary_logloss: 0.901136 + 0.324036\n",
      "Training until validation scores don't improve for 100 rounds\n"
     ]
    },
    {
     "name": "stderr",
     "output_type": "stream",
     "text": [
      "min_child_samples, val_score: 0.854885: 100%|##########| 5/5 [00:00<00:00, 12.04it/s]\n"
     ]
    },
    {
     "name": "stdout",
     "output_type": "stream",
     "text": [
      "[100]\tcv_agg's valid binary_logloss: 1.15044 + 0.538266\n",
      "Early stopping, best iteration is:\n",
      "[9]\tcv_agg's valid binary_logloss: 0.854885 + 0.24524\n",
      "Training until validation scores don't improve for 100 rounds\n",
      "[100]\tcv_agg's valid binary_logloss: 0.933634 + 0.358021\n",
      "Early stopping, best iteration is:\n",
      "[1]\tcv_agg's valid binary_logloss: 0.933634 + 0.358021\n",
      "{'accuracy': 0.8333333333333334, 'balanced_accuracy': np.float64(0.8375), 'f1': np.float64(0.8235294117647058), 'precision': np.float64(0.7777777777777778), 'recall': np.float64(0.875), 'specificity': np.float64(0.8), 'ROC_AUC': np.float64(0.8375), 'MCC': np.float64(0.6708203932499369)}\n"
     ]
    },
    {
     "name": "stderr",
     "output_type": "stream",
     "text": [
      "feature_fraction, val_score: 0.971773:  29%|##8       | 2/7 [00:00<00:00, 13.68it/s]"
     ]
    },
    {
     "name": "stdout",
     "output_type": "stream",
     "text": [
      "Training until validation scores don't improve for 100 rounds\n",
      "[100]\tcv_agg's valid binary_logloss: 0.971773 + 0.299887\n",
      "Early stopping, best iteration is:\n",
      "[1]\tcv_agg's valid binary_logloss: 0.971773 + 0.299887\n",
      "Training until validation scores don't improve for 100 rounds\n",
      "[100]\tcv_agg's valid binary_logloss: 0.971773 + 0.299887\n",
      "Early stopping, best iteration is:\n",
      "[1]\tcv_agg's valid binary_logloss: 0.971773 + 0.299887\n",
      "Training until validation scores don't improve for 100 rounds\n"
     ]
    },
    {
     "name": "stderr",
     "output_type": "stream",
     "text": [
      "feature_fraction, val_score: 0.971773:  71%|#######1  | 5/7 [00:00<00:00, 14.24it/s]"
     ]
    },
    {
     "name": "stdout",
     "output_type": "stream",
     "text": [
      "[100]\tcv_agg's valid binary_logloss: 0.971773 + 0.299887\n",
      "Early stopping, best iteration is:\n",
      "[1]\tcv_agg's valid binary_logloss: 0.971773 + 0.299887\n",
      "Training until validation scores don't improve for 100 rounds\n",
      "[100]\tcv_agg's valid binary_logloss: 0.971773 + 0.299887\n",
      "Early stopping, best iteration is:\n",
      "[1]\tcv_agg's valid binary_logloss: 0.971773 + 0.299887\n",
      "Training until validation scores don't improve for 100 rounds\n",
      "[100]\tcv_agg's valid binary_logloss: 0.971773 + 0.299887\n",
      "Early stopping, best iteration is:\n",
      "[1]\tcv_agg's valid binary_logloss: 0.971773 + 0.299887\n",
      "Training until validation scores don't improve for 100 rounds\n"
     ]
    },
    {
     "name": "stderr",
     "output_type": "stream",
     "text": [
      "feature_fraction, val_score: 0.971773: 100%|##########| 7/7 [00:00<00:00, 14.66it/s]\n"
     ]
    },
    {
     "name": "stdout",
     "output_type": "stream",
     "text": [
      "[100]\tcv_agg's valid binary_logloss: 0.971773 + 0.299887\n",
      "Early stopping, best iteration is:\n",
      "[1]\tcv_agg's valid binary_logloss: 0.971773 + 0.299887\n",
      "Training until validation scores don't improve for 100 rounds\n",
      "[100]\tcv_agg's valid binary_logloss: 0.971773 + 0.299887\n",
      "Early stopping, best iteration is:\n",
      "[1]\tcv_agg's valid binary_logloss: 0.971773 + 0.299887\n"
     ]
    },
    {
     "name": "stderr",
     "output_type": "stream",
     "text": [
      "num_leaves, val_score: 0.971773:   5%|5         | 1/20 [00:00<00:01, 12.86it/s]"
     ]
    },
    {
     "name": "stdout",
     "output_type": "stream",
     "text": [
      "Training until validation scores don't improve for 100 rounds\n",
      "[100]\tcv_agg's valid binary_logloss: 0.971773 + 0.299887\n",
      "Early stopping, best iteration is:\n",
      "[1]\tcv_agg's valid binary_logloss: 0.971773 + 0.299887\n",
      "Training until validation scores don't improve for 100 rounds\n"
     ]
    },
    {
     "name": "stderr",
     "output_type": "stream",
     "text": [
      "num_leaves, val_score: 0.971773:  10%|#         | 2/20 [00:00<00:01, 12.45it/s]"
     ]
    },
    {
     "name": "stdout",
     "output_type": "stream",
     "text": [
      "[100]\tcv_agg's valid binary_logloss: 0.971773 + 0.299887\n",
      "Early stopping, best iteration is:\n",
      "[1]\tcv_agg's valid binary_logloss: 0.971773 + 0.299887\n",
      "Training until validation scores don't improve for 100 rounds\n",
      "[100]\tcv_agg's valid binary_logloss: 0.971773 + 0.299887\n",
      "Early stopping, best iteration is:\n",
      "[1]\tcv_agg's valid binary_logloss: 0.971773 + 0.299887\n"
     ]
    },
    {
     "name": "stderr",
     "output_type": "stream",
     "text": [
      "num_leaves, val_score: 0.971773:  20%|##        | 4/20 [00:00<00:01, 14.01it/s]"
     ]
    },
    {
     "name": "stdout",
     "output_type": "stream",
     "text": [
      "Training until validation scores don't improve for 100 rounds\n",
      "[100]\tcv_agg's valid binary_logloss: 0.971773 + 0.299887\n",
      "Early stopping, best iteration is:\n",
      "[1]\tcv_agg's valid binary_logloss: 0.971773 + 0.299887\n",
      "Training until validation scores don't improve for 100 rounds\n",
      "[100]\tcv_agg's valid binary_logloss: 0.971773 + 0.299887\n",
      "Early stopping, best iteration is:\n",
      "[1]\tcv_agg's valid binary_logloss: 0.971773 + 0.299887\n"
     ]
    },
    {
     "name": "stderr",
     "output_type": "stream",
     "text": [
      "num_leaves, val_score: 0.971773:  25%|##5       | 5/20 [00:00<00:01, 14.01it/s]"
     ]
    },
    {
     "name": "stdout",
     "output_type": "stream",
     "text": [
      "Training until validation scores don't improve for 100 rounds\n"
     ]
    },
    {
     "name": "stderr",
     "output_type": "stream",
     "text": [
      "num_leaves, val_score: 0.971773:  35%|###5      | 7/20 [00:00<00:00, 13.12it/s]"
     ]
    },
    {
     "name": "stdout",
     "output_type": "stream",
     "text": [
      "[100]\tcv_agg's valid binary_logloss: 0.971773 + 0.299887\n",
      "Early stopping, best iteration is:\n",
      "[1]\tcv_agg's valid binary_logloss: 0.971773 + 0.299887\n",
      "Training until validation scores don't improve for 100 rounds\n",
      "[100]\tcv_agg's valid binary_logloss: 0.971773 + 0.299887\n",
      "Early stopping, best iteration is:\n",
      "[1]\tcv_agg's valid binary_logloss: 0.971773 + 0.299887\n",
      "Training until validation scores don't improve for 100 rounds\n",
      "[100]\tcv_agg's valid binary_logloss: 0.971773 + 0.299887\n",
      "Early stopping, best iteration is:\n",
      "[1]\tcv_agg's valid binary_logloss: 0.971773 + 0.299887\n"
     ]
    },
    {
     "name": "stderr",
     "output_type": "stream",
     "text": [
      "num_leaves, val_score: 0.971773:  40%|####      | 8/20 [00:00<00:00, 13.96it/s]"
     ]
    },
    {
     "name": "stdout",
     "output_type": "stream",
     "text": [
      "Training until validation scores don't improve for 100 rounds\n",
      "[100]\tcv_agg's valid binary_logloss: 0.971773 + 0.299887\n",
      "Early stopping, best iteration is:\n",
      "[1]\tcv_agg's valid binary_logloss: 0.971773 + 0.299887\n"
     ]
    },
    {
     "name": "stderr",
     "output_type": "stream",
     "text": [
      "num_leaves, val_score: 0.971773:  50%|#####     | 10/20 [00:00<00:00, 14.11it/s]"
     ]
    },
    {
     "name": "stdout",
     "output_type": "stream",
     "text": [
      "Training until validation scores don't improve for 100 rounds\n",
      "[100]\tcv_agg's valid binary_logloss: 0.971773 + 0.299887\n",
      "Early stopping, best iteration is:\n",
      "[1]\tcv_agg's valid binary_logloss: 0.971773 + 0.299887\n",
      "Training until validation scores don't improve for 100 rounds\n",
      "[100]\tcv_agg's valid binary_logloss: 0.971773 + 0.299887\n",
      "Early stopping, best iteration is:\n",
      "[1]\tcv_agg's valid binary_logloss: 0.971773 + 0.299887\n"
     ]
    },
    {
     "name": "stderr",
     "output_type": "stream",
     "text": [
      "num_leaves, val_score: 0.971773:  55%|#####5    | 11/20 [00:00<00:00, 14.11it/s]"
     ]
    },
    {
     "name": "stdout",
     "output_type": "stream",
     "text": [
      "Training until validation scores don't improve for 100 rounds\n"
     ]
    },
    {
     "name": "stderr",
     "output_type": "stream",
     "text": [
      "num_leaves, val_score: 0.971773:  70%|#######   | 14/20 [00:01<00:00, 14.23it/s]"
     ]
    },
    {
     "name": "stdout",
     "output_type": "stream",
     "text": [
      "[100]\tcv_agg's valid binary_logloss: 0.971773 + 0.299887\n",
      "Early stopping, best iteration is:\n",
      "[1]\tcv_agg's valid binary_logloss: 0.971773 + 0.299887\n",
      "Training until validation scores don't improve for 100 rounds\n",
      "[100]\tcv_agg's valid binary_logloss: 0.971773 + 0.299887\n",
      "Early stopping, best iteration is:\n",
      "[1]\tcv_agg's valid binary_logloss: 0.971773 + 0.299887\n",
      "Training until validation scores don't improve for 100 rounds\n",
      "[100]\tcv_agg's valid binary_logloss: 0.971773 + 0.299887\n",
      "Early stopping, best iteration is:\n",
      "[1]\tcv_agg's valid binary_logloss: 0.971773 + 0.299887\n"
     ]
    },
    {
     "name": "stderr",
     "output_type": "stream",
     "text": [
      "num_leaves, val_score: 0.971773:  70%|#######   | 14/20 [00:01<00:00, 14.23it/s]"
     ]
    },
    {
     "name": "stdout",
     "output_type": "stream",
     "text": [
      "Training until validation scores don't improve for 100 rounds\n",
      "[100]\tcv_agg's valid binary_logloss: 0.971773 + 0.299887\n",
      "Early stopping, best iteration is:\n",
      "[1]\tcv_agg's valid binary_logloss: 0.971773 + 0.299887\n"
     ]
    },
    {
     "name": "stderr",
     "output_type": "stream",
     "text": [
      "num_leaves, val_score: 0.971773:  80%|########  | 16/20 [00:01<00:00, 14.25it/s]"
     ]
    },
    {
     "name": "stdout",
     "output_type": "stream",
     "text": [
      "Training until validation scores don't improve for 100 rounds\n",
      "[100]\tcv_agg's valid binary_logloss: 0.971773 + 0.299887\n",
      "Early stopping, best iteration is:\n",
      "[1]\tcv_agg's valid binary_logloss: 0.971773 + 0.299887\n",
      "Training until validation scores don't improve for 100 rounds\n",
      "[100]\tcv_agg's valid binary_logloss: 0.971773 + 0.299887\n",
      "Early stopping, best iteration is:\n",
      "[1]\tcv_agg's valid binary_logloss: 0.971773 + 0.299887\n"
     ]
    },
    {
     "name": "stderr",
     "output_type": "stream",
     "text": [
      "num_leaves, val_score: 0.971773:  85%|########5 | 17/20 [00:01<00:00, 14.25it/s]"
     ]
    },
    {
     "name": "stdout",
     "output_type": "stream",
     "text": [
      "Training until validation scores don't improve for 100 rounds\n",
      "[100]\tcv_agg's valid binary_logloss: 0.971773 + 0.299887\n",
      "Early stopping, best iteration is:\n",
      "[1]\tcv_agg's valid binary_logloss: 0.971773 + 0.299887\n"
     ]
    },
    {
     "name": "stderr",
     "output_type": "stream",
     "text": [
      "num_leaves, val_score: 0.971773:  95%|#########5| 19/20 [00:01<00:00, 14.34it/s]"
     ]
    },
    {
     "name": "stdout",
     "output_type": "stream",
     "text": [
      "Training until validation scores don't improve for 100 rounds\n",
      "[100]\tcv_agg's valid binary_logloss: 0.971773 + 0.299887\n",
      "Early stopping, best iteration is:\n",
      "[1]\tcv_agg's valid binary_logloss: 0.971773 + 0.299887\n",
      "Training until validation scores don't improve for 100 rounds\n"
     ]
    },
    {
     "name": "stderr",
     "output_type": "stream",
     "text": [
      "num_leaves, val_score: 0.971773: 100%|##########| 20/20 [00:01<00:00, 13.94it/s]\n"
     ]
    },
    {
     "name": "stdout",
     "output_type": "stream",
     "text": [
      "[100]\tcv_agg's valid binary_logloss: 0.971773 + 0.299887\n",
      "Early stopping, best iteration is:\n",
      "[1]\tcv_agg's valid binary_logloss: 0.971773 + 0.299887\n"
     ]
    },
    {
     "name": "stderr",
     "output_type": "stream",
     "text": [
      "bagging, val_score: 0.971773:   0%|          | 0/10 [00:00<?, ?it/s]"
     ]
    },
    {
     "name": "stdout",
     "output_type": "stream",
     "text": [
      "Training until validation scores don't improve for 100 rounds\n"
     ]
    },
    {
     "name": "stderr",
     "output_type": "stream",
     "text": [
      "bagging, val_score: 0.971773:  10%|#         | 1/10 [00:00<00:01,  5.79it/s]"
     ]
    },
    {
     "name": "stdout",
     "output_type": "stream",
     "text": [
      "[100]\tcv_agg's valid binary_logloss: 0.971773 + 0.299887\n",
      "Early stopping, best iteration is:\n",
      "[1]\tcv_agg's valid binary_logloss: 0.971773 + 0.299887\n",
      "Training until validation scores don't improve for 100 rounds\n",
      "[100]\tcv_agg's valid binary_logloss: 0.971773 + 0.299887\n",
      "Early stopping, best iteration is:\n",
      "[1]\tcv_agg's valid binary_logloss: 0.971773 + 0.299887\n"
     ]
    },
    {
     "name": "stderr",
     "output_type": "stream",
     "text": [
      "bagging, val_score: 0.971773:  20%|##        | 2/10 [00:00<00:00, 11.48it/s]"
     ]
    },
    {
     "name": "stdout",
     "output_type": "stream",
     "text": [
      "Training until validation scores don't improve for 100 rounds\n",
      "[100]\tcv_agg's valid binary_logloss: 0.971773 + 0.299887"
     ]
    },
    {
     "name": "stderr",
     "output_type": "stream",
     "text": [
      "bagging, val_score: 0.971773:  40%|####      | 4/10 [00:00<00:00, 10.21it/s]"
     ]
    },
    {
     "name": "stdout",
     "output_type": "stream",
     "text": [
      "\n",
      "Early stopping, best iteration is:\n",
      "[1]\tcv_agg's valid binary_logloss: 0.971773 + 0.299887\n",
      "Training until validation scores don't improve for 100 rounds\n",
      "[100]\tcv_agg's valid binary_logloss: 0.971773 + 0.299887\n",
      "Early stopping, best iteration is:\n",
      "[1]\tcv_agg's valid binary_logloss: 0.971773 + 0.299887\n"
     ]
    },
    {
     "name": "stderr",
     "output_type": "stream",
     "text": [
      "bagging, val_score: 0.971773:  40%|####      | 4/10 [00:00<00:00, 10.21it/s]"
     ]
    },
    {
     "name": "stdout",
     "output_type": "stream",
     "text": [
      "Training until validation scores don't improve for 100 rounds\n",
      "[100]\tcv_agg's valid binary_logloss: 0.971773 + 0.299887\n",
      "Early stopping, best iteration is:\n",
      "[1]\tcv_agg's valid binary_logloss: 0.971773 + 0.299887\n"
     ]
    },
    {
     "name": "stderr",
     "output_type": "stream",
     "text": [
      "bagging, val_score: 0.971773:  50%|#####     | 5/10 [00:00<00:00, 10.21it/s]"
     ]
    },
    {
     "name": "stdout",
     "output_type": "stream",
     "text": [
      "Training until validation scores don't improve for 100 rounds\n",
      "[100]\tcv_agg's valid binary_logloss: 0.971773 + 0.299887\n",
      "Early stopping, best iteration is:\n",
      "[1]\tcv_agg's valid binary_logloss: 0.971773 + 0.299887\n"
     ]
    },
    {
     "name": "stderr",
     "output_type": "stream",
     "text": [
      "bagging, val_score: 0.971773:  60%|######    | 6/10 [00:00<00:00, 10.00it/s]"
     ]
    },
    {
     "name": "stdout",
     "output_type": "stream",
     "text": [
      "Training until validation scores don't improve for 100 rounds\n",
      "[100]\tcv_agg's valid binary_logloss: 0.971773 + 0.299887\n",
      "Early stopping, best iteration is:\n",
      "[1]\tcv_agg's valid binary_logloss: 0.971773 + 0.299887\n"
     ]
    },
    {
     "name": "stderr",
     "output_type": "stream",
     "text": [
      "bagging, val_score: 0.971773:  70%|#######   | 7/10 [00:00<00:00, 10.00it/s]"
     ]
    },
    {
     "name": "stdout",
     "output_type": "stream",
     "text": [
      "Training until validation scores don't improve for 100 rounds\n"
     ]
    },
    {
     "name": "stderr",
     "output_type": "stream",
     "text": [
      "bagging, val_score: 0.971773:  80%|########  | 8/10 [00:00<00:00,  8.85it/s]"
     ]
    },
    {
     "name": "stdout",
     "output_type": "stream",
     "text": [
      "[100]\tcv_agg's valid binary_logloss: 0.971773 + 0.299887\n",
      "Early stopping, best iteration is:\n",
      "[1]\tcv_agg's valid binary_logloss: 0.971773 + 0.299887\n",
      "Training until validation scores don't improve for 100 rounds\n",
      "[100]\tcv_agg's valid binary_logloss: 0.971773 + 0.299887\n",
      "Early stopping, best iteration is:\n",
      "[1]\tcv_agg's valid binary_logloss: 0.971773 + 0.299887\n"
     ]
    },
    {
     "name": "stderr",
     "output_type": "stream",
     "text": [
      "bagging, val_score: 0.971773:  90%|######### | 9/10 [00:00<00:00,  9.07it/s]"
     ]
    },
    {
     "name": "stdout",
     "output_type": "stream",
     "text": [
      "Training until validation scores don't improve for 100 rounds\n"
     ]
    },
    {
     "name": "stderr",
     "output_type": "stream",
     "text": [
      "bagging, val_score: 0.971773: 100%|##########| 10/10 [00:01<00:00,  8.93it/s]\n"
     ]
    },
    {
     "name": "stdout",
     "output_type": "stream",
     "text": [
      "[100]\tcv_agg's valid binary_logloss: 0.971773 + 0.299887\n",
      "Early stopping, best iteration is:\n",
      "[1]\tcv_agg's valid binary_logloss: 0.971773 + 0.299887\n"
     ]
    },
    {
     "name": "stderr",
     "output_type": "stream",
     "text": [
      "feature_fraction_stage2, val_score: 0.971773:   0%|          | 0/3 [00:00<?, ?it/s]"
     ]
    },
    {
     "name": "stdout",
     "output_type": "stream",
     "text": [
      "Training until validation scores don't improve for 100 rounds\n",
      "[100]\tcv_agg's valid binary_logloss: 0.971773 + 0.299887\n",
      "Early stopping, best iteration is:\n",
      "[1]\tcv_agg's valid binary_logloss: 0.971773 + 0.299887\n"
     ]
    },
    {
     "name": "stderr",
     "output_type": "stream",
     "text": [
      "feature_fraction_stage2, val_score: 0.971773:  67%|######6   | 2/3 [00:00<00:00, 16.49it/s]"
     ]
    },
    {
     "name": "stdout",
     "output_type": "stream",
     "text": [
      "Training until validation scores don't improve for 100 rounds\n",
      "[100]\tcv_agg's valid binary_logloss: 0.971773 + 0.299887\n",
      "Early stopping, best iteration is:\n",
      "[1]\tcv_agg's valid binary_logloss: 0.971773 + 0.299887\n",
      "Training until validation scores don't improve for 100 rounds\n",
      "[100]\tcv_agg's valid binary_logloss: 0.971773 + 0.299887\n",
      "Early stopping, best iteration is:\n",
      "[1]\tcv_agg's valid binary_logloss: 0.971773 + 0.299887\n"
     ]
    },
    {
     "name": "stderr",
     "output_type": "stream",
     "text": [
      "feature_fraction_stage2, val_score: 0.971773: 100%|##########| 3/3 [00:00<00:00, 16.07it/s]\n",
      "regularization_factors, val_score: 0.971773:   0%|          | 0/20 [00:00<?, ?it/s]"
     ]
    },
    {
     "name": "stdout",
     "output_type": "stream",
     "text": [
      "Training until validation scores don't improve for 100 rounds\n"
     ]
    },
    {
     "name": "stderr",
     "output_type": "stream",
     "text": [
      "regularization_factors, val_score: 0.971773:  10%|#         | 2/20 [00:00<00:01, 12.41it/s]"
     ]
    },
    {
     "name": "stdout",
     "output_type": "stream",
     "text": [
      "[100]\tcv_agg's valid binary_logloss: 0.971773 + 0.299887\n",
      "Early stopping, best iteration is:\n",
      "[1]\tcv_agg's valid binary_logloss: 0.971773 + 0.299887\n",
      "Training until validation scores don't improve for 100 rounds\n",
      "[100]\tcv_agg's valid binary_logloss: 0.971773 + 0.299887\n",
      "Early stopping, best iteration is:\n",
      "[1]\tcv_agg's valid binary_logloss: 0.971773 + 0.299887\n",
      "Training until validation scores don't improve for 100 rounds\n"
     ]
    },
    {
     "name": "stderr",
     "output_type": "stream",
     "text": [
      "regularization_factors, val_score: 0.971773:  15%|#5        | 3/20 [00:00<00:01, 12.41it/s]"
     ]
    },
    {
     "name": "stdout",
     "output_type": "stream",
     "text": [
      "[100]\tcv_agg's valid binary_logloss: 0.971773 + 0.299887\n",
      "Early stopping, best iteration is:\n",
      "[1]\tcv_agg's valid binary_logloss: 0.971773 + 0.299887\n",
      "Training until validation scores don't improve for 100 rounds\n"
     ]
    },
    {
     "name": "stderr",
     "output_type": "stream",
     "text": [
      "regularization_factors, val_score: 0.971773:  25%|##5       | 5/20 [00:00<00:01, 12.86it/s]"
     ]
    },
    {
     "name": "stdout",
     "output_type": "stream",
     "text": [
      "[100]\tcv_agg's valid binary_logloss: 0.971773 + 0.299887\n",
      "Early stopping, best iteration is:\n",
      "[1]\tcv_agg's valid binary_logloss: 0.971773 + 0.299887\n",
      "Training until validation scores don't improve for 100 rounds\n",
      "[100]\tcv_agg's valid binary_logloss: 0.971773 + 0.299887\n",
      "Early stopping, best iteration is:\n",
      "[1]\tcv_agg's valid binary_logloss: 0.971773 + 0.299887\n",
      "Training until validation scores don't improve for 100 rounds\n"
     ]
    },
    {
     "name": "stderr",
     "output_type": "stream",
     "text": [
      "regularization_factors, val_score: 0.971773:  30%|###       | 6/20 [00:00<00:01, 13.06it/s]"
     ]
    },
    {
     "name": "stdout",
     "output_type": "stream",
     "text": [
      "[100]\tcv_agg's valid binary_logloss: 0.971773 + 0.299887\n",
      "Early stopping, best iteration is:\n",
      "[1]\tcv_agg's valid binary_logloss: 0.971773 + 0.299887\n",
      "Training until validation scores don't improve for 100 rounds\n"
     ]
    },
    {
     "name": "stderr",
     "output_type": "stream",
     "text": [
      "regularization_factors, val_score: 0.971773:  40%|####      | 8/20 [00:00<00:00, 13.33it/s]"
     ]
    },
    {
     "name": "stdout",
     "output_type": "stream",
     "text": [
      "[100]\tcv_agg's valid binary_logloss: 0.971773 + 0.299887\n",
      "Early stopping, best iteration is:\n",
      "[1]\tcv_agg's valid binary_logloss: 0.971773 + 0.299887\n",
      "Training until validation scores don't improve for 100 rounds\n",
      "[100]\tcv_agg's valid binary_logloss: 0.971773 + 0.299887\n",
      "Early stopping, best iteration is:\n",
      "[1]\tcv_agg's valid binary_logloss: 0.971773 + 0.299887\n",
      "Training until validation scores don't improve for 100 rounds\n"
     ]
    },
    {
     "name": "stderr",
     "output_type": "stream",
     "text": [
      "regularization_factors, val_score: 0.971773:  45%|####5     | 9/20 [00:00<00:00, 13.33it/s]"
     ]
    },
    {
     "name": "stdout",
     "output_type": "stream",
     "text": [
      "[100]\tcv_agg's valid binary_logloss: 0.971773 + 0.299887\n",
      "Early stopping, best iteration is:\n",
      "[1]\tcv_agg's valid binary_logloss: 0.971773 + 0.299887\n",
      "Training until validation scores don't improve for 100 rounds\n"
     ]
    },
    {
     "name": "stderr",
     "output_type": "stream",
     "text": [
      "regularization_factors, val_score: 0.971773:  55%|#####5    | 11/20 [00:00<00:00, 13.57it/s]"
     ]
    },
    {
     "name": "stdout",
     "output_type": "stream",
     "text": [
      "[100]\tcv_agg's valid binary_logloss: 0.971773 + 0.299887\n",
      "Early stopping, best iteration is:\n",
      "[1]\tcv_agg's valid binary_logloss: 0.971773 + 0.299887\n",
      "Training until validation scores don't improve for 100 rounds\n",
      "[100]\tcv_agg's valid binary_logloss: 0.971773 + 0.299887\n",
      "Early stopping, best iteration is:\n",
      "[1]\tcv_agg's valid binary_logloss: 0.971773 + 0.299887\n",
      "Training until validation scores don't improve for 100 rounds\n"
     ]
    },
    {
     "name": "stderr",
     "output_type": "stream",
     "text": [
      "regularization_factors, val_score: 0.971773:  60%|######    | 12/20 [00:00<00:00, 13.83it/s]"
     ]
    },
    {
     "name": "stdout",
     "output_type": "stream",
     "text": [
      "[100]\tcv_agg's valid binary_logloss: 0.971773 + 0.299887\n",
      "Early stopping, best iteration is:\n",
      "[1]\tcv_agg's valid binary_logloss: 0.971773 + 0.299887\n",
      "Training until validation scores don't improve for 100 rounds\n"
     ]
    },
    {
     "name": "stderr",
     "output_type": "stream",
     "text": [
      "regularization_factors, val_score: 0.971773:  65%|######5   | 13/20 [00:01<00:00, 13.83it/s]"
     ]
    },
    {
     "name": "stdout",
     "output_type": "stream",
     "text": [
      "[100]\tcv_agg's valid binary_logloss: 0.971773 + 0.299887\n",
      "Early stopping, best iteration is:\n",
      "[1]\tcv_agg's valid binary_logloss: 0.971773 + 0.299887\n",
      "Training until validation scores don't improve for 100 rounds\n",
      "[100]\tcv_agg's valid binary_logloss: 0.971773 + 0.299887\n",
      "Early stopping, best iteration is:\n",
      "[1]\tcv_agg's valid binary_logloss: 0.971773 + 0.299887\n"
     ]
    },
    {
     "name": "stderr",
     "output_type": "stream",
     "text": [
      "regularization_factors, val_score: 0.971773:  70%|#######   | 14/20 [00:01<00:00, 12.61it/s]"
     ]
    },
    {
     "name": "stdout",
     "output_type": "stream",
     "text": [
      "Training until validation scores don't improve for 100 rounds\n",
      "[100]\tcv_agg's valid binary_logloss: 0.971773 + 0.299887\n",
      "Early stopping, best iteration is:\n",
      "[1]\tcv_agg's valid binary_logloss: 0.971773 + 0.299887\n"
     ]
    },
    {
     "name": "stderr",
     "output_type": "stream",
     "text": [
      "regularization_factors, val_score: 0.971773:  80%|########  | 16/20 [00:01<00:00, 12.52it/s]"
     ]
    },
    {
     "name": "stdout",
     "output_type": "stream",
     "text": [
      "Training until validation scores don't improve for 100 rounds\n",
      "[100]\tcv_agg's valid binary_logloss: 0.971773 + 0.299887\n",
      "Early stopping, best iteration is:\n",
      "[1]\tcv_agg's valid binary_logloss: 0.971773 + 0.299887\n",
      "Training until validation scores don't improve for 100 rounds\n",
      "[100]\tcv_agg's valid binary_logloss: 0.971773 + 0.299887\n",
      "Early stopping, best iteration is:\n",
      "[1]\tcv_agg's valid binary_logloss: 0.971773 + 0.299887\n"
     ]
    },
    {
     "name": "stderr",
     "output_type": "stream",
     "text": [
      "regularization_factors, val_score: 0.971773:  85%|########5 | 17/20 [00:01<00:00, 12.52it/s]"
     ]
    },
    {
     "name": "stdout",
     "output_type": "stream",
     "text": [
      "Training until validation scores don't improve for 100 rounds\n",
      "[100]\tcv_agg's valid binary_logloss: 0.971773 + 0.299887\n",
      "Early stopping, best iteration is:\n",
      "[1]\tcv_agg's valid binary_logloss: 0.971773 + 0.299887\n"
     ]
    },
    {
     "name": "stderr",
     "output_type": "stream",
     "text": [
      "regularization_factors, val_score: 0.971773:  95%|#########5| 19/20 [00:01<00:00, 12.80it/s]"
     ]
    },
    {
     "name": "stdout",
     "output_type": "stream",
     "text": [
      "Training until validation scores don't improve for 100 rounds\n",
      "[100]\tcv_agg's valid binary_logloss: 0.971773 + 0.299887\n",
      "Early stopping, best iteration is:\n",
      "[1]\tcv_agg's valid binary_logloss: 0.971773 + 0.299887\n",
      "Training until validation scores don't improve for 100 rounds\n"
     ]
    },
    {
     "name": "stderr",
     "output_type": "stream",
     "text": [
      "regularization_factors, val_score: 0.971773: 100%|##########| 20/20 [00:01<00:00, 12.82it/s]\n"
     ]
    },
    {
     "name": "stdout",
     "output_type": "stream",
     "text": [
      "[100]\tcv_agg's valid binary_logloss: 0.971773 + 0.299887\n",
      "Early stopping, best iteration is:\n",
      "[1]\tcv_agg's valid binary_logloss: 0.971773 + 0.299887\n"
     ]
    },
    {
     "name": "stderr",
     "output_type": "stream",
     "text": [
      "min_child_samples, val_score: 0.971773:   0%|          | 0/5 [00:00<?, ?it/s]"
     ]
    },
    {
     "name": "stdout",
     "output_type": "stream",
     "text": [
      "Training until validation scores don't improve for 100 rounds\n"
     ]
    },
    {
     "name": "stderr",
     "output_type": "stream",
     "text": [
      "min_child_samples, val_score: 0.971773:  40%|####      | 2/5 [00:00<00:00, 13.80it/s]"
     ]
    },
    {
     "name": "stdout",
     "output_type": "stream",
     "text": [
      "[100]\tcv_agg's valid binary_logloss: 0.971773 + 0.299887\n",
      "Early stopping, best iteration is:\n",
      "[1]\tcv_agg's valid binary_logloss: 0.971773 + 0.299887\n",
      "Training until validation scores don't improve for 100 rounds\n",
      "[100]\tcv_agg's valid binary_logloss: 0.971773 + 0.299887\n",
      "Early stopping, best iteration is:\n",
      "[1]\tcv_agg's valid binary_logloss: 0.971773 + 0.299887\n",
      "Training until validation scores don't improve for 100 rounds\n",
      "[100]\tcv_agg's valid binary_logloss: 1.34855 + 1.11172"
     ]
    },
    {
     "name": "stderr",
     "output_type": "stream",
     "text": [
      "min_child_samples, val_score: 0.494837:  80%|########  | 4/5 [00:00<00:00,  8.63it/s]"
     ]
    },
    {
     "name": "stdout",
     "output_type": "stream",
     "text": [
      "\n",
      "Early stopping, best iteration is:\n",
      "[33]\tcv_agg's valid binary_logloss: 0.535 + 0.249222\n",
      "Training until validation scores don't improve for 100 rounds\n",
      "[100]\tcv_agg's valid binary_logloss: 0.521309 + 0.219613\n",
      "Early stopping, best iteration is:\n",
      "[54]\tcv_agg's valid binary_logloss: 0.494837 + 0.186516\n"
     ]
    },
    {
     "name": "stderr",
     "output_type": "stream",
     "text": [
      "min_child_samples, val_score: 0.494837: 100%|##########| 5/5 [00:00<00:00,  9.77it/s]\n"
     ]
    },
    {
     "name": "stdout",
     "output_type": "stream",
     "text": [
      "Training until validation scores don't improve for 100 rounds\n",
      "[100]\tcv_agg's valid binary_logloss: 0.971773 + 0.299887\n",
      "Early stopping, best iteration is:\n",
      "[1]\tcv_agg's valid binary_logloss: 0.971773 + 0.299887\n",
      "{'accuracy': 0.8333333333333334, 'balanced_accuracy': np.float64(0.8116883116883117), 'f1': np.float64(0.7692307692307693), 'precision': np.float64(0.8333333333333334), 'recall': np.float64(0.7142857142857143), 'specificity': np.float64(0.9090909090909091), 'ROC_AUC': np.float64(0.8116883116883117), 'MCC': np.float64(0.6446583712203042)}\n"
     ]
    },
    {
     "name": "stderr",
     "output_type": "stream",
     "text": [
      "feature_fraction, val_score: 0.971773:  29%|##8       | 2/7 [00:00<00:00, 14.78it/s]"
     ]
    },
    {
     "name": "stdout",
     "output_type": "stream",
     "text": [
      "Training until validation scores don't improve for 100 rounds\n",
      "[100]\tcv_agg's valid binary_logloss: 0.971773 + 0.299887\n",
      "Early stopping, best iteration is:\n",
      "[1]\tcv_agg's valid binary_logloss: 0.971773 + 0.299887\n",
      "Training until validation scores don't improve for 100 rounds\n",
      "[100]\tcv_agg's valid binary_logloss: 0.971773 + 0.299887\n",
      "Early stopping, best iteration is:\n",
      "[1]\tcv_agg's valid binary_logloss: 0.971773 + 0.299887\n",
      "Training until validation scores don't improve for 100 rounds\n"
     ]
    },
    {
     "name": "stderr",
     "output_type": "stream",
     "text": [
      "feature_fraction, val_score: 0.971773:  43%|####2     | 3/7 [00:00<00:00, 14.78it/s]"
     ]
    },
    {
     "name": "stdout",
     "output_type": "stream",
     "text": [
      "[100]\tcv_agg's valid binary_logloss: 0.971773 + 0.299887\n",
      "Early stopping, best iteration is:\n",
      "[1]\tcv_agg's valid binary_logloss: 0.971773 + 0.299887\n"
     ]
    },
    {
     "name": "stderr",
     "output_type": "stream",
     "text": [
      "feature_fraction, val_score: 0.971773:  71%|#######1  | 5/7 [00:00<00:00, 15.21it/s]"
     ]
    },
    {
     "name": "stdout",
     "output_type": "stream",
     "text": [
      "Training until validation scores don't improve for 100 rounds\n",
      "[100]\tcv_agg's valid binary_logloss: 0.971773 + 0.299887\n",
      "Early stopping, best iteration is:\n",
      "[1]\tcv_agg's valid binary_logloss: 0.971773 + 0.299887\n",
      "Training until validation scores don't improve for 100 rounds\n",
      "[100]\tcv_agg's valid binary_logloss: 0.971773 + 0.299887\n",
      "Early stopping, best iteration is:\n",
      "[1]\tcv_agg's valid binary_logloss: 0.971773 + 0.299887\n",
      "Training until validation scores don't improve for 100 rounds\n",
      "[100]\tcv_agg's valid binary_logloss: 0.971773 + 0.299887\n"
     ]
    },
    {
     "name": "stderr",
     "output_type": "stream",
     "text": [
      "feature_fraction, val_score: 0.971773: 100%|##########| 7/7 [00:00<00:00, 15.02it/s]\n"
     ]
    },
    {
     "name": "stdout",
     "output_type": "stream",
     "text": [
      "Early stopping, best iteration is:\n",
      "[1]\tcv_agg's valid binary_logloss: 0.971773 + 0.299887\n",
      "Training until validation scores don't improve for 100 rounds\n",
      "[100]\tcv_agg's valid binary_logloss: 0.971773 + 0.299887\n",
      "Early stopping, best iteration is:\n",
      "[1]\tcv_agg's valid binary_logloss: 0.971773 + 0.299887\n"
     ]
    },
    {
     "name": "stderr",
     "output_type": "stream",
     "text": [
      "num_leaves, val_score: 0.971773:   5%|5         | 1/20 [00:00<00:01, 12.85it/s]"
     ]
    },
    {
     "name": "stdout",
     "output_type": "stream",
     "text": [
      "Training until validation scores don't improve for 100 rounds\n",
      "[100]\tcv_agg's valid binary_logloss: 0.971773 + 0.299887\n",
      "Early stopping, best iteration is:\n",
      "[1]\tcv_agg's valid binary_logloss: 0.971773 + 0.299887\n",
      "Training until validation scores don't improve for 100 rounds\n"
     ]
    },
    {
     "name": "stderr",
     "output_type": "stream",
     "text": [
      "num_leaves, val_score: 0.971773:  10%|#         | 2/20 [00:00<00:01, 13.25it/s]"
     ]
    },
    {
     "name": "stdout",
     "output_type": "stream",
     "text": [
      "[100]\tcv_agg's valid binary_logloss: 0.971773 + 0.299887\n",
      "Early stopping, best iteration is:\n",
      "[1]\tcv_agg's valid binary_logloss: 0.971773 + 0.299887\n",
      "Training until validation scores don't improve for 100 rounds\n"
     ]
    },
    {
     "name": "stderr",
     "output_type": "stream",
     "text": [
      "num_leaves, val_score: 0.971773:  20%|##        | 4/20 [00:00<00:01, 14.05it/s]"
     ]
    },
    {
     "name": "stdout",
     "output_type": "stream",
     "text": [
      "[100]\tcv_agg's valid binary_logloss: 0.971773 + 0.299887\n",
      "Early stopping, best iteration is:\n",
      "[1]\tcv_agg's valid binary_logloss: 0.971773 + 0.299887\n",
      "Training until validation scores don't improve for 100 rounds\n",
      "[100]\tcv_agg's valid binary_logloss: 0.971773 + 0.299887\n",
      "Early stopping, best iteration is:\n",
      "[1]\tcv_agg's valid binary_logloss: 0.971773 + 0.299887\n",
      "Training until validation scores don't improve for 100 rounds\n"
     ]
    },
    {
     "name": "stderr",
     "output_type": "stream",
     "text": [
      "num_leaves, val_score: 0.971773:  25%|##5       | 5/20 [00:00<00:01, 14.05it/s]"
     ]
    },
    {
     "name": "stdout",
     "output_type": "stream",
     "text": [
      "[100]\tcv_agg's valid binary_logloss: 0.971773 + 0.299887\n",
      "Early stopping, best iteration is:\n",
      "[1]\tcv_agg's valid binary_logloss: 0.971773 + 0.299887\n",
      "Training until validation scores don't improve for 100 rounds\n"
     ]
    },
    {
     "name": "stderr",
     "output_type": "stream",
     "text": [
      "num_leaves, val_score: 0.971773:  35%|###5      | 7/20 [00:00<00:00, 13.00it/s]"
     ]
    },
    {
     "name": "stdout",
     "output_type": "stream",
     "text": [
      "[100]\tcv_agg's valid binary_logloss: 0.971773 + 0.299887\n",
      "Early stopping, best iteration is:\n",
      "[1]\tcv_agg's valid binary_logloss: 0.971773 + 0.299887\n",
      "Training until validation scores don't improve for 100 rounds\n",
      "[100]\tcv_agg's valid binary_logloss: 0.971773 + 0.299887\n",
      "Early stopping, best iteration is:\n",
      "[1]\tcv_agg's valid binary_logloss: 0.971773 + 0.299887\n",
      "Training until validation scores don't improve for 100 rounds\n"
     ]
    },
    {
     "name": "stderr",
     "output_type": "stream",
     "text": [
      "num_leaves, val_score: 0.971773:  40%|####      | 8/20 [00:00<00:00, 12.68it/s]"
     ]
    },
    {
     "name": "stdout",
     "output_type": "stream",
     "text": [
      "[100]\tcv_agg's valid binary_logloss: 0.971773 + 0.299887\n",
      "Early stopping, best iteration is:\n",
      "[1]\tcv_agg's valid binary_logloss: 0.971773 + 0.299887\n",
      "Training until validation scores don't improve for 100 rounds\n"
     ]
    },
    {
     "name": "stderr",
     "output_type": "stream",
     "text": [
      "num_leaves, val_score: 0.971773:  45%|####5     | 9/20 [00:00<00:00, 12.68it/s]"
     ]
    },
    {
     "name": "stdout",
     "output_type": "stream",
     "text": [
      "[100]\tcv_agg's valid binary_logloss: 0.971773 + 0.299887\n",
      "Early stopping, best iteration is:\n",
      "[1]\tcv_agg's valid binary_logloss: 0.971773 + 0.299887\n",
      "Training until validation scores don't improve for 100 rounds\n",
      "[100]\tcv_agg's valid binary_logloss: 0.971773 + 0.299887\n",
      "Early stopping, best iteration is:\n",
      "[1]\tcv_agg's valid binary_logloss: 0.971773 + 0.299887\n"
     ]
    },
    {
     "name": "stderr",
     "output_type": "stream",
     "text": [
      "num_leaves, val_score: 0.971773:  50%|#####     | 10/20 [00:00<00:00, 12.16it/s]"
     ]
    },
    {
     "name": "stdout",
     "output_type": "stream",
     "text": [
      "Training until validation scores don't improve for 100 rounds\n",
      "[100]\tcv_agg's valid binary_logloss: 0.971773 + 0.299887\n",
      "Early stopping, best iteration is:\n",
      "[1]\tcv_agg's valid binary_logloss: 0.971773 + 0.299887\n"
     ]
    },
    {
     "name": "stderr",
     "output_type": "stream",
     "text": [
      "num_leaves, val_score: 0.971773:  60%|######    | 12/20 [00:00<00:00, 12.02it/s]"
     ]
    },
    {
     "name": "stdout",
     "output_type": "stream",
     "text": [
      "Training until validation scores don't improve for 100 rounds\n",
      "[100]\tcv_agg's valid binary_logloss: 0.971773 + 0.299887\n",
      "Early stopping, best iteration is:\n",
      "[1]\tcv_agg's valid binary_logloss: 0.971773 + 0.299887\n",
      "Training until validation scores don't improve for 100 rounds\n"
     ]
    },
    {
     "name": "stderr",
     "output_type": "stream",
     "text": [
      "num_leaves, val_score: 0.971773:  65%|######5   | 13/20 [00:01<00:00, 12.02it/s]"
     ]
    },
    {
     "name": "stdout",
     "output_type": "stream",
     "text": [
      "[100]\tcv_agg's valid binary_logloss: 0.971773 + 0.299887\n",
      "Early stopping, best iteration is:\n",
      "[1]\tcv_agg's valid binary_logloss: 0.971773 + 0.299887\n",
      "Training until validation scores don't improve for 100 rounds\n"
     ]
    },
    {
     "name": "stderr",
     "output_type": "stream",
     "text": [
      "num_leaves, val_score: 0.971773:  75%|#######5  | 15/20 [00:01<00:00, 12.40it/s]"
     ]
    },
    {
     "name": "stdout",
     "output_type": "stream",
     "text": [
      "[100]\tcv_agg's valid binary_logloss: 0.971773 + 0.299887\n",
      "Early stopping, best iteration is:\n",
      "[1]\tcv_agg's valid binary_logloss: 0.971773 + 0.299887\n",
      "Training until validation scores don't improve for 100 rounds\n",
      "[100]\tcv_agg's valid binary_logloss: 0.971773 + 0.299887\n",
      "Early stopping, best iteration is:\n",
      "[1]\tcv_agg's valid binary_logloss: 0.971773 + 0.299887\n",
      "Training until validation scores don't improve for 100 rounds\n"
     ]
    },
    {
     "name": "stderr",
     "output_type": "stream",
     "text": [
      "num_leaves, val_score: 0.971773:  80%|########  | 16/20 [00:01<00:00, 12.37it/s]"
     ]
    },
    {
     "name": "stdout",
     "output_type": "stream",
     "text": [
      "[100]\tcv_agg's valid binary_logloss: 0.971773 + 0.299887\n",
      "Early stopping, best iteration is:\n",
      "[1]\tcv_agg's valid binary_logloss: 0.971773 + 0.299887\n",
      "Training until validation scores don't improve for 100 rounds\n"
     ]
    },
    {
     "name": "stderr",
     "output_type": "stream",
     "text": [
      "num_leaves, val_score: 0.971773:  90%|######### | 18/20 [00:01<00:00, 12.83it/s]"
     ]
    },
    {
     "name": "stdout",
     "output_type": "stream",
     "text": [
      "[100]\tcv_agg's valid binary_logloss: 0.971773 + 0.299887\n",
      "Early stopping, best iteration is:\n",
      "[1]\tcv_agg's valid binary_logloss: 0.971773 + 0.299887\n",
      "Training until validation scores don't improve for 100 rounds\n",
      "[100]\tcv_agg's valid binary_logloss: 0.971773 + 0.299887\n",
      "Early stopping, best iteration is:\n",
      "[1]\tcv_agg's valid binary_logloss: 0.971773 + 0.299887\n",
      "Training until validation scores don't improve for 100 rounds\n"
     ]
    },
    {
     "name": "stderr",
     "output_type": "stream",
     "text": [
      "num_leaves, val_score: 0.971773:  95%|#########5| 19/20 [00:01<00:00, 12.83it/s]"
     ]
    },
    {
     "name": "stdout",
     "output_type": "stream",
     "text": [
      "[100]\tcv_agg's valid binary_logloss: 0.971773 + 0.299887\n",
      "Early stopping, best iteration is:\n",
      "[1]\tcv_agg's valid binary_logloss: 0.971773 + 0.299887\n",
      "Training until validation scores don't improve for 100 rounds\n"
     ]
    },
    {
     "name": "stderr",
     "output_type": "stream",
     "text": [
      "num_leaves, val_score: 0.971773: 100%|##########| 20/20 [00:01<00:00, 11.47it/s]\n"
     ]
    },
    {
     "name": "stdout",
     "output_type": "stream",
     "text": [
      "[100]\tcv_agg's valid binary_logloss: 0.971773 + 0.299887\n",
      "Early stopping, best iteration is:\n",
      "[1]\tcv_agg's valid binary_logloss: 0.971773 + 0.299887\n"
     ]
    },
    {
     "name": "stderr",
     "output_type": "stream",
     "text": [
      "bagging, val_score: 0.971773:  10%|#         | 1/10 [00:00<00:00,  9.04it/s]"
     ]
    },
    {
     "name": "stdout",
     "output_type": "stream",
     "text": [
      "Training until validation scores don't improve for 100 rounds\n",
      "[100]\tcv_agg's valid binary_logloss: 0.971773 + 0.299887\n",
      "Early stopping, best iteration is:\n",
      "[1]\tcv_agg's valid binary_logloss: 0.971773 + 0.299887\n",
      "Training until validation scores don't improve for 100 rounds\n",
      "[100]\tcv_agg's valid binary_logloss: 0.971773 + 0.299887"
     ]
    },
    {
     "name": "stderr",
     "output_type": "stream",
     "text": [
      "bagging, val_score: 0.971773:  30%|###       | 3/10 [00:00<00:00,  8.70it/s]"
     ]
    },
    {
     "name": "stdout",
     "output_type": "stream",
     "text": [
      "\n",
      "Early stopping, best iteration is:\n",
      "[1]\tcv_agg's valid binary_logloss: 0.971773 + 0.299887\n",
      "Training until validation scores don't improve for 100 rounds\n",
      "[100]\tcv_agg's valid binary_logloss: 0.971773 + 0.299887\n",
      "Early stopping, best iteration is:\n",
      "[1]\tcv_agg's valid binary_logloss: 0.971773 + 0.299887\n",
      "Training until validation scores don't improve for 100 rounds\n"
     ]
    },
    {
     "name": "stderr",
     "output_type": "stream",
     "text": [
      "bagging, val_score: 0.971773:  60%|######    | 6/10 [00:00<00:00, 10.60it/s]"
     ]
    },
    {
     "name": "stdout",
     "output_type": "stream",
     "text": [
      "[100]\tcv_agg's valid binary_logloss: 0.971773 + 0.299887\n",
      "Early stopping, best iteration is:\n",
      "[1]\tcv_agg's valid binary_logloss: 0.971773 + 0.299887\n",
      "Training until validation scores don't improve for 100 rounds\n",
      "[100]\tcv_agg's valid binary_logloss: 0.971773 + 0.299887\n",
      "Early stopping, best iteration is:\n",
      "[1]\tcv_agg's valid binary_logloss: 0.971773 + 0.299887\n",
      "Training until validation scores don't improve for 100 rounds\n",
      "[100]\tcv_agg's valid binary_logloss: 0.971773 + 0.299887\n",
      "Early stopping, best iteration is:\n",
      "[1]\tcv_agg's valid binary_logloss: 0.971773 + 0.299887\n"
     ]
    },
    {
     "name": "stderr",
     "output_type": "stream",
     "text": [
      "bagging, val_score: 0.971773:  80%|########  | 8/10 [00:00<00:00, 10.84it/s]"
     ]
    },
    {
     "name": "stdout",
     "output_type": "stream",
     "text": [
      "Training until validation scores don't improve for 100 rounds\n",
      "[100]\tcv_agg's valid binary_logloss: 0.971773 + 0.299887\n",
      "Early stopping, best iteration is:\n",
      "[1]\tcv_agg's valid binary_logloss: 0.971773 + 0.299887\n",
      "Training until validation scores don't improve for 100 rounds\n",
      "[100]\tcv_agg's valid binary_logloss: 0.971773 + 0.299887\n",
      "Early stopping, best iteration is:\n",
      "[1]\tcv_agg's valid binary_logloss: 0.971773 + 0.299887\n",
      "Training until validation scores don't improve for 100 rounds\n"
     ]
    },
    {
     "name": "stderr",
     "output_type": "stream",
     "text": [
      "bagging, val_score: 0.971773: 100%|##########| 10/10 [00:00<00:00, 10.21it/s]\n"
     ]
    },
    {
     "name": "stdout",
     "output_type": "stream",
     "text": [
      "[100]\tcv_agg's valid binary_logloss: 0.971773 + 0.299887\n",
      "Early stopping, best iteration is:\n",
      "[1]\tcv_agg's valid binary_logloss: 0.971773 + 0.299887\n",
      "Training until validation scores don't improve for 100 rounds\n",
      "[100]\tcv_agg's valid binary_logloss: 0.971773 + 0.299887\n",
      "Early stopping, best iteration is:\n",
      "[1]\tcv_agg's valid binary_logloss: 0.971773 + 0.299887\n"
     ]
    },
    {
     "name": "stderr",
     "output_type": "stream",
     "text": [
      "feature_fraction_stage2, val_score: 0.971773:  33%|###3      | 1/3 [00:00<00:00, 15.34it/s]"
     ]
    },
    {
     "name": "stdout",
     "output_type": "stream",
     "text": [
      "Training until validation scores don't improve for 100 rounds\n",
      "[100]\tcv_agg's valid binary_logloss: 0.971773 + 0.299887\n",
      "Early stopping, best iteration is:\n",
      "[1]\tcv_agg's valid binary_logloss: 0.971773 + 0.299887\n",
      "Training until validation scores don't improve for 100 rounds\n"
     ]
    },
    {
     "name": "stderr",
     "output_type": "stream",
     "text": [
      "feature_fraction_stage2, val_score: 0.971773: 100%|##########| 3/3 [00:00<00:00, 15.87it/s]\n"
     ]
    },
    {
     "name": "stdout",
     "output_type": "stream",
     "text": [
      "[100]\tcv_agg's valid binary_logloss: 0.971773 + 0.299887\n",
      "Early stopping, best iteration is:\n",
      "[1]\tcv_agg's valid binary_logloss: 0.971773 + 0.299887\n",
      "Training until validation scores don't improve for 100 rounds\n",
      "[100]\tcv_agg's valid binary_logloss: 0.971773 + 0.299887\n",
      "Early stopping, best iteration is:\n",
      "[1]\tcv_agg's valid binary_logloss: 0.971773 + 0.299887\n"
     ]
    },
    {
     "name": "stderr",
     "output_type": "stream",
     "text": [
      "regularization_factors, val_score: 0.971773:   5%|5         | 1/20 [00:00<00:01, 12.25it/s]"
     ]
    },
    {
     "name": "stdout",
     "output_type": "stream",
     "text": [
      "Training until validation scores don't improve for 100 rounds\n",
      "[100]\tcv_agg's valid binary_logloss: 0.971773 + 0.299887\n",
      "Early stopping, best iteration is:\n",
      "[1]\tcv_agg's valid binary_logloss: 0.971773 + 0.299887\n",
      "Training until validation scores don't improve for 100 rounds\n"
     ]
    },
    {
     "name": "stderr",
     "output_type": "stream",
     "text": [
      "regularization_factors, val_score: 0.971773:  10%|#         | 2/20 [00:00<00:01, 13.29it/s]"
     ]
    },
    {
     "name": "stdout",
     "output_type": "stream",
     "text": [
      "[100]\tcv_agg's valid binary_logloss: 0.971773 + 0.299887\n",
      "Early stopping, best iteration is:\n",
      "[1]\tcv_agg's valid binary_logloss: 0.971773 + 0.299887\n",
      "Training until validation scores don't improve for 100 rounds\n",
      "[100]\tcv_agg's valid binary_logloss: 0.971773 + 0.299887\n",
      "Early stopping, best iteration is:\n",
      "[1]\tcv_agg's valid binary_logloss: 0.971773 + 0.299887\n"
     ]
    },
    {
     "name": "stderr",
     "output_type": "stream",
     "text": [
      "regularization_factors, val_score: 0.971773:  20%|##        | 4/20 [00:00<00:01, 13.53it/s]"
     ]
    },
    {
     "name": "stdout",
     "output_type": "stream",
     "text": [
      "Training until validation scores don't improve for 100 rounds\n",
      "[100]\tcv_agg's valid binary_logloss: 0.971773 + 0.299887\n",
      "Early stopping, best iteration is:\n",
      "[1]\tcv_agg's valid binary_logloss: 0.971773 + 0.299887\n",
      "Training until validation scores don't improve for 100 rounds\n",
      "[100]\tcv_agg's valid binary_logloss: 0.971773 + 0.299887\n",
      "Early stopping, best iteration is:\n",
      "[1]\tcv_agg's valid binary_logloss: 0.971773 + 0.299887\n"
     ]
    },
    {
     "name": "stderr",
     "output_type": "stream",
     "text": [
      "regularization_factors, val_score: 0.971773:  25%|##5       | 5/20 [00:00<00:01, 13.53it/s]"
     ]
    },
    {
     "name": "stdout",
     "output_type": "stream",
     "text": [
      "Training until validation scores don't improve for 100 rounds\n",
      "[100]\tcv_agg's valid binary_logloss: 0.971773 + 0.299887\n",
      "Early stopping, best iteration is:\n",
      "[1]\tcv_agg's valid binary_logloss: 0.971773 + 0.299887\n"
     ]
    },
    {
     "name": "stderr",
     "output_type": "stream",
     "text": [
      "regularization_factors, val_score: 0.971773:  35%|###5      | 7/20 [00:00<00:00, 13.95it/s]"
     ]
    },
    {
     "name": "stdout",
     "output_type": "stream",
     "text": [
      "Training until validation scores don't improve for 100 rounds\n",
      "[100]\tcv_agg's valid binary_logloss: 0.971773 + 0.299887\n",
      "Early stopping, best iteration is:\n",
      "[1]\tcv_agg's valid binary_logloss: 0.971773 + 0.299887\n",
      "Training until validation scores don't improve for 100 rounds\n",
      "[100]\tcv_agg's valid binary_logloss: 0.971773 + 0.299887\n",
      "Early stopping, best iteration is:\n",
      "[1]\tcv_agg's valid binary_logloss: 0.971773 + 0.299887\n"
     ]
    },
    {
     "name": "stderr",
     "output_type": "stream",
     "text": [
      "regularization_factors, val_score: 0.971773:  40%|####      | 8/20 [00:00<00:00, 13.79it/s]"
     ]
    },
    {
     "name": "stdout",
     "output_type": "stream",
     "text": [
      "Training until validation scores don't improve for 100 rounds\n",
      "[100]\tcv_agg's valid binary_logloss: 0.971773 + 0.299887\n",
      "Early stopping, best iteration is:\n",
      "[1]\tcv_agg's valid binary_logloss: 0.971773 + 0.299887\n"
     ]
    },
    {
     "name": "stderr",
     "output_type": "stream",
     "text": [
      "regularization_factors, val_score: 0.971773:  50%|#####     | 10/20 [00:00<00:00, 13.73it/s]"
     ]
    },
    {
     "name": "stdout",
     "output_type": "stream",
     "text": [
      "Training until validation scores don't improve for 100 rounds\n",
      "[100]\tcv_agg's valid binary_logloss: 0.971773 + 0.299887\n",
      "Early stopping, best iteration is:\n",
      "[1]\tcv_agg's valid binary_logloss: 0.971773 + 0.299887\n",
      "Training until validation scores don't improve for 100 rounds\n"
     ]
    },
    {
     "name": "stderr",
     "output_type": "stream",
     "text": [
      "regularization_factors, val_score: 0.971773:  55%|#####5    | 11/20 [00:00<00:00, 13.73it/s]"
     ]
    },
    {
     "name": "stdout",
     "output_type": "stream",
     "text": [
      "[100]\tcv_agg's valid binary_logloss: 0.971773 + 0.299887\n",
      "Early stopping, best iteration is:\n",
      "[1]\tcv_agg's valid binary_logloss: 0.971773 + 0.299887\n",
      "Training until validation scores don't improve for 100 rounds\n",
      "[100]\tcv_agg's valid binary_logloss: 0.971773 + 0.299887\n",
      "Early stopping, best iteration is:\n",
      "[1]\tcv_agg's valid binary_logloss: 0.971773 + 0.299887\n"
     ]
    },
    {
     "name": "stderr",
     "output_type": "stream",
     "text": [
      "regularization_factors, val_score: 0.971773:  65%|######5   | 13/20 [00:00<00:00, 13.88it/s]"
     ]
    },
    {
     "name": "stdout",
     "output_type": "stream",
     "text": [
      "Training until validation scores don't improve for 100 rounds\n",
      "[100]\tcv_agg's valid binary_logloss: 0.971773 + 0.299887\n",
      "Early stopping, best iteration is:\n",
      "[1]\tcv_agg's valid binary_logloss: 0.971773 + 0.299887\n",
      "Training until validation scores don't improve for 100 rounds\n"
     ]
    },
    {
     "name": "stderr",
     "output_type": "stream",
     "text": [
      "regularization_factors, val_score: 0.971773:  70%|#######   | 14/20 [00:01<00:00, 13.80it/s]"
     ]
    },
    {
     "name": "stdout",
     "output_type": "stream",
     "text": [
      "[100]\tcv_agg's valid binary_logloss: 0.971773 + 0.299887\n",
      "Early stopping, best iteration is:\n",
      "[1]\tcv_agg's valid binary_logloss: 0.971773 + 0.299887\n",
      "Training until validation scores don't improve for 100 rounds\n",
      "[100]\tcv_agg's valid binary_logloss: 0.971773 + 0.299887\n",
      "Early stopping, best iteration is:\n",
      "[1]\tcv_agg's valid binary_logloss: 0.971773 + 0.299887\n"
     ]
    },
    {
     "name": "stderr",
     "output_type": "stream",
     "text": [
      "regularization_factors, val_score: 0.971773:  80%|########  | 16/20 [00:01<00:00, 13.30it/s]"
     ]
    },
    {
     "name": "stdout",
     "output_type": "stream",
     "text": [
      "Training until validation scores don't improve for 100 rounds\n",
      "[100]\tcv_agg's valid binary_logloss: 0.971773 + 0.299887\n",
      "Early stopping, best iteration is:\n",
      "[1]\tcv_agg's valid binary_logloss: 0.971773 + 0.299887\n"
     ]
    },
    {
     "name": "stderr",
     "output_type": "stream",
     "text": [
      "regularization_factors, val_score: 0.971773:  85%|########5 | 17/20 [00:01<00:00, 13.30it/s]"
     ]
    },
    {
     "name": "stdout",
     "output_type": "stream",
     "text": [
      "Training until validation scores don't improve for 100 rounds\n",
      "[100]\tcv_agg's valid binary_logloss: 0.971773 + 0.299887\n",
      "Early stopping, best iteration is:\n",
      "[1]\tcv_agg's valid binary_logloss: 0.971773 + 0.299887\n",
      "Training until validation scores don't improve for 100 rounds\n"
     ]
    },
    {
     "name": "stderr",
     "output_type": "stream",
     "text": [
      "regularization_factors, val_score: 0.971773:  90%|######### | 18/20 [00:01<00:00, 12.27it/s]"
     ]
    },
    {
     "name": "stdout",
     "output_type": "stream",
     "text": [
      "[100]\tcv_agg's valid binary_logloss: 0.971773 + 0.299887\n",
      "Early stopping, best iteration is:\n",
      "[1]\tcv_agg's valid binary_logloss: 0.971773 + 0.299887\n",
      "Training until validation scores don't improve for 100 rounds\n"
     ]
    },
    {
     "name": "stderr",
     "output_type": "stream",
     "text": [
      "regularization_factors, val_score: 0.971773: 100%|##########| 20/20 [00:01<00:00, 13.01it/s]\n"
     ]
    },
    {
     "name": "stdout",
     "output_type": "stream",
     "text": [
      "[100]\tcv_agg's valid binary_logloss: 0.971773 + 0.299887\n",
      "Early stopping, best iteration is:\n",
      "[1]\tcv_agg's valid binary_logloss: 0.971773 + 0.299887\n",
      "Training until validation scores don't improve for 100 rounds\n",
      "[100]\tcv_agg's valid binary_logloss: 0.971773 + 0.299887\n",
      "Early stopping, best iteration is:\n",
      "[1]\tcv_agg's valid binary_logloss: 0.971773 + 0.299887\n"
     ]
    },
    {
     "name": "stderr",
     "output_type": "stream",
     "text": [
      "min_child_samples, val_score: 0.971773:  20%|##        | 1/5 [00:00<00:00,  7.82it/s]"
     ]
    },
    {
     "name": "stdout",
     "output_type": "stream",
     "text": [
      "Training until validation scores don't improve for 100 rounds\n",
      "[100]\tcv_agg's valid binary_logloss: 0.971773 + 0.299887\n",
      "Early stopping, best iteration is:\n",
      "[1]\tcv_agg's valid binary_logloss: 0.971773 + 0.299887\n",
      "Training until validation scores don't improve for 100 rounds\n",
      "[100]\tcv_agg's valid binary_logloss: 0.971773 + 0.299887\n",
      "Early stopping, best iteration is:\n",
      "[1]\tcv_agg's valid binary_logloss: 0.971773 + 0.299887\n"
     ]
    },
    {
     "name": "stderr",
     "output_type": "stream",
     "text": [
      "min_child_samples, val_score: 0.971773:  40%|####      | 2/5 [00:00<00:00, 15.40it/s]"
     ]
    },
    {
     "name": "stdout",
     "output_type": "stream",
     "text": [
      "Training until validation scores don't improve for 100 rounds\n"
     ]
    },
    {
     "name": "stderr",
     "output_type": "stream",
     "text": [
      "min_child_samples, val_score: 0.605605:  60%|######    | 3/5 [00:00<00:00, 15.40it/s]"
     ]
    },
    {
     "name": "stdout",
     "output_type": "stream",
     "text": [
      "[100]\tcv_agg's valid binary_logloss: 1.76353 + 0.813163\n",
      "Early stopping, best iteration is:\n",
      "[10]\tcv_agg's valid binary_logloss: 0.605605 + 0.144012\n",
      "Training until validation scores don't improve for 100 rounds\n",
      "[100]\tcv_agg's valid binary_logloss: 0.874864 + 0.297482\n"
     ]
    },
    {
     "name": "stderr",
     "output_type": "stream",
     "text": [
      "min_child_samples, val_score: 0.605605:  80%|########  | 4/5 [00:00<00:00, 10.54it/s]"
     ]
    },
    {
     "name": "stdout",
     "output_type": "stream",
     "text": [
      "Early stopping, best iteration is:\n",
      "[28]\tcv_agg's valid binary_logloss: 0.630506 + 0.1916\n",
      "Training until validation scores don't improve for 100 rounds\n",
      "[100]\tcv_agg's valid binary_logloss: 0.971773 + 0.299887\n",
      "Early stopping, best iteration is:\n",
      "[1]\tcv_agg's valid binary_logloss: 0.971773 + 0.299887\n"
     ]
    },
    {
     "name": "stderr",
     "output_type": "stream",
     "text": [
      "min_child_samples, val_score: 0.605605: 100%|##########| 5/5 [00:00<00:00, 11.81it/s]\n"
     ]
    },
    {
     "name": "stdout",
     "output_type": "stream",
     "text": [
      "{'accuracy': 0.8333333333333334, 'balanced_accuracy': np.float64(0.8116883116883117), 'f1': np.float64(0.7692307692307693), 'precision': np.float64(0.8333333333333334), 'recall': np.float64(0.7142857142857143), 'specificity': np.float64(0.9090909090909091), 'ROC_AUC': np.float64(0.8116883116883117), 'MCC': np.float64(0.6446583712203042)}\n",
      "    accuracy: 0.8333 +- 0.0000\n",
      "    balanced_accuracy: 0.8203 +- 0.0122\n",
      "    f1: 0.7873 +- 0.0256\n",
      "    precision: 0.8148 +- 0.0262\n",
      "    recall: 0.7679 +- 0.0758\n",
      "    specificity: 0.8727 +- 0.0514\n",
      "    ROC_AUC: 0.8203 +- 0.0122\n",
      "    MCC: 0.6534 +- 0.0123\n",
      "\n"
     ]
    }
   ],
   "source": [
    "from lightgbm_utils import lightgbm_fit_binary\n",
    "\n",
    "results_directory = os.path.join(\".\", MAIN_RESULTS_DIR, \"hyperactiv\")\n",
    "\n",
    "for part in [\"full_24h\", \"night\", \"day\"]:\n",
    "    print(f\"PART: {part}\")\n",
    "    \n",
    "    X = datasets[part]\n",
    "    \n",
    "    \n",
    "    for clf_type in [\"GBM\"]: \n",
    "        print(f\"  {clf_type}\")\n",
    "        folds = StratifiedKFold(n_splits=3, shuffle=True, random_state=0)\n",
    "        \n",
    "        test_scores = []\n",
    "        for train_idx, test_idx in folds.split(X, y):\n",
    "            X_train, X_test = X[train_idx], X[test_idx]\n",
    "            y_train, y_test = y[train_idx], y[test_idx]\n",
    "            \n",
    "            X_train, X_test = variance_thresholding(X_train, X_test, threshold=0.05)\n",
    "            X_train, X_test = standardize(X_train, X_test)\n",
    "            if clf_type == \"GBM\":\n",
    "                clf = lightgbm_fit_binary(X_train, y_train)\n",
    "            else:\n",
    "                grid_search = GridSearchCV(\n",
    "                    estimator=classifiers[clf_type], \n",
    "                    param_grid=param_grids[clf_type], \n",
    "                    scoring=\"accuracy\",\n",
    "                    n_jobs=-1,\n",
    "                    refit=True,\n",
    "                    cv=LeaveOneOut()\n",
    "                )\n",
    "                grid_search.fit(X_train, y_train)\n",
    "            \n",
    "                clf = grid_search.best_estimator_\n",
    "            \n",
    "            metrics = calculate_metrics(clf, X_test, y_test)\n",
    "            print(metrics)\n",
    "            test_scores.append(metrics)\n",
    "        \n",
    "        pd.DataFrame.from_records(test_scores).to_csv(os.path.join(results_directory, f\"test_scores_{day_night_format}_{part}_{clf_type}.csv\"), index=list(test_scores[0].keys()))\n",
    "        final_scores = calculate_metrics_statistics(test_scores)\n",
    "        df = pd.DataFrame([(key,) + values for key, values in final_scores.items()],\n",
    "                      columns=['Index', 'Mean', 'Stddev']).set_index('Index')\n",
    "        df.to_csv(os.path.join(results_directory, f\"final_scores_{day_night_format}_{part}_{clf_type}.csv\"), index=list(test_scores[0].keys()))\n",
    "        \n",
    "        for metric, (mean, stddev) in final_scores.items():\n",
    "            print(f\"    {metric}: {mean:.4f} +- {stddev:.4f}\")\n",
    "        print()"
   ]
  },
  {
   "cell_type": "markdown",
   "id": "0459fdc5",
   "metadata": {},
   "source": [
    "## Depresjon classification"
   ]
  },
  {
   "cell_type": "code",
   "execution_count": 17,
   "id": "c8ec87dd",
   "metadata": {
    "ExecuteTime": {
     "end_time": "2025-01-16T22:26:39.367612Z",
     "start_time": "2025-01-16T22:26:39.354566Z"
    }
   },
   "outputs": [],
   "source": [
    "dataset = DEPRESJON_PREFIX\n",
    "y_filename = f\"depresjon_{day_night_format}_y.csv\""
   ]
  },
  {
   "cell_type": "code",
   "execution_count": 18,
   "id": "5df3de23",
   "metadata": {
    "ExecuteTime": {
     "end_time": "2025-01-16T22:26:42.736496Z",
     "start_time": "2025-01-16T22:26:42.707395Z"
    }
   },
   "outputs": [],
   "source": [
    "datasets = {}\n",
    "\n",
    "for part in [\"full_24h\", \"night\", \"day\"]:\n",
    "    filename = f\"{dataset}_{day_night_format}_{part}.csv\"\n",
    "    filepath = os.path.join(PROCESSED_DATA_DIR, filename)\n",
    "    datasets[part] = pd.read_csv(filepath, header=0).values\n",
    "\n",
    "y = pd.read_csv(os.path.join(PROCESSED_DATA_DIR, y_filename), header=None, dtype=int)\n",
    "y = y.values.ravel()"
   ]
  },
  {
   "cell_type": "code",
   "execution_count": 19,
   "id": "29b4f9b7",
   "metadata": {
    "ExecuteTime": {
     "start_time": "2025-01-16T22:27:01.075667Z"
    }
   },
   "outputs": [
    {
     "name": "stdout",
     "output_type": "stream",
     "text": [
      "PART: full_24h\n",
      "  GBM\n"
     ]
    },
    {
     "name": "stderr",
     "output_type": "stream",
     "text": [
      "feature_fraction, val_score: 0.971773:  14%|#4        | 1/7 [00:00<00:00, 15.28it/s]"
     ]
    },
    {
     "name": "stdout",
     "output_type": "stream",
     "text": [
      "Training until validation scores don't improve for 100 rounds\n",
      "[100]\tcv_agg's valid binary_logloss: 0.971773 + 0.299887\n",
      "Early stopping, best iteration is:\n",
      "[1]\tcv_agg's valid binary_logloss: 0.971773 + 0.299887\n",
      "Training until validation scores don't improve for 100 rounds\n"
     ]
    },
    {
     "name": "stderr",
     "output_type": "stream",
     "text": [
      "feature_fraction, val_score: 0.971773:  29%|##8       | 2/7 [00:00<00:00, 16.13it/s]"
     ]
    },
    {
     "name": "stdout",
     "output_type": "stream",
     "text": [
      "[100]\tcv_agg's valid binary_logloss: 0.971773 + 0.299887\n",
      "Early stopping, best iteration is:\n",
      "[1]\tcv_agg's valid binary_logloss: 0.971773 + 0.299887\n",
      "Training until validation scores don't improve for 100 rounds\n"
     ]
    },
    {
     "name": "stderr",
     "output_type": "stream",
     "text": [
      "feature_fraction, val_score: 0.971773:  71%|#######1  | 5/7 [00:00<00:00,  7.84it/s]"
     ]
    },
    {
     "name": "stdout",
     "output_type": "stream",
     "text": [
      "[100]\tcv_agg's valid binary_logloss: 0.971773 + 0.299887\n",
      "Early stopping, best iteration is:\n",
      "[1]\tcv_agg's valid binary_logloss: 0.971773 + 0.299887\n",
      "Training until validation scores don't improve for 100 rounds\n",
      "[100]\tcv_agg's valid binary_logloss: 0.971773 + 0.299887\n",
      "Early stopping, best iteration is:\n",
      "[1]\tcv_agg's valid binary_logloss: 0.971773 + 0.299887\n",
      "Training until validation scores don't improve for 100 rounds\n",
      "[100]\tcv_agg's valid binary_logloss: 0.971773 + 0.299887\n",
      "Early stopping, best iteration is:\n",
      "[1]\tcv_agg's valid binary_logloss: 0.971773 + 0.299887\n",
      "Training until validation scores don't improve for 100 rounds\n"
     ]
    },
    {
     "name": "stderr",
     "output_type": "stream",
     "text": [
      "feature_fraction, val_score: 0.971773: 100%|##########| 7/7 [00:00<00:00, 10.24it/s]\n"
     ]
    },
    {
     "name": "stdout",
     "output_type": "stream",
     "text": [
      "[100]\tcv_agg's valid binary_logloss: 0.971773 + 0.299887\n",
      "Early stopping, best iteration is:\n",
      "[1]\tcv_agg's valid binary_logloss: 0.971773 + 0.299887\n",
      "Training until validation scores don't improve for 100 rounds\n",
      "[100]\tcv_agg's valid binary_logloss: 0.971773 + 0.299887\n",
      "Early stopping, best iteration is:\n",
      "[1]\tcv_agg's valid binary_logloss: 0.971773 + 0.299887\n"
     ]
    },
    {
     "name": "stderr",
     "output_type": "stream",
     "text": [
      "num_leaves, val_score: 0.971773:   5%|5         | 1/20 [00:00<00:01, 14.70it/s]"
     ]
    },
    {
     "name": "stdout",
     "output_type": "stream",
     "text": [
      "Training until validation scores don't improve for 100 rounds\n",
      "[100]\tcv_agg's valid binary_logloss: 0.971773 + 0.299887\n",
      "Early stopping, best iteration is:\n",
      "[1]\tcv_agg's valid binary_logloss: 0.971773 + 0.299887\n",
      "Training until validation scores don't improve for 100 rounds\n",
      "[100]\tcv_agg's valid binary_logloss: 0.971773 + 0.299887\n"
     ]
    },
    {
     "name": "stderr",
     "output_type": "stream",
     "text": [
      "num_leaves, val_score: 0.971773:  15%|#5        | 3/20 [00:00<00:01, 15.23it/s]"
     ]
    },
    {
     "name": "stdout",
     "output_type": "stream",
     "text": [
      "Early stopping, best iteration is:\n",
      "[1]\tcv_agg's valid binary_logloss: 0.971773 + 0.299887\n",
      "Training until validation scores don't improve for 100 rounds\n",
      "[100]\tcv_agg's valid binary_logloss: 0.971773 + 0.299887\n",
      "Early stopping, best iteration is:\n",
      "[1]\tcv_agg's valid binary_logloss: 0.971773 + 0.299887\n"
     ]
    },
    {
     "name": "stderr",
     "output_type": "stream",
     "text": [
      "num_leaves, val_score: 0.971773:  20%|##        | 4/20 [00:00<00:01, 14.91it/s]"
     ]
    },
    {
     "name": "stdout",
     "output_type": "stream",
     "text": [
      "Training until validation scores don't improve for 100 rounds\n",
      "[100]\tcv_agg's valid binary_logloss: 0.971773 + 0.299887\n",
      "Early stopping, best iteration is:\n",
      "[1]\tcv_agg's valid binary_logloss: 0.971773 + 0.299887\n",
      "Training until validation scores don't improve for 100 rounds\n"
     ]
    },
    {
     "name": "stderr",
     "output_type": "stream",
     "text": [
      "num_leaves, val_score: 0.971773:  25%|##5       | 5/20 [00:00<00:01, 14.91it/s]"
     ]
    },
    {
     "name": "stdout",
     "output_type": "stream",
     "text": [
      "[100]\tcv_agg's valid binary_logloss: 0.971773 + 0.299887\n",
      "Early stopping, best iteration is:\n",
      "[1]\tcv_agg's valid binary_logloss: 0.971773 + 0.299887\n",
      "Training until validation scores don't improve for 100 rounds\n"
     ]
    },
    {
     "name": "stderr",
     "output_type": "stream",
     "text": [
      "num_leaves, val_score: 0.971773:  35%|###5      | 7/20 [00:00<00:00, 14.23it/s]"
     ]
    },
    {
     "name": "stdout",
     "output_type": "stream",
     "text": [
      "[100]\tcv_agg's valid binary_logloss: 0.971773 + 0.299887\n",
      "Early stopping, best iteration is:\n",
      "[1]\tcv_agg's valid binary_logloss: 0.971773 + 0.299887\n",
      "Training until validation scores don't improve for 100 rounds\n",
      "[100]\tcv_agg's valid binary_logloss: 0.971773 + 0.299887\n",
      "Early stopping, best iteration is:\n",
      "[1]\tcv_agg's valid binary_logloss: 0.971773 + 0.299887\n",
      "Training until validation scores don't improve for 100 rounds\n",
      "[100]\tcv_agg's valid binary_logloss: 0.971773 + 0.299887\n",
      "Early stopping, best iteration is:\n",
      "[1]\tcv_agg's valid binary_logloss: 0.971773 + 0.299887\n"
     ]
    },
    {
     "name": "stderr",
     "output_type": "stream",
     "text": [
      "num_leaves, val_score: 0.971773:  40%|####      | 8/20 [00:00<00:00, 14.30it/s]"
     ]
    },
    {
     "name": "stdout",
     "output_type": "stream",
     "text": [
      "Training until validation scores don't improve for 100 rounds\n"
     ]
    },
    {
     "name": "stderr",
     "output_type": "stream",
     "text": [
      "num_leaves, val_score: 0.971773:  50%|#####     | 10/20 [00:00<00:00, 14.84it/s]"
     ]
    },
    {
     "name": "stdout",
     "output_type": "stream",
     "text": [
      "[100]\tcv_agg's valid binary_logloss: 0.971773 + 0.299887\n",
      "Early stopping, best iteration is:\n",
      "[1]\tcv_agg's valid binary_logloss: 0.971773 + 0.299887\n",
      "Training until validation scores don't improve for 100 rounds\n",
      "[100]\tcv_agg's valid binary_logloss: 0.971773 + 0.299887\n",
      "Early stopping, best iteration is:\n",
      "[1]\tcv_agg's valid binary_logloss: 0.971773 + 0.299887\n",
      "Training until validation scores don't improve for 100 rounds\n"
     ]
    },
    {
     "name": "stderr",
     "output_type": "stream",
     "text": [
      "num_leaves, val_score: 0.971773:  65%|######5   | 13/20 [00:01<00:00,  9.55it/s]"
     ]
    },
    {
     "name": "stdout",
     "output_type": "stream",
     "text": [
      "[100]\tcv_agg's valid binary_logloss: 0.971773 + 0.299887\n",
      "Early stopping, best iteration is:\n",
      "[1]\tcv_agg's valid binary_logloss: 0.971773 + 0.299887\n",
      "Training until validation scores don't improve for 100 rounds\n",
      "[100]\tcv_agg's valid binary_logloss: 0.971773 + 0.299887\n",
      "Early stopping, best iteration is:\n",
      "[1]\tcv_agg's valid binary_logloss: 0.971773 + 0.299887\n",
      "Training until validation scores don't improve for 100 rounds\n",
      "[100]\tcv_agg's valid binary_logloss: 0.971773 + 0.299887\n",
      "Early stopping, best iteration is:\n",
      "[1]\tcv_agg's valid binary_logloss: 0.971773 + 0.299887\n",
      "Training until validation scores don't improve for 100 rounds\n",
      "[100]\tcv_agg's valid binary_logloss: 0.971773 + 0.299887\n",
      "Early stopping, best iteration is:\n",
      "[1]\tcv_agg's valid binary_logloss: 0.971773 + 0.299887\n"
     ]
    },
    {
     "name": "stderr",
     "output_type": "stream",
     "text": [
      "num_leaves, val_score: 0.971773:  80%|########  | 16/20 [00:01<00:00, 11.68it/s]"
     ]
    },
    {
     "name": "stdout",
     "output_type": "stream",
     "text": [
      "Training until validation scores don't improve for 100 rounds\n",
      "[100]\tcv_agg's valid binary_logloss: 0.971773 + 0.299887\n",
      "Early stopping, best iteration is:\n",
      "[1]\tcv_agg's valid binary_logloss: 0.971773 + 0.299887\n",
      "Training until validation scores don't improve for 100 rounds\n",
      "[100]\tcv_agg's valid binary_logloss: 0.971773 + 0.299887\n",
      "Early stopping, best iteration is:\n",
      "[1]\tcv_agg's valid binary_logloss: 0.971773 + 0.299887\n",
      "Training until validation scores don't improve for 100 rounds\n",
      "[100]\tcv_agg's valid binary_logloss: 0.971773 + 0.299887\n",
      "Early stopping, best iteration is:\n",
      "[1]\tcv_agg's valid binary_logloss: 0.971773 + 0.299887\n"
     ]
    },
    {
     "name": "stderr",
     "output_type": "stream",
     "text": [
      "num_leaves, val_score: 0.971773: 100%|##########| 20/20 [00:01<00:00, 12.60it/s]\n"
     ]
    },
    {
     "name": "stdout",
     "output_type": "stream",
     "text": [
      "Training until validation scores don't improve for 100 rounds\n",
      "[100]\tcv_agg's valid binary_logloss: 0.971773 + 0.299887\n",
      "Early stopping, best iteration is:\n",
      "[1]\tcv_agg's valid binary_logloss: 0.971773 + 0.299887\n",
      "Training until validation scores don't improve for 100 rounds\n",
      "[100]\tcv_agg's valid binary_logloss: 0.971773 + 0.299887\n",
      "Early stopping, best iteration is:\n",
      "[1]\tcv_agg's valid binary_logloss: 0.971773 + 0.299887\n",
      "Training until validation scores don't improve for 100 rounds\n",
      "[100]\tcv_agg's valid binary_logloss: 0.971773 + 0.299887\n",
      "Early stopping, best iteration is:\n",
      "[1]\tcv_agg's valid binary_logloss: 0.971773 + 0.299887\n"
     ]
    },
    {
     "name": "stderr",
     "output_type": "stream",
     "text": [
      "bagging, val_score: 0.971773:  20%|##        | 2/10 [00:00<00:00, 12.24it/s]"
     ]
    },
    {
     "name": "stdout",
     "output_type": "stream",
     "text": [
      "Training until validation scores don't improve for 100 rounds\n",
      "[100]\tcv_agg's valid binary_logloss: 0.971773 + 0.299887\n",
      "Early stopping, best iteration is:\n",
      "[1]\tcv_agg's valid binary_logloss: 0.971773 + 0.299887\n",
      "Training until validation scores don't improve for 100 rounds\n",
      "[100]\tcv_agg's valid binary_logloss: 0.971773 + 0.299887\n",
      "Early stopping, best iteration is:\n",
      "[1]\tcv_agg's valid binary_logloss: 0.971773 + 0.299887\n",
      "Training until validation scores don't improve for 100 rounds\n"
     ]
    },
    {
     "name": "stderr",
     "output_type": "stream",
     "text": [
      "bagging, val_score: 0.971773:  40%|####      | 4/10 [00:00<00:00, 11.80it/s]"
     ]
    },
    {
     "name": "stdout",
     "output_type": "stream",
     "text": [
      "[100]\tcv_agg's valid binary_logloss: 0.971773 + 0.299887\n",
      "Early stopping, best iteration is:\n",
      "[1]\tcv_agg's valid binary_logloss: 0.971773 + 0.299887\n",
      "Training until validation scores don't improve for 100 rounds\n",
      "[100]\tcv_agg's valid binary_logloss: 0.971773 + 0.299887\n",
      "Early stopping, best iteration is:\n",
      "[1]\tcv_agg's valid binary_logloss: 0.971773 + 0.299887\n",
      "Training until validation scores don't improve for 100 rounds\n",
      "[100]\tcv_agg's valid binary_logloss: 0.971773 + 0.299887\n",
      "Early stopping, best iteration is:\n",
      "[1]\tcv_agg's valid binary_logloss: 0.971773 + 0.299887\n"
     ]
    },
    {
     "name": "stderr",
     "output_type": "stream",
     "text": [
      "bagging, val_score: 0.971773:  70%|#######   | 7/10 [00:00<00:00, 10.69it/s]"
     ]
    },
    {
     "name": "stdout",
     "output_type": "stream",
     "text": [
      "Training until validation scores don't improve for 100 rounds\n",
      "[100]\tcv_agg's valid binary_logloss: 0.971773 + 0.299887\n",
      "Early stopping, best iteration is:\n",
      "[1]\tcv_agg's valid binary_logloss: 0.971773 + 0.299887\n",
      "Training until validation scores don't improve for 100 rounds\n",
      "[100]\tcv_agg's valid binary_logloss: 0.971773 + 0.299887\n",
      "Early stopping, best iteration is:\n",
      "[1]\tcv_agg's valid binary_logloss: 0.971773 + 0.299887\n"
     ]
    },
    {
     "name": "stderr",
     "output_type": "stream",
     "text": [
      "bagging, val_score: 0.971773:  90%|######### | 9/10 [00:00<00:00, 10.46it/s]"
     ]
    },
    {
     "name": "stdout",
     "output_type": "stream",
     "text": [
      "Training until validation scores don't improve for 100 rounds\n",
      "[100]\tcv_agg's valid binary_logloss: 0.971773 + 0.299887\n",
      "Early stopping, best iteration is:\n",
      "[1]\tcv_agg's valid binary_logloss: 0.971773 + 0.299887\n",
      "Training until validation scores don't improve for 100 rounds\n",
      "[100]\tcv_agg's valid binary_logloss: 0.971773 + 0.299887\n",
      "Early stopping, best iteration is:\n",
      "[1]\tcv_agg's valid binary_logloss: 0.971773 + 0.299887\n",
      "Training until validation scores don't improve for 100 rounds\n"
     ]
    },
    {
     "name": "stderr",
     "output_type": "stream",
     "text": [
      "bagging, val_score: 0.971773: 100%|##########| 10/10 [00:00<00:00, 10.83it/s]\n"
     ]
    },
    {
     "name": "stdout",
     "output_type": "stream",
     "text": [
      "[100]\tcv_agg's valid binary_logloss: 0.971773 + 0.299887\n",
      "Early stopping, best iteration is:\n",
      "[1]\tcv_agg's valid binary_logloss: 0.971773 + 0.299887\n"
     ]
    },
    {
     "name": "stderr",
     "output_type": "stream",
     "text": [
      "feature_fraction_stage2, val_score: 0.971773:  67%|######6   | 2/3 [00:00<00:00, 17.38it/s]"
     ]
    },
    {
     "name": "stdout",
     "output_type": "stream",
     "text": [
      "Training until validation scores don't improve for 100 rounds\n",
      "[100]\tcv_agg's valid binary_logloss: 0.971773 + 0.299887\n",
      "Early stopping, best iteration is:\n",
      "[1]\tcv_agg's valid binary_logloss: 0.971773 + 0.299887\n",
      "Training until validation scores don't improve for 100 rounds\n",
      "[100]\tcv_agg's valid binary_logloss: 0.971773 + 0.299887\n",
      "Early stopping, best iteration is:\n",
      "[1]\tcv_agg's valid binary_logloss: 0.971773 + 0.299887\n",
      "Training until validation scores don't improve for 100 rounds\n",
      "[100]\tcv_agg's valid binary_logloss: 0.971773 + 0.299887\n",
      "Early stopping, best iteration is:\n",
      "[1]\tcv_agg's valid binary_logloss: 0.971773 + 0.299887\n"
     ]
    },
    {
     "name": "stderr",
     "output_type": "stream",
     "text": [
      "feature_fraction_stage2, val_score: 0.971773: 100%|##########| 3/3 [00:00<00:00, 17.69it/s]\n",
      "regularization_factors, val_score: 0.971773:  10%|#         | 2/20 [00:00<00:01, 13.95it/s]"
     ]
    },
    {
     "name": "stdout",
     "output_type": "stream",
     "text": [
      "Training until validation scores don't improve for 100 rounds\n",
      "[100]\tcv_agg's valid binary_logloss: 0.971773 + 0.299887\n",
      "Early stopping, best iteration is:\n",
      "[1]\tcv_agg's valid binary_logloss: 0.971773 + 0.299887\n",
      "Training until validation scores don't improve for 100 rounds\n",
      "[100]\tcv_agg's valid binary_logloss: 0.971773 + 0.299887\n",
      "Early stopping, best iteration is:\n",
      "[1]\tcv_agg's valid binary_logloss: 0.971773 + 0.299887\n",
      "Training until validation scores don't improve for 100 rounds\n",
      "[100]\tcv_agg's valid binary_logloss: 0.971773 + 0.299887\n",
      "Early stopping, best iteration is:\n",
      "[1]\tcv_agg's valid binary_logloss: 0.971773 + 0.299887\n"
     ]
    },
    {
     "name": "stderr",
     "output_type": "stream",
     "text": [
      "regularization_factors, val_score: 0.971773:  25%|##5       | 5/20 [00:00<00:01, 14.37it/s]"
     ]
    },
    {
     "name": "stdout",
     "output_type": "stream",
     "text": [
      "Training until validation scores don't improve for 100 rounds\n",
      "[100]\tcv_agg's valid binary_logloss: 0.971773 + 0.299887\n",
      "Early stopping, best iteration is:\n",
      "[1]\tcv_agg's valid binary_logloss: 0.971773 + 0.299887\n",
      "Training until validation scores don't improve for 100 rounds\n",
      "[100]\tcv_agg's valid binary_logloss: 0.971773 + 0.299887\n",
      "Early stopping, best iteration is:\n",
      "[1]\tcv_agg's valid binary_logloss: 0.971773 + 0.299887\n",
      "Training until validation scores don't improve for 100 rounds\n",
      "[100]\tcv_agg's valid binary_logloss: 0.971773 + 0.299887\n",
      "Early stopping, best iteration is:\n",
      "[1]\tcv_agg's valid binary_logloss: 0.971773 + 0.299887\n"
     ]
    },
    {
     "name": "stderr",
     "output_type": "stream",
     "text": [
      "regularization_factors, val_score: 0.971773:  40%|####      | 8/20 [00:00<00:00, 14.13it/s]"
     ]
    },
    {
     "name": "stdout",
     "output_type": "stream",
     "text": [
      "Training until validation scores don't improve for 100 rounds\n",
      "[100]\tcv_agg's valid binary_logloss: 0.971773 + 0.299887\n",
      "Early stopping, best iteration is:\n",
      "[1]\tcv_agg's valid binary_logloss: 0.971773 + 0.299887\n",
      "Training until validation scores don't improve for 100 rounds\n",
      "[100]\tcv_agg's valid binary_logloss: 0.971773 + 0.299887\n",
      "Early stopping, best iteration is:\n",
      "[1]\tcv_agg's valid binary_logloss: 0.971773 + 0.299887\n",
      "Training until validation scores don't improve for 100 rounds\n"
     ]
    },
    {
     "name": "stderr",
     "output_type": "stream",
     "text": [
      "regularization_factors, val_score: 0.971773:  55%|#####5    | 11/20 [00:00<00:00, 13.51it/s]"
     ]
    },
    {
     "name": "stdout",
     "output_type": "stream",
     "text": [
      "[100]\tcv_agg's valid binary_logloss: 0.971773 + 0.299887\n",
      "Early stopping, best iteration is:\n",
      "[1]\tcv_agg's valid binary_logloss: 0.971773 + 0.299887\n",
      "Training until validation scores don't improve for 100 rounds\n",
      "[100]\tcv_agg's valid binary_logloss: 0.971773 + 0.299887\n",
      "Early stopping, best iteration is:\n",
      "[1]\tcv_agg's valid binary_logloss: 0.971773 + 0.299887\n",
      "Training until validation scores don't improve for 100 rounds\n",
      "[100]\tcv_agg's valid binary_logloss: 0.971773 + 0.299887\n",
      "Early stopping, best iteration is:\n",
      "[1]\tcv_agg's valid binary_logloss: 0.971773 + 0.299887\n",
      "Training until validation scores don't improve for 100 rounds\n"
     ]
    },
    {
     "name": "stderr",
     "output_type": "stream",
     "text": [
      "regularization_factors, val_score: 0.971773:  70%|#######   | 14/20 [00:01<00:00, 13.82it/s]"
     ]
    },
    {
     "name": "stdout",
     "output_type": "stream",
     "text": [
      "[100]\tcv_agg's valid binary_logloss: 0.971773 + 0.299887\n",
      "Early stopping, best iteration is:\n",
      "[1]\tcv_agg's valid binary_logloss: 0.971773 + 0.299887\n",
      "Training until validation scores don't improve for 100 rounds\n",
      "[100]\tcv_agg's valid binary_logloss: 0.971773 + 0.299887\n",
      "Early stopping, best iteration is:\n",
      "[1]\tcv_agg's valid binary_logloss: 0.971773 + 0.299887\n",
      "Training until validation scores don't improve for 100 rounds\n",
      "[100]\tcv_agg's valid binary_logloss: 0.971773 + 0.299887\n",
      "Early stopping, best iteration is:\n",
      "[1]\tcv_agg's valid binary_logloss: 0.971773 + 0.299887\n",
      "Training until validation scores don't improve for 100 rounds\n"
     ]
    },
    {
     "name": "stderr",
     "output_type": "stream",
     "text": [
      "regularization_factors, val_score: 0.971773:  85%|########5 | 17/20 [00:01<00:00, 13.61it/s]"
     ]
    },
    {
     "name": "stdout",
     "output_type": "stream",
     "text": [
      "[100]\tcv_agg's valid binary_logloss: 0.971773 + 0.299887\n",
      "Early stopping, best iteration is:\n",
      "[1]\tcv_agg's valid binary_logloss: 0.971773 + 0.299887\n",
      "Training until validation scores don't improve for 100 rounds\n",
      "[100]\tcv_agg's valid binary_logloss: 0.971773 + 0.299887\n",
      "Early stopping, best iteration is:\n",
      "[1]\tcv_agg's valid binary_logloss: 0.971773 + 0.299887\n",
      "Training until validation scores don't improve for 100 rounds\n",
      "[100]\tcv_agg's valid binary_logloss: 0.971773 + 0.299887\n",
      "Early stopping, best iteration is:\n",
      "[1]\tcv_agg's valid binary_logloss: 0.971773 + 0.299887\n",
      "Training until validation scores don't improve for 100 rounds\n"
     ]
    },
    {
     "name": "stderr",
     "output_type": "stream",
     "text": [
      "regularization_factors, val_score: 0.971773: 100%|##########| 20/20 [00:01<00:00, 13.88it/s]\n"
     ]
    },
    {
     "name": "stdout",
     "output_type": "stream",
     "text": [
      "[100]\tcv_agg's valid binary_logloss: 0.971773 + 0.299887\n",
      "Early stopping, best iteration is:\n",
      "[1]\tcv_agg's valid binary_logloss: 0.971773 + 0.299887\n",
      "Training until validation scores don't improve for 100 rounds\n",
      "[100]\tcv_agg's valid binary_logloss: 0.971773 + 0.299887\n",
      "Early stopping, best iteration is:\n",
      "[1]\tcv_agg's valid binary_logloss: 0.971773 + 0.299887\n",
      "Training until validation scores don't improve for 100 rounds\n",
      "[100]\tcv_agg's valid binary_logloss: 0.971773 + 0.299887\n",
      "Early stopping, best iteration is:\n",
      "[1]\tcv_agg's valid binary_logloss: 0.971773 + 0.299887\n"
     ]
    },
    {
     "name": "stderr",
     "output_type": "stream",
     "text": [
      "min_child_samples, val_score: 0.971773:   0%|          | 0/5 [00:00<?, ?it/s]"
     ]
    },
    {
     "name": "stdout",
     "output_type": "stream",
     "text": [
      "Training until validation scores don't improve for 100 rounds\n"
     ]
    },
    {
     "name": "stderr",
     "output_type": "stream",
     "text": [
      "min_child_samples, val_score: 0.971773:  40%|####      | 2/5 [00:00<00:00, 16.95it/s]"
     ]
    },
    {
     "name": "stdout",
     "output_type": "stream",
     "text": [
      "[100]\tcv_agg's valid binary_logloss: 0.971773 + 0.299887\n",
      "Early stopping, best iteration is:\n",
      "[1]\tcv_agg's valid binary_logloss: 0.971773 + 0.299887\n",
      "Training until validation scores don't improve for 100 rounds\n",
      "[100]\tcv_agg's valid binary_logloss: 0.971773 + 0.299887\n",
      "Early stopping, best iteration is:\n",
      "[1]\tcv_agg's valid binary_logloss: 0.971773 + 0.299887\n",
      "Training until validation scores don't improve for 100 rounds\n"
     ]
    },
    {
     "name": "stderr",
     "output_type": "stream",
     "text": [
      "min_child_samples, val_score: 0.971773:  80%|########  | 4/5 [00:00<00:00, 10.36it/s]"
     ]
    },
    {
     "name": "stdout",
     "output_type": "stream",
     "text": [
      "[100]\tcv_agg's valid binary_logloss: 2.10282 + 1.17394\n",
      "Early stopping, best iteration is:\n",
      "[1]\tcv_agg's valid binary_logloss: 0.974988 + 0.290621\n",
      "Training until validation scores don't improve for 100 rounds\n",
      "[100]\tcv_agg's valid binary_logloss: 1.22386 + 0.416623\n",
      "Early stopping, best iteration is:\n",
      "[1]\tcv_agg's valid binary_logloss: 0.993204 + 0.3\n",
      "Training until validation scores don't improve for 100 rounds\n",
      "[100]\tcv_agg's valid binary_logloss: 0.971773 + 0.299887\n",
      "Early stopping, best iteration is:\n",
      "[1]\tcv_agg's valid binary_logloss: 0.971773 + 0.299887\n"
     ]
    },
    {
     "name": "stderr",
     "output_type": "stream",
     "text": [
      "min_child_samples, val_score: 0.971773: 100%|##########| 5/5 [00:00<00:00, 10.74it/s]\n"
     ]
    },
    {
     "name": "stdout",
     "output_type": "stream",
     "text": [
      "{'accuracy': 0.5789473684210527, 'balanced_accuracy': np.float64(0.5), 'f1': np.float64(0.0), 'precision': np.float64(1.0), 'recall': np.float64(0.0), 'specificity': np.float64(1.0), 'ROC_AUC': np.float64(0.5), 'MCC': np.float64(0.0)}\n"
     ]
    },
    {
     "name": "stderr",
     "output_type": "stream",
     "text": [
      "feature_fraction, val_score: 0.933609:  29%|##8       | 2/7 [00:00<00:00, 15.68it/s]"
     ]
    },
    {
     "name": "stdout",
     "output_type": "stream",
     "text": [
      "Training until validation scores don't improve for 100 rounds\n",
      "[100]\tcv_agg's valid binary_logloss: 0.933609 + 0.305275\n",
      "Early stopping, best iteration is:\n",
      "[1]\tcv_agg's valid binary_logloss: 0.933609 + 0.305275\n",
      "Training until validation scores don't improve for 100 rounds\n",
      "[100]\tcv_agg's valid binary_logloss: 0.933609 + 0.305275\n",
      "Early stopping, best iteration is:\n",
      "[1]\tcv_agg's valid binary_logloss: 0.933609 + 0.305275\n",
      "Training until validation scores don't improve for 100 rounds\n",
      "[100]\tcv_agg's valid binary_logloss: 0.933609 + 0.305275\n",
      "Early stopping, best iteration is:\n",
      "[1]\tcv_agg's valid binary_logloss: 0.933609 + 0.305275\n"
     ]
    },
    {
     "name": "stderr",
     "output_type": "stream",
     "text": [
      "feature_fraction, val_score: 0.933609:  71%|#######1  | 5/7 [00:00<00:00, 14.38it/s]"
     ]
    },
    {
     "name": "stdout",
     "output_type": "stream",
     "text": [
      "Training until validation scores don't improve for 100 rounds\n",
      "[100]\tcv_agg's valid binary_logloss: 0.933609 + 0.305275\n",
      "Early stopping, best iteration is:\n",
      "[1]\tcv_agg's valid binary_logloss: 0.933609 + 0.305275\n",
      "Training until validation scores don't improve for 100 rounds\n",
      "[100]\tcv_agg's valid binary_logloss: 0.933609 + 0.305275\n",
      "Early stopping, best iteration is:\n",
      "[1]\tcv_agg's valid binary_logloss: 0.933609 + 0.305275\n",
      "Training until validation scores don't improve for 100 rounds\n"
     ]
    },
    {
     "name": "stderr",
     "output_type": "stream",
     "text": [
      "feature_fraction, val_score: 0.933609: 100%|##########| 7/7 [00:00<00:00, 14.40it/s]\n"
     ]
    },
    {
     "name": "stdout",
     "output_type": "stream",
     "text": [
      "[100]\tcv_agg's valid binary_logloss: 0.933609 + 0.305275\n",
      "Early stopping, best iteration is:\n",
      "[1]\tcv_agg's valid binary_logloss: 0.933609 + 0.305275\n",
      "Training until validation scores don't improve for 100 rounds\n",
      "[100]\tcv_agg's valid binary_logloss: 0.933609 + 0.305275\n",
      "Early stopping, best iteration is:\n",
      "[1]\tcv_agg's valid binary_logloss: 0.933609 + 0.305275\n"
     ]
    },
    {
     "name": "stderr",
     "output_type": "stream",
     "text": [
      "num_leaves, val_score: 0.933609:   0%|          | 0/20 [00:00<?, ?it/s]"
     ]
    },
    {
     "name": "stdout",
     "output_type": "stream",
     "text": [
      "Training until validation scores don't improve for 100 rounds\n",
      "[100]\tcv_agg's valid binary_logloss: 0.933609 + 0.305275\n",
      "Early stopping, best iteration is:\n",
      "[1]\tcv_agg's valid binary_logloss: 0.933609 + 0.305275\n"
     ]
    },
    {
     "name": "stderr",
     "output_type": "stream",
     "text": [
      "num_leaves, val_score: 0.933609:  10%|#         | 2/20 [00:00<00:01, 12.75it/s]"
     ]
    },
    {
     "name": "stdout",
     "output_type": "stream",
     "text": [
      "Training until validation scores don't improve for 100 rounds\n",
      "[100]\tcv_agg's valid binary_logloss: 0.933609 + 0.305275\n",
      "Early stopping, best iteration is:\n",
      "[1]\tcv_agg's valid binary_logloss: 0.933609 + 0.305275\n",
      "Training until validation scores don't improve for 100 rounds\n"
     ]
    },
    {
     "name": "stderr",
     "output_type": "stream",
     "text": [
      "num_leaves, val_score: 0.933609:  15%|#5        | 3/20 [00:00<00:01, 12.75it/s]"
     ]
    },
    {
     "name": "stdout",
     "output_type": "stream",
     "text": [
      "[100]\tcv_agg's valid binary_logloss: 0.933609 + 0.305275\n",
      "Early stopping, best iteration is:\n",
      "[1]\tcv_agg's valid binary_logloss: 0.933609 + 0.305275\n",
      "Training until validation scores don't improve for 100 rounds\n",
      "[100]\tcv_agg's valid binary_logloss: 0.933609 + 0.305275\n",
      "Early stopping, best iteration is:\n",
      "[1]\tcv_agg's valid binary_logloss: 0.933609 + 0.305275\n"
     ]
    },
    {
     "name": "stderr",
     "output_type": "stream",
     "text": [
      "num_leaves, val_score: 0.933609:  20%|##        | 4/20 [00:00<00:01, 12.98it/s]"
     ]
    },
    {
     "name": "stdout",
     "output_type": "stream",
     "text": [
      "Training until validation scores don't improve for 100 rounds\n",
      "[100]\tcv_agg's valid binary_logloss: 0.933609 + 0.305275\n",
      "Early stopping, best iteration is:\n",
      "[1]\tcv_agg's valid binary_logloss: 0.933609 + 0.305275\n"
     ]
    },
    {
     "name": "stderr",
     "output_type": "stream",
     "text": [
      "num_leaves, val_score: 0.933609:  30%|###       | 6/20 [00:00<00:01, 11.88it/s]"
     ]
    },
    {
     "name": "stdout",
     "output_type": "stream",
     "text": [
      "Training until validation scores don't improve for 100 rounds\n",
      "[100]\tcv_agg's valid binary_logloss: 0.933609 + 0.305275\n",
      "Early stopping, best iteration is:\n",
      "[1]\tcv_agg's valid binary_logloss: 0.933609 + 0.305275\n",
      "Training until validation scores don't improve for 100 rounds\n"
     ]
    },
    {
     "name": "stderr",
     "output_type": "stream",
     "text": [
      "num_leaves, val_score: 0.933609:  35%|###5      | 7/20 [00:00<00:01, 11.88it/s]"
     ]
    },
    {
     "name": "stdout",
     "output_type": "stream",
     "text": [
      "[100]\tcv_agg's valid binary_logloss: 0.933609 + 0.305275\n",
      "Early stopping, best iteration is:\n",
      "[1]\tcv_agg's valid binary_logloss: 0.933609 + 0.305275\n",
      "Training until validation scores don't improve for 100 rounds\n"
     ]
    },
    {
     "name": "stderr",
     "output_type": "stream",
     "text": [
      "num_leaves, val_score: 0.933609:  40%|####      | 8/20 [00:00<00:01, 11.79it/s]"
     ]
    },
    {
     "name": "stdout",
     "output_type": "stream",
     "text": [
      "[100]\tcv_agg's valid binary_logloss: 0.933609 + 0.305275\n",
      "Early stopping, best iteration is:\n",
      "[1]\tcv_agg's valid binary_logloss: 0.933609 + 0.305275\n",
      "Training until validation scores don't improve for 100 rounds\n"
     ]
    },
    {
     "name": "stderr",
     "output_type": "stream",
     "text": [
      "num_leaves, val_score: 0.933609:  50%|#####     | 10/20 [00:00<00:00, 11.76it/s]"
     ]
    },
    {
     "name": "stdout",
     "output_type": "stream",
     "text": [
      "[100]\tcv_agg's valid binary_logloss: 0.933609 + 0.305275\n",
      "Early stopping, best iteration is:\n",
      "[1]\tcv_agg's valid binary_logloss: 0.933609 + 0.305275\n",
      "Training until validation scores don't improve for 100 rounds\n",
      "[100]\tcv_agg's valid binary_logloss: 0.933609 + 0.305275\n",
      "Early stopping, best iteration is:\n",
      "[1]\tcv_agg's valid binary_logloss: 0.933609 + 0.305275\n"
     ]
    },
    {
     "name": "stderr",
     "output_type": "stream",
     "text": [
      "num_leaves, val_score: 0.933609:  55%|#####5    | 11/20 [00:00<00:00, 11.76it/s]"
     ]
    },
    {
     "name": "stdout",
     "output_type": "stream",
     "text": [
      "Training until validation scores don't improve for 100 rounds\n",
      "[100]\tcv_agg's valid binary_logloss: 0.933609 + 0.305275\n",
      "Early stopping, best iteration is:\n",
      "[1]\tcv_agg's valid binary_logloss: 0.933609 + 0.305275\n",
      "Training until validation scores don't improve for 100 rounds\n"
     ]
    },
    {
     "name": "stderr",
     "output_type": "stream",
     "text": [
      "num_leaves, val_score: 0.933609:  60%|######    | 12/20 [00:00<00:00, 12.34it/s]"
     ]
    },
    {
     "name": "stdout",
     "output_type": "stream",
     "text": [
      "[100]\tcv_agg's valid binary_logloss: 0.933609 + 0.305275\n",
      "Early stopping, best iteration is:\n",
      "[1]\tcv_agg's valid binary_logloss: 0.933609 + 0.305275\n",
      "Training until validation scores don't improve for 100 rounds\n"
     ]
    },
    {
     "name": "stderr",
     "output_type": "stream",
     "text": [
      "num_leaves, val_score: 0.933609:  65%|######5   | 13/20 [00:01<00:00, 12.34it/s]"
     ]
    },
    {
     "name": "stdout",
     "output_type": "stream",
     "text": [
      "[100]\tcv_agg's valid binary_logloss: 0.933609 + 0.305275\n",
      "Early stopping, best iteration is:\n",
      "[1]\tcv_agg's valid binary_logloss: 0.933609 + 0.305275\n",
      "Training until validation scores don't improve for 100 rounds\n",
      "[100]\tcv_agg's valid binary_logloss: 0.933609 + 0.305275\n",
      "Early stopping, best iteration is:\n",
      "[1]\tcv_agg's valid binary_logloss: 0.933609 + 0.305275\n"
     ]
    },
    {
     "name": "stderr",
     "output_type": "stream",
     "text": [
      "num_leaves, val_score: 0.933609:  70%|#######   | 14/20 [00:01<00:00, 11.55it/s]"
     ]
    },
    {
     "name": "stdout",
     "output_type": "stream",
     "text": [
      "Training until validation scores don't improve for 100 rounds\n",
      "[100]\tcv_agg's valid binary_logloss: 0.933609 + 0.305275\n",
      "Early stopping, best iteration is:\n",
      "[1]\tcv_agg's valid binary_logloss: 0.933609 + 0.305275\n"
     ]
    },
    {
     "name": "stderr",
     "output_type": "stream",
     "text": [
      "num_leaves, val_score: 0.933609:  80%|########  | 16/20 [00:01<00:00, 11.24it/s]"
     ]
    },
    {
     "name": "stdout",
     "output_type": "stream",
     "text": [
      "Training until validation scores don't improve for 100 rounds\n",
      "[100]\tcv_agg's valid binary_logloss: 0.933609 + 0.305275\n",
      "Early stopping, best iteration is:\n",
      "[1]\tcv_agg's valid binary_logloss: 0.933609 + 0.305275\n",
      "Training until validation scores don't improve for 100 rounds\n"
     ]
    },
    {
     "name": "stderr",
     "output_type": "stream",
     "text": [
      "num_leaves, val_score: 0.933609:  85%|########5 | 17/20 [00:01<00:00, 11.24it/s]"
     ]
    },
    {
     "name": "stdout",
     "output_type": "stream",
     "text": [
      "[100]\tcv_agg's valid binary_logloss: 0.933609 + 0.305275\n",
      "Early stopping, best iteration is:\n",
      "[1]\tcv_agg's valid binary_logloss: 0.933609 + 0.305275\n",
      "Training until validation scores don't improve for 100 rounds\n"
     ]
    },
    {
     "name": "stderr",
     "output_type": "stream",
     "text": [
      "num_leaves, val_score: 0.933609:  90%|######### | 18/20 [00:01<00:00, 11.21it/s]"
     ]
    },
    {
     "name": "stdout",
     "output_type": "stream",
     "text": [
      "[100]\tcv_agg's valid binary_logloss: 0.933609 + 0.305275\n",
      "Early stopping, best iteration is:\n",
      "[1]\tcv_agg's valid binary_logloss: 0.933609 + 0.305275\n",
      "Training until validation scores don't improve for 100 rounds\n",
      "[100]\tcv_agg's valid binary_logloss: 0.933609 + 0.305275\n",
      "Early stopping, best iteration is:\n",
      "[1]\tcv_agg's valid binary_logloss: 0.933609 + 0.305275\n"
     ]
    },
    {
     "name": "stderr",
     "output_type": "stream",
     "text": [
      "num_leaves, val_score: 0.933609:  95%|#########5| 19/20 [00:01<00:00, 11.21it/s]"
     ]
    },
    {
     "name": "stdout",
     "output_type": "stream",
     "text": [
      "Training until validation scores don't improve for 100 rounds\n",
      "[100]\tcv_agg's valid binary_logloss: 0.933609 + 0.305275\n",
      "Early stopping, best iteration is:\n",
      "[1]\tcv_agg's valid binary_logloss: 0.933609 + 0.305275\n"
     ]
    },
    {
     "name": "stderr",
     "output_type": "stream",
     "text": [
      "num_leaves, val_score: 0.933609: 100%|##########| 20/20 [00:01<00:00, 11.54it/s]\n",
      "bagging, val_score: 0.933609:  10%|#         | 1/10 [00:00<00:00, 12.38it/s]"
     ]
    },
    {
     "name": "stdout",
     "output_type": "stream",
     "text": [
      "Training until validation scores don't improve for 100 rounds\n",
      "[100]\tcv_agg's valid binary_logloss: 0.933609 + 0.305275\n",
      "Early stopping, best iteration is:\n",
      "[1]\tcv_agg's valid binary_logloss: 0.933609 + 0.305275\n",
      "Training until validation scores don't improve for 100 rounds\n"
     ]
    },
    {
     "name": "stderr",
     "output_type": "stream",
     "text": [
      "bagging, val_score: 0.933609:  20%|##        | 2/10 [00:00<00:00, 11.37it/s]"
     ]
    },
    {
     "name": "stdout",
     "output_type": "stream",
     "text": [
      "[100]\tcv_agg's valid binary_logloss: 0.933609 + 0.305275\n",
      "Early stopping, best iteration is:\n",
      "[1]\tcv_agg's valid binary_logloss: 0.933609 + 0.305275\n",
      "Training until validation scores don't improve for 100 rounds\n"
     ]
    },
    {
     "name": "stderr",
     "output_type": "stream",
     "text": [
      "bagging, val_score: 0.933609:  30%|###       | 3/10 [00:00<00:00, 11.37it/s]"
     ]
    },
    {
     "name": "stdout",
     "output_type": "stream",
     "text": [
      "[100]\tcv_agg's valid binary_logloss: 0.933609 + 0.305275\n",
      "Early stopping, best iteration is:\n",
      "[1]\tcv_agg's valid binary_logloss: 0.933609 + 0.305275\n",
      "Training until validation scores don't improve for 100 rounds\n",
      "[100]\tcv_agg's valid binary_logloss: 0.933609 + 0.305275\n",
      "Early stopping, best iteration is:\n",
      "[1]\tcv_agg's valid binary_logloss: 0.933609 + 0.305275\n"
     ]
    },
    {
     "name": "stderr",
     "output_type": "stream",
     "text": [
      "bagging, val_score: 0.933609:  40%|####      | 4/10 [00:00<00:00, 10.66it/s]"
     ]
    },
    {
     "name": "stdout",
     "output_type": "stream",
     "text": [
      "Training until validation scores don't improve for 100 rounds\n"
     ]
    },
    {
     "name": "stderr",
     "output_type": "stream",
     "text": [
      "bagging, val_score: 0.933609:  50%|#####     | 5/10 [00:00<00:00, 10.66it/s]"
     ]
    },
    {
     "name": "stdout",
     "output_type": "stream",
     "text": [
      "[100]\tcv_agg's valid binary_logloss: 0.933609 + 0.305275\n",
      "Early stopping, best iteration is:\n",
      "[1]\tcv_agg's valid binary_logloss: 0.933609 + 0.305275\n",
      "Training until validation scores don't improve for 100 rounds\n",
      "[100]\tcv_agg's valid binary_logloss: 0.933609 + 0.305275\n",
      "Early stopping, best iteration is:\n",
      "[1]\tcv_agg's valid binary_logloss: 0.933609 + 0.305275\n"
     ]
    },
    {
     "name": "stderr",
     "output_type": "stream",
     "text": [
      "bagging, val_score: 0.933609:  60%|######    | 6/10 [00:00<00:00,  9.76it/s]"
     ]
    },
    {
     "name": "stdout",
     "output_type": "stream",
     "text": [
      "Training until validation scores don't improve for 100 rounds\n",
      "[100]\tcv_agg's valid binary_logloss: 0.933609 + 0.305275\n",
      "Early stopping, best iteration is:\n",
      "[1]\tcv_agg's valid binary_logloss: 0.933609 + 0.305275\n"
     ]
    },
    {
     "name": "stderr",
     "output_type": "stream",
     "text": [
      "bagging, val_score: 0.933609:  80%|########  | 8/10 [00:00<00:00, 10.17it/s]"
     ]
    },
    {
     "name": "stdout",
     "output_type": "stream",
     "text": [
      "Training until validation scores don't improve for 100 rounds\n",
      "[100]\tcv_agg's valid binary_logloss: 0.933609 + 0.305275\n",
      "Early stopping, best iteration is:\n",
      "[1]\tcv_agg's valid binary_logloss: 0.933609 + 0.305275\n",
      "Training until validation scores don't improve for 100 rounds\n"
     ]
    },
    {
     "name": "stderr",
     "output_type": "stream",
     "text": [
      "bagging, val_score: 0.933609:  90%|######### | 9/10 [00:00<00:00, 10.17it/s]"
     ]
    },
    {
     "name": "stdout",
     "output_type": "stream",
     "text": [
      "[100]\tcv_agg's valid binary_logloss: 0.933609 + 0.305275\n",
      "Early stopping, best iteration is:\n",
      "[1]\tcv_agg's valid binary_logloss: 0.933609 + 0.305275\n",
      "Training until validation scores don't improve for 100 rounds\n"
     ]
    },
    {
     "name": "stderr",
     "output_type": "stream",
     "text": [
      "bagging, val_score: 0.933609: 100%|##########| 10/10 [00:01<00:00,  9.97it/s]\n"
     ]
    },
    {
     "name": "stdout",
     "output_type": "stream",
     "text": [
      "[100]\tcv_agg's valid binary_logloss: 0.933609 + 0.305275\n",
      "Early stopping, best iteration is:\n",
      "[1]\tcv_agg's valid binary_logloss: 0.933609 + 0.305275\n"
     ]
    },
    {
     "name": "stderr",
     "output_type": "stream",
     "text": [
      "feature_fraction_stage2, val_score: 0.933609:   0%|          | 0/3 [00:00<?, ?it/s]"
     ]
    },
    {
     "name": "stdout",
     "output_type": "stream",
     "text": [
      "Training until validation scores don't improve for 100 rounds\n",
      "[100]\tcv_agg's valid binary_logloss: 0.933609 + 0.305275\n",
      "Early stopping, best iteration is:\n",
      "[1]\tcv_agg's valid binary_logloss: 0.933609 + 0.305275\n"
     ]
    },
    {
     "name": "stderr",
     "output_type": "stream",
     "text": [
      "feature_fraction_stage2, val_score: 0.933609:  67%|######6   | 2/3 [00:00<00:00, 16.10it/s]"
     ]
    },
    {
     "name": "stdout",
     "output_type": "stream",
     "text": [
      "Training until validation scores don't improve for 100 rounds\n",
      "[100]\tcv_agg's valid binary_logloss: 0.933609 + 0.305275\n",
      "Early stopping, best iteration is:\n",
      "[1]\tcv_agg's valid binary_logloss: 0.933609 + 0.305275\n",
      "Training until validation scores don't improve for 100 rounds\n",
      "[100]\tcv_agg's valid binary_logloss: 0.933609 + 0.305275\n",
      "Early stopping, best iteration is:\n",
      "[1]\tcv_agg's valid binary_logloss: 0.933609 + 0.305275\n"
     ]
    },
    {
     "name": "stderr",
     "output_type": "stream",
     "text": [
      "feature_fraction_stage2, val_score: 0.933609: 100%|##########| 3/3 [00:00<00:00, 15.92it/s]\n",
      "regularization_factors, val_score: 0.933609:   0%|          | 0/20 [00:00<?, ?it/s]"
     ]
    },
    {
     "name": "stdout",
     "output_type": "stream",
     "text": [
      "Training until validation scores don't improve for 100 rounds\n"
     ]
    },
    {
     "name": "stderr",
     "output_type": "stream",
     "text": [
      "regularization_factors, val_score: 0.933609:  10%|#         | 2/20 [00:00<00:01, 12.56it/s]"
     ]
    },
    {
     "name": "stdout",
     "output_type": "stream",
     "text": [
      "[100]\tcv_agg's valid binary_logloss: 0.933609 + 0.305275\n",
      "Early stopping, best iteration is:\n",
      "[1]\tcv_agg's valid binary_logloss: 0.933609 + 0.305275\n",
      "Training until validation scores don't improve for 100 rounds\n",
      "[100]\tcv_agg's valid binary_logloss: 0.933609 + 0.305275\n",
      "Early stopping, best iteration is:\n",
      "[1]\tcv_agg's valid binary_logloss: 0.933609 + 0.305275\n",
      "Training until validation scores don't improve for 100 rounds\n"
     ]
    },
    {
     "name": "stderr",
     "output_type": "stream",
     "text": [
      "regularization_factors, val_score: 0.933609:  15%|#5        | 3/20 [00:00<00:01, 12.56it/s]"
     ]
    },
    {
     "name": "stdout",
     "output_type": "stream",
     "text": [
      "[100]\tcv_agg's valid binary_logloss: 0.933609 + 0.305275\n",
      "Early stopping, best iteration is:\n",
      "[1]\tcv_agg's valid binary_logloss: 0.933609 + 0.305275\n",
      "Training until validation scores don't improve for 100 rounds\n"
     ]
    },
    {
     "name": "stderr",
     "output_type": "stream",
     "text": [
      "regularization_factors, val_score: 0.933609:  25%|##5       | 5/20 [00:00<00:01, 12.74it/s]"
     ]
    },
    {
     "name": "stdout",
     "output_type": "stream",
     "text": [
      "[100]\tcv_agg's valid binary_logloss: 0.933609 + 0.305275\n",
      "Early stopping, best iteration is:\n",
      "[1]\tcv_agg's valid binary_logloss: 0.933609 + 0.305275\n",
      "Training until validation scores don't improve for 100 rounds\n",
      "[100]\tcv_agg's valid binary_logloss: 0.933609 + 0.305275\n",
      "Early stopping, best iteration is:\n",
      "[1]\tcv_agg's valid binary_logloss: 0.933609 + 0.305275\n",
      "Training until validation scores don't improve for 100 rounds\n"
     ]
    },
    {
     "name": "stderr",
     "output_type": "stream",
     "text": [
      "regularization_factors, val_score: 0.933609:  25%|##5       | 5/20 [00:00<00:01, 12.74it/s]"
     ]
    },
    {
     "name": "stdout",
     "output_type": "stream",
     "text": [
      "[100]\tcv_agg's valid binary_logloss: 0.933609 + 0.305275\n",
      "Early stopping, best iteration is:\n",
      "[1]\tcv_agg's valid binary_logloss: 0.933609 + 0.305275\n"
     ]
    },
    {
     "name": "stderr",
     "output_type": "stream",
     "text": [
      "regularization_factors, val_score: 0.933609:  40%|####      | 8/20 [00:00<00:01, 11.84it/s]"
     ]
    },
    {
     "name": "stdout",
     "output_type": "stream",
     "text": [
      "Training until validation scores don't improve for 100 rounds\n",
      "[100]\tcv_agg's valid binary_logloss: 0.933609 + 0.305275\n",
      "Early stopping, best iteration is:\n",
      "[1]\tcv_agg's valid binary_logloss: 0.933609 + 0.305275\n",
      "Training until validation scores don't improve for 100 rounds\n",
      "[100]\tcv_agg's valid binary_logloss: 0.933609 + 0.305275\n",
      "Early stopping, best iteration is:\n",
      "[1]\tcv_agg's valid binary_logloss: 0.933609 + 0.305275\n",
      "Training until validation scores don't improve for 100 rounds\n"
     ]
    },
    {
     "name": "stderr",
     "output_type": "stream",
     "text": [
      "regularization_factors, val_score: 0.933609:  50%|#####     | 10/20 [00:00<00:00, 11.76it/s]"
     ]
    },
    {
     "name": "stdout",
     "output_type": "stream",
     "text": [
      "[100]\tcv_agg's valid binary_logloss: 0.933609 + 0.305275\n",
      "Early stopping, best iteration is:\n",
      "[1]\tcv_agg's valid binary_logloss: 0.933609 + 0.305275\n",
      "Training until validation scores don't improve for 100 rounds\n",
      "[100]\tcv_agg's valid binary_logloss: 0.933609 + 0.305275\n",
      "Early stopping, best iteration is:\n",
      "[1]\tcv_agg's valid binary_logloss: 0.933609 + 0.305275\n",
      "Training until validation scores don't improve for 100 rounds\n"
     ]
    },
    {
     "name": "stderr",
     "output_type": "stream",
     "text": [
      "regularization_factors, val_score: 0.933609:  55%|#####5    | 11/20 [00:00<00:00, 11.76it/s]"
     ]
    },
    {
     "name": "stdout",
     "output_type": "stream",
     "text": [
      "[100]\tcv_agg's valid binary_logloss: 0.933609 + 0.305275\n",
      "Early stopping, best iteration is:\n",
      "[1]\tcv_agg's valid binary_logloss: 0.933609 + 0.305275\n",
      "Training until validation scores don't improve for 100 rounds\n"
     ]
    },
    {
     "name": "stderr",
     "output_type": "stream",
     "text": [
      "regularization_factors, val_score: 0.933609:  65%|######5   | 13/20 [00:01<00:00, 11.81it/s]"
     ]
    },
    {
     "name": "stdout",
     "output_type": "stream",
     "text": [
      "[100]\tcv_agg's valid binary_logloss: 0.933609 + 0.305275\n",
      "Early stopping, best iteration is:\n",
      "[1]\tcv_agg's valid binary_logloss: 0.933609 + 0.305275\n",
      "Training until validation scores don't improve for 100 rounds\n",
      "[100]\tcv_agg's valid binary_logloss: 0.933609 + 0.305275\n",
      "Early stopping, best iteration is:\n",
      "[1]\tcv_agg's valid binary_logloss: 0.933609 + 0.305275\n"
     ]
    },
    {
     "name": "stderr",
     "output_type": "stream",
     "text": [
      "regularization_factors, val_score: 0.933609:  70%|#######   | 14/20 [00:01<00:00, 11.80it/s]"
     ]
    },
    {
     "name": "stdout",
     "output_type": "stream",
     "text": [
      "Training until validation scores don't improve for 100 rounds\n",
      "[100]\tcv_agg's valid binary_logloss: 0.933609 + 0.305275\n",
      "Early stopping, best iteration is:\n",
      "[1]\tcv_agg's valid binary_logloss: 0.933609 + 0.305275\n"
     ]
    },
    {
     "name": "stderr",
     "output_type": "stream",
     "text": [
      "regularization_factors, val_score: 0.933609:  75%|#######5  | 15/20 [00:01<00:00, 11.80it/s]"
     ]
    },
    {
     "name": "stdout",
     "output_type": "stream",
     "text": [
      "Training until validation scores don't improve for 100 rounds\n",
      "[100]\tcv_agg's valid binary_logloss: 0.933609 + 0.305275\n",
      "Early stopping, best iteration is:\n",
      "[1]\tcv_agg's valid binary_logloss: 0.933609 + 0.305275\n",
      "Training until validation scores don't improve for 100 rounds\n"
     ]
    },
    {
     "name": "stderr",
     "output_type": "stream",
     "text": [
      "regularization_factors, val_score: 0.933609:  80%|########  | 16/20 [00:01<00:00, 12.08it/s]"
     ]
    },
    {
     "name": "stdout",
     "output_type": "stream",
     "text": [
      "[100]\tcv_agg's valid binary_logloss: 0.933609 + 0.305275\n",
      "Early stopping, best iteration is:\n",
      "[1]\tcv_agg's valid binary_logloss: 0.933609 + 0.305275\n",
      "Training until validation scores don't improve for 100 rounds\n"
     ]
    },
    {
     "name": "stderr",
     "output_type": "stream",
     "text": [
      "regularization_factors, val_score: 0.933609:  90%|######### | 18/20 [00:01<00:00, 12.31it/s]"
     ]
    },
    {
     "name": "stdout",
     "output_type": "stream",
     "text": [
      "[100]\tcv_agg's valid binary_logloss: 0.933609 + 0.305275\n",
      "Early stopping, best iteration is:\n",
      "[1]\tcv_agg's valid binary_logloss: 0.933609 + 0.305275\n",
      "Training until validation scores don't improve for 100 rounds\n",
      "[100]\tcv_agg's valid binary_logloss: 0.933609 + 0.305275\n",
      "Early stopping, best iteration is:\n",
      "[1]\tcv_agg's valid binary_logloss: 0.933609 + 0.305275\n",
      "Training until validation scores don't improve for 100 rounds\n"
     ]
    },
    {
     "name": "stderr",
     "output_type": "stream",
     "text": [
      "regularization_factors, val_score: 0.933609:  95%|#########5| 19/20 [00:01<00:00, 12.31it/s]"
     ]
    },
    {
     "name": "stdout",
     "output_type": "stream",
     "text": [
      "[100]\tcv_agg's valid binary_logloss: 0.933609 + 0.305275\n",
      "Early stopping, best iteration is:\n",
      "[1]\tcv_agg's valid binary_logloss: 0.933609 + 0.305275\n",
      "Training until validation scores don't improve for 100 rounds\n"
     ]
    },
    {
     "name": "stderr",
     "output_type": "stream",
     "text": [
      "regularization_factors, val_score: 0.933609: 100%|##########| 20/20 [00:01<00:00, 12.16it/s]\n"
     ]
    },
    {
     "name": "stdout",
     "output_type": "stream",
     "text": [
      "[100]\tcv_agg's valid binary_logloss: 0.933609 + 0.305275\n",
      "Early stopping, best iteration is:\n",
      "[1]\tcv_agg's valid binary_logloss: 0.933609 + 0.305275\n"
     ]
    },
    {
     "name": "stderr",
     "output_type": "stream",
     "text": [
      "min_child_samples, val_score: 0.933609:  20%|##        | 1/5 [00:00<00:00, 13.79it/s]"
     ]
    },
    {
     "name": "stdout",
     "output_type": "stream",
     "text": [
      "Training until validation scores don't improve for 100 rounds\n",
      "[100]\tcv_agg's valid binary_logloss: 0.933609 + 0.305275\n",
      "Early stopping, best iteration is:\n",
      "[1]\tcv_agg's valid binary_logloss: 0.933609 + 0.305275\n",
      "Training until validation scores don't improve for 100 rounds\n"
     ]
    },
    {
     "name": "stderr",
     "output_type": "stream",
     "text": [
      "min_child_samples, val_score: 0.933609:  40%|####      | 2/5 [00:00<00:00, 14.75it/s]"
     ]
    },
    {
     "name": "stdout",
     "output_type": "stream",
     "text": [
      "[100]\tcv_agg's valid binary_logloss: 0.933609 + 0.305275\n",
      "Early stopping, best iteration is:\n",
      "[1]\tcv_agg's valid binary_logloss: 0.933609 + 0.305275\n",
      "Training until validation scores don't improve for 100 rounds\n"
     ]
    },
    {
     "name": "stderr",
     "output_type": "stream",
     "text": [
      "min_child_samples, val_score: 0.915444:  60%|######    | 3/5 [00:00<00:00, 14.75it/s]"
     ]
    },
    {
     "name": "stdout",
     "output_type": "stream",
     "text": [
      "[100]\tcv_agg's valid binary_logloss: 3.88419 + 1.24271\n",
      "Early stopping, best iteration is:\n",
      "[2]\tcv_agg's valid binary_logloss: 0.915444 + 0.259916\n",
      "Training until validation scores don't improve for 100 rounds\n"
     ]
    },
    {
     "name": "stderr",
     "output_type": "stream",
     "text": [
      "min_child_samples, val_score: 0.913956: 100%|##########| 5/5 [00:00<00:00, 11.34it/s]"
     ]
    },
    {
     "name": "stdout",
     "output_type": "stream",
     "text": [
      "[100]\tcv_agg's valid binary_logloss: 1.06424 + 0.42337\n",
      "Early stopping, best iteration is:\n",
      "[3]\tcv_agg's valid binary_logloss: 0.913956 + 0.270387\n",
      "Training until validation scores don't improve for 100 rounds\n",
      "[100]\tcv_agg's valid binary_logloss: 0.933609 + 0.305275\n",
      "Early stopping, best iteration is:\n",
      "[1]\tcv_agg's valid binary_logloss: 0.933609 + 0.305275\n"
     ]
    },
    {
     "name": "stderr",
     "output_type": "stream",
     "text": [
      "\n"
     ]
    },
    {
     "name": "stdout",
     "output_type": "stream",
     "text": [
      "{'accuracy': 0.7222222222222222, 'balanced_accuracy': np.float64(0.7125), 'f1': np.float64(0.6666666666666666), 'precision': np.float64(0.7142857142857143), 'recall': np.float64(0.625), 'specificity': np.float64(0.8), 'ROC_AUC': np.float64(0.7125), 'MCC': np.float64(0.4332001127219817)}\n"
     ]
    },
    {
     "name": "stderr",
     "output_type": "stream",
     "text": [
      "feature_fraction, val_score: 0.972426:  29%|##8       | 2/7 [00:00<00:00, 16.82it/s]"
     ]
    },
    {
     "name": "stdout",
     "output_type": "stream",
     "text": [
      "Training until validation scores don't improve for 100 rounds\n",
      "[100]\tcv_agg's valid binary_logloss: 0.972426 + 0.257546\n",
      "Early stopping, best iteration is:\n",
      "[1]\tcv_agg's valid binary_logloss: 0.972426 + 0.257546\n",
      "Training until validation scores don't improve for 100 rounds\n",
      "[100]\tcv_agg's valid binary_logloss: 0.972426 + 0.257546\n",
      "Early stopping, best iteration is:\n",
      "[1]\tcv_agg's valid binary_logloss: 0.972426 + 0.257546\n",
      "Training until validation scores don't improve for 100 rounds\n",
      "[100]\tcv_agg's valid binary_logloss: 0.972426 + 0.257546\n",
      "Early stopping, best iteration is:\n",
      "[1]\tcv_agg's valid binary_logloss: 0.972426 + 0.257546\n"
     ]
    },
    {
     "name": "stderr",
     "output_type": "stream",
     "text": [
      "feature_fraction, val_score: 0.972426:  43%|####2     | 3/7 [00:00<00:00, 16.82it/s]"
     ]
    },
    {
     "name": "stdout",
     "output_type": "stream",
     "text": [
      "Training until validation scores don't improve for 100 rounds"
     ]
    },
    {
     "name": "stderr",
     "output_type": "stream",
     "text": [
      "feature_fraction, val_score: 0.972426:  71%|#######1  | 5/7 [00:00<00:00, 15.81it/s]"
     ]
    },
    {
     "name": "stdout",
     "output_type": "stream",
     "text": [
      "\n",
      "[100]\tcv_agg's valid binary_logloss: 0.972426 + 0.257546\n",
      "Early stopping, best iteration is:\n",
      "[1]\tcv_agg's valid binary_logloss: 0.972426 + 0.257546\n",
      "Training until validation scores don't improve for 100 rounds\n",
      "[100]\tcv_agg's valid binary_logloss: 0.972426 + 0.257546\n",
      "Early stopping, best iteration is:\n",
      "[1]\tcv_agg's valid binary_logloss: 0.972426 + 0.257546\n",
      "Training until validation scores don't improve for 100 rounds\n"
     ]
    },
    {
     "name": "stderr",
     "output_type": "stream",
     "text": [
      "feature_fraction, val_score: 0.972426: 100%|##########| 7/7 [00:00<00:00, 15.15it/s]\n"
     ]
    },
    {
     "name": "stdout",
     "output_type": "stream",
     "text": [
      "[100]\tcv_agg's valid binary_logloss: 0.972426 + 0.257546\n",
      "Early stopping, best iteration is:\n",
      "[1]\tcv_agg's valid binary_logloss: 0.972426 + 0.257546\n",
      "Training until validation scores don't improve for 100 rounds\n",
      "[100]\tcv_agg's valid binary_logloss: 0.972426 + 0.257546\n",
      "Early stopping, best iteration is:\n",
      "[1]\tcv_agg's valid binary_logloss: 0.972426 + 0.257546\n"
     ]
    },
    {
     "name": "stderr",
     "output_type": "stream",
     "text": [
      "num_leaves, val_score: 0.972426:   5%|5         | 1/20 [00:00<00:01, 12.30it/s]"
     ]
    },
    {
     "name": "stdout",
     "output_type": "stream",
     "text": [
      "Training until validation scores don't improve for 100 rounds\n",
      "[100]\tcv_agg's valid binary_logloss: 0.972426 + 0.257546\n",
      "Early stopping, best iteration is:\n",
      "[1]\tcv_agg's valid binary_logloss: 0.972426 + 0.257546\n",
      "Training until validation scores don't improve for 100 rounds\n"
     ]
    },
    {
     "name": "stderr",
     "output_type": "stream",
     "text": [
      "num_leaves, val_score: 0.972426:  10%|#         | 2/20 [00:00<00:01, 12.59it/s]"
     ]
    },
    {
     "name": "stdout",
     "output_type": "stream",
     "text": [
      "[100]\tcv_agg's valid binary_logloss: 0.972426 + 0.257546\n",
      "Early stopping, best iteration is:\n",
      "[1]\tcv_agg's valid binary_logloss: 0.972426 + 0.257546\n",
      "Training until validation scores don't improve for 100 rounds\n",
      "[100]\tcv_agg's valid binary_logloss: 0.972426 + 0.257546\n",
      "Early stopping, best iteration is:\n",
      "[1]\tcv_agg's valid binary_logloss: 0.972426 + 0.257546\n"
     ]
    },
    {
     "name": "stderr",
     "output_type": "stream",
     "text": [
      "num_leaves, val_score: 0.972426:  20%|##        | 4/20 [00:00<00:01, 14.25it/s]"
     ]
    },
    {
     "name": "stdout",
     "output_type": "stream",
     "text": [
      "Training until validation scores don't improve for 100 rounds\n",
      "[100]\tcv_agg's valid binary_logloss: 0.972426 + 0.257546\n",
      "Early stopping, best iteration is:\n",
      "[1]\tcv_agg's valid binary_logloss: 0.972426 + 0.257546\n",
      "Training until validation scores don't improve for 100 rounds\n",
      "[100]\tcv_agg's valid binary_logloss: 0.972426 + 0.257546\n",
      "Early stopping, best iteration is:\n",
      "[1]\tcv_agg's valid binary_logloss: 0.972426 + 0.257546\n"
     ]
    },
    {
     "name": "stderr",
     "output_type": "stream",
     "text": [
      "num_leaves, val_score: 0.972426:  25%|##5       | 5/20 [00:00<00:01, 14.25it/s]"
     ]
    },
    {
     "name": "stdout",
     "output_type": "stream",
     "text": [
      "Training until validation scores don't improve for 100 rounds\n"
     ]
    },
    {
     "name": "stderr",
     "output_type": "stream",
     "text": [
      "num_leaves, val_score: 0.972426:  35%|###5      | 7/20 [00:00<00:01, 12.46it/s]"
     ]
    },
    {
     "name": "stdout",
     "output_type": "stream",
     "text": [
      "[100]\tcv_agg's valid binary_logloss: 0.972426 + 0.257546\n",
      "Early stopping, best iteration is:\n",
      "[1]\tcv_agg's valid binary_logloss: 0.972426 + 0.257546\n",
      "Training until validation scores don't improve for 100 rounds\n",
      "[100]\tcv_agg's valid binary_logloss: 0.972426 + 0.257546\n",
      "Early stopping, best iteration is:\n",
      "[1]\tcv_agg's valid binary_logloss: 0.972426 + 0.257546\n",
      "Training until validation scores don't improve for 100 rounds\n"
     ]
    },
    {
     "name": "stderr",
     "output_type": "stream",
     "text": [
      "num_leaves, val_score: 0.972426:  40%|####      | 8/20 [00:00<00:00, 12.79it/s]"
     ]
    },
    {
     "name": "stdout",
     "output_type": "stream",
     "text": [
      "[100]\tcv_agg's valid binary_logloss: 0.972426 + 0.257546\n",
      "Early stopping, best iteration is:\n",
      "[1]\tcv_agg's valid binary_logloss: 0.972426 + 0.257546\n",
      "Training until validation scores don't improve for 100 rounds\n"
     ]
    },
    {
     "name": "stderr",
     "output_type": "stream",
     "text": [
      "num_leaves, val_score: 0.972426:  50%|#####     | 10/20 [00:00<00:00, 13.39it/s]"
     ]
    },
    {
     "name": "stdout",
     "output_type": "stream",
     "text": [
      "[100]\tcv_agg's valid binary_logloss: 0.972426 + 0.257546\n",
      "Early stopping, best iteration is:\n",
      "[1]\tcv_agg's valid binary_logloss: 0.972426 + 0.257546\n",
      "Training until validation scores don't improve for 100 rounds\n",
      "[100]\tcv_agg's valid binary_logloss: 0.972426 + 0.257546\n",
      "Early stopping, best iteration is:\n",
      "[1]\tcv_agg's valid binary_logloss: 0.972426 + 0.257546\n",
      "Training until validation scores don't improve for 100 rounds\n"
     ]
    },
    {
     "name": "stderr",
     "output_type": "stream",
     "text": [
      "num_leaves, val_score: 0.972426:  55%|#####5    | 11/20 [00:00<00:00, 13.39it/s]"
     ]
    },
    {
     "name": "stdout",
     "output_type": "stream",
     "text": [
      "[100]\tcv_agg's valid binary_logloss: 0.972426 + 0.257546\n",
      "Early stopping, best iteration is:\n",
      "[1]\tcv_agg's valid binary_logloss: 0.972426 + 0.257546\n",
      "Training until validation scores don't improve for 100 rounds\n"
     ]
    },
    {
     "name": "stderr",
     "output_type": "stream",
     "text": [
      "num_leaves, val_score: 0.972426:  65%|######5   | 13/20 [00:00<00:00, 13.35it/s]"
     ]
    },
    {
     "name": "stdout",
     "output_type": "stream",
     "text": [
      "[100]\tcv_agg's valid binary_logloss: 0.972426 + 0.257546\n",
      "Early stopping, best iteration is:\n",
      "[1]\tcv_agg's valid binary_logloss: 0.972426 + 0.257546\n",
      "Training until validation scores don't improve for 100 rounds\n",
      "[100]\tcv_agg's valid binary_logloss: 0.972426 + 0.257546\n",
      "Early stopping, best iteration is:\n",
      "[1]\tcv_agg's valid binary_logloss: 0.972426 + 0.257546\n",
      "Training until validation scores don't improve for 100 rounds\n",
      "[100]\tcv_agg's valid binary_logloss: 0.972426 + 0.257546\n",
      "Early stopping, best iteration is:\n",
      "[1]\tcv_agg's valid binary_logloss: 0.972426 + 0.257546\n"
     ]
    },
    {
     "name": "stderr",
     "output_type": "stream",
     "text": [
      "num_leaves, val_score: 0.972426:  70%|#######   | 14/20 [00:01<00:00, 13.76it/s]"
     ]
    },
    {
     "name": "stdout",
     "output_type": "stream",
     "text": [
      "Training until validation scores don't improve for 100 rounds\n",
      "[100]\tcv_agg's valid binary_logloss: 0.972426 + 0.257546\n",
      "Early stopping, best iteration is:\n",
      "[1]\tcv_agg's valid binary_logloss: 0.972426 + 0.257546\n"
     ]
    },
    {
     "name": "stderr",
     "output_type": "stream",
     "text": [
      "num_leaves, val_score: 0.972426:  80%|########  | 16/20 [00:01<00:00, 13.97it/s]"
     ]
    },
    {
     "name": "stdout",
     "output_type": "stream",
     "text": [
      "Training until validation scores don't improve for 100 rounds\n",
      "[100]\tcv_agg's valid binary_logloss: 0.972426 + 0.257546\n",
      "Early stopping, best iteration is:\n",
      "[1]\tcv_agg's valid binary_logloss: 0.972426 + 0.257546\n",
      "Training until validation scores don't improve for 100 rounds\n"
     ]
    },
    {
     "name": "stderr",
     "output_type": "stream",
     "text": [
      "num_leaves, val_score: 0.972426:  85%|########5 | 17/20 [00:01<00:00, 13.97it/s]"
     ]
    },
    {
     "name": "stdout",
     "output_type": "stream",
     "text": [
      "[100]\tcv_agg's valid binary_logloss: 0.972426 + 0.257546\n",
      "Early stopping, best iteration is:\n",
      "[1]\tcv_agg's valid binary_logloss: 0.972426 + 0.257546\n",
      "Training until validation scores don't improve for 100 rounds\n"
     ]
    },
    {
     "name": "stderr",
     "output_type": "stream",
     "text": [
      "num_leaves, val_score: 0.972426:  95%|#########5| 19/20 [00:01<00:00, 13.35it/s]"
     ]
    },
    {
     "name": "stdout",
     "output_type": "stream",
     "text": [
      "[100]\tcv_agg's valid binary_logloss: 0.972426 + 0.257546\n",
      "Early stopping, best iteration is:\n",
      "[1]\tcv_agg's valid binary_logloss: 0.972426 + 0.257546\n",
      "Training until validation scores don't improve for 100 rounds\n",
      "[100]\tcv_agg's valid binary_logloss: 0.972426 + 0.257546\n",
      "Early stopping, best iteration is:\n",
      "[1]\tcv_agg's valid binary_logloss: 0.972426 + 0.257546\n",
      "Training until validation scores don't improve for 100 rounds\n"
     ]
    },
    {
     "name": "stderr",
     "output_type": "stream",
     "text": [
      "num_leaves, val_score: 0.972426: 100%|##########| 20/20 [00:01<00:00, 13.31it/s]\n"
     ]
    },
    {
     "name": "stdout",
     "output_type": "stream",
     "text": [
      "[100]\tcv_agg's valid binary_logloss: 0.972426 + 0.257546\n",
      "Early stopping, best iteration is:\n",
      "[1]\tcv_agg's valid binary_logloss: 0.972426 + 0.257546\n"
     ]
    },
    {
     "name": "stderr",
     "output_type": "stream",
     "text": [
      "bagging, val_score: 0.972426:  20%|##        | 2/10 [00:00<00:00, 12.73it/s]"
     ]
    },
    {
     "name": "stdout",
     "output_type": "stream",
     "text": [
      "Training until validation scores don't improve for 100 rounds\n",
      "[100]\tcv_agg's valid binary_logloss: 0.972426 + 0.257546\n",
      "Early stopping, best iteration is:\n",
      "[1]\tcv_agg's valid binary_logloss: 0.972426 + 0.257546\n",
      "Training until validation scores don't improve for 100 rounds\n",
      "[100]\tcv_agg's valid binary_logloss: 0.972426 + 0.257546\n",
      "Early stopping, best iteration is:\n",
      "[1]\tcv_agg's valid binary_logloss: 0.972426 + 0.257546\n",
      "Training until validation scores don't improve for 100 rounds\n"
     ]
    },
    {
     "name": "stderr",
     "output_type": "stream",
     "text": [
      "bagging, val_score: 0.972426:  30%|###       | 3/10 [00:00<00:00, 12.73it/s]"
     ]
    },
    {
     "name": "stdout",
     "output_type": "stream",
     "text": [
      "[100]\tcv_agg's valid binary_logloss: 0.972426 + 0.257546\n",
      "Early stopping, best iteration is:\n",
      "[1]\tcv_agg's valid binary_logloss: 0.972426 + 0.257546\n"
     ]
    },
    {
     "name": "stderr",
     "output_type": "stream",
     "text": [
      "bagging, val_score: 0.972426:  50%|#####     | 5/10 [00:00<00:00,  7.66it/s]"
     ]
    },
    {
     "name": "stdout",
     "output_type": "stream",
     "text": [
      "Training until validation scores don't improve for 100 rounds\n",
      "[100]\tcv_agg's valid binary_logloss: 0.972426 + 0.257546\n",
      "Early stopping, best iteration is:\n",
      "[1]\tcv_agg's valid binary_logloss: 0.972426 + 0.257546\n",
      "Training until validation scores don't improve for 100 rounds\n",
      "[100]\tcv_agg's valid binary_logloss: 0.972426 + 0.257546\n",
      "Early stopping, best iteration is:\n",
      "[1]\tcv_agg's valid binary_logloss: 0.972426 + 0.257546\n",
      "Training until validation scores don't improve for 100 rounds\n"
     ]
    },
    {
     "name": "stderr",
     "output_type": "stream",
     "text": [
      "bagging, val_score: 0.972426:  70%|#######   | 7/10 [00:00<00:00,  8.66it/s]"
     ]
    },
    {
     "name": "stdout",
     "output_type": "stream",
     "text": [
      "[100]\tcv_agg's valid binary_logloss: 0.972426 + 0.257546\n",
      "Early stopping, best iteration is:\n",
      "[1]\tcv_agg's valid binary_logloss: 0.972426 + 0.257546\n",
      "Training until validation scores don't improve for 100 rounds\n",
      "[100]\tcv_agg's valid binary_logloss: 0.972426 + 0.257546\n",
      "Early stopping, best iteration is:\n",
      "[1]\tcv_agg's valid binary_logloss: 0.972426 + 0.257546\n",
      "Training until validation scores don't improve for 100 rounds\n",
      "[100]\tcv_agg's valid binary_logloss: 0.972426 + 0.257546\n",
      "Early stopping, best iteration is:\n",
      "[1]\tcv_agg's valid binary_logloss: 0.972426 + 0.257546\n"
     ]
    },
    {
     "name": "stderr",
     "output_type": "stream",
     "text": [
      "bagging, val_score: 0.972426: 100%|##########| 10/10 [00:01<00:00,  8.93it/s]\n"
     ]
    },
    {
     "name": "stdout",
     "output_type": "stream",
     "text": [
      "Training until validation scores don't improve for 100 rounds\n",
      "[100]\tcv_agg's valid binary_logloss: 0.972426 + 0.257546\n",
      "Early stopping, best iteration is:\n",
      "[1]\tcv_agg's valid binary_logloss: 0.972426 + 0.257546\n",
      "Training until validation scores don't improve for 100 rounds\n",
      "[100]\tcv_agg's valid binary_logloss: 0.972426 + 0.257546\n",
      "Early stopping, best iteration is:\n",
      "[1]\tcv_agg's valid binary_logloss: 0.972426 + 0.257546\n"
     ]
    },
    {
     "name": "stderr",
     "output_type": "stream",
     "text": [
      "feature_fraction_stage2, val_score: 0.972426: 100%|##########| 3/3 [00:00<00:00, 16.69it/s]\n"
     ]
    },
    {
     "name": "stdout",
     "output_type": "stream",
     "text": [
      "Training until validation scores don't improve for 100 rounds\n",
      "[100]\tcv_agg's valid binary_logloss: 0.972426 + 0.257546\n",
      "Early stopping, best iteration is:\n",
      "[1]\tcv_agg's valid binary_logloss: 0.972426 + 0.257546\n",
      "Training until validation scores don't improve for 100 rounds\n",
      "[100]\tcv_agg's valid binary_logloss: 0.972426 + 0.257546\n",
      "Early stopping, best iteration is:\n",
      "[1]\tcv_agg's valid binary_logloss: 0.972426 + 0.257546\n",
      "Training until validation scores don't improve for 100 rounds\n",
      "[100]\tcv_agg's valid binary_logloss: 0.972426 + 0.257546\n",
      "Early stopping, best iteration is:\n",
      "[1]\tcv_agg's valid binary_logloss: 0.972426 + 0.257546\n"
     ]
    },
    {
     "name": "stderr",
     "output_type": "stream",
     "text": [
      "regularization_factors, val_score: 0.972426:  10%|#         | 2/20 [00:00<00:01, 13.67it/s]"
     ]
    },
    {
     "name": "stdout",
     "output_type": "stream",
     "text": [
      "Training until validation scores don't improve for 100 rounds\n",
      "[100]\tcv_agg's valid binary_logloss: 0.972426 + 0.257546\n",
      "Early stopping, best iteration is:\n",
      "[1]\tcv_agg's valid binary_logloss: 0.972426 + 0.257546\n",
      "Training until validation scores don't improve for 100 rounds\n",
      "[100]\tcv_agg's valid binary_logloss: 0.972426 + 0.257546\n",
      "Early stopping, best iteration is:\n",
      "[1]\tcv_agg's valid binary_logloss: 0.972426 + 0.257546\n",
      "Training until validation scores don't improve for 100 rounds\n",
      "[100]\tcv_agg's valid binary_logloss: 0.972426 + 0.257546\n",
      "Early stopping, best iteration is:\n",
      "[1]\tcv_agg's valid binary_logloss: 0.972426 + 0.257546\n"
     ]
    },
    {
     "name": "stderr",
     "output_type": "stream",
     "text": [
      "regularization_factors, val_score: 0.972426:  25%|##5       | 5/20 [00:00<00:01, 14.12it/s]"
     ]
    },
    {
     "name": "stdout",
     "output_type": "stream",
     "text": [
      "Training until validation scores don't improve for 100 rounds\n",
      "[100]\tcv_agg's valid binary_logloss: 0.972426 + 0.257546\n",
      "Early stopping, best iteration is:\n",
      "[1]\tcv_agg's valid binary_logloss: 0.972426 + 0.257546\n",
      "Training until validation scores don't improve for 100 rounds\n",
      "[100]\tcv_agg's valid binary_logloss: 0.972426 + 0.257546\n",
      "Early stopping, best iteration is:\n",
      "[1]\tcv_agg's valid binary_logloss: 0.972426 + 0.257546\n",
      "Training until validation scores don't improve for 100 rounds\n",
      "[100]\tcv_agg's valid binary_logloss: 0.972426 + 0.257546\n",
      "Early stopping, best iteration is:\n",
      "[1]\tcv_agg's valid binary_logloss: 0.972426 + 0.257546\n"
     ]
    },
    {
     "name": "stderr",
     "output_type": "stream",
     "text": [
      "regularization_factors, val_score: 0.972426:  40%|####      | 8/20 [00:00<00:00, 14.00it/s]"
     ]
    },
    {
     "name": "stdout",
     "output_type": "stream",
     "text": [
      "Training until validation scores don't improve for 100 rounds\n",
      "[100]\tcv_agg's valid binary_logloss: 0.972426 + 0.257546\n",
      "Early stopping, best iteration is:\n",
      "[1]\tcv_agg's valid binary_logloss: 0.972426 + 0.257546\n",
      "Training until validation scores don't improve for 100 rounds\n",
      "[100]\tcv_agg's valid binary_logloss: 0.972426 + 0.257546\n",
      "Early stopping, best iteration is:\n",
      "[1]\tcv_agg's valid binary_logloss: 0.972426 + 0.257546\n",
      "Training until validation scores don't improve for 100 rounds\n",
      "[100]\tcv_agg's valid binary_logloss: 0.972426 + 0.257546\n",
      "Early stopping, best iteration is:\n",
      "[1]\tcv_agg's valid binary_logloss: 0.972426 + 0.257546\n"
     ]
    },
    {
     "name": "stderr",
     "output_type": "stream",
     "text": [
      "regularization_factors, val_score: 0.972426:  55%|#####5    | 11/20 [00:00<00:00, 13.85it/s]"
     ]
    },
    {
     "name": "stdout",
     "output_type": "stream",
     "text": [
      "Training until validation scores don't improve for 100 rounds\n",
      "[100]\tcv_agg's valid binary_logloss: 0.972426 + 0.257546\n",
      "Early stopping, best iteration is:\n",
      "[1]\tcv_agg's valid binary_logloss: 0.972426 + 0.257546\n",
      "Training until validation scores don't improve for 100 rounds\n",
      "[100]\tcv_agg's valid binary_logloss: 0.972426 + 0.257546\n",
      "Early stopping, best iteration is:\n",
      "[1]\tcv_agg's valid binary_logloss: 0.972426 + 0.257546\n",
      "Training until validation scores don't improve for 100 rounds\n",
      "[100]\tcv_agg's valid binary_logloss: 0.972426 + 0.257546\n",
      "Early stopping, best iteration is:\n",
      "[1]\tcv_agg's valid binary_logloss: 0.972426 + 0.257546\n"
     ]
    },
    {
     "name": "stderr",
     "output_type": "stream",
     "text": [
      "regularization_factors, val_score: 0.972426:  75%|#######5  | 15/20 [00:01<00:00, 14.41it/s]"
     ]
    },
    {
     "name": "stdout",
     "output_type": "stream",
     "text": [
      "Training until validation scores don't improve for 100 rounds\n",
      "[100]\tcv_agg's valid binary_logloss: 0.972426 + 0.257546\n",
      "Early stopping, best iteration is:\n",
      "[1]\tcv_agg's valid binary_logloss: 0.972426 + 0.257546\n",
      "Training until validation scores don't improve for 100 rounds\n",
      "[100]\tcv_agg's valid binary_logloss: 0.972426 + 0.257546\n",
      "Early stopping, best iteration is:\n",
      "[1]\tcv_agg's valid binary_logloss: 0.972426 + 0.257546\n",
      "Training until validation scores don't improve for 100 rounds\n",
      "[100]\tcv_agg's valid binary_logloss: 0.972426 + 0.257546\n",
      "Early stopping, best iteration is:\n",
      "[1]\tcv_agg's valid binary_logloss: 0.972426 + 0.257546\n"
     ]
    },
    {
     "name": "stderr",
     "output_type": "stream",
     "text": [
      "regularization_factors, val_score: 0.972426:  90%|######### | 18/20 [00:01<00:00, 14.78it/s]"
     ]
    },
    {
     "name": "stdout",
     "output_type": "stream",
     "text": [
      "Training until validation scores don't improve for 100 rounds\n",
      "[100]\tcv_agg's valid binary_logloss: 0.972426 + 0.257546\n",
      "Early stopping, best iteration is:\n",
      "[1]\tcv_agg's valid binary_logloss: 0.972426 + 0.257546\n",
      "Training until validation scores don't improve for 100 rounds\n",
      "[100]\tcv_agg's valid binary_logloss: 0.972426 + 0.257546\n",
      "Early stopping, best iteration is:\n",
      "[1]\tcv_agg's valid binary_logloss: 0.972426 + 0.257546\n",
      "Training until validation scores don't improve for 100 rounds\n",
      "[100]\tcv_agg's valid binary_logloss: 0.972426 + 0.257546\n",
      "Early stopping, best iteration is:\n",
      "[1]\tcv_agg's valid binary_logloss: 0.972426 + 0.257546\n"
     ]
    },
    {
     "name": "stderr",
     "output_type": "stream",
     "text": [
      "regularization_factors, val_score: 0.972426: 100%|##########| 20/20 [00:01<00:00, 14.37it/s]\n"
     ]
    },
    {
     "name": "stdout",
     "output_type": "stream",
     "text": [
      "Training until validation scores don't improve for 100 rounds\n",
      "[100]\tcv_agg's valid binary_logloss: 0.972426 + 0.257546\n",
      "Early stopping, best iteration is:\n",
      "[1]\tcv_agg's valid binary_logloss: 0.972426 + 0.257546\n",
      "Training until validation scores don't improve for 100 rounds\n",
      "[100]\tcv_agg's valid binary_logloss: 0.972426 + 0.257546\n",
      "Early stopping, best iteration is:\n",
      "[1]\tcv_agg's valid binary_logloss: 0.972426 + 0.257546\n"
     ]
    },
    {
     "name": "stderr",
     "output_type": "stream",
     "text": [
      "min_child_samples, val_score: 0.972426:  20%|##        | 1/5 [00:00<00:00, 17.30it/s]"
     ]
    },
    {
     "name": "stdout",
     "output_type": "stream",
     "text": [
      "Training until validation scores don't improve for 100 rounds\n",
      "[100]\tcv_agg's valid binary_logloss: 0.972426 + 0.257546\n",
      "Early stopping, best iteration is:\n",
      "[1]\tcv_agg's valid binary_logloss: 0.972426 + 0.257546\n",
      "Training until validation scores don't improve for 100 rounds\n"
     ]
    },
    {
     "name": "stderr",
     "output_type": "stream",
     "text": [
      "min_child_samples, val_score: 0.972426:  40%|####      | 2/5 [00:00<00:00, 17.46it/s]"
     ]
    },
    {
     "name": "stdout",
     "output_type": "stream",
     "text": [
      "[100]\tcv_agg's valid binary_logloss: 0.972426 + 0.257546\n",
      "Early stopping, best iteration is:\n",
      "[1]\tcv_agg's valid binary_logloss: 0.972426 + 0.257546\n",
      "Training until validation scores don't improve for 100 rounds\n"
     ]
    },
    {
     "name": "stderr",
     "output_type": "stream",
     "text": [
      "min_child_samples, val_score: 0.833626:  60%|######    | 3/5 [00:00<00:00, 17.46it/s]"
     ]
    },
    {
     "name": "stdout",
     "output_type": "stream",
     "text": [
      "[100]\tcv_agg's valid binary_logloss: 3.37805 + 1.85377\n",
      "Early stopping, best iteration is:\n",
      "[4]\tcv_agg's valid binary_logloss: 0.833626 + 0.206969\n",
      "Training until validation scores don't improve for 100 rounds\n"
     ]
    },
    {
     "name": "stderr",
     "output_type": "stream",
     "text": [
      "min_child_samples, val_score: 0.833626:  80%|########  | 4/5 [00:00<00:00, 10.12it/s]"
     ]
    },
    {
     "name": "stdout",
     "output_type": "stream",
     "text": [
      "[100]\tcv_agg's valid binary_logloss: 1.26463 + 0.526686\n",
      "Early stopping, best iteration is:\n",
      "[10]\tcv_agg's valid binary_logloss: 0.894904 + 0.23397\n",
      "Training until validation scores don't improve for 100 rounds\n",
      "[100]\tcv_agg's valid binary_logloss: 0.972426 + 0.257546\n",
      "Early stopping, best iteration is:\n",
      "[1]\tcv_agg's valid binary_logloss: 0.972426 + 0.257546\n"
     ]
    },
    {
     "name": "stderr",
     "output_type": "stream",
     "text": [
      "min_child_samples, val_score: 0.833626: 100%|##########| 5/5 [00:00<00:00, 11.23it/s]\n"
     ]
    },
    {
     "name": "stdout",
     "output_type": "stream",
     "text": [
      "{'accuracy': 0.4444444444444444, 'balanced_accuracy': np.float64(0.41558441558441556), 'f1': np.float64(0.2857142857142857), 'precision': np.float64(0.2857142857142857), 'recall': np.float64(0.2857142857142857), 'specificity': np.float64(0.5454545454545454), 'ROC_AUC': np.float64(0.4155844155844155), 'MCC': np.float64(-0.16883116883116883)}\n",
      "    accuracy: 0.5819 +- 0.1134\n",
      "    balanced_accuracy: 0.5427 +- 0.1249\n",
      "    f1: 0.3175 +- 0.2731\n",
      "    precision: 0.6667 +- 0.2935\n",
      "    recall: 0.3036 +- 0.2555\n",
      "    specificity: 0.7818 +- 0.1860\n",
      "    ROC_AUC: 0.5427 +- 0.1249\n",
      "    MCC: 0.0881 +- 0.2536\n",
      "\n",
      "PART: night\n",
      "  GBM\n"
     ]
    },
    {
     "name": "stderr",
     "output_type": "stream",
     "text": [
      "feature_fraction, val_score: 0.971773:  29%|##8       | 2/7 [00:00<00:00, 17.03it/s]"
     ]
    },
    {
     "name": "stdout",
     "output_type": "stream",
     "text": [
      "Training until validation scores don't improve for 100 rounds\n",
      "[100]\tcv_agg's valid binary_logloss: 0.971773 + 0.299887\n",
      "Early stopping, best iteration is:\n",
      "[1]\tcv_agg's valid binary_logloss: 0.971773 + 0.299887\n",
      "Training until validation scores don't improve for 100 rounds\n",
      "[100]\tcv_agg's valid binary_logloss: 0.971773 + 0.299887\n",
      "Early stopping, best iteration is:\n",
      "[1]\tcv_agg's valid binary_logloss: 0.971773 + 0.299887\n",
      "Training until validation scores don't improve for 100 rounds\n",
      "[100]\tcv_agg's valid binary_logloss: 0.971773 + 0.299887\n",
      "Early stopping, best iteration is:\n",
      "[1]\tcv_agg's valid binary_logloss: 0.971773 + 0.299887\n"
     ]
    },
    {
     "name": "stderr",
     "output_type": "stream",
     "text": [
      "feature_fraction, val_score: 0.971773:  43%|####2     | 3/7 [00:00<00:00, 17.03it/s]"
     ]
    },
    {
     "name": "stdout",
     "output_type": "stream",
     "text": [
      "Training until validation scores don't improve for 100 rounds\n"
     ]
    },
    {
     "name": "stderr",
     "output_type": "stream",
     "text": [
      "feature_fraction, val_score: 0.971773:  86%|########5 | 6/7 [00:00<00:00, 18.02it/s]"
     ]
    },
    {
     "name": "stdout",
     "output_type": "stream",
     "text": [
      "[100]\tcv_agg's valid binary_logloss: 0.971773 + 0.299887\n",
      "Early stopping, best iteration is:\n",
      "[1]\tcv_agg's valid binary_logloss: 0.971773 + 0.299887\n",
      "Training until validation scores don't improve for 100 rounds\n",
      "[100]\tcv_agg's valid binary_logloss: 0.971773 + 0.299887\n",
      "Early stopping, best iteration is:\n",
      "[1]\tcv_agg's valid binary_logloss: 0.971773 + 0.299887\n",
      "Training until validation scores don't improve for 100 rounds\n",
      "[100]\tcv_agg's valid binary_logloss: 0.971773 + 0.299887\n",
      "Early stopping, best iteration is:\n",
      "[1]\tcv_agg's valid binary_logloss: 0.971773 + 0.299887\n",
      "Training until validation scores don't improve for 100 rounds\n"
     ]
    },
    {
     "name": "stderr",
     "output_type": "stream",
     "text": [
      "feature_fraction, val_score: 0.971773: 100%|##########| 7/7 [00:00<00:00, 17.66it/s]\n"
     ]
    },
    {
     "name": "stdout",
     "output_type": "stream",
     "text": [
      "[100]\tcv_agg's valid binary_logloss: 0.971773 + 0.299887\n",
      "Early stopping, best iteration is:\n",
      "[1]\tcv_agg's valid binary_logloss: 0.971773 + 0.299887\n"
     ]
    },
    {
     "name": "stderr",
     "output_type": "stream",
     "text": [
      "num_leaves, val_score: 0.971773:  10%|#         | 2/20 [00:00<00:01, 14.32it/s]"
     ]
    },
    {
     "name": "stdout",
     "output_type": "stream",
     "text": [
      "Training until validation scores don't improve for 100 rounds\n",
      "[100]\tcv_agg's valid binary_logloss: 0.971773 + 0.299887\n",
      "Early stopping, best iteration is:\n",
      "[1]\tcv_agg's valid binary_logloss: 0.971773 + 0.299887\n",
      "Training until validation scores don't improve for 100 rounds\n",
      "[100]\tcv_agg's valid binary_logloss: 0.971773 + 0.299887\n",
      "Early stopping, best iteration is:\n",
      "[1]\tcv_agg's valid binary_logloss: 0.971773 + 0.299887\n",
      "Training until validation scores don't improve for 100 rounds\n",
      "[100]\tcv_agg's valid binary_logloss: 0.971773 + 0.299887\n",
      "Early stopping, best iteration is:\n",
      "[1]\tcv_agg's valid binary_logloss: 0.971773 + 0.299887\n"
     ]
    },
    {
     "name": "stderr",
     "output_type": "stream",
     "text": [
      "num_leaves, val_score: 0.971773:  15%|#5        | 3/20 [00:00<00:01, 14.32it/s]"
     ]
    },
    {
     "name": "stdout",
     "output_type": "stream",
     "text": [
      "Training until validation scores don't improve for 100 rounds"
     ]
    },
    {
     "name": "stderr",
     "output_type": "stream",
     "text": [
      "num_leaves, val_score: 0.971773:  25%|##5       | 5/20 [00:00<00:01, 14.93it/s]"
     ]
    },
    {
     "name": "stdout",
     "output_type": "stream",
     "text": [
      "\n",
      "[100]\tcv_agg's valid binary_logloss: 0.971773 + 0.299887\n",
      "Early stopping, best iteration is:\n",
      "[1]\tcv_agg's valid binary_logloss: 0.971773 + 0.299887\n",
      "Training until validation scores don't improve for 100 rounds\n",
      "[100]\tcv_agg's valid binary_logloss: 0.971773 + 0.299887\n",
      "Early stopping, best iteration is:\n",
      "[1]\tcv_agg's valid binary_logloss: 0.971773 + 0.299887\n",
      "Training until validation scores don't improve for 100 rounds\n",
      "[100]\tcv_agg's valid binary_logloss: 0.971773 + 0.299887\n",
      "Early stopping, best iteration is:\n",
      "[1]\tcv_agg's valid binary_logloss: 0.971773 + 0.299887\n"
     ]
    },
    {
     "name": "stderr",
     "output_type": "stream",
     "text": [
      "num_leaves, val_score: 0.971773:  40%|####      | 8/20 [00:00<00:00, 13.66it/s]"
     ]
    },
    {
     "name": "stdout",
     "output_type": "stream",
     "text": [
      "Training until validation scores don't improve for 100 rounds\n",
      "[100]\tcv_agg's valid binary_logloss: 0.971773 + 0.299887\n",
      "Early stopping, best iteration is:\n",
      "[1]\tcv_agg's valid binary_logloss: 0.971773 + 0.299887\n",
      "Training until validation scores don't improve for 100 rounds\n",
      "[100]\tcv_agg's valid binary_logloss: 0.971773 + 0.299887\n",
      "Early stopping, best iteration is:\n",
      "[1]\tcv_agg's valid binary_logloss: 0.971773 + 0.299887\n",
      "Training until validation scores don't improve for 100 rounds\n"
     ]
    },
    {
     "name": "stderr",
     "output_type": "stream",
     "text": [
      "num_leaves, val_score: 0.971773:  55%|#####5    | 11/20 [00:00<00:00, 13.07it/s]"
     ]
    },
    {
     "name": "stdout",
     "output_type": "stream",
     "text": [
      "[100]\tcv_agg's valid binary_logloss: 0.971773 + 0.299887\n",
      "Early stopping, best iteration is:\n",
      "[1]\tcv_agg's valid binary_logloss: 0.971773 + 0.299887\n",
      "Training until validation scores don't improve for 100 rounds\n",
      "[100]\tcv_agg's valid binary_logloss: 0.971773 + 0.299887\n",
      "Early stopping, best iteration is:\n",
      "[1]\tcv_agg's valid binary_logloss: 0.971773 + 0.299887\n",
      "Training until validation scores don't improve for 100 rounds\n",
      "[100]\tcv_agg's valid binary_logloss: 0.971773 + 0.299887\n",
      "Early stopping, best iteration is:\n",
      "[1]\tcv_agg's valid binary_logloss: 0.971773 + 0.299887\n",
      "Training until validation scores don't improve for 100 rounds\n"
     ]
    },
    {
     "name": "stderr",
     "output_type": "stream",
     "text": [
      "num_leaves, val_score: 0.971773:  70%|#######   | 14/20 [00:01<00:00, 13.46it/s]"
     ]
    },
    {
     "name": "stdout",
     "output_type": "stream",
     "text": [
      "[100]\tcv_agg's valid binary_logloss: 0.971773 + 0.299887\n",
      "Early stopping, best iteration is:\n",
      "[1]\tcv_agg's valid binary_logloss: 0.971773 + 0.299887\n",
      "Training until validation scores don't improve for 100 rounds\n",
      "[100]\tcv_agg's valid binary_logloss: 0.971773 + 0.299887\n",
      "Early stopping, best iteration is:\n",
      "[1]\tcv_agg's valid binary_logloss: 0.971773 + 0.299887\n",
      "Training until validation scores don't improve for 100 rounds\n",
      "[100]\tcv_agg's valid binary_logloss: 0.971773 + 0.299887\n",
      "Early stopping, best iteration is:\n",
      "[1]\tcv_agg's valid binary_logloss: 0.971773 + 0.299887\n",
      "Training until validation scores don't improve for 100 rounds\n",
      "[100]\tcv_agg's valid binary_logloss: 0.971773 + 0.299887\n",
      "Early stopping, best iteration is:\n",
      "[1]\tcv_agg's valid binary_logloss: 0.971773 + 0.299887\n"
     ]
    },
    {
     "name": "stderr",
     "output_type": "stream",
     "text": [
      "num_leaves, val_score: 0.971773:  85%|########5 | 17/20 [00:01<00:00, 13.90it/s]"
     ]
    },
    {
     "name": "stdout",
     "output_type": "stream",
     "text": [
      "Training until validation scores don't improve for 100 rounds\n",
      "[100]\tcv_agg's valid binary_logloss: 0.971773 + 0.299887\n",
      "Early stopping, best iteration is:\n",
      "[1]\tcv_agg's valid binary_logloss: 0.971773 + 0.299887\n",
      "Training until validation scores don't improve for 100 rounds\n",
      "[100]\tcv_agg's valid binary_logloss: 0.971773 + 0.299887\n",
      "Early stopping, best iteration is:\n",
      "[1]\tcv_agg's valid binary_logloss: 0.971773 + 0.299887\n",
      "Training until validation scores don't improve for 100 rounds\n",
      "[100]\tcv_agg's valid binary_logloss: 0.971773 + 0.299887\n",
      "Early stopping, best iteration is:\n",
      "[1]\tcv_agg's valid binary_logloss: 0.971773 + 0.299887\n"
     ]
    },
    {
     "name": "stderr",
     "output_type": "stream",
     "text": [
      "num_leaves, val_score: 0.971773: 100%|##########| 20/20 [00:01<00:00, 13.99it/s]\n"
     ]
    },
    {
     "name": "stdout",
     "output_type": "stream",
     "text": [
      "Training until validation scores don't improve for 100 rounds\n",
      "[100]\tcv_agg's valid binary_logloss: 0.971773 + 0.299887\n",
      "Early stopping, best iteration is:\n",
      "[1]\tcv_agg's valid binary_logloss: 0.971773 + 0.299887\n",
      "Training until validation scores don't improve for 100 rounds\n",
      "[100]\tcv_agg's valid binary_logloss: 0.971773 + 0.299887\n",
      "Early stopping, best iteration is:\n",
      "[1]\tcv_agg's valid binary_logloss: 0.971773 + 0.299887\n"
     ]
    },
    {
     "name": "stderr",
     "output_type": "stream",
     "text": [
      "bagging, val_score: 0.971773:   0%|          | 0/10 [00:00<?, ?it/s]"
     ]
    },
    {
     "name": "stdout",
     "output_type": "stream",
     "text": [
      "Training until validation scores don't improve for 100 rounds\n",
      "[100]\tcv_agg's valid binary_logloss: 0.971773 + 0.299887\n",
      "Early stopping, best iteration is:\n",
      "[1]\tcv_agg's valid binary_logloss: 0.971773 + 0.299887\n"
     ]
    },
    {
     "name": "stderr",
     "output_type": "stream",
     "text": [
      "bagging, val_score: 0.971773:  20%|##        | 2/10 [00:00<00:00, 12.94it/s]"
     ]
    },
    {
     "name": "stdout",
     "output_type": "stream",
     "text": [
      "Training until validation scores don't improve for 100 rounds\n",
      "[100]\tcv_agg's valid binary_logloss: 0.971773 + 0.299887\n",
      "Early stopping, best iteration is:\n",
      "[1]\tcv_agg's valid binary_logloss: 0.971773 + 0.299887\n",
      "Training until validation scores don't improve for 100 rounds\n"
     ]
    },
    {
     "name": "stderr",
     "output_type": "stream",
     "text": [
      "bagging, val_score: 0.971773:  30%|###       | 3/10 [00:00<00:00, 12.94it/s]"
     ]
    },
    {
     "name": "stdout",
     "output_type": "stream",
     "text": [
      "[100]\tcv_agg's valid binary_logloss: 0.971773 + 0.299887\n",
      "Early stopping, best iteration is:\n",
      "[1]\tcv_agg's valid binary_logloss: 0.971773 + 0.299887\n",
      "Training until validation scores don't improve for 100 rounds\n"
     ]
    },
    {
     "name": "stderr",
     "output_type": "stream",
     "text": [
      "bagging, val_score: 0.971773:  50%|#####     | 5/10 [00:00<00:00, 12.70it/s]"
     ]
    },
    {
     "name": "stdout",
     "output_type": "stream",
     "text": [
      "[100]\tcv_agg's valid binary_logloss: 0.971773 + 0.299887\n",
      "Early stopping, best iteration is:\n",
      "[1]\tcv_agg's valid binary_logloss: 0.971773 + 0.299887\n",
      "Training until validation scores don't improve for 100 rounds\n",
      "[100]\tcv_agg's valid binary_logloss: 0.971773 + 0.299887\n",
      "Early stopping, best iteration is:\n",
      "[1]\tcv_agg's valid binary_logloss: 0.971773 + 0.299887\n",
      "Training until validation scores don't improve for 100 rounds\n"
     ]
    },
    {
     "name": "stderr",
     "output_type": "stream",
     "text": [
      "bagging, val_score: 0.971773:  60%|######    | 6/10 [00:00<00:00, 12.66it/s]"
     ]
    },
    {
     "name": "stdout",
     "output_type": "stream",
     "text": [
      "[100]\tcv_agg's valid binary_logloss: 0.971773 + 0.299887\n",
      "Early stopping, best iteration is:\n",
      "[1]\tcv_agg's valid binary_logloss: 0.971773 + 0.299887\n"
     ]
    },
    {
     "name": "stderr",
     "output_type": "stream",
     "text": [
      "bagging, val_score: 0.971773:  80%|########  | 8/10 [00:00<00:00, 12.23it/s]"
     ]
    },
    {
     "name": "stdout",
     "output_type": "stream",
     "text": [
      "Training until validation scores don't improve for 100 rounds\n",
      "[100]\tcv_agg's valid binary_logloss: 0.971773 + 0.299887\n",
      "Early stopping, best iteration is:\n",
      "[1]\tcv_agg's valid binary_logloss: 0.971773 + 0.299887\n",
      "Training until validation scores don't improve for 100 rounds\n",
      "[100]\tcv_agg's valid binary_logloss: 0.971773 + 0.299887\n",
      "Early stopping, best iteration is:\n",
      "[1]\tcv_agg's valid binary_logloss: 0.971773 + 0.299887\n",
      "Training until validation scores don't improve for 100 rounds\n"
     ]
    },
    {
     "name": "stderr",
     "output_type": "stream",
     "text": [
      "bagging, val_score: 0.971773: 100%|##########| 10/10 [00:00<00:00, 12.03it/s]\n"
     ]
    },
    {
     "name": "stdout",
     "output_type": "stream",
     "text": [
      "[100]\tcv_agg's valid binary_logloss: 0.971773 + 0.299887\n",
      "Early stopping, best iteration is:\n",
      "[1]\tcv_agg's valid binary_logloss: 0.971773 + 0.299887\n",
      "Training until validation scores don't improve for 100 rounds\n",
      "[100]\tcv_agg's valid binary_logloss: 0.971773 + 0.299887\n",
      "Early stopping, best iteration is:\n",
      "[1]\tcv_agg's valid binary_logloss: 0.971773 + 0.299887\n"
     ]
    },
    {
     "name": "stderr",
     "output_type": "stream",
     "text": [
      "feature_fraction_stage2, val_score: 0.971773:   0%|          | 0/3 [00:00<?, ?it/s]"
     ]
    },
    {
     "name": "stdout",
     "output_type": "stream",
     "text": [
      "Training until validation scores don't improve for 100 rounds"
     ]
    },
    {
     "name": "stderr",
     "output_type": "stream",
     "text": [
      "feature_fraction_stage2, val_score: 0.971773:  33%|###3      | 1/3 [00:00<00:00, 15.66it/s]"
     ]
    },
    {
     "name": "stdout",
     "output_type": "stream",
     "text": [
      "\n",
      "[100]\tcv_agg's valid binary_logloss: 0.971773 + 0.299887\n",
      "Early stopping, best iteration is:\n",
      "[1]\tcv_agg's valid binary_logloss: 0.971773 + 0.299887\n",
      "Training until validation scores don't improve for 100 rounds\n"
     ]
    },
    {
     "name": "stderr",
     "output_type": "stream",
     "text": [
      "feature_fraction_stage2, val_score: 0.971773: 100%|##########| 3/3 [00:00<00:00, 16.81it/s]\n"
     ]
    },
    {
     "name": "stdout",
     "output_type": "stream",
     "text": [
      "[100]\tcv_agg's valid binary_logloss: 0.971773 + 0.299887\n",
      "Early stopping, best iteration is:\n",
      "[1]\tcv_agg's valid binary_logloss: 0.971773 + 0.299887\n",
      "Training until validation scores don't improve for 100 rounds\n",
      "[100]\tcv_agg's valid binary_logloss: 0.971773 + 0.299887\n",
      "Early stopping, best iteration is:\n",
      "[1]\tcv_agg's valid binary_logloss: 0.971773 + 0.299887\n"
     ]
    },
    {
     "name": "stderr",
     "output_type": "stream",
     "text": [
      "regularization_factors, val_score: 0.971773:   5%|5         | 1/20 [00:00<00:01, 11.89it/s]"
     ]
    },
    {
     "name": "stdout",
     "output_type": "stream",
     "text": [
      "Training until validation scores don't improve for 100 rounds\n",
      "[100]\tcv_agg's valid binary_logloss: 0.971773 + 0.299887\n",
      "Early stopping, best iteration is:\n",
      "[1]\tcv_agg's valid binary_logloss: 0.971773 + 0.299887\n",
      "Training until validation scores don't improve for 100 rounds\n"
     ]
    },
    {
     "name": "stderr",
     "output_type": "stream",
     "text": [
      "regularization_factors, val_score: 0.971773:  10%|#         | 2/20 [00:00<00:01, 13.12it/s]"
     ]
    },
    {
     "name": "stdout",
     "output_type": "stream",
     "text": [
      "[100]\tcv_agg's valid binary_logloss: 0.971773 + 0.299887\n",
      "Early stopping, best iteration is:\n",
      "[1]\tcv_agg's valid binary_logloss: 0.971773 + 0.299887\n",
      "Training until validation scores don't improve for 100 rounds\n"
     ]
    },
    {
     "name": "stderr",
     "output_type": "stream",
     "text": [
      "regularization_factors, val_score: 0.971773:  20%|##        | 4/20 [00:00<00:01, 12.82it/s]"
     ]
    },
    {
     "name": "stdout",
     "output_type": "stream",
     "text": [
      "[100]\tcv_agg's valid binary_logloss: 0.971773 + 0.299887\n",
      "Early stopping, best iteration is:\n",
      "[1]\tcv_agg's valid binary_logloss: 0.971773 + 0.299887\n",
      "Training until validation scores don't improve for 100 rounds\n",
      "[100]\tcv_agg's valid binary_logloss: 0.971773 + 0.299887\n",
      "Early stopping, best iteration is:\n",
      "[1]\tcv_agg's valid binary_logloss: 0.971773 + 0.299887\n",
      "Training until validation scores don't improve for 100 rounds\n"
     ]
    },
    {
     "name": "stderr",
     "output_type": "stream",
     "text": [
      "regularization_factors, val_score: 0.971773:  25%|##5       | 5/20 [00:00<00:01, 12.82it/s]"
     ]
    },
    {
     "name": "stdout",
     "output_type": "stream",
     "text": [
      "[100]\tcv_agg's valid binary_logloss: 0.971773 + 0.299887\n",
      "Early stopping, best iteration is:\n",
      "[1]\tcv_agg's valid binary_logloss: 0.971773 + 0.299887\n"
     ]
    },
    {
     "name": "stderr",
     "output_type": "stream",
     "text": [
      "regularization_factors, val_score: 0.971773:  35%|###5      | 7/20 [00:00<00:01, 12.03it/s]"
     ]
    },
    {
     "name": "stdout",
     "output_type": "stream",
     "text": [
      "Training until validation scores don't improve for 100 rounds\n",
      "[100]\tcv_agg's valid binary_logloss: 0.971773 + 0.299887\n",
      "Early stopping, best iteration is:\n",
      "[1]\tcv_agg's valid binary_logloss: 0.971773 + 0.299887\n",
      "Training until validation scores don't improve for 100 rounds\n",
      "[100]\tcv_agg's valid binary_logloss: 0.971773 + 0.299887\n",
      "Early stopping, best iteration is:\n",
      "[1]\tcv_agg's valid binary_logloss: 0.971773 + 0.299887\n",
      "Training until validation scores don't improve for 100 rounds\n"
     ]
    },
    {
     "name": "stderr",
     "output_type": "stream",
     "text": [
      "regularization_factors, val_score: 0.971773:  50%|#####     | 10/20 [00:00<00:00, 12.40it/s]"
     ]
    },
    {
     "name": "stdout",
     "output_type": "stream",
     "text": [
      "[100]\tcv_agg's valid binary_logloss: 0.971773 + 0.299887\n",
      "Early stopping, best iteration is:\n",
      "[1]\tcv_agg's valid binary_logloss: 0.971773 + 0.299887\n",
      "Training until validation scores don't improve for 100 rounds\n",
      "[100]\tcv_agg's valid binary_logloss: 0.971773 + 0.299887\n",
      "Early stopping, best iteration is:\n",
      "[1]\tcv_agg's valid binary_logloss: 0.971773 + 0.299887\n",
      "Training until validation scores don't improve for 100 rounds\n",
      "[100]\tcv_agg's valid binary_logloss: 0.971773 + 0.299887\n",
      "Early stopping, best iteration is:\n",
      "[1]\tcv_agg's valid binary_logloss: 0.971773 + 0.299887\n",
      "Training until validation scores don't improve for 100 rounds\n"
     ]
    },
    {
     "name": "stderr",
     "output_type": "stream",
     "text": [
      "regularization_factors, val_score: 0.971773:  65%|######5   | 13/20 [00:01<00:00, 12.68it/s]"
     ]
    },
    {
     "name": "stdout",
     "output_type": "stream",
     "text": [
      "[100]\tcv_agg's valid binary_logloss: 0.971773 + 0.299887\n",
      "Early stopping, best iteration is:\n",
      "[1]\tcv_agg's valid binary_logloss: 0.971773 + 0.299887\n",
      "Training until validation scores don't improve for 100 rounds\n",
      "[100]\tcv_agg's valid binary_logloss: 0.971773 + 0.299887\n",
      "Early stopping, best iteration is:\n",
      "[1]\tcv_agg's valid binary_logloss: 0.971773 + 0.299887\n",
      "Training until validation scores don't improve for 100 rounds\n",
      "[100]\tcv_agg's valid binary_logloss: 0.971773 + 0.299887\n",
      "Early stopping, best iteration is:\n",
      "[1]\tcv_agg's valid binary_logloss: 0.971773 + 0.299887\n",
      "Training until validation scores don't improve for 100 rounds\n",
      "[100]\tcv_agg's valid binary_logloss: 0.971773 + 0.299887\n",
      "Early stopping, best iteration is:\n",
      "[1]\tcv_agg's valid binary_logloss: 0.971773 + 0.299887\n"
     ]
    },
    {
     "name": "stderr",
     "output_type": "stream",
     "text": [
      "regularization_factors, val_score: 0.971773:  80%|########  | 16/20 [00:01<00:00, 13.50it/s]"
     ]
    },
    {
     "name": "stdout",
     "output_type": "stream",
     "text": [
      "Training until validation scores don't improve for 100 rounds\n",
      "[100]\tcv_agg's valid binary_logloss: 0.971773 + 0.299887\n",
      "Early stopping, best iteration is:\n",
      "[1]\tcv_agg's valid binary_logloss: 0.971773 + 0.299887\n",
      "Training until validation scores don't improve for 100 rounds\n",
      "[100]\tcv_agg's valid binary_logloss: 0.971773 + 0.299887\n",
      "Early stopping, best iteration is:\n",
      "[1]\tcv_agg's valid binary_logloss: 0.971773 + 0.299887\n",
      "Training until validation scores don't improve for 100 rounds\n"
     ]
    },
    {
     "name": "stderr",
     "output_type": "stream",
     "text": [
      "regularization_factors, val_score: 0.971773:  95%|#########5| 19/20 [00:01<00:00, 13.75it/s]"
     ]
    },
    {
     "name": "stdout",
     "output_type": "stream",
     "text": [
      "[100]\tcv_agg's valid binary_logloss: 0.971773 + 0.299887\n",
      "Early stopping, best iteration is:\n",
      "[1]\tcv_agg's valid binary_logloss: 0.971773 + 0.299887\n",
      "Training until validation scores don't improve for 100 rounds\n",
      "[100]\tcv_agg's valid binary_logloss: 0.971773 + 0.299887\n",
      "Early stopping, best iteration is:\n",
      "[1]\tcv_agg's valid binary_logloss: 0.971773 + 0.299887\n",
      "Training until validation scores don't improve for 100 rounds\n",
      "[100]\tcv_agg's valid binary_logloss: 0.971773 + 0.299887\n",
      "Early stopping, best iteration is:\n",
      "[1]\tcv_agg's valid binary_logloss: 0.971773 + 0.299887\n",
      "Training until validation scores don't improve for 100 rounds\n"
     ]
    },
    {
     "name": "stderr",
     "output_type": "stream",
     "text": [
      "regularization_factors, val_score: 0.971773: 100%|##########| 20/20 [00:01<00:00, 13.18it/s]\n"
     ]
    },
    {
     "name": "stdout",
     "output_type": "stream",
     "text": [
      "[100]\tcv_agg's valid binary_logloss: 0.971773 + 0.299887\n",
      "Early stopping, best iteration is:\n",
      "[1]\tcv_agg's valid binary_logloss: 0.971773 + 0.299887\n"
     ]
    },
    {
     "name": "stderr",
     "output_type": "stream",
     "text": [
      "min_child_samples, val_score: 0.971773:  40%|####      | 2/5 [00:00<00:00, 18.14it/s]"
     ]
    },
    {
     "name": "stdout",
     "output_type": "stream",
     "text": [
      "Training until validation scores don't improve for 100 rounds\n",
      "[100]\tcv_agg's valid binary_logloss: 0.971773 + 0.299887\n",
      "Early stopping, best iteration is:\n",
      "[1]\tcv_agg's valid binary_logloss: 0.971773 + 0.299887\n",
      "Training until validation scores don't improve for 100 rounds\n",
      "[100]\tcv_agg's valid binary_logloss: 0.971773 + 0.299887\n",
      "Early stopping, best iteration is:\n",
      "[1]\tcv_agg's valid binary_logloss: 0.971773 + 0.299887\n",
      "Training until validation scores don't improve for 100 rounds\n"
     ]
    },
    {
     "name": "stderr",
     "output_type": "stream",
     "text": [
      "min_child_samples, val_score: 0.964331: 100%|##########| 5/5 [00:00<00:00, 13.38it/s]"
     ]
    },
    {
     "name": "stdout",
     "output_type": "stream",
     "text": [
      "[100]\tcv_agg's valid binary_logloss: 2.88715 + 1.94142\n",
      "Early stopping, best iteration is:\n",
      "[1]\tcv_agg's valid binary_logloss: 0.972723 + 0.287474\n",
      "Training until validation scores don't improve for 100 rounds\n",
      "[100]\tcv_agg's valid binary_logloss: 1.30644 + 0.419673\n",
      "Early stopping, best iteration is:\n",
      "[1]\tcv_agg's valid binary_logloss: 0.964331 + 0.318146\n",
      "Training until validation scores don't improve for 100 rounds\n",
      "[100]\tcv_agg's valid binary_logloss: 0.971773 + 0.299887\n",
      "Early stopping, best iteration is:\n",
      "[1]\tcv_agg's valid binary_logloss: 0.971773 + 0.299887\n"
     ]
    },
    {
     "name": "stderr",
     "output_type": "stream",
     "text": [
      "\n"
     ]
    },
    {
     "name": "stdout",
     "output_type": "stream",
     "text": [
      "{'accuracy': 0.631578947368421, 'balanced_accuracy': np.float64(0.6136363636363636), 'f1': np.float64(0.5333333333333333), 'precision': np.float64(0.5714285714285714), 'recall': np.float64(0.5), 'specificity': np.float64(0.7272727272727273), 'ROC_AUC': np.float64(0.6136363636363635), 'MCC': np.float64(0.2326210525996177)}\n"
     ]
    },
    {
     "name": "stderr",
     "output_type": "stream",
     "text": [
      "feature_fraction, val_score: 0.933609:  29%|##8       | 2/7 [00:00<00:00, 17.19it/s]"
     ]
    },
    {
     "name": "stdout",
     "output_type": "stream",
     "text": [
      "Training until validation scores don't improve for 100 rounds\n",
      "[100]\tcv_agg's valid binary_logloss: 0.933609 + 0.305275\n",
      "Early stopping, best iteration is:\n",
      "[1]\tcv_agg's valid binary_logloss: 0.933609 + 0.305275\n",
      "Training until validation scores don't improve for 100 rounds\n",
      "[100]\tcv_agg's valid binary_logloss: 0.933609 + 0.305275\n",
      "Early stopping, best iteration is:\n",
      "[1]\tcv_agg's valid binary_logloss: 0.933609 + 0.305275\n",
      "Training until validation scores don't improve for 100 rounds\n",
      "[100]\tcv_agg's valid binary_logloss: 0.933609 + 0.305275\n",
      "Early stopping, best iteration is:\n",
      "[1]\tcv_agg's valid binary_logloss: 0.933609 + 0.305275\n"
     ]
    },
    {
     "name": "stderr",
     "output_type": "stream",
     "text": [
      "feature_fraction, val_score: 0.933609:  43%|####2     | 3/7 [00:00<00:00, 17.19it/s]"
     ]
    },
    {
     "name": "stdout",
     "output_type": "stream",
     "text": [
      "Training until validation scores don't improve for 100 rounds\n"
     ]
    },
    {
     "name": "stderr",
     "output_type": "stream",
     "text": [
      "feature_fraction, val_score: 0.933609:  86%|########5 | 6/7 [00:00<00:00, 17.06it/s]"
     ]
    },
    {
     "name": "stdout",
     "output_type": "stream",
     "text": [
      "[100]\tcv_agg's valid binary_logloss: 0.933609 + 0.305275\n",
      "Early stopping, best iteration is:\n",
      "[1]\tcv_agg's valid binary_logloss: 0.933609 + 0.305275\n",
      "Training until validation scores don't improve for 100 rounds\n",
      "[100]\tcv_agg's valid binary_logloss: 0.933609 + 0.305275\n",
      "Early stopping, best iteration is:\n",
      "[1]\tcv_agg's valid binary_logloss: 0.933609 + 0.305275\n",
      "Training until validation scores don't improve for 100 rounds\n",
      "[100]\tcv_agg's valid binary_logloss: 0.933609 + 0.305275\n",
      "Early stopping, best iteration is:\n",
      "[1]\tcv_agg's valid binary_logloss: 0.933609 + 0.305275\n",
      "Training until validation scores don't improve for 100 rounds\n",
      "[100]\tcv_agg's valid binary_logloss: 0.933609 + 0.305275"
     ]
    },
    {
     "name": "stderr",
     "output_type": "stream",
     "text": [
      "feature_fraction, val_score: 0.933609: 100%|##########| 7/7 [00:00<00:00, 16.78it/s]\n"
     ]
    },
    {
     "name": "stdout",
     "output_type": "stream",
     "text": [
      "\n",
      "Early stopping, best iteration is:\n",
      "[1]\tcv_agg's valid binary_logloss: 0.933609 + 0.305275\n"
     ]
    },
    {
     "name": "stderr",
     "output_type": "stream",
     "text": [
      "num_leaves, val_score: 0.933609:  15%|#5        | 3/20 [00:00<00:01, 16.98it/s]"
     ]
    },
    {
     "name": "stdout",
     "output_type": "stream",
     "text": [
      "Training until validation scores don't improve for 100 rounds\n",
      "[100]\tcv_agg's valid binary_logloss: 0.933609 + 0.305275\n",
      "Early stopping, best iteration is:\n",
      "[1]\tcv_agg's valid binary_logloss: 0.933609 + 0.305275\n",
      "Training until validation scores don't improve for 100 rounds\n",
      "[100]\tcv_agg's valid binary_logloss: 0.933609 + 0.305275\n",
      "Early stopping, best iteration is:\n",
      "[1]\tcv_agg's valid binary_logloss: 0.933609 + 0.305275\n",
      "Training until validation scores don't improve for 100 rounds\n",
      "[100]\tcv_agg's valid binary_logloss: 0.933609 + 0.305275\n",
      "Early stopping, best iteration is:\n",
      "[1]\tcv_agg's valid binary_logloss: 0.933609 + 0.305275\n",
      "Training until validation scores don't improve for 100 rounds\n"
     ]
    },
    {
     "name": "stderr",
     "output_type": "stream",
     "text": [
      "num_leaves, val_score: 0.933609:  30%|###       | 6/20 [00:00<00:00, 15.33it/s]"
     ]
    },
    {
     "name": "stdout",
     "output_type": "stream",
     "text": [
      "[100]\tcv_agg's valid binary_logloss: 0.933609 + 0.305275\n",
      "Early stopping, best iteration is:\n",
      "[1]\tcv_agg's valid binary_logloss: 0.933609 + 0.305275\n",
      "Training until validation scores don't improve for 100 rounds\n",
      "[100]\tcv_agg's valid binary_logloss: 0.933609 + 0.305275\n",
      "Early stopping, best iteration is:\n",
      "[1]\tcv_agg's valid binary_logloss: 0.933609 + 0.305275\n",
      "Training until validation scores don't improve for 100 rounds\n",
      "[100]\tcv_agg's valid binary_logloss: 0.933609 + 0.305275\n",
      "Early stopping, best iteration is:\n",
      "[1]\tcv_agg's valid binary_logloss: 0.933609 + 0.305275\n",
      "Training until validation scores don't improve for 100 rounds\n",
      "[100]\tcv_agg's valid binary_logloss: 0.933609 + 0.305275\n",
      "Early stopping, best iteration is:\n",
      "[1]\tcv_agg's valid binary_logloss: 0.933609 + 0.305275\n"
     ]
    },
    {
     "name": "stderr",
     "output_type": "stream",
     "text": [
      "num_leaves, val_score: 0.933609:  45%|####5     | 9/20 [00:00<00:00, 15.08it/s]"
     ]
    },
    {
     "name": "stdout",
     "output_type": "stream",
     "text": [
      "Training until validation scores don't improve for 100 rounds\n",
      "[100]\tcv_agg's valid binary_logloss: 0.933609 + 0.305275\n",
      "Early stopping, best iteration is:\n",
      "[1]\tcv_agg's valid binary_logloss: 0.933609 + 0.305275\n",
      "Training until validation scores don't improve for 100 rounds\n",
      "[100]\tcv_agg's valid binary_logloss: 0.933609 + 0.305275\n",
      "Early stopping, best iteration is:\n",
      "[1]\tcv_agg's valid binary_logloss: 0.933609 + 0.305275\n",
      "Training until validation scores don't improve for 100 rounds\n",
      "[100]\tcv_agg's valid binary_logloss: 0.933609 + 0.305275\n",
      "Early stopping, best iteration is:\n",
      "[1]\tcv_agg's valid binary_logloss: 0.933609 + 0.305275\n"
     ]
    },
    {
     "name": "stderr",
     "output_type": "stream",
     "text": [
      "num_leaves, val_score: 0.933609:  60%|######    | 12/20 [00:00<00:00, 14.57it/s]"
     ]
    },
    {
     "name": "stdout",
     "output_type": "stream",
     "text": [
      "Training until validation scores don't improve for 100 rounds\n",
      "[100]\tcv_agg's valid binary_logloss: 0.933609 + 0.305275\n",
      "Early stopping, best iteration is:\n",
      "[1]\tcv_agg's valid binary_logloss: 0.933609 + 0.305275\n",
      "Training until validation scores don't improve for 100 rounds\n",
      "[100]\tcv_agg's valid binary_logloss: 0.933609 + 0.305275\n",
      "Early stopping, best iteration is:\n",
      "[1]\tcv_agg's valid binary_logloss: 0.933609 + 0.305275\n",
      "Training until validation scores don't improve for 100 rounds\n",
      "[100]\tcv_agg's valid binary_logloss: 0.933609 + 0.305275\n",
      "Early stopping, best iteration is:\n",
      "[1]\tcv_agg's valid binary_logloss: 0.933609 + 0.305275\n"
     ]
    },
    {
     "name": "stderr",
     "output_type": "stream",
     "text": [
      "num_leaves, val_score: 0.933609:  75%|#######5  | 15/20 [00:01<00:00, 14.03it/s]"
     ]
    },
    {
     "name": "stdout",
     "output_type": "stream",
     "text": [
      "Training until validation scores don't improve for 100 rounds\n",
      "[100]\tcv_agg's valid binary_logloss: 0.933609 + 0.305275\n",
      "Early stopping, best iteration is:\n",
      "[1]\tcv_agg's valid binary_logloss: 0.933609 + 0.305275\n",
      "Training until validation scores don't improve for 100 rounds\n",
      "[100]\tcv_agg's valid binary_logloss: 0.933609 + 0.305275\n",
      "Early stopping, best iteration is:\n",
      "[1]\tcv_agg's valid binary_logloss: 0.933609 + 0.305275\n",
      "Training until validation scores don't improve for 100 rounds\n",
      "[100]\tcv_agg's valid binary_logloss: 0.933609 + 0.305275\n",
      "Early stopping, best iteration is:\n",
      "[1]\tcv_agg's valid binary_logloss: 0.933609 + 0.305275\n"
     ]
    },
    {
     "name": "stderr",
     "output_type": "stream",
     "text": [
      "num_leaves, val_score: 0.933609:  90%|######### | 18/20 [00:01<00:00, 14.13it/s]"
     ]
    },
    {
     "name": "stdout",
     "output_type": "stream",
     "text": [
      "Training until validation scores don't improve for 100 rounds\n",
      "[100]\tcv_agg's valid binary_logloss: 0.933609 + 0.305275\n",
      "Early stopping, best iteration is:\n",
      "[1]\tcv_agg's valid binary_logloss: 0.933609 + 0.305275\n",
      "Training until validation scores don't improve for 100 rounds\n",
      "[100]\tcv_agg's valid binary_logloss: 0.933609 + 0.305275\n",
      "Early stopping, best iteration is:\n",
      "[1]\tcv_agg's valid binary_logloss: 0.933609 + 0.305275\n",
      "Training until validation scores don't improve for 100 rounds\n",
      "[100]\tcv_agg's valid binary_logloss: 0.933609 + 0.305275\n",
      "Early stopping, best iteration is:\n",
      "[1]\tcv_agg's valid binary_logloss: 0.933609 + 0.305275\n"
     ]
    },
    {
     "name": "stderr",
     "output_type": "stream",
     "text": [
      "num_leaves, val_score: 0.933609: 100%|##########| 20/20 [00:01<00:00, 14.43it/s]\n"
     ]
    },
    {
     "name": "stdout",
     "output_type": "stream",
     "text": [
      "Training until validation scores don't improve for 100 rounds\n",
      "[100]\tcv_agg's valid binary_logloss: 0.933609 + 0.305275\n",
      "Early stopping, best iteration is:\n",
      "[1]\tcv_agg's valid binary_logloss: 0.933609 + 0.305275\n"
     ]
    },
    {
     "name": "stderr",
     "output_type": "stream",
     "text": [
      "bagging, val_score: 0.933609:  10%|#         | 1/10 [00:00<00:00, 12.43it/s]"
     ]
    },
    {
     "name": "stdout",
     "output_type": "stream",
     "text": [
      "Training until validation scores don't improve for 100 rounds\n",
      "[100]\tcv_agg's valid binary_logloss: 0.933609 + 0.305275\n",
      "Early stopping, best iteration is:\n",
      "[1]\tcv_agg's valid binary_logloss: 0.933609 + 0.305275\n",
      "Training until validation scores don't improve for 100 rounds\n"
     ]
    },
    {
     "name": "stderr",
     "output_type": "stream",
     "text": [
      "bagging, val_score: 0.933609:  20%|##        | 2/10 [00:00<00:00, 11.86it/s]"
     ]
    },
    {
     "name": "stdout",
     "output_type": "stream",
     "text": [
      "[100]\tcv_agg's valid binary_logloss: 0.933609 + 0.305275\n",
      "Early stopping, best iteration is:\n",
      "[1]\tcv_agg's valid binary_logloss: 0.933609 + 0.305275\n",
      "Training until validation scores don't improve for 100 rounds\n"
     ]
    },
    {
     "name": "stderr",
     "output_type": "stream",
     "text": [
      "bagging, val_score: 0.933609:  30%|###       | 3/10 [00:00<00:00, 11.86it/s]"
     ]
    },
    {
     "name": "stdout",
     "output_type": "stream",
     "text": [
      "[100]\tcv_agg's valid binary_logloss: 0.933609 + 0.305275\n",
      "Early stopping, best iteration is:\n",
      "[1]\tcv_agg's valid binary_logloss: 0.933609 + 0.305275\n",
      "Training until validation scores don't improve for 100 rounds\n",
      "[100]\tcv_agg's valid binary_logloss: 0.933609 + 0.305275\n",
      "Early stopping, best iteration is:\n",
      "[1]\tcv_agg's valid binary_logloss: 0.933609 + 0.305275\n"
     ]
    },
    {
     "name": "stderr",
     "output_type": "stream",
     "text": [
      "bagging, val_score: 0.933609:  40%|####      | 4/10 [00:00<00:00, 10.43it/s]"
     ]
    },
    {
     "name": "stdout",
     "output_type": "stream",
     "text": [
      "Training until validation scores don't improve for 100 rounds\n",
      "[100]\tcv_agg's valid binary_logloss: 0.933609 + 0.305275\n",
      "Early stopping, best iteration is:\n",
      "[1]\tcv_agg's valid binary_logloss: 0.933609 + 0.305275\n"
     ]
    },
    {
     "name": "stderr",
     "output_type": "stream",
     "text": [
      "bagging, val_score: 0.933609:  60%|######    | 6/10 [00:00<00:00, 10.70it/s]"
     ]
    },
    {
     "name": "stdout",
     "output_type": "stream",
     "text": [
      "Training until validation scores don't improve for 100 rounds\n",
      "[100]\tcv_agg's valid binary_logloss: 0.933609 + 0.305275\n",
      "Early stopping, best iteration is:\n",
      "[1]\tcv_agg's valid binary_logloss: 0.933609 + 0.305275\n",
      "Training until validation scores don't improve for 100 rounds\n"
     ]
    },
    {
     "name": "stderr",
     "output_type": "stream",
     "text": [
      "bagging, val_score: 0.933609:  70%|#######   | 7/10 [00:00<00:00, 10.70it/s]"
     ]
    },
    {
     "name": "stdout",
     "output_type": "stream",
     "text": [
      "[100]\tcv_agg's valid binary_logloss: 0.933609 + 0.305275\n",
      "Early stopping, best iteration is:\n",
      "[1]\tcv_agg's valid binary_logloss: 0.933609 + 0.305275\n",
      "Training until validation scores don't improve for 100 rounds\n"
     ]
    },
    {
     "name": "stderr",
     "output_type": "stream",
     "text": [
      "bagging, val_score: 0.933609:  90%|######### | 9/10 [00:00<00:00, 10.76it/s]"
     ]
    },
    {
     "name": "stdout",
     "output_type": "stream",
     "text": [
      "[100]\tcv_agg's valid binary_logloss: 0.933609 + 0.305275\n",
      "Early stopping, best iteration is:\n",
      "[1]\tcv_agg's valid binary_logloss: 0.933609 + 0.305275\n",
      "Training until validation scores don't improve for 100 rounds\n",
      "[100]\tcv_agg's valid binary_logloss: 0.933609 + 0.305275\n",
      "Early stopping, best iteration is:\n",
      "[1]\tcv_agg's valid binary_logloss: 0.933609 + 0.305275\n",
      "Training until validation scores don't improve for 100 rounds\n",
      "[100]\tcv_agg's valid binary_logloss: 0.933609 + 0.305275\n",
      "Early stopping, best iteration is:\n",
      "[1]\tcv_agg's valid binary_logloss: 0.933609 + 0.305275\n"
     ]
    },
    {
     "name": "stderr",
     "output_type": "stream",
     "text": [
      "bagging, val_score: 0.933609: 100%|##########| 10/10 [00:00<00:00, 10.78it/s]\n",
      "feature_fraction_stage2, val_score: 0.933609:  33%|###3      | 1/3 [00:00<00:00, 15.90it/s]"
     ]
    },
    {
     "name": "stdout",
     "output_type": "stream",
     "text": [
      "Training until validation scores don't improve for 100 rounds\n",
      "[100]\tcv_agg's valid binary_logloss: 0.933609 + 0.305275\n",
      "Early stopping, best iteration is:\n",
      "[1]\tcv_agg's valid binary_logloss: 0.933609 + 0.305275\n",
      "Training until validation scores don't improve for 100 rounds\n",
      "[100]\tcv_agg's valid binary_logloss: 0.933609 + 0.305275\n",
      "Early stopping, best iteration is:\n",
      "[1]\tcv_agg's valid binary_logloss: 0.933609 + 0.305275\n"
     ]
    },
    {
     "name": "stderr",
     "output_type": "stream",
     "text": [
      "feature_fraction_stage2, val_score: 0.933609: 100%|##########| 3/3 [00:00<00:00, 17.80it/s]\n"
     ]
    },
    {
     "name": "stdout",
     "output_type": "stream",
     "text": [
      "Training until validation scores don't improve for 100 rounds\n",
      "[100]\tcv_agg's valid binary_logloss: 0.933609 + 0.305275\n",
      "Early stopping, best iteration is:\n",
      "[1]\tcv_agg's valid binary_logloss: 0.933609 + 0.305275\n"
     ]
    },
    {
     "name": "stderr",
     "output_type": "stream",
     "text": [
      "regularization_factors, val_score: 0.933609:   0%|          | 0/20 [00:00<?, ?it/s]"
     ]
    },
    {
     "name": "stdout",
     "output_type": "stream",
     "text": [
      "Training until validation scores don't improve for 100 rounds"
     ]
    },
    {
     "name": "stderr",
     "output_type": "stream",
     "text": [
      "regularization_factors, val_score: 0.933609:   5%|5         | 1/20 [00:00<00:02,  7.27it/s]"
     ]
    },
    {
     "name": "stdout",
     "output_type": "stream",
     "text": [
      "\n",
      "[100]\tcv_agg's valid binary_logloss: 0.933609 + 0.305275\n",
      "Early stopping, best iteration is:\n",
      "[1]\tcv_agg's valid binary_logloss: 0.933609 + 0.305275\n",
      "Training until validation scores don't improve for 100 rounds\n",
      "[100]\tcv_agg's valid binary_logloss: 0.933609 + 0.305275\n",
      "Early stopping, best iteration is:\n",
      "[1]\tcv_agg's valid binary_logloss: 0.933609 + 0.305275\n"
     ]
    },
    {
     "name": "stderr",
     "output_type": "stream",
     "text": [
      "regularization_factors, val_score: 0.933609:  15%|#5        | 3/20 [00:00<00:01, 14.38it/s]"
     ]
    },
    {
     "name": "stdout",
     "output_type": "stream",
     "text": [
      "Training until validation scores don't improve for 100 rounds\n",
      "[100]\tcv_agg's valid binary_logloss: 0.933609 + 0.305275\n",
      "Early stopping, best iteration is:\n",
      "[1]\tcv_agg's valid binary_logloss: 0.933609 + 0.305275\n",
      "Training until validation scores don't improve for 100 rounds\n"
     ]
    },
    {
     "name": "stderr",
     "output_type": "stream",
     "text": [
      "regularization_factors, val_score: 0.933609:  25%|##5       | 5/20 [00:00<00:01, 14.91it/s]"
     ]
    },
    {
     "name": "stdout",
     "output_type": "stream",
     "text": [
      "[100]\tcv_agg's valid binary_logloss: 0.933609 + 0.305275\n",
      "Early stopping, best iteration is:\n",
      "[1]\tcv_agg's valid binary_logloss: 0.933609 + 0.305275\n",
      "Training until validation scores don't improve for 100 rounds\n",
      "[100]\tcv_agg's valid binary_logloss: 0.933609 + 0.305275\n",
      "Early stopping, best iteration is:\n",
      "[1]\tcv_agg's valid binary_logloss: 0.933609 + 0.305275\n",
      "Training until validation scores don't improve for 100 rounds\n"
     ]
    },
    {
     "name": "stderr",
     "output_type": "stream",
     "text": [
      "regularization_factors, val_score: 0.933609:  30%|###       | 6/20 [00:00<00:00, 15.01it/s]"
     ]
    },
    {
     "name": "stdout",
     "output_type": "stream",
     "text": [
      "[100]\tcv_agg's valid binary_logloss: 0.933609 + 0.305275\n",
      "Early stopping, best iteration is:\n",
      "[1]\tcv_agg's valid binary_logloss: 0.933609 + 0.305275\n",
      "Training until validation scores don't improve for 100 rounds\n"
     ]
    },
    {
     "name": "stderr",
     "output_type": "stream",
     "text": [
      "regularization_factors, val_score: 0.933609:  40%|####      | 8/20 [00:00<00:00, 14.01it/s]"
     ]
    },
    {
     "name": "stdout",
     "output_type": "stream",
     "text": [
      "[100]\tcv_agg's valid binary_logloss: 0.933609 + 0.305275\n",
      "Early stopping, best iteration is:\n",
      "[1]\tcv_agg's valid binary_logloss: 0.933609 + 0.305275\n",
      "Training until validation scores don't improve for 100 rounds\n",
      "[100]\tcv_agg's valid binary_logloss: 0.933609 + 0.305275\n",
      "Early stopping, best iteration is:\n",
      "[1]\tcv_agg's valid binary_logloss: 0.933609 + 0.305275\n"
     ]
    },
    {
     "name": "stderr",
     "output_type": "stream",
     "text": [
      "regularization_factors, val_score: 0.933609:  45%|####5     | 9/20 [00:00<00:00, 14.01it/s]"
     ]
    },
    {
     "name": "stdout",
     "output_type": "stream",
     "text": [
      "Training until validation scores don't improve for 100 rounds\n",
      "[100]\tcv_agg's valid binary_logloss: 0.933609 + 0.305275\n",
      "Early stopping, best iteration is:\n",
      "[1]\tcv_agg's valid binary_logloss: 0.933609 + 0.305275\n",
      "Training until validation scores don't improve for 100 rounds\n"
     ]
    },
    {
     "name": "stderr",
     "output_type": "stream",
     "text": [
      "regularization_factors, val_score: 0.933609:  50%|#####     | 10/20 [00:00<00:00, 13.40it/s]"
     ]
    },
    {
     "name": "stdout",
     "output_type": "stream",
     "text": [
      "[100]\tcv_agg's valid binary_logloss: 0.933609 + 0.305275\n",
      "Early stopping, best iteration is:\n",
      "[1]\tcv_agg's valid binary_logloss: 0.933609 + 0.305275\n",
      "Training until validation scores don't improve for 100 rounds\n"
     ]
    },
    {
     "name": "stderr",
     "output_type": "stream",
     "text": [
      "regularization_factors, val_score: 0.933609:  60%|######    | 12/20 [00:00<00:00, 13.29it/s]"
     ]
    },
    {
     "name": "stdout",
     "output_type": "stream",
     "text": [
      "[100]\tcv_agg's valid binary_logloss: 0.933609 + 0.305275\n",
      "Early stopping, best iteration is:\n",
      "[1]\tcv_agg's valid binary_logloss: 0.933609 + 0.305275\n",
      "Training until validation scores don't improve for 100 rounds\n",
      "[100]\tcv_agg's valid binary_logloss: 0.933609 + 0.305275\n",
      "Early stopping, best iteration is:\n",
      "[1]\tcv_agg's valid binary_logloss: 0.933609 + 0.305275\n",
      "Training until validation scores don't improve for 100 rounds\n"
     ]
    },
    {
     "name": "stderr",
     "output_type": "stream",
     "text": [
      "regularization_factors, val_score: 0.933609:  65%|######5   | 13/20 [00:00<00:00, 13.29it/s]"
     ]
    },
    {
     "name": "stdout",
     "output_type": "stream",
     "text": [
      "[100]\tcv_agg's valid binary_logloss: 0.933609 + 0.305275\n",
      "Early stopping, best iteration is:\n",
      "[1]\tcv_agg's valid binary_logloss: 0.933609 + 0.305275\n",
      "Training until validation scores don't improve for 100 rounds\n"
     ]
    },
    {
     "name": "stderr",
     "output_type": "stream",
     "text": [
      "regularization_factors, val_score: 0.933609:  75%|#######5  | 15/20 [00:01<00:00, 13.26it/s]"
     ]
    },
    {
     "name": "stdout",
     "output_type": "stream",
     "text": [
      "[100]\tcv_agg's valid binary_logloss: 0.933609 + 0.305275\n",
      "Early stopping, best iteration is:\n",
      "[1]\tcv_agg's valid binary_logloss: 0.933609 + 0.305275\n",
      "Training until validation scores don't improve for 100 rounds\n",
      "[100]\tcv_agg's valid binary_logloss: 0.933609 + 0.305275\n",
      "Early stopping, best iteration is:\n",
      "[1]\tcv_agg's valid binary_logloss: 0.933609 + 0.305275\n",
      "Training until validation scores don't improve for 100 rounds\n"
     ]
    },
    {
     "name": "stderr",
     "output_type": "stream",
     "text": [
      "regularization_factors, val_score: 0.933609:  80%|########  | 16/20 [00:01<00:00, 13.90it/s]"
     ]
    },
    {
     "name": "stdout",
     "output_type": "stream",
     "text": [
      "[100]\tcv_agg's valid binary_logloss: 0.933609 + 0.305275\n",
      "Early stopping, best iteration is:\n",
      "[1]\tcv_agg's valid binary_logloss: 0.933609 + 0.305275\n",
      "Training until validation scores don't improve for 100 rounds\n",
      "[100]\tcv_agg's valid binary_logloss: 0.933609 + 0.305275\n",
      "Early stopping, best iteration is:\n",
      "[1]\tcv_agg's valid binary_logloss: 0.933609 + 0.305275\n"
     ]
    },
    {
     "name": "stderr",
     "output_type": "stream",
     "text": [
      "regularization_factors, val_score: 0.933609:  90%|######### | 18/20 [00:01<00:00, 14.03it/s]"
     ]
    },
    {
     "name": "stdout",
     "output_type": "stream",
     "text": [
      "Training until validation scores don't improve for 100 rounds\n",
      "[100]\tcv_agg's valid binary_logloss: 0.933609 + 0.305275\n",
      "Early stopping, best iteration is:\n",
      "[1]\tcv_agg's valid binary_logloss: 0.933609 + 0.305275\n",
      "Training until validation scores don't improve for 100 rounds\n",
      "[100]\tcv_agg's valid binary_logloss: 0.933609 + 0.305275\n",
      "Early stopping, best iteration is:\n",
      "[1]\tcv_agg's valid binary_logloss: 0.933609 + 0.305275\n"
     ]
    },
    {
     "name": "stderr",
     "output_type": "stream",
     "text": [
      "regularization_factors, val_score: 0.933609:  95%|#########5| 19/20 [00:01<00:00, 14.03it/s]"
     ]
    },
    {
     "name": "stdout",
     "output_type": "stream",
     "text": [
      "Training until validation scores don't improve for 100 rounds\n",
      "[100]\tcv_agg's valid binary_logloss: 0.933609 + 0.305275\n",
      "Early stopping, best iteration is:\n",
      "[1]\tcv_agg's valid binary_logloss: 0.933609 + 0.305275\n"
     ]
    },
    {
     "name": "stderr",
     "output_type": "stream",
     "text": [
      "regularization_factors, val_score: 0.933609: 100%|##########| 20/20 [00:01<00:00, 13.86it/s]\n",
      "min_child_samples, val_score: 0.933609:  20%|##        | 1/5 [00:00<00:00, 12.75it/s]"
     ]
    },
    {
     "name": "stdout",
     "output_type": "stream",
     "text": [
      "Training until validation scores don't improve for 100 rounds\n",
      "[100]\tcv_agg's valid binary_logloss: 0.933609 + 0.305275\n",
      "Early stopping, best iteration is:\n",
      "[1]\tcv_agg's valid binary_logloss: 0.933609 + 0.305275\n",
      "Training until validation scores don't improve for 100 rounds\n",
      "[100]\tcv_agg's valid binary_logloss: 0.933609 + 0.305275\n",
      "Early stopping, best iteration is:\n",
      "[1]\tcv_agg's valid binary_logloss: 0.933609 + 0.305275\n"
     ]
    },
    {
     "name": "stderr",
     "output_type": "stream",
     "text": [
      "min_child_samples, val_score: 0.933609:  40%|####      | 2/5 [00:00<00:00, 14.80it/s]"
     ]
    },
    {
     "name": "stdout",
     "output_type": "stream",
     "text": [
      "Training until validation scores don't improve for 100 rounds\n"
     ]
    },
    {
     "name": "stderr",
     "output_type": "stream",
     "text": [
      "min_child_samples, val_score: 0.933609:  60%|######    | 3/5 [00:00<00:00, 14.80it/s]"
     ]
    },
    {
     "name": "stdout",
     "output_type": "stream",
     "text": [
      "[100]\tcv_agg's valid binary_logloss: 2.67047 + 1.18925\n",
      "Early stopping, best iteration is:\n",
      "[1]\tcv_agg's valid binary_logloss: 0.945701 + 0.31653\n",
      "Training until validation scores don't improve for 100 rounds\n"
     ]
    },
    {
     "name": "stderr",
     "output_type": "stream",
     "text": [
      "min_child_samples, val_score: 0.930238: 100%|##########| 5/5 [00:00<00:00, 11.24it/s]"
     ]
    },
    {
     "name": "stdout",
     "output_type": "stream",
     "text": [
      "[100]\tcv_agg's valid binary_logloss: 1.67425 + 1.05534\n",
      "Early stopping, best iteration is:\n",
      "[2]\tcv_agg's valid binary_logloss: 0.930238 + 0.325701\n",
      "Training until validation scores don't improve for 100 rounds\n",
      "[100]\tcv_agg's valid binary_logloss: 0.933609 + 0.305275\n",
      "Early stopping, best iteration is:\n",
      "[1]\tcv_agg's valid binary_logloss: 0.933609 + 0.305275\n"
     ]
    },
    {
     "name": "stderr",
     "output_type": "stream",
     "text": [
      "\n"
     ]
    },
    {
     "name": "stdout",
     "output_type": "stream",
     "text": [
      "{'accuracy': 0.7777777777777778, 'balanced_accuracy': np.float64(0.775), 'f1': np.float64(0.75), 'precision': np.float64(0.75), 'recall': np.float64(0.75), 'specificity': np.float64(0.8), 'ROC_AUC': np.float64(0.7750000000000001), 'MCC': np.float64(0.55)}\n"
     ]
    },
    {
     "name": "stderr",
     "output_type": "stream",
     "text": [
      "feature_fraction, val_score: 0.972426:  43%|####2     | 3/7 [00:00<00:00, 18.11it/s]"
     ]
    },
    {
     "name": "stdout",
     "output_type": "stream",
     "text": [
      "Training until validation scores don't improve for 100 rounds\n",
      "[100]\tcv_agg's valid binary_logloss: 0.972426 + 0.257546\n",
      "Early stopping, best iteration is:\n",
      "[1]\tcv_agg's valid binary_logloss: 0.972426 + 0.257546\n",
      "Training until validation scores don't improve for 100 rounds\n",
      "[100]\tcv_agg's valid binary_logloss: 0.972426 + 0.257546\n",
      "Early stopping, best iteration is:\n",
      "[1]\tcv_agg's valid binary_logloss: 0.972426 + 0.257546\n",
      "Training until validation scores don't improve for 100 rounds\n",
      "[100]\tcv_agg's valid binary_logloss: 0.972426 + 0.257546\n",
      "Early stopping, best iteration is:\n",
      "[1]\tcv_agg's valid binary_logloss: 0.972426 + 0.257546\n",
      "Training until validation scores don't improve for 100 rounds\n"
     ]
    },
    {
     "name": "stderr",
     "output_type": "stream",
     "text": [
      "feature_fraction, val_score: 0.972426: 100%|##########| 7/7 [00:00<00:00, 18.41it/s]\n"
     ]
    },
    {
     "name": "stdout",
     "output_type": "stream",
     "text": [
      "[100]\tcv_agg's valid binary_logloss: 0.972426 + 0.257546\n",
      "Early stopping, best iteration is:\n",
      "[1]\tcv_agg's valid binary_logloss: 0.972426 + 0.257546\n",
      "Training until validation scores don't improve for 100 rounds\n",
      "[100]\tcv_agg's valid binary_logloss: 0.972426 + 0.257546\n",
      "Early stopping, best iteration is:\n",
      "[1]\tcv_agg's valid binary_logloss: 0.972426 + 0.257546\n",
      "Training until validation scores don't improve for 100 rounds\n",
      "[100]\tcv_agg's valid binary_logloss: 0.972426 + 0.257546\n",
      "Early stopping, best iteration is:\n",
      "[1]\tcv_agg's valid binary_logloss: 0.972426 + 0.257546\n",
      "Training until validation scores don't improve for 100 rounds\n",
      "[100]\tcv_agg's valid binary_logloss: 0.972426 + 0.257546\n",
      "Early stopping, best iteration is:\n",
      "[1]\tcv_agg's valid binary_logloss: 0.972426 + 0.257546\n"
     ]
    },
    {
     "name": "stderr",
     "output_type": "stream",
     "text": [
      "num_leaves, val_score: 0.972426:   0%|          | 0/20 [00:00<?, ?it/s]"
     ]
    },
    {
     "name": "stdout",
     "output_type": "stream",
     "text": [
      "Training until validation scores don't improve for 100 rounds"
     ]
    },
    {
     "name": "stderr",
     "output_type": "stream",
     "text": [
      "num_leaves, val_score: 0.972426:  15%|#5        | 3/20 [00:00<00:01, 15.07it/s]"
     ]
    },
    {
     "name": "stdout",
     "output_type": "stream",
     "text": [
      "\n",
      "[100]\tcv_agg's valid binary_logloss: 0.972426 + 0.257546\n",
      "Early stopping, best iteration is:\n",
      "[1]\tcv_agg's valid binary_logloss: 0.972426 + 0.257546\n",
      "Training until validation scores don't improve for 100 rounds\n",
      "[100]\tcv_agg's valid binary_logloss: 0.972426 + 0.257546\n",
      "Early stopping, best iteration is:\n",
      "[1]\tcv_agg's valid binary_logloss: 0.972426 + 0.257546\n",
      "Training until validation scores don't improve for 100 rounds\n",
      "[100]\tcv_agg's valid binary_logloss: 0.972426 + 0.257546\n",
      "Early stopping, best iteration is:\n",
      "[1]\tcv_agg's valid binary_logloss: 0.972426 + 0.257546\n",
      "Training until validation scores don't improve for 100 rounds\n"
     ]
    },
    {
     "name": "stderr",
     "output_type": "stream",
     "text": [
      "num_leaves, val_score: 0.972426:  30%|###       | 6/20 [00:00<00:00, 15.05it/s]"
     ]
    },
    {
     "name": "stdout",
     "output_type": "stream",
     "text": [
      "[100]\tcv_agg's valid binary_logloss: 0.972426 + 0.257546\n",
      "Early stopping, best iteration is:\n",
      "[1]\tcv_agg's valid binary_logloss: 0.972426 + 0.257546\n",
      "Training until validation scores don't improve for 100 rounds\n",
      "[100]\tcv_agg's valid binary_logloss: 0.972426 + 0.257546\n",
      "Early stopping, best iteration is:\n",
      "[1]\tcv_agg's valid binary_logloss: 0.972426 + 0.257546\n",
      "Training until validation scores don't improve for 100 rounds\n",
      "[100]\tcv_agg's valid binary_logloss: 0.972426 + 0.257546\n",
      "Early stopping, best iteration is:\n",
      "[1]\tcv_agg's valid binary_logloss: 0.972426 + 0.257546\n",
      "Training until validation scores don't improve for 100 rounds\n"
     ]
    },
    {
     "name": "stderr",
     "output_type": "stream",
     "text": [
      "num_leaves, val_score: 0.972426:  45%|####5     | 9/20 [00:00<00:00, 14.02it/s]"
     ]
    },
    {
     "name": "stdout",
     "output_type": "stream",
     "text": [
      "[100]\tcv_agg's valid binary_logloss: 0.972426 + 0.257546\n",
      "Early stopping, best iteration is:\n",
      "[1]\tcv_agg's valid binary_logloss: 0.972426 + 0.257546\n",
      "Training until validation scores don't improve for 100 rounds\n",
      "[100]\tcv_agg's valid binary_logloss: 0.972426 + 0.257546\n",
      "Early stopping, best iteration is:\n",
      "[1]\tcv_agg's valid binary_logloss: 0.972426 + 0.257546\n",
      "Training until validation scores don't improve for 100 rounds\n",
      "[100]\tcv_agg's valid binary_logloss: 0.972426 + 0.257546\n",
      "Early stopping, best iteration is:\n",
      "[1]\tcv_agg's valid binary_logloss: 0.972426 + 0.257546\n",
      "Training until validation scores don't improve for 100 rounds\n"
     ]
    },
    {
     "name": "stderr",
     "output_type": "stream",
     "text": [
      "num_leaves, val_score: 0.972426:  60%|######    | 12/20 [00:00<00:00, 14.31it/s]"
     ]
    },
    {
     "name": "stdout",
     "output_type": "stream",
     "text": [
      "[100]\tcv_agg's valid binary_logloss: 0.972426 + 0.257546\n",
      "Early stopping, best iteration is:\n",
      "[1]\tcv_agg's valid binary_logloss: 0.972426 + 0.257546\n",
      "Training until validation scores don't improve for 100 rounds\n",
      "[100]\tcv_agg's valid binary_logloss: 0.972426 + 0.257546\n",
      "Early stopping, best iteration is:\n",
      "[1]\tcv_agg's valid binary_logloss: 0.972426 + 0.257546\n",
      "Training until validation scores don't improve for 100 rounds\n",
      "[100]\tcv_agg's valid binary_logloss: 0.972426 + 0.257546\n",
      "Early stopping, best iteration is:\n",
      "[1]\tcv_agg's valid binary_logloss: 0.972426 + 0.257546\n"
     ]
    },
    {
     "name": "stderr",
     "output_type": "stream",
     "text": [
      "num_leaves, val_score: 0.972426:  70%|#######   | 14/20 [00:01<00:00,  9.47it/s]"
     ]
    },
    {
     "name": "stdout",
     "output_type": "stream",
     "text": [
      "Training until validation scores don't improve for 100 rounds\n",
      "[100]\tcv_agg's valid binary_logloss: 0.972426 + 0.257546\n",
      "Early stopping, best iteration is:\n",
      "[1]\tcv_agg's valid binary_logloss: 0.972426 + 0.257546\n",
      "Training until validation scores don't improve for 100 rounds\n",
      "[100]\tcv_agg's valid binary_logloss: 0.972426 + 0.257546\n",
      "Early stopping, best iteration is:\n",
      "[1]\tcv_agg's valid binary_logloss: 0.972426 + 0.257546\n",
      "Training until validation scores don't improve for 100 rounds\n",
      "[100]\tcv_agg's valid binary_logloss: 0.972426 + 0.257546\n",
      "Early stopping, best iteration is:\n",
      "[1]\tcv_agg's valid binary_logloss: 0.972426 + 0.257546\n"
     ]
    },
    {
     "name": "stderr",
     "output_type": "stream",
     "text": [
      "num_leaves, val_score: 0.972426:  90%|######### | 18/20 [00:01<00:00, 11.83it/s]"
     ]
    },
    {
     "name": "stdout",
     "output_type": "stream",
     "text": [
      "Training until validation scores don't improve for 100 rounds\n",
      "[100]\tcv_agg's valid binary_logloss: 0.972426 + 0.257546\n",
      "Early stopping, best iteration is:\n",
      "[1]\tcv_agg's valid binary_logloss: 0.972426 + 0.257546\n",
      "Training until validation scores don't improve for 100 rounds\n",
      "[100]\tcv_agg's valid binary_logloss: 0.972426 + 0.257546\n",
      "Early stopping, best iteration is:\n",
      "[1]\tcv_agg's valid binary_logloss: 0.972426 + 0.257546\n",
      "Training until validation scores don't improve for 100 rounds\n",
      "[100]\tcv_agg's valid binary_logloss: 0.972426 + 0.257546\n",
      "Early stopping, best iteration is:\n",
      "[1]\tcv_agg's valid binary_logloss: 0.972426 + 0.257546\n"
     ]
    },
    {
     "name": "stderr",
     "output_type": "stream",
     "text": [
      "num_leaves, val_score: 0.972426: 100%|##########| 20/20 [00:01<00:00, 12.51it/s]\n"
     ]
    },
    {
     "name": "stdout",
     "output_type": "stream",
     "text": [
      "Training until validation scores don't improve for 100 rounds\n",
      "[100]\tcv_agg's valid binary_logloss: 0.972426 + 0.257546\n",
      "Early stopping, best iteration is:\n",
      "[1]\tcv_agg's valid binary_logloss: 0.972426 + 0.257546\n",
      "Training until validation scores don't improve for 100 rounds\n",
      "[100]\tcv_agg's valid binary_logloss: 0.972426 + 0.257546\n",
      "Early stopping, best iteration is:\n",
      "[1]\tcv_agg's valid binary_logloss: 0.972426 + 0.257546\n"
     ]
    },
    {
     "name": "stderr",
     "output_type": "stream",
     "text": [
      "bagging, val_score: 0.972426:   0%|          | 0/10 [00:00<?, ?it/s]"
     ]
    },
    {
     "name": "stdout",
     "output_type": "stream",
     "text": [
      "Training until validation scores don't improve for 100 rounds\n"
     ]
    },
    {
     "name": "stderr",
     "output_type": "stream",
     "text": [
      "bagging, val_score: 0.972426:  20%|##        | 2/10 [00:00<00:00, 11.41it/s]"
     ]
    },
    {
     "name": "stdout",
     "output_type": "stream",
     "text": [
      "[100]\tcv_agg's valid binary_logloss: 0.972426 + 0.257546\n",
      "Early stopping, best iteration is:\n",
      "[1]\tcv_agg's valid binary_logloss: 0.972426 + 0.257546\n",
      "Training until validation scores don't improve for 100 rounds\n",
      "[100]\tcv_agg's valid binary_logloss: 0.972426 + 0.257546\n",
      "Early stopping, best iteration is:\n",
      "[1]\tcv_agg's valid binary_logloss: 0.972426 + 0.257546\n",
      "Training until validation scores don't improve for 100 rounds\n"
     ]
    },
    {
     "name": "stderr",
     "output_type": "stream",
     "text": [
      "bagging, val_score: 0.972426:  30%|###       | 3/10 [00:00<00:00, 11.41it/s]"
     ]
    },
    {
     "name": "stdout",
     "output_type": "stream",
     "text": [
      "[100]\tcv_agg's valid binary_logloss: 0.972426 + 0.257546\n",
      "Early stopping, best iteration is:\n",
      "[1]\tcv_agg's valid binary_logloss: 0.972426 + 0.257546\n",
      "Training until validation scores don't improve for 100 rounds\n"
     ]
    },
    {
     "name": "stderr",
     "output_type": "stream",
     "text": [
      "bagging, val_score: 0.972426:  50%|#####     | 5/10 [00:00<00:00, 12.41it/s]"
     ]
    },
    {
     "name": "stdout",
     "output_type": "stream",
     "text": [
      "[100]\tcv_agg's valid binary_logloss: 0.972426 + 0.257546\n",
      "Early stopping, best iteration is:\n",
      "[1]\tcv_agg's valid binary_logloss: 0.972426 + 0.257546\n",
      "Training until validation scores don't improve for 100 rounds\n",
      "[100]\tcv_agg's valid binary_logloss: 0.972426 + 0.257546\n",
      "Early stopping, best iteration is:\n",
      "[1]\tcv_agg's valid binary_logloss: 0.972426 + 0.257546\n",
      "Training until validation scores don't improve for 100 rounds\n"
     ]
    },
    {
     "name": "stderr",
     "output_type": "stream",
     "text": [
      "bagging, val_score: 0.972426:  60%|######    | 6/10 [00:00<00:00, 12.63it/s]"
     ]
    },
    {
     "name": "stdout",
     "output_type": "stream",
     "text": [
      "[100]\tcv_agg's valid binary_logloss: 0.972426 + 0.257546\n",
      "Early stopping, best iteration is:\n",
      "[1]\tcv_agg's valid binary_logloss: 0.972426 + 0.257546\n",
      "Training until validation scores don't improve for 100 rounds\n"
     ]
    },
    {
     "name": "stderr",
     "output_type": "stream",
     "text": [
      "bagging, val_score: 0.972426:  80%|########  | 8/10 [00:00<00:00, 12.35it/s]"
     ]
    },
    {
     "name": "stdout",
     "output_type": "stream",
     "text": [
      "[100]\tcv_agg's valid binary_logloss: 0.972426 + 0.257546\n",
      "Early stopping, best iteration is:\n",
      "[1]\tcv_agg's valid binary_logloss: 0.972426 + 0.257546\n",
      "Training until validation scores don't improve for 100 rounds\n",
      "[100]\tcv_agg's valid binary_logloss: 0.972426 + 0.257546\n",
      "Early stopping, best iteration is:\n",
      "[1]\tcv_agg's valid binary_logloss: 0.972426 + 0.257546\n"
     ]
    },
    {
     "name": "stderr",
     "output_type": "stream",
     "text": [
      "bagging, val_score: 0.972426:  90%|######### | 9/10 [00:00<00:00, 12.35it/s]"
     ]
    },
    {
     "name": "stdout",
     "output_type": "stream",
     "text": [
      "Training until validation scores don't improve for 100 rounds\n",
      "[100]\tcv_agg's valid binary_logloss: 0.972426 + 0.257546\n",
      "Early stopping, best iteration is:\n",
      "[1]\tcv_agg's valid binary_logloss: 0.972426 + 0.257546\n",
      "Training until validation scores don't improve for 100 rounds\n"
     ]
    },
    {
     "name": "stderr",
     "output_type": "stream",
     "text": [
      "bagging, val_score: 0.972426: 100%|##########| 10/10 [00:00<00:00, 12.13it/s]\n"
     ]
    },
    {
     "name": "stdout",
     "output_type": "stream",
     "text": [
      "[100]\tcv_agg's valid binary_logloss: 0.972426 + 0.257546\n",
      "Early stopping, best iteration is:\n",
      "[1]\tcv_agg's valid binary_logloss: 0.972426 + 0.257546\n"
     ]
    },
    {
     "name": "stderr",
     "output_type": "stream",
     "text": [
      "feature_fraction_stage2, val_score: 0.972426:   0%|          | 0/3 [00:00<?, ?it/s]"
     ]
    },
    {
     "name": "stdout",
     "output_type": "stream",
     "text": [
      "Training until validation scores don't improve for 100 rounds\n"
     ]
    },
    {
     "name": "stderr",
     "output_type": "stream",
     "text": [
      "feature_fraction_stage2, val_score: 0.972426:  67%|######6   | 2/3 [00:00<00:00, 16.26it/s]"
     ]
    },
    {
     "name": "stdout",
     "output_type": "stream",
     "text": [
      "[100]\tcv_agg's valid binary_logloss: 0.972426 + 0.257546\n",
      "Early stopping, best iteration is:\n",
      "[1]\tcv_agg's valid binary_logloss: 0.972426 + 0.257546\n",
      "Training until validation scores don't improve for 100 rounds\n",
      "[100]\tcv_agg's valid binary_logloss: 0.972426 + 0.257546\n",
      "Early stopping, best iteration is:\n",
      "[1]\tcv_agg's valid binary_logloss: 0.972426 + 0.257546\n",
      "Training until validation scores don't improve for 100 rounds\n",
      "[100]\tcv_agg's valid binary_logloss: 0.972426 + 0.257546\n",
      "Early stopping, best iteration is:\n",
      "[1]\tcv_agg's valid binary_logloss: 0.972426 + 0.257546\n"
     ]
    },
    {
     "name": "stderr",
     "output_type": "stream",
     "text": [
      "feature_fraction_stage2, val_score: 0.972426: 100%|##########| 3/3 [00:00<00:00, 16.73it/s]\n",
      "regularization_factors, val_score: 0.972426:   0%|          | 0/20 [00:00<?, ?it/s]"
     ]
    },
    {
     "name": "stdout",
     "output_type": "stream",
     "text": [
      "Training until validation scores don't improve for 100 rounds\n"
     ]
    },
    {
     "name": "stderr",
     "output_type": "stream",
     "text": [
      "regularization_factors, val_score: 0.972426:  10%|#         | 2/20 [00:00<00:01, 11.90it/s]"
     ]
    },
    {
     "name": "stdout",
     "output_type": "stream",
     "text": [
      "[100]\tcv_agg's valid binary_logloss: 0.972426 + 0.257546\n",
      "Early stopping, best iteration is:\n",
      "[1]\tcv_agg's valid binary_logloss: 0.972426 + 0.257546\n",
      "Training until validation scores don't improve for 100 rounds\n",
      "[100]\tcv_agg's valid binary_logloss: 0.972426 + 0.257546\n",
      "Early stopping, best iteration is:\n",
      "[1]\tcv_agg's valid binary_logloss: 0.972426 + 0.257546\n",
      "Training until validation scores don't improve for 100 rounds\n"
     ]
    },
    {
     "name": "stderr",
     "output_type": "stream",
     "text": [
      "regularization_factors, val_score: 0.972426:  15%|#5        | 3/20 [00:00<00:01, 11.90it/s]"
     ]
    },
    {
     "name": "stdout",
     "output_type": "stream",
     "text": [
      "[100]\tcv_agg's valid binary_logloss: 0.972426 + 0.257546\n",
      "Early stopping, best iteration is:\n",
      "[1]\tcv_agg's valid binary_logloss: 0.972426 + 0.257546\n",
      "Training until validation scores don't improve for 100 rounds\n"
     ]
    },
    {
     "name": "stderr",
     "output_type": "stream",
     "text": [
      "regularization_factors, val_score: 0.972426:  25%|##5       | 5/20 [00:00<00:01, 12.10it/s]"
     ]
    },
    {
     "name": "stdout",
     "output_type": "stream",
     "text": [
      "[100]\tcv_agg's valid binary_logloss: 0.972426 + 0.257546\n",
      "Early stopping, best iteration is:\n",
      "[1]\tcv_agg's valid binary_logloss: 0.972426 + 0.257546\n",
      "Training until validation scores don't improve for 100 rounds\n",
      "[100]\tcv_agg's valid binary_logloss: 0.972426 + 0.257546\n",
      "Early stopping, best iteration is:\n",
      "[1]\tcv_agg's valid binary_logloss: 0.972426 + 0.257546\n",
      "Training until validation scores don't improve for 100 rounds\n",
      "[100]\tcv_agg's valid binary_logloss: 0.972426 + 0.257546\n",
      "Early stopping, best iteration is:\n",
      "[1]\tcv_agg's valid binary_logloss: 0.972426 + 0.257546\n"
     ]
    },
    {
     "name": "stderr",
     "output_type": "stream",
     "text": [
      "regularization_factors, val_score: 0.972426:  30%|###       | 6/20 [00:00<00:01, 13.44it/s]"
     ]
    },
    {
     "name": "stdout",
     "output_type": "stream",
     "text": [
      "Training until validation scores don't improve for 100 rounds\n",
      "[100]\tcv_agg's valid binary_logloss: 0.972426 + 0.257546\n",
      "Early stopping, best iteration is:\n",
      "[1]\tcv_agg's valid binary_logloss: 0.972426 + 0.257546\n"
     ]
    },
    {
     "name": "stderr",
     "output_type": "stream",
     "text": [
      "regularization_factors, val_score: 0.972426:  40%|####      | 8/20 [00:00<00:00, 13.74it/s]"
     ]
    },
    {
     "name": "stdout",
     "output_type": "stream",
     "text": [
      "Training until validation scores don't improve for 100 rounds\n",
      "[100]\tcv_agg's valid binary_logloss: 0.972426 + 0.257546\n",
      "Early stopping, best iteration is:\n",
      "[1]\tcv_agg's valid binary_logloss: 0.972426 + 0.257546\n",
      "Training until validation scores don't improve for 100 rounds\n",
      "[100]\tcv_agg's valid binary_logloss: 0.972426 + 0.257546\n",
      "Early stopping, best iteration is:\n",
      "[1]\tcv_agg's valid binary_logloss: 0.972426 + 0.257546\n"
     ]
    },
    {
     "name": "stderr",
     "output_type": "stream",
     "text": [
      "regularization_factors, val_score: 0.972426:  50%|#####     | 10/20 [00:00<00:00, 13.84it/s]"
     ]
    },
    {
     "name": "stdout",
     "output_type": "stream",
     "text": [
      "Training until validation scores don't improve for 100 rounds\n",
      "[100]\tcv_agg's valid binary_logloss: 0.972426 + 0.257546\n",
      "Early stopping, best iteration is:\n",
      "[1]\tcv_agg's valid binary_logloss: 0.972426 + 0.257546\n"
     ]
    },
    {
     "name": "stderr",
     "output_type": "stream",
     "text": [
      "regularization_factors, val_score: 0.972426:  55%|#####5    | 11/20 [00:00<00:00, 13.84it/s]"
     ]
    },
    {
     "name": "stdout",
     "output_type": "stream",
     "text": [
      "Training until validation scores don't improve for 100 rounds\n",
      "[100]\tcv_agg's valid binary_logloss: 0.972426 + 0.257546\n",
      "Early stopping, best iteration is:\n",
      "[1]\tcv_agg's valid binary_logloss: 0.972426 + 0.257546\n",
      "Training until validation scores don't improve for 100 rounds\n",
      "[100]\tcv_agg's valid binary_logloss: 0.972426 + 0.257546\n",
      "Early stopping, best iteration is:\n",
      "[1]\tcv_agg's valid binary_logloss: 0.972426 + 0.257546\n"
     ]
    },
    {
     "name": "stderr",
     "output_type": "stream",
     "text": [
      "regularization_factors, val_score: 0.972426:  60%|######    | 12/20 [00:00<00:00, 13.85it/s]"
     ]
    },
    {
     "name": "stdout",
     "output_type": "stream",
     "text": [
      "Training until validation scores don't improve for 100 rounds\n"
     ]
    },
    {
     "name": "stderr",
     "output_type": "stream",
     "text": [
      "regularization_factors, val_score: 0.972426:  70%|#######   | 14/20 [00:01<00:00, 13.72it/s]"
     ]
    },
    {
     "name": "stdout",
     "output_type": "stream",
     "text": [
      "[100]\tcv_agg's valid binary_logloss: 0.972426 + 0.257546\n",
      "Early stopping, best iteration is:\n",
      "[1]\tcv_agg's valid binary_logloss: 0.972426 + 0.257546\n",
      "Training until validation scores don't improve for 100 rounds\n",
      "[100]\tcv_agg's valid binary_logloss: 0.972426 + 0.257546\n",
      "Early stopping, best iteration is:\n",
      "[1]\tcv_agg's valid binary_logloss: 0.972426 + 0.257546\n",
      "Training until validation scores don't improve for 100 rounds\n",
      "[100]\tcv_agg's valid binary_logloss: 0.972426 + 0.257546\n",
      "Early stopping, best iteration is:\n",
      "[1]\tcv_agg's valid binary_logloss: 0.972426 + 0.257546\n"
     ]
    },
    {
     "name": "stderr",
     "output_type": "stream",
     "text": [
      "regularization_factors, val_score: 0.972426:  75%|#######5  | 15/20 [00:01<00:00, 13.72it/s]"
     ]
    },
    {
     "name": "stdout",
     "output_type": "stream",
     "text": [
      "Training until validation scores don't improve for 100 rounds\n"
     ]
    },
    {
     "name": "stderr",
     "output_type": "stream",
     "text": [
      "regularization_factors, val_score: 0.972426:  85%|########5 | 17/20 [00:01<00:00, 13.66it/s]"
     ]
    },
    {
     "name": "stdout",
     "output_type": "stream",
     "text": [
      "[100]\tcv_agg's valid binary_logloss: 0.972426 + 0.257546\n",
      "Early stopping, best iteration is:\n",
      "[1]\tcv_agg's valid binary_logloss: 0.972426 + 0.257546\n",
      "Training until validation scores don't improve for 100 rounds\n",
      "[100]\tcv_agg's valid binary_logloss: 0.972426 + 0.257546\n",
      "Early stopping, best iteration is:\n",
      "[1]\tcv_agg's valid binary_logloss: 0.972426 + 0.257546\n",
      "Training until validation scores don't improve for 100 rounds\n",
      "[100]\tcv_agg's valid binary_logloss: 0.972426 + 0.257546\n",
      "Early stopping, best iteration is:\n",
      "[1]\tcv_agg's valid binary_logloss: 0.972426 + 0.257546\n"
     ]
    },
    {
     "name": "stderr",
     "output_type": "stream",
     "text": [
      "regularization_factors, val_score: 0.972426:  90%|######### | 18/20 [00:01<00:00, 13.78it/s]"
     ]
    },
    {
     "name": "stdout",
     "output_type": "stream",
     "text": [
      "Training until validation scores don't improve for 100 rounds\n"
     ]
    },
    {
     "name": "stderr",
     "output_type": "stream",
     "text": [
      "regularization_factors, val_score: 0.972426: 100%|##########| 20/20 [00:01<00:00, 13.58it/s]\n"
     ]
    },
    {
     "name": "stdout",
     "output_type": "stream",
     "text": [
      "[100]\tcv_agg's valid binary_logloss: 0.972426 + 0.257546\n",
      "Early stopping, best iteration is:\n",
      "[1]\tcv_agg's valid binary_logloss: 0.972426 + 0.257546\n",
      "Training until validation scores don't improve for 100 rounds\n",
      "[100]\tcv_agg's valid binary_logloss: 0.972426 + 0.257546\n",
      "Early stopping, best iteration is:\n",
      "[1]\tcv_agg's valid binary_logloss: 0.972426 + 0.257546\n"
     ]
    },
    {
     "name": "stderr",
     "output_type": "stream",
     "text": [
      "min_child_samples, val_score: 0.796987:  40%|####      | 2/5 [00:00<00:01,  1.57it/s]"
     ]
    },
    {
     "name": "stdout",
     "output_type": "stream",
     "text": [
      "Training until validation scores don't improve for 100 rounds\n",
      "[100]\tcv_agg's valid binary_logloss: 0.972426 + 0.257546\n",
      "Early stopping, best iteration is:\n",
      "[1]\tcv_agg's valid binary_logloss: 0.972426 + 0.257546\n",
      "Training until validation scores don't improve for 100 rounds\n",
      "[100]\tcv_agg's valid binary_logloss: 0.972426 + 0.257546\n",
      "Early stopping, best iteration is:\n",
      "[1]\tcv_agg's valid binary_logloss: 0.972426 + 0.257546\n",
      "Training until validation scores don't improve for 100 rounds\n",
      "[100]\tcv_agg's valid binary_logloss: 2.82177 + 1.78557\n",
      "Early stopping, best iteration is:\n",
      "[8]\tcv_agg's valid binary_logloss: 0.796987 + 0.262734\n"
     ]
    },
    {
     "name": "stderr",
     "output_type": "stream",
     "text": [
      "min_child_samples, val_score: 0.796987: 100%|##########| 5/5 [00:00<00:00,  5.40it/s]\n"
     ]
    },
    {
     "name": "stdout",
     "output_type": "stream",
     "text": [
      "Training until validation scores don't improve for 100 rounds\n",
      "[100]\tcv_agg's valid binary_logloss: 1.4539 + 1.24185\n",
      "Early stopping, best iteration is:\n",
      "[7]\tcv_agg's valid binary_logloss: 0.896368 + 0.28976\n",
      "Training until validation scores don't improve for 100 rounds\n",
      "[100]\tcv_agg's valid binary_logloss: 0.972426 + 0.257546\n",
      "Early stopping, best iteration is:\n",
      "[1]\tcv_agg's valid binary_logloss: 0.972426 + 0.257546\n",
      "{'accuracy': 0.5555555555555556, 'balanced_accuracy': np.float64(0.5584415584415584), 'f1': np.float64(0.5), 'precision': np.float64(0.4444444444444444), 'recall': np.float64(0.5714285714285714), 'specificity': np.float64(0.5454545454545454), 'ROC_AUC': np.float64(0.5584415584415584), 'MCC': np.float64(0.11396057645963795)}\n",
      "    accuracy: 0.6550 +- 0.0922\n",
      "    balanced_accuracy: 0.6490 +- 0.0919\n",
      "    f1: 0.5944 +- 0.1108\n",
      "    precision: 0.5886 +- 0.1253\n",
      "    recall: 0.6071 +- 0.1051\n",
      "    specificity: 0.6909 +- 0.1071\n",
      "    ROC_AUC: 0.6490 +- 0.0919\n",
      "    MCC: 0.2989 +- 0.1841\n",
      "\n",
      "PART: day\n",
      "  GBM\n"
     ]
    },
    {
     "name": "stderr",
     "output_type": "stream",
     "text": [
      "feature_fraction, val_score: 0.971773:  43%|####2     | 3/7 [00:00<00:00, 18.86it/s]"
     ]
    },
    {
     "name": "stdout",
     "output_type": "stream",
     "text": [
      "Training until validation scores don't improve for 100 rounds\n",
      "[100]\tcv_agg's valid binary_logloss: 0.971773 + 0.299887\n",
      "Early stopping, best iteration is:\n",
      "[1]\tcv_agg's valid binary_logloss: 0.971773 + 0.299887\n",
      "Training until validation scores don't improve for 100 rounds\n",
      "[100]\tcv_agg's valid binary_logloss: 0.971773 + 0.299887\n",
      "Early stopping, best iteration is:\n",
      "[1]\tcv_agg's valid binary_logloss: 0.971773 + 0.299887\n",
      "Training until validation scores don't improve for 100 rounds\n",
      "[100]\tcv_agg's valid binary_logloss: 0.971773 + 0.299887\n",
      "Early stopping, best iteration is:\n",
      "[1]\tcv_agg's valid binary_logloss: 0.971773 + 0.299887\n",
      "Training until validation scores don't improve for 100 rounds\n"
     ]
    },
    {
     "name": "stderr",
     "output_type": "stream",
     "text": [
      "feature_fraction, val_score: 0.971773: 100%|##########| 7/7 [00:00<00:00, 17.71it/s]\n"
     ]
    },
    {
     "name": "stdout",
     "output_type": "stream",
     "text": [
      "[100]\tcv_agg's valid binary_logloss: 0.971773 + 0.299887\n",
      "Early stopping, best iteration is:\n",
      "[1]\tcv_agg's valid binary_logloss: 0.971773 + 0.299887\n",
      "Training until validation scores don't improve for 100 rounds\n",
      "[100]\tcv_agg's valid binary_logloss: 0.971773 + 0.299887\n",
      "Early stopping, best iteration is:\n",
      "[1]\tcv_agg's valid binary_logloss: 0.971773 + 0.299887\n",
      "Training until validation scores don't improve for 100 rounds\n",
      "[100]\tcv_agg's valid binary_logloss: 0.971773 + 0.299887\n",
      "Early stopping, best iteration is:\n",
      "[1]\tcv_agg's valid binary_logloss: 0.971773 + 0.299887\n",
      "Training until validation scores don't improve for 100 rounds\n",
      "[100]\tcv_agg's valid binary_logloss: 0.971773 + 0.299887\n",
      "Early stopping, best iteration is:\n",
      "[1]\tcv_agg's valid binary_logloss: 0.971773 + 0.299887\n"
     ]
    },
    {
     "name": "stderr",
     "output_type": "stream",
     "text": [
      "num_leaves, val_score: 0.971773:  15%|#5        | 3/20 [00:00<00:00, 17.26it/s]"
     ]
    },
    {
     "name": "stdout",
     "output_type": "stream",
     "text": [
      "Training until validation scores don't improve for 100 rounds\n",
      "[100]\tcv_agg's valid binary_logloss: 0.971773 + 0.299887\n",
      "Early stopping, best iteration is:\n",
      "[1]\tcv_agg's valid binary_logloss: 0.971773 + 0.299887\n",
      "Training until validation scores don't improve for 100 rounds\n",
      "[100]\tcv_agg's valid binary_logloss: 0.971773 + 0.299887\n",
      "Early stopping, best iteration is:\n",
      "[1]\tcv_agg's valid binary_logloss: 0.971773 + 0.299887\n",
      "Training until validation scores don't improve for 100 rounds\n",
      "[100]\tcv_agg's valid binary_logloss: 0.971773 + 0.299887\n",
      "Early stopping, best iteration is:\n",
      "[1]\tcv_agg's valid binary_logloss: 0.971773 + 0.299887\n"
     ]
    },
    {
     "name": "stderr",
     "output_type": "stream",
     "text": [
      "num_leaves, val_score: 0.971773:  25%|##5       | 5/20 [00:00<00:00, 16.20it/s]"
     ]
    },
    {
     "name": "stdout",
     "output_type": "stream",
     "text": [
      "Training until validation scores don't improve for 100 rounds\n",
      "[100]\tcv_agg's valid binary_logloss: 0.971773 + 0.299887\n",
      "Early stopping, best iteration is:\n",
      "[1]\tcv_agg's valid binary_logloss: 0.971773 + 0.299887\n",
      "Training until validation scores don't improve for 100 rounds\n",
      "[100]\tcv_agg's valid binary_logloss: 0.971773 + 0.299887\n",
      "Early stopping, best iteration is:\n",
      "[1]\tcv_agg's valid binary_logloss: 0.971773 + 0.299887\n",
      "Training until validation scores don't improve for 100 rounds\n",
      "[100]\tcv_agg's valid binary_logloss: 0.971773 + 0.299887\n",
      "Early stopping, best iteration is:\n",
      "[1]\tcv_agg's valid binary_logloss: 0.971773 + 0.299887\n"
     ]
    },
    {
     "name": "stderr",
     "output_type": "stream",
     "text": [
      "num_leaves, val_score: 0.971773:  40%|####      | 8/20 [00:00<00:00, 14.85it/s]"
     ]
    },
    {
     "name": "stdout",
     "output_type": "stream",
     "text": [
      "Training until validation scores don't improve for 100 rounds\n",
      "[100]\tcv_agg's valid binary_logloss: 0.971773 + 0.299887\n",
      "Early stopping, best iteration is:\n",
      "[1]\tcv_agg's valid binary_logloss: 0.971773 + 0.299887\n",
      "Training until validation scores don't improve for 100 rounds\n",
      "[100]\tcv_agg's valid binary_logloss: 0.971773 + 0.299887\n",
      "Early stopping, best iteration is:\n",
      "[1]\tcv_agg's valid binary_logloss: 0.971773 + 0.299887\n",
      "Training until validation scores don't improve for 100 rounds\n",
      "[100]\tcv_agg's valid binary_logloss: 0.971773 + 0.299887\n",
      "Early stopping, best iteration is:\n",
      "[1]\tcv_agg's valid binary_logloss: 0.971773 + 0.299887\n"
     ]
    },
    {
     "name": "stderr",
     "output_type": "stream",
     "text": [
      "num_leaves, val_score: 0.971773:  55%|#####5    | 11/20 [00:00<00:00, 13.71it/s]"
     ]
    },
    {
     "name": "stdout",
     "output_type": "stream",
     "text": [
      "Training until validation scores don't improve for 100 rounds\n",
      "[100]\tcv_agg's valid binary_logloss: 0.971773 + 0.299887\n",
      "Early stopping, best iteration is:\n",
      "[1]\tcv_agg's valid binary_logloss: 0.971773 + 0.299887\n",
      "Training until validation scores don't improve for 100 rounds\n",
      "[100]\tcv_agg's valid binary_logloss: 0.971773 + 0.299887\n",
      "Early stopping, best iteration is:\n",
      "[1]\tcv_agg's valid binary_logloss: 0.971773 + 0.299887\n",
      "Training until validation scores don't improve for 100 rounds\n"
     ]
    },
    {
     "name": "stderr",
     "output_type": "stream",
     "text": [
      "num_leaves, val_score: 0.971773:  70%|#######   | 14/20 [00:01<00:00, 12.51it/s]"
     ]
    },
    {
     "name": "stdout",
     "output_type": "stream",
     "text": [
      "[100]\tcv_agg's valid binary_logloss: 0.971773 + 0.299887\n",
      "Early stopping, best iteration is:\n",
      "[1]\tcv_agg's valid binary_logloss: 0.971773 + 0.299887\n",
      "Training until validation scores don't improve for 100 rounds\n",
      "[100]\tcv_agg's valid binary_logloss: 0.971773 + 0.299887\n",
      "Early stopping, best iteration is:\n",
      "[1]\tcv_agg's valid binary_logloss: 0.971773 + 0.299887\n",
      "Training until validation scores don't improve for 100 rounds\n",
      "[100]\tcv_agg's valid binary_logloss: 0.971773 + 0.299887\n",
      "Early stopping, best iteration is:\n",
      "[1]\tcv_agg's valid binary_logloss: 0.971773 + 0.299887\n"
     ]
    },
    {
     "name": "stderr",
     "output_type": "stream",
     "text": [
      "num_leaves, val_score: 0.971773:  80%|########  | 16/20 [00:01<00:00, 12.68it/s]"
     ]
    },
    {
     "name": "stdout",
     "output_type": "stream",
     "text": [
      "Training until validation scores don't improve for 100 rounds\n",
      "[100]\tcv_agg's valid binary_logloss: 0.971773 + 0.299887\n",
      "Early stopping, best iteration is:\n",
      "[1]\tcv_agg's valid binary_logloss: 0.971773 + 0.299887\n",
      "Training until validation scores don't improve for 100 rounds\n",
      "[100]\tcv_agg's valid binary_logloss: 0.971773 + 0.299887\n",
      "Early stopping, best iteration is:\n",
      "[1]\tcv_agg's valid binary_logloss: 0.971773 + 0.299887\n",
      "Training until validation scores don't improve for 100 rounds\n"
     ]
    },
    {
     "name": "stderr",
     "output_type": "stream",
     "text": [
      "num_leaves, val_score: 0.971773:  95%|#########5| 19/20 [00:01<00:00, 13.14it/s]"
     ]
    },
    {
     "name": "stdout",
     "output_type": "stream",
     "text": [
      "[100]\tcv_agg's valid binary_logloss: 0.971773 + 0.299887\n",
      "Early stopping, best iteration is:\n",
      "[1]\tcv_agg's valid binary_logloss: 0.971773 + 0.299887\n",
      "Training until validation scores don't improve for 100 rounds\n",
      "[100]\tcv_agg's valid binary_logloss: 0.971773 + 0.299887\n",
      "Early stopping, best iteration is:\n",
      "[1]\tcv_agg's valid binary_logloss: 0.971773 + 0.299887\n",
      "Training until validation scores don't improve for 100 rounds\n",
      "[100]\tcv_agg's valid binary_logloss: 0.971773 + 0.299887\n",
      "Early stopping, best iteration is:\n",
      "[1]\tcv_agg's valid binary_logloss: 0.971773 + 0.299887\n",
      "Training until validation scores don't improve for 100 rounds\n"
     ]
    },
    {
     "name": "stderr",
     "output_type": "stream",
     "text": [
      "num_leaves, val_score: 0.971773: 100%|##########| 20/20 [00:01<00:00, 13.56it/s]\n"
     ]
    },
    {
     "name": "stdout",
     "output_type": "stream",
     "text": [
      "[100]\tcv_agg's valid binary_logloss: 0.971773 + 0.299887\n",
      "Early stopping, best iteration is:\n",
      "[1]\tcv_agg's valid binary_logloss: 0.971773 + 0.299887\n"
     ]
    },
    {
     "name": "stderr",
     "output_type": "stream",
     "text": [
      "bagging, val_score: 0.971773:  20%|##        | 2/10 [00:00<00:00, 13.30it/s]"
     ]
    },
    {
     "name": "stdout",
     "output_type": "stream",
     "text": [
      "Training until validation scores don't improve for 100 rounds\n",
      "[100]\tcv_agg's valid binary_logloss: 0.971773 + 0.299887\n",
      "Early stopping, best iteration is:\n",
      "[1]\tcv_agg's valid binary_logloss: 0.971773 + 0.299887\n",
      "Training until validation scores don't improve for 100 rounds\n",
      "[100]\tcv_agg's valid binary_logloss: 0.971773 + 0.299887\n",
      "Early stopping, best iteration is:\n",
      "[1]\tcv_agg's valid binary_logloss: 0.971773 + 0.299887\n",
      "Training until validation scores don't improve for 100 rounds\n"
     ]
    },
    {
     "name": "stderr",
     "output_type": "stream",
     "text": [
      "bagging, val_score: 0.971773:  50%|#####     | 5/10 [00:00<00:00, 13.27it/s]"
     ]
    },
    {
     "name": "stdout",
     "output_type": "stream",
     "text": [
      "[100]\tcv_agg's valid binary_logloss: 0.971773 + 0.299887\n",
      "Early stopping, best iteration is:\n",
      "[1]\tcv_agg's valid binary_logloss: 0.971773 + 0.299887\n",
      "Training until validation scores don't improve for 100 rounds\n",
      "[100]\tcv_agg's valid binary_logloss: 0.971773 + 0.299887\n",
      "Early stopping, best iteration is:\n",
      "[1]\tcv_agg's valid binary_logloss: 0.971773 + 0.299887\n",
      "Training until validation scores don't improve for 100 rounds\n",
      "[100]\tcv_agg's valid binary_logloss: 0.971773 + 0.299887\n",
      "Early stopping, best iteration is:\n",
      "[1]\tcv_agg's valid binary_logloss: 0.971773 + 0.299887\n",
      "Training until validation scores don't improve for 100 rounds\n"
     ]
    },
    {
     "name": "stderr",
     "output_type": "stream",
     "text": [
      "bagging, val_score: 0.971773:  80%|########  | 8/10 [00:00<00:00, 12.15it/s]"
     ]
    },
    {
     "name": "stdout",
     "output_type": "stream",
     "text": [
      "[100]\tcv_agg's valid binary_logloss: 0.971773 + 0.299887\n",
      "Early stopping, best iteration is:\n",
      "[1]\tcv_agg's valid binary_logloss: 0.971773 + 0.299887\n",
      "Training until validation scores don't improve for 100 rounds\n",
      "[100]\tcv_agg's valid binary_logloss: 0.971773 + 0.299887\n",
      "Early stopping, best iteration is:\n",
      "[1]\tcv_agg's valid binary_logloss: 0.971773 + 0.299887\n",
      "Training until validation scores don't improve for 100 rounds\n",
      "[100]\tcv_agg's valid binary_logloss: 0.971773 + 0.299887\n",
      "Early stopping, best iteration is:\n",
      "[1]\tcv_agg's valid binary_logloss: 0.971773 + 0.299887\n"
     ]
    },
    {
     "name": "stderr",
     "output_type": "stream",
     "text": [
      "bagging, val_score: 0.971773:  90%|######### | 9/10 [00:00<00:00, 12.15it/s]"
     ]
    },
    {
     "name": "stdout",
     "output_type": "stream",
     "text": [
      "Training until validation scores don't improve for 100 rounds\n",
      "[100]\tcv_agg's valid binary_logloss: 0.971773 + 0.299887\n",
      "Early stopping, best iteration is:\n",
      "[1]\tcv_agg's valid binary_logloss: 0.971773 + 0.299887\n",
      "Training until validation scores don't improve for 100 rounds\n",
      "[100]\tcv_agg's valid binary_logloss: 0.971773 + 0.299887\n",
      "Early stopping, best iteration is:\n",
      "[1]\tcv_agg's valid binary_logloss: 0.971773 + 0.299887\n"
     ]
    },
    {
     "name": "stderr",
     "output_type": "stream",
     "text": [
      "bagging, val_score: 0.971773: 100%|##########| 10/10 [00:00<00:00, 11.69it/s]\n",
      "feature_fraction_stage2, val_score: 0.971773: 100%|##########| 3/3 [00:00<00:00, 17.72it/s]\n"
     ]
    },
    {
     "name": "stdout",
     "output_type": "stream",
     "text": [
      "Training until validation scores don't improve for 100 rounds\n",
      "[100]\tcv_agg's valid binary_logloss: 0.971773 + 0.299887\n",
      "Early stopping, best iteration is:\n",
      "[1]\tcv_agg's valid binary_logloss: 0.971773 + 0.299887\n",
      "Training until validation scores don't improve for 100 rounds\n",
      "[100]\tcv_agg's valid binary_logloss: 0.971773 + 0.299887\n",
      "Early stopping, best iteration is:\n",
      "[1]\tcv_agg's valid binary_logloss: 0.971773 + 0.299887\n",
      "Training until validation scores don't improve for 100 rounds\n",
      "[100]\tcv_agg's valid binary_logloss: 0.971773 + 0.299887\n",
      "Early stopping, best iteration is:\n",
      "[1]\tcv_agg's valid binary_logloss: 0.971773 + 0.299887\n"
     ]
    },
    {
     "name": "stderr",
     "output_type": "stream",
     "text": [
      "regularization_factors, val_score: 0.971773:  15%|#5        | 3/20 [00:00<00:01, 14.83it/s]"
     ]
    },
    {
     "name": "stdout",
     "output_type": "stream",
     "text": [
      "Training until validation scores don't improve for 100 rounds\n",
      "[100]\tcv_agg's valid binary_logloss: 0.971773 + 0.299887\n",
      "Early stopping, best iteration is:\n",
      "[1]\tcv_agg's valid binary_logloss: 0.971773 + 0.299887\n",
      "Training until validation scores don't improve for 100 rounds\n",
      "[100]\tcv_agg's valid binary_logloss: 0.971773 + 0.299887\n",
      "Early stopping, best iteration is:\n",
      "[1]\tcv_agg's valid binary_logloss: 0.971773 + 0.299887\n",
      "Training until validation scores don't improve for 100 rounds\n",
      "[100]\tcv_agg's valid binary_logloss: 0.971773 + 0.299887\n",
      "Early stopping, best iteration is:\n",
      "[1]\tcv_agg's valid binary_logloss: 0.971773 + 0.299887\n"
     ]
    },
    {
     "name": "stderr",
     "output_type": "stream",
     "text": [
      "regularization_factors, val_score: 0.971773:  30%|###       | 6/20 [00:00<00:00, 14.96it/s]"
     ]
    },
    {
     "name": "stdout",
     "output_type": "stream",
     "text": [
      "Training until validation scores don't improve for 100 rounds\n",
      "[100]\tcv_agg's valid binary_logloss: 0.971773 + 0.299887\n",
      "Early stopping, best iteration is:\n",
      "[1]\tcv_agg's valid binary_logloss: 0.971773 + 0.299887\n",
      "Training until validation scores don't improve for 100 rounds\n",
      "[100]\tcv_agg's valid binary_logloss: 0.971773 + 0.299887\n",
      "Early stopping, best iteration is:\n",
      "[1]\tcv_agg's valid binary_logloss: 0.971773 + 0.299887\n",
      "Training until validation scores don't improve for 100 rounds\n",
      "[100]\tcv_agg's valid binary_logloss: 0.971773 + 0.299887\n",
      "Early stopping, best iteration is:\n",
      "[1]\tcv_agg's valid binary_logloss: 0.971773 + 0.299887\n"
     ]
    },
    {
     "name": "stderr",
     "output_type": "stream",
     "text": [
      "regularization_factors, val_score: 0.971773:  40%|####      | 8/20 [00:00<00:00, 13.33it/s]"
     ]
    },
    {
     "name": "stdout",
     "output_type": "stream",
     "text": [
      "Training until validation scores don't improve for 100 rounds\n",
      "[100]\tcv_agg's valid binary_logloss: 0.971773 + 0.299887\n",
      "Early stopping, best iteration is:\n",
      "[1]\tcv_agg's valid binary_logloss: 0.971773 + 0.299887\n",
      "Training until validation scores don't improve for 100 rounds\n",
      "[100]\tcv_agg's valid binary_logloss: 0.971773 + 0.299887\n",
      "Early stopping, best iteration is:\n",
      "[1]\tcv_agg's valid binary_logloss: 0.971773 + 0.299887\n",
      "Training until validation scores don't improve for 100 rounds\n"
     ]
    },
    {
     "name": "stderr",
     "output_type": "stream",
     "text": [
      "regularization_factors, val_score: 0.971773:  55%|#####5    | 11/20 [00:00<00:00, 13.28it/s]"
     ]
    },
    {
     "name": "stdout",
     "output_type": "stream",
     "text": [
      "[100]\tcv_agg's valid binary_logloss: 0.971773 + 0.299887\n",
      "Early stopping, best iteration is:\n",
      "[1]\tcv_agg's valid binary_logloss: 0.971773 + 0.299887\n",
      "Training until validation scores don't improve for 100 rounds\n",
      "[100]\tcv_agg's valid binary_logloss: 0.971773 + 0.299887\n",
      "Early stopping, best iteration is:\n",
      "[1]\tcv_agg's valid binary_logloss: 0.971773 + 0.299887\n",
      "Training until validation scores don't improve for 100 rounds\n",
      "[100]\tcv_agg's valid binary_logloss: 0.971773 + 0.299887\n",
      "Early stopping, best iteration is:\n",
      "[1]\tcv_agg's valid binary_logloss: 0.971773 + 0.299887\n",
      "Training until validation scores don't improve for 100 rounds\n"
     ]
    },
    {
     "name": "stderr",
     "output_type": "stream",
     "text": [
      "regularization_factors, val_score: 0.971773:  70%|#######   | 14/20 [00:01<00:00, 13.08it/s]"
     ]
    },
    {
     "name": "stdout",
     "output_type": "stream",
     "text": [
      "[100]\tcv_agg's valid binary_logloss: 0.971773 + 0.299887\n",
      "Early stopping, best iteration is:\n",
      "[1]\tcv_agg's valid binary_logloss: 0.971773 + 0.299887\n",
      "Training until validation scores don't improve for 100 rounds\n",
      "[100]\tcv_agg's valid binary_logloss: 0.971773 + 0.299887\n",
      "Early stopping, best iteration is:\n",
      "[1]\tcv_agg's valid binary_logloss: 0.971773 + 0.299887\n",
      "Training until validation scores don't improve for 100 rounds\n",
      "[100]\tcv_agg's valid binary_logloss: 0.971773 + 0.299887\n",
      "Early stopping, best iteration is:\n",
      "[1]\tcv_agg's valid binary_logloss: 0.971773 + 0.299887\n",
      "Training until validation scores don't improve for 100 rounds\n"
     ]
    },
    {
     "name": "stderr",
     "output_type": "stream",
     "text": [
      "regularization_factors, val_score: 0.971773:  85%|########5 | 17/20 [00:01<00:00, 13.41it/s]"
     ]
    },
    {
     "name": "stdout",
     "output_type": "stream",
     "text": [
      "[100]\tcv_agg's valid binary_logloss: 0.971773 + 0.299887\n",
      "Early stopping, best iteration is:\n",
      "[1]\tcv_agg's valid binary_logloss: 0.971773 + 0.299887\n",
      "Training until validation scores don't improve for 100 rounds\n",
      "[100]\tcv_agg's valid binary_logloss: 0.971773 + 0.299887\n",
      "Early stopping, best iteration is:\n",
      "[1]\tcv_agg's valid binary_logloss: 0.971773 + 0.299887\n",
      "Training until validation scores don't improve for 100 rounds\n",
      "[100]\tcv_agg's valid binary_logloss: 0.971773 + 0.299887\n",
      "Early stopping, best iteration is:\n",
      "[1]\tcv_agg's valid binary_logloss: 0.971773 + 0.299887\n",
      "Training until validation scores don't improve for 100 rounds\n"
     ]
    },
    {
     "name": "stderr",
     "output_type": "stream",
     "text": [
      "regularization_factors, val_score: 0.971773: 100%|##########| 20/20 [00:01<00:00, 13.50it/s]\n"
     ]
    },
    {
     "name": "stdout",
     "output_type": "stream",
     "text": [
      "[100]\tcv_agg's valid binary_logloss: 0.971773 + 0.299887\n",
      "Early stopping, best iteration is:\n",
      "[1]\tcv_agg's valid binary_logloss: 0.971773 + 0.299887\n",
      "Training until validation scores don't improve for 100 rounds\n",
      "[100]\tcv_agg's valid binary_logloss: 0.971773 + 0.299887\n",
      "Early stopping, best iteration is:\n",
      "[1]\tcv_agg's valid binary_logloss: 0.971773 + 0.299887\n",
      "Training until validation scores don't improve for 100 rounds\n",
      "[100]\tcv_agg's valid binary_logloss: 0.971773 + 0.299887\n",
      "Early stopping, best iteration is:\n",
      "[1]\tcv_agg's valid binary_logloss: 0.971773 + 0.299887\n"
     ]
    },
    {
     "name": "stderr",
     "output_type": "stream",
     "text": [
      "min_child_samples, val_score: 0.971773:   0%|          | 0/5 [00:00<?, ?it/s]"
     ]
    },
    {
     "name": "stdout",
     "output_type": "stream",
     "text": [
      "Training until validation scores don't improve for 100 rounds"
     ]
    },
    {
     "name": "stderr",
     "output_type": "stream",
     "text": [
      "min_child_samples, val_score: 0.971773:  40%|####      | 2/5 [00:00<00:00, 15.95it/s]"
     ]
    },
    {
     "name": "stdout",
     "output_type": "stream",
     "text": [
      "\n",
      "[100]\tcv_agg's valid binary_logloss: 0.971773 + 0.299887\n",
      "Early stopping, best iteration is:\n",
      "[1]\tcv_agg's valid binary_logloss: 0.971773 + 0.299887\n",
      "Training until validation scores don't improve for 100 rounds\n",
      "[100]\tcv_agg's valid binary_logloss: 0.971773 + 0.299887\n",
      "Early stopping, best iteration is:\n",
      "[1]\tcv_agg's valid binary_logloss: 0.971773 + 0.299887\n",
      "Training until validation scores don't improve for 100 rounds\n"
     ]
    },
    {
     "name": "stderr",
     "output_type": "stream",
     "text": [
      "min_child_samples, val_score: 0.871818: 100%|##########| 5/5 [00:00<00:00, 12.80it/s]"
     ]
    },
    {
     "name": "stdout",
     "output_type": "stream",
     "text": [
      "[100]\tcv_agg's valid binary_logloss: 2.75744 + 1.49215\n",
      "Early stopping, best iteration is:\n",
      "[4]\tcv_agg's valid binary_logloss: 0.871818 + 0.329401\n",
      "Training until validation scores don't improve for 100 rounds\n",
      "[100]\tcv_agg's valid binary_logloss: 1.57656 + 1.2281\n",
      "Early stopping, best iteration is:\n",
      "[5]\tcv_agg's valid binary_logloss: 0.888189 + 0.274113\n",
      "Training until validation scores don't improve for 100 rounds\n",
      "[100]\tcv_agg's valid binary_logloss: 0.971773 + 0.299887\n",
      "Early stopping, best iteration is:\n",
      "[1]\tcv_agg's valid binary_logloss: 0.971773 + 0.299887\n"
     ]
    },
    {
     "name": "stderr",
     "output_type": "stream",
     "text": [
      "\n"
     ]
    },
    {
     "name": "stdout",
     "output_type": "stream",
     "text": [
      "{'accuracy': 0.8421052631578947, 'balanced_accuracy': np.float64(0.8125), 'f1': np.float64(0.7692307692307693), 'precision': np.float64(1.0), 'recall': np.float64(0.625), 'specificity': np.float64(1.0), 'ROC_AUC': np.float64(0.8125), 'MCC': np.float64(0.7007648882267351)}\n"
     ]
    },
    {
     "name": "stderr",
     "output_type": "stream",
     "text": [
      "feature_fraction, val_score: 0.933609:  29%|##8       | 2/7 [00:00<00:00, 16.14it/s]"
     ]
    },
    {
     "name": "stdout",
     "output_type": "stream",
     "text": [
      "Training until validation scores don't improve for 100 rounds\n",
      "[100]\tcv_agg's valid binary_logloss: 0.933609 + 0.305275\n",
      "Early stopping, best iteration is:\n",
      "[1]\tcv_agg's valid binary_logloss: 0.933609 + 0.305275\n",
      "Training until validation scores don't improve for 100 rounds\n",
      "[100]\tcv_agg's valid binary_logloss: 0.933609 + 0.305275\n",
      "Early stopping, best iteration is:\n",
      "[1]\tcv_agg's valid binary_logloss: 0.933609 + 0.305275\n",
      "Training until validation scores don't improve for 100 rounds\n",
      "[100]\tcv_agg's valid binary_logloss: 0.933609 + 0.305275\n",
      "Early stopping, best iteration is:\n",
      "[1]\tcv_agg's valid binary_logloss: 0.933609 + 0.305275\n"
     ]
    },
    {
     "name": "stderr",
     "output_type": "stream",
     "text": [
      "feature_fraction, val_score: 0.933609:  86%|########5 | 6/7 [00:00<00:00, 16.39it/s]"
     ]
    },
    {
     "name": "stdout",
     "output_type": "stream",
     "text": [
      "Training until validation scores don't improve for 100 rounds\n",
      "[100]\tcv_agg's valid binary_logloss: 0.933609 + 0.305275\n",
      "Early stopping, best iteration is:\n",
      "[1]\tcv_agg's valid binary_logloss: 0.933609 + 0.305275\n",
      "Training until validation scores don't improve for 100 rounds\n",
      "[100]\tcv_agg's valid binary_logloss: 0.933609 + 0.305275\n",
      "Early stopping, best iteration is:\n",
      "[1]\tcv_agg's valid binary_logloss: 0.933609 + 0.305275\n",
      "Training until validation scores don't improve for 100 rounds\n",
      "[100]\tcv_agg's valid binary_logloss: 0.933609 + 0.305275\n",
      "Early stopping, best iteration is:\n",
      "[1]\tcv_agg's valid binary_logloss: 0.933609 + 0.305275\n",
      "Training until validation scores don't improve for 100 rounds\n"
     ]
    },
    {
     "name": "stderr",
     "output_type": "stream",
     "text": [
      "feature_fraction, val_score: 0.933609: 100%|##########| 7/7 [00:00<00:00, 16.27it/s]\n"
     ]
    },
    {
     "name": "stdout",
     "output_type": "stream",
     "text": [
      "[100]\tcv_agg's valid binary_logloss: 0.933609 + 0.305275\n",
      "Early stopping, best iteration is:\n",
      "[1]\tcv_agg's valid binary_logloss: 0.933609 + 0.305275\n"
     ]
    },
    {
     "name": "stderr",
     "output_type": "stream",
     "text": [
      "num_leaves, val_score: 0.933609:  10%|#         | 2/20 [00:00<00:01, 16.39it/s]"
     ]
    },
    {
     "name": "stdout",
     "output_type": "stream",
     "text": [
      "Training until validation scores don't improve for 100 rounds\n",
      "[100]\tcv_agg's valid binary_logloss: 0.933609 + 0.305275\n",
      "Early stopping, best iteration is:\n",
      "[1]\tcv_agg's valid binary_logloss: 0.933609 + 0.305275\n",
      "Training until validation scores don't improve for 100 rounds\n",
      "[100]\tcv_agg's valid binary_logloss: 0.933609 + 0.305275\n",
      "Early stopping, best iteration is:\n",
      "[1]\tcv_agg's valid binary_logloss: 0.933609 + 0.305275\n",
      "Training until validation scores don't improve for 100 rounds\n",
      "[100]\tcv_agg's valid binary_logloss: 0.933609 + 0.305275\n",
      "Early stopping, best iteration is:\n",
      "[1]\tcv_agg's valid binary_logloss: 0.933609 + 0.305275\n"
     ]
    },
    {
     "name": "stderr",
     "output_type": "stream",
     "text": [
      "num_leaves, val_score: 0.933609:  25%|##5       | 5/20 [00:00<00:00, 16.30it/s]"
     ]
    },
    {
     "name": "stdout",
     "output_type": "stream",
     "text": [
      "Training until validation scores don't improve for 100 rounds\n",
      "[100]\tcv_agg's valid binary_logloss: 0.933609 + 0.305275\n",
      "Early stopping, best iteration is:\n",
      "[1]\tcv_agg's valid binary_logloss: 0.933609 + 0.305275\n",
      "Training until validation scores don't improve for 100 rounds\n",
      "[100]\tcv_agg's valid binary_logloss: 0.933609 + 0.305275\n",
      "Early stopping, best iteration is:\n",
      "[1]\tcv_agg's valid binary_logloss: 0.933609 + 0.305275\n",
      "Training until validation scores don't improve for 100 rounds\n",
      "[100]\tcv_agg's valid binary_logloss: 0.933609 + 0.305275\n",
      "Early stopping, best iteration is:\n",
      "[1]\tcv_agg's valid binary_logloss: 0.933609 + 0.305275\n"
     ]
    },
    {
     "name": "stderr",
     "output_type": "stream",
     "text": [
      "num_leaves, val_score: 0.933609:  45%|####5     | 9/20 [00:00<00:00, 15.17it/s]"
     ]
    },
    {
     "name": "stdout",
     "output_type": "stream",
     "text": [
      "Training until validation scores don't improve for 100 rounds\n",
      "[100]\tcv_agg's valid binary_logloss: 0.933609 + 0.305275\n",
      "Early stopping, best iteration is:\n",
      "[1]\tcv_agg's valid binary_logloss: 0.933609 + 0.305275\n",
      "Training until validation scores don't improve for 100 rounds\n",
      "[100]\tcv_agg's valid binary_logloss: 0.933609 + 0.305275\n",
      "Early stopping, best iteration is:\n",
      "[1]\tcv_agg's valid binary_logloss: 0.933609 + 0.305275\n",
      "Training until validation scores don't improve for 100 rounds\n",
      "[100]\tcv_agg's valid binary_logloss: 0.933609 + 0.305275\n",
      "Early stopping, best iteration is:\n",
      "[1]\tcv_agg's valid binary_logloss: 0.933609 + 0.305275\n"
     ]
    },
    {
     "name": "stderr",
     "output_type": "stream",
     "text": [
      "num_leaves, val_score: 0.933609:  55%|#####5    | 11/20 [00:00<00:00, 14.44it/s]"
     ]
    },
    {
     "name": "stdout",
     "output_type": "stream",
     "text": [
      "Training until validation scores don't improve for 100 rounds\n",
      "[100]\tcv_agg's valid binary_logloss: 0.933609 + 0.305275\n",
      "Early stopping, best iteration is:\n",
      "[1]\tcv_agg's valid binary_logloss: 0.933609 + 0.305275\n",
      "Training until validation scores don't improve for 100 rounds\n",
      "[100]\tcv_agg's valid binary_logloss: 0.933609 + 0.305275\n",
      "Early stopping, best iteration is:\n",
      "[1]\tcv_agg's valid binary_logloss: 0.933609 + 0.305275\n",
      "Training until validation scores don't improve for 100 rounds\n",
      "[100]\tcv_agg's valid binary_logloss: 0.933609 + 0.305275\n",
      "Early stopping, best iteration is:\n",
      "[1]\tcv_agg's valid binary_logloss: 0.933609 + 0.305275\n"
     ]
    },
    {
     "name": "stderr",
     "output_type": "stream",
     "text": [
      "num_leaves, val_score: 0.933609:  70%|#######   | 14/20 [00:01<00:00, 14.49it/s]"
     ]
    },
    {
     "name": "stdout",
     "output_type": "stream",
     "text": [
      "Training until validation scores don't improve for 100 rounds\n",
      "[100]\tcv_agg's valid binary_logloss: 0.933609 + 0.305275\n",
      "Early stopping, best iteration is:\n",
      "[1]\tcv_agg's valid binary_logloss: 0.933609 + 0.305275\n",
      "Training until validation scores don't improve for 100 rounds\n",
      "[100]\tcv_agg's valid binary_logloss: 0.933609 + 0.305275\n",
      "Early stopping, best iteration is:\n",
      "[1]\tcv_agg's valid binary_logloss: 0.933609 + 0.305275\n",
      "Training until validation scores don't improve for 100 rounds\n",
      "[100]\tcv_agg's valid binary_logloss: 0.933609 + 0.305275\n",
      "Early stopping, best iteration is:\n",
      "[1]\tcv_agg's valid binary_logloss: 0.933609 + 0.305275\n"
     ]
    },
    {
     "name": "stderr",
     "output_type": "stream",
     "text": [
      "num_leaves, val_score: 0.933609:  85%|########5 | 17/20 [00:01<00:00, 14.70it/s]"
     ]
    },
    {
     "name": "stdout",
     "output_type": "stream",
     "text": [
      "Training until validation scores don't improve for 100 rounds\n",
      "[100]\tcv_agg's valid binary_logloss: 0.933609 + 0.305275\n",
      "Early stopping, best iteration is:\n",
      "[1]\tcv_agg's valid binary_logloss: 0.933609 + 0.305275\n",
      "Training until validation scores don't improve for 100 rounds\n",
      "[100]\tcv_agg's valid binary_logloss: 0.933609 + 0.305275\n",
      "Early stopping, best iteration is:\n",
      "[1]\tcv_agg's valid binary_logloss: 0.933609 + 0.305275\n",
      "Training until validation scores don't improve for 100 rounds\n"
     ]
    },
    {
     "name": "stderr",
     "output_type": "stream",
     "text": [
      "num_leaves, val_score: 0.933609: 100%|##########| 20/20 [00:01<00:00, 14.50it/s]\n"
     ]
    },
    {
     "name": "stdout",
     "output_type": "stream",
     "text": [
      "[100]\tcv_agg's valid binary_logloss: 0.933609 + 0.305275\n",
      "Early stopping, best iteration is:\n",
      "[1]\tcv_agg's valid binary_logloss: 0.933609 + 0.305275\n",
      "Training until validation scores don't improve for 100 rounds\n",
      "[100]\tcv_agg's valid binary_logloss: 0.933609 + 0.305275\n",
      "Early stopping, best iteration is:\n",
      "[1]\tcv_agg's valid binary_logloss: 0.933609 + 0.305275\n",
      "Training until validation scores don't improve for 100 rounds\n",
      "[100]\tcv_agg's valid binary_logloss: 0.933609 + 0.305275\n",
      "Early stopping, best iteration is:\n",
      "[1]\tcv_agg's valid binary_logloss: 0.933609 + 0.305275\n"
     ]
    },
    {
     "name": "stderr",
     "output_type": "stream",
     "text": [
      "bagging, val_score: 0.933609:   0%|          | 0/10 [00:00<?, ?it/s]"
     ]
    },
    {
     "name": "stdout",
     "output_type": "stream",
     "text": [
      "Training until validation scores don't improve for 100 rounds"
     ]
    },
    {
     "name": "stderr",
     "output_type": "stream",
     "text": [
      "bagging, val_score: 0.933609:  20%|##        | 2/10 [00:00<00:00, 11.89it/s]"
     ]
    },
    {
     "name": "stdout",
     "output_type": "stream",
     "text": [
      "\n",
      "[100]\tcv_agg's valid binary_logloss: 0.933609 + 0.305275\n",
      "Early stopping, best iteration is:\n",
      "[1]\tcv_agg's valid binary_logloss: 0.933609 + 0.305275\n",
      "Training until validation scores don't improve for 100 rounds\n",
      "[100]\tcv_agg's valid binary_logloss: 0.933609 + 0.305275\n",
      "Early stopping, best iteration is:\n",
      "[1]\tcv_agg's valid binary_logloss: 0.933609 + 0.305275\n",
      "Training until validation scores don't improve for 100 rounds\n"
     ]
    },
    {
     "name": "stderr",
     "output_type": "stream",
     "text": [
      "bagging, val_score: 0.933609:  40%|####      | 4/10 [00:00<00:00, 10.66it/s]"
     ]
    },
    {
     "name": "stdout",
     "output_type": "stream",
     "text": [
      "[100]\tcv_agg's valid binary_logloss: 0.933609 + 0.305275\n",
      "Early stopping, best iteration is:\n",
      "[1]\tcv_agg's valid binary_logloss: 0.933609 + 0.305275\n",
      "Training until validation scores don't improve for 100 rounds\n",
      "[100]\tcv_agg's valid binary_logloss: 0.933609 + 0.305275\n",
      "Early stopping, best iteration is:\n",
      "[1]\tcv_agg's valid binary_logloss: 0.933609 + 0.305275\n",
      "Training until validation scores don't improve for 100 rounds\n"
     ]
    },
    {
     "name": "stderr",
     "output_type": "stream",
     "text": [
      "bagging, val_score: 0.933609:  60%|######    | 6/10 [00:00<00:00, 10.13it/s]"
     ]
    },
    {
     "name": "stdout",
     "output_type": "stream",
     "text": [
      "[100]\tcv_agg's valid binary_logloss: 0.933609 + 0.305275\n",
      "Early stopping, best iteration is:\n",
      "[1]\tcv_agg's valid binary_logloss: 0.933609 + 0.305275\n",
      "Training until validation scores don't improve for 100 rounds\n",
      "[100]\tcv_agg's valid binary_logloss: 0.933609 + 0.305275\n",
      "Early stopping, best iteration is:\n",
      "[1]\tcv_agg's valid binary_logloss: 0.933609 + 0.305275\n",
      "Training until validation scores don't improve for 100 rounds\n",
      "[100]\tcv_agg's valid binary_logloss: 0.933609 + 0.305275\n",
      "Early stopping, best iteration is:\n",
      "[1]\tcv_agg's valid binary_logloss: 0.933609 + 0.305275\n"
     ]
    },
    {
     "name": "stderr",
     "output_type": "stream",
     "text": [
      "bagging, val_score: 0.933609:  90%|######### | 9/10 [00:00<00:00, 10.41it/s]"
     ]
    },
    {
     "name": "stdout",
     "output_type": "stream",
     "text": [
      "Training until validation scores don't improve for 100 rounds\n",
      "[100]\tcv_agg's valid binary_logloss: 0.933609 + 0.305275\n",
      "Early stopping, best iteration is:\n",
      "[1]\tcv_agg's valid binary_logloss: 0.933609 + 0.305275\n",
      "Training until validation scores don't improve for 100 rounds\n",
      "[100]\tcv_agg's valid binary_logloss: 0.933609 + 0.305275\n",
      "Early stopping, best iteration is:\n",
      "[1]\tcv_agg's valid binary_logloss: 0.933609 + 0.305275\n",
      "Training until validation scores don't improve for 100 rounds\n"
     ]
    },
    {
     "name": "stderr",
     "output_type": "stream",
     "text": [
      "bagging, val_score: 0.933609: 100%|##########| 10/10 [00:00<00:00, 10.74it/s]\n"
     ]
    },
    {
     "name": "stdout",
     "output_type": "stream",
     "text": [
      "[100]\tcv_agg's valid binary_logloss: 0.933609 + 0.305275\n",
      "Early stopping, best iteration is:\n",
      "[1]\tcv_agg's valid binary_logloss: 0.933609 + 0.305275\n"
     ]
    },
    {
     "name": "stderr",
     "output_type": "stream",
     "text": [
      "feature_fraction_stage2, val_score: 0.933609:  67%|######6   | 2/3 [00:00<00:00, 15.89it/s]"
     ]
    },
    {
     "name": "stdout",
     "output_type": "stream",
     "text": [
      "Training until validation scores don't improve for 100 rounds\n",
      "[100]\tcv_agg's valid binary_logloss: 0.933609 + 0.305275\n",
      "Early stopping, best iteration is:\n",
      "[1]\tcv_agg's valid binary_logloss: 0.933609 + 0.305275\n",
      "Training until validation scores don't improve for 100 rounds\n",
      "[100]\tcv_agg's valid binary_logloss: 0.933609 + 0.305275\n",
      "Early stopping, best iteration is:\n",
      "[1]\tcv_agg's valid binary_logloss: 0.933609 + 0.305275\n",
      "Training until validation scores don't improve for 100 rounds\n",
      "[100]\tcv_agg's valid binary_logloss: 0.933609 + 0.305275\n",
      "Early stopping, best iteration is:\n",
      "[1]\tcv_agg's valid binary_logloss: 0.933609 + 0.305275\n"
     ]
    },
    {
     "name": "stderr",
     "output_type": "stream",
     "text": [
      "feature_fraction_stage2, val_score: 0.933609: 100%|##########| 3/3 [00:00<00:00, 16.16it/s]\n",
      "regularization_factors, val_score: 0.933609:  10%|#         | 2/20 [00:00<00:01, 13.71it/s]"
     ]
    },
    {
     "name": "stdout",
     "output_type": "stream",
     "text": [
      "Training until validation scores don't improve for 100 rounds\n",
      "[100]\tcv_agg's valid binary_logloss: 0.933609 + 0.305275\n",
      "Early stopping, best iteration is:\n",
      "[1]\tcv_agg's valid binary_logloss: 0.933609 + 0.305275\n",
      "Training until validation scores don't improve for 100 rounds\n",
      "[100]\tcv_agg's valid binary_logloss: 0.933609 + 0.305275\n",
      "Early stopping, best iteration is:\n",
      "[1]\tcv_agg's valid binary_logloss: 0.933609 + 0.305275\n",
      "Training until validation scores don't improve for 100 rounds\n",
      "[100]\tcv_agg's valid binary_logloss: 0.933609 + 0.305275\n",
      "Early stopping, best iteration is:\n",
      "[1]\tcv_agg's valid binary_logloss: 0.933609 + 0.305275\n"
     ]
    },
    {
     "name": "stderr",
     "output_type": "stream",
     "text": [
      "regularization_factors, val_score: 0.933609:  20%|##        | 4/20 [00:00<00:01, 13.72it/s]"
     ]
    },
    {
     "name": "stdout",
     "output_type": "stream",
     "text": [
      "Training until validation scores don't improve for 100 rounds\n",
      "[100]\tcv_agg's valid binary_logloss: 0.933609 + 0.305275\n",
      "Early stopping, best iteration is:\n",
      "[1]\tcv_agg's valid binary_logloss: 0.933609 + 0.305275\n"
     ]
    },
    {
     "name": "stderr",
     "output_type": "stream",
     "text": [
      "regularization_factors, val_score: 0.933609:  35%|###5      | 7/20 [00:00<00:01,  8.32it/s]"
     ]
    },
    {
     "name": "stdout",
     "output_type": "stream",
     "text": [
      "Training until validation scores don't improve for 100 rounds\n",
      "[100]\tcv_agg's valid binary_logloss: 0.933609 + 0.305275\n",
      "Early stopping, best iteration is:\n",
      "[1]\tcv_agg's valid binary_logloss: 0.933609 + 0.305275\n",
      "Training until validation scores don't improve for 100 rounds\n",
      "[100]\tcv_agg's valid binary_logloss: 0.933609 + 0.305275\n",
      "Early stopping, best iteration is:\n",
      "[1]\tcv_agg's valid binary_logloss: 0.933609 + 0.305275\n",
      "Training until validation scores don't improve for 100 rounds\n",
      "[100]\tcv_agg's valid binary_logloss: 0.933609 + 0.305275\n",
      "Early stopping, best iteration is:\n",
      "[1]\tcv_agg's valid binary_logloss: 0.933609 + 0.305275\n"
     ]
    },
    {
     "name": "stderr",
     "output_type": "stream",
     "text": [
      "regularization_factors, val_score: 0.933609:  45%|####5     | 9/20 [00:00<00:01,  9.99it/s]"
     ]
    },
    {
     "name": "stdout",
     "output_type": "stream",
     "text": [
      "Training until validation scores don't improve for 100 rounds\n",
      "[100]\tcv_agg's valid binary_logloss: 0.933609 + 0.305275\n",
      "Early stopping, best iteration is:\n",
      "[1]\tcv_agg's valid binary_logloss: 0.933609 + 0.305275\n",
      "Training until validation scores don't improve for 100 rounds\n",
      "[100]\tcv_agg's valid binary_logloss: 0.933609 + 0.305275\n",
      "Early stopping, best iteration is:\n",
      "[1]\tcv_agg's valid binary_logloss: 0.933609 + 0.305275\n",
      "Training until validation scores don't improve for 100 rounds\n",
      "[100]\tcv_agg's valid binary_logloss: 0.933609 + 0.305275\n",
      "Early stopping, best iteration is:\n",
      "[1]\tcv_agg's valid binary_logloss: 0.933609 + 0.305275\n"
     ]
    },
    {
     "name": "stderr",
     "output_type": "stream",
     "text": [
      "regularization_factors, val_score: 0.933609:  60%|######    | 12/20 [00:01<00:00, 11.87it/s]"
     ]
    },
    {
     "name": "stdout",
     "output_type": "stream",
     "text": [
      "Training until validation scores don't improve for 100 rounds\n",
      "[100]\tcv_agg's valid binary_logloss: 0.933609 + 0.305275\n",
      "Early stopping, best iteration is:\n",
      "[1]\tcv_agg's valid binary_logloss: 0.933609 + 0.305275\n",
      "Training until validation scores don't improve for 100 rounds\n",
      "[100]\tcv_agg's valid binary_logloss: 0.933609 + 0.305275\n",
      "Early stopping, best iteration is:\n",
      "[1]\tcv_agg's valid binary_logloss: 0.933609 + 0.305275\n",
      "Training until validation scores don't improve for 100 rounds\n",
      "[100]\tcv_agg's valid binary_logloss: 0.933609 + 0.305275\n",
      "Early stopping, best iteration is:\n",
      "[1]\tcv_agg's valid binary_logloss: 0.933609 + 0.305275\n"
     ]
    },
    {
     "name": "stderr",
     "output_type": "stream",
     "text": [
      "regularization_factors, val_score: 0.933609:  75%|#######5  | 15/20 [00:01<00:00, 12.32it/s]"
     ]
    },
    {
     "name": "stdout",
     "output_type": "stream",
     "text": [
      "Training until validation scores don't improve for 100 rounds\n",
      "[100]\tcv_agg's valid binary_logloss: 0.933609 + 0.305275\n",
      "Early stopping, best iteration is:\n",
      "[1]\tcv_agg's valid binary_logloss: 0.933609 + 0.305275\n",
      "Training until validation scores don't improve for 100 rounds\n",
      "[100]\tcv_agg's valid binary_logloss: 0.933609 + 0.305275\n",
      "Early stopping, best iteration is:\n",
      "[1]\tcv_agg's valid binary_logloss: 0.933609 + 0.305275\n",
      "Training until validation scores don't improve for 100 rounds\n",
      "[100]\tcv_agg's valid binary_logloss: 0.933609 + 0.305275\n",
      "Early stopping, best iteration is:\n",
      "[1]\tcv_agg's valid binary_logloss: 0.933609 + 0.305275\n"
     ]
    },
    {
     "name": "stderr",
     "output_type": "stream",
     "text": [
      "regularization_factors, val_score: 0.933609:  90%|######### | 18/20 [00:01<00:00, 12.22it/s]"
     ]
    },
    {
     "name": "stdout",
     "output_type": "stream",
     "text": [
      "Training until validation scores don't improve for 100 rounds\n",
      "[100]\tcv_agg's valid binary_logloss: 0.933609 + 0.305275\n",
      "Early stopping, best iteration is:\n",
      "[1]\tcv_agg's valid binary_logloss: 0.933609 + 0.305275\n",
      "Training until validation scores don't improve for 100 rounds\n",
      "[100]\tcv_agg's valid binary_logloss: 0.933609 + 0.305275\n",
      "Early stopping, best iteration is:\n",
      "[1]\tcv_agg's valid binary_logloss: 0.933609 + 0.305275\n",
      "Training until validation scores don't improve for 100 rounds\n"
     ]
    },
    {
     "name": "stderr",
     "output_type": "stream",
     "text": [
      "regularization_factors, val_score: 0.933609: 100%|##########| 20/20 [00:01<00:00, 11.65it/s]\n"
     ]
    },
    {
     "name": "stdout",
     "output_type": "stream",
     "text": [
      "[100]\tcv_agg's valid binary_logloss: 0.933609 + 0.305275\n",
      "Early stopping, best iteration is:\n",
      "[1]\tcv_agg's valid binary_logloss: 0.933609 + 0.305275\n",
      "Training until validation scores don't improve for 100 rounds\n",
      "[100]\tcv_agg's valid binary_logloss: 0.933609 + 0.305275\n",
      "Early stopping, best iteration is:\n",
      "[1]\tcv_agg's valid binary_logloss: 0.933609 + 0.305275\n"
     ]
    },
    {
     "name": "stderr",
     "output_type": "stream",
     "text": [
      "min_child_samples, val_score: 0.933609:  20%|##        | 1/5 [00:00<00:00, 13.41it/s]"
     ]
    },
    {
     "name": "stdout",
     "output_type": "stream",
     "text": [
      "Training until validation scores don't improve for 100 rounds\n",
      "[100]\tcv_agg's valid binary_logloss: 0.933609 + 0.305275\n",
      "Early stopping, best iteration is:\n",
      "[1]\tcv_agg's valid binary_logloss: 0.933609 + 0.305275\n",
      "Training until validation scores don't improve for 100 rounds\n"
     ]
    },
    {
     "name": "stderr",
     "output_type": "stream",
     "text": [
      "min_child_samples, val_score: 0.933609:  40%|####      | 2/5 [00:00<00:00, 14.38it/s]"
     ]
    },
    {
     "name": "stdout",
     "output_type": "stream",
     "text": [
      "[100]\tcv_agg's valid binary_logloss: 0.933609 + 0.305275\n",
      "Early stopping, best iteration is:\n",
      "[1]\tcv_agg's valid binary_logloss: 0.933609 + 0.305275\n",
      "Training until validation scores don't improve for 100 rounds\n"
     ]
    },
    {
     "name": "stderr",
     "output_type": "stream",
     "text": [
      "min_child_samples, val_score: 0.874992:  60%|######    | 3/5 [00:00<00:00, 14.38it/s]"
     ]
    },
    {
     "name": "stdout",
     "output_type": "stream",
     "text": [
      "[100]\tcv_agg's valid binary_logloss: 2.54876 + 1.40962\n",
      "Early stopping, best iteration is:\n",
      "[4]\tcv_agg's valid binary_logloss: 0.874992 + 0.234779\n",
      "Training until validation scores don't improve for 100 rounds\n"
     ]
    },
    {
     "name": "stderr",
     "output_type": "stream",
     "text": [
      "min_child_samples, val_score: 0.817175:  80%|########  | 4/5 [00:00<00:00,  9.64it/s]"
     ]
    },
    {
     "name": "stdout",
     "output_type": "stream",
     "text": [
      "[100]\tcv_agg's valid binary_logloss: 0.905009 + 0.253361\n",
      "Early stopping, best iteration is:\n",
      "[43]\tcv_agg's valid binary_logloss: 0.817175 + 0.253075\n",
      "Training until validation scores don't improve for 100 rounds\n",
      "[100]\tcv_agg's valid binary_logloss: 0.933609 + 0.305275\n",
      "Early stopping, best iteration is:\n",
      "[1]\tcv_agg's valid binary_logloss: 0.933609 + 0.305275\n"
     ]
    },
    {
     "name": "stderr",
     "output_type": "stream",
     "text": [
      "min_child_samples, val_score: 0.817175: 100%|##########| 5/5 [00:00<00:00, 11.12it/s]\n"
     ]
    },
    {
     "name": "stdout",
     "output_type": "stream",
     "text": [
      "{'accuracy': 0.6666666666666666, 'balanced_accuracy': np.float64(0.675), 'f1': np.float64(0.6666666666666666), 'precision': np.float64(0.6), 'recall': np.float64(0.75), 'specificity': np.float64(0.6), 'ROC_AUC': np.float64(0.675), 'MCC': np.float64(0.35)}\n"
     ]
    },
    {
     "name": "stderr",
     "output_type": "stream",
     "text": [
      "feature_fraction, val_score: 0.972426:  29%|##8       | 2/7 [00:00<00:00, 15.63it/s]"
     ]
    },
    {
     "name": "stdout",
     "output_type": "stream",
     "text": [
      "Training until validation scores don't improve for 100 rounds\n",
      "[100]\tcv_agg's valid binary_logloss: 0.972426 + 0.257546\n",
      "Early stopping, best iteration is:\n",
      "[1]\tcv_agg's valid binary_logloss: 0.972426 + 0.257546\n",
      "Training until validation scores don't improve for 100 rounds\n",
      "[100]\tcv_agg's valid binary_logloss: 0.972426 + 0.257546\n",
      "Early stopping, best iteration is:\n",
      "[1]\tcv_agg's valid binary_logloss: 0.972426 + 0.257546\n",
      "Training until validation scores don't improve for 100 rounds\n",
      "[100]\tcv_agg's valid binary_logloss: 0.972426 + 0.257546\n",
      "Early stopping, best iteration is:\n",
      "[1]\tcv_agg's valid binary_logloss: 0.972426 + 0.257546\n"
     ]
    },
    {
     "name": "stderr",
     "output_type": "stream",
     "text": [
      "feature_fraction, val_score: 0.972426:  43%|####2     | 3/7 [00:00<00:00, 15.63it/s]"
     ]
    },
    {
     "name": "stdout",
     "output_type": "stream",
     "text": [
      "Training until validation scores don't improve for 100 rounds"
     ]
    },
    {
     "name": "stderr",
     "output_type": "stream",
     "text": [
      "feature_fraction, val_score: 0.972426:  86%|########5 | 6/7 [00:00<00:00, 17.02it/s]"
     ]
    },
    {
     "name": "stdout",
     "output_type": "stream",
     "text": [
      "\n",
      "[100]\tcv_agg's valid binary_logloss: 0.972426 + 0.257546\n",
      "Early stopping, best iteration is:\n",
      "[1]\tcv_agg's valid binary_logloss: 0.972426 + 0.257546\n",
      "Training until validation scores don't improve for 100 rounds\n",
      "[100]\tcv_agg's valid binary_logloss: 0.972426 + 0.257546\n",
      "Early stopping, best iteration is:\n",
      "[1]\tcv_agg's valid binary_logloss: 0.972426 + 0.257546\n",
      "Training until validation scores don't improve for 100 rounds\n",
      "[100]\tcv_agg's valid binary_logloss: 0.972426 + 0.257546\n",
      "Early stopping, best iteration is:\n",
      "[1]\tcv_agg's valid binary_logloss: 0.972426 + 0.257546\n",
      "Training until validation scores don't improve for 100 rounds\n"
     ]
    },
    {
     "name": "stderr",
     "output_type": "stream",
     "text": [
      "feature_fraction, val_score: 0.972426: 100%|##########| 7/7 [00:00<00:00, 16.62it/s]\n"
     ]
    },
    {
     "name": "stdout",
     "output_type": "stream",
     "text": [
      "[100]\tcv_agg's valid binary_logloss: 0.972426 + 0.257546\n",
      "Early stopping, best iteration is:\n",
      "[1]\tcv_agg's valid binary_logloss: 0.972426 + 0.257546\n"
     ]
    },
    {
     "name": "stderr",
     "output_type": "stream",
     "text": [
      "num_leaves, val_score: 0.972426:  10%|#         | 2/20 [00:00<00:01, 13.67it/s]"
     ]
    },
    {
     "name": "stdout",
     "output_type": "stream",
     "text": [
      "Training until validation scores don't improve for 100 rounds\n",
      "[100]\tcv_agg's valid binary_logloss: 0.972426 + 0.257546\n",
      "Early stopping, best iteration is:\n",
      "[1]\tcv_agg's valid binary_logloss: 0.972426 + 0.257546\n",
      "Training until validation scores don't improve for 100 rounds\n",
      "[100]\tcv_agg's valid binary_logloss: 0.972426 + 0.257546\n",
      "Early stopping, best iteration is:\n",
      "[1]\tcv_agg's valid binary_logloss: 0.972426 + 0.257546\n",
      "Training until validation scores don't improve for 100 rounds\n",
      "[100]\tcv_agg's valid binary_logloss: 0.972426 + 0.257546\n"
     ]
    },
    {
     "name": "stderr",
     "output_type": "stream",
     "text": [
      "num_leaves, val_score: 0.972426:  25%|##5       | 5/20 [00:00<00:01, 13.25it/s]"
     ]
    },
    {
     "name": "stdout",
     "output_type": "stream",
     "text": [
      "Early stopping, best iteration is:\n",
      "[1]\tcv_agg's valid binary_logloss: 0.972426 + 0.257546\n",
      "Training until validation scores don't improve for 100 rounds\n",
      "[100]\tcv_agg's valid binary_logloss: 0.972426 + 0.257546\n",
      "Early stopping, best iteration is:\n",
      "[1]\tcv_agg's valid binary_logloss: 0.972426 + 0.257546\n",
      "Training until validation scores don't improve for 100 rounds\n",
      "[100]\tcv_agg's valid binary_logloss: 0.972426 + 0.257546\n",
      "Early stopping, best iteration is:\n",
      "[1]\tcv_agg's valid binary_logloss: 0.972426 + 0.257546\n",
      "Training until validation scores don't improve for 100 rounds\n"
     ]
    },
    {
     "name": "stderr",
     "output_type": "stream",
     "text": [
      "num_leaves, val_score: 0.972426:  40%|####      | 8/20 [00:00<00:00, 13.54it/s]"
     ]
    },
    {
     "name": "stdout",
     "output_type": "stream",
     "text": [
      "[100]\tcv_agg's valid binary_logloss: 0.972426 + 0.257546\n",
      "Early stopping, best iteration is:\n",
      "[1]\tcv_agg's valid binary_logloss: 0.972426 + 0.257546\n",
      "Training until validation scores don't improve for 100 rounds\n",
      "[100]\tcv_agg's valid binary_logloss: 0.972426 + 0.257546\n",
      "Early stopping, best iteration is:\n",
      "[1]\tcv_agg's valid binary_logloss: 0.972426 + 0.257546\n",
      "Training until validation scores don't improve for 100 rounds\n",
      "[100]\tcv_agg's valid binary_logloss: 0.972426 + 0.257546\n",
      "Early stopping, best iteration is:\n",
      "[1]\tcv_agg's valid binary_logloss: 0.972426 + 0.257546\n",
      "Training until validation scores don't improve for 100 rounds\n"
     ]
    },
    {
     "name": "stderr",
     "output_type": "stream",
     "text": [
      "num_leaves, val_score: 0.972426:  55%|#####5    | 11/20 [00:00<00:00, 13.47it/s]"
     ]
    },
    {
     "name": "stdout",
     "output_type": "stream",
     "text": [
      "[100]\tcv_agg's valid binary_logloss: 0.972426 + 0.257546\n",
      "Early stopping, best iteration is:\n",
      "[1]\tcv_agg's valid binary_logloss: 0.972426 + 0.257546\n",
      "Training until validation scores don't improve for 100 rounds\n",
      "[100]\tcv_agg's valid binary_logloss: 0.972426 + 0.257546\n",
      "Early stopping, best iteration is:\n",
      "[1]\tcv_agg's valid binary_logloss: 0.972426 + 0.257546\n",
      "Training until validation scores don't improve for 100 rounds\n",
      "[100]\tcv_agg's valid binary_logloss: 0.972426 + 0.257546\n",
      "Early stopping, best iteration is:\n",
      "[1]\tcv_agg's valid binary_logloss: 0.972426 + 0.257546\n",
      "Training until validation scores don't improve for 100 rounds\n"
     ]
    },
    {
     "name": "stderr",
     "output_type": "stream",
     "text": [
      "num_leaves, val_score: 0.972426:  70%|#######   | 14/20 [00:01<00:00, 13.87it/s]"
     ]
    },
    {
     "name": "stdout",
     "output_type": "stream",
     "text": [
      "[100]\tcv_agg's valid binary_logloss: 0.972426 + 0.257546\n",
      "Early stopping, best iteration is:\n",
      "[1]\tcv_agg's valid binary_logloss: 0.972426 + 0.257546\n",
      "Training until validation scores don't improve for 100 rounds\n",
      "[100]\tcv_agg's valid binary_logloss: 0.972426 + 0.257546\n",
      "Early stopping, best iteration is:\n",
      "[1]\tcv_agg's valid binary_logloss: 0.972426 + 0.257546\n",
      "Training until validation scores don't improve for 100 rounds\n",
      "[100]\tcv_agg's valid binary_logloss: 0.972426 + 0.257546\n",
      "Early stopping, best iteration is:\n",
      "[1]\tcv_agg's valid binary_logloss: 0.972426 + 0.257546\n",
      "Training until validation scores don't improve for 100 rounds\n",
      "[100]\tcv_agg's valid binary_logloss: 0.972426 + 0.257546\n",
      "Early stopping, best iteration is:\n",
      "[1]\tcv_agg's valid binary_logloss: 0.972426 + 0.257546\n"
     ]
    },
    {
     "name": "stderr",
     "output_type": "stream",
     "text": [
      "num_leaves, val_score: 0.972426:  85%|########5 | 17/20 [00:01<00:00, 14.03it/s]"
     ]
    },
    {
     "name": "stdout",
     "output_type": "stream",
     "text": [
      "Training until validation scores don't improve for 100 rounds\n",
      "[100]\tcv_agg's valid binary_logloss: 0.972426 + 0.257546\n",
      "Early stopping, best iteration is:\n",
      "[1]\tcv_agg's valid binary_logloss: 0.972426 + 0.257546\n",
      "Training until validation scores don't improve for 100 rounds\n",
      "[100]\tcv_agg's valid binary_logloss: 0.972426 + 0.257546\n",
      "Early stopping, best iteration is:\n",
      "[1]\tcv_agg's valid binary_logloss: 0.972426 + 0.257546\n",
      "Training until validation scores don't improve for 100 rounds\n"
     ]
    },
    {
     "name": "stderr",
     "output_type": "stream",
     "text": [
      "num_leaves, val_score: 0.972426: 100%|##########| 20/20 [00:01<00:00, 13.89it/s]\n"
     ]
    },
    {
     "name": "stdout",
     "output_type": "stream",
     "text": [
      "[100]\tcv_agg's valid binary_logloss: 0.972426 + 0.257546\n",
      "Early stopping, best iteration is:\n",
      "[1]\tcv_agg's valid binary_logloss: 0.972426 + 0.257546\n",
      "Training until validation scores don't improve for 100 rounds\n",
      "[100]\tcv_agg's valid binary_logloss: 0.972426 + 0.257546\n",
      "Early stopping, best iteration is:\n",
      "[1]\tcv_agg's valid binary_logloss: 0.972426 + 0.257546\n",
      "Training until validation scores don't improve for 100 rounds\n",
      "[100]\tcv_agg's valid binary_logloss: 0.972426 + 0.257546\n",
      "Early stopping, best iteration is:\n",
      "[1]\tcv_agg's valid binary_logloss: 0.972426 + 0.257546\n"
     ]
    },
    {
     "name": "stderr",
     "output_type": "stream",
     "text": [
      "bagging, val_score: 0.972426:   0%|          | 0/10 [00:00<?, ?it/s]"
     ]
    },
    {
     "name": "stdout",
     "output_type": "stream",
     "text": [
      "Training until validation scores don't improve for 100 rounds\n"
     ]
    },
    {
     "name": "stderr",
     "output_type": "stream",
     "text": [
      "bagging, val_score: 0.972426:  20%|##        | 2/10 [00:00<00:00, 12.18it/s]"
     ]
    },
    {
     "name": "stdout",
     "output_type": "stream",
     "text": [
      "[100]\tcv_agg's valid binary_logloss: 0.972426 + 0.257546\n",
      "Early stopping, best iteration is:\n",
      "[1]\tcv_agg's valid binary_logloss: 0.972426 + 0.257546\n",
      "Training until validation scores don't improve for 100 rounds\n",
      "[100]\tcv_agg's valid binary_logloss: 0.972426 + 0.257546\n",
      "Early stopping, best iteration is:\n",
      "[1]\tcv_agg's valid binary_logloss: 0.972426 + 0.257546\n",
      "Training until validation scores don't improve for 100 rounds\n"
     ]
    },
    {
     "name": "stderr",
     "output_type": "stream",
     "text": [
      "bagging, val_score: 0.972426:  30%|###       | 3/10 [00:00<00:00, 12.18it/s]"
     ]
    },
    {
     "name": "stdout",
     "output_type": "stream",
     "text": [
      "[100]\tcv_agg's valid binary_logloss: 0.972426 + 0.257546\n",
      "Early stopping, best iteration is:\n",
      "[1]\tcv_agg's valid binary_logloss: 0.972426 + 0.257546\n",
      "Training until validation scores don't improve for 100 rounds\n"
     ]
    },
    {
     "name": "stderr",
     "output_type": "stream",
     "text": [
      "bagging, val_score: 0.972426:  40%|####      | 4/10 [00:00<00:00, 11.25it/s]"
     ]
    },
    {
     "name": "stdout",
     "output_type": "stream",
     "text": [
      "[100]\tcv_agg's valid binary_logloss: 0.972426 + 0.257546\n",
      "Early stopping, best iteration is:\n",
      "[1]\tcv_agg's valid binary_logloss: 0.972426 + 0.257546\n",
      "Training until validation scores don't improve for 100 rounds\n",
      "[100]\tcv_agg's valid binary_logloss: 0.972426 + 0.257546\n",
      "Early stopping, best iteration is:\n",
      "[1]\tcv_agg's valid binary_logloss: 0.972426 + 0.257546\n"
     ]
    },
    {
     "name": "stderr",
     "output_type": "stream",
     "text": [
      "bagging, val_score: 0.972426:  50%|#####     | 5/10 [00:00<00:00, 11.25it/s]"
     ]
    },
    {
     "name": "stdout",
     "output_type": "stream",
     "text": [
      "Training until validation scores don't improve for 100 rounds\n",
      "[100]\tcv_agg's valid binary_logloss: 0.972426 + 0.257546\n",
      "Early stopping, best iteration is:\n",
      "[1]\tcv_agg's valid binary_logloss: 0.972426 + 0.257546\n"
     ]
    },
    {
     "name": "stderr",
     "output_type": "stream",
     "text": [
      "bagging, val_score: 0.972426:  70%|#######   | 7/10 [00:00<00:00, 10.85it/s]"
     ]
    },
    {
     "name": "stdout",
     "output_type": "stream",
     "text": [
      "Training until validation scores don't improve for 100 rounds\n",
      "[100]\tcv_agg's valid binary_logloss: 0.972426 + 0.257546\n",
      "Early stopping, best iteration is:\n",
      "[1]\tcv_agg's valid binary_logloss: 0.972426 + 0.257546\n",
      "Training until validation scores don't improve for 100 rounds\n"
     ]
    },
    {
     "name": "stderr",
     "output_type": "stream",
     "text": [
      "bagging, val_score: 0.972426:  80%|########  | 8/10 [00:00<00:00, 11.44it/s]"
     ]
    },
    {
     "name": "stdout",
     "output_type": "stream",
     "text": [
      "[100]\tcv_agg's valid binary_logloss: 0.972426 + 0.257546\n",
      "Early stopping, best iteration is:\n",
      "[1]\tcv_agg's valid binary_logloss: 0.972426 + 0.257546\n",
      "Training until validation scores don't improve for 100 rounds\n"
     ]
    },
    {
     "name": "stderr",
     "output_type": "stream",
     "text": [
      "bagging, val_score: 0.972426:  90%|######### | 9/10 [00:00<00:00, 11.44it/s]"
     ]
    },
    {
     "name": "stdout",
     "output_type": "stream",
     "text": [
      "[100]\tcv_agg's valid binary_logloss: 0.972426 + 0.257546\n",
      "Early stopping, best iteration is:\n",
      "[1]\tcv_agg's valid binary_logloss: 0.972426 + 0.257546\n",
      "Training until validation scores don't improve for 100 rounds\n",
      "[100]\tcv_agg's valid binary_logloss: 0.972426 + 0.257546\n",
      "Early stopping, best iteration is:\n",
      "[1]\tcv_agg's valid binary_logloss: 0.972426 + 0.257546\n"
     ]
    },
    {
     "name": "stderr",
     "output_type": "stream",
     "text": [
      "bagging, val_score: 0.972426: 100%|##########| 10/10 [00:00<00:00, 11.31it/s]\n",
      "feature_fraction_stage2, val_score: 0.972426:  33%|###3      | 1/3 [00:00<00:00, 14.24it/s]"
     ]
    },
    {
     "name": "stdout",
     "output_type": "stream",
     "text": [
      "Training until validation scores don't improve for 100 rounds\n",
      "[100]\tcv_agg's valid binary_logloss: 0.972426 + 0.257546\n",
      "Early stopping, best iteration is:\n",
      "[1]\tcv_agg's valid binary_logloss: 0.972426 + 0.257546\n",
      "Training until validation scores don't improve for 100 rounds\n"
     ]
    },
    {
     "name": "stderr",
     "output_type": "stream",
     "text": [
      "feature_fraction_stage2, val_score: 0.972426:  67%|######6   | 2/3 [00:00<00:00, 14.34it/s]"
     ]
    },
    {
     "name": "stdout",
     "output_type": "stream",
     "text": [
      "[100]\tcv_agg's valid binary_logloss: 0.972426 + 0.257546\n",
      "Early stopping, best iteration is:\n",
      "[1]\tcv_agg's valid binary_logloss: 0.972426 + 0.257546\n",
      "Training until validation scores don't improve for 100 rounds\n",
      "[100]\tcv_agg's valid binary_logloss: 0.972426 + 0.257546\n",
      "Early stopping, best iteration is:\n",
      "[1]\tcv_agg's valid binary_logloss: 0.972426 + 0.257546\n"
     ]
    },
    {
     "name": "stderr",
     "output_type": "stream",
     "text": [
      "feature_fraction_stage2, val_score: 0.972426: 100%|##########| 3/3 [00:00<00:00, 14.71it/s]\n",
      "regularization_factors, val_score: 0.972426:   5%|5         | 1/20 [00:00<00:01, 11.86it/s]"
     ]
    },
    {
     "name": "stdout",
     "output_type": "stream",
     "text": [
      "Training until validation scores don't improve for 100 rounds\n",
      "[100]\tcv_agg's valid binary_logloss: 0.972426 + 0.257546\n",
      "Early stopping, best iteration is:\n",
      "[1]\tcv_agg's valid binary_logloss: 0.972426 + 0.257546\n",
      "Training until validation scores don't improve for 100 rounds\n"
     ]
    },
    {
     "name": "stderr",
     "output_type": "stream",
     "text": [
      "regularization_factors, val_score: 0.972426:  10%|#         | 2/20 [00:00<00:01, 11.65it/s]"
     ]
    },
    {
     "name": "stdout",
     "output_type": "stream",
     "text": [
      "[100]\tcv_agg's valid binary_logloss: 0.972426 + 0.257546\n",
      "Early stopping, best iteration is:\n",
      "[1]\tcv_agg's valid binary_logloss: 0.972426 + 0.257546\n",
      "Training until validation scores don't improve for 100 rounds\n",
      "[100]\tcv_agg's valid binary_logloss: 0.972426 + 0.257546\n",
      "Early stopping, best iteration is:\n",
      "[1]\tcv_agg's valid binary_logloss: 0.972426 + 0.257546\n"
     ]
    },
    {
     "name": "stderr",
     "output_type": "stream",
     "text": [
      "regularization_factors, val_score: 0.972426:  20%|##        | 4/20 [00:00<00:01, 12.95it/s]"
     ]
    },
    {
     "name": "stdout",
     "output_type": "stream",
     "text": [
      "Training until validation scores don't improve for 100 rounds\n",
      "[100]\tcv_agg's valid binary_logloss: 0.972426 + 0.257546\n",
      "Early stopping, best iteration is:\n",
      "[1]\tcv_agg's valid binary_logloss: 0.972426 + 0.257546\n",
      "Training until validation scores don't improve for 100 rounds\n"
     ]
    },
    {
     "name": "stderr",
     "output_type": "stream",
     "text": [
      "regularization_factors, val_score: 0.972426:  25%|##5       | 5/20 [00:00<00:01, 12.95it/s]"
     ]
    },
    {
     "name": "stdout",
     "output_type": "stream",
     "text": [
      "[100]\tcv_agg's valid binary_logloss: 0.972426 + 0.257546\n",
      "Early stopping, best iteration is:\n",
      "[1]\tcv_agg's valid binary_logloss: 0.972426 + 0.257546\n",
      "Training until validation scores don't improve for 100 rounds\n",
      "[100]\tcv_agg's valid binary_logloss: 0.972426 + 0.257546\n",
      "Early stopping, best iteration is:\n",
      "[1]\tcv_agg's valid binary_logloss: 0.972426 + 0.257546\n"
     ]
    },
    {
     "name": "stderr",
     "output_type": "stream",
     "text": [
      "regularization_factors, val_score: 0.972426:  35%|###5      | 7/20 [00:00<00:00, 13.32it/s]"
     ]
    },
    {
     "name": "stdout",
     "output_type": "stream",
     "text": [
      "Training until validation scores don't improve for 100 rounds\n",
      "[100]\tcv_agg's valid binary_logloss: 0.972426 + 0.257546\n",
      "Early stopping, best iteration is:\n",
      "[1]\tcv_agg's valid binary_logloss: 0.972426 + 0.257546\n",
      "Training until validation scores don't improve for 100 rounds\n"
     ]
    },
    {
     "name": "stderr",
     "output_type": "stream",
     "text": [
      "regularization_factors, val_score: 0.972426:  40%|####      | 8/20 [00:00<00:00, 12.84it/s]"
     ]
    },
    {
     "name": "stdout",
     "output_type": "stream",
     "text": [
      "[100]\tcv_agg's valid binary_logloss: 0.972426 + 0.257546\n",
      "Early stopping, best iteration is:\n",
      "[1]\tcv_agg's valid binary_logloss: 0.972426 + 0.257546\n",
      "Training until validation scores don't improve for 100 rounds\n",
      "[100]\tcv_agg's valid binary_logloss: 0.972426 + 0.257546\n",
      "Early stopping, best iteration is:\n",
      "[1]\tcv_agg's valid binary_logloss: 0.972426 + 0.257546\n"
     ]
    },
    {
     "name": "stderr",
     "output_type": "stream",
     "text": [
      "regularization_factors, val_score: 0.972426:  50%|#####     | 10/20 [00:00<00:00, 13.31it/s]"
     ]
    },
    {
     "name": "stdout",
     "output_type": "stream",
     "text": [
      "Training until validation scores don't improve for 100 rounds\n",
      "[100]\tcv_agg's valid binary_logloss: 0.972426 + 0.257546\n",
      "Early stopping, best iteration is:\n",
      "[1]\tcv_agg's valid binary_logloss: 0.972426 + 0.257546\n",
      "Training until validation scores don't improve for 100 rounds\n"
     ]
    },
    {
     "name": "stderr",
     "output_type": "stream",
     "text": [
      "regularization_factors, val_score: 0.972426:  55%|#####5    | 11/20 [00:00<00:00, 13.31it/s]"
     ]
    },
    {
     "name": "stdout",
     "output_type": "stream",
     "text": [
      "[100]\tcv_agg's valid binary_logloss: 0.972426 + 0.257546\n",
      "Early stopping, best iteration is:\n",
      "[1]\tcv_agg's valid binary_logloss: 0.972426 + 0.257546\n",
      "Training until validation scores don't improve for 100 rounds\n",
      "[100]\tcv_agg's valid binary_logloss: 0.972426 + 0.257546\n",
      "Early stopping, best iteration is:\n",
      "[1]\tcv_agg's valid binary_logloss: 0.972426 + 0.257546\n"
     ]
    },
    {
     "name": "stderr",
     "output_type": "stream",
     "text": [
      "regularization_factors, val_score: 0.972426:  65%|######5   | 13/20 [00:00<00:00, 13.37it/s]"
     ]
    },
    {
     "name": "stdout",
     "output_type": "stream",
     "text": [
      "Training until validation scores don't improve for 100 rounds\n",
      "[100]\tcv_agg's valid binary_logloss: 0.972426 + 0.257546\n",
      "Early stopping, best iteration is:\n",
      "[1]\tcv_agg's valid binary_logloss: 0.972426 + 0.257546\n",
      "Training until validation scores don't improve for 100 rounds\n"
     ]
    },
    {
     "name": "stderr",
     "output_type": "stream",
     "text": [
      "regularization_factors, val_score: 0.972426:  70%|#######   | 14/20 [00:01<00:00, 13.00it/s]"
     ]
    },
    {
     "name": "stdout",
     "output_type": "stream",
     "text": [
      "[100]\tcv_agg's valid binary_logloss: 0.972426 + 0.257546\n",
      "Early stopping, best iteration is:\n",
      "[1]\tcv_agg's valid binary_logloss: 0.972426 + 0.257546\n",
      "Training until validation scores don't improve for 100 rounds\n",
      "[100]\tcv_agg's valid binary_logloss: 0.972426 + 0.257546\n",
      "Early stopping, best iteration is:\n",
      "[1]\tcv_agg's valid binary_logloss: 0.972426 + 0.257546\n"
     ]
    },
    {
     "name": "stderr",
     "output_type": "stream",
     "text": [
      "regularization_factors, val_score: 0.972426:  80%|########  | 16/20 [00:01<00:00, 13.37it/s]"
     ]
    },
    {
     "name": "stdout",
     "output_type": "stream",
     "text": [
      "Training until validation scores don't improve for 100 rounds\n",
      "[100]\tcv_agg's valid binary_logloss: 0.972426 + 0.257546\n",
      "Early stopping, best iteration is:\n",
      "[1]\tcv_agg's valid binary_logloss: 0.972426 + 0.257546\n",
      "Training until validation scores don't improve for 100 rounds\n"
     ]
    },
    {
     "name": "stderr",
     "output_type": "stream",
     "text": [
      "regularization_factors, val_score: 0.972426:  85%|########5 | 17/20 [00:01<00:00, 13.37it/s]"
     ]
    },
    {
     "name": "stdout",
     "output_type": "stream",
     "text": [
      "[100]\tcv_agg's valid binary_logloss: 0.972426 + 0.257546\n",
      "Early stopping, best iteration is:\n",
      "[1]\tcv_agg's valid binary_logloss: 0.972426 + 0.257546\n",
      "Training until validation scores don't improve for 100 rounds\n",
      "[100]\tcv_agg's valid binary_logloss: 0.972426 + 0.257546\n",
      "Early stopping, best iteration is:\n",
      "[1]\tcv_agg's valid binary_logloss: 0.972426 + 0.257546\n"
     ]
    },
    {
     "name": "stderr",
     "output_type": "stream",
     "text": [
      "regularization_factors, val_score: 0.972426:  95%|#########5| 19/20 [00:01<00:00, 13.39it/s]"
     ]
    },
    {
     "name": "stdout",
     "output_type": "stream",
     "text": [
      "Training until validation scores don't improve for 100 rounds\n",
      "[100]\tcv_agg's valid binary_logloss: 0.972426 + 0.257546\n",
      "Early stopping, best iteration is:\n",
      "[1]\tcv_agg's valid binary_logloss: 0.972426 + 0.257546\n",
      "Training until validation scores don't improve for 100 rounds\n"
     ]
    },
    {
     "name": "stderr",
     "output_type": "stream",
     "text": [
      "regularization_factors, val_score: 0.972426: 100%|##########| 20/20 [00:01<00:00, 13.19it/s]\n"
     ]
    },
    {
     "name": "stdout",
     "output_type": "stream",
     "text": [
      "[100]\tcv_agg's valid binary_logloss: 0.972426 + 0.257546\n",
      "Early stopping, best iteration is:\n",
      "[1]\tcv_agg's valid binary_logloss: 0.972426 + 0.257546\n"
     ]
    },
    {
     "name": "stderr",
     "output_type": "stream",
     "text": [
      "min_child_samples, val_score: 0.972426:   0%|          | 0/5 [00:00<?, ?it/s]"
     ]
    },
    {
     "name": "stdout",
     "output_type": "stream",
     "text": [
      "Training until validation scores don't improve for 100 rounds\n"
     ]
    },
    {
     "name": "stderr",
     "output_type": "stream",
     "text": [
      "min_child_samples, val_score: 0.972426:  40%|####      | 2/5 [00:00<00:00, 16.57it/s]"
     ]
    },
    {
     "name": "stdout",
     "output_type": "stream",
     "text": [
      "[100]\tcv_agg's valid binary_logloss: 0.972426 + 0.257546\n",
      "Early stopping, best iteration is:\n",
      "[1]\tcv_agg's valid binary_logloss: 0.972426 + 0.257546\n",
      "Training until validation scores don't improve for 100 rounds\n",
      "[100]\tcv_agg's valid binary_logloss: 0.972426 + 0.257546\n",
      "Early stopping, best iteration is:\n",
      "[1]\tcv_agg's valid binary_logloss: 0.972426 + 0.257546\n",
      "Training until validation scores don't improve for 100 rounds\n"
     ]
    },
    {
     "name": "stderr",
     "output_type": "stream",
     "text": [
      "min_child_samples, val_score: 0.796109:  40%|####      | 2/5 [00:00<00:00, 16.57it/s]"
     ]
    },
    {
     "name": "stdout",
     "output_type": "stream",
     "text": [
      "[100]\tcv_agg's valid binary_logloss: 2.21784 + 1.62623\n",
      "Early stopping, best iteration is:\n",
      "[10]\tcv_agg's valid binary_logloss: 0.796109 + 0.395334\n"
     ]
    },
    {
     "name": "stderr",
     "output_type": "stream",
     "text": [
      "min_child_samples, val_score: 0.796109: 100%|##########| 5/5 [00:00<00:00, 12.87it/s]"
     ]
    },
    {
     "name": "stdout",
     "output_type": "stream",
     "text": [
      "Training until validation scores don't improve for 100 rounds\n",
      "[100]\tcv_agg's valid binary_logloss: 1.25883 + 0.428606\n",
      "Early stopping, best iteration is:\n",
      "[1]\tcv_agg's valid binary_logloss: 0.970206 + 0.250319\n",
      "Training until validation scores don't improve for 100 rounds\n",
      "[100]\tcv_agg's valid binary_logloss: 0.972426 + 0.257546\n",
      "Early stopping, best iteration is:\n",
      "[1]\tcv_agg's valid binary_logloss: 0.972426 + 0.257546\n"
     ]
    },
    {
     "name": "stderr",
     "output_type": "stream",
     "text": [
      "\n"
     ]
    },
    {
     "name": "stdout",
     "output_type": "stream",
     "text": [
      "{'accuracy': 0.5555555555555556, 'balanced_accuracy': np.float64(0.5844155844155844), 'f1': np.float64(0.5555555555555556), 'precision': np.float64(0.45454545454545453), 'recall': np.float64(0.7142857142857143), 'specificity': np.float64(0.45454545454545453), 'ROC_AUC': np.float64(0.5844155844155845), 'MCC': np.float64(0.16883116883116883)}\n",
      "    accuracy: 0.6881 +- 0.1180\n",
      "    balanced_accuracy: 0.6906 +- 0.0938\n",
      "    f1: 0.6638 +- 0.0873\n",
      "    precision: 0.6848 +- 0.2306\n",
      "    recall: 0.6964 +- 0.0526\n",
      "    specificity: 0.6848 +- 0.2306\n",
      "    ROC_AUC: 0.6906 +- 0.0938\n",
      "    MCC: 0.4065 +- 0.2208\n",
      "\n"
     ]
    }
   ],
   "source": [
    "results_directory = os.path.join(\".\", MAIN_RESULTS_DIR, \"depresjon\")\n",
    "\n",
    "for part in [\"full_24h\", \"night\", \"day\"]:\n",
    "    print(f\"PART: {part}\")\n",
    "    \n",
    "    X = datasets[part]\n",
    "    \n",
    "\n",
    "    for clf_type in [\"GBM\"]: \n",
    "        print(f\"  {clf_type}\")\n",
    "        folds = StratifiedKFold(n_splits=3, shuffle=True, random_state=0)\n",
    "        \n",
    "        test_scores = []\n",
    "        for train_idx, test_idx in folds.split(X, y):\n",
    "            X_train, X_test = X[train_idx], X[test_idx]\n",
    "            y_train, y_test = y[train_idx], y[test_idx]\n",
    "            \n",
    "            X_train, X_test = variance_thresholding(X_train, X_test, threshold=0.05)\n",
    "            X_train, X_test = standardize(X_train, X_test)\n",
    "            \n",
    "            if clf_type == \"GBM\":\n",
    "                clf = lightgbm_fit_binary(X_train, y_train)\n",
    "            else:\n",
    "                grid_search = GridSearchCV(\n",
    "                    estimator=classifiers[clf_type], \n",
    "                    param_grid=param_grids[clf_type], \n",
    "                    scoring=\"accuracy\",\n",
    "                    n_jobs=-1,\n",
    "                    refit=True,\n",
    "                    cv=LeaveOneOut()\n",
    "                )\n",
    "                grid_search.fit(X_train, y_train)\n",
    "            \n",
    "                clf = grid_search.best_estimator_\n",
    "                        \n",
    "            metrics = calculate_metrics(clf, X_test, y_test)\n",
    "            print(metrics)\n",
    "            test_scores.append(metrics)\n",
    "        \n",
    "        pd.DataFrame.from_records(test_scores).to_csv(os.path.join(results_directory, f\"test_scores_{day_night_format}_{part}_{clf_type}\"), index=list(test_scores[0].keys()))\n",
    "        final_scores = calculate_metrics_statistics(test_scores)\n",
    "        df = pd.DataFrame([(key,) + values for key, values in final_scores.items()],\n",
    "                      columns=['Index', 'Mean', 'Stddev']).set_index('Index')\n",
    "        df.to_csv(os.path.join(results_directory, f\"final_scores_{day_night_format}_{part}_{clf_type}\"), index=list(test_scores[0].keys()))\n",
    "        \n",
    "        for metric, (mean, stddev) in final_scores.items():\n",
    "            print(f\"    {metric}: {mean:.4f} +- {stddev:.4f}\")\n",
    "        \n",
    "        print()"
   ]
  },
  {
   "cell_type": "markdown",
   "id": "275cd9ef",
   "metadata": {},
   "source": [
    "## Psykose classification"
   ]
  },
  {
   "cell_type": "code",
   "execution_count": 20,
   "id": "0c94464a",
   "metadata": {
    "ExecuteTime": {
     "end_time": "2025-01-16T21:58:52.050550Z",
     "start_time": "2025-01-16T21:58:52.041554Z"
    }
   },
   "outputs": [],
   "source": [
    "dataset = PSYKOSE_PREFIX\n",
    "y_filename = f\"psykose_{day_night_format}_y.csv\""
   ]
  },
  {
   "cell_type": "code",
   "execution_count": 21,
   "id": "07cac92e",
   "metadata": {
    "ExecuteTime": {
     "end_time": "2025-01-16T21:58:54.342202Z",
     "start_time": "2025-01-16T21:58:54.314280Z"
    }
   },
   "outputs": [],
   "source": [
    "datasets = {}\n",
    "\n",
    "for part in [\"full_24h\", \"night\", \"day\"]:\n",
    "    filename = f\"{dataset}_{day_night_format}_{part}.csv\"\n",
    "    filepath = os.path.join(PROCESSED_DATA_DIR, filename)\n",
    "    datasets[part] = pd.read_csv(filepath, header=0).values\n",
    "\n",
    "y = pd.read_csv(os.path.join(PROCESSED_DATA_DIR, y_filename), header=None, dtype=int)\n",
    "y = y.values.ravel()"
   ]
  },
  {
   "cell_type": "code",
   "execution_count": 22,
   "id": "f0994375",
   "metadata": {
    "ExecuteTime": {
     "end_time": "2025-01-16T22:00:07.827003Z",
     "start_time": "2025-01-16T21:59:11.333933Z"
    }
   },
   "outputs": [
    {
     "name": "stdout",
     "output_type": "stream",
     "text": [
      "PART: full_24h\n",
      "  GBM\n"
     ]
    },
    {
     "name": "stderr",
     "output_type": "stream",
     "text": [
      "feature_fraction, val_score: 0.933634:  14%|#4        | 1/7 [00:00<00:00, 18.21it/s]"
     ]
    },
    {
     "name": "stdout",
     "output_type": "stream",
     "text": [
      "Training until validation scores don't improve for 100 rounds\n",
      "[100]\tcv_agg's valid binary_logloss: 0.933634 + 0.358021\n",
      "Early stopping, best iteration is:\n",
      "[1]\tcv_agg's valid binary_logloss: 0.933634 + 0.358021\n",
      "Training until validation scores don't improve for 100 rounds\n"
     ]
    },
    {
     "name": "stderr",
     "output_type": "stream",
     "text": [
      "feature_fraction, val_score: 0.933634:  43%|####2     | 3/7 [00:00<00:00, 16.83it/s]"
     ]
    },
    {
     "name": "stdout",
     "output_type": "stream",
     "text": [
      "[100]\tcv_agg's valid binary_logloss: 0.933634 + 0.358021\n",
      "Early stopping, best iteration is:\n",
      "[1]\tcv_agg's valid binary_logloss: 0.933634 + 0.358021\n",
      "Training until validation scores don't improve for 100 rounds\n",
      "[100]\tcv_agg's valid binary_logloss: 0.933634 + 0.358021\n",
      "Early stopping, best iteration is:\n",
      "[1]\tcv_agg's valid binary_logloss: 0.933634 + 0.358021\n",
      "Training until validation scores don't improve for 100 rounds\n"
     ]
    },
    {
     "name": "stderr",
     "output_type": "stream",
     "text": [
      "feature_fraction, val_score: 0.933634:  57%|#####7    | 4/7 [00:00<00:00, 16.20it/s]"
     ]
    },
    {
     "name": "stdout",
     "output_type": "stream",
     "text": [
      "[100]\tcv_agg's valid binary_logloss: 0.933634 + 0.358021\n",
      "Early stopping, best iteration is:\n",
      "[1]\tcv_agg's valid binary_logloss: 0.933634 + 0.358021\n",
      "Training until validation scores don't improve for 100 rounds\n",
      "[100]\tcv_agg's valid binary_logloss: 0.933634 + 0.358021\n",
      "Early stopping, best iteration is:\n",
      "[1]\tcv_agg's valid binary_logloss: 0.933634 + 0.358021\n"
     ]
    },
    {
     "name": "stderr",
     "output_type": "stream",
     "text": [
      "feature_fraction, val_score: 0.933634:  86%|########5 | 6/7 [00:00<00:00, 16.89it/s]"
     ]
    },
    {
     "name": "stdout",
     "output_type": "stream",
     "text": [
      "Training until validation scores don't improve for 100 rounds\n",
      "[100]\tcv_agg's valid binary_logloss: 0.933634 + 0.358021\n",
      "Early stopping, best iteration is:\n",
      "[1]\tcv_agg's valid binary_logloss: 0.933634 + 0.358021\n",
      "Training until validation scores don't improve for 100 rounds\n"
     ]
    },
    {
     "name": "stderr",
     "output_type": "stream",
     "text": [
      "feature_fraction, val_score: 0.933634: 100%|##########| 7/7 [00:00<00:00, 16.80it/s]"
     ]
    },
    {
     "name": "stdout",
     "output_type": "stream",
     "text": [
      "[100]\tcv_agg's valid binary_logloss: 0.933634 + 0.358021\n",
      "Early stopping, best iteration is:\n",
      "[1]\tcv_agg's valid binary_logloss: 0.933634 + 0.358021\n"
     ]
    },
    {
     "name": "stderr",
     "output_type": "stream",
     "text": [
      "\n",
      "num_leaves, val_score: 0.933634:   5%|5         | 1/20 [00:00<00:01, 16.32it/s]"
     ]
    },
    {
     "name": "stdout",
     "output_type": "stream",
     "text": [
      "Training until validation scores don't improve for 100 rounds\n",
      "[100]\tcv_agg's valid binary_logloss: 0.933634 + 0.358021\n",
      "Early stopping, best iteration is:\n",
      "[1]\tcv_agg's valid binary_logloss: 0.933634 + 0.358021\n",
      "Training until validation scores don't improve for 100 rounds\n"
     ]
    },
    {
     "name": "stderr",
     "output_type": "stream",
     "text": [
      "num_leaves, val_score: 0.933634:  10%|#         | 2/20 [00:00<00:01, 16.09it/s]"
     ]
    },
    {
     "name": "stdout",
     "output_type": "stream",
     "text": [
      "[100]\tcv_agg's valid binary_logloss: 0.933634 + 0.358021\n",
      "Early stopping, best iteration is:\n",
      "[1]\tcv_agg's valid binary_logloss: 0.933634 + 0.358021\n",
      "Training until validation scores don't improve for 100 rounds\n",
      "[100]\tcv_agg's valid binary_logloss: 0.933634 + 0.358021\n",
      "Early stopping, best iteration is:\n",
      "[1]\tcv_agg's valid binary_logloss: 0.933634 + 0.358021\n"
     ]
    },
    {
     "name": "stderr",
     "output_type": "stream",
     "text": [
      "num_leaves, val_score: 0.933634:  20%|##        | 4/20 [00:00<00:01, 14.48it/s]"
     ]
    },
    {
     "name": "stdout",
     "output_type": "stream",
     "text": [
      "Training until validation scores don't improve for 100 rounds\n",
      "[100]\tcv_agg's valid binary_logloss: 0.933634 + 0.358021\n",
      "Early stopping, best iteration is:\n",
      "[1]\tcv_agg's valid binary_logloss: 0.933634 + 0.358021\n",
      "Training until validation scores don't improve for 100 rounds\n"
     ]
    },
    {
     "name": "stderr",
     "output_type": "stream",
     "text": [
      "num_leaves, val_score: 0.933634:  25%|##5       | 5/20 [00:00<00:01, 14.48it/s]"
     ]
    },
    {
     "name": "stdout",
     "output_type": "stream",
     "text": [
      "[100]\tcv_agg's valid binary_logloss: 0.933634 + 0.358021\n",
      "Early stopping, best iteration is:\n",
      "[1]\tcv_agg's valid binary_logloss: 0.933634 + 0.358021\n",
      "Training until validation scores don't improve for 100 rounds\n"
     ]
    },
    {
     "name": "stderr",
     "output_type": "stream",
     "text": [
      "num_leaves, val_score: 0.933634:  35%|###5      | 7/20 [00:00<00:00, 13.72it/s]"
     ]
    },
    {
     "name": "stdout",
     "output_type": "stream",
     "text": [
      "[100]\tcv_agg's valid binary_logloss: 0.933634 + 0.358021\n",
      "Early stopping, best iteration is:\n",
      "[1]\tcv_agg's valid binary_logloss: 0.933634 + 0.358021\n",
      "Training until validation scores don't improve for 100 rounds\n",
      "[100]\tcv_agg's valid binary_logloss: 0.933634 + 0.358021\n",
      "Early stopping, best iteration is:\n",
      "[1]\tcv_agg's valid binary_logloss: 0.933634 + 0.358021\n",
      "Training until validation scores don't improve for 100 rounds\n"
     ]
    },
    {
     "name": "stderr",
     "output_type": "stream",
     "text": [
      "num_leaves, val_score: 0.933634:  40%|####      | 8/20 [00:00<00:00, 14.00it/s]"
     ]
    },
    {
     "name": "stdout",
     "output_type": "stream",
     "text": [
      "[100]\tcv_agg's valid binary_logloss: 0.933634 + 0.358021\n",
      "Early stopping, best iteration is:\n",
      "[1]\tcv_agg's valid binary_logloss: 0.933634 + 0.358021\n",
      "Training until validation scores don't improve for 100 rounds\n"
     ]
    },
    {
     "name": "stderr",
     "output_type": "stream",
     "text": [
      "num_leaves, val_score: 0.933634:  50%|#####     | 10/20 [00:00<00:00, 13.17it/s]"
     ]
    },
    {
     "name": "stdout",
     "output_type": "stream",
     "text": [
      "[100]\tcv_agg's valid binary_logloss: 0.933634 + 0.358021\n",
      "Early stopping, best iteration is:\n",
      "[1]\tcv_agg's valid binary_logloss: 0.933634 + 0.358021\n",
      "Training until validation scores don't improve for 100 rounds\n",
      "[100]\tcv_agg's valid binary_logloss: 0.933634 + 0.358021\n",
      "Early stopping, best iteration is:\n",
      "[1]\tcv_agg's valid binary_logloss: 0.933634 + 0.358021\n"
     ]
    },
    {
     "name": "stderr",
     "output_type": "stream",
     "text": [
      "num_leaves, val_score: 0.933634:  55%|#####5    | 11/20 [00:00<00:00, 13.17it/s]"
     ]
    },
    {
     "name": "stdout",
     "output_type": "stream",
     "text": [
      "Training until validation scores don't improve for 100 rounds\n",
      "[100]\tcv_agg's valid binary_logloss: 0.933634 + 0.358021\n",
      "Early stopping, best iteration is:\n",
      "[1]\tcv_agg's valid binary_logloss: 0.933634 + 0.358021\n",
      "Training until validation scores don't improve for 100 rounds\n"
     ]
    },
    {
     "name": "stderr",
     "output_type": "stream",
     "text": [
      "num_leaves, val_score: 0.933634:  60%|######    | 12/20 [00:00<00:00, 12.74it/s]"
     ]
    },
    {
     "name": "stdout",
     "output_type": "stream",
     "text": [
      "[100]\tcv_agg's valid binary_logloss: 0.933634 + 0.358021\n",
      "Early stopping, best iteration is:\n",
      "[1]\tcv_agg's valid binary_logloss: 0.933634 + 0.358021\n",
      "Training until validation scores don't improve for 100 rounds\n"
     ]
    },
    {
     "name": "stderr",
     "output_type": "stream",
     "text": [
      "num_leaves, val_score: 0.933634:  70%|#######   | 14/20 [00:01<00:00, 12.64it/s]"
     ]
    },
    {
     "name": "stdout",
     "output_type": "stream",
     "text": [
      "[100]\tcv_agg's valid binary_logloss: 0.933634 + 0.358021\n",
      "Early stopping, best iteration is:\n",
      "[1]\tcv_agg's valid binary_logloss: 0.933634 + 0.358021\n",
      "Training until validation scores don't improve for 100 rounds\n",
      "[100]\tcv_agg's valid binary_logloss: 0.933634 + 0.358021\n",
      "Early stopping, best iteration is:\n",
      "[1]\tcv_agg's valid binary_logloss: 0.933634 + 0.358021\n",
      "Training until validation scores don't improve for 100 rounds\n"
     ]
    },
    {
     "name": "stderr",
     "output_type": "stream",
     "text": [
      "num_leaves, val_score: 0.933634:  75%|#######5  | 15/20 [00:01<00:00, 12.64it/s]"
     ]
    },
    {
     "name": "stdout",
     "output_type": "stream",
     "text": [
      "[100]\tcv_agg's valid binary_logloss: 0.933634 + 0.358021\n",
      "Early stopping, best iteration is:\n",
      "[1]\tcv_agg's valid binary_logloss: 0.933634 + 0.358021\n",
      "Training until validation scores don't improve for 100 rounds\n"
     ]
    },
    {
     "name": "stderr",
     "output_type": "stream",
     "text": [
      "num_leaves, val_score: 0.933634:  85%|########5 | 17/20 [00:01<00:00, 12.51it/s]"
     ]
    },
    {
     "name": "stdout",
     "output_type": "stream",
     "text": [
      "[100]\tcv_agg's valid binary_logloss: 0.933634 + 0.358021\n",
      "Early stopping, best iteration is:\n",
      "[1]\tcv_agg's valid binary_logloss: 0.933634 + 0.358021\n",
      "Training until validation scores don't improve for 100 rounds\n",
      "[100]\tcv_agg's valid binary_logloss: 0.933634 + 0.358021\n",
      "Early stopping, best iteration is:\n",
      "[1]\tcv_agg's valid binary_logloss: 0.933634 + 0.358021\n",
      "Training until validation scores don't improve for 100 rounds\n"
     ]
    },
    {
     "name": "stderr",
     "output_type": "stream",
     "text": [
      "num_leaves, val_score: 0.933634:  90%|######### | 18/20 [00:01<00:00, 12.34it/s]"
     ]
    },
    {
     "name": "stdout",
     "output_type": "stream",
     "text": [
      "[100]\tcv_agg's valid binary_logloss: 0.933634 + 0.358021\n",
      "Early stopping, best iteration is:\n",
      "[1]\tcv_agg's valid binary_logloss: 0.933634 + 0.358021\n"
     ]
    },
    {
     "name": "stderr",
     "output_type": "stream",
     "text": [
      "num_leaves, val_score: 0.933634: 100%|##########| 20/20 [00:01<00:00, 12.85it/s]\n"
     ]
    },
    {
     "name": "stdout",
     "output_type": "stream",
     "text": [
      "Training until validation scores don't improve for 100 rounds\n",
      "[100]\tcv_agg's valid binary_logloss: 0.933634 + 0.358021\n",
      "Early stopping, best iteration is:\n",
      "[1]\tcv_agg's valid binary_logloss: 0.933634 + 0.358021\n",
      "Training until validation scores don't improve for 100 rounds\n",
      "[100]\tcv_agg's valid binary_logloss: 0.933634 + 0.358021\n",
      "Early stopping, best iteration is:\n",
      "[1]\tcv_agg's valid binary_logloss: 0.933634 + 0.358021\n"
     ]
    },
    {
     "name": "stderr",
     "output_type": "stream",
     "text": [
      "bagging, val_score: 0.933634:   0%|          | 0/10 [00:00<?, ?it/s]"
     ]
    },
    {
     "name": "stdout",
     "output_type": "stream",
     "text": [
      "Training until validation scores don't improve for 100 rounds\n"
     ]
    },
    {
     "name": "stderr",
     "output_type": "stream",
     "text": [
      "bagging, val_score: 0.933634:  20%|##        | 2/10 [00:00<00:00,  9.71it/s]"
     ]
    },
    {
     "name": "stdout",
     "output_type": "stream",
     "text": [
      "[100]\tcv_agg's valid binary_logloss: 0.933634 + 0.358021\n",
      "Early stopping, best iteration is:\n",
      "[1]\tcv_agg's valid binary_logloss: 0.933634 + 0.358021\n",
      "Training until validation scores don't improve for 100 rounds\n",
      "[100]\tcv_agg's valid binary_logloss: 0.933634 + 0.358021\n",
      "Early stopping, best iteration is:\n",
      "[1]\tcv_agg's valid binary_logloss: 0.933634 + 0.358021\n",
      "Training until validation scores don't improve for 100 rounds\n"
     ]
    },
    {
     "name": "stderr",
     "output_type": "stream",
     "text": [
      "bagging, val_score: 0.933634:  30%|###       | 3/10 [00:00<00:00, 10.99it/s]"
     ]
    },
    {
     "name": "stdout",
     "output_type": "stream",
     "text": [
      "[100]\tcv_agg's valid binary_logloss: 0.933634 + 0.358021\n",
      "Early stopping, best iteration is:\n",
      "[1]\tcv_agg's valid binary_logloss: 0.933634 + 0.358021\n"
     ]
    },
    {
     "name": "stderr",
     "output_type": "stream",
     "text": [
      "bagging, val_score: 0.933634:  40%|####      | 4/10 [00:00<00:00, 10.99it/s]"
     ]
    },
    {
     "name": "stdout",
     "output_type": "stream",
     "text": [
      "Training until validation scores don't improve for 100 rounds\n",
      "[100]\tcv_agg's valid binary_logloss: 0.933634 + 0.358021\n",
      "Early stopping, best iteration is:\n",
      "[1]\tcv_agg's valid binary_logloss: 0.933634 + 0.358021\n",
      "Training until validation scores don't improve for 100 rounds\n",
      "[100]\tcv_agg's valid binary_logloss: 0.933634 + 0.358021\n",
      "Early stopping, best iteration is:\n",
      "[1]\tcv_agg's valid binary_logloss: 0.933634 + 0.358021\n"
     ]
    },
    {
     "name": "stderr",
     "output_type": "stream",
     "text": [
      "bagging, val_score: 0.933634:  50%|#####     | 5/10 [00:00<00:00, 10.98it/s]"
     ]
    },
    {
     "name": "stdout",
     "output_type": "stream",
     "text": [
      "Training until validation scores don't improve for 100 rounds"
     ]
    },
    {
     "name": "stderr",
     "output_type": "stream",
     "text": [
      "bagging, val_score: 0.933634:  70%|#######   | 7/10 [00:00<00:00, 10.90it/s]"
     ]
    },
    {
     "name": "stdout",
     "output_type": "stream",
     "text": [
      "\n",
      "[100]\tcv_agg's valid binary_logloss: 0.933634 + 0.358021\n",
      "Early stopping, best iteration is:\n",
      "[1]\tcv_agg's valid binary_logloss: 0.933634 + 0.358021\n",
      "Training until validation scores don't improve for 100 rounds\n",
      "[100]\tcv_agg's valid binary_logloss: 0.933634 + 0.358021\n",
      "Early stopping, best iteration is:\n",
      "[1]\tcv_agg's valid binary_logloss: 0.933634 + 0.358021\n",
      "Training until validation scores don't improve for 100 rounds\n"
     ]
    },
    {
     "name": "stderr",
     "output_type": "stream",
     "text": [
      "bagging, val_score: 0.933634:  90%|######### | 9/10 [00:00<00:00, 10.64it/s]"
     ]
    },
    {
     "name": "stdout",
     "output_type": "stream",
     "text": [
      "[100]\tcv_agg's valid binary_logloss: 0.933634 + 0.358021\n",
      "Early stopping, best iteration is:\n",
      "[1]\tcv_agg's valid binary_logloss: 0.933634 + 0.358021\n",
      "Training until validation scores don't improve for 100 rounds\n",
      "[100]\tcv_agg's valid binary_logloss: 0.933634 + 0.358021\n",
      "Early stopping, best iteration is:\n",
      "[1]\tcv_agg's valid binary_logloss: 0.933634 + 0.358021\n",
      "Training until validation scores don't improve for 100 rounds\n"
     ]
    },
    {
     "name": "stderr",
     "output_type": "stream",
     "text": [
      "bagging, val_score: 0.933634: 100%|##########| 10/10 [00:00<00:00, 10.54it/s]\n"
     ]
    },
    {
     "name": "stdout",
     "output_type": "stream",
     "text": [
      "[100]\tcv_agg's valid binary_logloss: 0.933634 + 0.358021\n",
      "Early stopping, best iteration is:\n",
      "[1]\tcv_agg's valid binary_logloss: 0.933634 + 0.358021\n"
     ]
    },
    {
     "name": "stderr",
     "output_type": "stream",
     "text": [
      "feature_fraction_stage2, val_score: 0.933634:  67%|######6   | 2/3 [00:00<00:00, 15.29it/s]"
     ]
    },
    {
     "name": "stdout",
     "output_type": "stream",
     "text": [
      "Training until validation scores don't improve for 100 rounds\n",
      "[100]\tcv_agg's valid binary_logloss: 0.933634 + 0.358021\n",
      "Early stopping, best iteration is:\n",
      "[1]\tcv_agg's valid binary_logloss: 0.933634 + 0.358021\n",
      "Training until validation scores don't improve for 100 rounds\n",
      "[100]\tcv_agg's valid binary_logloss: 0.933634 + 0.358021\n",
      "Early stopping, best iteration is:\n",
      "[1]\tcv_agg's valid binary_logloss: 0.933634 + 0.358021\n",
      "Training until validation scores don't improve for 100 rounds\n",
      "[100]\tcv_agg's valid binary_logloss: 0.933634 + 0.358021\n",
      "Early stopping, best iteration is:\n",
      "[1]\tcv_agg's valid binary_logloss: 0.933634 + 0.358021\n"
     ]
    },
    {
     "name": "stderr",
     "output_type": "stream",
     "text": [
      "feature_fraction_stage2, val_score: 0.933634: 100%|##########| 3/3 [00:00<00:00, 15.42it/s]\n",
      "regularization_factors, val_score: 0.933634:  10%|#         | 2/20 [00:00<00:01, 13.57it/s]"
     ]
    },
    {
     "name": "stdout",
     "output_type": "stream",
     "text": [
      "Training until validation scores don't improve for 100 rounds\n",
      "[100]\tcv_agg's valid binary_logloss: 0.933634 + 0.358021\n",
      "Early stopping, best iteration is:\n",
      "[1]\tcv_agg's valid binary_logloss: 0.933634 + 0.358021\n",
      "Training until validation scores don't improve for 100 rounds\n",
      "[100]\tcv_agg's valid binary_logloss: 0.933634 + 0.358021\n",
      "Early stopping, best iteration is:\n",
      "[1]\tcv_agg's valid binary_logloss: 0.933634 + 0.358021\n",
      "Training until validation scores don't improve for 100 rounds\n",
      "[100]\tcv_agg's valid binary_logloss: 0.933634 + 0.358021\n",
      "Early stopping, best iteration is:\n",
      "[1]\tcv_agg's valid binary_logloss: 0.933634 + 0.358021\n"
     ]
    },
    {
     "name": "stderr",
     "output_type": "stream",
     "text": [
      "regularization_factors, val_score: 0.933634:  25%|##5       | 5/20 [00:00<00:01, 14.08it/s]"
     ]
    },
    {
     "name": "stdout",
     "output_type": "stream",
     "text": [
      "Training until validation scores don't improve for 100 rounds\n",
      "[100]\tcv_agg's valid binary_logloss: 0.933634 + 0.358021\n",
      "Early stopping, best iteration is:\n",
      "[1]\tcv_agg's valid binary_logloss: 0.933634 + 0.358021\n",
      "Training until validation scores don't improve for 100 rounds\n",
      "[100]\tcv_agg's valid binary_logloss: 0.933634 + 0.358021\n",
      "Early stopping, best iteration is:\n",
      "[1]\tcv_agg's valid binary_logloss: 0.933634 + 0.358021\n",
      "Training until validation scores don't improve for 100 rounds\n",
      "[100]\tcv_agg's valid binary_logloss: 0.933634 + 0.358021\n",
      "Early stopping, best iteration is:\n",
      "[1]\tcv_agg's valid binary_logloss: 0.933634 + 0.358021\n"
     ]
    },
    {
     "name": "stderr",
     "output_type": "stream",
     "text": [
      "regularization_factors, val_score: 0.933634:  40%|####      | 8/20 [00:00<00:00, 12.58it/s]"
     ]
    },
    {
     "name": "stdout",
     "output_type": "stream",
     "text": [
      "Training until validation scores don't improve for 100 rounds\n",
      "[100]\tcv_agg's valid binary_logloss: 0.933634 + 0.358021\n",
      "Early stopping, best iteration is:\n",
      "[1]\tcv_agg's valid binary_logloss: 0.933634 + 0.358021\n",
      "Training until validation scores don't improve for 100 rounds\n",
      "[100]\tcv_agg's valid binary_logloss: 0.933634 + 0.358021\n",
      "Early stopping, best iteration is:\n",
      "[1]\tcv_agg's valid binary_logloss: 0.933634 + 0.358021\n",
      "Training until validation scores don't improve for 100 rounds\n"
     ]
    },
    {
     "name": "stderr",
     "output_type": "stream",
     "text": [
      "regularization_factors, val_score: 0.933634:  55%|#####5    | 11/20 [00:00<00:00, 11.97it/s]"
     ]
    },
    {
     "name": "stdout",
     "output_type": "stream",
     "text": [
      "[100]\tcv_agg's valid binary_logloss: 0.933634 + 0.358021\n",
      "Early stopping, best iteration is:\n",
      "[1]\tcv_agg's valid binary_logloss: 0.933634 + 0.358021\n",
      "Training until validation scores don't improve for 100 rounds\n",
      "[100]\tcv_agg's valid binary_logloss: 0.933634 + 0.358021\n",
      "Early stopping, best iteration is:\n",
      "[1]\tcv_agg's valid binary_logloss: 0.933634 + 0.358021\n",
      "Training until validation scores don't improve for 100 rounds\n",
      "[100]\tcv_agg's valid binary_logloss: 0.933634 + 0.358021\n",
      "Early stopping, best iteration is:\n",
      "[1]\tcv_agg's valid binary_logloss: 0.933634 + 0.358021\n",
      "Training until validation scores don't improve for 100 rounds\n"
     ]
    },
    {
     "name": "stderr",
     "output_type": "stream",
     "text": [
      "regularization_factors, val_score: 0.933634:  70%|#######   | 14/20 [00:01<00:00, 12.68it/s]"
     ]
    },
    {
     "name": "stdout",
     "output_type": "stream",
     "text": [
      "[100]\tcv_agg's valid binary_logloss: 0.933634 + 0.358021\n",
      "Early stopping, best iteration is:\n",
      "[1]\tcv_agg's valid binary_logloss: 0.933634 + 0.358021\n",
      "Training until validation scores don't improve for 100 rounds\n",
      "[100]\tcv_agg's valid binary_logloss: 0.933634 + 0.358021\n",
      "Early stopping, best iteration is:\n",
      "[1]\tcv_agg's valid binary_logloss: 0.933634 + 0.358021\n",
      "Training until validation scores don't improve for 100 rounds\n",
      "[100]\tcv_agg's valid binary_logloss: 0.933634 + 0.358021\n",
      "Early stopping, best iteration is:\n",
      "[1]\tcv_agg's valid binary_logloss: 0.933634 + 0.358021\n",
      "Training until validation scores don't improve for 100 rounds\n"
     ]
    },
    {
     "name": "stderr",
     "output_type": "stream",
     "text": [
      "regularization_factors, val_score: 0.933634:  85%|########5 | 17/20 [00:01<00:00, 12.81it/s]"
     ]
    },
    {
     "name": "stdout",
     "output_type": "stream",
     "text": [
      "[100]\tcv_agg's valid binary_logloss: 0.933634 + 0.358021\n",
      "Early stopping, best iteration is:\n",
      "[1]\tcv_agg's valid binary_logloss: 0.933634 + 0.358021\n",
      "Training until validation scores don't improve for 100 rounds\n",
      "[100]\tcv_agg's valid binary_logloss: 0.933634 + 0.358021\n",
      "Early stopping, best iteration is:\n",
      "[1]\tcv_agg's valid binary_logloss: 0.933634 + 0.358021\n",
      "Training until validation scores don't improve for 100 rounds\n",
      "[100]\tcv_agg's valid binary_logloss: 0.933634 + 0.358021\n",
      "Early stopping, best iteration is:\n",
      "[1]\tcv_agg's valid binary_logloss: 0.933634 + 0.358021\n",
      "Training until validation scores don't improve for 100 rounds\n"
     ]
    },
    {
     "name": "stderr",
     "output_type": "stream",
     "text": [
      "regularization_factors, val_score: 0.933634: 100%|##########| 20/20 [00:01<00:00, 13.01it/s]\n"
     ]
    },
    {
     "name": "stdout",
     "output_type": "stream",
     "text": [
      "[100]\tcv_agg's valid binary_logloss: 0.933634 + 0.358021\n",
      "Early stopping, best iteration is:\n",
      "[1]\tcv_agg's valid binary_logloss: 0.933634 + 0.358021\n",
      "Training until validation scores don't improve for 100 rounds\n",
      "[100]\tcv_agg's valid binary_logloss: 0.933634 + 0.358021\n",
      "Early stopping, best iteration is:\n",
      "[1]\tcv_agg's valid binary_logloss: 0.933634 + 0.358021\n",
      "Training until validation scores don't improve for 100 rounds\n",
      "[100]\tcv_agg's valid binary_logloss: 0.933634 + 0.358021\n",
      "Early stopping, best iteration is:\n",
      "[1]\tcv_agg's valid binary_logloss: 0.933634 + 0.358021\n"
     ]
    },
    {
     "name": "stderr",
     "output_type": "stream",
     "text": [
      "min_child_samples, val_score: 0.933634:   0%|          | 0/5 [00:00<?, ?it/s]"
     ]
    },
    {
     "name": "stdout",
     "output_type": "stream",
     "text": [
      "Training until validation scores don't improve for 100 rounds\n"
     ]
    },
    {
     "name": "stderr",
     "output_type": "stream",
     "text": [
      "min_child_samples, val_score: 0.933634:  40%|####      | 2/5 [00:00<00:00, 16.32it/s]"
     ]
    },
    {
     "name": "stdout",
     "output_type": "stream",
     "text": [
      "[100]\tcv_agg's valid binary_logloss: 0.933634 + 0.358021\n",
      "Early stopping, best iteration is:\n",
      "[1]\tcv_agg's valid binary_logloss: 0.933634 + 0.358021\n",
      "Training until validation scores don't improve for 100 rounds\n",
      "[100]\tcv_agg's valid binary_logloss: 0.933634 + 0.358021\n",
      "Early stopping, best iteration is:\n",
      "[1]\tcv_agg's valid binary_logloss: 0.933634 + 0.358021\n",
      "Training until validation scores don't improve for 100 rounds\n",
      "[100]\tcv_agg's valid binary_logloss: 2.00669 + 1.63051"
     ]
    },
    {
     "name": "stderr",
     "output_type": "stream",
     "text": [
      "min_child_samples, val_score: 0.730243:  80%|########  | 4/5 [00:00<00:00, 10.15it/s]"
     ]
    },
    {
     "name": "stdout",
     "output_type": "stream",
     "text": [
      "\n",
      "Early stopping, best iteration is:\n",
      "[22]\tcv_agg's valid binary_logloss: 0.730243 + 0.315544\n",
      "Training until validation scores don't improve for 100 rounds\n",
      "[100]\tcv_agg's valid binary_logloss: 1.05543 + 0.419184\n",
      "Early stopping, best iteration is:\n",
      "[23]\tcv_agg's valid binary_logloss: 0.80346 + 0.271713\n",
      "Training until validation scores don't improve for 100 rounds\n",
      "[100]\tcv_agg's valid binary_logloss: 0.933634 + 0.358021\n",
      "Early stopping, best iteration is:\n",
      "[1]\tcv_agg's valid binary_logloss: 0.933634 + 0.358021\n"
     ]
    },
    {
     "name": "stderr",
     "output_type": "stream",
     "text": [
      "min_child_samples, val_score: 0.730243: 100%|##########| 5/5 [00:00<00:00, 11.54it/s]\n"
     ]
    },
    {
     "name": "stdout",
     "output_type": "stream",
     "text": [
      "{'accuracy': 0.7777777777777778, 'balanced_accuracy': np.float64(0.775), 'f1': np.float64(0.75), 'precision': np.float64(0.75), 'recall': np.float64(0.75), 'specificity': np.float64(0.8), 'ROC_AUC': np.float64(0.7750000000000001), 'MCC': np.float64(0.55)}\n"
     ]
    },
    {
     "name": "stderr",
     "output_type": "stream",
     "text": [
      "feature_fraction, val_score: 0.971773:  29%|##8       | 2/7 [00:00<00:00, 16.06it/s]"
     ]
    },
    {
     "name": "stdout",
     "output_type": "stream",
     "text": [
      "Training until validation scores don't improve for 100 rounds\n",
      "[100]\tcv_agg's valid binary_logloss: 0.971773 + 0.299887\n",
      "Early stopping, best iteration is:\n",
      "[1]\tcv_agg's valid binary_logloss: 0.971773 + 0.299887\n",
      "Training until validation scores don't improve for 100 rounds\n",
      "[100]\tcv_agg's valid binary_logloss: 0.971773 + 0.299887\n",
      "Early stopping, best iteration is:\n",
      "[1]\tcv_agg's valid binary_logloss: 0.971773 + 0.299887\n",
      "Training until validation scores don't improve for 100 rounds\n",
      "[100]\tcv_agg's valid binary_logloss: 0.971773 + 0.299887\n",
      "Early stopping, best iteration is:\n",
      "[1]\tcv_agg's valid binary_logloss: 0.971773 + 0.299887\n"
     ]
    },
    {
     "name": "stderr",
     "output_type": "stream",
     "text": [
      "feature_fraction, val_score: 0.971773:  43%|####2     | 3/7 [00:00<00:00, 16.06it/s]"
     ]
    },
    {
     "name": "stdout",
     "output_type": "stream",
     "text": [
      "Training until validation scores don't improve for 100 rounds\n"
     ]
    },
    {
     "name": "stderr",
     "output_type": "stream",
     "text": [
      "feature_fraction, val_score: 0.971773:  86%|########5 | 6/7 [00:00<00:00, 16.75it/s]"
     ]
    },
    {
     "name": "stdout",
     "output_type": "stream",
     "text": [
      "[100]\tcv_agg's valid binary_logloss: 0.971773 + 0.299887\n",
      "Early stopping, best iteration is:\n",
      "[1]\tcv_agg's valid binary_logloss: 0.971773 + 0.299887\n",
      "Training until validation scores don't improve for 100 rounds\n",
      "[100]\tcv_agg's valid binary_logloss: 0.971773 + 0.299887\n",
      "Early stopping, best iteration is:\n",
      "[1]\tcv_agg's valid binary_logloss: 0.971773 + 0.299887\n",
      "Training until validation scores don't improve for 100 rounds\n",
      "[100]\tcv_agg's valid binary_logloss: 0.971773 + 0.299887\n",
      "Early stopping, best iteration is:\n",
      "[1]\tcv_agg's valid binary_logloss: 0.971773 + 0.299887\n",
      "Training until validation scores don't improve for 100 rounds\n",
      "[100]\tcv_agg's valid binary_logloss: 0.971773 + 0.299887"
     ]
    },
    {
     "name": "stderr",
     "output_type": "stream",
     "text": [
      "feature_fraction, val_score: 0.971773: 100%|##########| 7/7 [00:00<00:00, 16.61it/s]\n"
     ]
    },
    {
     "name": "stdout",
     "output_type": "stream",
     "text": [
      "\n",
      "Early stopping, best iteration is:\n",
      "[1]\tcv_agg's valid binary_logloss: 0.971773 + 0.299887\n"
     ]
    },
    {
     "name": "stderr",
     "output_type": "stream",
     "text": [
      "num_leaves, val_score: 0.971773:  15%|#5        | 3/20 [00:00<00:00, 17.78it/s]"
     ]
    },
    {
     "name": "stdout",
     "output_type": "stream",
     "text": [
      "Training until validation scores don't improve for 100 rounds\n",
      "[100]\tcv_agg's valid binary_logloss: 0.971773 + 0.299887\n",
      "Early stopping, best iteration is:\n",
      "[1]\tcv_agg's valid binary_logloss: 0.971773 + 0.299887\n",
      "Training until validation scores don't improve for 100 rounds\n",
      "[100]\tcv_agg's valid binary_logloss: 0.971773 + 0.299887\n",
      "Early stopping, best iteration is:\n",
      "[1]\tcv_agg's valid binary_logloss: 0.971773 + 0.299887\n",
      "Training until validation scores don't improve for 100 rounds\n",
      "[100]\tcv_agg's valid binary_logloss: 0.971773 + 0.299887\n",
      "Early stopping, best iteration is:\n",
      "[1]\tcv_agg's valid binary_logloss: 0.971773 + 0.299887\n",
      "Training until validation scores don't improve for 100 rounds\n"
     ]
    },
    {
     "name": "stderr",
     "output_type": "stream",
     "text": [
      "num_leaves, val_score: 0.971773:  30%|###       | 6/20 [00:00<00:00, 15.23it/s]"
     ]
    },
    {
     "name": "stdout",
     "output_type": "stream",
     "text": [
      "[100]\tcv_agg's valid binary_logloss: 0.971773 + 0.299887\n",
      "Early stopping, best iteration is:\n",
      "[1]\tcv_agg's valid binary_logloss: 0.971773 + 0.299887\n",
      "Training until validation scores don't improve for 100 rounds\n",
      "[100]\tcv_agg's valid binary_logloss: 0.971773 + 0.299887\n",
      "Early stopping, best iteration is:\n",
      "[1]\tcv_agg's valid binary_logloss: 0.971773 + 0.299887\n",
      "Training until validation scores don't improve for 100 rounds\n",
      "[100]\tcv_agg's valid binary_logloss: 0.971773 + 0.299887\n",
      "Early stopping, best iteration is:\n",
      "[1]\tcv_agg's valid binary_logloss: 0.971773 + 0.299887\n",
      "Training until validation scores don't improve for 100 rounds\n"
     ]
    },
    {
     "name": "stderr",
     "output_type": "stream",
     "text": [
      "num_leaves, val_score: 0.971773:  45%|####5     | 9/20 [00:00<00:00, 14.75it/s]"
     ]
    },
    {
     "name": "stdout",
     "output_type": "stream",
     "text": [
      "[100]\tcv_agg's valid binary_logloss: 0.971773 + 0.299887\n",
      "Early stopping, best iteration is:\n",
      "[1]\tcv_agg's valid binary_logloss: 0.971773 + 0.299887\n",
      "Training until validation scores don't improve for 100 rounds\n",
      "[100]\tcv_agg's valid binary_logloss: 0.971773 + 0.299887\n",
      "Early stopping, best iteration is:\n",
      "[1]\tcv_agg's valid binary_logloss: 0.971773 + 0.299887\n",
      "Training until validation scores don't improve for 100 rounds\n",
      "[100]\tcv_agg's valid binary_logloss: 0.971773 + 0.299887\n",
      "Early stopping, best iteration is:\n",
      "[1]\tcv_agg's valid binary_logloss: 0.971773 + 0.299887\n",
      "Training until validation scores don't improve for 100 rounds\n",
      "[100]\tcv_agg's valid binary_logloss: 0.971773 + 0.299887\n",
      "Early stopping, best iteration is:\n",
      "[1]\tcv_agg's valid binary_logloss: 0.971773 + 0.299887\n"
     ]
    },
    {
     "name": "stderr",
     "output_type": "stream",
     "text": [
      "num_leaves, val_score: 0.971773:  60%|######    | 12/20 [00:00<00:00, 14.50it/s]"
     ]
    },
    {
     "name": "stdout",
     "output_type": "stream",
     "text": [
      "Training until validation scores don't improve for 100 rounds\n",
      "[100]\tcv_agg's valid binary_logloss: 0.971773 + 0.299887\n",
      "Early stopping, best iteration is:\n",
      "[1]\tcv_agg's valid binary_logloss: 0.971773 + 0.299887\n",
      "Training until validation scores don't improve for 100 rounds\n",
      "[100]\tcv_agg's valid binary_logloss: 0.971773 + 0.299887\n",
      "Early stopping, best iteration is:\n",
      "[1]\tcv_agg's valid binary_logloss: 0.971773 + 0.299887\n",
      "Training until validation scores don't improve for 100 rounds\n",
      "[100]\tcv_agg's valid binary_logloss: 0.971773 + 0.299887\n",
      "Early stopping, best iteration is:\n",
      "[1]\tcv_agg's valid binary_logloss: 0.971773 + 0.299887\n"
     ]
    },
    {
     "name": "stderr",
     "output_type": "stream",
     "text": [
      "num_leaves, val_score: 0.971773:  75%|#######5  | 15/20 [00:01<00:00, 14.27it/s]"
     ]
    },
    {
     "name": "stdout",
     "output_type": "stream",
     "text": [
      "Training until validation scores don't improve for 100 rounds\n",
      "[100]\tcv_agg's valid binary_logloss: 0.971773 + 0.299887\n",
      "Early stopping, best iteration is:\n",
      "[1]\tcv_agg's valid binary_logloss: 0.971773 + 0.299887\n",
      "Training until validation scores don't improve for 100 rounds\n",
      "[100]\tcv_agg's valid binary_logloss: 0.971773 + 0.299887\n",
      "Early stopping, best iteration is:\n",
      "[1]\tcv_agg's valid binary_logloss: 0.971773 + 0.299887\n",
      "Training until validation scores don't improve for 100 rounds\n",
      "[100]\tcv_agg's valid binary_logloss: 0.971773 + 0.299887\n",
      "Early stopping, best iteration is:\n",
      "[1]\tcv_agg's valid binary_logloss: 0.971773 + 0.299887\n"
     ]
    },
    {
     "name": "stderr",
     "output_type": "stream",
     "text": [
      "num_leaves, val_score: 0.971773:  90%|######### | 18/20 [00:01<00:00, 14.19it/s]"
     ]
    },
    {
     "name": "stdout",
     "output_type": "stream",
     "text": [
      "Training until validation scores don't improve for 100 rounds\n",
      "[100]\tcv_agg's valid binary_logloss: 0.971773 + 0.299887\n",
      "Early stopping, best iteration is:\n",
      "[1]\tcv_agg's valid binary_logloss: 0.971773 + 0.299887\n",
      "Training until validation scores don't improve for 100 rounds\n",
      "[100]\tcv_agg's valid binary_logloss: 0.971773 + 0.299887\n",
      "Early stopping, best iteration is:\n",
      "[1]\tcv_agg's valid binary_logloss: 0.971773 + 0.299887\n",
      "Training until validation scores don't improve for 100 rounds\n"
     ]
    },
    {
     "name": "stderr",
     "output_type": "stream",
     "text": [
      "num_leaves, val_score: 0.971773: 100%|##########| 20/20 [00:01<00:00, 14.60it/s]\n"
     ]
    },
    {
     "name": "stdout",
     "output_type": "stream",
     "text": [
      "[100]\tcv_agg's valid binary_logloss: 0.971773 + 0.299887\n",
      "Early stopping, best iteration is:\n",
      "[1]\tcv_agg's valid binary_logloss: 0.971773 + 0.299887\n",
      "Training until validation scores don't improve for 100 rounds\n",
      "[100]\tcv_agg's valid binary_logloss: 0.971773 + 0.299887\n",
      "Early stopping, best iteration is:\n",
      "[1]\tcv_agg's valid binary_logloss: 0.971773 + 0.299887\n"
     ]
    },
    {
     "name": "stderr",
     "output_type": "stream",
     "text": [
      "bagging, val_score: 0.971773:  10%|#         | 1/10 [00:00<00:00, 12.97it/s]"
     ]
    },
    {
     "name": "stdout",
     "output_type": "stream",
     "text": [
      "Training until validation scores don't improve for 100 rounds\n",
      "[100]\tcv_agg's valid binary_logloss: 0.971773 + 0.299887\n",
      "Early stopping, best iteration is:\n",
      "[1]\tcv_agg's valid binary_logloss: 0.971773 + 0.299887\n",
      "Training until validation scores don't improve for 100 rounds\n"
     ]
    },
    {
     "name": "stderr",
     "output_type": "stream",
     "text": [
      "bagging, val_score: 0.971773:  20%|##        | 2/10 [00:00<00:00, 13.59it/s]"
     ]
    },
    {
     "name": "stdout",
     "output_type": "stream",
     "text": [
      "[100]\tcv_agg's valid binary_logloss: 0.971773 + 0.299887\n",
      "Early stopping, best iteration is:\n",
      "[1]\tcv_agg's valid binary_logloss: 0.971773 + 0.299887\n",
      "Training until validation scores don't improve for 100 rounds\n",
      "[100]\tcv_agg's valid binary_logloss: 0.971773 + 0.299887\n",
      "Early stopping, best iteration is:\n",
      "[1]\tcv_agg's valid binary_logloss: 0.971773 + 0.299887\n"
     ]
    },
    {
     "name": "stderr",
     "output_type": "stream",
     "text": [
      "bagging, val_score: 0.971773:  30%|###       | 3/10 [00:00<00:00, 13.59it/s]"
     ]
    },
    {
     "name": "stdout",
     "output_type": "stream",
     "text": [
      "Training until validation scores don't improve for 100 rounds\n",
      "[100]\tcv_agg's valid binary_logloss: 0.971773 + 0.299887\n",
      "Early stopping, best iteration is:\n",
      "[1]\tcv_agg's valid binary_logloss: 0.971773 + 0.299887\n"
     ]
    },
    {
     "name": "stderr",
     "output_type": "stream",
     "text": [
      "bagging, val_score: 0.971773:  50%|#####     | 5/10 [00:00<00:00, 12.21it/s]"
     ]
    },
    {
     "name": "stdout",
     "output_type": "stream",
     "text": [
      "Training until validation scores don't improve for 100 rounds\n",
      "[100]\tcv_agg's valid binary_logloss: 0.971773 + 0.299887\n",
      "Early stopping, best iteration is:\n",
      "[1]\tcv_agg's valid binary_logloss: 0.971773 + 0.299887\n",
      "Training until validation scores don't improve for 100 rounds\n"
     ]
    },
    {
     "name": "stderr",
     "output_type": "stream",
     "text": [
      "bagging, val_score: 0.971773:  60%|######    | 6/10 [00:00<00:00, 11.00it/s]"
     ]
    },
    {
     "name": "stdout",
     "output_type": "stream",
     "text": [
      "[100]\tcv_agg's valid binary_logloss: 0.971773 + 0.299887\n",
      "Early stopping, best iteration is:\n",
      "[1]\tcv_agg's valid binary_logloss: 0.971773 + 0.299887\n"
     ]
    },
    {
     "name": "stderr",
     "output_type": "stream",
     "text": [
      "bagging, val_score: 0.971773:  70%|#######   | 7/10 [00:00<00:00, 11.00it/s]"
     ]
    },
    {
     "name": "stdout",
     "output_type": "stream",
     "text": [
      "Training until validation scores don't improve for 100 rounds\n",
      "[100]\tcv_agg's valid binary_logloss: 0.971773 + 0.299887\n",
      "Early stopping, best iteration is:\n",
      "[1]\tcv_agg's valid binary_logloss: 0.971773 + 0.299887\n",
      "Training until validation scores don't improve for 100 rounds\n",
      "[100]\tcv_agg's valid binary_logloss: 0.971773 + 0.299887\n",
      "Early stopping, best iteration is:\n",
      "[1]\tcv_agg's valid binary_logloss: 0.971773 + 0.299887\n"
     ]
    },
    {
     "name": "stderr",
     "output_type": "stream",
     "text": [
      "bagging, val_score: 0.971773:  80%|########  | 8/10 [00:00<00:00, 10.67it/s]"
     ]
    },
    {
     "name": "stdout",
     "output_type": "stream",
     "text": [
      "Training until validation scores don't improve for 100 rounds"
     ]
    },
    {
     "name": "stderr",
     "output_type": "stream",
     "text": [
      "bagging, val_score: 0.971773: 100%|##########| 10/10 [00:00<00:00, 11.00it/s]\n"
     ]
    },
    {
     "name": "stdout",
     "output_type": "stream",
     "text": [
      "\n",
      "[100]\tcv_agg's valid binary_logloss: 0.971773 + 0.299887\n",
      "Early stopping, best iteration is:\n",
      "[1]\tcv_agg's valid binary_logloss: 0.971773 + 0.299887\n",
      "Training until validation scores don't improve for 100 rounds\n",
      "[100]\tcv_agg's valid binary_logloss: 0.971773 + 0.299887\n",
      "Early stopping, best iteration is:\n",
      "[1]\tcv_agg's valid binary_logloss: 0.971773 + 0.299887\n"
     ]
    },
    {
     "name": "stderr",
     "output_type": "stream",
     "text": [
      "feature_fraction_stage2, val_score: 0.971773:   0%|          | 0/3 [00:00<?, ?it/s]"
     ]
    },
    {
     "name": "stdout",
     "output_type": "stream",
     "text": [
      "Training until validation scores don't improve for 100 rounds\n"
     ]
    },
    {
     "name": "stderr",
     "output_type": "stream",
     "text": [
      "feature_fraction_stage2, val_score: 0.971773: 100%|##########| 3/3 [00:00<00:00,  7.44it/s]\n"
     ]
    },
    {
     "name": "stdout",
     "output_type": "stream",
     "text": [
      "[100]\tcv_agg's valid binary_logloss: 0.971773 + 0.299887\n",
      "Early stopping, best iteration is:\n",
      "[1]\tcv_agg's valid binary_logloss: 0.971773 + 0.299887\n",
      "Training until validation scores don't improve for 100 rounds\n",
      "[100]\tcv_agg's valid binary_logloss: 0.971773 + 0.299887\n",
      "Early stopping, best iteration is:\n",
      "[1]\tcv_agg's valid binary_logloss: 0.971773 + 0.299887\n",
      "Training until validation scores don't improve for 100 rounds\n",
      "[100]\tcv_agg's valid binary_logloss: 0.971773 + 0.299887\n",
      "Early stopping, best iteration is:\n",
      "[1]\tcv_agg's valid binary_logloss: 0.971773 + 0.299887\n"
     ]
    },
    {
     "name": "stderr",
     "output_type": "stream",
     "text": [
      "regularization_factors, val_score: 0.971773:   0%|          | 0/20 [00:00<?, ?it/s]"
     ]
    },
    {
     "name": "stdout",
     "output_type": "stream",
     "text": [
      "Training until validation scores don't improve for 100 rounds\n"
     ]
    },
    {
     "name": "stderr",
     "output_type": "stream",
     "text": [
      "regularization_factors, val_score: 0.971773:  15%|#5        | 3/20 [00:00<00:01, 14.61it/s]"
     ]
    },
    {
     "name": "stdout",
     "output_type": "stream",
     "text": [
      "[100]\tcv_agg's valid binary_logloss: 0.971773 + 0.299887\n",
      "Early stopping, best iteration is:\n",
      "[1]\tcv_agg's valid binary_logloss: 0.971773 + 0.299887\n",
      "Training until validation scores don't improve for 100 rounds\n",
      "[100]\tcv_agg's valid binary_logloss: 0.971773 + 0.299887\n",
      "Early stopping, best iteration is:\n",
      "[1]\tcv_agg's valid binary_logloss: 0.971773 + 0.299887\n",
      "Training until validation scores don't improve for 100 rounds\n",
      "[100]\tcv_agg's valid binary_logloss: 0.971773 + 0.299887\n",
      "Early stopping, best iteration is:\n",
      "[1]\tcv_agg's valid binary_logloss: 0.971773 + 0.299887\n",
      "Training until validation scores don't improve for 100 rounds\n",
      "[100]\tcv_agg's valid binary_logloss: 0.971773 + 0.299887\n",
      "Early stopping, best iteration is:\n",
      "[1]\tcv_agg's valid binary_logloss: 0.971773 + 0.299887\n"
     ]
    },
    {
     "name": "stderr",
     "output_type": "stream",
     "text": [
      "regularization_factors, val_score: 0.971773:  30%|###       | 6/20 [00:00<00:00, 15.12it/s]"
     ]
    },
    {
     "name": "stdout",
     "output_type": "stream",
     "text": [
      "Training until validation scores don't improve for 100 rounds\n",
      "[100]\tcv_agg's valid binary_logloss: 0.971773 + 0.299887\n",
      "Early stopping, best iteration is:\n",
      "[1]\tcv_agg's valid binary_logloss: 0.971773 + 0.299887\n",
      "Training until validation scores don't improve for 100 rounds\n",
      "[100]\tcv_agg's valid binary_logloss: 0.971773 + 0.299887\n",
      "Early stopping, best iteration is:\n",
      "[1]\tcv_agg's valid binary_logloss: 0.971773 + 0.299887\n",
      "Training until validation scores don't improve for 100 rounds\n",
      "[100]\tcv_agg's valid binary_logloss: 0.971773 + 0.299887\n",
      "Early stopping, best iteration is:\n",
      "[1]\tcv_agg's valid binary_logloss: 0.971773 + 0.299887\n"
     ]
    },
    {
     "name": "stderr",
     "output_type": "stream",
     "text": [
      "regularization_factors, val_score: 0.971773:  45%|####5     | 9/20 [00:00<00:00, 14.50it/s]"
     ]
    },
    {
     "name": "stdout",
     "output_type": "stream",
     "text": [
      "Training until validation scores don't improve for 100 rounds\n",
      "[100]\tcv_agg's valid binary_logloss: 0.971773 + 0.299887\n",
      "Early stopping, best iteration is:\n",
      "[1]\tcv_agg's valid binary_logloss: 0.971773 + 0.299887\n",
      "Training until validation scores don't improve for 100 rounds\n",
      "[100]\tcv_agg's valid binary_logloss: 0.971773 + 0.299887\n",
      "Early stopping, best iteration is:\n",
      "[1]\tcv_agg's valid binary_logloss: 0.971773 + 0.299887\n",
      "Training until validation scores don't improve for 100 rounds\n",
      "[100]\tcv_agg's valid binary_logloss: 0.971773 + 0.299887\n",
      "Early stopping, best iteration is:\n",
      "[1]\tcv_agg's valid binary_logloss: 0.971773 + 0.299887\n"
     ]
    },
    {
     "name": "stderr",
     "output_type": "stream",
     "text": [
      "regularization_factors, val_score: 0.971773:  60%|######    | 12/20 [00:00<00:00, 14.32it/s]"
     ]
    },
    {
     "name": "stdout",
     "output_type": "stream",
     "text": [
      "Training until validation scores don't improve for 100 rounds\n",
      "[100]\tcv_agg's valid binary_logloss: 0.971773 + 0.299887\n",
      "Early stopping, best iteration is:\n",
      "[1]\tcv_agg's valid binary_logloss: 0.971773 + 0.299887\n",
      "Training until validation scores don't improve for 100 rounds\n",
      "[100]\tcv_agg's valid binary_logloss: 0.971773 + 0.299887\n",
      "Early stopping, best iteration is:\n",
      "[1]\tcv_agg's valid binary_logloss: 0.971773 + 0.299887\n",
      "Training until validation scores don't improve for 100 rounds\n",
      "[100]\tcv_agg's valid binary_logloss: 0.971773 + 0.299887\n",
      "Early stopping, best iteration is:\n",
      "[1]\tcv_agg's valid binary_logloss: 0.971773 + 0.299887\n"
     ]
    },
    {
     "name": "stderr",
     "output_type": "stream",
     "text": [
      "regularization_factors, val_score: 0.971773:  80%|########  | 16/20 [00:01<00:00, 14.56it/s]"
     ]
    },
    {
     "name": "stdout",
     "output_type": "stream",
     "text": [
      "Training until validation scores don't improve for 100 rounds\n",
      "[100]\tcv_agg's valid binary_logloss: 0.971773 + 0.299887\n",
      "Early stopping, best iteration is:\n",
      "[1]\tcv_agg's valid binary_logloss: 0.971773 + 0.299887\n",
      "Training until validation scores don't improve for 100 rounds\n",
      "[100]\tcv_agg's valid binary_logloss: 0.971773 + 0.299887\n",
      "Early stopping, best iteration is:\n",
      "[1]\tcv_agg's valid binary_logloss: 0.971773 + 0.299887\n",
      "Training until validation scores don't improve for 100 rounds\n",
      "[100]\tcv_agg's valid binary_logloss: 0.971773 + 0.299887\n",
      "Early stopping, best iteration is:\n",
      "[1]\tcv_agg's valid binary_logloss: 0.971773 + 0.299887\n"
     ]
    },
    {
     "name": "stderr",
     "output_type": "stream",
     "text": [
      "regularization_factors, val_score: 0.971773:  90%|######### | 18/20 [00:01<00:00, 14.60it/s]"
     ]
    },
    {
     "name": "stdout",
     "output_type": "stream",
     "text": [
      "Training until validation scores don't improve for 100 rounds\n",
      "[100]\tcv_agg's valid binary_logloss: 0.971773 + 0.299887\n",
      "Early stopping, best iteration is:\n",
      "[1]\tcv_agg's valid binary_logloss: 0.971773 + 0.299887\n",
      "Training until validation scores don't improve for 100 rounds\n",
      "[100]\tcv_agg's valid binary_logloss: 0.971773 + 0.299887\n",
      "Early stopping, best iteration is:\n",
      "[1]\tcv_agg's valid binary_logloss: 0.971773 + 0.299887\n",
      "Training until validation scores don't improve for 100 rounds\n"
     ]
    },
    {
     "name": "stderr",
     "output_type": "stream",
     "text": [
      "regularization_factors, val_score: 0.971773: 100%|##########| 20/20 [00:01<00:00, 14.19it/s]\n"
     ]
    },
    {
     "name": "stdout",
     "output_type": "stream",
     "text": [
      "[100]\tcv_agg's valid binary_logloss: 0.971773 + 0.299887\n",
      "Early stopping, best iteration is:\n",
      "[1]\tcv_agg's valid binary_logloss: 0.971773 + 0.299887\n",
      "Training until validation scores don't improve for 100 rounds\n",
      "[100]\tcv_agg's valid binary_logloss: 0.971773 + 0.299887\n",
      "Early stopping, best iteration is:\n",
      "[1]\tcv_agg's valid binary_logloss: 0.971773 + 0.299887\n"
     ]
    },
    {
     "name": "stderr",
     "output_type": "stream",
     "text": [
      "min_child_samples, val_score: 0.971773:  20%|##        | 1/5 [00:00<00:00, 12.50it/s]"
     ]
    },
    {
     "name": "stdout",
     "output_type": "stream",
     "text": [
      "Training until validation scores don't improve for 100 rounds\n",
      "[100]\tcv_agg's valid binary_logloss: 0.971773 + 0.299887\n",
      "Early stopping, best iteration is:\n",
      "[1]\tcv_agg's valid binary_logloss: 0.971773 + 0.299887\n"
     ]
    },
    {
     "name": "stderr",
     "output_type": "stream",
     "text": [
      "min_child_samples, val_score: 0.971773:  40%|####      | 2/5 [00:00<00:00, 13.03it/s]"
     ]
    },
    {
     "name": "stdout",
     "output_type": "stream",
     "text": [
      "Training until validation scores don't improve for 100 rounds\n",
      "[100]\tcv_agg's valid binary_logloss: 0.971773 + 0.299887\n",
      "Early stopping, best iteration is:\n",
      "[1]\tcv_agg's valid binary_logloss: 0.971773 + 0.299887\n",
      "Training until validation scores don't improve for 100 rounds\n",
      "[100]\tcv_agg's valid binary_logloss: 0.272743 + 0.545001"
     ]
    },
    {
     "name": "stderr",
     "output_type": "stream",
     "text": [
      "min_child_samples, val_score: 0.151809:  80%|########  | 4/5 [00:00<00:00,  8.43it/s]"
     ]
    },
    {
     "name": "stdout",
     "output_type": "stream",
     "text": [
      "\n",
      "Early stopping, best iteration is:\n",
      "[35]\tcv_agg's valid binary_logloss: 0.151809 + 0.242123\n",
      "Training until validation scores don't improve for 100 rounds\n",
      "[100]\tcv_agg's valid binary_logloss: 0.590528 + 0.37616\n",
      "[200]\tcv_agg's valid binary_logloss: 0.604527 + 0.390247\n",
      "Early stopping, best iteration is:\n",
      "[114]\tcv_agg's valid binary_logloss: 0.565542 + 0.36773\n",
      "Training until validation scores don't improve for 100 rounds\n"
     ]
    },
    {
     "name": "stderr",
     "output_type": "stream",
     "text": [
      "min_child_samples, val_score: 0.151809: 100%|##########| 5/5 [00:00<00:00,  9.80it/s]\n"
     ]
    },
    {
     "name": "stdout",
     "output_type": "stream",
     "text": [
      "[100]\tcv_agg's valid binary_logloss: 0.971773 + 0.299887\n",
      "Early stopping, best iteration is:\n",
      "[1]\tcv_agg's valid binary_logloss: 0.971773 + 0.299887\n",
      "{'accuracy': 0.6111111111111112, 'balanced_accuracy': np.float64(0.6038961038961039), 'f1': np.float64(0.5333333333333333), 'precision': np.float64(0.5), 'recall': np.float64(0.5714285714285714), 'specificity': np.float64(0.6363636363636364), 'ROC_AUC': np.float64(0.6038961038961039), 'MCC': np.float64(0.20385887657505022)}\n"
     ]
    },
    {
     "name": "stderr",
     "output_type": "stream",
     "text": [
      "feature_fraction, val_score: 0.971773:  43%|####2     | 3/7 [00:00<00:00, 17.72it/s]"
     ]
    },
    {
     "name": "stdout",
     "output_type": "stream",
     "text": [
      "Training until validation scores don't improve for 100 rounds\n",
      "[100]\tcv_agg's valid binary_logloss: 0.971773 + 0.299887\n",
      "Early stopping, best iteration is:\n",
      "[1]\tcv_agg's valid binary_logloss: 0.971773 + 0.299887\n",
      "Training until validation scores don't improve for 100 rounds\n",
      "[100]\tcv_agg's valid binary_logloss: 0.971773 + 0.299887\n",
      "Early stopping, best iteration is:\n",
      "[1]\tcv_agg's valid binary_logloss: 0.971773 + 0.299887\n",
      "Training until validation scores don't improve for 100 rounds\n",
      "[100]\tcv_agg's valid binary_logloss: 0.971773 + 0.299887\n",
      "Early stopping, best iteration is:\n",
      "[1]\tcv_agg's valid binary_logloss: 0.971773 + 0.299887\n",
      "Training until validation scores don't improve for 100 rounds\n"
     ]
    },
    {
     "name": "stderr",
     "output_type": "stream",
     "text": [
      "feature_fraction, val_score: 0.971773: 100%|##########| 7/7 [00:00<00:00, 17.23it/s]\n"
     ]
    },
    {
     "name": "stdout",
     "output_type": "stream",
     "text": [
      "[100]\tcv_agg's valid binary_logloss: 0.971773 + 0.299887\n",
      "Early stopping, best iteration is:\n",
      "[1]\tcv_agg's valid binary_logloss: 0.971773 + 0.299887\n",
      "Training until validation scores don't improve for 100 rounds\n",
      "[100]\tcv_agg's valid binary_logloss: 0.971773 + 0.299887\n",
      "Early stopping, best iteration is:\n",
      "[1]\tcv_agg's valid binary_logloss: 0.971773 + 0.299887\n",
      "Training until validation scores don't improve for 100 rounds\n",
      "[100]\tcv_agg's valid binary_logloss: 0.971773 + 0.299887\n",
      "Early stopping, best iteration is:\n",
      "[1]\tcv_agg's valid binary_logloss: 0.971773 + 0.299887\n",
      "Training until validation scores don't improve for 100 rounds\n",
      "[100]\tcv_agg's valid binary_logloss: 0.971773 + 0.299887\n",
      "Early stopping, best iteration is:\n",
      "[1]\tcv_agg's valid binary_logloss: 0.971773 + 0.299887\n"
     ]
    },
    {
     "name": "stderr",
     "output_type": "stream",
     "text": [
      "num_leaves, val_score: 0.971773:  10%|#         | 2/20 [00:00<00:01, 14.65it/s]"
     ]
    },
    {
     "name": "stdout",
     "output_type": "stream",
     "text": [
      "Training until validation scores don't improve for 100 rounds\n",
      "[100]\tcv_agg's valid binary_logloss: 0.971773 + 0.299887\n",
      "Early stopping, best iteration is:\n",
      "[1]\tcv_agg's valid binary_logloss: 0.971773 + 0.299887\n",
      "Training until validation scores don't improve for 100 rounds\n",
      "[100]\tcv_agg's valid binary_logloss: 0.971773 + 0.299887\n",
      "Early stopping, best iteration is:\n",
      "[1]\tcv_agg's valid binary_logloss: 0.971773 + 0.299887\n",
      "Training until validation scores don't improve for 100 rounds\n",
      "[100]\tcv_agg's valid binary_logloss: 0.971773 + 0.299887\n",
      "Early stopping, best iteration is:\n",
      "[1]\tcv_agg's valid binary_logloss: 0.971773 + 0.299887\n"
     ]
    },
    {
     "name": "stderr",
     "output_type": "stream",
     "text": [
      "num_leaves, val_score: 0.971773:  25%|##5       | 5/20 [00:00<00:01, 14.69it/s]"
     ]
    },
    {
     "name": "stdout",
     "output_type": "stream",
     "text": [
      "Training until validation scores don't improve for 100 rounds\n",
      "[100]\tcv_agg's valid binary_logloss: 0.971773 + 0.299887\n",
      "Early stopping, best iteration is:\n",
      "[1]\tcv_agg's valid binary_logloss: 0.971773 + 0.299887\n",
      "Training until validation scores don't improve for 100 rounds\n",
      "[100]\tcv_agg's valid binary_logloss: 0.971773 + 0.299887\n",
      "Early stopping, best iteration is:\n",
      "[1]\tcv_agg's valid binary_logloss: 0.971773 + 0.299887\n",
      "Training until validation scores don't improve for 100 rounds\n",
      "[100]\tcv_agg's valid binary_logloss: 0.971773 + 0.299887\n",
      "Early stopping, best iteration is:\n",
      "[1]\tcv_agg's valid binary_logloss: 0.971773 + 0.299887\n"
     ]
    },
    {
     "name": "stderr",
     "output_type": "stream",
     "text": [
      "num_leaves, val_score: 0.971773:  45%|####5     | 9/20 [00:00<00:00, 14.15it/s]"
     ]
    },
    {
     "name": "stdout",
     "output_type": "stream",
     "text": [
      "Training until validation scores don't improve for 100 rounds\n",
      "[100]\tcv_agg's valid binary_logloss: 0.971773 + 0.299887\n",
      "Early stopping, best iteration is:\n",
      "[1]\tcv_agg's valid binary_logloss: 0.971773 + 0.299887\n",
      "Training until validation scores don't improve for 100 rounds\n",
      "[100]\tcv_agg's valid binary_logloss: 0.971773 + 0.299887\n",
      "Early stopping, best iteration is:\n",
      "[1]\tcv_agg's valid binary_logloss: 0.971773 + 0.299887\n",
      "Training until validation scores don't improve for 100 rounds\n",
      "[100]\tcv_agg's valid binary_logloss: 0.971773 + 0.299887\n",
      "Early stopping, best iteration is:\n",
      "[1]\tcv_agg's valid binary_logloss: 0.971773 + 0.299887\n"
     ]
    },
    {
     "name": "stderr",
     "output_type": "stream",
     "text": [
      "num_leaves, val_score: 0.971773:  55%|#####5    | 11/20 [00:00<00:00, 13.73it/s]"
     ]
    },
    {
     "name": "stdout",
     "output_type": "stream",
     "text": [
      "Training until validation scores don't improve for 100 rounds\n",
      "[100]\tcv_agg's valid binary_logloss: 0.971773 + 0.299887\n",
      "Early stopping, best iteration is:\n",
      "[1]\tcv_agg's valid binary_logloss: 0.971773 + 0.299887\n",
      "Training until validation scores don't improve for 100 rounds\n",
      "[100]\tcv_agg's valid binary_logloss: 0.971773 + 0.299887\n",
      "Early stopping, best iteration is:\n",
      "[1]\tcv_agg's valid binary_logloss: 0.971773 + 0.299887\n",
      "Training until validation scores don't improve for 100 rounds\n"
     ]
    },
    {
     "name": "stderr",
     "output_type": "stream",
     "text": [
      "num_leaves, val_score: 0.971773:  70%|#######   | 14/20 [00:01<00:00, 12.46it/s]"
     ]
    },
    {
     "name": "stdout",
     "output_type": "stream",
     "text": [
      "[100]\tcv_agg's valid binary_logloss: 0.971773 + 0.299887\n",
      "Early stopping, best iteration is:\n",
      "[1]\tcv_agg's valid binary_logloss: 0.971773 + 0.299887\n",
      "Training until validation scores don't improve for 100 rounds\n",
      "[100]\tcv_agg's valid binary_logloss: 0.971773 + 0.299887\n",
      "Early stopping, best iteration is:\n",
      "[1]\tcv_agg's valid binary_logloss: 0.971773 + 0.299887\n",
      "Training until validation scores don't improve for 100 rounds\n",
      "[100]\tcv_agg's valid binary_logloss: 0.971773 + 0.299887\n",
      "Early stopping, best iteration is:\n",
      "[1]\tcv_agg's valid binary_logloss: 0.971773 + 0.299887\n"
     ]
    },
    {
     "name": "stderr",
     "output_type": "stream",
     "text": [
      "num_leaves, val_score: 0.971773:  80%|########  | 16/20 [00:01<00:00, 12.96it/s]"
     ]
    },
    {
     "name": "stdout",
     "output_type": "stream",
     "text": [
      "Training until validation scores don't improve for 100 rounds\n",
      "[100]\tcv_agg's valid binary_logloss: 0.971773 + 0.299887\n",
      "Early stopping, best iteration is:\n",
      "[1]\tcv_agg's valid binary_logloss: 0.971773 + 0.299887\n",
      "Training until validation scores don't improve for 100 rounds\n",
      "[100]\tcv_agg's valid binary_logloss: 0.971773 + 0.299887\n",
      "Early stopping, best iteration is:\n",
      "[1]\tcv_agg's valid binary_logloss: 0.971773 + 0.299887\n",
      "Training until validation scores don't improve for 100 rounds\n"
     ]
    },
    {
     "name": "stderr",
     "output_type": "stream",
     "text": [
      "num_leaves, val_score: 0.971773:  95%|#########5| 19/20 [00:01<00:00, 13.11it/s]"
     ]
    },
    {
     "name": "stdout",
     "output_type": "stream",
     "text": [
      "[100]\tcv_agg's valid binary_logloss: 0.971773 + 0.299887\n",
      "Early stopping, best iteration is:\n",
      "[1]\tcv_agg's valid binary_logloss: 0.971773 + 0.299887\n",
      "Training until validation scores don't improve for 100 rounds\n",
      "[100]\tcv_agg's valid binary_logloss: 0.971773 + 0.299887\n",
      "Early stopping, best iteration is:\n",
      "[1]\tcv_agg's valid binary_logloss: 0.971773 + 0.299887\n",
      "Training until validation scores don't improve for 100 rounds\n",
      "[100]\tcv_agg's valid binary_logloss: 0.971773 + 0.299887\n",
      "Early stopping, best iteration is:\n",
      "[1]\tcv_agg's valid binary_logloss: 0.971773 + 0.299887\n",
      "Training until validation scores don't improve for 100 rounds\n",
      "[100]\tcv_agg's valid binary_logloss: 0.971773 + 0.299887\n",
      "Early stopping, best iteration is:\n",
      "[1]\tcv_agg's valid binary_logloss: 0.971773 + 0.299887\n"
     ]
    },
    {
     "name": "stderr",
     "output_type": "stream",
     "text": [
      "num_leaves, val_score: 0.971773: 100%|##########| 20/20 [00:01<00:00, 13.38it/s]\n",
      "bagging, val_score: 0.971773:  20%|##        | 2/10 [00:00<00:00, 11.46it/s]"
     ]
    },
    {
     "name": "stdout",
     "output_type": "stream",
     "text": [
      "Training until validation scores don't improve for 100 rounds\n",
      "[100]\tcv_agg's valid binary_logloss: 0.971773 + 0.299887\n",
      "Early stopping, best iteration is:\n",
      "[1]\tcv_agg's valid binary_logloss: 0.971773 + 0.299887\n",
      "Training until validation scores don't improve for 100 rounds\n",
      "[100]\tcv_agg's valid binary_logloss: 0.971773 + 0.299887\n",
      "Early stopping, best iteration is:\n",
      "[1]\tcv_agg's valid binary_logloss: 0.971773 + 0.299887\n",
      "Training until validation scores don't improve for 100 rounds\n"
     ]
    },
    {
     "name": "stderr",
     "output_type": "stream",
     "text": [
      "bagging, val_score: 0.971773:  50%|#####     | 5/10 [00:00<00:00, 11.89it/s]"
     ]
    },
    {
     "name": "stdout",
     "output_type": "stream",
     "text": [
      "[100]\tcv_agg's valid binary_logloss: 0.971773 + 0.299887\n",
      "Early stopping, best iteration is:\n",
      "[1]\tcv_agg's valid binary_logloss: 0.971773 + 0.299887\n",
      "Training until validation scores don't improve for 100 rounds\n",
      "[100]\tcv_agg's valid binary_logloss: 0.971773 + 0.299887\n",
      "Early stopping, best iteration is:\n",
      "[1]\tcv_agg's valid binary_logloss: 0.971773 + 0.299887\n",
      "Training until validation scores don't improve for 100 rounds\n",
      "[100]\tcv_agg's valid binary_logloss: 0.971773 + 0.299887\n",
      "Early stopping, best iteration is:\n",
      "[1]\tcv_agg's valid binary_logloss: 0.971773 + 0.299887\n",
      "Training until validation scores don't improve for 100 rounds\n"
     ]
    },
    {
     "name": "stderr",
     "output_type": "stream",
     "text": [
      "bagging, val_score: 0.971773:  80%|########  | 8/10 [00:00<00:00, 11.92it/s]"
     ]
    },
    {
     "name": "stdout",
     "output_type": "stream",
     "text": [
      "[100]\tcv_agg's valid binary_logloss: 0.971773 + 0.299887\n",
      "Early stopping, best iteration is:\n",
      "[1]\tcv_agg's valid binary_logloss: 0.971773 + 0.299887\n",
      "Training until validation scores don't improve for 100 rounds\n",
      "[100]\tcv_agg's valid binary_logloss: 0.971773 + 0.299887\n",
      "Early stopping, best iteration is:\n",
      "[1]\tcv_agg's valid binary_logloss: 0.971773 + 0.299887\n",
      "Training until validation scores don't improve for 100 rounds\n",
      "[100]\tcv_agg's valid binary_logloss: 0.971773 + 0.299887\n",
      "Early stopping, best iteration is:\n",
      "[1]\tcv_agg's valid binary_logloss: 0.971773 + 0.299887\n"
     ]
    },
    {
     "name": "stderr",
     "output_type": "stream",
     "text": [
      "bagging, val_score: 0.971773: 100%|##########| 10/10 [00:00<00:00, 11.62it/s]\n"
     ]
    },
    {
     "name": "stdout",
     "output_type": "stream",
     "text": [
      "Training until validation scores don't improve for 100 rounds\n",
      "[100]\tcv_agg's valid binary_logloss: 0.971773 + 0.299887\n",
      "Early stopping, best iteration is:\n",
      "[1]\tcv_agg's valid binary_logloss: 0.971773 + 0.299887\n",
      "Training until validation scores don't improve for 100 rounds\n",
      "[100]\tcv_agg's valid binary_logloss: 0.971773 + 0.299887\n",
      "Early stopping, best iteration is:\n",
      "[1]\tcv_agg's valid binary_logloss: 0.971773 + 0.299887\n"
     ]
    },
    {
     "name": "stderr",
     "output_type": "stream",
     "text": [
      "feature_fraction_stage2, val_score: 0.971773:   0%|          | 0/3 [00:00<?, ?it/s]"
     ]
    },
    {
     "name": "stdout",
     "output_type": "stream",
     "text": [
      "Training until validation scores don't improve for 100 rounds"
     ]
    },
    {
     "name": "stderr",
     "output_type": "stream",
     "text": [
      "feature_fraction_stage2, val_score: 0.971773: 100%|##########| 3/3 [00:00<00:00, 17.14it/s]\n"
     ]
    },
    {
     "name": "stdout",
     "output_type": "stream",
     "text": [
      "\n",
      "[100]\tcv_agg's valid binary_logloss: 0.971773 + 0.299887\n",
      "Early stopping, best iteration is:\n",
      "[1]\tcv_agg's valid binary_logloss: 0.971773 + 0.299887\n",
      "Training until validation scores don't improve for 100 rounds\n",
      "[100]\tcv_agg's valid binary_logloss: 0.971773 + 0.299887\n",
      "Early stopping, best iteration is:\n",
      "[1]\tcv_agg's valid binary_logloss: 0.971773 + 0.299887\n",
      "Training until validation scores don't improve for 100 rounds\n",
      "[100]\tcv_agg's valid binary_logloss: 0.971773 + 0.299887\n",
      "Early stopping, best iteration is:\n",
      "[1]\tcv_agg's valid binary_logloss: 0.971773 + 0.299887\n"
     ]
    },
    {
     "name": "stderr",
     "output_type": "stream",
     "text": [
      "regularization_factors, val_score: 0.971773:   0%|          | 0/20 [00:00<?, ?it/s]"
     ]
    },
    {
     "name": "stdout",
     "output_type": "stream",
     "text": [
      "Training until validation scores don't improve for 100 rounds\n"
     ]
    },
    {
     "name": "stderr",
     "output_type": "stream",
     "text": [
      "regularization_factors, val_score: 0.971773:  10%|#         | 2/20 [00:00<00:01, 13.38it/s]"
     ]
    },
    {
     "name": "stdout",
     "output_type": "stream",
     "text": [
      "[100]\tcv_agg's valid binary_logloss: 0.971773 + 0.299887\n",
      "Early stopping, best iteration is:\n",
      "[1]\tcv_agg's valid binary_logloss: 0.971773 + 0.299887\n",
      "Training until validation scores don't improve for 100 rounds\n",
      "[100]\tcv_agg's valid binary_logloss: 0.971773 + 0.299887\n",
      "Early stopping, best iteration is:\n",
      "[1]\tcv_agg's valid binary_logloss: 0.971773 + 0.299887\n",
      "Training until validation scores don't improve for 100 rounds\n",
      "[100]\tcv_agg's valid binary_logloss: 0.971773 + 0.299887\n",
      "Early stopping, best iteration is:\n",
      "[1]\tcv_agg's valid binary_logloss: 0.971773 + 0.299887\n"
     ]
    },
    {
     "name": "stderr",
     "output_type": "stream",
     "text": [
      "regularization_factors, val_score: 0.971773:  15%|#5        | 3/20 [00:00<00:01, 13.38it/s]"
     ]
    },
    {
     "name": "stdout",
     "output_type": "stream",
     "text": [
      "Training until validation scores don't improve for 100 rounds\n"
     ]
    },
    {
     "name": "stderr",
     "output_type": "stream",
     "text": [
      "regularization_factors, val_score: 0.971773:  25%|##5       | 5/20 [00:00<00:01, 13.09it/s]"
     ]
    },
    {
     "name": "stdout",
     "output_type": "stream",
     "text": [
      "[100]\tcv_agg's valid binary_logloss: 0.971773 + 0.299887\n",
      "Early stopping, best iteration is:\n",
      "[1]\tcv_agg's valid binary_logloss: 0.971773 + 0.299887\n",
      "Training until validation scores don't improve for 100 rounds\n",
      "[100]\tcv_agg's valid binary_logloss: 0.971773 + 0.299887\n",
      "Early stopping, best iteration is:\n",
      "[1]\tcv_agg's valid binary_logloss: 0.971773 + 0.299887\n",
      "Training until validation scores don't improve for 100 rounds\n",
      "[100]\tcv_agg's valid binary_logloss: 0.971773 + 0.299887\n",
      "Early stopping, best iteration is:\n",
      "[1]\tcv_agg's valid binary_logloss: 0.971773 + 0.299887\n"
     ]
    },
    {
     "name": "stderr",
     "output_type": "stream",
     "text": [
      "regularization_factors, val_score: 0.971773:  30%|###       | 6/20 [00:00<00:01, 13.19it/s]"
     ]
    },
    {
     "name": "stdout",
     "output_type": "stream",
     "text": [
      "Training until validation scores don't improve for 100 rounds"
     ]
    },
    {
     "name": "stderr",
     "output_type": "stream",
     "text": [
      "regularization_factors, val_score: 0.971773:  40%|####      | 8/20 [00:00<00:00, 12.37it/s]"
     ]
    },
    {
     "name": "stdout",
     "output_type": "stream",
     "text": [
      "\n",
      "[100]\tcv_agg's valid binary_logloss: 0.971773 + 0.299887\n",
      "Early stopping, best iteration is:\n",
      "[1]\tcv_agg's valid binary_logloss: 0.971773 + 0.299887\n",
      "Training until validation scores don't improve for 100 rounds\n",
      "[100]\tcv_agg's valid binary_logloss: 0.971773 + 0.299887\n",
      "Early stopping, best iteration is:\n",
      "[1]\tcv_agg's valid binary_logloss: 0.971773 + 0.299887\n",
      "Training until validation scores don't improve for 100 rounds\n"
     ]
    },
    {
     "name": "stderr",
     "output_type": "stream",
     "text": [
      "regularization_factors, val_score: 0.971773:  50%|#####     | 10/20 [00:00<00:00, 11.77it/s]"
     ]
    },
    {
     "name": "stdout",
     "output_type": "stream",
     "text": [
      "[100]\tcv_agg's valid binary_logloss: 0.971773 + 0.299887\n",
      "Early stopping, best iteration is:\n",
      "[1]\tcv_agg's valid binary_logloss: 0.971773 + 0.299887\n",
      "Training until validation scores don't improve for 100 rounds\n",
      "[100]\tcv_agg's valid binary_logloss: 0.971773 + 0.299887\n",
      "Early stopping, best iteration is:\n",
      "[1]\tcv_agg's valid binary_logloss: 0.971773 + 0.299887\n",
      "Training until validation scores don't improve for 100 rounds\n",
      "[100]\tcv_agg's valid binary_logloss: 0.971773 + 0.299887\n"
     ]
    },
    {
     "name": "stderr",
     "output_type": "stream",
     "text": [
      "regularization_factors, val_score: 0.971773:  65%|######5   | 13/20 [00:01<00:00, 11.43it/s]"
     ]
    },
    {
     "name": "stdout",
     "output_type": "stream",
     "text": [
      "Early stopping, best iteration is:\n",
      "[1]\tcv_agg's valid binary_logloss: 0.971773 + 0.299887\n",
      "Training until validation scores don't improve for 100 rounds\n",
      "[100]\tcv_agg's valid binary_logloss: 0.971773 + 0.299887\n",
      "Early stopping, best iteration is:\n",
      "[1]\tcv_agg's valid binary_logloss: 0.971773 + 0.299887\n",
      "Training until validation scores don't improve for 100 rounds\n",
      "[100]\tcv_agg's valid binary_logloss: 0.971773 + 0.299887\n",
      "Early stopping, best iteration is:\n",
      "[1]\tcv_agg's valid binary_logloss: 0.971773 + 0.299887\n",
      "Training until validation scores don't improve for 100 rounds\n"
     ]
    },
    {
     "name": "stderr",
     "output_type": "stream",
     "text": [
      "regularization_factors, val_score: 0.971773:  80%|########  | 16/20 [00:01<00:00, 11.59it/s]"
     ]
    },
    {
     "name": "stdout",
     "output_type": "stream",
     "text": [
      "[100]\tcv_agg's valid binary_logloss: 0.971773 + 0.299887\n",
      "Early stopping, best iteration is:\n",
      "[1]\tcv_agg's valid binary_logloss: 0.971773 + 0.299887\n",
      "Training until validation scores don't improve for 100 rounds\n",
      "[100]\tcv_agg's valid binary_logloss: 0.971773 + 0.299887\n",
      "Early stopping, best iteration is:\n",
      "[1]\tcv_agg's valid binary_logloss: 0.971773 + 0.299887\n",
      "Training until validation scores don't improve for 100 rounds\n",
      "[100]\tcv_agg's valid binary_logloss: 0.971773 + 0.299887\n",
      "Early stopping, best iteration is:\n",
      "[1]\tcv_agg's valid binary_logloss: 0.971773 + 0.299887\n"
     ]
    },
    {
     "name": "stderr",
     "output_type": "stream",
     "text": [
      "regularization_factors, val_score: 0.971773:  90%|######### | 18/20 [00:01<00:00, 11.67it/s]"
     ]
    },
    {
     "name": "stdout",
     "output_type": "stream",
     "text": [
      "Training until validation scores don't improve for 100 rounds\n",
      "[100]\tcv_agg's valid binary_logloss: 0.971773 + 0.299887\n",
      "Early stopping, best iteration is:\n",
      "[1]\tcv_agg's valid binary_logloss: 0.971773 + 0.299887\n",
      "Training until validation scores don't improve for 100 rounds\n",
      "[100]\tcv_agg's valid binary_logloss: 0.971773 + 0.299887\n",
      "Early stopping, best iteration is:\n",
      "[1]\tcv_agg's valid binary_logloss: 0.971773 + 0.299887\n",
      "Training until validation scores don't improve for 100 rounds\n"
     ]
    },
    {
     "name": "stderr",
     "output_type": "stream",
     "text": [
      "regularization_factors, val_score: 0.971773: 100%|##########| 20/20 [00:01<00:00, 11.95it/s]\n"
     ]
    },
    {
     "name": "stdout",
     "output_type": "stream",
     "text": [
      "[100]\tcv_agg's valid binary_logloss: 0.971773 + 0.299887\n",
      "Early stopping, best iteration is:\n",
      "[1]\tcv_agg's valid binary_logloss: 0.971773 + 0.299887\n",
      "Training until validation scores don't improve for 100 rounds\n",
      "[100]\tcv_agg's valid binary_logloss: 0.971773 + 0.299887\n",
      "Early stopping, best iteration is:\n",
      "[1]\tcv_agg's valid binary_logloss: 0.971773 + 0.299887\n"
     ]
    },
    {
     "name": "stderr",
     "output_type": "stream",
     "text": [
      "min_child_samples, val_score: 0.971773:   0%|          | 0/5 [00:00<?, ?it/s]"
     ]
    },
    {
     "name": "stdout",
     "output_type": "stream",
     "text": [
      "Training until validation scores don't improve for 100 rounds\n",
      "[100]\tcv_agg's valid binary_logloss: 0.971773 + 0.299887\n",
      "Early stopping, best iteration is:\n",
      "[1]\tcv_agg's valid binary_logloss: 0.971773 + 0.299887\n"
     ]
    },
    {
     "name": "stderr",
     "output_type": "stream",
     "text": [
      "min_child_samples, val_score: 0.971773:  40%|####      | 2/5 [00:00<00:00, 13.52it/s]"
     ]
    },
    {
     "name": "stdout",
     "output_type": "stream",
     "text": [
      "Training until validation scores don't improve for 100 rounds\n",
      "[100]\tcv_agg's valid binary_logloss: 0.971773 + 0.299887\n",
      "Early stopping, best iteration is:\n",
      "[1]\tcv_agg's valid binary_logloss: 0.971773 + 0.299887\n",
      "Training until validation scores don't improve for 100 rounds\n"
     ]
    },
    {
     "name": "stderr",
     "output_type": "stream",
     "text": [
      "min_child_samples, val_score: 0.565475:  60%|######    | 3/5 [00:00<00:00, 13.52it/s]"
     ]
    },
    {
     "name": "stdout",
     "output_type": "stream",
     "text": [
      "[100]\tcv_agg's valid binary_logloss: 1.84959 + 0.635005\n",
      "Early stopping, best iteration is:\n",
      "[15]\tcv_agg's valid binary_logloss: 0.565475 + 0.134604\n"
     ]
    },
    {
     "name": "stderr",
     "output_type": "stream",
     "text": [
      "min_child_samples, val_score: 0.555076:  80%|########  | 4/5 [00:00<00:00, 10.22it/s]"
     ]
    },
    {
     "name": "stdout",
     "output_type": "stream",
     "text": [
      "Training until validation scores don't improve for 100 rounds\n",
      "[100]\tcv_agg's valid binary_logloss: 0.848839 + 0.365578\n",
      "Early stopping, best iteration is:\n",
      "[16]\tcv_agg's valid binary_logloss: 0.555076 + 0.229282\n",
      "Training until validation scores don't improve for 100 rounds\n",
      "[100]\tcv_agg's valid binary_logloss: 0.971773 + 0.299887\n",
      "Early stopping, best iteration is:\n",
      "[1]\tcv_agg's valid binary_logloss: 0.971773 + 0.299887\n"
     ]
    },
    {
     "name": "stderr",
     "output_type": "stream",
     "text": [
      "min_child_samples, val_score: 0.555076: 100%|##########| 5/5 [00:00<00:00, 11.07it/s]\n"
     ]
    },
    {
     "name": "stdout",
     "output_type": "stream",
     "text": [
      "{'accuracy': 0.7777777777777778, 'balanced_accuracy': np.float64(0.7662337662337663), 'f1': np.float64(0.7142857142857143), 'precision': np.float64(0.7142857142857143), 'recall': np.float64(0.7142857142857143), 'specificity': np.float64(0.8181818181818182), 'ROC_AUC': np.float64(0.7662337662337663), 'MCC': np.float64(0.5324675324675324)}\n",
      "    accuracy: 0.7222 +- 0.0786\n",
      "    balanced_accuracy: 0.7150 +- 0.0787\n",
      "    f1: 0.6659 +- 0.0948\n",
      "    precision: 0.6548 +- 0.1104\n",
      "    recall: 0.6786 +- 0.0772\n",
      "    specificity: 0.7515 +- 0.0818\n",
      "    ROC_AUC: 0.7150 +- 0.0787\n",
      "    MCC: 0.4288 +- 0.1592\n",
      "\n",
      "PART: night\n",
      "  GBM\n"
     ]
    },
    {
     "name": "stderr",
     "output_type": "stream",
     "text": [
      "feature_fraction, val_score: 0.933634:  14%|#4        | 1/7 [00:00<00:00, 17.48it/s]"
     ]
    },
    {
     "name": "stdout",
     "output_type": "stream",
     "text": [
      "Training until validation scores don't improve for 100 rounds\n",
      "[100]\tcv_agg's valid binary_logloss: 0.933634 + 0.358021\n",
      "Early stopping, best iteration is:\n",
      "[1]\tcv_agg's valid binary_logloss: 0.933634 + 0.358021\n",
      "Training until validation scores don't improve for 100 rounds\n"
     ]
    },
    {
     "name": "stderr",
     "output_type": "stream",
     "text": [
      "feature_fraction, val_score: 0.933634:  43%|####2     | 3/7 [00:00<00:00,  6.93it/s]"
     ]
    },
    {
     "name": "stdout",
     "output_type": "stream",
     "text": [
      "[100]\tcv_agg's valid binary_logloss: 0.933634 + 0.358021\n",
      "Early stopping, best iteration is:\n",
      "[1]\tcv_agg's valid binary_logloss: 0.933634 + 0.358021\n",
      "Training until validation scores don't improve for 100 rounds\n",
      "[100]\tcv_agg's valid binary_logloss: 0.933634 + 0.358021\n",
      "Early stopping, best iteration is:\n",
      "[1]\tcv_agg's valid binary_logloss: 0.933634 + 0.358021\n",
      "Training until validation scores don't improve for 100 rounds\n",
      "[100]\tcv_agg's valid binary_logloss: 0.933634 + 0.358021\n",
      "Early stopping, best iteration is:\n",
      "[1]\tcv_agg's valid binary_logloss: 0.933634 + 0.358021\n"
     ]
    },
    {
     "name": "stderr",
     "output_type": "stream",
     "text": [
      "feature_fraction, val_score: 0.933634: 100%|##########| 7/7 [00:00<00:00,  9.78it/s]\n"
     ]
    },
    {
     "name": "stdout",
     "output_type": "stream",
     "text": [
      "Training until validation scores don't improve for 100 rounds\n",
      "[100]\tcv_agg's valid binary_logloss: 0.933634 + 0.358021\n",
      "Early stopping, best iteration is:\n",
      "[1]\tcv_agg's valid binary_logloss: 0.933634 + 0.358021\n",
      "Training until validation scores don't improve for 100 rounds\n",
      "[100]\tcv_agg's valid binary_logloss: 0.933634 + 0.358021\n",
      "Early stopping, best iteration is:\n",
      "[1]\tcv_agg's valid binary_logloss: 0.933634 + 0.358021\n",
      "Training until validation scores don't improve for 100 rounds\n",
      "[100]\tcv_agg's valid binary_logloss: 0.933634 + 0.358021\n",
      "Early stopping, best iteration is:\n",
      "[1]\tcv_agg's valid binary_logloss: 0.933634 + 0.358021\n"
     ]
    },
    {
     "name": "stderr",
     "output_type": "stream",
     "text": [
      "num_leaves, val_score: 0.933634:  10%|#         | 2/20 [00:00<00:01, 11.76it/s]"
     ]
    },
    {
     "name": "stdout",
     "output_type": "stream",
     "text": [
      "Training until validation scores don't improve for 100 rounds\n",
      "[100]\tcv_agg's valid binary_logloss: 0.933634 + 0.358021\n",
      "Early stopping, best iteration is:\n",
      "[1]\tcv_agg's valid binary_logloss: 0.933634 + 0.358021\n",
      "Training until validation scores don't improve for 100 rounds\n",
      "[100]\tcv_agg's valid binary_logloss: 0.933634 + 0.358021\n",
      "Early stopping, best iteration is:\n",
      "[1]\tcv_agg's valid binary_logloss: 0.933634 + 0.358021\n",
      "Training until validation scores don't improve for 100 rounds\n",
      "[100]\tcv_agg's valid binary_logloss: 0.933634 + 0.358021\n",
      "Early stopping, best iteration is:\n",
      "[1]\tcv_agg's valid binary_logloss: 0.933634 + 0.358021\n"
     ]
    },
    {
     "name": "stderr",
     "output_type": "stream",
     "text": [
      "num_leaves, val_score: 0.933634:  25%|##5       | 5/20 [00:00<00:01, 13.72it/s]"
     ]
    },
    {
     "name": "stdout",
     "output_type": "stream",
     "text": [
      "Training until validation scores don't improve for 100 rounds\n",
      "[100]\tcv_agg's valid binary_logloss: 0.933634 + 0.358021\n",
      "Early stopping, best iteration is:\n",
      "[1]\tcv_agg's valid binary_logloss: 0.933634 + 0.358021\n",
      "Training until validation scores don't improve for 100 rounds\n",
      "[100]\tcv_agg's valid binary_logloss: 0.933634 + 0.358021\n",
      "Early stopping, best iteration is:\n",
      "[1]\tcv_agg's valid binary_logloss: 0.933634 + 0.358021\n",
      "Training until validation scores don't improve for 100 rounds\n"
     ]
    },
    {
     "name": "stderr",
     "output_type": "stream",
     "text": [
      "num_leaves, val_score: 0.933634:  40%|####      | 8/20 [00:00<00:00, 12.98it/s]"
     ]
    },
    {
     "name": "stdout",
     "output_type": "stream",
     "text": [
      "[100]\tcv_agg's valid binary_logloss: 0.933634 + 0.358021\n",
      "Early stopping, best iteration is:\n",
      "[1]\tcv_agg's valid binary_logloss: 0.933634 + 0.358021\n",
      "Training until validation scores don't improve for 100 rounds\n",
      "[100]\tcv_agg's valid binary_logloss: 0.933634 + 0.358021\n",
      "Early stopping, best iteration is:\n",
      "[1]\tcv_agg's valid binary_logloss: 0.933634 + 0.358021\n",
      "Training until validation scores don't improve for 100 rounds\n",
      "[100]\tcv_agg's valid binary_logloss: 0.933634 + 0.358021\n",
      "Early stopping, best iteration is:\n",
      "[1]\tcv_agg's valid binary_logloss: 0.933634 + 0.358021\n",
      "Training until validation scores don't improve for 100 rounds\n"
     ]
    },
    {
     "name": "stderr",
     "output_type": "stream",
     "text": [
      "num_leaves, val_score: 0.933634:  50%|#####     | 10/20 [00:00<00:00, 12.35it/s]"
     ]
    },
    {
     "name": "stdout",
     "output_type": "stream",
     "text": [
      "[100]\tcv_agg's valid binary_logloss: 0.933634 + 0.358021\n",
      "Early stopping, best iteration is:\n",
      "[1]\tcv_agg's valid binary_logloss: 0.933634 + 0.358021\n",
      "Training until validation scores don't improve for 100 rounds\n",
      "[100]\tcv_agg's valid binary_logloss: 0.933634 + 0.358021\n",
      "Early stopping, best iteration is:\n",
      "[1]\tcv_agg's valid binary_logloss: 0.933634 + 0.358021\n",
      "Training until validation scores don't improve for 100 rounds\n",
      "[100]\tcv_agg's valid binary_logloss: 0.933634 + 0.358021\n",
      "Early stopping, best iteration is:\n",
      "[1]\tcv_agg's valid binary_logloss: 0.933634 + 0.358021\n"
     ]
    },
    {
     "name": "stderr",
     "output_type": "stream",
     "text": [
      "num_leaves, val_score: 0.933634:  65%|######5   | 13/20 [00:01<00:00, 12.46it/s]"
     ]
    },
    {
     "name": "stdout",
     "output_type": "stream",
     "text": [
      "Training until validation scores don't improve for 100 rounds\n",
      "[100]\tcv_agg's valid binary_logloss: 0.933634 + 0.358021\n",
      "Early stopping, best iteration is:\n",
      "[1]\tcv_agg's valid binary_logloss: 0.933634 + 0.358021\n",
      "Training until validation scores don't improve for 100 rounds\n",
      "[100]\tcv_agg's valid binary_logloss: 0.933634 + 0.358021\n",
      "Early stopping, best iteration is:\n",
      "[1]\tcv_agg's valid binary_logloss: 0.933634 + 0.358021\n",
      "Training until validation scores don't improve for 100 rounds\n"
     ]
    },
    {
     "name": "stderr",
     "output_type": "stream",
     "text": [
      "num_leaves, val_score: 0.933634:  80%|########  | 16/20 [00:01<00:00, 12.19it/s]"
     ]
    },
    {
     "name": "stdout",
     "output_type": "stream",
     "text": [
      "[100]\tcv_agg's valid binary_logloss: 0.933634 + 0.358021\n",
      "Early stopping, best iteration is:\n",
      "[1]\tcv_agg's valid binary_logloss: 0.933634 + 0.358021\n",
      "Training until validation scores don't improve for 100 rounds\n",
      "[100]\tcv_agg's valid binary_logloss: 0.933634 + 0.358021\n",
      "Early stopping, best iteration is:\n",
      "[1]\tcv_agg's valid binary_logloss: 0.933634 + 0.358021\n",
      "Training until validation scores don't improve for 100 rounds\n",
      "[100]\tcv_agg's valid binary_logloss: 0.933634 + 0.358021\n",
      "Early stopping, best iteration is:\n",
      "[1]\tcv_agg's valid binary_logloss: 0.933634 + 0.358021\n",
      "Training until validation scores don't improve for 100 rounds\n"
     ]
    },
    {
     "name": "stderr",
     "output_type": "stream",
     "text": [
      "num_leaves, val_score: 0.933634:  95%|#########5| 19/20 [00:01<00:00, 12.70it/s]"
     ]
    },
    {
     "name": "stdout",
     "output_type": "stream",
     "text": [
      "[100]\tcv_agg's valid binary_logloss: 0.933634 + 0.358021\n",
      "Early stopping, best iteration is:\n",
      "[1]\tcv_agg's valid binary_logloss: 0.933634 + 0.358021\n",
      "Training until validation scores don't improve for 100 rounds\n",
      "[100]\tcv_agg's valid binary_logloss: 0.933634 + 0.358021\n",
      "Early stopping, best iteration is:\n",
      "[1]\tcv_agg's valid binary_logloss: 0.933634 + 0.358021\n",
      "Training until validation scores don't improve for 100 rounds\n",
      "[100]\tcv_agg's valid binary_logloss: 0.933634 + 0.358021\n",
      "Early stopping, best iteration is:\n",
      "[1]\tcv_agg's valid binary_logloss: 0.933634 + 0.358021\n",
      "Training until validation scores don't improve for 100 rounds\n"
     ]
    },
    {
     "name": "stderr",
     "output_type": "stream",
     "text": [
      "num_leaves, val_score: 0.933634: 100%|##########| 20/20 [00:01<00:00, 12.57it/s]\n"
     ]
    },
    {
     "name": "stdout",
     "output_type": "stream",
     "text": [
      "[100]\tcv_agg's valid binary_logloss: 0.933634 + 0.358021\n",
      "Early stopping, best iteration is:\n",
      "[1]\tcv_agg's valid binary_logloss: 0.933634 + 0.358021\n"
     ]
    },
    {
     "name": "stderr",
     "output_type": "stream",
     "text": [
      "bagging, val_score: 0.933634:  20%|##        | 2/10 [00:00<00:00, 11.56it/s]"
     ]
    },
    {
     "name": "stdout",
     "output_type": "stream",
     "text": [
      "Training until validation scores don't improve for 100 rounds\n",
      "[100]\tcv_agg's valid binary_logloss: 0.933634 + 0.358021\n",
      "Early stopping, best iteration is:\n",
      "[1]\tcv_agg's valid binary_logloss: 0.933634 + 0.358021\n",
      "Training until validation scores don't improve for 100 rounds\n",
      "[100]\tcv_agg's valid binary_logloss: 0.933634 + 0.358021\n",
      "Early stopping, best iteration is:\n",
      "[1]\tcv_agg's valid binary_logloss: 0.933634 + 0.358021\n",
      "Training until validation scores don't improve for 100 rounds\n"
     ]
    },
    {
     "name": "stderr",
     "output_type": "stream",
     "text": [
      "bagging, val_score: 0.933634:  40%|####      | 4/10 [00:00<00:00, 11.35it/s]"
     ]
    },
    {
     "name": "stdout",
     "output_type": "stream",
     "text": [
      "[100]\tcv_agg's valid binary_logloss: 0.933634 + 0.358021\n",
      "Early stopping, best iteration is:\n",
      "[1]\tcv_agg's valid binary_logloss: 0.933634 + 0.358021\n",
      "Training until validation scores don't improve for 100 rounds\n",
      "[100]\tcv_agg's valid binary_logloss: 0.933634 + 0.358021\n",
      "Early stopping, best iteration is:\n",
      "[1]\tcv_agg's valid binary_logloss: 0.933634 + 0.358021\n",
      "Training until validation scores don't improve for 100 rounds\n"
     ]
    },
    {
     "name": "stderr",
     "output_type": "stream",
     "text": [
      "bagging, val_score: 0.933634:  50%|#####     | 5/10 [00:00<00:00, 11.35it/s]"
     ]
    },
    {
     "name": "stdout",
     "output_type": "stream",
     "text": [
      "[100]\tcv_agg's valid binary_logloss: 0.933634 + 0.358021\n",
      "Early stopping, best iteration is:\n",
      "[1]\tcv_agg's valid binary_logloss: 0.933634 + 0.358021\n",
      "Training until validation scores don't improve for 100 rounds\n"
     ]
    },
    {
     "name": "stderr",
     "output_type": "stream",
     "text": [
      "bagging, val_score: 0.933634:  70%|#######   | 7/10 [00:00<00:00, 12.07it/s]"
     ]
    },
    {
     "name": "stdout",
     "output_type": "stream",
     "text": [
      "[100]\tcv_agg's valid binary_logloss: 0.933634 + 0.358021\n",
      "Early stopping, best iteration is:\n",
      "[1]\tcv_agg's valid binary_logloss: 0.933634 + 0.358021\n",
      "Training until validation scores don't improve for 100 rounds\n",
      "[100]\tcv_agg's valid binary_logloss: 0.933634 + 0.358021\n",
      "Early stopping, best iteration is:\n",
      "[1]\tcv_agg's valid binary_logloss: 0.933634 + 0.358021\n",
      "Training until validation scores don't improve for 100 rounds\n",
      "[100]\tcv_agg's valid binary_logloss: 0.933634 + 0.358021"
     ]
    },
    {
     "name": "stderr",
     "output_type": "stream",
     "text": [
      "bagging, val_score: 0.933634:  90%|######### | 9/10 [00:00<00:00, 11.30it/s]"
     ]
    },
    {
     "name": "stdout",
     "output_type": "stream",
     "text": [
      "\n",
      "Early stopping, best iteration is:\n",
      "[1]\tcv_agg's valid binary_logloss: 0.933634 + 0.358021\n",
      "Training until validation scores don't improve for 100 rounds\n",
      "[100]\tcv_agg's valid binary_logloss: 0.933634 + 0.358021\n",
      "Early stopping, best iteration is:\n",
      "[1]\tcv_agg's valid binary_logloss: 0.933634 + 0.358021\n",
      "Training until validation scores don't improve for 100 rounds\n",
      "[100]\tcv_agg's valid binary_logloss: 0.933634 + 0.358021\n",
      "Early stopping, best iteration is:\n",
      "[1]\tcv_agg's valid binary_logloss: 0.933634 + 0.358021\n"
     ]
    },
    {
     "name": "stderr",
     "output_type": "stream",
     "text": [
      "bagging, val_score: 0.933634: 100%|##########| 10/10 [00:00<00:00, 11.23it/s]\n",
      "feature_fraction_stage2, val_score: 0.933634: 100%|##########| 3/3 [00:00<00:00, 16.50it/s]\n"
     ]
    },
    {
     "name": "stdout",
     "output_type": "stream",
     "text": [
      "Training until validation scores don't improve for 100 rounds\n",
      "[100]\tcv_agg's valid binary_logloss: 0.933634 + 0.358021\n",
      "Early stopping, best iteration is:\n",
      "[1]\tcv_agg's valid binary_logloss: 0.933634 + 0.358021\n",
      "Training until validation scores don't improve for 100 rounds\n",
      "[100]\tcv_agg's valid binary_logloss: 0.933634 + 0.358021\n",
      "Early stopping, best iteration is:\n",
      "[1]\tcv_agg's valid binary_logloss: 0.933634 + 0.358021\n",
      "Training until validation scores don't improve for 100 rounds\n",
      "[100]\tcv_agg's valid binary_logloss: 0.933634 + 0.358021\n",
      "Early stopping, best iteration is:\n",
      "[1]\tcv_agg's valid binary_logloss: 0.933634 + 0.358021\n"
     ]
    },
    {
     "name": "stderr",
     "output_type": "stream",
     "text": [
      "regularization_factors, val_score: 0.933634:  10%|#         | 2/20 [00:00<00:01, 13.54it/s]"
     ]
    },
    {
     "name": "stdout",
     "output_type": "stream",
     "text": [
      "Training until validation scores don't improve for 100 rounds\n",
      "[100]\tcv_agg's valid binary_logloss: 0.933634 + 0.358021\n",
      "Early stopping, best iteration is:\n",
      "[1]\tcv_agg's valid binary_logloss: 0.933634 + 0.358021\n",
      "Training until validation scores don't improve for 100 rounds\n",
      "[100]\tcv_agg's valid binary_logloss: 0.933634 + 0.358021\n",
      "Early stopping, best iteration is:\n",
      "[1]\tcv_agg's valid binary_logloss: 0.933634 + 0.358021\n",
      "Training until validation scores don't improve for 100 rounds\n",
      "[100]\tcv_agg's valid binary_logloss: 0.933634 + 0.358021\n",
      "Early stopping, best iteration is:\n",
      "[1]\tcv_agg's valid binary_logloss: 0.933634 + 0.358021\n"
     ]
    },
    {
     "name": "stderr",
     "output_type": "stream",
     "text": [
      "regularization_factors, val_score: 0.933634:  25%|##5       | 5/20 [00:00<00:01, 13.87it/s]"
     ]
    },
    {
     "name": "stdout",
     "output_type": "stream",
     "text": [
      "Training until validation scores don't improve for 100 rounds\n",
      "[100]\tcv_agg's valid binary_logloss: 0.933634 + 0.358021\n",
      "Early stopping, best iteration is:\n",
      "[1]\tcv_agg's valid binary_logloss: 0.933634 + 0.358021\n",
      "Training until validation scores don't improve for 100 rounds\n",
      "[100]\tcv_agg's valid binary_logloss: 0.933634 + 0.358021\n",
      "Early stopping, best iteration is:\n",
      "[1]\tcv_agg's valid binary_logloss: 0.933634 + 0.358021\n",
      "Training until validation scores don't improve for 100 rounds\n",
      "[100]\tcv_agg's valid binary_logloss: 0.933634 + 0.358021\n",
      "Early stopping, best iteration is:\n",
      "[1]\tcv_agg's valid binary_logloss: 0.933634 + 0.358021\n"
     ]
    },
    {
     "name": "stderr",
     "output_type": "stream",
     "text": [
      "regularization_factors, val_score: 0.933634:  40%|####      | 8/20 [00:00<00:00, 13.37it/s]"
     ]
    },
    {
     "name": "stdout",
     "output_type": "stream",
     "text": [
      "Training until validation scores don't improve for 100 rounds\n",
      "[100]\tcv_agg's valid binary_logloss: 0.933634 + 0.358021\n",
      "Early stopping, best iteration is:\n",
      "[1]\tcv_agg's valid binary_logloss: 0.933634 + 0.358021\n",
      "Training until validation scores don't improve for 100 rounds\n",
      "[100]\tcv_agg's valid binary_logloss: 0.933634 + 0.358021\n",
      "Early stopping, best iteration is:\n",
      "[1]\tcv_agg's valid binary_logloss: 0.933634 + 0.358021\n",
      "Training until validation scores don't improve for 100 rounds\n"
     ]
    },
    {
     "name": "stderr",
     "output_type": "stream",
     "text": [
      "regularization_factors, val_score: 0.933634:  55%|#####5    | 11/20 [00:00<00:00, 12.84it/s]"
     ]
    },
    {
     "name": "stdout",
     "output_type": "stream",
     "text": [
      "[100]\tcv_agg's valid binary_logloss: 0.933634 + 0.358021\n",
      "Early stopping, best iteration is:\n",
      "[1]\tcv_agg's valid binary_logloss: 0.933634 + 0.358021\n",
      "Training until validation scores don't improve for 100 rounds\n",
      "[100]\tcv_agg's valid binary_logloss: 0.933634 + 0.358021\n",
      "Early stopping, best iteration is:\n",
      "[1]\tcv_agg's valid binary_logloss: 0.933634 + 0.358021\n",
      "Training until validation scores don't improve for 100 rounds\n",
      "[100]\tcv_agg's valid binary_logloss: 0.933634 + 0.358021\n",
      "Early stopping, best iteration is:\n",
      "[1]\tcv_agg's valid binary_logloss: 0.933634 + 0.358021\n",
      "Training until validation scores don't improve for 100 rounds\n"
     ]
    },
    {
     "name": "stderr",
     "output_type": "stream",
     "text": [
      "regularization_factors, val_score: 0.933634:  70%|#######   | 14/20 [00:01<00:00, 13.33it/s]"
     ]
    },
    {
     "name": "stdout",
     "output_type": "stream",
     "text": [
      "[100]\tcv_agg's valid binary_logloss: 0.933634 + 0.358021\n",
      "Early stopping, best iteration is:\n",
      "[1]\tcv_agg's valid binary_logloss: 0.933634 + 0.358021\n",
      "Training until validation scores don't improve for 100 rounds\n",
      "[100]\tcv_agg's valid binary_logloss: 0.933634 + 0.358021\n",
      "Early stopping, best iteration is:\n",
      "[1]\tcv_agg's valid binary_logloss: 0.933634 + 0.358021\n",
      "Training until validation scores don't improve for 100 rounds\n",
      "[100]\tcv_agg's valid binary_logloss: 0.933634 + 0.358021\n",
      "Early stopping, best iteration is:\n",
      "[1]\tcv_agg's valid binary_logloss: 0.933634 + 0.358021\n",
      "Training until validation scores don't improve for 100 rounds\n"
     ]
    },
    {
     "name": "stderr",
     "output_type": "stream",
     "text": [
      "regularization_factors, val_score: 0.933634:  85%|########5 | 17/20 [00:01<00:00, 13.48it/s]"
     ]
    },
    {
     "name": "stdout",
     "output_type": "stream",
     "text": [
      "[100]\tcv_agg's valid binary_logloss: 0.933634 + 0.358021\n",
      "Early stopping, best iteration is:\n",
      "[1]\tcv_agg's valid binary_logloss: 0.933634 + 0.358021\n",
      "Training until validation scores don't improve for 100 rounds\n",
      "[100]\tcv_agg's valid binary_logloss: 0.933634 + 0.358021\n",
      "Early stopping, best iteration is:\n",
      "[1]\tcv_agg's valid binary_logloss: 0.933634 + 0.358021\n",
      "Training until validation scores don't improve for 100 rounds\n",
      "[100]\tcv_agg's valid binary_logloss: 0.933634 + 0.358021\n",
      "Early stopping, best iteration is:\n",
      "[1]\tcv_agg's valid binary_logloss: 0.933634 + 0.358021\n",
      "Training until validation scores don't improve for 100 rounds\n"
     ]
    },
    {
     "name": "stderr",
     "output_type": "stream",
     "text": [
      "regularization_factors, val_score: 0.933634: 100%|##########| 20/20 [00:01<00:00, 13.40it/s]\n"
     ]
    },
    {
     "name": "stdout",
     "output_type": "stream",
     "text": [
      "[100]\tcv_agg's valid binary_logloss: 0.933634 + 0.358021\n",
      "Early stopping, best iteration is:\n",
      "[1]\tcv_agg's valid binary_logloss: 0.933634 + 0.358021\n",
      "Training until validation scores don't improve for 100 rounds\n",
      "[100]\tcv_agg's valid binary_logloss: 0.933634 + 0.358021\n",
      "Early stopping, best iteration is:\n",
      "[1]\tcv_agg's valid binary_logloss: 0.933634 + 0.358021\n",
      "Training until validation scores don't improve for 100 rounds\n",
      "[100]\tcv_agg's valid binary_logloss: 0.933634 + 0.358021\n",
      "Early stopping, best iteration is:\n",
      "[1]\tcv_agg's valid binary_logloss: 0.933634 + 0.358021\n"
     ]
    },
    {
     "name": "stderr",
     "output_type": "stream",
     "text": [
      "min_child_samples, val_score: 0.933634:   0%|          | 0/5 [00:00<?, ?it/s]"
     ]
    },
    {
     "name": "stdout",
     "output_type": "stream",
     "text": [
      "Training until validation scores don't improve for 100 rounds"
     ]
    },
    {
     "name": "stderr",
     "output_type": "stream",
     "text": [
      "min_child_samples, val_score: 0.933634:  40%|####      | 2/5 [00:00<00:00, 16.47it/s]"
     ]
    },
    {
     "name": "stdout",
     "output_type": "stream",
     "text": [
      "\n",
      "[100]\tcv_agg's valid binary_logloss: 0.933634 + 0.358021\n",
      "Early stopping, best iteration is:\n",
      "[1]\tcv_agg's valid binary_logloss: 0.933634 + 0.358021\n",
      "Training until validation scores don't improve for 100 rounds\n",
      "[100]\tcv_agg's valid binary_logloss: 0.933634 + 0.358021\n",
      "Early stopping, best iteration is:\n",
      "[1]\tcv_agg's valid binary_logloss: 0.933634 + 0.358021\n",
      "Training until validation scores don't improve for 100 rounds\n"
     ]
    },
    {
     "name": "stderr",
     "output_type": "stream",
     "text": [
      "min_child_samples, val_score: 0.376030:  60%|######    | 3/5 [00:00<00:00, 16.47it/s]"
     ]
    },
    {
     "name": "stdout",
     "output_type": "stream",
     "text": [
      "[100]\tcv_agg's valid binary_logloss: 0.979134 + 0.706082\n",
      "Early stopping, best iteration is:\n",
      "[28]\tcv_agg's valid binary_logloss: 0.37603 + 0.200517\n",
      "Training until validation scores don't improve for 100 rounds\n",
      "[100]\tcv_agg's valid binary_logloss: 0.319091 + 0.230153\n",
      "[200]\tcv_agg's valid binary_logloss: 0.300447 + 0.304524\n",
      "Early stopping, best iteration is:\n",
      "[125]\tcv_agg's valid binary_logloss: 0.291612 + 0.224103\n"
     ]
    },
    {
     "name": "stderr",
     "output_type": "stream",
     "text": [
      "min_child_samples, val_score: 0.291612: 100%|##########| 5/5 [00:00<00:00,  9.78it/s]\n"
     ]
    },
    {
     "name": "stdout",
     "output_type": "stream",
     "text": [
      "Training until validation scores don't improve for 100 rounds\n",
      "[100]\tcv_agg's valid binary_logloss: 0.933634 + 0.358021\n",
      "Early stopping, best iteration is:\n",
      "[1]\tcv_agg's valid binary_logloss: 0.933634 + 0.358021\n",
      "{'accuracy': 1.0, 'balanced_accuracy': np.float64(1.0), 'f1': np.float64(1.0), 'precision': np.float64(1.0), 'recall': np.float64(1.0), 'specificity': np.float64(1.0), 'ROC_AUC': np.float64(1.0), 'MCC': np.float64(1.0)}\n"
     ]
    },
    {
     "name": "stderr",
     "output_type": "stream",
     "text": [
      "feature_fraction, val_score: 0.971773:  29%|##8       | 2/7 [00:00<00:00, 15.87it/s]"
     ]
    },
    {
     "name": "stdout",
     "output_type": "stream",
     "text": [
      "Training until validation scores don't improve for 100 rounds\n",
      "[100]\tcv_agg's valid binary_logloss: 0.971773 + 0.299887\n",
      "Early stopping, best iteration is:\n",
      "[1]\tcv_agg's valid binary_logloss: 0.971773 + 0.299887\n",
      "Training until validation scores don't improve for 100 rounds\n",
      "[100]\tcv_agg's valid binary_logloss: 0.971773 + 0.299887\n",
      "Early stopping, best iteration is:\n",
      "[1]\tcv_agg's valid binary_logloss: 0.971773 + 0.299887\n",
      "Training until validation scores don't improve for 100 rounds\n",
      "[100]\tcv_agg's valid binary_logloss: 0.971773 + 0.299887\n",
      "Early stopping, best iteration is:\n",
      "[1]\tcv_agg's valid binary_logloss: 0.971773 + 0.299887\n"
     ]
    },
    {
     "name": "stderr",
     "output_type": "stream",
     "text": [
      "feature_fraction, val_score: 0.971773:  43%|####2     | 3/7 [00:00<00:00, 15.87it/s]"
     ]
    },
    {
     "name": "stdout",
     "output_type": "stream",
     "text": [
      "Training until validation scores don't improve for 100 rounds"
     ]
    },
    {
     "name": "stderr",
     "output_type": "stream",
     "text": [
      "feature_fraction, val_score: 0.971773:  71%|#######1  | 5/7 [00:00<00:00, 16.30it/s]"
     ]
    },
    {
     "name": "stdout",
     "output_type": "stream",
     "text": [
      "\n",
      "[100]\tcv_agg's valid binary_logloss: 0.971773 + 0.299887\n",
      "Early stopping, best iteration is:\n",
      "[1]\tcv_agg's valid binary_logloss: 0.971773 + 0.299887\n",
      "Training until validation scores don't improve for 100 rounds\n",
      "[100]\tcv_agg's valid binary_logloss: 0.971773 + 0.299887\n",
      "Early stopping, best iteration is:\n",
      "[1]\tcv_agg's valid binary_logloss: 0.971773 + 0.299887\n",
      "Training until validation scores don't improve for 100 rounds\n"
     ]
    },
    {
     "name": "stderr",
     "output_type": "stream",
     "text": [
      "feature_fraction, val_score: 0.971773: 100%|##########| 7/7 [00:00<00:00, 15.43it/s]\n"
     ]
    },
    {
     "name": "stdout",
     "output_type": "stream",
     "text": [
      "[100]\tcv_agg's valid binary_logloss: 0.971773 + 0.299887\n",
      "Early stopping, best iteration is:\n",
      "[1]\tcv_agg's valid binary_logloss: 0.971773 + 0.299887\n",
      "Training until validation scores don't improve for 100 rounds\n",
      "[100]\tcv_agg's valid binary_logloss: 0.971773 + 0.299887\n",
      "Early stopping, best iteration is:\n",
      "[1]\tcv_agg's valid binary_logloss: 0.971773 + 0.299887\n"
     ]
    },
    {
     "name": "stderr",
     "output_type": "stream",
     "text": [
      "num_leaves, val_score: 0.971773:   5%|5         | 1/20 [00:00<00:01, 13.11it/s]"
     ]
    },
    {
     "name": "stdout",
     "output_type": "stream",
     "text": [
      "Training until validation scores don't improve for 100 rounds\n",
      "[100]\tcv_agg's valid binary_logloss: 0.971773 + 0.299887\n",
      "Early stopping, best iteration is:\n",
      "[1]\tcv_agg's valid binary_logloss: 0.971773 + 0.299887\n",
      "Training until validation scores don't improve for 100 rounds\n"
     ]
    },
    {
     "name": "stderr",
     "output_type": "stream",
     "text": [
      "num_leaves, val_score: 0.971773:  10%|#         | 2/20 [00:00<00:01, 12.49it/s]"
     ]
    },
    {
     "name": "stdout",
     "output_type": "stream",
     "text": [
      "[100]\tcv_agg's valid binary_logloss: 0.971773 + 0.299887\n",
      "Early stopping, best iteration is:\n",
      "[1]\tcv_agg's valid binary_logloss: 0.971773 + 0.299887\n",
      "Training until validation scores don't improve for 100 rounds\n",
      "[100]\tcv_agg's valid binary_logloss: 0.971773 + 0.299887\n",
      "Early stopping, best iteration is:\n",
      "[1]\tcv_agg's valid binary_logloss: 0.971773 + 0.299887\n"
     ]
    },
    {
     "name": "stderr",
     "output_type": "stream",
     "text": [
      "num_leaves, val_score: 0.971773:  20%|##        | 4/20 [00:00<00:01, 14.06it/s]"
     ]
    },
    {
     "name": "stdout",
     "output_type": "stream",
     "text": [
      "Training until validation scores don't improve for 100 rounds\n",
      "[100]\tcv_agg's valid binary_logloss: 0.971773 + 0.299887\n",
      "Early stopping, best iteration is:\n",
      "[1]\tcv_agg's valid binary_logloss: 0.971773 + 0.299887\n",
      "Training until validation scores don't improve for 100 rounds\n"
     ]
    },
    {
     "name": "stderr",
     "output_type": "stream",
     "text": [
      "num_leaves, val_score: 0.971773:  25%|##5       | 5/20 [00:00<00:01, 14.06it/s]"
     ]
    },
    {
     "name": "stdout",
     "output_type": "stream",
     "text": [
      "[100]\tcv_agg's valid binary_logloss: 0.971773 + 0.299887\n",
      "Early stopping, best iteration is:\n",
      "[1]\tcv_agg's valid binary_logloss: 0.971773 + 0.299887\n",
      "Training until validation scores don't improve for 100 rounds\n",
      "[100]\tcv_agg's valid binary_logloss: 0.971773 + 0.299887\n",
      "Early stopping, best iteration is:\n",
      "[1]\tcv_agg's valid binary_logloss: 0.971773 + 0.299887\n"
     ]
    },
    {
     "name": "stderr",
     "output_type": "stream",
     "text": [
      "num_leaves, val_score: 0.971773:  35%|###5      | 7/20 [00:00<00:00, 14.07it/s]"
     ]
    },
    {
     "name": "stdout",
     "output_type": "stream",
     "text": [
      "Training until validation scores don't improve for 100 rounds\n",
      "[100]\tcv_agg's valid binary_logloss: 0.971773 + 0.299887\n",
      "Early stopping, best iteration is:\n",
      "[1]\tcv_agg's valid binary_logloss: 0.971773 + 0.299887\n",
      "Training until validation scores don't improve for 100 rounds\n",
      "[100]\tcv_agg's valid binary_logloss: 0.971773 + 0.299887\n",
      "Early stopping, best iteration is:\n",
      "[1]\tcv_agg's valid binary_logloss: 0.971773 + 0.299887\n"
     ]
    },
    {
     "name": "stderr",
     "output_type": "stream",
     "text": [
      "num_leaves, val_score: 0.971773:  40%|####      | 8/20 [00:00<00:00, 14.24it/s]"
     ]
    },
    {
     "name": "stdout",
     "output_type": "stream",
     "text": [
      "Training until validation scores don't improve for 100 rounds\n",
      "[100]\tcv_agg's valid binary_logloss: 0.971773 + 0.299887\n",
      "Early stopping, best iteration is:\n",
      "[1]\tcv_agg's valid binary_logloss: 0.971773 + 0.299887\n"
     ]
    },
    {
     "name": "stderr",
     "output_type": "stream",
     "text": [
      "num_leaves, val_score: 0.971773:  50%|#####     | 10/20 [00:00<00:00, 14.42it/s]"
     ]
    },
    {
     "name": "stdout",
     "output_type": "stream",
     "text": [
      "Training until validation scores don't improve for 100 rounds\n",
      "[100]\tcv_agg's valid binary_logloss: 0.971773 + 0.299887\n",
      "Early stopping, best iteration is:\n",
      "[1]\tcv_agg's valid binary_logloss: 0.971773 + 0.299887\n",
      "Training until validation scores don't improve for 100 rounds\n"
     ]
    },
    {
     "name": "stderr",
     "output_type": "stream",
     "text": [
      "num_leaves, val_score: 0.971773:  55%|#####5    | 11/20 [00:00<00:00, 14.42it/s]"
     ]
    },
    {
     "name": "stdout",
     "output_type": "stream",
     "text": [
      "[100]\tcv_agg's valid binary_logloss: 0.971773 + 0.299887\n",
      "Early stopping, best iteration is:\n",
      "[1]\tcv_agg's valid binary_logloss: 0.971773 + 0.299887\n",
      "Training until validation scores don't improve for 100 rounds\n",
      "[100]\tcv_agg's valid binary_logloss: 0.971773 + 0.299887\n",
      "Early stopping, best iteration is:\n",
      "[1]\tcv_agg's valid binary_logloss: 0.971773 + 0.299887\n"
     ]
    },
    {
     "name": "stderr",
     "output_type": "stream",
     "text": [
      "num_leaves, val_score: 0.971773:  65%|######5   | 13/20 [00:00<00:00, 14.15it/s]"
     ]
    },
    {
     "name": "stdout",
     "output_type": "stream",
     "text": [
      "Training until validation scores don't improve for 100 rounds\n",
      "[100]\tcv_agg's valid binary_logloss: 0.971773 + 0.299887\n",
      "Early stopping, best iteration is:\n",
      "[1]\tcv_agg's valid binary_logloss: 0.971773 + 0.299887\n",
      "Training until validation scores don't improve for 100 rounds\n"
     ]
    },
    {
     "name": "stderr",
     "output_type": "stream",
     "text": [
      "num_leaves, val_score: 0.971773:  70%|#######   | 14/20 [00:01<00:00, 13.66it/s]"
     ]
    },
    {
     "name": "stdout",
     "output_type": "stream",
     "text": [
      "[100]\tcv_agg's valid binary_logloss: 0.971773 + 0.299887\n",
      "Early stopping, best iteration is:\n",
      "[1]\tcv_agg's valid binary_logloss: 0.971773 + 0.299887\n",
      "Training until validation scores don't improve for 100 rounds\n"
     ]
    },
    {
     "name": "stderr",
     "output_type": "stream",
     "text": [
      "num_leaves, val_score: 0.971773:  80%|########  | 16/20 [00:01<00:00, 13.74it/s]"
     ]
    },
    {
     "name": "stdout",
     "output_type": "stream",
     "text": [
      "[100]\tcv_agg's valid binary_logloss: 0.971773 + 0.299887\n",
      "Early stopping, best iteration is:\n",
      "[1]\tcv_agg's valid binary_logloss: 0.971773 + 0.299887\n",
      "Training until validation scores don't improve for 100 rounds\n",
      "[100]\tcv_agg's valid binary_logloss: 0.971773 + 0.299887\n",
      "Early stopping, best iteration is:\n",
      "[1]\tcv_agg's valid binary_logloss: 0.971773 + 0.299887\n",
      "Training until validation scores don't improve for 100 rounds\n"
     ]
    },
    {
     "name": "stderr",
     "output_type": "stream",
     "text": [
      "num_leaves, val_score: 0.971773:  85%|########5 | 17/20 [00:01<00:00, 13.74it/s]"
     ]
    },
    {
     "name": "stdout",
     "output_type": "stream",
     "text": [
      "[100]\tcv_agg's valid binary_logloss: 0.971773 + 0.299887\n",
      "Early stopping, best iteration is:\n",
      "[1]\tcv_agg's valid binary_logloss: 0.971773 + 0.299887\n",
      "Training until validation scores don't improve for 100 rounds\n"
     ]
    },
    {
     "name": "stderr",
     "output_type": "stream",
     "text": [
      "num_leaves, val_score: 0.971773:  95%|#########5| 19/20 [00:01<00:00, 13.29it/s]"
     ]
    },
    {
     "name": "stdout",
     "output_type": "stream",
     "text": [
      "[100]\tcv_agg's valid binary_logloss: 0.971773 + 0.299887\n",
      "Early stopping, best iteration is:\n",
      "[1]\tcv_agg's valid binary_logloss: 0.971773 + 0.299887\n",
      "Training until validation scores don't improve for 100 rounds\n",
      "[100]\tcv_agg's valid binary_logloss: 0.971773 + 0.299887\n",
      "Early stopping, best iteration is:\n",
      "[1]\tcv_agg's valid binary_logloss: 0.971773 + 0.299887\n",
      "Training until validation scores don't improve for 100 rounds\n"
     ]
    },
    {
     "name": "stderr",
     "output_type": "stream",
     "text": [
      "num_leaves, val_score: 0.971773: 100%|##########| 20/20 [00:01<00:00, 13.73it/s]\n"
     ]
    },
    {
     "name": "stdout",
     "output_type": "stream",
     "text": [
      "[100]\tcv_agg's valid binary_logloss: 0.971773 + 0.299887\n",
      "Early stopping, best iteration is:\n",
      "[1]\tcv_agg's valid binary_logloss: 0.971773 + 0.299887\n"
     ]
    },
    {
     "name": "stderr",
     "output_type": "stream",
     "text": [
      "bagging, val_score: 0.971773:   0%|          | 0/10 [00:00<?, ?it/s]"
     ]
    },
    {
     "name": "stdout",
     "output_type": "stream",
     "text": [
      "Training until validation scores don't improve for 100 rounds"
     ]
    },
    {
     "name": "stderr",
     "output_type": "stream",
     "text": [
      "bagging, val_score: 0.971773:  10%|#         | 1/10 [00:00<00:01,  5.82it/s]"
     ]
    },
    {
     "name": "stdout",
     "output_type": "stream",
     "text": [
      "\n",
      "[100]\tcv_agg's valid binary_logloss: 0.971773 + 0.299887\n",
      "Early stopping, best iteration is:\n",
      "[1]\tcv_agg's valid binary_logloss: 0.971773 + 0.299887\n",
      "Training until validation scores don't improve for 100 rounds\n",
      "[100]\tcv_agg's valid binary_logloss: 0.971773 + 0.299887\n",
      "Early stopping, best iteration is:\n",
      "[1]\tcv_agg's valid binary_logloss: 0.971773 + 0.299887\n"
     ]
    },
    {
     "name": "stderr",
     "output_type": "stream",
     "text": [
      "bagging, val_score: 0.971773:  20%|##        | 2/10 [00:00<00:00, 11.53it/s]"
     ]
    },
    {
     "name": "stdout",
     "output_type": "stream",
     "text": [
      "Training until validation scores don't improve for 100 rounds\n"
     ]
    },
    {
     "name": "stderr",
     "output_type": "stream",
     "text": [
      "bagging, val_score: 0.971773:  40%|####      | 4/10 [00:00<00:00, 11.67it/s]"
     ]
    },
    {
     "name": "stdout",
     "output_type": "stream",
     "text": [
      "[100]\tcv_agg's valid binary_logloss: 0.971773 + 0.299887\n",
      "Early stopping, best iteration is:\n",
      "[1]\tcv_agg's valid binary_logloss: 0.971773 + 0.299887\n",
      "Training until validation scores don't improve for 100 rounds\n",
      "[100]\tcv_agg's valid binary_logloss: 0.971773 + 0.299887\n",
      "Early stopping, best iteration is:\n",
      "[1]\tcv_agg's valid binary_logloss: 0.971773 + 0.299887\n",
      "Training until validation scores don't improve for 100 rounds\n"
     ]
    },
    {
     "name": "stderr",
     "output_type": "stream",
     "text": [
      "bagging, val_score: 0.971773:  50%|#####     | 5/10 [00:00<00:00, 11.67it/s]"
     ]
    },
    {
     "name": "stdout",
     "output_type": "stream",
     "text": [
      "[100]\tcv_agg's valid binary_logloss: 0.971773 + 0.299887\n",
      "Early stopping, best iteration is:\n",
      "[1]\tcv_agg's valid binary_logloss: 0.971773 + 0.299887\n",
      "Training until validation scores don't improve for 100 rounds\n"
     ]
    },
    {
     "name": "stderr",
     "output_type": "stream",
     "text": [
      "bagging, val_score: 0.971773:  60%|######    | 6/10 [00:00<00:00, 11.42it/s]"
     ]
    },
    {
     "name": "stdout",
     "output_type": "stream",
     "text": [
      "[100]\tcv_agg's valid binary_logloss: 0.971773 + 0.299887\n",
      "Early stopping, best iteration is:\n",
      "[1]\tcv_agg's valid binary_logloss: 0.971773 + 0.299887\n",
      "Training until validation scores don't improve for 100 rounds\n",
      "[100]\tcv_agg's valid binary_logloss: 0.971773 + 0.299887\n",
      "Early stopping, best iteration is:\n",
      "[1]\tcv_agg's valid binary_logloss: 0.971773 + 0.299887\n"
     ]
    },
    {
     "name": "stderr",
     "output_type": "stream",
     "text": [
      "bagging, val_score: 0.971773:  70%|#######   | 7/10 [00:00<00:00, 11.42it/s]"
     ]
    },
    {
     "name": "stdout",
     "output_type": "stream",
     "text": [
      "Training until validation scores don't improve for 100 rounds\n",
      "[100]\tcv_agg's valid binary_logloss: 0.971773 + 0.299887\n",
      "Early stopping, best iteration is:\n",
      "[1]\tcv_agg's valid binary_logloss: 0.971773 + 0.299887\n"
     ]
    },
    {
     "name": "stderr",
     "output_type": "stream",
     "text": [
      "bagging, val_score: 0.971773:  90%|######### | 9/10 [00:00<00:00, 11.19it/s]"
     ]
    },
    {
     "name": "stdout",
     "output_type": "stream",
     "text": [
      "Training until validation scores don't improve for 100 rounds\n",
      "[100]\tcv_agg's valid binary_logloss: 0.971773 + 0.299887\n",
      "Early stopping, best iteration is:\n",
      "[1]\tcv_agg's valid binary_logloss: 0.971773 + 0.299887\n",
      "Training until validation scores don't improve for 100 rounds\n",
      "[100]\tcv_agg's valid binary_logloss: 0.971773 + 0.299887\n",
      "Early stopping, best iteration is:\n",
      "[1]\tcv_agg's valid binary_logloss: 0.971773 + 0.299887\n"
     ]
    },
    {
     "name": "stderr",
     "output_type": "stream",
     "text": [
      "bagging, val_score: 0.971773: 100%|##########| 10/10 [00:00<00:00, 10.78it/s]\n",
      "feature_fraction_stage2, val_score: 0.971773:  33%|###3      | 1/3 [00:00<00:00, 13.23it/s]"
     ]
    },
    {
     "name": "stdout",
     "output_type": "stream",
     "text": [
      "Training until validation scores don't improve for 100 rounds\n",
      "[100]\tcv_agg's valid binary_logloss: 0.971773 + 0.299887\n",
      "Early stopping, best iteration is:\n",
      "[1]\tcv_agg's valid binary_logloss: 0.971773 + 0.299887\n",
      "Training until validation scores don't improve for 100 rounds\n"
     ]
    },
    {
     "name": "stderr",
     "output_type": "stream",
     "text": [
      "feature_fraction_stage2, val_score: 0.971773: 100%|##########| 3/3 [00:00<00:00, 15.70it/s]\n"
     ]
    },
    {
     "name": "stdout",
     "output_type": "stream",
     "text": [
      "[100]\tcv_agg's valid binary_logloss: 0.971773 + 0.299887\n",
      "Early stopping, best iteration is:\n",
      "[1]\tcv_agg's valid binary_logloss: 0.971773 + 0.299887\n",
      "Training until validation scores don't improve for 100 rounds\n",
      "[100]\tcv_agg's valid binary_logloss: 0.971773 + 0.299887\n",
      "Early stopping, best iteration is:\n",
      "[1]\tcv_agg's valid binary_logloss: 0.971773 + 0.299887\n"
     ]
    },
    {
     "name": "stderr",
     "output_type": "stream",
     "text": [
      "regularization_factors, val_score: 0.971773:   5%|5         | 1/20 [00:00<00:01, 13.08it/s]"
     ]
    },
    {
     "name": "stdout",
     "output_type": "stream",
     "text": [
      "Training until validation scores don't improve for 100 rounds\n",
      "[100]\tcv_agg's valid binary_logloss: 0.971773 + 0.299887\n",
      "Early stopping, best iteration is:\n",
      "[1]\tcv_agg's valid binary_logloss: 0.971773 + 0.299887\n",
      "Training until validation scores don't improve for 100 rounds\n"
     ]
    },
    {
     "name": "stderr",
     "output_type": "stream",
     "text": [
      "regularization_factors, val_score: 0.971773:  10%|#         | 2/20 [00:00<00:01, 13.62it/s]"
     ]
    },
    {
     "name": "stdout",
     "output_type": "stream",
     "text": [
      "[100]\tcv_agg's valid binary_logloss: 0.971773 + 0.299887\n",
      "Early stopping, best iteration is:\n",
      "[1]\tcv_agg's valid binary_logloss: 0.971773 + 0.299887\n",
      "Training until validation scores don't improve for 100 rounds\n",
      "[100]\tcv_agg's valid binary_logloss: 0.971773 + 0.299887\n",
      "Early stopping, best iteration is:\n",
      "[1]\tcv_agg's valid binary_logloss: 0.971773 + 0.299887\n"
     ]
    },
    {
     "name": "stderr",
     "output_type": "stream",
     "text": [
      "regularization_factors, val_score: 0.971773:  20%|##        | 4/20 [00:00<00:01, 13.78it/s]"
     ]
    },
    {
     "name": "stdout",
     "output_type": "stream",
     "text": [
      "Training until validation scores don't improve for 100 rounds\n",
      "[100]\tcv_agg's valid binary_logloss: 0.971773 + 0.299887\n",
      "Early stopping, best iteration is:\n",
      "[1]\tcv_agg's valid binary_logloss: 0.971773 + 0.299887\n",
      "Training until validation scores don't improve for 100 rounds\n"
     ]
    },
    {
     "name": "stderr",
     "output_type": "stream",
     "text": [
      "regularization_factors, val_score: 0.971773:  25%|##5       | 5/20 [00:00<00:01, 13.78it/s]"
     ]
    },
    {
     "name": "stdout",
     "output_type": "stream",
     "text": [
      "[100]\tcv_agg's valid binary_logloss: 0.971773 + 0.299887\n",
      "Early stopping, best iteration is:\n",
      "[1]\tcv_agg's valid binary_logloss: 0.971773 + 0.299887\n",
      "Training until validation scores don't improve for 100 rounds\n",
      "[100]\tcv_agg's valid binary_logloss: 0.971773 + 0.299887\n",
      "Early stopping, best iteration is:\n",
      "[1]\tcv_agg's valid binary_logloss: 0.971773 + 0.299887\n"
     ]
    },
    {
     "name": "stderr",
     "output_type": "stream",
     "text": [
      "regularization_factors, val_score: 0.971773:  35%|###5      | 7/20 [00:00<00:00, 13.75it/s]"
     ]
    },
    {
     "name": "stdout",
     "output_type": "stream",
     "text": [
      "Training until validation scores don't improve for 100 rounds\n",
      "[100]\tcv_agg's valid binary_logloss: 0.971773 + 0.299887\n",
      "Early stopping, best iteration is:\n",
      "[1]\tcv_agg's valid binary_logloss: 0.971773 + 0.299887\n",
      "Training until validation scores don't improve for 100 rounds\n"
     ]
    },
    {
     "name": "stderr",
     "output_type": "stream",
     "text": [
      "regularization_factors, val_score: 0.971773:  40%|####      | 8/20 [00:00<00:00, 13.71it/s]"
     ]
    },
    {
     "name": "stdout",
     "output_type": "stream",
     "text": [
      "[100]\tcv_agg's valid binary_logloss: 0.971773 + 0.299887\n",
      "Early stopping, best iteration is:\n",
      "[1]\tcv_agg's valid binary_logloss: 0.971773 + 0.299887\n",
      "Training until validation scores don't improve for 100 rounds\n",
      "[100]\tcv_agg's valid binary_logloss: 0.971773 + 0.299887\n",
      "Early stopping, best iteration is:\n",
      "[1]\tcv_agg's valid binary_logloss: 0.971773 + 0.299887\n"
     ]
    },
    {
     "name": "stderr",
     "output_type": "stream",
     "text": [
      "regularization_factors, val_score: 0.971773:  50%|#####     | 10/20 [00:00<00:00, 13.68it/s]"
     ]
    },
    {
     "name": "stdout",
     "output_type": "stream",
     "text": [
      "Training until validation scores don't improve for 100 rounds\n",
      "[100]\tcv_agg's valid binary_logloss: 0.971773 + 0.299887\n",
      "Early stopping, best iteration is:\n",
      "[1]\tcv_agg's valid binary_logloss: 0.971773 + 0.299887\n",
      "Training until validation scores don't improve for 100 rounds\n"
     ]
    },
    {
     "name": "stderr",
     "output_type": "stream",
     "text": [
      "regularization_factors, val_score: 0.971773:  55%|#####5    | 11/20 [00:00<00:00, 13.68it/s]"
     ]
    },
    {
     "name": "stdout",
     "output_type": "stream",
     "text": [
      "[100]\tcv_agg's valid binary_logloss: 0.971773 + 0.299887\n",
      "Early stopping, best iteration is:\n",
      "[1]\tcv_agg's valid binary_logloss: 0.971773 + 0.299887\n",
      "Training until validation scores don't improve for 100 rounds\n",
      "[100]\tcv_agg's valid binary_logloss: 0.971773 + 0.299887\n",
      "Early stopping, best iteration is:\n",
      "[1]\tcv_agg's valid binary_logloss: 0.971773 + 0.299887\n"
     ]
    },
    {
     "name": "stderr",
     "output_type": "stream",
     "text": [
      "regularization_factors, val_score: 0.971773:  65%|######5   | 13/20 [00:00<00:00, 13.84it/s]"
     ]
    },
    {
     "name": "stdout",
     "output_type": "stream",
     "text": [
      "Training until validation scores don't improve for 100 rounds\n",
      "[100]\tcv_agg's valid binary_logloss: 0.971773 + 0.299887\n",
      "Early stopping, best iteration is:\n",
      "[1]\tcv_agg's valid binary_logloss: 0.971773 + 0.299887\n",
      "Training until validation scores don't improve for 100 rounds\n"
     ]
    },
    {
     "name": "stderr",
     "output_type": "stream",
     "text": [
      "regularization_factors, val_score: 0.971773:  75%|#######5  | 15/20 [00:01<00:00, 13.96it/s]"
     ]
    },
    {
     "name": "stdout",
     "output_type": "stream",
     "text": [
      "[100]\tcv_agg's valid binary_logloss: 0.971773 + 0.299887\n",
      "Early stopping, best iteration is:\n",
      "[1]\tcv_agg's valid binary_logloss: 0.971773 + 0.299887\n",
      "Training until validation scores don't improve for 100 rounds\n",
      "[100]\tcv_agg's valid binary_logloss: 0.971773 + 0.299887\n",
      "Early stopping, best iteration is:\n",
      "[1]\tcv_agg's valid binary_logloss: 0.971773 + 0.299887\n"
     ]
    },
    {
     "name": "stderr",
     "output_type": "stream",
     "text": [
      "regularization_factors, val_score: 0.971773:  80%|########  | 16/20 [00:01<00:00, 13.94it/s]"
     ]
    },
    {
     "name": "stdout",
     "output_type": "stream",
     "text": [
      "Training until validation scores don't improve for 100 rounds\n",
      "[100]\tcv_agg's valid binary_logloss: 0.971773 + 0.299887\n",
      "Early stopping, best iteration is:\n",
      "[1]\tcv_agg's valid binary_logloss: 0.971773 + 0.299887\n",
      "Training until validation scores don't improve for 100 rounds\n"
     ]
    },
    {
     "name": "stderr",
     "output_type": "stream",
     "text": [
      "regularization_factors, val_score: 0.971773:  85%|########5 | 17/20 [00:01<00:00, 13.94it/s]"
     ]
    },
    {
     "name": "stdout",
     "output_type": "stream",
     "text": [
      "[100]\tcv_agg's valid binary_logloss: 0.971773 + 0.299887\n",
      "Early stopping, best iteration is:\n",
      "[1]\tcv_agg's valid binary_logloss: 0.971773 + 0.299887\n",
      "Training until validation scores don't improve for 100 rounds\n",
      "[100]\tcv_agg's valid binary_logloss: 0.971773 + 0.299887\n",
      "Early stopping, best iteration is:\n",
      "[1]\tcv_agg's valid binary_logloss: 0.971773 + 0.299887\n"
     ]
    },
    {
     "name": "stderr",
     "output_type": "stream",
     "text": [
      "regularization_factors, val_score: 0.971773:  95%|#########5| 19/20 [00:01<00:00, 13.99it/s]"
     ]
    },
    {
     "name": "stdout",
     "output_type": "stream",
     "text": [
      "Training until validation scores don't improve for 100 rounds\n",
      "[100]\tcv_agg's valid binary_logloss: 0.971773 + 0.299887\n",
      "Early stopping, best iteration is:\n",
      "[1]\tcv_agg's valid binary_logloss: 0.971773 + 0.299887\n",
      "Training until validation scores don't improve for 100 rounds\n",
      "[100]\tcv_agg's valid binary_logloss: 0.971773 + 0.299887\n",
      "Early stopping, best iteration is:\n",
      "[1]\tcv_agg's valid binary_logloss: 0.971773 + 0.299887\n"
     ]
    },
    {
     "name": "stderr",
     "output_type": "stream",
     "text": [
      "regularization_factors, val_score: 0.971773: 100%|##########| 20/20 [00:01<00:00, 13.86it/s]\n",
      "min_child_samples, val_score: 0.971773:   0%|          | 0/5 [00:00<?, ?it/s]"
     ]
    },
    {
     "name": "stdout",
     "output_type": "stream",
     "text": [
      "Training until validation scores don't improve for 100 rounds\n",
      "[100]\tcv_agg's valid binary_logloss: 0.971773 + 0.299887\n",
      "Early stopping, best iteration is:\n",
      "[1]\tcv_agg's valid binary_logloss: 0.971773 + 0.299887\n"
     ]
    },
    {
     "name": "stderr",
     "output_type": "stream",
     "text": [
      "min_child_samples, val_score: 0.971773:  40%|####      | 2/5 [00:00<00:00, 16.54it/s]"
     ]
    },
    {
     "name": "stdout",
     "output_type": "stream",
     "text": [
      "Training until validation scores don't improve for 100 rounds\n",
      "[100]\tcv_agg's valid binary_logloss: 0.971773 + 0.299887\n",
      "Early stopping, best iteration is:\n",
      "[1]\tcv_agg's valid binary_logloss: 0.971773 + 0.299887\n",
      "Training until validation scores don't improve for 100 rounds\n"
     ]
    },
    {
     "name": "stderr",
     "output_type": "stream",
     "text": [
      "min_child_samples, val_score: 0.551466:  40%|####      | 2/5 [00:00<00:00, 16.54it/s]"
     ]
    },
    {
     "name": "stdout",
     "output_type": "stream",
     "text": [
      "[100]\tcv_agg's valid binary_logloss: 1.19901 + 1.32875\n",
      "Early stopping, best iteration is:\n",
      "[16]\tcv_agg's valid binary_logloss: 0.551466 + 0.352547\n"
     ]
    },
    {
     "name": "stderr",
     "output_type": "stream",
     "text": [
      "min_child_samples, val_score: 0.492282: 100%|##########| 5/5 [00:00<00:00, 12.03it/s]"
     ]
    },
    {
     "name": "stdout",
     "output_type": "stream",
     "text": [
      "Training until validation scores don't improve for 100 rounds\n",
      "[100]\tcv_agg's valid binary_logloss: 0.983339 + 1.24771\n",
      "Early stopping, best iteration is:\n",
      "[14]\tcv_agg's valid binary_logloss: 0.492282 + 0.177571\n",
      "Training until validation scores don't improve for 100 rounds\n",
      "[100]\tcv_agg's valid binary_logloss: 0.971773 + 0.299887\n",
      "Early stopping, best iteration is:\n",
      "[1]\tcv_agg's valid binary_logloss: 0.971773 + 0.299887\n"
     ]
    },
    {
     "name": "stderr",
     "output_type": "stream",
     "text": [
      "\n"
     ]
    },
    {
     "name": "stdout",
     "output_type": "stream",
     "text": [
      "{'accuracy': 0.8888888888888888, 'balanced_accuracy': np.float64(0.8571428571428572), 'f1': np.float64(0.8333333333333334), 'precision': np.float64(1.0), 'recall': np.float64(0.7142857142857143), 'specificity': np.float64(1.0), 'ROC_AUC': np.float64(0.8571428571428572), 'MCC': np.float64(0.7774288420142416)}\n"
     ]
    },
    {
     "name": "stderr",
     "output_type": "stream",
     "text": [
      "feature_fraction, val_score: 0.971773:  43%|####2     | 3/7 [00:00<00:00, 17.13it/s]"
     ]
    },
    {
     "name": "stdout",
     "output_type": "stream",
     "text": [
      "Training until validation scores don't improve for 100 rounds\n",
      "[100]\tcv_agg's valid binary_logloss: 0.971773 + 0.299887\n",
      "Early stopping, best iteration is:\n",
      "[1]\tcv_agg's valid binary_logloss: 0.971773 + 0.299887\n",
      "Training until validation scores don't improve for 100 rounds\n",
      "[100]\tcv_agg's valid binary_logloss: 0.971773 + 0.299887\n",
      "Early stopping, best iteration is:\n",
      "[1]\tcv_agg's valid binary_logloss: 0.971773 + 0.299887\n",
      "Training until validation scores don't improve for 100 rounds\n",
      "[100]\tcv_agg's valid binary_logloss: 0.971773 + 0.299887\n",
      "Early stopping, best iteration is:\n",
      "[1]\tcv_agg's valid binary_logloss: 0.971773 + 0.299887\n",
      "Training until validation scores don't improve for 100 rounds\n"
     ]
    },
    {
     "name": "stderr",
     "output_type": "stream",
     "text": [
      "feature_fraction, val_score: 0.971773: 100%|##########| 7/7 [00:00<00:00, 17.73it/s]\n"
     ]
    },
    {
     "name": "stdout",
     "output_type": "stream",
     "text": [
      "[100]\tcv_agg's valid binary_logloss: 0.971773 + 0.299887\n",
      "Early stopping, best iteration is:\n",
      "[1]\tcv_agg's valid binary_logloss: 0.971773 + 0.299887\n",
      "Training until validation scores don't improve for 100 rounds\n",
      "[100]\tcv_agg's valid binary_logloss: 0.971773 + 0.299887\n",
      "Early stopping, best iteration is:\n",
      "[1]\tcv_agg's valid binary_logloss: 0.971773 + 0.299887\n",
      "Training until validation scores don't improve for 100 rounds\n",
      "[100]\tcv_agg's valid binary_logloss: 0.971773 + 0.299887\n",
      "Early stopping, best iteration is:\n",
      "[1]\tcv_agg's valid binary_logloss: 0.971773 + 0.299887\n",
      "Training until validation scores don't improve for 100 rounds\n",
      "[100]\tcv_agg's valid binary_logloss: 0.971773 + 0.299887\n",
      "Early stopping, best iteration is:\n",
      "[1]\tcv_agg's valid binary_logloss: 0.971773 + 0.299887\n"
     ]
    },
    {
     "name": "stderr",
     "output_type": "stream",
     "text": [
      "num_leaves, val_score: 0.971773:  15%|#5        | 3/20 [00:00<00:00, 17.24it/s]"
     ]
    },
    {
     "name": "stdout",
     "output_type": "stream",
     "text": [
      "Training until validation scores don't improve for 100 rounds\n",
      "[100]\tcv_agg's valid binary_logloss: 0.971773 + 0.299887\n",
      "Early stopping, best iteration is:\n",
      "[1]\tcv_agg's valid binary_logloss: 0.971773 + 0.299887\n",
      "Training until validation scores don't improve for 100 rounds\n",
      "[100]\tcv_agg's valid binary_logloss: 0.971773 + 0.299887\n",
      "Early stopping, best iteration is:\n",
      "[1]\tcv_agg's valid binary_logloss: 0.971773 + 0.299887\n",
      "Training until validation scores don't improve for 100 rounds\n",
      "[100]\tcv_agg's valid binary_logloss: 0.971773 + 0.299887\n",
      "Early stopping, best iteration is:\n",
      "[1]\tcv_agg's valid binary_logloss: 0.971773 + 0.299887\n",
      "Training until validation scores don't improve for 100 rounds\n"
     ]
    },
    {
     "name": "stderr",
     "output_type": "stream",
     "text": [
      "num_leaves, val_score: 0.971773:  30%|###       | 6/20 [00:00<00:00, 15.00it/s]"
     ]
    },
    {
     "name": "stdout",
     "output_type": "stream",
     "text": [
      "[100]\tcv_agg's valid binary_logloss: 0.971773 + 0.299887\n",
      "Early stopping, best iteration is:\n",
      "[1]\tcv_agg's valid binary_logloss: 0.971773 + 0.299887\n",
      "Training until validation scores don't improve for 100 rounds\n",
      "[100]\tcv_agg's valid binary_logloss: 0.971773 + 0.299887\n",
      "Early stopping, best iteration is:\n",
      "[1]\tcv_agg's valid binary_logloss: 0.971773 + 0.299887\n",
      "Training until validation scores don't improve for 100 rounds\n",
      "[100]\tcv_agg's valid binary_logloss: 0.971773 + 0.299887\n",
      "Early stopping, best iteration is:\n",
      "[1]\tcv_agg's valid binary_logloss: 0.971773 + 0.299887\n",
      "Training until validation scores don't improve for 100 rounds\n",
      "[100]\tcv_agg's valid binary_logloss: 0.971773 + 0.299887\n",
      "Early stopping, best iteration is:\n",
      "[1]\tcv_agg's valid binary_logloss: 0.971773 + 0.299887\n"
     ]
    },
    {
     "name": "stderr",
     "output_type": "stream",
     "text": [
      "num_leaves, val_score: 0.971773:  45%|####5     | 9/20 [00:00<00:00, 14.65it/s]"
     ]
    },
    {
     "name": "stdout",
     "output_type": "stream",
     "text": [
      "Training until validation scores don't improve for 100 rounds\n",
      "[100]\tcv_agg's valid binary_logloss: 0.971773 + 0.299887\n",
      "Early stopping, best iteration is:\n",
      "[1]\tcv_agg's valid binary_logloss: 0.971773 + 0.299887\n",
      "Training until validation scores don't improve for 100 rounds\n",
      "[100]\tcv_agg's valid binary_logloss: 0.971773 + 0.299887\n",
      "Early stopping, best iteration is:\n",
      "[1]\tcv_agg's valid binary_logloss: 0.971773 + 0.299887\n",
      "Training until validation scores don't improve for 100 rounds\n",
      "[100]\tcv_agg's valid binary_logloss: 0.971773 + 0.299887\n",
      "Early stopping, best iteration is:\n",
      "[1]\tcv_agg's valid binary_logloss: 0.971773 + 0.299887\n"
     ]
    },
    {
     "name": "stderr",
     "output_type": "stream",
     "text": [
      "num_leaves, val_score: 0.971773:  60%|######    | 12/20 [00:00<00:00, 13.84it/s]"
     ]
    },
    {
     "name": "stdout",
     "output_type": "stream",
     "text": [
      "Training until validation scores don't improve for 100 rounds\n",
      "[100]\tcv_agg's valid binary_logloss: 0.971773 + 0.299887\n",
      "Early stopping, best iteration is:\n",
      "[1]\tcv_agg's valid binary_logloss: 0.971773 + 0.299887\n",
      "Training until validation scores don't improve for 100 rounds\n",
      "[100]\tcv_agg's valid binary_logloss: 0.971773 + 0.299887\n",
      "Early stopping, best iteration is:\n",
      "[1]\tcv_agg's valid binary_logloss: 0.971773 + 0.299887\n",
      "Training until validation scores don't improve for 100 rounds\n"
     ]
    },
    {
     "name": "stderr",
     "output_type": "stream",
     "text": [
      "num_leaves, val_score: 0.971773:  75%|#######5  | 15/20 [00:01<00:00, 12.99it/s]"
     ]
    },
    {
     "name": "stdout",
     "output_type": "stream",
     "text": [
      "[100]\tcv_agg's valid binary_logloss: 0.971773 + 0.299887\n",
      "Early stopping, best iteration is:\n",
      "[1]\tcv_agg's valid binary_logloss: 0.971773 + 0.299887\n",
      "Training until validation scores don't improve for 100 rounds\n",
      "[100]\tcv_agg's valid binary_logloss: 0.971773 + 0.299887\n",
      "Early stopping, best iteration is:\n",
      "[1]\tcv_agg's valid binary_logloss: 0.971773 + 0.299887\n",
      "Training until validation scores don't improve for 100 rounds\n",
      "[100]\tcv_agg's valid binary_logloss: 0.971773 + 0.299887\n",
      "Early stopping, best iteration is:\n",
      "[1]\tcv_agg's valid binary_logloss: 0.971773 + 0.299887\n",
      "Training until validation scores don't improve for 100 rounds\n"
     ]
    },
    {
     "name": "stderr",
     "output_type": "stream",
     "text": [
      "num_leaves, val_score: 0.971773:  90%|######### | 18/20 [00:01<00:00, 13.20it/s]"
     ]
    },
    {
     "name": "stdout",
     "output_type": "stream",
     "text": [
      "[100]\tcv_agg's valid binary_logloss: 0.971773 + 0.299887\n",
      "Early stopping, best iteration is:\n",
      "[1]\tcv_agg's valid binary_logloss: 0.971773 + 0.299887\n",
      "Training until validation scores don't improve for 100 rounds\n",
      "[100]\tcv_agg's valid binary_logloss: 0.971773 + 0.299887\n",
      "Early stopping, best iteration is:\n",
      "[1]\tcv_agg's valid binary_logloss: 0.971773 + 0.299887\n",
      "Training until validation scores don't improve for 100 rounds\n",
      "[100]\tcv_agg's valid binary_logloss: 0.971773 + 0.299887\n",
      "Early stopping, best iteration is:\n",
      "[1]\tcv_agg's valid binary_logloss: 0.971773 + 0.299887\n",
      "Training until validation scores don't improve for 100 rounds\n",
      "[100]\tcv_agg's valid binary_logloss: 0.971773 + 0.299887\n",
      "Early stopping, best iteration is:\n",
      "[1]\tcv_agg's valid binary_logloss: 0.971773 + 0.299887\n"
     ]
    },
    {
     "name": "stderr",
     "output_type": "stream",
     "text": [
      "num_leaves, val_score: 0.971773: 100%|##########| 20/20 [00:01<00:00, 13.77it/s]\n"
     ]
    },
    {
     "name": "stdout",
     "output_type": "stream",
     "text": [
      "Training until validation scores don't improve for 100 rounds\n",
      "[100]\tcv_agg's valid binary_logloss: 0.971773 + 0.299887\n",
      "Early stopping, best iteration is:\n",
      "[1]\tcv_agg's valid binary_logloss: 0.971773 + 0.299887\n"
     ]
    },
    {
     "name": "stderr",
     "output_type": "stream",
     "text": [
      "bagging, val_score: 0.971773:  10%|#         | 1/10 [00:00<00:00, 10.13it/s]"
     ]
    },
    {
     "name": "stdout",
     "output_type": "stream",
     "text": [
      "Training until validation scores don't improve for 100 rounds\n",
      "[100]\tcv_agg's valid binary_logloss: 0.971773 + 0.299887\n",
      "Early stopping, best iteration is:\n",
      "[1]\tcv_agg's valid binary_logloss: 0.971773 + 0.299887\n",
      "Training until validation scores don't improve for 100 rounds\n"
     ]
    },
    {
     "name": "stderr",
     "output_type": "stream",
     "text": [
      "bagging, val_score: 0.971773:  20%|##        | 2/10 [00:00<00:00, 10.75it/s]"
     ]
    },
    {
     "name": "stdout",
     "output_type": "stream",
     "text": [
      "[100]\tcv_agg's valid binary_logloss: 0.971773 + 0.299887\n",
      "Early stopping, best iteration is:\n",
      "[1]\tcv_agg's valid binary_logloss: 0.971773 + 0.299887\n",
      "Training until validation scores don't improve for 100 rounds\n"
     ]
    },
    {
     "name": "stderr",
     "output_type": "stream",
     "text": [
      "bagging, val_score: 0.971773:  40%|####      | 4/10 [00:00<00:00, 11.57it/s]"
     ]
    },
    {
     "name": "stdout",
     "output_type": "stream",
     "text": [
      "[100]\tcv_agg's valid binary_logloss: 0.971773 + 0.299887\n",
      "Early stopping, best iteration is:\n",
      "[1]\tcv_agg's valid binary_logloss: 0.971773 + 0.299887\n",
      "Training until validation scores don't improve for 100 rounds\n",
      "[100]\tcv_agg's valid binary_logloss: 0.971773 + 0.299887\n",
      "Early stopping, best iteration is:\n",
      "[1]\tcv_agg's valid binary_logloss: 0.971773 + 0.299887\n"
     ]
    },
    {
     "name": "stderr",
     "output_type": "stream",
     "text": [
      "bagging, val_score: 0.971773:  40%|####      | 4/10 [00:00<00:00, 11.57it/s]"
     ]
    },
    {
     "name": "stdout",
     "output_type": "stream",
     "text": [
      "Training until validation scores don't improve for 100 rounds\n",
      "[100]\tcv_agg's valid binary_logloss: 0.971773 + 0.299887\n",
      "Early stopping, best iteration is:\n",
      "[1]\tcv_agg's valid binary_logloss: 0.971773 + 0.299887\n"
     ]
    },
    {
     "name": "stderr",
     "output_type": "stream",
     "text": [
      "bagging, val_score: 0.971773:  60%|######    | 6/10 [00:00<00:00, 12.16it/s]"
     ]
    },
    {
     "name": "stdout",
     "output_type": "stream",
     "text": [
      "Training until validation scores don't improve for 100 rounds\n",
      "[100]\tcv_agg's valid binary_logloss: 0.971773 + 0.299887\n",
      "Early stopping, best iteration is:\n",
      "[1]\tcv_agg's valid binary_logloss: 0.971773 + 0.299887\n",
      "Training until validation scores don't improve for 100 rounds\n"
     ]
    },
    {
     "name": "stderr",
     "output_type": "stream",
     "text": [
      "bagging, val_score: 0.971773:  70%|#######   | 7/10 [00:00<00:00, 12.16it/s]"
     ]
    },
    {
     "name": "stdout",
     "output_type": "stream",
     "text": [
      "[100]\tcv_agg's valid binary_logloss: 0.971773 + 0.299887\n",
      "Early stopping, best iteration is:\n",
      "[1]\tcv_agg's valid binary_logloss: 0.971773 + 0.299887\n",
      "Training until validation scores don't improve for 100 rounds\n"
     ]
    },
    {
     "name": "stderr",
     "output_type": "stream",
     "text": [
      "bagging, val_score: 0.971773:  80%|########  | 8/10 [00:00<00:00, 11.74it/s]"
     ]
    },
    {
     "name": "stdout",
     "output_type": "stream",
     "text": [
      "[100]\tcv_agg's valid binary_logloss: 0.971773 + 0.299887\n",
      "Early stopping, best iteration is:\n",
      "[1]\tcv_agg's valid binary_logloss: 0.971773 + 0.299887\n",
      "Training until validation scores don't improve for 100 rounds\n",
      "[100]\tcv_agg's valid binary_logloss: 0.971773 + 0.299887\n",
      "Early stopping, best iteration is:\n",
      "[1]\tcv_agg's valid binary_logloss: 0.971773 + 0.299887\n"
     ]
    },
    {
     "name": "stderr",
     "output_type": "stream",
     "text": [
      "bagging, val_score: 0.971773:  90%|######### | 9/10 [00:00<00:00, 11.74it/s]"
     ]
    },
    {
     "name": "stdout",
     "output_type": "stream",
     "text": [
      "Training until validation scores don't improve for 100 rounds\n",
      "[100]\tcv_agg's valid binary_logloss: 0.971773 + 0.299887\n",
      "Early stopping, best iteration is:\n",
      "[1]\tcv_agg's valid binary_logloss: 0.971773 + 0.299887\n"
     ]
    },
    {
     "name": "stderr",
     "output_type": "stream",
     "text": [
      "bagging, val_score: 0.971773: 100%|##########| 10/10 [00:00<00:00, 11.46it/s]\n",
      "feature_fraction_stage2, val_score: 0.971773:  33%|###3      | 1/3 [00:00<00:00, 14.70it/s]"
     ]
    },
    {
     "name": "stdout",
     "output_type": "stream",
     "text": [
      "Training until validation scores don't improve for 100 rounds\n",
      "[100]\tcv_agg's valid binary_logloss: 0.971773 + 0.299887\n",
      "Early stopping, best iteration is:\n",
      "[1]\tcv_agg's valid binary_logloss: 0.971773 + 0.299887\n",
      "Training until validation scores don't improve for 100 rounds\n",
      "[100]\tcv_agg's valid binary_logloss: 0.971773 + 0.299887\n",
      "Early stopping, best iteration is:\n",
      "[1]\tcv_agg's valid binary_logloss: 0.971773 + 0.299887\n"
     ]
    },
    {
     "name": "stderr",
     "output_type": "stream",
     "text": [
      "feature_fraction_stage2, val_score: 0.971773: 100%|##########| 3/3 [00:00<00:00, 16.40it/s]\n"
     ]
    },
    {
     "name": "stdout",
     "output_type": "stream",
     "text": [
      "Training until validation scores don't improve for 100 rounds\n",
      "[100]\tcv_agg's valid binary_logloss: 0.971773 + 0.299887\n",
      "Early stopping, best iteration is:\n",
      "[1]\tcv_agg's valid binary_logloss: 0.971773 + 0.299887\n"
     ]
    },
    {
     "name": "stderr",
     "output_type": "stream",
     "text": [
      "regularization_factors, val_score: 0.971773:   5%|5         | 1/20 [00:00<00:02,  6.96it/s]"
     ]
    },
    {
     "name": "stdout",
     "output_type": "stream",
     "text": [
      "Training until validation scores don't improve for 100 rounds\n",
      "[100]\tcv_agg's valid binary_logloss: 0.971773 + 0.299887\n",
      "Early stopping, best iteration is:\n",
      "[1]\tcv_agg's valid binary_logloss: 0.971773 + 0.299887\n",
      "Training until validation scores don't improve for 100 rounds\n",
      "[100]\tcv_agg's valid binary_logloss: 0.971773 + 0.299887\n",
      "Early stopping, best iteration is:\n",
      "[1]\tcv_agg's valid binary_logloss: 0.971773 + 0.299887\n"
     ]
    },
    {
     "name": "stderr",
     "output_type": "stream",
     "text": [
      "regularization_factors, val_score: 0.971773:  10%|#         | 2/20 [00:00<00:01, 13.70it/s]"
     ]
    },
    {
     "name": "stdout",
     "output_type": "stream",
     "text": [
      "Training until validation scores don't improve for 100 rounds\n",
      "[100]\tcv_agg's valid binary_logloss: 0.971773 + 0.299887\n",
      "Early stopping, best iteration is:\n",
      "[1]\tcv_agg's valid binary_logloss: 0.971773 + 0.299887\n"
     ]
    },
    {
     "name": "stderr",
     "output_type": "stream",
     "text": [
      "regularization_factors, val_score: 0.971773:  20%|##        | 4/20 [00:00<00:01, 13.84it/s]"
     ]
    },
    {
     "name": "stdout",
     "output_type": "stream",
     "text": [
      "Training until validation scores don't improve for 100 rounds\n",
      "[100]\tcv_agg's valid binary_logloss: 0.971773 + 0.299887\n",
      "Early stopping, best iteration is:\n",
      "[1]\tcv_agg's valid binary_logloss: 0.971773 + 0.299887\n",
      "Training until validation scores don't improve for 100 rounds\n",
      "[100]\tcv_agg's valid binary_logloss: 0.971773 + 0.299887\n",
      "Early stopping, best iteration is:\n",
      "[1]\tcv_agg's valid binary_logloss: 0.971773 + 0.299887\n"
     ]
    },
    {
     "name": "stderr",
     "output_type": "stream",
     "text": [
      "regularization_factors, val_score: 0.971773:  25%|##5       | 5/20 [00:00<00:01, 13.84it/s]"
     ]
    },
    {
     "name": "stdout",
     "output_type": "stream",
     "text": [
      "Training until validation scores don't improve for 100 rounds\n",
      "[100]\tcv_agg's valid binary_logloss: 0.971773 + 0.299887\n",
      "Early stopping, best iteration is:\n",
      "[1]\tcv_agg's valid binary_logloss: 0.971773 + 0.299887\n"
     ]
    },
    {
     "name": "stderr",
     "output_type": "stream",
     "text": [
      "regularization_factors, val_score: 0.971773:  35%|###5      | 7/20 [00:00<00:00, 13.85it/s]"
     ]
    },
    {
     "name": "stdout",
     "output_type": "stream",
     "text": [
      "Training until validation scores don't improve for 100 rounds\n",
      "[100]\tcv_agg's valid binary_logloss: 0.971773 + 0.299887\n",
      "Early stopping, best iteration is:\n",
      "[1]\tcv_agg's valid binary_logloss: 0.971773 + 0.299887\n",
      "Training until validation scores don't improve for 100 rounds\n",
      "[100]\tcv_agg's valid binary_logloss: 0.971773 + 0.299887\n",
      "Early stopping, best iteration is:\n",
      "[1]\tcv_agg's valid binary_logloss: 0.971773 + 0.299887\n"
     ]
    },
    {
     "name": "stderr",
     "output_type": "stream",
     "text": [
      "regularization_factors, val_score: 0.971773:  40%|####      | 8/20 [00:00<00:00, 13.25it/s]"
     ]
    },
    {
     "name": "stdout",
     "output_type": "stream",
     "text": [
      "Training until validation scores don't improve for 100 rounds\n"
     ]
    },
    {
     "name": "stderr",
     "output_type": "stream",
     "text": [
      "regularization_factors, val_score: 0.971773:  50%|#####     | 10/20 [00:00<00:00, 12.77it/s]"
     ]
    },
    {
     "name": "stdout",
     "output_type": "stream",
     "text": [
      "[100]\tcv_agg's valid binary_logloss: 0.971773 + 0.299887\n",
      "Early stopping, best iteration is:\n",
      "[1]\tcv_agg's valid binary_logloss: 0.971773 + 0.299887\n",
      "Training until validation scores don't improve for 100 rounds\n",
      "[100]\tcv_agg's valid binary_logloss: 0.971773 + 0.299887\n",
      "Early stopping, best iteration is:\n",
      "[1]\tcv_agg's valid binary_logloss: 0.971773 + 0.299887\n",
      "Training until validation scores don't improve for 100 rounds\n"
     ]
    },
    {
     "name": "stderr",
     "output_type": "stream",
     "text": [
      "regularization_factors, val_score: 0.971773:  55%|#####5    | 11/20 [00:00<00:00, 12.77it/s]"
     ]
    },
    {
     "name": "stdout",
     "output_type": "stream",
     "text": [
      "[100]\tcv_agg's valid binary_logloss: 0.971773 + 0.299887\n",
      "Early stopping, best iteration is:\n",
      "[1]\tcv_agg's valid binary_logloss: 0.971773 + 0.299887\n",
      "Training until validation scores don't improve for 100 rounds\n"
     ]
    },
    {
     "name": "stderr",
     "output_type": "stream",
     "text": [
      "regularization_factors, val_score: 0.971773:  65%|######5   | 13/20 [00:00<00:00, 12.80it/s]"
     ]
    },
    {
     "name": "stdout",
     "output_type": "stream",
     "text": [
      "[100]\tcv_agg's valid binary_logloss: 0.971773 + 0.299887\n",
      "Early stopping, best iteration is:\n",
      "[1]\tcv_agg's valid binary_logloss: 0.971773 + 0.299887\n",
      "Training until validation scores don't improve for 100 rounds\n",
      "[100]\tcv_agg's valid binary_logloss: 0.971773 + 0.299887\n",
      "Early stopping, best iteration is:\n",
      "[1]\tcv_agg's valid binary_logloss: 0.971773 + 0.299887\n",
      "Training until validation scores don't improve for 100 rounds\n"
     ]
    },
    {
     "name": "stderr",
     "output_type": "stream",
     "text": [
      "regularization_factors, val_score: 0.971773:  70%|#######   | 14/20 [00:01<00:00, 12.67it/s]"
     ]
    },
    {
     "name": "stdout",
     "output_type": "stream",
     "text": [
      "[100]\tcv_agg's valid binary_logloss: 0.971773 + 0.299887\n",
      "Early stopping, best iteration is:\n",
      "[1]\tcv_agg's valid binary_logloss: 0.971773 + 0.299887\n",
      "Training until validation scores don't improve for 100 rounds\n"
     ]
    },
    {
     "name": "stderr",
     "output_type": "stream",
     "text": [
      "regularization_factors, val_score: 0.971773:  80%|########  | 16/20 [00:01<00:00, 12.51it/s]"
     ]
    },
    {
     "name": "stdout",
     "output_type": "stream",
     "text": [
      "[100]\tcv_agg's valid binary_logloss: 0.971773 + 0.299887\n",
      "Early stopping, best iteration is:\n",
      "[1]\tcv_agg's valid binary_logloss: 0.971773 + 0.299887\n",
      "Training until validation scores don't improve for 100 rounds\n",
      "[100]\tcv_agg's valid binary_logloss: 0.971773 + 0.299887\n",
      "Early stopping, best iteration is:\n",
      "[1]\tcv_agg's valid binary_logloss: 0.971773 + 0.299887\n"
     ]
    },
    {
     "name": "stderr",
     "output_type": "stream",
     "text": [
      "regularization_factors, val_score: 0.971773:  85%|########5 | 17/20 [00:01<00:00, 12.51it/s]"
     ]
    },
    {
     "name": "stdout",
     "output_type": "stream",
     "text": [
      "Training until validation scores don't improve for 100 rounds\n",
      "[100]\tcv_agg's valid binary_logloss: 0.971773 + 0.299887\n",
      "Early stopping, best iteration is:\n",
      "[1]\tcv_agg's valid binary_logloss: 0.971773 + 0.299887\n",
      "Training until validation scores don't improve for 100 rounds\n"
     ]
    },
    {
     "name": "stderr",
     "output_type": "stream",
     "text": [
      "regularization_factors, val_score: 0.971773:  90%|######### | 18/20 [00:01<00:00, 12.89it/s]"
     ]
    },
    {
     "name": "stdout",
     "output_type": "stream",
     "text": [
      "[100]\tcv_agg's valid binary_logloss: 0.971773 + 0.299887\n",
      "Early stopping, best iteration is:\n",
      "[1]\tcv_agg's valid binary_logloss: 0.971773 + 0.299887\n",
      "Training until validation scores don't improve for 100 rounds\n"
     ]
    },
    {
     "name": "stderr",
     "output_type": "stream",
     "text": [
      "regularization_factors, val_score: 0.971773: 100%|##########| 20/20 [00:01<00:00, 13.03it/s]\n"
     ]
    },
    {
     "name": "stdout",
     "output_type": "stream",
     "text": [
      "[100]\tcv_agg's valid binary_logloss: 0.971773 + 0.299887\n",
      "Early stopping, best iteration is:\n",
      "[1]\tcv_agg's valid binary_logloss: 0.971773 + 0.299887\n",
      "Training until validation scores don't improve for 100 rounds\n",
      "[100]\tcv_agg's valid binary_logloss: 0.971773 + 0.299887\n",
      "Early stopping, best iteration is:\n",
      "[1]\tcv_agg's valid binary_logloss: 0.971773 + 0.299887\n"
     ]
    },
    {
     "name": "stderr",
     "output_type": "stream",
     "text": [
      "min_child_samples, val_score: 0.971773:   0%|          | 0/5 [00:00<?, ?it/s]"
     ]
    },
    {
     "name": "stdout",
     "output_type": "stream",
     "text": [
      "Training until validation scores don't improve for 100 rounds\n",
      "[100]\tcv_agg's valid binary_logloss: 0.971773 + 0.299887\n",
      "Early stopping, best iteration is:\n",
      "[1]\tcv_agg's valid binary_logloss: 0.971773 + 0.299887\n"
     ]
    },
    {
     "name": "stderr",
     "output_type": "stream",
     "text": [
      "min_child_samples, val_score: 0.971773:  20%|##        | 1/5 [00:00<00:00,  8.07it/s]"
     ]
    },
    {
     "name": "stdout",
     "output_type": "stream",
     "text": [
      "Training until validation scores don't improve for 100 rounds\n",
      "[100]\tcv_agg's valid binary_logloss: 0.971773 + 0.299887\n",
      "Early stopping, best iteration is:\n",
      "[1]\tcv_agg's valid binary_logloss: 0.971773 + 0.299887\n"
     ]
    },
    {
     "name": "stderr",
     "output_type": "stream",
     "text": [
      "min_child_samples, val_score: 0.971773:  40%|####      | 2/5 [00:00<00:00, 15.90it/s]"
     ]
    },
    {
     "name": "stdout",
     "output_type": "stream",
     "text": [
      "Training until validation scores don't improve for 100 rounds\n"
     ]
    },
    {
     "name": "stderr",
     "output_type": "stream",
     "text": [
      "min_child_samples, val_score: 0.361365:  60%|######    | 3/5 [00:00<00:00, 15.90it/s]"
     ]
    },
    {
     "name": "stdout",
     "output_type": "stream",
     "text": [
      "[100]\tcv_agg's valid binary_logloss: 0.572872 + 0.687787\n",
      "Early stopping, best iteration is:\n",
      "[45]\tcv_agg's valid binary_logloss: 0.361365 + 0.254915\n",
      "Training until validation scores don't improve for 100 rounds\n"
     ]
    },
    {
     "name": "stderr",
     "output_type": "stream",
     "text": [
      "min_child_samples, val_score: 0.361365:  80%|########  | 4/5 [00:00<00:00,  9.39it/s]"
     ]
    },
    {
     "name": "stdout",
     "output_type": "stream",
     "text": [
      "[100]\tcv_agg's valid binary_logloss: 0.439817 + 0.434992\n",
      "Early stopping, best iteration is:\n",
      "[34]\tcv_agg's valid binary_logloss: 0.384155 + 0.172427\n",
      "Training until validation scores don't improve for 100 rounds\n",
      "[100]\tcv_agg's valid binary_logloss: 0.971773 + 0.299887\n",
      "Early stopping, best iteration is:\n",
      "[1]\tcv_agg's valid binary_logloss: 0.971773 + 0.299887\n"
     ]
    },
    {
     "name": "stderr",
     "output_type": "stream",
     "text": [
      "min_child_samples, val_score: 0.361365: 100%|##########| 5/5 [00:00<00:00, 10.87it/s]\n"
     ]
    },
    {
     "name": "stdout",
     "output_type": "stream",
     "text": [
      "{'accuracy': 0.8333333333333334, 'balanced_accuracy': np.float64(0.8376623376623377), 'f1': np.float64(0.8), 'precision': np.float64(0.75), 'recall': np.float64(0.8571428571428571), 'specificity': np.float64(0.8181818181818182), 'ROC_AUC': np.float64(0.8376623376623377), 'MCC': np.float64(0.6625413488689132)}\n",
      "    accuracy: 0.9074 +- 0.0693\n",
      "    balanced_accuracy: 0.8983 +- 0.0724\n",
      "    f1: 0.8778 +- 0.0875\n",
      "    precision: 0.9167 +- 0.1179\n",
      "    recall: 0.8571 +- 0.1166\n",
      "    specificity: 0.9394 +- 0.0857\n",
      "    ROC_AUC: 0.8983 +- 0.0724\n",
      "    MCC: 0.8133 +- 0.1401\n",
      "\n",
      "PART: day\n",
      "  GBM\n"
     ]
    },
    {
     "name": "stderr",
     "output_type": "stream",
     "text": [
      "feature_fraction, val_score: 0.933634:  29%|##8       | 2/7 [00:00<00:00, 16.70it/s]"
     ]
    },
    {
     "name": "stdout",
     "output_type": "stream",
     "text": [
      "Training until validation scores don't improve for 100 rounds\n",
      "[100]\tcv_agg's valid binary_logloss: 0.933634 + 0.358021\n",
      "Early stopping, best iteration is:\n",
      "[1]\tcv_agg's valid binary_logloss: 0.933634 + 0.358021\n",
      "Training until validation scores don't improve for 100 rounds\n",
      "[100]\tcv_agg's valid binary_logloss: 0.933634 + 0.358021\n",
      "Early stopping, best iteration is:\n",
      "[1]\tcv_agg's valid binary_logloss: 0.933634 + 0.358021\n",
      "Training until validation scores don't improve for 100 rounds\n",
      "[100]\tcv_agg's valid binary_logloss: 0.933634 + 0.358021\n",
      "Early stopping, best iteration is:\n",
      "[1]\tcv_agg's valid binary_logloss: 0.933634 + 0.358021\n"
     ]
    },
    {
     "name": "stderr",
     "output_type": "stream",
     "text": [
      "feature_fraction, val_score: 0.933634:  43%|####2     | 3/7 [00:00<00:00, 16.70it/s]"
     ]
    },
    {
     "name": "stdout",
     "output_type": "stream",
     "text": [
      "Training until validation scores don't improve for 100 rounds\n"
     ]
    },
    {
     "name": "stderr",
     "output_type": "stream",
     "text": [
      "feature_fraction, val_score: 0.933634:  86%|########5 | 6/7 [00:00<00:00, 16.80it/s]"
     ]
    },
    {
     "name": "stdout",
     "output_type": "stream",
     "text": [
      "[100]\tcv_agg's valid binary_logloss: 0.933634 + 0.358021\n",
      "Early stopping, best iteration is:\n",
      "[1]\tcv_agg's valid binary_logloss: 0.933634 + 0.358021\n",
      "Training until validation scores don't improve for 100 rounds\n",
      "[100]\tcv_agg's valid binary_logloss: 0.933634 + 0.358021\n",
      "Early stopping, best iteration is:\n",
      "[1]\tcv_agg's valid binary_logloss: 0.933634 + 0.358021\n",
      "Training until validation scores don't improve for 100 rounds\n",
      "[100]\tcv_agg's valid binary_logloss: 0.933634 + 0.358021\n",
      "Early stopping, best iteration is:\n",
      "[1]\tcv_agg's valid binary_logloss: 0.933634 + 0.358021\n",
      "Training until validation scores don't improve for 100 rounds\n",
      "[100]\tcv_agg's valid binary_logloss: 0.933634 + 0.358021"
     ]
    },
    {
     "name": "stderr",
     "output_type": "stream",
     "text": [
      "feature_fraction, val_score: 0.933634: 100%|##########| 7/7 [00:00<00:00, 16.13it/s]\n"
     ]
    },
    {
     "name": "stdout",
     "output_type": "stream",
     "text": [
      "\n",
      "Early stopping, best iteration is:\n",
      "[1]\tcv_agg's valid binary_logloss: 0.933634 + 0.358021\n"
     ]
    },
    {
     "name": "stderr",
     "output_type": "stream",
     "text": [
      "num_leaves, val_score: 0.933634:  10%|#         | 2/20 [00:00<00:01, 14.31it/s]"
     ]
    },
    {
     "name": "stdout",
     "output_type": "stream",
     "text": [
      "Training until validation scores don't improve for 100 rounds\n",
      "[100]\tcv_agg's valid binary_logloss: 0.933634 + 0.358021\n",
      "Early stopping, best iteration is:\n",
      "[1]\tcv_agg's valid binary_logloss: 0.933634 + 0.358021\n",
      "Training until validation scores don't improve for 100 rounds\n",
      "[100]\tcv_agg's valid binary_logloss: 0.933634 + 0.358021\n",
      "Early stopping, best iteration is:\n",
      "[1]\tcv_agg's valid binary_logloss: 0.933634 + 0.358021\n",
      "Training until validation scores don't improve for 100 rounds\n",
      "[100]\tcv_agg's valid binary_logloss: 0.933634 + 0.358021"
     ]
    },
    {
     "name": "stderr",
     "output_type": "stream",
     "text": [
      "num_leaves, val_score: 0.933634:  25%|##5       | 5/20 [00:00<00:01, 13.31it/s]"
     ]
    },
    {
     "name": "stdout",
     "output_type": "stream",
     "text": [
      "\n",
      "Early stopping, best iteration is:\n",
      "[1]\tcv_agg's valid binary_logloss: 0.933634 + 0.358021\n",
      "Training until validation scores don't improve for 100 rounds\n",
      "[100]\tcv_agg's valid binary_logloss: 0.933634 + 0.358021\n",
      "Early stopping, best iteration is:\n",
      "[1]\tcv_agg's valid binary_logloss: 0.933634 + 0.358021\n",
      "Training until validation scores don't improve for 100 rounds\n",
      "[100]\tcv_agg's valid binary_logloss: 0.933634 + 0.358021\n",
      "Early stopping, best iteration is:\n",
      "[1]\tcv_agg's valid binary_logloss: 0.933634 + 0.358021\n",
      "Training until validation scores don't improve for 100 rounds\n"
     ]
    },
    {
     "name": "stderr",
     "output_type": "stream",
     "text": [
      "num_leaves, val_score: 0.933634:  40%|####      | 8/20 [00:00<00:00, 13.33it/s]"
     ]
    },
    {
     "name": "stdout",
     "output_type": "stream",
     "text": [
      "[100]\tcv_agg's valid binary_logloss: 0.933634 + 0.358021\n",
      "Early stopping, best iteration is:\n",
      "[1]\tcv_agg's valid binary_logloss: 0.933634 + 0.358021\n",
      "Training until validation scores don't improve for 100 rounds\n",
      "[100]\tcv_agg's valid binary_logloss: 0.933634 + 0.358021\n",
      "Early stopping, best iteration is:\n",
      "[1]\tcv_agg's valid binary_logloss: 0.933634 + 0.358021\n",
      "Training until validation scores don't improve for 100 rounds\n",
      "[100]\tcv_agg's valid binary_logloss: 0.933634 + 0.358021\n",
      "Early stopping, best iteration is:\n",
      "[1]\tcv_agg's valid binary_logloss: 0.933634 + 0.358021\n",
      "Training until validation scores don't improve for 100 rounds\n"
     ]
    },
    {
     "name": "stderr",
     "output_type": "stream",
     "text": [
      "num_leaves, val_score: 0.933634:  55%|#####5    | 11/20 [00:00<00:00, 13.21it/s]"
     ]
    },
    {
     "name": "stdout",
     "output_type": "stream",
     "text": [
      "[100]\tcv_agg's valid binary_logloss: 0.933634 + 0.358021\n",
      "Early stopping, best iteration is:\n",
      "[1]\tcv_agg's valid binary_logloss: 0.933634 + 0.358021\n",
      "Training until validation scores don't improve for 100 rounds\n",
      "[100]\tcv_agg's valid binary_logloss: 0.933634 + 0.358021\n",
      "Early stopping, best iteration is:\n",
      "[1]\tcv_agg's valid binary_logloss: 0.933634 + 0.358021\n",
      "Training until validation scores don't improve for 100 rounds\n",
      "[100]\tcv_agg's valid binary_logloss: 0.933634 + 0.358021\n",
      "Early stopping, best iteration is:\n",
      "[1]\tcv_agg's valid binary_logloss: 0.933634 + 0.358021\n",
      "Training until validation scores don't improve for 100 rounds\n"
     ]
    },
    {
     "name": "stderr",
     "output_type": "stream",
     "text": [
      "num_leaves, val_score: 0.933634:  70%|#######   | 14/20 [00:01<00:00, 13.90it/s]"
     ]
    },
    {
     "name": "stdout",
     "output_type": "stream",
     "text": [
      "[100]\tcv_agg's valid binary_logloss: 0.933634 + 0.358021\n",
      "Early stopping, best iteration is:\n",
      "[1]\tcv_agg's valid binary_logloss: 0.933634 + 0.358021\n",
      "Training until validation scores don't improve for 100 rounds\n",
      "[100]\tcv_agg's valid binary_logloss: 0.933634 + 0.358021\n",
      "Early stopping, best iteration is:\n",
      "[1]\tcv_agg's valid binary_logloss: 0.933634 + 0.358021\n",
      "Training until validation scores don't improve for 100 rounds\n",
      "[100]\tcv_agg's valid binary_logloss: 0.933634 + 0.358021\n",
      "Early stopping, best iteration is:\n",
      "[1]\tcv_agg's valid binary_logloss: 0.933634 + 0.358021\n",
      "Training until validation scores don't improve for 100 rounds\n"
     ]
    },
    {
     "name": "stderr",
     "output_type": "stream",
     "text": [
      "num_leaves, val_score: 0.933634:  85%|########5 | 17/20 [00:01<00:00, 13.77it/s]"
     ]
    },
    {
     "name": "stdout",
     "output_type": "stream",
     "text": [
      "[100]\tcv_agg's valid binary_logloss: 0.933634 + 0.358021\n",
      "Early stopping, best iteration is:\n",
      "[1]\tcv_agg's valid binary_logloss: 0.933634 + 0.358021\n",
      "Training until validation scores don't improve for 100 rounds\n",
      "[100]\tcv_agg's valid binary_logloss: 0.933634 + 0.358021\n",
      "Early stopping, best iteration is:\n",
      "[1]\tcv_agg's valid binary_logloss: 0.933634 + 0.358021\n",
      "Training until validation scores don't improve for 100 rounds\n",
      "[100]\tcv_agg's valid binary_logloss: 0.933634 + 0.358021\n",
      "Early stopping, best iteration is:\n",
      "[1]\tcv_agg's valid binary_logloss: 0.933634 + 0.358021\n",
      "Training until validation scores don't improve for 100 rounds\n"
     ]
    },
    {
     "name": "stderr",
     "output_type": "stream",
     "text": [
      "num_leaves, val_score: 0.933634: 100%|##########| 20/20 [00:01<00:00, 13.65it/s]\n"
     ]
    },
    {
     "name": "stdout",
     "output_type": "stream",
     "text": [
      "[100]\tcv_agg's valid binary_logloss: 0.933634 + 0.358021\n",
      "Early stopping, best iteration is:\n",
      "[1]\tcv_agg's valid binary_logloss: 0.933634 + 0.358021\n",
      "Training until validation scores don't improve for 100 rounds\n",
      "[100]\tcv_agg's valid binary_logloss: 0.933634 + 0.358021\n",
      "Early stopping, best iteration is:\n",
      "[1]\tcv_agg's valid binary_logloss: 0.933634 + 0.358021\n",
      "Training until validation scores don't improve for 100 rounds\n",
      "[100]\tcv_agg's valid binary_logloss: 0.933634 + 0.358021\n",
      "Early stopping, best iteration is:\n",
      "[1]\tcv_agg's valid binary_logloss: 0.933634 + 0.358021\n"
     ]
    },
    {
     "name": "stderr",
     "output_type": "stream",
     "text": [
      "bagging, val_score: 0.933634:   0%|          | 0/10 [00:00<?, ?it/s]"
     ]
    },
    {
     "name": "stdout",
     "output_type": "stream",
     "text": [
      "Training until validation scores don't improve for 100 rounds\n"
     ]
    },
    {
     "name": "stderr",
     "output_type": "stream",
     "text": [
      "bagging, val_score: 0.933634:  20%|##        | 2/10 [00:00<00:00,  9.93it/s]"
     ]
    },
    {
     "name": "stdout",
     "output_type": "stream",
     "text": [
      "[100]\tcv_agg's valid binary_logloss: 0.933634 + 0.358021\n",
      "Early stopping, best iteration is:\n",
      "[1]\tcv_agg's valid binary_logloss: 0.933634 + 0.358021\n",
      "Training until validation scores don't improve for 100 rounds\n",
      "[100]\tcv_agg's valid binary_logloss: 0.933634 + 0.358021\n",
      "Early stopping, best iteration is:\n",
      "[1]\tcv_agg's valid binary_logloss: 0.933634 + 0.358021\n",
      "Training until validation scores don't improve for 100 rounds\n"
     ]
    },
    {
     "name": "stderr",
     "output_type": "stream",
     "text": [
      "bagging, val_score: 0.933634:  30%|###       | 3/10 [00:00<00:00, 11.38it/s]"
     ]
    },
    {
     "name": "stdout",
     "output_type": "stream",
     "text": [
      "[100]\tcv_agg's valid binary_logloss: 0.933634 + 0.358021\n",
      "Early stopping, best iteration is:\n",
      "[1]\tcv_agg's valid binary_logloss: 0.933634 + 0.358021\n"
     ]
    },
    {
     "name": "stderr",
     "output_type": "stream",
     "text": [
      "bagging, val_score: 0.933634:  50%|#####     | 5/10 [00:00<00:00, 11.50it/s]"
     ]
    },
    {
     "name": "stdout",
     "output_type": "stream",
     "text": [
      "Training until validation scores don't improve for 100 rounds\n",
      "[100]\tcv_agg's valid binary_logloss: 0.933634 + 0.358021\n",
      "Early stopping, best iteration is:\n",
      "[1]\tcv_agg's valid binary_logloss: 0.933634 + 0.358021\n",
      "Training until validation scores don't improve for 100 rounds\n",
      "[100]\tcv_agg's valid binary_logloss: 0.933634 + 0.358021\n",
      "Early stopping, best iteration is:\n",
      "[1]\tcv_agg's valid binary_logloss: 0.933634 + 0.358021\n",
      "Training until validation scores don't improve for 100 rounds\n"
     ]
    },
    {
     "name": "stderr",
     "output_type": "stream",
     "text": [
      "bagging, val_score: 0.933634:  70%|#######   | 7/10 [00:00<00:00, 11.61it/s]"
     ]
    },
    {
     "name": "stdout",
     "output_type": "stream",
     "text": [
      "[100]\tcv_agg's valid binary_logloss: 0.933634 + 0.358021\n",
      "Early stopping, best iteration is:\n",
      "[1]\tcv_agg's valid binary_logloss: 0.933634 + 0.358021\n",
      "Training until validation scores don't improve for 100 rounds\n",
      "[100]\tcv_agg's valid binary_logloss: 0.933634 + 0.358021\n",
      "Early stopping, best iteration is:\n",
      "[1]\tcv_agg's valid binary_logloss: 0.933634 + 0.358021\n",
      "Training until validation scores don't improve for 100 rounds\n"
     ]
    },
    {
     "name": "stderr",
     "output_type": "stream",
     "text": [
      "bagging, val_score: 0.933634:  80%|########  | 8/10 [00:00<00:00, 11.61it/s]"
     ]
    },
    {
     "name": "stdout",
     "output_type": "stream",
     "text": [
      "[100]\tcv_agg's valid binary_logloss: 0.933634 + 0.358021\n",
      "Early stopping, best iteration is:\n",
      "[1]\tcv_agg's valid binary_logloss: 0.933634 + 0.358021\n"
     ]
    },
    {
     "name": "stderr",
     "output_type": "stream",
     "text": [
      "bagging, val_score: 0.933634:  90%|######### | 9/10 [00:00<00:00, 11.46it/s]"
     ]
    },
    {
     "name": "stdout",
     "output_type": "stream",
     "text": [
      "Training until validation scores don't improve for 100 rounds\n",
      "[100]\tcv_agg's valid binary_logloss: 0.933634 + 0.358021\n",
      "Early stopping, best iteration is:\n",
      "[1]\tcv_agg's valid binary_logloss: 0.933634 + 0.358021\n",
      "Training until validation scores don't improve for 100 rounds\n",
      "[100]\tcv_agg's valid binary_logloss: 0.933634 + 0.358021\n",
      "Early stopping, best iteration is:\n",
      "[1]\tcv_agg's valid binary_logloss: 0.933634 + 0.358021\n"
     ]
    },
    {
     "name": "stderr",
     "output_type": "stream",
     "text": [
      "bagging, val_score: 0.933634: 100%|##########| 10/10 [00:00<00:00, 11.08it/s]\n",
      "feature_fraction_stage2, val_score: 0.933634:  67%|######6   | 2/3 [00:00<00:00, 14.54it/s]"
     ]
    },
    {
     "name": "stdout",
     "output_type": "stream",
     "text": [
      "Training until validation scores don't improve for 100 rounds\n",
      "[100]\tcv_agg's valid binary_logloss: 0.933634 + 0.358021\n",
      "Early stopping, best iteration is:\n",
      "[1]\tcv_agg's valid binary_logloss: 0.933634 + 0.358021\n",
      "Training until validation scores don't improve for 100 rounds\n",
      "[100]\tcv_agg's valid binary_logloss: 0.933634 + 0.358021\n",
      "Early stopping, best iteration is:\n",
      "[1]\tcv_agg's valid binary_logloss: 0.933634 + 0.358021\n",
      "Training until validation scores don't improve for 100 rounds\n",
      "[100]\tcv_agg's valid binary_logloss: 0.933634 + 0.358021\n",
      "Early stopping, best iteration is:\n",
      "[1]\tcv_agg's valid binary_logloss: 0.933634 + 0.358021\n"
     ]
    },
    {
     "name": "stderr",
     "output_type": "stream",
     "text": [
      "feature_fraction_stage2, val_score: 0.933634: 100%|##########| 3/3 [00:00<00:00, 14.68it/s]\n",
      "regularization_factors, val_score: 0.933634:  10%|#         | 2/20 [00:00<00:01, 14.16it/s]"
     ]
    },
    {
     "name": "stdout",
     "output_type": "stream",
     "text": [
      "Training until validation scores don't improve for 100 rounds\n",
      "[100]\tcv_agg's valid binary_logloss: 0.933634 + 0.358021\n",
      "Early stopping, best iteration is:\n",
      "[1]\tcv_agg's valid binary_logloss: 0.933634 + 0.358021\n",
      "Training until validation scores don't improve for 100 rounds\n",
      "[100]\tcv_agg's valid binary_logloss: 0.933634 + 0.358021\n",
      "Early stopping, best iteration is:\n",
      "[1]\tcv_agg's valid binary_logloss: 0.933634 + 0.358021\n",
      "Training until validation scores don't improve for 100 rounds\n",
      "[100]\tcv_agg's valid binary_logloss: 0.933634 + 0.358021\n",
      "Early stopping, best iteration is:\n",
      "[1]\tcv_agg's valid binary_logloss: 0.933634 + 0.358021\n"
     ]
    },
    {
     "name": "stderr",
     "output_type": "stream",
     "text": [
      "regularization_factors, val_score: 0.933634:  25%|##5       | 5/20 [00:00<00:01, 14.12it/s]"
     ]
    },
    {
     "name": "stdout",
     "output_type": "stream",
     "text": [
      "Training until validation scores don't improve for 100 rounds\n",
      "[100]\tcv_agg's valid binary_logloss: 0.933634 + 0.358021\n",
      "Early stopping, best iteration is:\n",
      "[1]\tcv_agg's valid binary_logloss: 0.933634 + 0.358021\n",
      "Training until validation scores don't improve for 100 rounds\n",
      "[100]\tcv_agg's valid binary_logloss: 0.933634 + 0.358021\n",
      "Early stopping, best iteration is:\n",
      "[1]\tcv_agg's valid binary_logloss: 0.933634 + 0.358021\n",
      "Training until validation scores don't improve for 100 rounds\n",
      "[100]\tcv_agg's valid binary_logloss: 0.933634 + 0.358021\n",
      "Early stopping, best iteration is:\n",
      "[1]\tcv_agg's valid binary_logloss: 0.933634 + 0.358021\n"
     ]
    },
    {
     "name": "stderr",
     "output_type": "stream",
     "text": [
      "regularization_factors, val_score: 0.933634:  40%|####      | 8/20 [00:00<00:00, 13.61it/s]"
     ]
    },
    {
     "name": "stdout",
     "output_type": "stream",
     "text": [
      "Training until validation scores don't improve for 100 rounds\n",
      "[100]\tcv_agg's valid binary_logloss: 0.933634 + 0.358021\n",
      "Early stopping, best iteration is:\n",
      "[1]\tcv_agg's valid binary_logloss: 0.933634 + 0.358021\n",
      "Training until validation scores don't improve for 100 rounds\n",
      "[100]\tcv_agg's valid binary_logloss: 0.933634 + 0.358021\n",
      "Early stopping, best iteration is:\n",
      "[1]\tcv_agg's valid binary_logloss: 0.933634 + 0.358021\n",
      "Training until validation scores don't improve for 100 rounds\n",
      "[100]\tcv_agg's valid binary_logloss: 0.933634 + 0.358021\n",
      "Early stopping, best iteration is:\n",
      "[1]\tcv_agg's valid binary_logloss: 0.933634 + 0.358021\n"
     ]
    },
    {
     "name": "stderr",
     "output_type": "stream",
     "text": [
      "regularization_factors, val_score: 0.933634:  55%|#####5    | 11/20 [00:00<00:00, 13.43it/s]"
     ]
    },
    {
     "name": "stdout",
     "output_type": "stream",
     "text": [
      "Training until validation scores don't improve for 100 rounds\n",
      "[100]\tcv_agg's valid binary_logloss: 0.933634 + 0.358021\n",
      "Early stopping, best iteration is:\n",
      "[1]\tcv_agg's valid binary_logloss: 0.933634 + 0.358021\n",
      "Training until validation scores don't improve for 100 rounds\n",
      "[100]\tcv_agg's valid binary_logloss: 0.933634 + 0.358021\n",
      "Early stopping, best iteration is:\n",
      "[1]\tcv_agg's valid binary_logloss: 0.933634 + 0.358021\n",
      "Training until validation scores don't improve for 100 rounds\n"
     ]
    },
    {
     "name": "stderr",
     "output_type": "stream",
     "text": [
      "regularization_factors, val_score: 0.933634:  70%|#######   | 14/20 [00:01<00:00, 13.32it/s]"
     ]
    },
    {
     "name": "stdout",
     "output_type": "stream",
     "text": [
      "[100]\tcv_agg's valid binary_logloss: 0.933634 + 0.358021\n",
      "Early stopping, best iteration is:\n",
      "[1]\tcv_agg's valid binary_logloss: 0.933634 + 0.358021\n",
      "Training until validation scores don't improve for 100 rounds\n",
      "[100]\tcv_agg's valid binary_logloss: 0.933634 + 0.358021\n",
      "Early stopping, best iteration is:\n",
      "[1]\tcv_agg's valid binary_logloss: 0.933634 + 0.358021\n",
      "Training until validation scores don't improve for 100 rounds\n",
      "[100]\tcv_agg's valid binary_logloss: 0.933634 + 0.358021\n",
      "Early stopping, best iteration is:\n",
      "[1]\tcv_agg's valid binary_logloss: 0.933634 + 0.358021\n",
      "Training until validation scores don't improve for 100 rounds\n"
     ]
    },
    {
     "name": "stderr",
     "output_type": "stream",
     "text": [
      "regularization_factors, val_score: 0.933634:  85%|########5 | 17/20 [00:01<00:00, 13.66it/s]"
     ]
    },
    {
     "name": "stdout",
     "output_type": "stream",
     "text": [
      "[100]\tcv_agg's valid binary_logloss: 0.933634 + 0.358021\n",
      "Early stopping, best iteration is:\n",
      "[1]\tcv_agg's valid binary_logloss: 0.933634 + 0.358021\n",
      "Training until validation scores don't improve for 100 rounds\n",
      "[100]\tcv_agg's valid binary_logloss: 0.933634 + 0.358021\n",
      "Early stopping, best iteration is:\n",
      "[1]\tcv_agg's valid binary_logloss: 0.933634 + 0.358021\n",
      "Training until validation scores don't improve for 100 rounds\n",
      "[100]\tcv_agg's valid binary_logloss: 0.933634 + 0.358021\n",
      "Early stopping, best iteration is:\n",
      "[1]\tcv_agg's valid binary_logloss: 0.933634 + 0.358021\n",
      "Training until validation scores don't improve for 100 rounds\n"
     ]
    },
    {
     "name": "stderr",
     "output_type": "stream",
     "text": [
      "regularization_factors, val_score: 0.933634: 100%|##########| 20/20 [00:01<00:00, 13.49it/s]\n"
     ]
    },
    {
     "name": "stdout",
     "output_type": "stream",
     "text": [
      "[100]\tcv_agg's valid binary_logloss: 0.933634 + 0.358021\n",
      "Early stopping, best iteration is:\n",
      "[1]\tcv_agg's valid binary_logloss: 0.933634 + 0.358021\n",
      "Training until validation scores don't improve for 100 rounds\n",
      "[100]\tcv_agg's valid binary_logloss: 0.933634 + 0.358021\n",
      "Early stopping, best iteration is:\n",
      "[1]\tcv_agg's valid binary_logloss: 0.933634 + 0.358021\n",
      "Training until validation scores don't improve for 100 rounds\n",
      "[100]\tcv_agg's valid binary_logloss: 0.933634 + 0.358021\n",
      "Early stopping, best iteration is:\n",
      "[1]\tcv_agg's valid binary_logloss: 0.933634 + 0.358021\n"
     ]
    },
    {
     "name": "stderr",
     "output_type": "stream",
     "text": [
      "min_child_samples, val_score: 0.933634:  40%|####      | 2/5 [00:00<00:00, 15.85it/s]"
     ]
    },
    {
     "name": "stdout",
     "output_type": "stream",
     "text": [
      "Training until validation scores don't improve for 100 rounds\n",
      "[100]\tcv_agg's valid binary_logloss: 0.933634 + 0.358021\n",
      "Early stopping, best iteration is:\n",
      "[1]\tcv_agg's valid binary_logloss: 0.933634 + 0.358021\n",
      "Training until validation scores don't improve for 100 rounds\n",
      "[100]\tcv_agg's valid binary_logloss: 0.933634 + 0.358021\n",
      "Early stopping, best iteration is:\n",
      "[1]\tcv_agg's valid binary_logloss: 0.933634 + 0.358021\n",
      "Training until validation scores don't improve for 100 rounds\n"
     ]
    },
    {
     "name": "stderr",
     "output_type": "stream",
     "text": [
      "min_child_samples, val_score: 0.752173: 100%|##########| 5/5 [00:00<00:00, 11.79it/s]"
     ]
    },
    {
     "name": "stdout",
     "output_type": "stream",
     "text": [
      "[100]\tcv_agg's valid binary_logloss: 2.88006 + 1.44923\n",
      "Early stopping, best iteration is:\n",
      "[10]\tcv_agg's valid binary_logloss: 0.77486 + 0.239088\n",
      "Training until validation scores don't improve for 100 rounds\n",
      "[100]\tcv_agg's valid binary_logloss: 0.916574 + 0.301084\n",
      "Early stopping, best iteration is:\n",
      "[22]\tcv_agg's valid binary_logloss: 0.752173 + 0.229229\n",
      "Training until validation scores don't improve for 100 rounds\n",
      "[100]\tcv_agg's valid binary_logloss: 0.933634 + 0.358021\n",
      "Early stopping, best iteration is:\n",
      "[1]\tcv_agg's valid binary_logloss: 0.933634 + 0.358021\n"
     ]
    },
    {
     "name": "stderr",
     "output_type": "stream",
     "text": [
      "\n"
     ]
    },
    {
     "name": "stdout",
     "output_type": "stream",
     "text": [
      "{'accuracy': 0.6666666666666666, 'balanced_accuracy': np.float64(0.6625), 'f1': np.float64(0.625), 'precision': np.float64(0.625), 'recall': np.float64(0.625), 'specificity': np.float64(0.7), 'ROC_AUC': np.float64(0.6625), 'MCC': np.float64(0.325)}\n"
     ]
    },
    {
     "name": "stderr",
     "output_type": "stream",
     "text": [
      "feature_fraction, val_score: 0.971773:  29%|##8       | 2/7 [00:00<00:00, 15.69it/s]"
     ]
    },
    {
     "name": "stdout",
     "output_type": "stream",
     "text": [
      "Training until validation scores don't improve for 100 rounds\n",
      "[100]\tcv_agg's valid binary_logloss: 0.971773 + 0.299887\n",
      "Early stopping, best iteration is:\n",
      "[1]\tcv_agg's valid binary_logloss: 0.971773 + 0.299887\n",
      "Training until validation scores don't improve for 100 rounds\n",
      "[100]\tcv_agg's valid binary_logloss: 0.971773 + 0.299887\n",
      "Early stopping, best iteration is:\n",
      "[1]\tcv_agg's valid binary_logloss: 0.971773 + 0.299887\n",
      "Training until validation scores don't improve for 100 rounds\n",
      "[100]\tcv_agg's valid binary_logloss: 0.971773 + 0.299887\n",
      "Early stopping, best iteration is:\n",
      "[1]\tcv_agg's valid binary_logloss: 0.971773 + 0.299887\n"
     ]
    },
    {
     "name": "stderr",
     "output_type": "stream",
     "text": [
      "feature_fraction, val_score: 0.971773:  86%|########5 | 6/7 [00:00<00:00, 15.90it/s]"
     ]
    },
    {
     "name": "stdout",
     "output_type": "stream",
     "text": [
      "Training until validation scores don't improve for 100 rounds\n",
      "[100]\tcv_agg's valid binary_logloss: 0.971773 + 0.299887\n",
      "Early stopping, best iteration is:\n",
      "[1]\tcv_agg's valid binary_logloss: 0.971773 + 0.299887\n",
      "Training until validation scores don't improve for 100 rounds\n",
      "[100]\tcv_agg's valid binary_logloss: 0.971773 + 0.299887\n",
      "Early stopping, best iteration is:\n",
      "[1]\tcv_agg's valid binary_logloss: 0.971773 + 0.299887\n",
      "Training until validation scores don't improve for 100 rounds\n",
      "[100]\tcv_agg's valid binary_logloss: 0.971773 + 0.299887\n",
      "Early stopping, best iteration is:\n",
      "[1]\tcv_agg's valid binary_logloss: 0.971773 + 0.299887\n"
     ]
    },
    {
     "name": "stderr",
     "output_type": "stream",
     "text": [
      "feature_fraction, val_score: 0.971773: 100%|##########| 7/7 [00:00<00:00, 10.00it/s]\n"
     ]
    },
    {
     "name": "stdout",
     "output_type": "stream",
     "text": [
      "Training until validation scores don't improve for 100 rounds\n",
      "[100]\tcv_agg's valid binary_logloss: 0.971773 + 0.299887\n",
      "Early stopping, best iteration is:\n",
      "[1]\tcv_agg's valid binary_logloss: 0.971773 + 0.299887\n"
     ]
    },
    {
     "name": "stderr",
     "output_type": "stream",
     "text": [
      "num_leaves, val_score: 0.971773:   5%|5         | 1/20 [00:00<00:01, 15.06it/s]"
     ]
    },
    {
     "name": "stdout",
     "output_type": "stream",
     "text": [
      "Training until validation scores don't improve for 100 rounds\n",
      "[100]\tcv_agg's valid binary_logloss: 0.971773 + 0.299887\n",
      "Early stopping, best iteration is:\n",
      "[1]\tcv_agg's valid binary_logloss: 0.971773 + 0.299887\n",
      "Training until validation scores don't improve for 100 rounds\n"
     ]
    },
    {
     "name": "stderr",
     "output_type": "stream",
     "text": [
      "num_leaves, val_score: 0.971773:  10%|#         | 2/20 [00:00<00:01, 15.82it/s]"
     ]
    },
    {
     "name": "stdout",
     "output_type": "stream",
     "text": [
      "[100]\tcv_agg's valid binary_logloss: 0.971773 + 0.299887\n",
      "Early stopping, best iteration is:\n",
      "[1]\tcv_agg's valid binary_logloss: 0.971773 + 0.299887\n",
      "Training until validation scores don't improve for 100 rounds\n",
      "[100]\tcv_agg's valid binary_logloss: 0.971773 + 0.299887\n",
      "Early stopping, best iteration is:\n",
      "[1]\tcv_agg's valid binary_logloss: 0.971773 + 0.299887\n"
     ]
    },
    {
     "name": "stderr",
     "output_type": "stream",
     "text": [
      "num_leaves, val_score: 0.971773:  20%|##        | 4/20 [00:00<00:01, 14.42it/s]"
     ]
    },
    {
     "name": "stdout",
     "output_type": "stream",
     "text": [
      "Training until validation scores don't improve for 100 rounds\n",
      "[100]\tcv_agg's valid binary_logloss: 0.971773 + 0.299887\n",
      "Early stopping, best iteration is:\n",
      "[1]\tcv_agg's valid binary_logloss: 0.971773 + 0.299887\n",
      "Training until validation scores don't improve for 100 rounds\n"
     ]
    },
    {
     "name": "stderr",
     "output_type": "stream",
     "text": [
      "num_leaves, val_score: 0.971773:  25%|##5       | 5/20 [00:00<00:01, 14.42it/s]"
     ]
    },
    {
     "name": "stdout",
     "output_type": "stream",
     "text": [
      "[100]\tcv_agg's valid binary_logloss: 0.971773 + 0.299887\n",
      "Early stopping, best iteration is:\n",
      "[1]\tcv_agg's valid binary_logloss: 0.971773 + 0.299887\n",
      "Training until validation scores don't improve for 100 rounds\n"
     ]
    },
    {
     "name": "stderr",
     "output_type": "stream",
     "text": [
      "num_leaves, val_score: 0.971773:  35%|###5      | 7/20 [00:00<00:00, 13.76it/s]"
     ]
    },
    {
     "name": "stdout",
     "output_type": "stream",
     "text": [
      "[100]\tcv_agg's valid binary_logloss: 0.971773 + 0.299887\n",
      "Early stopping, best iteration is:\n",
      "[1]\tcv_agg's valid binary_logloss: 0.971773 + 0.299887\n",
      "Training until validation scores don't improve for 100 rounds\n",
      "[100]\tcv_agg's valid binary_logloss: 0.971773 + 0.299887\n",
      "Early stopping, best iteration is:\n",
      "[1]\tcv_agg's valid binary_logloss: 0.971773 + 0.299887\n",
      "Training until validation scores don't improve for 100 rounds\n"
     ]
    },
    {
     "name": "stderr",
     "output_type": "stream",
     "text": [
      "num_leaves, val_score: 0.971773:  40%|####      | 8/20 [00:00<00:00, 12.68it/s]"
     ]
    },
    {
     "name": "stdout",
     "output_type": "stream",
     "text": [
      "[100]\tcv_agg's valid binary_logloss: 0.971773 + 0.299887\n",
      "Early stopping, best iteration is:\n",
      "[1]\tcv_agg's valid binary_logloss: 0.971773 + 0.299887\n"
     ]
    },
    {
     "name": "stderr",
     "output_type": "stream",
     "text": [
      "num_leaves, val_score: 0.971773:  45%|####5     | 9/20 [00:00<00:00, 12.68it/s]"
     ]
    },
    {
     "name": "stdout",
     "output_type": "stream",
     "text": [
      "Training until validation scores don't improve for 100 rounds\n",
      "[100]\tcv_agg's valid binary_logloss: 0.971773 + 0.299887\n",
      "Early stopping, best iteration is:\n",
      "[1]\tcv_agg's valid binary_logloss: 0.971773 + 0.299887\n",
      "Training until validation scores don't improve for 100 rounds\n",
      "[100]\tcv_agg's valid binary_logloss: 0.971773 + 0.299887\n",
      "Early stopping, best iteration is:\n",
      "[1]\tcv_agg's valid binary_logloss: 0.971773 + 0.299887\n"
     ]
    },
    {
     "name": "stderr",
     "output_type": "stream",
     "text": [
      "num_leaves, val_score: 0.971773:  50%|#####     | 10/20 [00:00<00:00, 11.83it/s]"
     ]
    },
    {
     "name": "stdout",
     "output_type": "stream",
     "text": [
      "Training until validation scores don't improve for 100 rounds\n"
     ]
    },
    {
     "name": "stderr",
     "output_type": "stream",
     "text": [
      "num_leaves, val_score: 0.971773:  60%|######    | 12/20 [00:00<00:00, 11.40it/s]"
     ]
    },
    {
     "name": "stdout",
     "output_type": "stream",
     "text": [
      "[100]\tcv_agg's valid binary_logloss: 0.971773 + 0.299887\n",
      "Early stopping, best iteration is:\n",
      "[1]\tcv_agg's valid binary_logloss: 0.971773 + 0.299887\n",
      "Training until validation scores don't improve for 100 rounds\n",
      "[100]\tcv_agg's valid binary_logloss: 0.971773 + 0.299887\n",
      "Early stopping, best iteration is:\n",
      "[1]\tcv_agg's valid binary_logloss: 0.971773 + 0.299887\n",
      "Training until validation scores don't improve for 100 rounds\n"
     ]
    },
    {
     "name": "stderr",
     "output_type": "stream",
     "text": [
      "num_leaves, val_score: 0.971773:  65%|######5   | 13/20 [00:01<00:00, 11.40it/s]"
     ]
    },
    {
     "name": "stdout",
     "output_type": "stream",
     "text": [
      "[100]\tcv_agg's valid binary_logloss: 0.971773 + 0.299887\n",
      "Early stopping, best iteration is:\n",
      "[1]\tcv_agg's valid binary_logloss: 0.971773 + 0.299887\n",
      "Training until validation scores don't improve for 100 rounds\n"
     ]
    },
    {
     "name": "stderr",
     "output_type": "stream",
     "text": [
      "num_leaves, val_score: 0.971773:  75%|#######5  | 15/20 [00:01<00:00, 11.77it/s]"
     ]
    },
    {
     "name": "stdout",
     "output_type": "stream",
     "text": [
      "[100]\tcv_agg's valid binary_logloss: 0.971773 + 0.299887\n",
      "Early stopping, best iteration is:\n",
      "[1]\tcv_agg's valid binary_logloss: 0.971773 + 0.299887\n",
      "Training until validation scores don't improve for 100 rounds\n",
      "[100]\tcv_agg's valid binary_logloss: 0.971773 + 0.299887\n",
      "Early stopping, best iteration is:\n",
      "[1]\tcv_agg's valid binary_logloss: 0.971773 + 0.299887\n",
      "Training until validation scores don't improve for 100 rounds\n"
     ]
    },
    {
     "name": "stderr",
     "output_type": "stream",
     "text": [
      "num_leaves, val_score: 0.971773:  80%|########  | 16/20 [00:01<00:00, 12.17it/s]"
     ]
    },
    {
     "name": "stdout",
     "output_type": "stream",
     "text": [
      "[100]\tcv_agg's valid binary_logloss: 0.971773 + 0.299887\n",
      "Early stopping, best iteration is:\n",
      "[1]\tcv_agg's valid binary_logloss: 0.971773 + 0.299887\n",
      "Training until validation scores don't improve for 100 rounds\n"
     ]
    },
    {
     "name": "stderr",
     "output_type": "stream",
     "text": [
      "num_leaves, val_score: 0.971773:  90%|######### | 18/20 [00:01<00:00, 12.36it/s]"
     ]
    },
    {
     "name": "stdout",
     "output_type": "stream",
     "text": [
      "[100]\tcv_agg's valid binary_logloss: 0.971773 + 0.299887\n",
      "Early stopping, best iteration is:\n",
      "[1]\tcv_agg's valid binary_logloss: 0.971773 + 0.299887\n",
      "Training until validation scores don't improve for 100 rounds\n",
      "[100]\tcv_agg's valid binary_logloss: 0.971773 + 0.299887\n",
      "Early stopping, best iteration is:\n",
      "[1]\tcv_agg's valid binary_logloss: 0.971773 + 0.299887\n",
      "Training until validation scores don't improve for 100 rounds\n",
      "[100]\tcv_agg's valid binary_logloss: 0.971773 + 0.299887"
     ]
    },
    {
     "name": "stderr",
     "output_type": "stream",
     "text": [
      "num_leaves, val_score: 0.971773: 100%|##########| 20/20 [00:01<00:00, 12.29it/s]\n"
     ]
    },
    {
     "name": "stdout",
     "output_type": "stream",
     "text": [
      "\n",
      "Early stopping, best iteration is:\n",
      "[1]\tcv_agg's valid binary_logloss: 0.971773 + 0.299887\n",
      "Training until validation scores don't improve for 100 rounds\n",
      "[100]\tcv_agg's valid binary_logloss: 0.971773 + 0.299887\n",
      "Early stopping, best iteration is:\n",
      "[1]\tcv_agg's valid binary_logloss: 0.971773 + 0.299887\n"
     ]
    },
    {
     "name": "stderr",
     "output_type": "stream",
     "text": [
      "bagging, val_score: 0.971773:   0%|          | 0/10 [00:00<?, ?it/s]"
     ]
    },
    {
     "name": "stdout",
     "output_type": "stream",
     "text": [
      "Training until validation scores don't improve for 100 rounds\n",
      "[100]\tcv_agg's valid binary_logloss: 0.971773 + 0.299887\n",
      "Early stopping, best iteration is:\n",
      "[1]\tcv_agg's valid binary_logloss: 0.971773 + 0.299887\n"
     ]
    },
    {
     "name": "stderr",
     "output_type": "stream",
     "text": [
      "bagging, val_score: 0.971773:  10%|#         | 1/10 [00:00<00:00,  9.12it/s]"
     ]
    },
    {
     "name": "stdout",
     "output_type": "stream",
     "text": [
      "Training until validation scores don't improve for 100 rounds\n"
     ]
    },
    {
     "name": "stderr",
     "output_type": "stream",
     "text": [
      "bagging, val_score: 0.971773:  30%|###       | 3/10 [00:00<00:00,  7.21it/s]"
     ]
    },
    {
     "name": "stdout",
     "output_type": "stream",
     "text": [
      "[100]\tcv_agg's valid binary_logloss: 0.971773 + 0.299887\n",
      "Early stopping, best iteration is:\n",
      "[1]\tcv_agg's valid binary_logloss: 0.971773 + 0.299887\n",
      "Training until validation scores don't improve for 100 rounds\n",
      "[100]\tcv_agg's valid binary_logloss: 0.971773 + 0.299887\n",
      "Early stopping, best iteration is:\n",
      "[1]\tcv_agg's valid binary_logloss: 0.971773 + 0.299887\n",
      "Training until validation scores don't improve for 100 rounds\n"
     ]
    },
    {
     "name": "stderr",
     "output_type": "stream",
     "text": [
      "bagging, val_score: 0.971773:  40%|####      | 4/10 [00:00<00:00,  9.50it/s]"
     ]
    },
    {
     "name": "stdout",
     "output_type": "stream",
     "text": [
      "[100]\tcv_agg's valid binary_logloss: 0.971773 + 0.299887\n",
      "Early stopping, best iteration is:\n",
      "[1]\tcv_agg's valid binary_logloss: 0.971773 + 0.299887\n"
     ]
    },
    {
     "name": "stderr",
     "output_type": "stream",
     "text": [
      "bagging, val_score: 0.971773:  60%|######    | 6/10 [00:00<00:00, 10.95it/s]"
     ]
    },
    {
     "name": "stdout",
     "output_type": "stream",
     "text": [
      "Training until validation scores don't improve for 100 rounds\n",
      "[100]\tcv_agg's valid binary_logloss: 0.971773 + 0.299887\n",
      "Early stopping, best iteration is:\n",
      "[1]\tcv_agg's valid binary_logloss: 0.971773 + 0.299887\n",
      "Training until validation scores don't improve for 100 rounds\n",
      "[100]\tcv_agg's valid binary_logloss: 0.971773 + 0.299887\n",
      "Early stopping, best iteration is:\n",
      "[1]\tcv_agg's valid binary_logloss: 0.971773 + 0.299887\n",
      "Training until validation scores don't improve for 100 rounds\n"
     ]
    },
    {
     "name": "stderr",
     "output_type": "stream",
     "text": [
      "bagging, val_score: 0.971773:  80%|########  | 8/10 [00:00<00:00, 10.44it/s]"
     ]
    },
    {
     "name": "stdout",
     "output_type": "stream",
     "text": [
      "[100]\tcv_agg's valid binary_logloss: 0.971773 + 0.299887\n",
      "Early stopping, best iteration is:\n",
      "[1]\tcv_agg's valid binary_logloss: 0.971773 + 0.299887\n",
      "Training until validation scores don't improve for 100 rounds\n",
      "[100]\tcv_agg's valid binary_logloss: 0.971773 + 0.299887\n",
      "Early stopping, best iteration is:\n",
      "[1]\tcv_agg's valid binary_logloss: 0.971773 + 0.299887\n",
      "Training until validation scores don't improve for 100 rounds\n"
     ]
    },
    {
     "name": "stderr",
     "output_type": "stream",
     "text": [
      "bagging, val_score: 0.971773: 100%|##########| 10/10 [00:01<00:00,  9.96it/s]\n"
     ]
    },
    {
     "name": "stdout",
     "output_type": "stream",
     "text": [
      "[100]\tcv_agg's valid binary_logloss: 0.971773 + 0.299887\n",
      "Early stopping, best iteration is:\n",
      "[1]\tcv_agg's valid binary_logloss: 0.971773 + 0.299887\n",
      "Training until validation scores don't improve for 100 rounds\n",
      "[100]\tcv_agg's valid binary_logloss: 0.971773 + 0.299887\n",
      "Early stopping, best iteration is:\n",
      "[1]\tcv_agg's valid binary_logloss: 0.971773 + 0.299887\n"
     ]
    },
    {
     "name": "stderr",
     "output_type": "stream",
     "text": [
      "feature_fraction_stage2, val_score: 0.971773:   0%|          | 0/3 [00:00<?, ?it/s]"
     ]
    },
    {
     "name": "stdout",
     "output_type": "stream",
     "text": [
      "Training until validation scores don't improve for 100 rounds\n",
      "[100]\tcv_agg's valid binary_logloss: 0.971773 + 0.299887\n",
      "Early stopping, best iteration is:\n",
      "[1]\tcv_agg's valid binary_logloss: 0.971773 + 0.299887\n"
     ]
    },
    {
     "name": "stderr",
     "output_type": "stream",
     "text": [
      "feature_fraction_stage2, val_score: 0.971773:  67%|######6   | 2/3 [00:00<00:00, 13.83it/s]"
     ]
    },
    {
     "name": "stdout",
     "output_type": "stream",
     "text": [
      "Training until validation scores don't improve for 100 rounds\n",
      "[100]\tcv_agg's valid binary_logloss: 0.971773 + 0.299887\n",
      "Early stopping, best iteration is:\n",
      "[1]\tcv_agg's valid binary_logloss: 0.971773 + 0.299887\n",
      "Training until validation scores don't improve for 100 rounds\n",
      "[100]\tcv_agg's valid binary_logloss: 0.971773 + 0.299887\n",
      "Early stopping, best iteration is:\n",
      "[1]\tcv_agg's valid binary_logloss: 0.971773 + 0.299887\n"
     ]
    },
    {
     "name": "stderr",
     "output_type": "stream",
     "text": [
      "feature_fraction_stage2, val_score: 0.971773: 100%|##########| 3/3 [00:00<00:00, 14.54it/s]\n",
      "regularization_factors, val_score: 0.971773:   0%|          | 0/20 [00:00<?, ?it/s]"
     ]
    },
    {
     "name": "stdout",
     "output_type": "stream",
     "text": [
      "Training until validation scores don't improve for 100 rounds\n"
     ]
    },
    {
     "name": "stderr",
     "output_type": "stream",
     "text": [
      "regularization_factors, val_score: 0.971773:  10%|#         | 2/20 [00:00<00:01, 11.18it/s]"
     ]
    },
    {
     "name": "stdout",
     "output_type": "stream",
     "text": [
      "[100]\tcv_agg's valid binary_logloss: 0.971773 + 0.299887\n",
      "Early stopping, best iteration is:\n",
      "[1]\tcv_agg's valid binary_logloss: 0.971773 + 0.299887\n",
      "Training until validation scores don't improve for 100 rounds\n",
      "[100]\tcv_agg's valid binary_logloss: 0.971773 + 0.299887\n",
      "Early stopping, best iteration is:\n",
      "[1]\tcv_agg's valid binary_logloss: 0.971773 + 0.299887\n",
      "Training until validation scores don't improve for 100 rounds\n"
     ]
    },
    {
     "name": "stderr",
     "output_type": "stream",
     "text": [
      "regularization_factors, val_score: 0.971773:  15%|#5        | 3/20 [00:00<00:01, 11.18it/s]"
     ]
    },
    {
     "name": "stdout",
     "output_type": "stream",
     "text": [
      "[100]\tcv_agg's valid binary_logloss: 0.971773 + 0.299887\n",
      "Early stopping, best iteration is:\n",
      "[1]\tcv_agg's valid binary_logloss: 0.971773 + 0.299887\n",
      "Training until validation scores don't improve for 100 rounds\n"
     ]
    },
    {
     "name": "stderr",
     "output_type": "stream",
     "text": [
      "regularization_factors, val_score: 0.971773:  20%|##        | 4/20 [00:00<00:01, 11.06it/s]"
     ]
    },
    {
     "name": "stdout",
     "output_type": "stream",
     "text": [
      "[100]\tcv_agg's valid binary_logloss: 0.971773 + 0.299887\n",
      "Early stopping, best iteration is:\n",
      "[1]\tcv_agg's valid binary_logloss: 0.971773 + 0.299887\n",
      "Training until validation scores don't improve for 100 rounds\n",
      "[100]\tcv_agg's valid binary_logloss: 0.971773 + 0.299887\n",
      "Early stopping, best iteration is:\n",
      "[1]\tcv_agg's valid binary_logloss: 0.971773 + 0.299887\n"
     ]
    },
    {
     "name": "stderr",
     "output_type": "stream",
     "text": [
      "regularization_factors, val_score: 0.971773:  30%|###       | 6/20 [00:00<00:01, 11.76it/s]"
     ]
    },
    {
     "name": "stdout",
     "output_type": "stream",
     "text": [
      "Training until validation scores don't improve for 100 rounds\n",
      "[100]\tcv_agg's valid binary_logloss: 0.971773 + 0.299887\n",
      "Early stopping, best iteration is:\n",
      "[1]\tcv_agg's valid binary_logloss: 0.971773 + 0.299887\n"
     ]
    },
    {
     "name": "stderr",
     "output_type": "stream",
     "text": [
      "regularization_factors, val_score: 0.971773:  35%|###5      | 7/20 [00:00<00:01, 11.76it/s]"
     ]
    },
    {
     "name": "stdout",
     "output_type": "stream",
     "text": [
      "Training until validation scores don't improve for 100 rounds\n",
      "[100]\tcv_agg's valid binary_logloss: 0.971773 + 0.299887\n",
      "Early stopping, best iteration is:\n",
      "[1]\tcv_agg's valid binary_logloss: 0.971773 + 0.299887\n",
      "Training until validation scores don't improve for 100 rounds\n"
     ]
    },
    {
     "name": "stderr",
     "output_type": "stream",
     "text": [
      "regularization_factors, val_score: 0.971773:  40%|####      | 8/20 [00:00<00:00, 12.24it/s]"
     ]
    },
    {
     "name": "stdout",
     "output_type": "stream",
     "text": [
      "[100]\tcv_agg's valid binary_logloss: 0.971773 + 0.299887\n",
      "Early stopping, best iteration is:\n",
      "[1]\tcv_agg's valid binary_logloss: 0.971773 + 0.299887\n",
      "Training until validation scores don't improve for 100 rounds\n"
     ]
    },
    {
     "name": "stderr",
     "output_type": "stream",
     "text": [
      "regularization_factors, val_score: 0.971773:  50%|#####     | 10/20 [00:00<00:00, 12.09it/s]"
     ]
    },
    {
     "name": "stdout",
     "output_type": "stream",
     "text": [
      "[100]\tcv_agg's valid binary_logloss: 0.971773 + 0.299887\n",
      "Early stopping, best iteration is:\n",
      "[1]\tcv_agg's valid binary_logloss: 0.971773 + 0.299887\n",
      "Training until validation scores don't improve for 100 rounds\n",
      "[100]\tcv_agg's valid binary_logloss: 0.971773 + 0.299887\n",
      "Early stopping, best iteration is:\n",
      "[1]\tcv_agg's valid binary_logloss: 0.971773 + 0.299887\n"
     ]
    },
    {
     "name": "stderr",
     "output_type": "stream",
     "text": [
      "regularization_factors, val_score: 0.971773:  55%|#####5    | 11/20 [00:00<00:00, 12.09it/s]"
     ]
    },
    {
     "name": "stdout",
     "output_type": "stream",
     "text": [
      "Training until validation scores don't improve for 100 rounds\n",
      "[100]\tcv_agg's valid binary_logloss: 0.971773 + 0.299887\n",
      "Early stopping, best iteration is:\n",
      "[1]\tcv_agg's valid binary_logloss: 0.971773 + 0.299887\n",
      "Training until validation scores don't improve for 100 rounds\n"
     ]
    },
    {
     "name": "stderr",
     "output_type": "stream",
     "text": [
      "regularization_factors, val_score: 0.971773:  60%|######    | 12/20 [00:01<00:00, 12.21it/s]"
     ]
    },
    {
     "name": "stdout",
     "output_type": "stream",
     "text": [
      "[100]\tcv_agg's valid binary_logloss: 0.971773 + 0.299887\n",
      "Early stopping, best iteration is:\n",
      "[1]\tcv_agg's valid binary_logloss: 0.971773 + 0.299887\n",
      "Training until validation scores don't improve for 100 rounds\n",
      "[100]\tcv_agg's valid binary_logloss: 0.971773 + 0.299887\n",
      "Early stopping, best iteration is:\n",
      "[1]\tcv_agg's valid binary_logloss: 0.971773 + 0.299887\n"
     ]
    },
    {
     "name": "stderr",
     "output_type": "stream",
     "text": [
      "regularization_factors, val_score: 0.971773:  70%|#######   | 14/20 [00:01<00:00, 12.21it/s]"
     ]
    },
    {
     "name": "stdout",
     "output_type": "stream",
     "text": [
      "Training until validation scores don't improve for 100 rounds\n",
      "[100]\tcv_agg's valid binary_logloss: 0.971773 + 0.299887\n",
      "Early stopping, best iteration is:\n",
      "[1]\tcv_agg's valid binary_logloss: 0.971773 + 0.299887\n"
     ]
    },
    {
     "name": "stderr",
     "output_type": "stream",
     "text": [
      "regularization_factors, val_score: 0.971773:  75%|#######5  | 15/20 [00:01<00:00, 12.21it/s]"
     ]
    },
    {
     "name": "stdout",
     "output_type": "stream",
     "text": [
      "Training until validation scores don't improve for 100 rounds\n",
      "[100]\tcv_agg's valid binary_logloss: 0.971773 + 0.299887\n",
      "Early stopping, best iteration is:\n",
      "[1]\tcv_agg's valid binary_logloss: 0.971773 + 0.299887\n",
      "Training until validation scores don't improve for 100 rounds\n"
     ]
    },
    {
     "name": "stderr",
     "output_type": "stream",
     "text": [
      "regularization_factors, val_score: 0.971773:  80%|########  | 16/20 [00:01<00:00, 11.98it/s]"
     ]
    },
    {
     "name": "stdout",
     "output_type": "stream",
     "text": [
      "[100]\tcv_agg's valid binary_logloss: 0.971773 + 0.299887\n",
      "Early stopping, best iteration is:\n",
      "[1]\tcv_agg's valid binary_logloss: 0.971773 + 0.299887\n",
      "Training until validation scores don't improve for 100 rounds\n"
     ]
    },
    {
     "name": "stderr",
     "output_type": "stream",
     "text": [
      "regularization_factors, val_score: 0.971773:  90%|######### | 18/20 [00:01<00:00, 11.95it/s]"
     ]
    },
    {
     "name": "stdout",
     "output_type": "stream",
     "text": [
      "[100]\tcv_agg's valid binary_logloss: 0.971773 + 0.299887\n",
      "Early stopping, best iteration is:\n",
      "[1]\tcv_agg's valid binary_logloss: 0.971773 + 0.299887\n",
      "Training until validation scores don't improve for 100 rounds\n",
      "[100]\tcv_agg's valid binary_logloss: 0.971773 + 0.299887\n",
      "Early stopping, best iteration is:\n",
      "[1]\tcv_agg's valid binary_logloss: 0.971773 + 0.299887\n"
     ]
    },
    {
     "name": "stderr",
     "output_type": "stream",
     "text": [
      "regularization_factors, val_score: 0.971773:  95%|#########5| 19/20 [00:01<00:00, 11.95it/s]"
     ]
    },
    {
     "name": "stdout",
     "output_type": "stream",
     "text": [
      "Training until validation scores don't improve for 100 rounds\n",
      "[100]\tcv_agg's valid binary_logloss: 0.971773 + 0.299887\n",
      "Early stopping, best iteration is:\n",
      "[1]\tcv_agg's valid binary_logloss: 0.971773 + 0.299887\n",
      "Training until validation scores don't improve for 100 rounds\n"
     ]
    },
    {
     "name": "stderr",
     "output_type": "stream",
     "text": [
      "regularization_factors, val_score: 0.971773: 100%|##########| 20/20 [00:01<00:00, 11.95it/s]\n"
     ]
    },
    {
     "name": "stdout",
     "output_type": "stream",
     "text": [
      "[100]\tcv_agg's valid binary_logloss: 0.971773 + 0.299887\n",
      "Early stopping, best iteration is:\n",
      "[1]\tcv_agg's valid binary_logloss: 0.971773 + 0.299887\n"
     ]
    },
    {
     "name": "stderr",
     "output_type": "stream",
     "text": [
      "min_child_samples, val_score: 0.971773:   0%|          | 0/5 [00:00<?, ?it/s]"
     ]
    },
    {
     "name": "stdout",
     "output_type": "stream",
     "text": [
      "Training until validation scores don't improve for 100 rounds\n"
     ]
    },
    {
     "name": "stderr",
     "output_type": "stream",
     "text": [
      "min_child_samples, val_score: 0.971773:  40%|####      | 2/5 [00:00<00:00, 13.27it/s]"
     ]
    },
    {
     "name": "stdout",
     "output_type": "stream",
     "text": [
      "[100]\tcv_agg's valid binary_logloss: 0.971773 + 0.299887\n",
      "Early stopping, best iteration is:\n",
      "[1]\tcv_agg's valid binary_logloss: 0.971773 + 0.299887\n",
      "Training until validation scores don't improve for 100 rounds\n",
      "[100]\tcv_agg's valid binary_logloss: 0.971773 + 0.299887\n",
      "Early stopping, best iteration is:\n",
      "[1]\tcv_agg's valid binary_logloss: 0.971773 + 0.299887\n",
      "Training until validation scores don't improve for 100 rounds\n"
     ]
    },
    {
     "name": "stderr",
     "output_type": "stream",
     "text": [
      "min_child_samples, val_score: 0.347855:  60%|######    | 3/5 [00:00<00:00, 13.27it/s]"
     ]
    },
    {
     "name": "stdout",
     "output_type": "stream",
     "text": [
      "[100]\tcv_agg's valid binary_logloss: 1.04814 + 1.02634\n",
      "Early stopping, best iteration is:\n",
      "[34]\tcv_agg's valid binary_logloss: 0.347855 + 0.243782\n",
      "Training until validation scores don't improve for 100 rounds\n",
      "[100]\tcv_agg's valid binary_logloss: 0.589251 + 0.333434\n",
      "Early stopping, best iteration is:\n",
      "[29]\tcv_agg's valid binary_logloss: 0.455112 + 0.203763\n"
     ]
    },
    {
     "name": "stderr",
     "output_type": "stream",
     "text": [
      "min_child_samples, val_score: 0.347855: 100%|##########| 5/5 [00:00<00:00,  8.72it/s]\n"
     ]
    },
    {
     "name": "stdout",
     "output_type": "stream",
     "text": [
      "Training until validation scores don't improve for 100 rounds\n",
      "[100]\tcv_agg's valid binary_logloss: 0.971773 + 0.299887\n",
      "Early stopping, best iteration is:\n",
      "[1]\tcv_agg's valid binary_logloss: 0.971773 + 0.299887\n",
      "{'accuracy': 0.7222222222222222, 'balanced_accuracy': np.float64(0.7207792207792207), 'f1': np.float64(0.6666666666666666), 'precision': np.float64(0.625), 'recall': np.float64(0.7142857142857143), 'specificity': np.float64(0.7272727272727273), 'ROC_AUC': np.float64(0.7207792207792209), 'MCC': np.float64(0.4332001127219817)}\n"
     ]
    },
    {
     "name": "stderr",
     "output_type": "stream",
     "text": [
      "feature_fraction, val_score: 0.971773:  29%|##8       | 2/7 [00:00<00:00, 15.45it/s]"
     ]
    },
    {
     "name": "stdout",
     "output_type": "stream",
     "text": [
      "Training until validation scores don't improve for 100 rounds\n",
      "[100]\tcv_agg's valid binary_logloss: 0.971773 + 0.299887\n",
      "Early stopping, best iteration is:\n",
      "[1]\tcv_agg's valid binary_logloss: 0.971773 + 0.299887\n",
      "Training until validation scores don't improve for 100 rounds\n",
      "[100]\tcv_agg's valid binary_logloss: 0.971773 + 0.299887\n",
      "Early stopping, best iteration is:\n",
      "[1]\tcv_agg's valid binary_logloss: 0.971773 + 0.299887\n",
      "Training until validation scores don't improve for 100 rounds\n"
     ]
    },
    {
     "name": "stderr",
     "output_type": "stream",
     "text": [
      "feature_fraction, val_score: 0.971773:  71%|#######1  | 5/7 [00:00<00:00, 14.73it/s]"
     ]
    },
    {
     "name": "stdout",
     "output_type": "stream",
     "text": [
      "[100]\tcv_agg's valid binary_logloss: 0.971773 + 0.299887\n",
      "Early stopping, best iteration is:\n",
      "[1]\tcv_agg's valid binary_logloss: 0.971773 + 0.299887\n",
      "Training until validation scores don't improve for 100 rounds\n",
      "[100]\tcv_agg's valid binary_logloss: 0.971773 + 0.299887\n",
      "Early stopping, best iteration is:\n",
      "[1]\tcv_agg's valid binary_logloss: 0.971773 + 0.299887\n",
      "Training until validation scores don't improve for 100 rounds\n",
      "[100]\tcv_agg's valid binary_logloss: 0.971773 + 0.299887\n",
      "Early stopping, best iteration is:\n",
      "[1]\tcv_agg's valid binary_logloss: 0.971773 + 0.299887\n",
      "Training until validation scores don't improve for 100 rounds\n"
     ]
    },
    {
     "name": "stderr",
     "output_type": "stream",
     "text": [
      "feature_fraction, val_score: 0.971773: 100%|##########| 7/7 [00:00<00:00, 14.85it/s]\n"
     ]
    },
    {
     "name": "stdout",
     "output_type": "stream",
     "text": [
      "[100]\tcv_agg's valid binary_logloss: 0.971773 + 0.299887\n",
      "Early stopping, best iteration is:\n",
      "[1]\tcv_agg's valid binary_logloss: 0.971773 + 0.299887\n",
      "Training until validation scores don't improve for 100 rounds\n",
      "[100]\tcv_agg's valid binary_logloss: 0.971773 + 0.299887\n",
      "Early stopping, best iteration is:\n",
      "[1]\tcv_agg's valid binary_logloss: 0.971773 + 0.299887\n"
     ]
    },
    {
     "name": "stderr",
     "output_type": "stream",
     "text": [
      "num_leaves, val_score: 0.971773:   5%|5         | 1/20 [00:00<00:01, 12.56it/s]"
     ]
    },
    {
     "name": "stdout",
     "output_type": "stream",
     "text": [
      "Training until validation scores don't improve for 100 rounds\n",
      "[100]\tcv_agg's valid binary_logloss: 0.971773 + 0.299887\n",
      "Early stopping, best iteration is:\n",
      "[1]\tcv_agg's valid binary_logloss: 0.971773 + 0.299887\n",
      "Training until validation scores don't improve for 100 rounds\n"
     ]
    },
    {
     "name": "stderr",
     "output_type": "stream",
     "text": [
      "num_leaves, val_score: 0.971773:  10%|#         | 2/20 [00:00<00:01, 12.53it/s]"
     ]
    },
    {
     "name": "stdout",
     "output_type": "stream",
     "text": [
      "[100]\tcv_agg's valid binary_logloss: 0.971773 + 0.299887\n",
      "Early stopping, best iteration is:\n",
      "[1]\tcv_agg's valid binary_logloss: 0.971773 + 0.299887\n",
      "Training until validation scores don't improve for 100 rounds\n"
     ]
    },
    {
     "name": "stderr",
     "output_type": "stream",
     "text": [
      "num_leaves, val_score: 0.971773:  20%|##        | 4/20 [00:00<00:01, 11.92it/s]"
     ]
    },
    {
     "name": "stdout",
     "output_type": "stream",
     "text": [
      "[100]\tcv_agg's valid binary_logloss: 0.971773 + 0.299887\n",
      "Early stopping, best iteration is:\n",
      "[1]\tcv_agg's valid binary_logloss: 0.971773 + 0.299887\n",
      "Training until validation scores don't improve for 100 rounds\n",
      "[100]\tcv_agg's valid binary_logloss: 0.971773 + 0.299887\n",
      "Early stopping, best iteration is:\n",
      "[1]\tcv_agg's valid binary_logloss: 0.971773 + 0.299887\n"
     ]
    },
    {
     "name": "stderr",
     "output_type": "stream",
     "text": [
      "num_leaves, val_score: 0.971773:  25%|##5       | 5/20 [00:00<00:01, 11.92it/s]"
     ]
    },
    {
     "name": "stdout",
     "output_type": "stream",
     "text": [
      "Training until validation scores don't improve for 100 rounds\n",
      "[100]\tcv_agg's valid binary_logloss: 0.971773 + 0.299887\n",
      "Early stopping, best iteration is:\n",
      "[1]\tcv_agg's valid binary_logloss: 0.971773 + 0.299887\n"
     ]
    },
    {
     "name": "stderr",
     "output_type": "stream",
     "text": [
      "num_leaves, val_score: 0.971773:  30%|###       | 6/20 [00:00<00:01, 11.23it/s]"
     ]
    },
    {
     "name": "stdout",
     "output_type": "stream",
     "text": [
      "Training until validation scores don't improve for 100 rounds\n",
      "[100]\tcv_agg's valid binary_logloss: 0.971773 + 0.299887\n",
      "Early stopping, best iteration is:\n",
      "[1]\tcv_agg's valid binary_logloss: 0.971773 + 0.299887\n"
     ]
    },
    {
     "name": "stderr",
     "output_type": "stream",
     "text": [
      "num_leaves, val_score: 0.971773:  35%|###5      | 7/20 [00:00<00:01, 11.23it/s]"
     ]
    },
    {
     "name": "stdout",
     "output_type": "stream",
     "text": [
      "Training until validation scores don't improve for 100 rounds\n",
      "[100]\tcv_agg's valid binary_logloss: 0.971773 + 0.299887\n",
      "Early stopping, best iteration is:\n",
      "[1]\tcv_agg's valid binary_logloss: 0.971773 + 0.299887\n"
     ]
    },
    {
     "name": "stderr",
     "output_type": "stream",
     "text": [
      "num_leaves, val_score: 0.971773:  40%|####      | 8/20 [00:00<00:01, 11.34it/s]"
     ]
    },
    {
     "name": "stdout",
     "output_type": "stream",
     "text": [
      "Training until validation scores don't improve for 100 rounds\n",
      "[100]\tcv_agg's valid binary_logloss: 0.971773 + 0.299887\n",
      "Early stopping, best iteration is:\n",
      "[1]\tcv_agg's valid binary_logloss: 0.971773 + 0.299887\n",
      "Training until validation scores don't improve for 100 rounds\n"
     ]
    },
    {
     "name": "stderr",
     "output_type": "stream",
     "text": [
      "num_leaves, val_score: 0.971773:  45%|####5     | 9/20 [00:00<00:00, 11.34it/s]"
     ]
    },
    {
     "name": "stdout",
     "output_type": "stream",
     "text": [
      "[100]\tcv_agg's valid binary_logloss: 0.971773 + 0.299887\n",
      "Early stopping, best iteration is:\n",
      "[1]\tcv_agg's valid binary_logloss: 0.971773 + 0.299887\n",
      "Training until validation scores don't improve for 100 rounds\n"
     ]
    },
    {
     "name": "stderr",
     "output_type": "stream",
     "text": [
      "num_leaves, val_score: 0.971773:  55%|#####5    | 11/20 [00:00<00:00, 11.38it/s]"
     ]
    },
    {
     "name": "stdout",
     "output_type": "stream",
     "text": [
      "[100]\tcv_agg's valid binary_logloss: 0.971773 + 0.299887\n",
      "Early stopping, best iteration is:\n",
      "[1]\tcv_agg's valid binary_logloss: 0.971773 + 0.299887\n",
      "Training until validation scores don't improve for 100 rounds\n",
      "[100]\tcv_agg's valid binary_logloss: 0.971773 + 0.299887\n",
      "Early stopping, best iteration is:\n",
      "[1]\tcv_agg's valid binary_logloss: 0.971773 + 0.299887\n",
      "Training until validation scores don't improve for 100 rounds\n"
     ]
    },
    {
     "name": "stderr",
     "output_type": "stream",
     "text": [
      "num_leaves, val_score: 0.971773:  60%|######    | 12/20 [00:01<00:00, 11.80it/s]"
     ]
    },
    {
     "name": "stdout",
     "output_type": "stream",
     "text": [
      "[100]\tcv_agg's valid binary_logloss: 0.971773 + 0.299887\n",
      "Early stopping, best iteration is:\n",
      "[1]\tcv_agg's valid binary_logloss: 0.971773 + 0.299887\n",
      "Training until validation scores don't improve for 100 rounds\n"
     ]
    },
    {
     "name": "stderr",
     "output_type": "stream",
     "text": [
      "num_leaves, val_score: 0.971773:  70%|#######   | 14/20 [00:01<00:00, 11.87it/s]"
     ]
    },
    {
     "name": "stdout",
     "output_type": "stream",
     "text": [
      "[100]\tcv_agg's valid binary_logloss: 0.971773 + 0.299887\n",
      "Early stopping, best iteration is:\n",
      "[1]\tcv_agg's valid binary_logloss: 0.971773 + 0.299887\n",
      "Training until validation scores don't improve for 100 rounds\n",
      "[100]\tcv_agg's valid binary_logloss: 0.971773 + 0.299887\n",
      "Early stopping, best iteration is:\n",
      "[1]\tcv_agg's valid binary_logloss: 0.971773 + 0.299887\n"
     ]
    },
    {
     "name": "stderr",
     "output_type": "stream",
     "text": [
      "num_leaves, val_score: 0.971773:  75%|#######5  | 15/20 [00:01<00:00, 11.87it/s]"
     ]
    },
    {
     "name": "stdout",
     "output_type": "stream",
     "text": [
      "Training until validation scores don't improve for 100 rounds\n",
      "[100]\tcv_agg's valid binary_logloss: 0.971773 + 0.299887\n",
      "Early stopping, best iteration is:\n",
      "[1]\tcv_agg's valid binary_logloss: 0.971773 + 0.299887\n",
      "Training until validation scores don't improve for 100 rounds\n"
     ]
    },
    {
     "name": "stderr",
     "output_type": "stream",
     "text": [
      "num_leaves, val_score: 0.971773:  80%|########  | 16/20 [00:01<00:00, 11.98it/s]"
     ]
    },
    {
     "name": "stdout",
     "output_type": "stream",
     "text": [
      "[100]\tcv_agg's valid binary_logloss: 0.971773 + 0.299887\n",
      "Early stopping, best iteration is:\n",
      "[1]\tcv_agg's valid binary_logloss: 0.971773 + 0.299887\n",
      "Training until validation scores don't improve for 100 rounds\n"
     ]
    },
    {
     "name": "stderr",
     "output_type": "stream",
     "text": [
      "num_leaves, val_score: 0.971773:  90%|######### | 18/20 [00:01<00:00, 12.16it/s]"
     ]
    },
    {
     "name": "stdout",
     "output_type": "stream",
     "text": [
      "[100]\tcv_agg's valid binary_logloss: 0.971773 + 0.299887\n",
      "Early stopping, best iteration is:\n",
      "[1]\tcv_agg's valid binary_logloss: 0.971773 + 0.299887\n",
      "Training until validation scores don't improve for 100 rounds\n",
      "[100]\tcv_agg's valid binary_logloss: 0.971773 + 0.299887\n",
      "Early stopping, best iteration is:\n",
      "[1]\tcv_agg's valid binary_logloss: 0.971773 + 0.299887\n",
      "Training until validation scores don't improve for 100 rounds\n"
     ]
    },
    {
     "name": "stderr",
     "output_type": "stream",
     "text": [
      "num_leaves, val_score: 0.971773:  95%|#########5| 19/20 [00:01<00:00, 12.16it/s]"
     ]
    },
    {
     "name": "stdout",
     "output_type": "stream",
     "text": [
      "[100]\tcv_agg's valid binary_logloss: 0.971773 + 0.299887\n",
      "Early stopping, best iteration is:\n",
      "[1]\tcv_agg's valid binary_logloss: 0.971773 + 0.299887\n",
      "Training until validation scores don't improve for 100 rounds\n"
     ]
    },
    {
     "name": "stderr",
     "output_type": "stream",
     "text": [
      "num_leaves, val_score: 0.971773: 100%|##########| 20/20 [00:01<00:00, 11.90it/s]\n"
     ]
    },
    {
     "name": "stdout",
     "output_type": "stream",
     "text": [
      "[100]\tcv_agg's valid binary_logloss: 0.971773 + 0.299887\n",
      "Early stopping, best iteration is:\n",
      "[1]\tcv_agg's valid binary_logloss: 0.971773 + 0.299887\n"
     ]
    },
    {
     "name": "stderr",
     "output_type": "stream",
     "text": [
      "bagging, val_score: 0.971773:   0%|          | 0/10 [00:00<?, ?it/s]"
     ]
    },
    {
     "name": "stdout",
     "output_type": "stream",
     "text": [
      "Training until validation scores don't improve for 100 rounds\n",
      "[100]\tcv_agg's valid binary_logloss: 0.971773 + 0.299887\n",
      "Early stopping, best iteration is:\n",
      "[1]\tcv_agg's valid binary_logloss: 0.971773 + 0.299887\n"
     ]
    },
    {
     "name": "stderr",
     "output_type": "stream",
     "text": [
      "bagging, val_score: 0.971773:  10%|#         | 1/10 [00:00<00:00,  9.54it/s]"
     ]
    },
    {
     "name": "stdout",
     "output_type": "stream",
     "text": [
      "Training until validation scores don't improve for 100 rounds\n",
      "[100]\tcv_agg's valid binary_logloss: 0.971773 + 0.299887\n",
      "Early stopping, best iteration is:\n",
      "[1]\tcv_agg's valid binary_logloss: 0.971773 + 0.299887\n"
     ]
    },
    {
     "name": "stderr",
     "output_type": "stream",
     "text": [
      "bagging, val_score: 0.971773:  30%|###       | 3/10 [00:00<00:00, 10.26it/s]"
     ]
    },
    {
     "name": "stdout",
     "output_type": "stream",
     "text": [
      "Training until validation scores don't improve for 100 rounds\n",
      "[100]\tcv_agg's valid binary_logloss: 0.971773 + 0.299887\n",
      "Early stopping, best iteration is:\n",
      "[1]\tcv_agg's valid binary_logloss: 0.971773 + 0.299887\n"
     ]
    },
    {
     "name": "stderr",
     "output_type": "stream",
     "text": [
      "bagging, val_score: 0.971773:  40%|####      | 4/10 [00:00<00:00, 10.26it/s]"
     ]
    },
    {
     "name": "stdout",
     "output_type": "stream",
     "text": [
      "Training until validation scores don't improve for 100 rounds\n",
      "[100]\tcv_agg's valid binary_logloss: 0.971773 + 0.299887\n",
      "Early stopping, best iteration is:\n",
      "[1]\tcv_agg's valid binary_logloss: 0.971773 + 0.299887\n",
      "Training until validation scores don't improve for 100 rounds\n"
     ]
    },
    {
     "name": "stderr",
     "output_type": "stream",
     "text": [
      "bagging, val_score: 0.971773:  50%|#####     | 5/10 [00:00<00:00, 10.91it/s]"
     ]
    },
    {
     "name": "stdout",
     "output_type": "stream",
     "text": [
      "[100]\tcv_agg's valid binary_logloss: 0.971773 + 0.299887\n",
      "Early stopping, best iteration is:\n",
      "[1]\tcv_agg's valid binary_logloss: 0.971773 + 0.299887\n",
      "Training until validation scores don't improve for 100 rounds\n"
     ]
    },
    {
     "name": "stderr",
     "output_type": "stream",
     "text": [
      "bagging, val_score: 0.971773:  60%|######    | 6/10 [00:00<00:00, 10.91it/s]"
     ]
    },
    {
     "name": "stdout",
     "output_type": "stream",
     "text": [
      "[100]\tcv_agg's valid binary_logloss: 0.971773 + 0.299887\n",
      "Early stopping, best iteration is:\n",
      "[1]\tcv_agg's valid binary_logloss: 0.971773 + 0.299887\n",
      "Training until validation scores don't improve for 100 rounds\n",
      "[100]\tcv_agg's valid binary_logloss: 0.971773 + 0.299887\n",
      "Early stopping, best iteration is:\n",
      "[1]\tcv_agg's valid binary_logloss: 0.971773 + 0.299887\n"
     ]
    },
    {
     "name": "stderr",
     "output_type": "stream",
     "text": [
      "bagging, val_score: 0.971773:  70%|#######   | 7/10 [00:00<00:00, 10.82it/s]"
     ]
    },
    {
     "name": "stdout",
     "output_type": "stream",
     "text": [
      "Training until validation scores don't improve for 100 rounds\n",
      "[100]\tcv_agg's valid binary_logloss: 0.971773 + 0.299887\n",
      "Early stopping, best iteration is:\n",
      "[1]\tcv_agg's valid binary_logloss: 0.971773 + 0.299887\n"
     ]
    },
    {
     "name": "stderr",
     "output_type": "stream",
     "text": [
      "bagging, val_score: 0.971773:  80%|########  | 8/10 [00:00<00:00, 10.82it/s]"
     ]
    },
    {
     "name": "stdout",
     "output_type": "stream",
     "text": [
      "Training until validation scores don't improve for 100 rounds\n",
      "[100]\tcv_agg's valid binary_logloss: 0.971773 + 0.299887\n",
      "Early stopping, best iteration is:\n",
      "[1]\tcv_agg's valid binary_logloss: 0.971773 + 0.299887\n"
     ]
    },
    {
     "name": "stderr",
     "output_type": "stream",
     "text": [
      "bagging, val_score: 0.971773: 100%|##########| 10/10 [00:00<00:00, 10.26it/s]\n"
     ]
    },
    {
     "name": "stdout",
     "output_type": "stream",
     "text": [
      "Training until validation scores don't improve for 100 rounds\n",
      "[100]\tcv_agg's valid binary_logloss: 0.971773 + 0.299887\n",
      "Early stopping, best iteration is:\n",
      "[1]\tcv_agg's valid binary_logloss: 0.971773 + 0.299887\n"
     ]
    },
    {
     "name": "stderr",
     "output_type": "stream",
     "text": [
      "feature_fraction_stage2, val_score: 0.971773:  33%|###3      | 1/3 [00:00<00:00, 14.73it/s]"
     ]
    },
    {
     "name": "stdout",
     "output_type": "stream",
     "text": [
      "Training until validation scores don't improve for 100 rounds\n",
      "[100]\tcv_agg's valid binary_logloss: 0.971773 + 0.299887\n",
      "Early stopping, best iteration is:\n",
      "[1]\tcv_agg's valid binary_logloss: 0.971773 + 0.299887\n",
      "Training until validation scores don't improve for 100 rounds\n"
     ]
    },
    {
     "name": "stderr",
     "output_type": "stream",
     "text": [
      "feature_fraction_stage2, val_score: 0.971773:  67%|######6   | 2/3 [00:00<00:00, 12.57it/s]"
     ]
    },
    {
     "name": "stdout",
     "output_type": "stream",
     "text": [
      "[100]\tcv_agg's valid binary_logloss: 0.971773 + 0.299887\n",
      "Early stopping, best iteration is:\n",
      "[1]\tcv_agg's valid binary_logloss: 0.971773 + 0.299887\n",
      "Training until validation scores don't improve for 100 rounds\n"
     ]
    },
    {
     "name": "stderr",
     "output_type": "stream",
     "text": [
      "feature_fraction_stage2, val_score: 0.971773: 100%|##########| 3/3 [00:00<00:00, 12.99it/s]\n"
     ]
    },
    {
     "name": "stdout",
     "output_type": "stream",
     "text": [
      "[100]\tcv_agg's valid binary_logloss: 0.971773 + 0.299887\n",
      "Early stopping, best iteration is:\n",
      "[1]\tcv_agg's valid binary_logloss: 0.971773 + 0.299887\n"
     ]
    },
    {
     "name": "stderr",
     "output_type": "stream",
     "text": [
      "regularization_factors, val_score: 0.971773:   5%|5         | 1/20 [00:00<00:01, 10.67it/s]"
     ]
    },
    {
     "name": "stdout",
     "output_type": "stream",
     "text": [
      "Training until validation scores don't improve for 100 rounds\n",
      "[100]\tcv_agg's valid binary_logloss: 0.971773 + 0.299887\n",
      "Early stopping, best iteration is:\n",
      "[1]\tcv_agg's valid binary_logloss: 0.971773 + 0.299887\n"
     ]
    },
    {
     "name": "stderr",
     "output_type": "stream",
     "text": [
      "regularization_factors, val_score: 0.971773:   5%|5         | 1/20 [00:00<00:03,  5.32it/s]"
     ]
    },
    {
     "name": "stdout",
     "output_type": "stream",
     "text": [
      "Training until validation scores don't improve for 100 rounds\n",
      "[100]\tcv_agg's valid binary_logloss: 0.971773 + 0.299887\n",
      "Early stopping, best iteration is:\n",
      "[1]\tcv_agg's valid binary_logloss: 0.971773 + 0.299887\n"
     ]
    },
    {
     "name": "stderr",
     "output_type": "stream",
     "text": [
      "regularization_factors, val_score: 0.971773:  15%|#5        | 3/20 [00:00<00:01, 10.54it/s]"
     ]
    },
    {
     "name": "stdout",
     "output_type": "stream",
     "text": [
      "Training until validation scores don't improve for 100 rounds\n",
      "[100]\tcv_agg's valid binary_logloss: 0.971773 + 0.299887\n",
      "Early stopping, best iteration is:\n",
      "[1]\tcv_agg's valid binary_logloss: 0.971773 + 0.299887\n",
      "Training until validation scores don't improve for 100 rounds\n"
     ]
    },
    {
     "name": "stderr",
     "output_type": "stream",
     "text": [
      "regularization_factors, val_score: 0.971773:  20%|##        | 4/20 [00:00<00:01, 11.82it/s]"
     ]
    },
    {
     "name": "stdout",
     "output_type": "stream",
     "text": [
      "[100]\tcv_agg's valid binary_logloss: 0.971773 + 0.299887\n",
      "Early stopping, best iteration is:\n",
      "[1]\tcv_agg's valid binary_logloss: 0.971773 + 0.299887\n",
      "Training until validation scores don't improve for 100 rounds\n"
     ]
    },
    {
     "name": "stderr",
     "output_type": "stream",
     "text": [
      "regularization_factors, val_score: 0.971773:  30%|###       | 6/20 [00:00<00:01, 12.63it/s]"
     ]
    },
    {
     "name": "stdout",
     "output_type": "stream",
     "text": [
      "[100]\tcv_agg's valid binary_logloss: 0.971773 + 0.299887\n",
      "Early stopping, best iteration is:\n",
      "[1]\tcv_agg's valid binary_logloss: 0.971773 + 0.299887\n",
      "Training until validation scores don't improve for 100 rounds\n",
      "[100]\tcv_agg's valid binary_logloss: 0.971773 + 0.299887\n",
      "Early stopping, best iteration is:\n",
      "[1]\tcv_agg's valid binary_logloss: 0.971773 + 0.299887\n",
      "Training until validation scores don't improve for 100 rounds\n"
     ]
    },
    {
     "name": "stderr",
     "output_type": "stream",
     "text": [
      "regularization_factors, val_score: 0.971773:  35%|###5      | 7/20 [00:00<00:01, 12.63it/s]"
     ]
    },
    {
     "name": "stdout",
     "output_type": "stream",
     "text": [
      "[100]\tcv_agg's valid binary_logloss: 0.971773 + 0.299887\n",
      "Early stopping, best iteration is:\n",
      "[1]\tcv_agg's valid binary_logloss: 0.971773 + 0.299887\n",
      "Training until validation scores don't improve for 100 rounds\n"
     ]
    },
    {
     "name": "stderr",
     "output_type": "stream",
     "text": [
      "regularization_factors, val_score: 0.971773:  45%|####5     | 9/20 [00:00<00:00, 12.44it/s]"
     ]
    },
    {
     "name": "stdout",
     "output_type": "stream",
     "text": [
      "[100]\tcv_agg's valid binary_logloss: 0.971773 + 0.299887\n",
      "Early stopping, best iteration is:\n",
      "[1]\tcv_agg's valid binary_logloss: 0.971773 + 0.299887\n",
      "Training until validation scores don't improve for 100 rounds\n",
      "[100]\tcv_agg's valid binary_logloss: 0.971773 + 0.299887\n",
      "Early stopping, best iteration is:\n",
      "[1]\tcv_agg's valid binary_logloss: 0.971773 + 0.299887\n",
      "Training until validation scores don't improve for 100 rounds\n"
     ]
    },
    {
     "name": "stderr",
     "output_type": "stream",
     "text": [
      "regularization_factors, val_score: 0.971773:  50%|#####     | 10/20 [00:00<00:00, 12.44it/s]"
     ]
    },
    {
     "name": "stdout",
     "output_type": "stream",
     "text": [
      "[100]\tcv_agg's valid binary_logloss: 0.971773 + 0.299887\n",
      "Early stopping, best iteration is:\n",
      "[1]\tcv_agg's valid binary_logloss: 0.971773 + 0.299887\n"
     ]
    },
    {
     "name": "stderr",
     "output_type": "stream",
     "text": [
      "regularization_factors, val_score: 0.971773:  55%|#####5    | 11/20 [00:00<00:00, 12.44it/s]"
     ]
    },
    {
     "name": "stdout",
     "output_type": "stream",
     "text": [
      "Training until validation scores don't improve for 100 rounds\n",
      "[100]\tcv_agg's valid binary_logloss: 0.971773 + 0.299887\n",
      "Early stopping, best iteration is:\n",
      "[1]\tcv_agg's valid binary_logloss: 0.971773 + 0.299887\n",
      "Training until validation scores don't improve for 100 rounds\n",
      "[100]\tcv_agg's valid binary_logloss: 0.971773 + 0.299887\n",
      "Early stopping, best iteration is:\n",
      "[1]\tcv_agg's valid binary_logloss: 0.971773 + 0.299887\n"
     ]
    },
    {
     "name": "stderr",
     "output_type": "stream",
     "text": [
      "regularization_factors, val_score: 0.971773:  60%|######    | 12/20 [00:00<00:00, 12.12it/s]"
     ]
    },
    {
     "name": "stdout",
     "output_type": "stream",
     "text": [
      "Training until validation scores don't improve for 100 rounds"
     ]
    },
    {
     "name": "stderr",
     "output_type": "stream",
     "text": [
      "regularization_factors, val_score: 0.971773:  70%|#######   | 14/20 [00:01<00:00, 11.84it/s]"
     ]
    },
    {
     "name": "stdout",
     "output_type": "stream",
     "text": [
      "\n",
      "[100]\tcv_agg's valid binary_logloss: 0.971773 + 0.299887\n",
      "Early stopping, best iteration is:\n",
      "[1]\tcv_agg's valid binary_logloss: 0.971773 + 0.299887\n",
      "Training until validation scores don't improve for 100 rounds\n",
      "[100]\tcv_agg's valid binary_logloss: 0.971773 + 0.299887\n",
      "Early stopping, best iteration is:\n",
      "[1]\tcv_agg's valid binary_logloss: 0.971773 + 0.299887\n",
      "Training until validation scores don't improve for 100 rounds\n"
     ]
    },
    {
     "name": "stderr",
     "output_type": "stream",
     "text": [
      "regularization_factors, val_score: 0.971773:  85%|########5 | 17/20 [00:01<00:00, 12.09it/s]"
     ]
    },
    {
     "name": "stdout",
     "output_type": "stream",
     "text": [
      "[100]\tcv_agg's valid binary_logloss: 0.971773 + 0.299887\n",
      "Early stopping, best iteration is:\n",
      "[1]\tcv_agg's valid binary_logloss: 0.971773 + 0.299887\n",
      "Training until validation scores don't improve for 100 rounds\n",
      "[100]\tcv_agg's valid binary_logloss: 0.971773 + 0.299887\n",
      "Early stopping, best iteration is:\n",
      "[1]\tcv_agg's valid binary_logloss: 0.971773 + 0.299887\n",
      "Training until validation scores don't improve for 100 rounds\n",
      "[100]\tcv_agg's valid binary_logloss: 0.971773 + 0.299887\n",
      "Early stopping, best iteration is:\n",
      "[1]\tcv_agg's valid binary_logloss: 0.971773 + 0.299887\n",
      "Training until validation scores don't improve for 100 rounds\n"
     ]
    },
    {
     "name": "stderr",
     "output_type": "stream",
     "text": [
      "regularization_factors, val_score: 0.971773: 100%|##########| 20/20 [00:01<00:00, 12.24it/s]\n"
     ]
    },
    {
     "name": "stdout",
     "output_type": "stream",
     "text": [
      "[100]\tcv_agg's valid binary_logloss: 0.971773 + 0.299887\n",
      "Early stopping, best iteration is:\n",
      "[1]\tcv_agg's valid binary_logloss: 0.971773 + 0.299887\n",
      "Training until validation scores don't improve for 100 rounds\n",
      "[100]\tcv_agg's valid binary_logloss: 0.971773 + 0.299887\n",
      "Early stopping, best iteration is:\n",
      "[1]\tcv_agg's valid binary_logloss: 0.971773 + 0.299887\n",
      "Training until validation scores don't improve for 100 rounds\n",
      "[100]\tcv_agg's valid binary_logloss: 0.971773 + 0.299887\n",
      "Early stopping, best iteration is:\n",
      "[1]\tcv_agg's valid binary_logloss: 0.971773 + 0.299887\n"
     ]
    },
    {
     "name": "stderr",
     "output_type": "stream",
     "text": [
      "min_child_samples, val_score: 0.971773:   0%|          | 0/5 [00:00<?, ?it/s]"
     ]
    },
    {
     "name": "stdout",
     "output_type": "stream",
     "text": [
      "Training until validation scores don't improve for 100 rounds\n"
     ]
    },
    {
     "name": "stderr",
     "output_type": "stream",
     "text": [
      "min_child_samples, val_score: 0.971773:  40%|####      | 2/5 [00:00<00:00, 14.68it/s]"
     ]
    },
    {
     "name": "stdout",
     "output_type": "stream",
     "text": [
      "[100]\tcv_agg's valid binary_logloss: 0.971773 + 0.299887\n",
      "Early stopping, best iteration is:\n",
      "[1]\tcv_agg's valid binary_logloss: 0.971773 + 0.299887\n",
      "Training until validation scores don't improve for 100 rounds\n",
      "[100]\tcv_agg's valid binary_logloss: 0.971773 + 0.299887\n",
      "Early stopping, best iteration is:\n",
      "[1]\tcv_agg's valid binary_logloss: 0.971773 + 0.299887\n",
      "Training until validation scores don't improve for 100 rounds\n"
     ]
    },
    {
     "name": "stderr",
     "output_type": "stream",
     "text": [
      "min_child_samples, val_score: 0.685492:  80%|########  | 4/5 [00:00<00:00,  9.35it/s]"
     ]
    },
    {
     "name": "stdout",
     "output_type": "stream",
     "text": [
      "[100]\tcv_agg's valid binary_logloss: 1.70547 + 0.749582\n",
      "Early stopping, best iteration is:\n",
      "[13]\tcv_agg's valid binary_logloss: 0.685492 + 0.213887\n",
      "Training until validation scores don't improve for 100 rounds\n",
      "[100]\tcv_agg's valid binary_logloss: 0.83269 + 0.4117\n",
      "Early stopping, best iteration is:\n",
      "[22]\tcv_agg's valid binary_logloss: 0.697467 + 0.259239\n",
      "Training until validation scores don't improve for 100 rounds\n",
      "[100]\tcv_agg's valid binary_logloss: 0.971773 + 0.299887\n",
      "Early stopping, best iteration is:\n",
      "[1]\tcv_agg's valid binary_logloss: 0.971773 + 0.299887\n"
     ]
    },
    {
     "name": "stderr",
     "output_type": "stream",
     "text": [
      "min_child_samples, val_score: 0.685492: 100%|##########| 5/5 [00:00<00:00, 10.65it/s]\n"
     ]
    },
    {
     "name": "stdout",
     "output_type": "stream",
     "text": [
      "{'accuracy': 0.6666666666666666, 'balanced_accuracy': np.float64(0.6233766233766234), 'f1': np.float64(0.5), 'precision': np.float64(0.6), 'recall': np.float64(0.42857142857142855), 'specificity': np.float64(0.8181818181818182), 'ROC_AUC': np.float64(0.6233766233766234), 'MCC': np.float64(0.26856632724128343)}\n",
      "    accuracy: 0.6852 +- 0.0262\n",
      "    balanced_accuracy: 0.6689 +- 0.0400\n",
      "    f1: 0.5972 +- 0.0708\n",
      "    precision: 0.6167 +- 0.0118\n",
      "    recall: 0.5893 +- 0.1193\n",
      "    specificity: 0.7485 +- 0.0505\n",
      "    ROC_AUC: 0.6689 +- 0.0400\n",
      "    MCC: 0.3423 +- 0.0683\n",
      "\n"
     ]
    }
   ],
   "source": [
    "results_directory = os.path.join(\".\", MAIN_RESULTS_DIR, \"psykose\")\n",
    "\n",
    "for part in [\"full_24h\", \"night\", \"day\"]:\n",
    "    print(f\"PART: {part}\")\n",
    "    \n",
    "    X = datasets[part]\n",
    "    \n",
    "    for clf_type in [\"GBM\"]: \n",
    "        print(f\"  {clf_type}\")\n",
    "        folds = StratifiedKFold(n_splits=3, shuffle=True, random_state=0)\n",
    "        \n",
    "        test_scores = []\n",
    "        for train_idx, test_idx in folds.split(X, y):\n",
    "            X_train, X_test = X[train_idx], X[test_idx]\n",
    "            y_train, y_test = y[train_idx], y[test_idx]\n",
    "            \n",
    "            X_train, X_test = variance_thresholding(X_train, X_test, threshold=0.05)\n",
    "            X_train, X_test = standardize(X_train, X_test)\n",
    "            \n",
    "            if clf_type == \"GBM\":\n",
    "                clf = lightgbm_fit_binary(X_train, y_train)\n",
    "            else:\n",
    "                grid_search = GridSearchCV(\n",
    "                    estimator=classifiers[clf_type], \n",
    "                    param_grid=param_grids[clf_type], \n",
    "                    scoring=\"accuracy\",\n",
    "                    n_jobs=-1,\n",
    "                    refit=True,\n",
    "                    cv=LeaveOneOut()\n",
    "                )\n",
    "                grid_search.fit(X_train, y_train)\n",
    "            \n",
    "                clf = grid_search.best_estimator_\n",
    "            \n",
    "            metrics = calculate_metrics(clf, X_test, y_test)\n",
    "            print(metrics)\n",
    "            test_scores.append(metrics)\n",
    "        \n",
    "        pd.DataFrame.from_records(test_scores).to_csv(os.path.join(results_directory, f\"_test_scores_{day_night_format}_{part}_{clf_type}.csv\"), index=False)\n",
    "        final_scores = calculate_metrics_statistics(test_scores)\n",
    "        df = pd.DataFrame([(key,) + values for key, values in final_scores.items()],\n",
    "                      columns=['Index', 'Mean', 'Stddev']).set_index('Index')\n",
    "        df.to_csv(os.path.join(results_directory, f\"_final_scores_{day_night_format}_{part}_{clf_type}.csv\"), index=False)\n",
    "        \n",
    "        for metric, (mean, stddev) in final_scores.items():\n",
    "            print(f\"    {metric}: {mean:.4f} +- {stddev:.4f}\")\n",
    "        \n",
    "        print()"
   ]
  },
  {
   "cell_type": "code",
   "execution_count": 23,
   "id": "61308fa0438085ce",
   "metadata": {},
   "outputs": [
    {
     "data": {
      "text/plain": [
       "'6_22'"
      ]
     },
     "execution_count": 23,
     "metadata": {},
     "output_type": "execute_result"
    }
   ],
   "source": [
    "day_night_format"
   ]
  },
  {
   "cell_type": "code",
   "execution_count": null,
   "id": "7e0a314b-2fea-4d1c-a121-dc6ed82796b2",
   "metadata": {},
   "outputs": [],
   "source": []
  }
 ],
 "metadata": {
  "kernelspec": {
   "display_name": "Python 3 (ipykernel)",
   "language": "python",
   "name": "python3"
  },
  "language_info": {
   "codemirror_mode": {
    "name": "ipython",
    "version": 3
   },
   "file_extension": ".py",
   "mimetype": "text/x-python",
   "name": "python",
   "nbconvert_exporter": "python",
   "pygments_lexer": "ipython3",
   "version": "3.10.8"
  }
 },
 "nbformat": 4,
 "nbformat_minor": 5
}
